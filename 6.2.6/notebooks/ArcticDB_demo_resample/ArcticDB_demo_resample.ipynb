{
 "cells": [
  {
   "cell_type": "markdown",
   "id": "0c848d76-a292-45a9-b297-314b120c0d47",
   "metadata": {},
   "source": [
    "<center><img src=\"data:image/png;base64,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\"/>\n",
    "</center>"
   ]
  },
  {
   "cell_type": "markdown",
   "id": "66fd9cae-39d0-4555-9c08-9f443bce8894",
   "metadata": {},
   "source": [
    "# ArcticDB Resample Demo\n",
    "\n",
    "This demo notebook showcases the high-performance resample capability of ArcticDB.\n",
    "\n",
    "This is what you need to know about it:\n",
    "\n",
    "* It runs on-the-fly as part of the read\n",
    "* This makes it much more efficient than Pandas on large datasets\n",
    "* The usage is similar to the Pandas resample function\n",
    "* You can apply multiple aggregators to each column\n",
    "* It can be used for downsampling high frequency data and generating \"bar\" data (see example 4)"
   ]
  },
  {
   "cell_type": "markdown",
   "id": "ae923ddb-02ed-49a9-aa47-a87cdf0ccff7",
   "metadata": {},
   "source": [
    "## Setup"
   ]
  },
  {
   "cell_type": "code",
   "execution_count": null,
   "id": "844205d7-65af-4164-bdf5-1a6db15f8927",
   "metadata": {},
   "outputs": [],
   "source": [
    "!pip install arcticdb"
   ]
  },
  {
   "cell_type": "code",
   "execution_count": 2,
   "id": "395e7b38-6e1f-495f-8940-87462c6e8eb5",
   "metadata": {},
   "outputs": [],
   "source": [
    "import numpy as np\n",
    "import pandas as pd\n",
    "import arcticdb as adb"
   ]
  },
  {
   "cell_type": "code",
   "execution_count": 3,
   "id": "85d940e6-c8f5-4080-87a7-f8a635960c40",
   "metadata": {},
   "outputs": [],
   "source": [
    "# object store\n",
    "arctic = adb.Arctic(\"lmdb://arcticdb_resample\")"
   ]
  },
  {
   "cell_type": "code",
   "execution_count": 4,
   "id": "b29f9e15-88de-4d3d-b461-82e560249b54",
   "metadata": {},
   "outputs": [],
   "source": [
    "# library\n",
    "lib = arctic.get_library('resample', create_if_missing=True)"
   ]
  },
  {
   "cell_type": "markdown",
   "id": "652ae833-b07d-4770-9dd5-fb9065816d50",
   "metadata": {},
   "source": [
    "## Create Some Data\n",
    "\n",
    "* timeseries with 12,000,000 rows and a 1-second index\n",
    "* int, float, string columns\n",
    "* write the data into ArcticDB"
   ]
  },
  {
   "cell_type": "code",
   "execution_count": 5,
   "id": "64b0c0d9-ceb2-486e-9511-c02984cc7054",
   "metadata": {},
   "outputs": [],
   "source": [
    "# data for resampling\n",
    "index = pd.date_range(\"1990-01-01\", periods=12_000_000, freq=\"s\")\n",
    "int_data = np.arange(len(index), dtype=np.uint64)\n",
    "float_data = np.round(np.random.uniform(95., 105., len(index)), 3)\n",
    "letters = ['a','b','c','d','e','f','g']\n",
    "mkt_data = pd.DataFrame(\n",
    "    index=index,\n",
    "    data={\n",
    "        \"id\": int_data,\n",
    "        \"price\": float_data,\n",
    "        \"category\": (letters*(len(index)//len(letters) + 1))[:len(index)]\n",
    "    }\n",
    ")"
   ]
  },
  {
   "cell_type": "code",
   "execution_count": 6,
   "id": "3cc7b33f-ecb0-4588-a9ee-0bfaa4de42e1",
   "metadata": {},
   "outputs": [
    {
     "data": {
      "text/html": [
       "<div>\n",
       "<style scoped>\n",
       "    .dataframe tbody tr th:only-of-type {\n",
       "        vertical-align: middle;\n",
       "    }\n",
       "\n",
       "    .dataframe tbody tr th {\n",
       "        vertical-align: top;\n",
       "    }\n",
       "\n",
       "    .dataframe thead th {\n",
       "        text-align: right;\n",
       "    }\n",
       "</style>\n",
       "<table border=\"1\" class=\"dataframe\">\n",
       "  <thead>\n",
       "    <tr style=\"text-align: right;\">\n",
       "      <th></th>\n",
       "      <th>id</th>\n",
       "      <th>price</th>\n",
       "      <th>category</th>\n",
       "    </tr>\n",
       "  </thead>\n",
       "  <tbody>\n",
       "    <tr>\n",
       "      <th>1990-01-01 00:00:00</th>\n",
       "      <td>0</td>\n",
       "      <td>95.176</td>\n",
       "      <td>a</td>\n",
       "    </tr>\n",
       "    <tr>\n",
       "      <th>1990-01-01 00:00:01</th>\n",
       "      <td>1</td>\n",
       "      <td>97.872</td>\n",
       "      <td>b</td>\n",
       "    </tr>\n",
       "    <tr>\n",
       "      <th>1990-01-01 00:00:02</th>\n",
       "      <td>2</td>\n",
       "      <td>104.930</td>\n",
       "      <td>c</td>\n",
       "    </tr>\n",
       "    <tr>\n",
       "      <th>1990-01-01 00:00:03</th>\n",
       "      <td>3</td>\n",
       "      <td>103.573</td>\n",
       "      <td>d</td>\n",
       "    </tr>\n",
       "    <tr>\n",
       "      <th>1990-01-01 00:00:04</th>\n",
       "      <td>4</td>\n",
       "      <td>97.052</td>\n",
       "      <td>e</td>\n",
       "    </tr>\n",
       "    <tr>\n",
       "      <th>1990-01-01 00:00:05</th>\n",
       "      <td>5</td>\n",
       "      <td>103.435</td>\n",
       "      <td>f</td>\n",
       "    </tr>\n",
       "    <tr>\n",
       "      <th>1990-01-01 00:00:06</th>\n",
       "      <td>6</td>\n",
       "      <td>99.339</td>\n",
       "      <td>g</td>\n",
       "    </tr>\n",
       "    <tr>\n",
       "      <th>1990-01-01 00:00:07</th>\n",
       "      <td>7</td>\n",
       "      <td>103.358</td>\n",
       "      <td>a</td>\n",
       "    </tr>\n",
       "    <tr>\n",
       "      <th>1990-01-01 00:00:08</th>\n",
       "      <td>8</td>\n",
       "      <td>104.301</td>\n",
       "      <td>b</td>\n",
       "    </tr>\n",
       "    <tr>\n",
       "      <th>1990-01-01 00:00:09</th>\n",
       "      <td>9</td>\n",
       "      <td>104.651</td>\n",
       "      <td>c</td>\n",
       "    </tr>\n",
       "  </tbody>\n",
       "</table>\n",
       "</div>"
      ],
      "text/plain": [
       "                     id    price category\n",
       "1990-01-01 00:00:00   0   95.176        a\n",
       "1990-01-01 00:00:01   1   97.872        b\n",
       "1990-01-01 00:00:02   2  104.930        c\n",
       "1990-01-01 00:00:03   3  103.573        d\n",
       "1990-01-01 00:00:04   4   97.052        e\n",
       "1990-01-01 00:00:05   5  103.435        f\n",
       "1990-01-01 00:00:06   6   99.339        g\n",
       "1990-01-01 00:00:07   7  103.358        a\n",
       "1990-01-01 00:00:08   8  104.301        b\n",
       "1990-01-01 00:00:09   9  104.651        c"
      ]
     },
     "execution_count": 6,
     "metadata": {},
     "output_type": "execute_result"
    }
   ],
   "source": [
    "# view the first 10 rows of the data\n",
    "mkt_data.head(10)"
   ]
  },
  {
   "cell_type": "code",
   "execution_count": 7,
   "id": "9811863f-4d77-4571-b84b-95b341751fcd",
   "metadata": {},
   "outputs": [
    {
     "data": {
      "text/plain": [
       "VersionedItem(symbol='market_data', library='resample', data=n/a, version=0, metadata=None, host='LMDB(path=~/arcticdb_resample)', timestamp=1718958796318913629)"
      ]
     },
     "execution_count": 7,
     "metadata": {},
     "output_type": "execute_result"
    }
   ],
   "source": [
    "# write the data into ArcticDB\n",
    "sym = 'market_data'\n",
    "lib.write(sym, mkt_data)"
   ]
  },
  {
   "cell_type": "markdown",
   "id": "ece26c4e-826f-48b1-918c-f2b1aff01ad4",
   "metadata": {},
   "source": [
    "## 1. Simple Resample\n",
    "\n",
    "* Resample to 1-minute\n",
    "* Use different aggregators\n",
    "* Resample can be thought of as a time-based groupby\n",
    "* The groups are all the rows within a time interval\n",
    "* Run also in Pandas to compare performance and results "
   ]
  },
  {
   "cell_type": "code",
   "execution_count": 8,
   "id": "c05c6a38-5326-407d-9588-8c562c5f0f66",
   "metadata": {},
   "outputs": [],
   "source": [
    "# frequency and aggregator params\n",
    "freq1 = '1min'\n",
    "aggs1 = {'id': 'max', 'price': 'last', 'category': 'count'}"
   ]
  },
  {
   "cell_type": "code",
   "execution_count": 9,
   "id": "1829312c-24ee-4da7-959d-a5465456fdcc",
   "metadata": {},
   "outputs": [
    {
     "name": "stdout",
     "output_type": "stream",
     "text": [
      "200000\n",
      "CPU times: user 684 ms, sys: 251 ms, total: 935 ms\n",
      "Wall time: 171 ms\n"
     ]
    },
    {
     "data": {
      "text/html": [
       "<div>\n",
       "<style scoped>\n",
       "    .dataframe tbody tr th:only-of-type {\n",
       "        vertical-align: middle;\n",
       "    }\n",
       "\n",
       "    .dataframe tbody tr th {\n",
       "        vertical-align: top;\n",
       "    }\n",
       "\n",
       "    .dataframe thead th {\n",
       "        text-align: right;\n",
       "    }\n",
       "</style>\n",
       "<table border=\"1\" class=\"dataframe\">\n",
       "  <thead>\n",
       "    <tr style=\"text-align: right;\">\n",
       "      <th></th>\n",
       "      <th>id</th>\n",
       "      <th>price</th>\n",
       "      <th>category</th>\n",
       "    </tr>\n",
       "  </thead>\n",
       "  <tbody>\n",
       "    <tr>\n",
       "      <th>1990-05-19 21:15:00</th>\n",
       "      <td>11999759</td>\n",
       "      <td>104.106</td>\n",
       "      <td>60</td>\n",
       "    </tr>\n",
       "    <tr>\n",
       "      <th>1990-05-19 21:16:00</th>\n",
       "      <td>11999819</td>\n",
       "      <td>104.456</td>\n",
       "      <td>60</td>\n",
       "    </tr>\n",
       "    <tr>\n",
       "      <th>1990-05-19 21:17:00</th>\n",
       "      <td>11999879</td>\n",
       "      <td>95.570</td>\n",
       "      <td>60</td>\n",
       "    </tr>\n",
       "    <tr>\n",
       "      <th>1990-05-19 21:18:00</th>\n",
       "      <td>11999939</td>\n",
       "      <td>103.967</td>\n",
       "      <td>60</td>\n",
       "    </tr>\n",
       "    <tr>\n",
       "      <th>1990-05-19 21:19:00</th>\n",
       "      <td>11999999</td>\n",
       "      <td>97.899</td>\n",
       "      <td>60</td>\n",
       "    </tr>\n",
       "  </tbody>\n",
       "</table>\n",
       "</div>"
      ],
      "text/plain": [
       "                           id    price  category\n",
       "1990-05-19 21:15:00  11999759  104.106        60\n",
       "1990-05-19 21:16:00  11999819  104.456        60\n",
       "1990-05-19 21:17:00  11999879   95.570        60\n",
       "1990-05-19 21:18:00  11999939  103.967        60\n",
       "1990-05-19 21:19:00  11999999   97.899        60"
      ]
     },
     "execution_count": 9,
     "metadata": {},
     "output_type": "execute_result"
    }
   ],
   "source": [
    "%%time\n",
    "# create the resample query and apply it on the read\n",
    "market_data_1min_df = lib.read(sym, lazy=True).resample(freq1).agg(aggs1).collect().data\n",
    "print(len(market_data_1min_df))\n",
    "market_data_1min_df.tail()"
   ]
  },
  {
   "cell_type": "code",
   "execution_count": 10,
   "id": "c8bfcc79-8cd6-4b13-aca9-cf52f4c56042",
   "metadata": {},
   "outputs": [
    {
     "name": "stdout",
     "output_type": "stream",
     "text": [
      "200000\n",
      "CPU times: user 1.6 s, sys: 401 ms, total: 2 s\n",
      "Wall time: 1.15 s\n"
     ]
    },
    {
     "data": {
      "text/html": [
       "<div>\n",
       "<style scoped>\n",
       "    .dataframe tbody tr th:only-of-type {\n",
       "        vertical-align: middle;\n",
       "    }\n",
       "\n",
       "    .dataframe tbody tr th {\n",
       "        vertical-align: top;\n",
       "    }\n",
       "\n",
       "    .dataframe thead th {\n",
       "        text-align: right;\n",
       "    }\n",
       "</style>\n",
       "<table border=\"1\" class=\"dataframe\">\n",
       "  <thead>\n",
       "    <tr style=\"text-align: right;\">\n",
       "      <th></th>\n",
       "      <th>id</th>\n",
       "      <th>price</th>\n",
       "      <th>category</th>\n",
       "    </tr>\n",
       "  </thead>\n",
       "  <tbody>\n",
       "    <tr>\n",
       "      <th>1990-05-19 21:15:00</th>\n",
       "      <td>11999759</td>\n",
       "      <td>104.106</td>\n",
       "      <td>60</td>\n",
       "    </tr>\n",
       "    <tr>\n",
       "      <th>1990-05-19 21:16:00</th>\n",
       "      <td>11999819</td>\n",
       "      <td>104.456</td>\n",
       "      <td>60</td>\n",
       "    </tr>\n",
       "    <tr>\n",
       "      <th>1990-05-19 21:17:00</th>\n",
       "      <td>11999879</td>\n",
       "      <td>95.570</td>\n",
       "      <td>60</td>\n",
       "    </tr>\n",
       "    <tr>\n",
       "      <th>1990-05-19 21:18:00</th>\n",
       "      <td>11999939</td>\n",
       "      <td>103.967</td>\n",
       "      <td>60</td>\n",
       "    </tr>\n",
       "    <tr>\n",
       "      <th>1990-05-19 21:19:00</th>\n",
       "      <td>11999999</td>\n",
       "      <td>97.899</td>\n",
       "      <td>60</td>\n",
       "    </tr>\n",
       "  </tbody>\n",
       "</table>\n",
       "</div>"
      ],
      "text/plain": [
       "                           id    price  category\n",
       "1990-05-19 21:15:00  11999759  104.106        60\n",
       "1990-05-19 21:16:00  11999819  104.456        60\n",
       "1990-05-19 21:17:00  11999879   95.570        60\n",
       "1990-05-19 21:18:00  11999939  103.967        60\n",
       "1990-05-19 21:19:00  11999999   97.899        60"
      ]
     },
     "execution_count": 10,
     "metadata": {},
     "output_type": "execute_result"
    }
   ],
   "source": [
    "%%time\n",
    "# read the full data set and resample in Pandas\n",
    "full_df = lib.read(sym).data\n",
    "market_data_1min_pd_df = full_df.resample(freq1).agg(aggs1)\n",
    "print(len(market_data_1min_pd_df))\n",
    "market_data_1min_pd_df.tail()"
   ]
  },
  {
   "cell_type": "markdown",
   "id": "e83c9467-e0d4-447c-bf1e-2ff91bb724ad",
   "metadata": {},
   "source": [
    "## 2. Multiple Aggregators per Column\n",
    "\n",
    "* Similar to NamedAgg in Pandas\n",
    "* Downsample to 5-minute frequency\n",
    "* Apply both max and last aggregators to the price column\n",
    "* For multiple aggregators, the syntax is `output_column_name: (input_column_name: aggregator)`"
   ]
  },
  {
   "cell_type": "code",
   "execution_count": 11,
   "id": "70d3765a-f8c8-4cf3-beaa-2cc7a469b358",
   "metadata": {},
   "outputs": [],
   "source": [
    "freq2 = '5min'\n",
    "aggs2 = {'id': 'max', 'price_last': ('price' ,'last'), 'price_count': ('price' ,'count'), 'category': 'first'}"
   ]
  },
  {
   "cell_type": "code",
   "execution_count": 12,
   "id": "8c31ec4b-8454-469d-8e31-8fefd0059bac",
   "metadata": {},
   "outputs": [
    {
     "name": "stdout",
     "output_type": "stream",
     "text": [
      "CPU times: user 1.07 s, sys: 415 ms, total: 1.49 s\n",
      "Wall time: 151 ms\n"
     ]
    },
    {
     "data": {
      "text/html": [
       "<div>\n",
       "<style scoped>\n",
       "    .dataframe tbody tr th:only-of-type {\n",
       "        vertical-align: middle;\n",
       "    }\n",
       "\n",
       "    .dataframe tbody tr th {\n",
       "        vertical-align: top;\n",
       "    }\n",
       "\n",
       "    .dataframe thead th {\n",
       "        text-align: right;\n",
       "    }\n",
       "</style>\n",
       "<table border=\"1\" class=\"dataframe\">\n",
       "  <thead>\n",
       "    <tr style=\"text-align: right;\">\n",
       "      <th></th>\n",
       "      <th>id</th>\n",
       "      <th>category</th>\n",
       "      <th>price_count</th>\n",
       "      <th>price_last</th>\n",
       "    </tr>\n",
       "  </thead>\n",
       "  <tbody>\n",
       "    <tr>\n",
       "      <th>1990-01-01 00:00:00</th>\n",
       "      <td>299</td>\n",
       "      <td>a</td>\n",
       "      <td>300</td>\n",
       "      <td>102.172</td>\n",
       "    </tr>\n",
       "    <tr>\n",
       "      <th>1990-01-01 00:05:00</th>\n",
       "      <td>599</td>\n",
       "      <td>g</td>\n",
       "      <td>300</td>\n",
       "      <td>101.450</td>\n",
       "    </tr>\n",
       "    <tr>\n",
       "      <th>1990-01-01 00:10:00</th>\n",
       "      <td>899</td>\n",
       "      <td>f</td>\n",
       "      <td>300</td>\n",
       "      <td>96.718</td>\n",
       "    </tr>\n",
       "    <tr>\n",
       "      <th>1990-01-01 00:15:00</th>\n",
       "      <td>1199</td>\n",
       "      <td>e</td>\n",
       "      <td>300</td>\n",
       "      <td>96.345</td>\n",
       "    </tr>\n",
       "    <tr>\n",
       "      <th>1990-01-01 00:20:00</th>\n",
       "      <td>1499</td>\n",
       "      <td>d</td>\n",
       "      <td>300</td>\n",
       "      <td>98.955</td>\n",
       "    </tr>\n",
       "    <tr>\n",
       "      <th>...</th>\n",
       "      <td>...</td>\n",
       "      <td>...</td>\n",
       "      <td>...</td>\n",
       "      <td>...</td>\n",
       "    </tr>\n",
       "    <tr>\n",
       "      <th>1990-05-19 20:55:00</th>\n",
       "      <td>11998799</td>\n",
       "      <td>d</td>\n",
       "      <td>300</td>\n",
       "      <td>100.277</td>\n",
       "    </tr>\n",
       "    <tr>\n",
       "      <th>1990-05-19 21:00:00</th>\n",
       "      <td>11999099</td>\n",
       "      <td>c</td>\n",
       "      <td>300</td>\n",
       "      <td>103.596</td>\n",
       "    </tr>\n",
       "    <tr>\n",
       "      <th>1990-05-19 21:05:00</th>\n",
       "      <td>11999399</td>\n",
       "      <td>b</td>\n",
       "      <td>300</td>\n",
       "      <td>96.182</td>\n",
       "    </tr>\n",
       "    <tr>\n",
       "      <th>1990-05-19 21:10:00</th>\n",
       "      <td>11999699</td>\n",
       "      <td>a</td>\n",
       "      <td>300</td>\n",
       "      <td>99.911</td>\n",
       "    </tr>\n",
       "    <tr>\n",
       "      <th>1990-05-19 21:15:00</th>\n",
       "      <td>11999999</td>\n",
       "      <td>g</td>\n",
       "      <td>300</td>\n",
       "      <td>97.899</td>\n",
       "    </tr>\n",
       "  </tbody>\n",
       "</table>\n",
       "<p>40000 rows × 4 columns</p>\n",
       "</div>"
      ],
      "text/plain": [
       "                           id category  price_count  price_last\n",
       "1990-01-01 00:00:00       299        a          300     102.172\n",
       "1990-01-01 00:05:00       599        g          300     101.450\n",
       "1990-01-01 00:10:00       899        f          300      96.718\n",
       "1990-01-01 00:15:00      1199        e          300      96.345\n",
       "1990-01-01 00:20:00      1499        d          300      98.955\n",
       "...                       ...      ...          ...         ...\n",
       "1990-05-19 20:55:00  11998799        d          300     100.277\n",
       "1990-05-19 21:00:00  11999099        c          300     103.596\n",
       "1990-05-19 21:05:00  11999399        b          300      96.182\n",
       "1990-05-19 21:10:00  11999699        a          300      99.911\n",
       "1990-05-19 21:15:00  11999999        g          300      97.899\n",
       "\n",
       "[40000 rows x 4 columns]"
      ]
     },
     "execution_count": 12,
     "metadata": {},
     "output_type": "execute_result"
    }
   ],
   "source": [
    "%%time\n",
    "lib.read(sym, lazy=True).resample(freq2).agg(aggs2).collect().data"
   ]
  },
  {
   "cell_type": "markdown",
   "id": "82ee0316-73a6-41e0-92c6-04c22cc449bb",
   "metadata": {},
   "source": [
    "## 3. Processing Pipeline: Chaining Operations\n",
    "\n",
    "* Downsample to 2.5-minutes frequency\n",
    "* Group the resampled data by the category column\n",
    "* Aggregate the category groups using mean"
   ]
  },
  {
   "cell_type": "code",
   "execution_count": 14,
   "id": "8d597ad7-56e7-4d11-830b-e77e0b3671f6",
   "metadata": {},
   "outputs": [
    {
     "name": "stdout",
     "output_type": "stream",
     "text": [
      "CPU times: user 1.12 s, sys: 309 ms, total: 1.43 s\n",
      "Wall time: 183 ms\n"
     ]
    },
    {
     "data": {
      "text/html": [
       "<div>\n",
       "<style scoped>\n",
       "    .dataframe tbody tr th:only-of-type {\n",
       "        vertical-align: middle;\n",
       "    }\n",
       "\n",
       "    .dataframe tbody tr th {\n",
       "        vertical-align: top;\n",
       "    }\n",
       "\n",
       "    .dataframe thead th {\n",
       "        text-align: right;\n",
       "    }\n",
       "</style>\n",
       "<table border=\"1\" class=\"dataframe\">\n",
       "  <thead>\n",
       "    <tr style=\"text-align: right;\">\n",
       "      <th></th>\n",
       "      <th>id</th>\n",
       "    </tr>\n",
       "    <tr>\n",
       "      <th>category</th>\n",
       "      <th></th>\n",
       "    </tr>\n",
       "  </thead>\n",
       "  <tbody>\n",
       "    <tr>\n",
       "      <th>a</th>\n",
       "      <td>5999700.0</td>\n",
       "    </tr>\n",
       "    <tr>\n",
       "      <th>b</th>\n",
       "      <td>5999925.0</td>\n",
       "    </tr>\n",
       "    <tr>\n",
       "      <th>d</th>\n",
       "      <td>5999850.0</td>\n",
       "    </tr>\n",
       "    <tr>\n",
       "      <th>e</th>\n",
       "      <td>6000075.0</td>\n",
       "    </tr>\n",
       "    <tr>\n",
       "      <th>f</th>\n",
       "      <td>5999775.0</td>\n",
       "    </tr>\n",
       "    <tr>\n",
       "      <th>g</th>\n",
       "      <td>6000000.0</td>\n",
       "    </tr>\n",
       "    <tr>\n",
       "      <th>c</th>\n",
       "      <td>6000150.0</td>\n",
       "    </tr>\n",
       "  </tbody>\n",
       "</table>\n",
       "</div>"
      ],
      "text/plain": [
       "                 id\n",
       "category           \n",
       "a         5999700.0\n",
       "b         5999925.0\n",
       "d         5999850.0\n",
       "e         6000075.0\n",
       "f         5999775.0\n",
       "g         6000000.0\n",
       "c         6000150.0"
      ]
     },
     "execution_count": 14,
     "metadata": {},
     "output_type": "execute_result"
    }
   ],
   "source": [
    "%%time\n",
    "lib.read(sym, lazy=True).resample('2min30s').agg({'id': 'min', 'category': 'first'}).groupby('category').agg({'id': 'mean'}).collect().data"
   ]
  },
  {
   "cell_type": "markdown",
   "id": "d3a9268e-f843-4bd6-a2f2-b4f51b50f0ce",
   "metadata": {},
   "source": [
    "## 4. Example: OHLC (Open High Low Close) Bars\n",
    "\n",
    "* Downsample to 5-minute frequency\n",
    "* Use multiple aggregators on the price column\n",
    "* This is a simple example of how to convert tick data to OHLC bar data"
   ]
  },
  {
   "cell_type": "code",
   "execution_count": 15,
   "id": "5e1bccab-77a9-42fa-9c33-60486498355f",
   "metadata": {},
   "outputs": [],
   "source": [
    "freq_ohlc = '5min'\n",
    "agg_ohlc = {\n",
    "    'open': ('price', 'first'),\n",
    "    'high': ('price', 'max'),\n",
    "    'low': ('price', 'min'),\n",
    "    'close': ('price', 'last')\n",
    "}"
   ]
  },
  {
   "cell_type": "code",
   "execution_count": 16,
   "id": "5a5abb8e-2de9-48a9-a0a7-7bd044a8064f",
   "metadata": {},
   "outputs": [
    {
     "name": "stdout",
     "output_type": "stream",
     "text": [
      "CPU times: user 1.26 s, sys: 492 ms, total: 1.75 s\n",
      "Wall time: 118 ms\n"
     ]
    }
   ],
   "source": [
    "%%time\n",
    "ohlc_5min_bars = lib.read(sym, lazy=True).resample(freq_ohlc).agg(agg_ohlc).collect().data"
   ]
  },
  {
   "cell_type": "code",
   "execution_count": 17,
   "id": "25d0d145-5f93-45ab-86ca-12e34c2be8c6",
   "metadata": {},
   "outputs": [
    {
     "data": {
      "text/html": [
       "<div>\n",
       "<style scoped>\n",
       "    .dataframe tbody tr th:only-of-type {\n",
       "        vertical-align: middle;\n",
       "    }\n",
       "\n",
       "    .dataframe tbody tr th {\n",
       "        vertical-align: top;\n",
       "    }\n",
       "\n",
       "    .dataframe thead th {\n",
       "        text-align: right;\n",
       "    }\n",
       "</style>\n",
       "<table border=\"1\" class=\"dataframe\">\n",
       "  <thead>\n",
       "    <tr style=\"text-align: right;\">\n",
       "      <th></th>\n",
       "      <th>close</th>\n",
       "      <th>low</th>\n",
       "      <th>high</th>\n",
       "      <th>open</th>\n",
       "    </tr>\n",
       "  </thead>\n",
       "  <tbody>\n",
       "    <tr>\n",
       "      <th>1990-01-01 00:00:00</th>\n",
       "      <td>102.172</td>\n",
       "      <td>95.076</td>\n",
       "      <td>104.992</td>\n",
       "      <td>95.176</td>\n",
       "    </tr>\n",
       "    <tr>\n",
       "      <th>1990-01-01 00:05:00</th>\n",
       "      <td>101.450</td>\n",
       "      <td>95.008</td>\n",
       "      <td>104.999</td>\n",
       "      <td>98.520</td>\n",
       "    </tr>\n",
       "    <tr>\n",
       "      <th>1990-01-01 00:10:00</th>\n",
       "      <td>96.718</td>\n",
       "      <td>95.053</td>\n",
       "      <td>104.990</td>\n",
       "      <td>103.959</td>\n",
       "    </tr>\n",
       "    <tr>\n",
       "      <th>1990-01-01 00:15:00</th>\n",
       "      <td>96.345</td>\n",
       "      <td>95.070</td>\n",
       "      <td>104.969</td>\n",
       "      <td>95.878</td>\n",
       "    </tr>\n",
       "    <tr>\n",
       "      <th>1990-01-01 00:20:00</th>\n",
       "      <td>98.955</td>\n",
       "      <td>95.011</td>\n",
       "      <td>104.983</td>\n",
       "      <td>103.538</td>\n",
       "    </tr>\n",
       "  </tbody>\n",
       "</table>\n",
       "</div>"
      ],
      "text/plain": [
       "                       close     low     high     open\n",
       "1990-01-01 00:00:00  102.172  95.076  104.992   95.176\n",
       "1990-01-01 00:05:00  101.450  95.008  104.999   98.520\n",
       "1990-01-01 00:10:00   96.718  95.053  104.990  103.959\n",
       "1990-01-01 00:15:00   96.345  95.070  104.969   95.878\n",
       "1990-01-01 00:20:00   98.955  95.011  104.983  103.538"
      ]
     },
     "execution_count": 17,
     "metadata": {},
     "output_type": "execute_result"
    }
   ],
   "source": [
    "ohlc_5min_bars.head()"
   ]
  },
  {
   "cell_type": "markdown",
   "id": "e2180f79-3792-4642-8e8b-51b9c41f7345",
   "metadata": {},
   "source": [
    "## Conclusion\n",
    "\n",
    "We have demonstrated the following about the ArcticDB resample feature:\n",
    "\n",
    "* Easy to use, especially if you already resample in Pandas\n",
    "* Very high performance - in particular much faster than reading all the data then resampling in Pandas\n",
    "* Can be combined with other query functions to build processing pipelines\n",
    "* Can be used to generate timeseries bars"
   ]
  }
 ],
 "metadata": {
  "kernelspec": {
   "display_name": "Python 3 (ipykernel)",
   "language": "python",
   "name": "python3"
  },
  "language_info": {
   "codemirror_mode": {
    "name": "ipython",
    "version": 3
   },
   "file_extension": ".py",
   "mimetype": "text/x-python",
   "name": "python",
   "nbconvert_exporter": "python",
   "pygments_lexer": "ipython3",
   "version": "3.11.11"
  },
  "widgets": {
   "application/vnd.jupyter.widget-state+json": {
    "state": {},
    "version_major": 2,
    "version_minor": 0
   }
  }
 },
 "nbformat": 4,
 "nbformat_minor": 5
}
