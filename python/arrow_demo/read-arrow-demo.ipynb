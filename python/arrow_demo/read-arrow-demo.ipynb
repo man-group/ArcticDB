{
 "cells": [
  {
   "cell_type": "code",
   "execution_count": 1,
   "id": "47604155-5494-454e-8bd1-1ecbfa309899",
   "metadata": {},
   "outputs": [],
   "source": [
    "import os\n",
    "import arcticdb as adb\n",
    "from arcticdb_ext.version_store import OutputFormat\n",
    "import pyarrow as pa\n",
    "import pyarrow.parquet as pq\n",
    "import pandas as pd\n",
    "\n",
    "# For this demo we use ArcticDB with LMDB backend located at arctic_path and compare it agains the same dataframes written in parquet\n",
    "# Data consists of dummy trades on two symbols, each in a separate table.\n",
    "data_path = os.getenv(\"DATA_PATH\", \"/tmp/arrow-test\")\n",
    "arctic_path = os.path.join(data_path, \"arctic\")\n",
    "lib_name = \"lib\"\n",
    "parquet_path = os.path.join(data_path, \"parquet\")"
   ]
  },
  {
   "cell_type": "code",
   "execution_count": 2,
   "id": "eaf56296-45f6-4e98-ba07-3a7fa220d212",
   "metadata": {},
   "outputs": [
    {
     "data": {
      "text/plain": [
       "['TSLA', 'AAPL']"
      ]
     },
     "execution_count": 2,
     "metadata": {},
     "output_type": "execute_result"
    }
   ],
   "source": [
    "# Setting up the arctic client\n",
    "ac = adb.Arctic(f\"lmdb://{arctic_path}\")\n",
    "lib = ac[lib_name]\n",
    "\n",
    "# We have two symbols written in the library\n",
    "lib.list_symbols()"
   ]
  },
  {
   "cell_type": "code",
   "execution_count": 3,
   "id": "c8cfe46d-9994-4796-b3dc-3e1fa534aef8",
   "metadata": {},
   "outputs": [
    {
     "name": "stdout",
     "output_type": "stream",
     "text": [
      "Table shape: (5000000, 5)\n",
      "Table schema: price: double\n",
      "size: int64\n",
      "direction: string\n",
      "trade_id: string\n",
      "__index_level_0__: timestamp[ns]\n",
      "-- schema metadata --\n",
      "pandas: '{\"index_columns\": [\"__index_level_0__\"], \"column_indexes\": [{\"na' + 791\n"
     ]
    }
   ],
   "source": [
    "# We can read the entire dataframe as arrow by specifying an output_format\n",
    "aapl_table = lib.read(\"AAPL\", output_format=OutputFormat.ARROW).data\n",
    "print(\"Table shape:\", aapl_table.shape)\n",
    "print(\"Table schema:\", aapl_table.schema)"
   ]
  },
  {
   "cell_type": "code",
   "execution_count": 4,
   "id": "49f8eb7a-2f7a-481d-99c2-067108fdf91c",
   "metadata": {},
   "outputs": [
    {
     "data": {
      "text/html": [
       "<div>\n",
       "<style scoped>\n",
       "    .dataframe tbody tr th:only-of-type {\n",
       "        vertical-align: middle;\n",
       "    }\n",
       "\n",
       "    .dataframe tbody tr th {\n",
       "        vertical-align: top;\n",
       "    }\n",
       "\n",
       "    .dataframe thead th {\n",
       "        text-align: right;\n",
       "    }\n",
       "</style>\n",
       "<table border=\"1\" class=\"dataframe\">\n",
       "  <thead>\n",
       "    <tr style=\"text-align: right;\">\n",
       "      <th></th>\n",
       "      <th>price</th>\n",
       "      <th>size</th>\n",
       "      <th>direction</th>\n",
       "      <th>trade_id</th>\n",
       "    </tr>\n",
       "  </thead>\n",
       "  <tbody>\n",
       "    <tr>\n",
       "      <th>2025-01-01 09:00:00</th>\n",
       "      <td>140.53</td>\n",
       "      <td>58</td>\n",
       "      <td>Buy</td>\n",
       "      <td>trade_AAPL_0</td>\n",
       "    </tr>\n",
       "    <tr>\n",
       "      <th>2025-01-01 09:00:02</th>\n",
       "      <td>108.43</td>\n",
       "      <td>31</td>\n",
       "      <td>Buy</td>\n",
       "      <td>trade_AAPL_2</td>\n",
       "    </tr>\n",
       "    <tr>\n",
       "      <th>2025-01-01 09:00:06</th>\n",
       "      <td>181.93</td>\n",
       "      <td>94</td>\n",
       "      <td>Buy</td>\n",
       "      <td>trade_AAPL_6</td>\n",
       "    </tr>\n",
       "    <tr>\n",
       "      <th>2025-01-01 09:00:07</th>\n",
       "      <td>109.39</td>\n",
       "      <td>74</td>\n",
       "      <td>Buy</td>\n",
       "      <td>trade_AAPL_7</td>\n",
       "    </tr>\n",
       "    <tr>\n",
       "      <th>2025-01-01 09:00:08</th>\n",
       "      <td>177.71</td>\n",
       "      <td>13</td>\n",
       "      <td>Buy</td>\n",
       "      <td>trade_AAPL_8</td>\n",
       "    </tr>\n",
       "    <tr>\n",
       "      <th>...</th>\n",
       "      <td>...</td>\n",
       "      <td>...</td>\n",
       "      <td>...</td>\n",
       "      <td>...</td>\n",
       "    </tr>\n",
       "    <tr>\n",
       "      <th>2025-02-28 05:53:14</th>\n",
       "      <td>147.96</td>\n",
       "      <td>21</td>\n",
       "      <td>Buy</td>\n",
       "      <td>trade_AAPL_4999994</td>\n",
       "    </tr>\n",
       "    <tr>\n",
       "      <th>2025-02-28 05:53:15</th>\n",
       "      <td>192.30</td>\n",
       "      <td>97</td>\n",
       "      <td>Buy</td>\n",
       "      <td>trade_AAPL_4999995</td>\n",
       "    </tr>\n",
       "    <tr>\n",
       "      <th>2025-02-28 05:53:16</th>\n",
       "      <td>137.75</td>\n",
       "      <td>52</td>\n",
       "      <td>Buy</td>\n",
       "      <td>trade_AAPL_4999996</td>\n",
       "    </tr>\n",
       "    <tr>\n",
       "      <th>2025-02-28 05:53:17</th>\n",
       "      <td>127.64</td>\n",
       "      <td>82</td>\n",
       "      <td>Buy</td>\n",
       "      <td>trade_AAPL_4999997</td>\n",
       "    </tr>\n",
       "    <tr>\n",
       "      <th>2025-02-28 05:53:18</th>\n",
       "      <td>110.58</td>\n",
       "      <td>83</td>\n",
       "      <td>Buy</td>\n",
       "      <td>trade_AAPL_4999998</td>\n",
       "    </tr>\n",
       "  </tbody>\n",
       "</table>\n",
       "<p>2500982 rows × 4 columns</p>\n",
       "</div>"
      ],
      "text/plain": [
       "                      price  size direction            trade_id\n",
       "2025-01-01 09:00:00  140.53    58       Buy        trade_AAPL_0\n",
       "2025-01-01 09:00:02  108.43    31       Buy        trade_AAPL_2\n",
       "2025-01-01 09:00:06  181.93    94       Buy        trade_AAPL_6\n",
       "2025-01-01 09:00:07  109.39    74       Buy        trade_AAPL_7\n",
       "2025-01-01 09:00:08  177.71    13       Buy        trade_AAPL_8\n",
       "...                     ...   ...       ...                 ...\n",
       "2025-02-28 05:53:14  147.96    21       Buy  trade_AAPL_4999994\n",
       "2025-02-28 05:53:15  192.30    97       Buy  trade_AAPL_4999995\n",
       "2025-02-28 05:53:16  137.75    52       Buy  trade_AAPL_4999996\n",
       "2025-02-28 05:53:17  127.64    82       Buy  trade_AAPL_4999997\n",
       "2025-02-28 05:53:18  110.58    83       Buy  trade_AAPL_4999998\n",
       "\n",
       "[2500982 rows x 4 columns]"
      ]
     },
     "execution_count": 4,
     "metadata": {},
     "output_type": "execute_result"
    }
   ],
   "source": [
    "# And we can use the pyarrow output to perform our computations (e.g. filter just the buy trades)\n",
    "aapl_table.filter(pa.compute.field(\"direction\") == \"Buy\").to_pandas()"
   ]
  },
  {
   "cell_type": "code",
   "execution_count": 5,
   "id": "04f90a92-c7eb-42ff-9973-d2be53df9bdb",
   "metadata": {},
   "outputs": [
    {
     "data": {
      "text/html": [
       "<div>\n",
       "<style scoped>\n",
       "    .dataframe tbody tr th:only-of-type {\n",
       "        vertical-align: middle;\n",
       "    }\n",
       "\n",
       "    .dataframe tbody tr th {\n",
       "        vertical-align: top;\n",
       "    }\n",
       "\n",
       "    .dataframe thead th {\n",
       "        text-align: right;\n",
       "    }\n",
       "</style>\n",
       "<table border=\"1\" class=\"dataframe\">\n",
       "  <thead>\n",
       "    <tr style=\"text-align: right;\">\n",
       "      <th></th>\n",
       "      <th>price</th>\n",
       "    </tr>\n",
       "  </thead>\n",
       "  <tbody>\n",
       "    <tr>\n",
       "      <th>2025-02-01 00:00:00</th>\n",
       "      <td>170.64</td>\n",
       "    </tr>\n",
       "    <tr>\n",
       "      <th>2025-02-01 00:00:01</th>\n",
       "      <td>105.09</td>\n",
       "    </tr>\n",
       "    <tr>\n",
       "      <th>2025-02-01 00:00:03</th>\n",
       "      <td>192.30</td>\n",
       "    </tr>\n",
       "    <tr>\n",
       "      <th>2025-02-01 00:00:04</th>\n",
       "      <td>184.12</td>\n",
       "    </tr>\n",
       "    <tr>\n",
       "      <th>2025-02-01 00:00:05</th>\n",
       "      <td>126.05</td>\n",
       "    </tr>\n",
       "    <tr>\n",
       "      <th>...</th>\n",
       "      <td>...</td>\n",
       "    </tr>\n",
       "    <tr>\n",
       "      <th>2025-02-01 23:59:53</th>\n",
       "      <td>181.80</td>\n",
       "    </tr>\n",
       "    <tr>\n",
       "      <th>2025-02-01 23:59:56</th>\n",
       "      <td>138.28</td>\n",
       "    </tr>\n",
       "    <tr>\n",
       "      <th>2025-02-01 23:59:57</th>\n",
       "      <td>114.70</td>\n",
       "    </tr>\n",
       "    <tr>\n",
       "      <th>2025-02-01 23:59:58</th>\n",
       "      <td>163.06</td>\n",
       "    </tr>\n",
       "    <tr>\n",
       "      <th>2025-02-01 23:59:59</th>\n",
       "      <td>141.27</td>\n",
       "    </tr>\n",
       "  </tbody>\n",
       "</table>\n",
       "<p>43474 rows × 1 columns</p>\n",
       "</div>"
      ],
      "text/plain": [
       "                      price\n",
       "2025-02-01 00:00:00  170.64\n",
       "2025-02-01 00:00:01  105.09\n",
       "2025-02-01 00:00:03  192.30\n",
       "2025-02-01 00:00:04  184.12\n",
       "2025-02-01 00:00:05  126.05\n",
       "...                     ...\n",
       "2025-02-01 23:59:53  181.80\n",
       "2025-02-01 23:59:56  138.28\n",
       "2025-02-01 23:59:57  114.70\n",
       "2025-02-01 23:59:58  163.06\n",
       "2025-02-01 23:59:59  141.27\n",
       "\n",
       "[43474 rows x 1 columns]"
      ]
     },
     "execution_count": 5,
     "metadata": {},
     "output_type": "execute_result"
    }
   ],
   "source": [
    "# ArcticDB can perform many of the filtering and processing operations while reading\n",
    "# E.g. let's get just the prices of all Buy trades in a date range:\n",
    "date_range = (pd.Timestamp(2025, 2, 1), pd.Timestamp(2025, 2, 2))\n",
    "lazy_df = lib.read(\"AAPL\", date_range=date_range, columns=[\"price\"], lazy=True)\n",
    "lazy_df = lazy_df[lazy_df[\"direction\"] == \"Buy\"]\n",
    "result_arrow = lazy_df.collect(output_format=OutputFormat.ARROW).data\n",
    "result_arrow.to_pandas()"
   ]
  },
  {
   "cell_type": "code",
   "execution_count": 6,
   "id": "ca602ff5-4c94-4e72-8498-9d5e72cc5c24",
   "metadata": {},
   "outputs": [
    {
     "data": {
      "text/html": [
       "<div>\n",
       "<style scoped>\n",
       "    .dataframe tbody tr th:only-of-type {\n",
       "        vertical-align: middle;\n",
       "    }\n",
       "\n",
       "    .dataframe tbody tr th {\n",
       "        vertical-align: top;\n",
       "    }\n",
       "\n",
       "    .dataframe thead th {\n",
       "        text-align: right;\n",
       "    }\n",
       "</style>\n",
       "<table border=\"1\" class=\"dataframe\">\n",
       "  <thead>\n",
       "    <tr style=\"text-align: right;\">\n",
       "      <th></th>\n",
       "      <th>size</th>\n",
       "    </tr>\n",
       "  </thead>\n",
       "  <tbody>\n",
       "    <tr>\n",
       "      <th>2025-02-01 00:00:00</th>\n",
       "      <td>95251</td>\n",
       "    </tr>\n",
       "    <tr>\n",
       "      <th>2025-02-01 01:00:00</th>\n",
       "      <td>97155</td>\n",
       "    </tr>\n",
       "    <tr>\n",
       "      <th>2025-02-01 02:00:00</th>\n",
       "      <td>99722</td>\n",
       "    </tr>\n",
       "    <tr>\n",
       "      <th>2025-02-01 03:00:00</th>\n",
       "      <td>95481</td>\n",
       "    </tr>\n",
       "    <tr>\n",
       "      <th>2025-02-01 04:00:00</th>\n",
       "      <td>98484</td>\n",
       "    </tr>\n",
       "    <tr>\n",
       "      <th>...</th>\n",
       "      <td>...</td>\n",
       "    </tr>\n",
       "    <tr>\n",
       "      <th>2025-02-27 20:00:00</th>\n",
       "      <td>97186</td>\n",
       "    </tr>\n",
       "    <tr>\n",
       "      <th>2025-02-27 21:00:00</th>\n",
       "      <td>95840</td>\n",
       "    </tr>\n",
       "    <tr>\n",
       "      <th>2025-02-27 22:00:00</th>\n",
       "      <td>98542</td>\n",
       "    </tr>\n",
       "    <tr>\n",
       "      <th>2025-02-27 23:00:00</th>\n",
       "      <td>100093</td>\n",
       "    </tr>\n",
       "    <tr>\n",
       "      <th>2025-02-28 00:00:00</th>\n",
       "      <td>87</td>\n",
       "    </tr>\n",
       "  </tbody>\n",
       "</table>\n",
       "<p>649 rows × 1 columns</p>\n",
       "</div>"
      ],
      "text/plain": [
       "                       size\n",
       "2025-02-01 00:00:00   95251\n",
       "2025-02-01 01:00:00   97155\n",
       "2025-02-01 02:00:00   99722\n",
       "2025-02-01 03:00:00   95481\n",
       "2025-02-01 04:00:00   98484\n",
       "...                     ...\n",
       "2025-02-27 20:00:00   97186\n",
       "2025-02-27 21:00:00   95840\n",
       "2025-02-27 22:00:00   98542\n",
       "2025-02-27 23:00:00  100093\n",
       "2025-02-28 00:00:00      87\n",
       "\n",
       "[649 rows x 1 columns]"
      ]
     },
     "execution_count": 6,
     "metadata": {},
     "output_type": "execute_result"
    }
   ],
   "source": [
    "# ArcticDB also allows you to do advanced timeseries processing like resampling\n",
    "# E.g. let's get the volume bought each hour.\n",
    "date_range = (pd.Timestamp(2025, 2, 1), pd.Timestamp(2025, 2, 28))\n",
    "lazy_df = lib.read(\"AAPL\", date_range=date_range, lazy=True)\n",
    "lazy_df = lazy_df[lazy_df[\"direction\"] == \"Buy\"]\n",
    "lazy_df = lazy_df.resample(\"1h\").agg({\"size\": \"sum\"})\n",
    "result_arrow = lazy_df.collect(output_format=OutputFormat.ARROW).data\n",
    "result_arrow.to_pandas()"
   ]
  },
  {
   "cell_type": "code",
   "execution_count": 7,
   "id": "7d28f222-3212-4383-8918-0ce2f05023a0",
   "metadata": {},
   "outputs": [
    {
     "name": "stdout",
     "output_type": "stream",
     "text": [
      "                      price  size direction            trade_id\n",
      "2025-02-01 00:00:00  170.64    43       Buy  trade_AAPL_2646000\n",
      "2025-02-01 00:00:01  105.09    29       Buy  trade_AAPL_2646001\n",
      "2025-02-01 00:00:02  172.14    84      Sell  trade_AAPL_2646002\n",
      "2025-02-01 00:00:03  192.30    62       Buy  trade_AAPL_2646003\n",
      "2025-02-01 00:00:04  184.12    60       Buy  trade_AAPL_2646004\n",
      "                      price  size direction            trade_id\n",
      "2025-02-01 00:00:00  177.59    80       Buy  trade_TSLA_2646000\n",
      "2025-02-01 00:00:01  103.69    72      Sell  trade_TSLA_2646001\n",
      "2025-02-01 00:00:02  119.81    39      Sell  trade_TSLA_2646002\n",
      "2025-02-01 00:00:03  179.63    43      Sell  trade_TSLA_2646003\n",
      "2025-02-01 00:00:04  179.90    93       Buy  trade_TSLA_2646004\n"
     ]
    }
   ],
   "source": [
    "# We can also read multiple symbols in parallel\n",
    "date_range = (pd.Timestamp(2025, 2, 1), pd.Timestamp(2025, 2, 5))\n",
    "read_requests = [\n",
    "    adb.ReadRequest(symbol=\"AAPL\", date_range=date_range),\n",
    "    adb.ReadRequest(symbol=\"TSLA\", date_range=date_range),\n",
    "]\n",
    "[aapl, tsla] = lib.read_batch(read_requests, output_format=OutputFormat.ARROW)\n",
    "print(aapl.data.to_pandas().head())\n",
    "print(tsla.data.to_pandas().head())"
   ]
  },
  {
   "cell_type": "code",
   "execution_count": 8,
   "id": "051c3c70-1883-4aba-a190-27d89d3cbf8a",
   "metadata": {},
   "outputs": [],
   "source": [
    "# And a couple of benchmarks on arctic vs parquet\n",
    "# TODO: This will be much better when we use full arrow support and not just the temporary bodge to read pandas and convert to pyarrow\n",
    "import timeit\n",
    "\n",
    "def read_entire_arctic(symbol):\n",
    "    return lib.read(symbol, output_format=OutputFormat.ARROW).data\n",
    "\n",
    "def read_entire_parquet(symbol):\n",
    "    path = os.path.join(parquet_path, f\"{symbol}.parquet\")\n",
    "    return pq.read_table(path)\n",
    "\n",
    "def read_filtered_arctic(symbol):\n",
    "    date_range = (pd.Timestamp(2025, 1, 10), pd.Timestamp(2025, 2, 1))\n",
    "    lazy_df = lib.read(symbol, date_range=date_range, lazy=True)\n",
    "    lazy_df = lazy_df[lazy_df[\"direction\"] == \"Buy\"]\n",
    "    return lazy_df.collect(output_format=OutputFormat.ARROW).data\n",
    "\n",
    "def read_filtered_parquet(symbol):\n",
    "    path = os.path.join(parquet_path, f\"{symbol}.parquet\")\n",
    "    filters = [[\n",
    "        (\"__index_level_0__\", \">=\", pd.Timestamp(2025, 1, 10)),\n",
    "        (\"__index_level_0__\", \"<\", pd.Timestamp(2025, 2, 1)),\n",
    "        (\"direction\", \"==\", \"Buy\"),\n",
    "    ]]\n",
    "    return pq.read_table(path, filters=filters)"
   ]
  },
  {
   "cell_type": "code",
   "execution_count": 9,
   "id": "898db2fd-f84d-4aa9-b965-e75914a88440",
   "metadata": {},
   "outputs": [
    {
     "name": "stdout",
     "output_type": "stream",
     "text": [
      "2.99 s ± 58.3 ms per loop (mean ± std. dev. of 7 runs, 1 loop each)\n"
     ]
    }
   ],
   "source": [
    "%timeit read_entire_arctic(\"TSLA\")"
   ]
  },
  {
   "cell_type": "code",
   "execution_count": 10,
   "id": "d268d0fb-01d6-49be-83e1-bdffed55fdf7",
   "metadata": {},
   "outputs": [
    {
     "name": "stdout",
     "output_type": "stream",
     "text": [
      "149 ms ± 2.79 ms per loop (mean ± std. dev. of 7 runs, 10 loops each)\n"
     ]
    }
   ],
   "source": [
    "%timeit read_entire_parquet(\"TSLA\")"
   ]
  },
  {
   "cell_type": "code",
   "execution_count": 11,
   "id": "77c06209-d102-4a86-b576-fb236c9f1d5a",
   "metadata": {},
   "outputs": [
    {
     "name": "stdout",
     "output_type": "stream",
     "text": [
      "470 ms ± 19.9 ms per loop (mean ± std. dev. of 7 runs, 1 loop each)\n"
     ]
    }
   ],
   "source": [
    "%timeit read_filtered_arctic(\"TSLA\")"
   ]
  },
  {
   "cell_type": "code",
   "execution_count": 12,
   "id": "81ff715f-eea6-42cc-ac2b-6f692062d049",
   "metadata": {},
   "outputs": [
    {
     "name": "stdout",
     "output_type": "stream",
     "text": [
      "80.4 ms ± 3.37 ms per loop (mean ± std. dev. of 7 runs, 10 loops each)\n"
     ]
    }
   ],
   "source": [
    "%timeit read_filtered_parquet(\"TSLA\")"
   ]
  },
  {
   "cell_type": "code",
   "execution_count": null,
   "id": "74e68f17-00d9-4b00-a187-843e75bb7999",
   "metadata": {},
   "outputs": [],
   "source": []
  }
 ],
 "metadata": {
  "kernelspec": {
   "display_name": "Python 3 (ipykernel)",
   "language": "python",
   "name": "python3"
  },
  "language_info": {
   "codemirror_mode": {
    "name": "ipython",
    "version": 3
   },
   "file_extension": ".py",
   "mimetype": "text/x-python",
   "name": "python",
   "nbconvert_exporter": "python",
   "pygments_lexer": "ipython3",
   "version": "3.10.12"
  }
 },
 "nbformat": 4,
 "nbformat_minor": 5
}
