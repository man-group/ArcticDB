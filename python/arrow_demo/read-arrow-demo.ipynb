{
 "cells": [
  {
   "cell_type": "code",
   "execution_count": 1,
   "id": "47604155-5494-454e-8bd1-1ecbfa309899",
   "metadata": {},
   "outputs": [],
   "source": [
    "import os\n",
    "import arcticdb as adb\n",
    "from arcticdb.options import RuntimeOptions\n",
    "from arcticdb_ext.version_store import OutputFormat\n",
    "import pyarrow as pa\n",
    "import pyarrow.parquet as pq\n",
    "import pandas as pd\n",
    "\n",
    "# For this demo we use ArcticDB with LMDB backend located at arctic_path and compare it agains the same dataframes written in parquet\n",
    "# Data consists of dummy trades on two symbols, each in a separate table.\n",
    "data_path = os.getenv(\"DATA_PATH\", \"/tmp/arrow-test\")\n",
    "arctic_path = os.path.join(data_path, \"arctic\")\n",
    "lib_name = \"lib\"\n",
    "parquet_path = os.path.join(data_path, \"parquet\")"
   ]
  },
  {
   "cell_type": "code",
   "execution_count": 2,
   "id": "eaf56296-45f6-4e98-ba07-3a7fa220d212",
   "metadata": {},
   "outputs": [
    {
     "data": {
      "text/plain": [
       "['TSLA', 'AAPL']"
      ]
     },
     "execution_count": 2,
     "metadata": {},
     "output_type": "execute_result"
    }
   ],
   "source": [
    "# Setting up the arctic client\n",
    "ac = adb.Arctic(f\"lmdb://{arctic_path}\")\n",
    "lib = ac.get_library(lib_name, runtime_options=RuntimeOptions(output_format=OutputFormat.ARROW))\n",
    "\n",
    "# We have two symbols written in the library\n",
    "lib.list_symbols()"
   ]
  },
  {
   "cell_type": "code",
   "execution_count": 3,
   "id": "c8cfe46d-9994-4796-b3dc-3e1fa534aef8",
   "metadata": {},
   "outputs": [
    {
     "name": "stdout",
     "output_type": "stream",
     "text": [
      "Table shape: (5000000, 5)\n",
      "Table schema: index: timestamp[ns] not null\n",
      "price: double not null\n",
      "size: int64 not null\n",
      "direction: string not null\n",
      "trade_id: string not null\n"
     ]
    }
   ],
   "source": [
    "# We can read the entire dataframe as arrow by specifying an output_format\n",
    "aapl_table = lib.read(\"AAPL\").data\n",
    "print(\"Table shape:\", aapl_table.shape)\n",
    "print(\"Table schema:\", aapl_table.schema)"
   ]
  },
  {
   "cell_type": "code",
   "execution_count": 4,
   "id": "49f8eb7a-2f7a-481d-99c2-067108fdf91c",
   "metadata": {},
   "outputs": [
    {
     "data": {
      "text/html": [
       "<div>\n",
       "<style scoped>\n",
       "    .dataframe tbody tr th:only-of-type {\n",
       "        vertical-align: middle;\n",
       "    }\n",
       "\n",
       "    .dataframe tbody tr th {\n",
       "        vertical-align: top;\n",
       "    }\n",
       "\n",
       "    .dataframe thead th {\n",
       "        text-align: right;\n",
       "    }\n",
       "</style>\n",
       "<table border=\"1\" class=\"dataframe\">\n",
       "  <thead>\n",
       "    <tr style=\"text-align: right;\">\n",
       "      <th></th>\n",
       "      <th>index</th>\n",
       "      <th>price</th>\n",
       "      <th>size</th>\n",
       "      <th>direction</th>\n",
       "      <th>trade_id</th>\n",
       "    </tr>\n",
       "  </thead>\n",
       "  <tbody>\n",
       "    <tr>\n",
       "      <th>0</th>\n",
       "      <td>2025-01-01 09:00:02</td>\n",
       "      <td>160.14</td>\n",
       "      <td>85</td>\n",
       "      <td>Buy</td>\n",
       "      <td>trade_AAPL_2</td>\n",
       "    </tr>\n",
       "    <tr>\n",
       "      <th>1</th>\n",
       "      <td>2025-01-01 09:00:03</td>\n",
       "      <td>173.05</td>\n",
       "      <td>60</td>\n",
       "      <td>Buy</td>\n",
       "      <td>trade_AAPL_3</td>\n",
       "    </tr>\n",
       "    <tr>\n",
       "      <th>2</th>\n",
       "      <td>2025-01-01 09:00:04</td>\n",
       "      <td>166.29</td>\n",
       "      <td>67</td>\n",
       "      <td>Buy</td>\n",
       "      <td>trade_AAPL_4</td>\n",
       "    </tr>\n",
       "    <tr>\n",
       "      <th>3</th>\n",
       "      <td>2025-01-01 09:00:06</td>\n",
       "      <td>102.42</td>\n",
       "      <td>23</td>\n",
       "      <td>Buy</td>\n",
       "      <td>trade_AAPL_6</td>\n",
       "    </tr>\n",
       "    <tr>\n",
       "      <th>4</th>\n",
       "      <td>2025-01-01 09:00:09</td>\n",
       "      <td>147.48</td>\n",
       "      <td>33</td>\n",
       "      <td>Buy</td>\n",
       "      <td>trade_AAPL_9</td>\n",
       "    </tr>\n",
       "    <tr>\n",
       "      <th>...</th>\n",
       "      <td>...</td>\n",
       "      <td>...</td>\n",
       "      <td>...</td>\n",
       "      <td>...</td>\n",
       "      <td>...</td>\n",
       "    </tr>\n",
       "    <tr>\n",
       "      <th>2502234</th>\n",
       "      <td>2025-02-28 05:53:07</td>\n",
       "      <td>187.70</td>\n",
       "      <td>35</td>\n",
       "      <td>Buy</td>\n",
       "      <td>trade_AAPL_4999987</td>\n",
       "    </tr>\n",
       "    <tr>\n",
       "      <th>2502235</th>\n",
       "      <td>2025-02-28 05:53:13</td>\n",
       "      <td>198.08</td>\n",
       "      <td>29</td>\n",
       "      <td>Buy</td>\n",
       "      <td>trade_AAPL_4999993</td>\n",
       "    </tr>\n",
       "    <tr>\n",
       "      <th>2502236</th>\n",
       "      <td>2025-02-28 05:53:14</td>\n",
       "      <td>102.01</td>\n",
       "      <td>27</td>\n",
       "      <td>Buy</td>\n",
       "      <td>trade_AAPL_4999994</td>\n",
       "    </tr>\n",
       "    <tr>\n",
       "      <th>2502237</th>\n",
       "      <td>2025-02-28 05:53:17</td>\n",
       "      <td>172.93</td>\n",
       "      <td>18</td>\n",
       "      <td>Buy</td>\n",
       "      <td>trade_AAPL_4999997</td>\n",
       "    </tr>\n",
       "    <tr>\n",
       "      <th>2502238</th>\n",
       "      <td>2025-02-28 05:53:18</td>\n",
       "      <td>112.83</td>\n",
       "      <td>74</td>\n",
       "      <td>Buy</td>\n",
       "      <td>trade_AAPL_4999998</td>\n",
       "    </tr>\n",
       "  </tbody>\n",
       "</table>\n",
       "<p>2502239 rows × 5 columns</p>\n",
       "</div>"
      ],
      "text/plain": [
       "                      index   price  size direction            trade_id\n",
       "0       2025-01-01 09:00:02  160.14    85       Buy        trade_AAPL_2\n",
       "1       2025-01-01 09:00:03  173.05    60       Buy        trade_AAPL_3\n",
       "2       2025-01-01 09:00:04  166.29    67       Buy        trade_AAPL_4\n",
       "3       2025-01-01 09:00:06  102.42    23       Buy        trade_AAPL_6\n",
       "4       2025-01-01 09:00:09  147.48    33       Buy        trade_AAPL_9\n",
       "...                     ...     ...   ...       ...                 ...\n",
       "2502234 2025-02-28 05:53:07  187.70    35       Buy  trade_AAPL_4999987\n",
       "2502235 2025-02-28 05:53:13  198.08    29       Buy  trade_AAPL_4999993\n",
       "2502236 2025-02-28 05:53:14  102.01    27       Buy  trade_AAPL_4999994\n",
       "2502237 2025-02-28 05:53:17  172.93    18       Buy  trade_AAPL_4999997\n",
       "2502238 2025-02-28 05:53:18  112.83    74       Buy  trade_AAPL_4999998\n",
       "\n",
       "[2502239 rows x 5 columns]"
      ]
     },
     "execution_count": 4,
     "metadata": {},
     "output_type": "execute_result"
    }
   ],
   "source": [
    "# And we can use the pyarrow output to perform our computations (e.g. filter just the buy trades)\n",
    "aapl_table.filter(pa.compute.field(\"direction\") == \"Buy\").to_pandas()"
   ]
  },
  {
   "cell_type": "code",
   "execution_count": 5,
   "id": "04f90a92-c7eb-42ff-9973-d2be53df9bdb",
   "metadata": {},
   "outputs": [
    {
     "data": {
      "text/html": [
       "<div>\n",
       "<style scoped>\n",
       "    .dataframe tbody tr th:only-of-type {\n",
       "        vertical-align: middle;\n",
       "    }\n",
       "\n",
       "    .dataframe tbody tr th {\n",
       "        vertical-align: top;\n",
       "    }\n",
       "\n",
       "    .dataframe thead th {\n",
       "        text-align: right;\n",
       "    }\n",
       "</style>\n",
       "<table border=\"1\" class=\"dataframe\">\n",
       "  <thead>\n",
       "    <tr style=\"text-align: right;\">\n",
       "      <th></th>\n",
       "      <th>index</th>\n",
       "      <th>price</th>\n",
       "    </tr>\n",
       "  </thead>\n",
       "  <tbody>\n",
       "    <tr>\n",
       "      <th>0</th>\n",
       "      <td>2025-01-01 11:00:01</td>\n",
       "      <td>162.90</td>\n",
       "    </tr>\n",
       "    <tr>\n",
       "      <th>1</th>\n",
       "      <td>2025-01-01 11:00:03</td>\n",
       "      <td>179.96</td>\n",
       "    </tr>\n",
       "    <tr>\n",
       "      <th>2</th>\n",
       "      <td>2025-01-01 11:00:04</td>\n",
       "      <td>192.08</td>\n",
       "    </tr>\n",
       "    <tr>\n",
       "      <th>3</th>\n",
       "      <td>2025-01-01 11:00:05</td>\n",
       "      <td>142.53</td>\n",
       "    </tr>\n",
       "    <tr>\n",
       "      <th>4</th>\n",
       "      <td>2025-01-01 11:00:06</td>\n",
       "      <td>154.06</td>\n",
       "    </tr>\n",
       "    <tr>\n",
       "      <th>...</th>\n",
       "      <td>...</td>\n",
       "      <td>...</td>\n",
       "    </tr>\n",
       "    <tr>\n",
       "      <th>1761</th>\n",
       "      <td>2025-01-01 11:59:49</td>\n",
       "      <td>113.90</td>\n",
       "    </tr>\n",
       "    <tr>\n",
       "      <th>1762</th>\n",
       "      <td>2025-01-01 11:59:50</td>\n",
       "      <td>179.02</td>\n",
       "    </tr>\n",
       "    <tr>\n",
       "      <th>1763</th>\n",
       "      <td>2025-01-01 11:59:51</td>\n",
       "      <td>117.37</td>\n",
       "    </tr>\n",
       "    <tr>\n",
       "      <th>1764</th>\n",
       "      <td>2025-01-01 11:59:55</td>\n",
       "      <td>126.93</td>\n",
       "    </tr>\n",
       "    <tr>\n",
       "      <th>1765</th>\n",
       "      <td>2025-01-01 11:59:58</td>\n",
       "      <td>141.50</td>\n",
       "    </tr>\n",
       "  </tbody>\n",
       "</table>\n",
       "<p>1766 rows × 2 columns</p>\n",
       "</div>"
      ],
      "text/plain": [
       "                   index   price\n",
       "0    2025-01-01 11:00:01  162.90\n",
       "1    2025-01-01 11:00:03  179.96\n",
       "2    2025-01-01 11:00:04  192.08\n",
       "3    2025-01-01 11:00:05  142.53\n",
       "4    2025-01-01 11:00:06  154.06\n",
       "...                  ...     ...\n",
       "1761 2025-01-01 11:59:49  113.90\n",
       "1762 2025-01-01 11:59:50  179.02\n",
       "1763 2025-01-01 11:59:51  117.37\n",
       "1764 2025-01-01 11:59:55  126.93\n",
       "1765 2025-01-01 11:59:58  141.50\n",
       "\n",
       "[1766 rows x 2 columns]"
      ]
     },
     "execution_count": 5,
     "metadata": {},
     "output_type": "execute_result"
    }
   ],
   "source": [
    "# ArcticDB can perform many of the filtering and processing operations while reading\n",
    "# E.g. let's get just the prices of all Buy trades in a date range:\n",
    "date_range = (pd.Timestamp(2025, 1, 1, 11), pd.Timestamp(2025, 1, 1, 12))\n",
    "lazy_df = lib.read(\"AAPL\", date_range=date_range, columns=[\"price\"], lazy=True)\n",
    "lazy_df = lazy_df[lazy_df[\"direction\"] == \"Buy\"]\n",
    "result_arrow = lazy_df.collect().data\n",
    "result_arrow.to_pandas()"
   ]
  },
  {
   "cell_type": "code",
   "execution_count": 6,
   "id": "ca602ff5-4c94-4e72-8498-9d5e72cc5c24",
   "metadata": {},
   "outputs": [
    {
     "data": {
      "text/html": [
       "<div>\n",
       "<style scoped>\n",
       "    .dataframe tbody tr th:only-of-type {\n",
       "        vertical-align: middle;\n",
       "    }\n",
       "\n",
       "    .dataframe tbody tr th {\n",
       "        vertical-align: top;\n",
       "    }\n",
       "\n",
       "    .dataframe thead th {\n",
       "        text-align: right;\n",
       "    }\n",
       "</style>\n",
       "<table border=\"1\" class=\"dataframe\">\n",
       "  <thead>\n",
       "    <tr style=\"text-align: right;\">\n",
       "      <th></th>\n",
       "      <th>index</th>\n",
       "      <th>size</th>\n",
       "    </tr>\n",
       "  </thead>\n",
       "  <tbody>\n",
       "    <tr>\n",
       "      <th>0</th>\n",
       "      <td>2025-01-01 11:00:00</td>\n",
       "      <td>16165</td>\n",
       "    </tr>\n",
       "    <tr>\n",
       "      <th>1</th>\n",
       "      <td>2025-01-01 11:10:00</td>\n",
       "      <td>15507</td>\n",
       "    </tr>\n",
       "    <tr>\n",
       "      <th>2</th>\n",
       "      <td>2025-01-01 11:20:00</td>\n",
       "      <td>16867</td>\n",
       "    </tr>\n",
       "    <tr>\n",
       "      <th>3</th>\n",
       "      <td>2025-01-01 11:30:00</td>\n",
       "      <td>15115</td>\n",
       "    </tr>\n",
       "    <tr>\n",
       "      <th>4</th>\n",
       "      <td>2025-01-01 11:40:00</td>\n",
       "      <td>15368</td>\n",
       "    </tr>\n",
       "    <tr>\n",
       "      <th>5</th>\n",
       "      <td>2025-01-01 11:50:00</td>\n",
       "      <td>17637</td>\n",
       "    </tr>\n",
       "    <tr>\n",
       "      <th>6</th>\n",
       "      <td>2025-01-01 12:00:00</td>\n",
       "      <td>15876</td>\n",
       "    </tr>\n",
       "    <tr>\n",
       "      <th>7</th>\n",
       "      <td>2025-01-01 12:10:00</td>\n",
       "      <td>17365</td>\n",
       "    </tr>\n",
       "    <tr>\n",
       "      <th>8</th>\n",
       "      <td>2025-01-01 12:20:00</td>\n",
       "      <td>17347</td>\n",
       "    </tr>\n",
       "    <tr>\n",
       "      <th>9</th>\n",
       "      <td>2025-01-01 12:30:00</td>\n",
       "      <td>16225</td>\n",
       "    </tr>\n",
       "    <tr>\n",
       "      <th>10</th>\n",
       "      <td>2025-01-01 12:40:00</td>\n",
       "      <td>16576</td>\n",
       "    </tr>\n",
       "    <tr>\n",
       "      <th>11</th>\n",
       "      <td>2025-01-01 12:50:00</td>\n",
       "      <td>15935</td>\n",
       "    </tr>\n",
       "    <tr>\n",
       "      <th>12</th>\n",
       "      <td>2025-01-01 13:00:00</td>\n",
       "      <td>84</td>\n",
       "    </tr>\n",
       "  </tbody>\n",
       "</table>\n",
       "</div>"
      ],
      "text/plain": [
       "                 index   size\n",
       "0  2025-01-01 11:00:00  16165\n",
       "1  2025-01-01 11:10:00  15507\n",
       "2  2025-01-01 11:20:00  16867\n",
       "3  2025-01-01 11:30:00  15115\n",
       "4  2025-01-01 11:40:00  15368\n",
       "5  2025-01-01 11:50:00  17637\n",
       "6  2025-01-01 12:00:00  15876\n",
       "7  2025-01-01 12:10:00  17365\n",
       "8  2025-01-01 12:20:00  17347\n",
       "9  2025-01-01 12:30:00  16225\n",
       "10 2025-01-01 12:40:00  16576\n",
       "11 2025-01-01 12:50:00  15935\n",
       "12 2025-01-01 13:00:00     84"
      ]
     },
     "execution_count": 6,
     "metadata": {},
     "output_type": "execute_result"
    }
   ],
   "source": [
    "# ArcticDB also allows you to do advanced timeseries processing like resampling\n",
    "# E.g. let's get the volume bought each hour.\n",
    "date_range = (pd.Timestamp(2025, 1, 1, 11), pd.Timestamp(2025, 1, 1, 13))\n",
    "lazy_df = lib.read(\"AAPL\", date_range=date_range, lazy=True)\n",
    "lazy_df = lazy_df[lazy_df[\"direction\"] == \"Buy\"]\n",
    "lazy_df = lazy_df.resample(\"10min\").agg({\"size\": \"sum\"})\n",
    "result_arrow = lazy_df.collect().data\n",
    "result_arrow.to_pandas()"
   ]
  },
  {
   "cell_type": "code",
   "execution_count": 7,
   "id": "7d28f222-3212-4383-8918-0ce2f05023a0",
   "metadata": {},
   "outputs": [
    {
     "name": "stdout",
     "output_type": "stream",
     "text": [
      "                index   price  size direction         trade_id\n",
      "0 2025-01-01 11:00:00  165.06    88      Sell  trade_AAPL_7200\n",
      "1 2025-01-01 11:00:01  162.90    66       Buy  trade_AAPL_7201\n",
      "2 2025-01-01 11:00:02  124.39    20      Sell  trade_AAPL_7202\n",
      "3 2025-01-01 11:00:03  179.96    81       Buy  trade_AAPL_7203\n",
      "4 2025-01-01 11:00:04  192.08    54       Buy  trade_AAPL_7204\n",
      "                index   price  size direction         trade_id\n",
      "0 2025-01-01 11:00:00  124.77    13       Buy  trade_TSLA_7200\n",
      "1 2025-01-01 11:00:01  135.21    43      Sell  trade_TSLA_7201\n",
      "2 2025-01-01 11:00:02  102.30    43      Sell  trade_TSLA_7202\n",
      "3 2025-01-01 11:00:03  148.15    50       Buy  trade_TSLA_7203\n",
      "4 2025-01-01 11:00:04  110.00    86       Buy  trade_TSLA_7204\n"
     ]
    }
   ],
   "source": [
    "# We can also read multiple symbols in parallel\n",
    "date_range = (pd.Timestamp(2025, 1, 1, 11), pd.Timestamp(2025, 1, 1, 13))\n",
    "read_requests = [\n",
    "    adb.ReadRequest(symbol=\"AAPL\", date_range=date_range),\n",
    "    adb.ReadRequest(symbol=\"TSLA\", date_range=date_range),\n",
    "]\n",
    "[aapl, tsla] = lib.read_batch(read_requests)\n",
    "print(aapl.data.to_pandas().head())\n",
    "print(tsla.data.to_pandas().head())"
   ]
  },
  {
   "cell_type": "code",
   "execution_count": 8,
   "id": "051c3c70-1883-4aba-a190-27d89d3cbf8a",
   "metadata": {},
   "outputs": [],
   "source": [
    "# And a couple of benchmarks on arctic vs parquet\n",
    "import timeit\n",
    "\n",
    "def read_entire_arctic(symbol):\n",
    "    return lib.read(symbol, output_format=OutputFormat.ARROW).data\n",
    "\n",
    "def read_entire_arctic_pandas(symbol):\n",
    "    return lib.read(symbol, output_format=OutputFormat.PANDAS).data\n",
    "\n",
    "def read_entire_parquet(symbol):\n",
    "    path = os.path.join(parquet_path, f\"{symbol}.parquet\")\n",
    "    return pq.read_table(path)\n",
    "\n",
    "\n",
    "def read_filtered_arctic(symbol):\n",
    "    date_range = (pd.Timestamp(2025, 1, 10), pd.Timestamp(2025, 2, 1))\n",
    "    lazy_df = lib.read(symbol, date_range=date_range, lazy=True)\n",
    "    lazy_df = lazy_df[lazy_df[\"direction\"] == \"Buy\"]\n",
    "    return lazy_df.collect(output_format=OutputFormat.ARROW).data\n",
    "\n",
    "def read_filtered_arctic_pandas(symbol):\n",
    "    date_range = (pd.Timestamp(2025, 1, 10), pd.Timestamp(2025, 2, 1))\n",
    "    lazy_df = lib.read(symbol, date_range=date_range, lazy=True)\n",
    "    lazy_df = lazy_df[lazy_df[\"direction\"] == \"Buy\"]\n",
    "    return lazy_df.collect(output_format=OutputFormat.PANDAS).data\n",
    "\n",
    "def read_filtered_parquet(symbol):\n",
    "    path = os.path.join(parquet_path, f\"{symbol}.parquet\")\n",
    "    filters = [[\n",
    "        (\"__index_level_0__\", \">=\", pd.Timestamp(2025, 1, 10)),\n",
    "        (\"__index_level_0__\", \"<\", pd.Timestamp(2025, 2, 1)),\n",
    "        (\"direction\", \"==\", \"Buy\"),\n",
    "    ]]\n",
    "    return pq.read_table(path, filters=filters)"
   ]
  },
  {
   "cell_type": "code",
   "execution_count": 9,
   "id": "898db2fd-f84d-4aa9-b965-e75914a88440",
   "metadata": {},
   "outputs": [
    {
     "name": "stdout",
     "output_type": "stream",
     "text": [
      "373 ms ± 30.8 ms per loop (mean ± std. dev. of 7 runs, 1 loop each)\n"
     ]
    }
   ],
   "source": [
    "%timeit read_entire_arctic(\"TSLA\")"
   ]
  },
  {
   "cell_type": "code",
   "execution_count": 10,
   "id": "c54cee70-adba-4b38-81c7-fc2602f993bf",
   "metadata": {},
   "outputs": [
    {
     "name": "stdout",
     "output_type": "stream",
     "text": [
      "770 ms ± 52.9 ms per loop (mean ± std. dev. of 7 runs, 1 loop each)\n"
     ]
    }
   ],
   "source": [
    "%timeit read_entire_arctic_pandas(\"TSLA\")"
   ]
  },
  {
   "cell_type": "code",
   "execution_count": 11,
   "id": "d268d0fb-01d6-49be-83e1-bdffed55fdf7",
   "metadata": {},
   "outputs": [
    {
     "name": "stdout",
     "output_type": "stream",
     "text": [
      "253 ms ± 29.4 ms per loop (mean ± std. dev. of 7 runs, 1 loop each)\n"
     ]
    }
   ],
   "source": [
    "%timeit read_entire_parquet(\"TSLA\")"
   ]
  },
  {
   "cell_type": "code",
   "execution_count": 12,
   "id": "77c06209-d102-4a86-b576-fb236c9f1d5a",
   "metadata": {},
   "outputs": [
    {
     "name": "stdout",
     "output_type": "stream",
     "text": [
      "80 ms ± 10.4 ms per loop (mean ± std. dev. of 7 runs, 10 loops each)\n"
     ]
    }
   ],
   "source": [
    "%timeit read_filtered_arctic(\"TSLA\")"
   ]
  },
  {
   "cell_type": "code",
   "execution_count": 13,
   "id": "7132a39b-1b74-4890-9343-738b11fe2546",
   "metadata": {},
   "outputs": [
    {
     "name": "stdout",
     "output_type": "stream",
     "text": [
      "110 ms ± 18 ms per loop (mean ± std. dev. of 7 runs, 10 loops each)\n"
     ]
    }
   ],
   "source": [
    "%timeit read_filtered_arctic_pandas(\"TSLA\")"
   ]
  },
  {
   "cell_type": "code",
   "execution_count": 14,
   "id": "81ff715f-eea6-42cc-ac2b-6f692062d049",
   "metadata": {},
   "outputs": [
    {
     "name": "stdout",
     "output_type": "stream",
     "text": [
      "100 ms ± 2.72 ms per loop (mean ± std. dev. of 7 runs, 10 loops each)\n"
     ]
    }
   ],
   "source": [
    "%timeit read_filtered_parquet(\"TSLA\")"
   ]
  },
  {
   "cell_type": "code",
   "execution_count": null,
   "id": "74e68f17-00d9-4b00-a187-843e75bb7999",
   "metadata": {},
   "outputs": [],
   "source": []
  }
 ],
 "metadata": {
  "kernelspec": {
   "display_name": "Python 3 (ipykernel)",
   "language": "python",
   "name": "python3"
  },
  "language_info": {
   "codemirror_mode": {
    "name": "ipython",
    "version": 3
   },
   "file_extension": ".py",
   "mimetype": "text/x-python",
   "name": "python",
   "nbconvert_exporter": "python",
   "pygments_lexer": "ipython3",
   "version": "3.11.11"
  }
 },
 "nbformat": 4,
 "nbformat_minor": 5
}
