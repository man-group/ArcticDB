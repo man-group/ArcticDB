{
 "cells": [
  {
   "cell_type": "markdown",
   "metadata": {},
   "source": [
    "<center><img src=\"data:image/png;base64,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\"/>\n",
    "</center>"
   ]
  },
  {
   "cell_type": "markdown",
   "metadata": {},
   "source": [
    "# Pythagorean Won Loss Formula Notebook\n",
    "\n",
    "Initial setup"
   ]
  },
  {
   "cell_type": "code",
   "execution_count": null,
   "metadata": {},
   "outputs": [],
   "source": [
    "try:\n",
    "    import google.colab\n",
    "    import requests\n",
    "    exec(requests.get(f\"https://raw.githubusercontent.com/man-group/ArcticDB/master/docs/mkdocs/docs/notebooks/styling.py\").text)\n",
    "    dataFile = f'https://raw.githubusercontent.com/man-group/ArcticDB/master/docs/mkdocs/docs/notebooks/data/2025-08-26-sports.csv'\n",
    "except ImportError:\n",
    "    from styling import *\n",
    "    dataFile = \"data/2025-08-26-sports.csv\"\n"
   ]
  },
  {
   "cell_type": "code",
   "execution_count": 2,
   "metadata": {},
   "outputs": [
    {
     "name": "stdout",
     "output_type": "stream",
     "text": [
      "Note: you may need to restart the kernel to use updated packages.\n"
     ]
    },
    {
     "data": {
      "text/plain": [
       "'6.1.0'"
      ]
     },
     "execution_count": 2,
     "metadata": {},
     "output_type": "execute_result"
    }
   ],
   "source": [
    "%pip -q install arcticdb pandas numpy statsmodels plotly scikit-learn\n",
    "import arcticdb as adb\n",
    "adb.__version__"
   ]
  },
  {
   "cell_type": "code",
   "execution_count": 3,
   "metadata": {},
   "outputs": [],
   "source": [
    "import numpy as np\n",
    "import pandas as pd\n",
    "import statsmodels.api as sm\n",
    "import statsmodels.formula.api as smf\n",
    "\n",
    "colors = setup_plotly_theme()"
   ]
  },
  {
   "cell_type": "code",
   "execution_count": 4,
   "metadata": {},
   "outputs": [],
   "source": [
    "df = pd.read_csv(dataFile)"
   ]
  },
  {
   "cell_type": "code",
   "execution_count": 5,
   "metadata": {},
   "outputs": [
    {
     "name": "stdout",
     "output_type": "stream",
     "text": [
      "Exported: basic_data.csv\n"
     ]
    },
    {
     "data": {
      "text/html": [
       "<style type=\"text/css\">\n",
       "#T_b55b1 th {\n",
       "  background-color: #141C52;\n",
       "  color: #F9F9F9;\n",
       "  font-weight: bold;\n",
       "  text-align: left;\n",
       "  padding: 10px;\n",
       "}\n",
       "#T_b55b1 td {\n",
       "  background-color: #75D0E8;\n",
       "  color: #141C52;\n",
       "  padding: 8px;\n",
       "}\n",
       "#T_b55b1 tr:hover td {\n",
       "  background-color: #783ABB;\n",
       "  color: #F9F9F9;\n",
       "}\n",
       "</style>\n",
       "<table id=\"T_b55b1\">\n",
       "  <thead>\n",
       "    <tr>\n",
       "      <th id=\"T_b55b1_level0_col0\" class=\"col_heading level0 col0\" >YEAR_ID</th>\n",
       "      <th id=\"T_b55b1_level0_col1\" class=\"col_heading level0 col1\" >TEAM_ID</th>\n",
       "      <th id=\"T_b55b1_level0_col2\" class=\"col_heading level0 col2\" >OPP_TEAM_ID</th>\n",
       "      <th id=\"T_b55b1_level0_col3\" class=\"col_heading level0 col3\" >PS</th>\n",
       "      <th id=\"T_b55b1_level0_col4\" class=\"col_heading level0 col4\" >PA</th>\n",
       "      <th id=\"T_b55b1_level0_col5\" class=\"col_heading level0 col5\" >date</th>\n",
       "      <th id=\"T_b55b1_level0_col6\" class=\"col_heading level0 col6\" >home</th>\n",
       "      <th id=\"T_b55b1_level0_col7\" class=\"col_heading level0 col7\" >wi</th>\n",
       "      <th id=\"T_b55b1_level0_col8\" class=\"col_heading level0 col8\" >LEAGUE</th>\n",
       "    </tr>\n",
       "  </thead>\n",
       "  <tbody>\n",
       "    <tr>\n",
       "      <td id=\"T_b55b1_row0_col0\" class=\"data row0 col0\" >1897</td>\n",
       "      <td id=\"T_b55b1_row0_col1\" class=\"data row0 col1\" >Carlton</td>\n",
       "      <td id=\"T_b55b1_row0_col2\" class=\"data row0 col2\" >Fitzroy</td>\n",
       "      <td id=\"T_b55b1_row0_col3\" class=\"data row0 col3\" >16</td>\n",
       "      <td id=\"T_b55b1_row0_col4\" class=\"data row0 col4\" >49</td>\n",
       "      <td id=\"T_b55b1_row0_col5\" class=\"data row0 col5\" >1897-05-08</td>\n",
       "      <td id=\"T_b55b1_row0_col6\" class=\"data row0 col6\" >0</td>\n",
       "      <td id=\"T_b55b1_row0_col7\" class=\"data row0 col7\" >0.000000</td>\n",
       "      <td id=\"T_b55b1_row0_col8\" class=\"data row0 col8\" >AFL</td>\n",
       "    </tr>\n",
       "    <tr>\n",
       "      <td id=\"T_b55b1_row1_col0\" class=\"data row1 col0\" >1897</td>\n",
       "      <td id=\"T_b55b1_row1_col1\" class=\"data row1 col1\" >Carlton</td>\n",
       "      <td id=\"T_b55b1_row1_col2\" class=\"data row1 col2\" >South Melbourne</td>\n",
       "      <td id=\"T_b55b1_row1_col3\" class=\"data row1 col3\" >36</td>\n",
       "      <td id=\"T_b55b1_row1_col4\" class=\"data row1 col4\" >40</td>\n",
       "      <td id=\"T_b55b1_row1_col5\" class=\"data row1 col5\" >1897-05-15</td>\n",
       "      <td id=\"T_b55b1_row1_col6\" class=\"data row1 col6\" >0</td>\n",
       "      <td id=\"T_b55b1_row1_col7\" class=\"data row1 col7\" >0.000000</td>\n",
       "      <td id=\"T_b55b1_row1_col8\" class=\"data row1 col8\" >AFL</td>\n",
       "    </tr>\n",
       "    <tr>\n",
       "      <td id=\"T_b55b1_row2_col0\" class=\"data row2 col0\" >1897</td>\n",
       "      <td id=\"T_b55b1_row2_col1\" class=\"data row2 col1\" >Carlton</td>\n",
       "      <td id=\"T_b55b1_row2_col2\" class=\"data row2 col2\" >Essendon</td>\n",
       "      <td id=\"T_b55b1_row2_col3\" class=\"data row2 col3\" >41</td>\n",
       "      <td id=\"T_b55b1_row2_col4\" class=\"data row2 col4\" >78</td>\n",
       "      <td id=\"T_b55b1_row2_col5\" class=\"data row2 col5\" >1897-05-24</td>\n",
       "      <td id=\"T_b55b1_row2_col6\" class=\"data row2 col6\" >0</td>\n",
       "      <td id=\"T_b55b1_row2_col7\" class=\"data row2 col7\" >0.000000</td>\n",
       "      <td id=\"T_b55b1_row2_col8\" class=\"data row2 col8\" >AFL</td>\n",
       "    </tr>\n",
       "    <tr>\n",
       "      <td id=\"T_b55b1_row3_col0\" class=\"data row3 col0\" >1897</td>\n",
       "      <td id=\"T_b55b1_row3_col1\" class=\"data row3 col1\" >Carlton</td>\n",
       "      <td id=\"T_b55b1_row3_col2\" class=\"data row3 col2\" >Geelong</td>\n",
       "      <td id=\"T_b55b1_row3_col3\" class=\"data row3 col3\" >22</td>\n",
       "      <td id=\"T_b55b1_row3_col4\" class=\"data row3 col4\" >44</td>\n",
       "      <td id=\"T_b55b1_row3_col5\" class=\"data row3 col5\" >1897-05-29</td>\n",
       "      <td id=\"T_b55b1_row3_col6\" class=\"data row3 col6\" >0</td>\n",
       "      <td id=\"T_b55b1_row3_col7\" class=\"data row3 col7\" >0.000000</td>\n",
       "      <td id=\"T_b55b1_row3_col8\" class=\"data row3 col8\" >AFL</td>\n",
       "    </tr>\n",
       "    <tr>\n",
       "      <td id=\"T_b55b1_row4_col0\" class=\"data row4 col0\" >1897</td>\n",
       "      <td id=\"T_b55b1_row4_col1\" class=\"data row4 col1\" >Carlton</td>\n",
       "      <td id=\"T_b55b1_row4_col2\" class=\"data row4 col2\" >Melbourne</td>\n",
       "      <td id=\"T_b55b1_row4_col3\" class=\"data row4 col3\" >26</td>\n",
       "      <td id=\"T_b55b1_row4_col4\" class=\"data row4 col4\" >107</td>\n",
       "      <td id=\"T_b55b1_row4_col5\" class=\"data row4 col5\" >1897-06-05</td>\n",
       "      <td id=\"T_b55b1_row4_col6\" class=\"data row4 col6\" >0</td>\n",
       "      <td id=\"T_b55b1_row4_col7\" class=\"data row4 col7\" >0.000000</td>\n",
       "      <td id=\"T_b55b1_row4_col8\" class=\"data row4 col8\" >AFL</td>\n",
       "    </tr>\n",
       "  </tbody>\n",
       "</table>\n"
      ],
      "text/plain": [
       "<pandas.io.formats.style.Styler at 0x7b75f442c8c0>"
      ]
     },
     "execution_count": 5,
     "metadata": {},
     "output_type": "execute_result"
    }
   ],
   "source": [
    "df = df.drop(columns=\"Unnamed: 0\")\n",
    "df = df.rename(columns={'FREQ_RUNS_S': 'PS',\n",
    "                        'FREQ_RUNS_A': 'PA' })\n",
    "\n",
    "df = df.sort_values(['LEAGUE','YEAR_ID','TEAM_ID'])\n",
    "styled = style_table(df.head())\n",
    "export_table(styled, \"basic_data\")\n",
    "styled"
   ]
  },
  {
   "cell_type": "code",
   "execution_count": 6,
   "metadata": {},
   "outputs": [
    {
     "name": "stdout",
     "output_type": "stream",
     "text": [
      "Exported: head_tail_data.csv\n"
     ]
    },
    {
     "data": {
      "text/html": [
       "<style type=\"text/css\">\n",
       "#T_50f91 th {\n",
       "  background-color: #141C52;\n",
       "  color: #F9F9F9;\n",
       "  font-weight: bold;\n",
       "  text-align: left;\n",
       "  padding: 10px;\n",
       "}\n",
       "#T_50f91 td {\n",
       "  background-color: #75D0E8;\n",
       "  color: #141C52;\n",
       "  padding: 8px;\n",
       "}\n",
       "#T_50f91 tr:hover td {\n",
       "  background-color: #783ABB;\n",
       "  color: #F9F9F9;\n",
       "}\n",
       "#T_50f91_row10_col0, #T_50f91_row10_col1, #T_50f91_row10_col2, #T_50f91_row10_col3, #T_50f91_row10_col4, #T_50f91_row10_col5, #T_50f91_row10_col6, #T_50f91_row10_col7, #T_50f91_row10_col8 {\n",
       "  background-color: #DDE5ED;\n",
       "  color: #141C52;\n",
       "  text-align: center;\n",
       "  font-style: italic;\n",
       "}\n",
       "</style>\n",
       "<table id=\"T_50f91\">\n",
       "  <caption>853152 rows × 9 columns</caption>\n",
       "  <thead>\n",
       "    <tr>\n",
       "      <th id=\"T_50f91_level0_col0\" class=\"col_heading level0 col0\" >YEAR_ID</th>\n",
       "      <th id=\"T_50f91_level0_col1\" class=\"col_heading level0 col1\" >TEAM_ID</th>\n",
       "      <th id=\"T_50f91_level0_col2\" class=\"col_heading level0 col2\" >OPP_TEAM_ID</th>\n",
       "      <th id=\"T_50f91_level0_col3\" class=\"col_heading level0 col3\" >PS</th>\n",
       "      <th id=\"T_50f91_level0_col4\" class=\"col_heading level0 col4\" >PA</th>\n",
       "      <th id=\"T_50f91_level0_col5\" class=\"col_heading level0 col5\" >date</th>\n",
       "      <th id=\"T_50f91_level0_col6\" class=\"col_heading level0 col6\" >home</th>\n",
       "      <th id=\"T_50f91_level0_col7\" class=\"col_heading level0 col7\" >wi</th>\n",
       "      <th id=\"T_50f91_level0_col8\" class=\"col_heading level0 col8\" >LEAGUE</th>\n",
       "    </tr>\n",
       "  </thead>\n",
       "  <tbody>\n",
       "    <tr>\n",
       "      <td id=\"T_50f91_row0_col0\" class=\"data row0 col0\" >1897</td>\n",
       "      <td id=\"T_50f91_row0_col1\" class=\"data row0 col1\" >Carlton</td>\n",
       "      <td id=\"T_50f91_row0_col2\" class=\"data row0 col2\" >Fitzroy</td>\n",
       "      <td id=\"T_50f91_row0_col3\" class=\"data row0 col3\" >16</td>\n",
       "      <td id=\"T_50f91_row0_col4\" class=\"data row0 col4\" >49</td>\n",
       "      <td id=\"T_50f91_row0_col5\" class=\"data row0 col5\" >1897-05-08</td>\n",
       "      <td id=\"T_50f91_row0_col6\" class=\"data row0 col6\" >0</td>\n",
       "      <td id=\"T_50f91_row0_col7\" class=\"data row0 col7\" >0.000000</td>\n",
       "      <td id=\"T_50f91_row0_col8\" class=\"data row0 col8\" >AFL</td>\n",
       "    </tr>\n",
       "    <tr>\n",
       "      <td id=\"T_50f91_row1_col0\" class=\"data row1 col0\" >1897</td>\n",
       "      <td id=\"T_50f91_row1_col1\" class=\"data row1 col1\" >Carlton</td>\n",
       "      <td id=\"T_50f91_row1_col2\" class=\"data row1 col2\" >South Melbourne</td>\n",
       "      <td id=\"T_50f91_row1_col3\" class=\"data row1 col3\" >36</td>\n",
       "      <td id=\"T_50f91_row1_col4\" class=\"data row1 col4\" >40</td>\n",
       "      <td id=\"T_50f91_row1_col5\" class=\"data row1 col5\" >1897-05-15</td>\n",
       "      <td id=\"T_50f91_row1_col6\" class=\"data row1 col6\" >0</td>\n",
       "      <td id=\"T_50f91_row1_col7\" class=\"data row1 col7\" >0.000000</td>\n",
       "      <td id=\"T_50f91_row1_col8\" class=\"data row1 col8\" >AFL</td>\n",
       "    </tr>\n",
       "    <tr>\n",
       "      <td id=\"T_50f91_row2_col0\" class=\"data row2 col0\" >1897</td>\n",
       "      <td id=\"T_50f91_row2_col1\" class=\"data row2 col1\" >Carlton</td>\n",
       "      <td id=\"T_50f91_row2_col2\" class=\"data row2 col2\" >Essendon</td>\n",
       "      <td id=\"T_50f91_row2_col3\" class=\"data row2 col3\" >41</td>\n",
       "      <td id=\"T_50f91_row2_col4\" class=\"data row2 col4\" >78</td>\n",
       "      <td id=\"T_50f91_row2_col5\" class=\"data row2 col5\" >1897-05-24</td>\n",
       "      <td id=\"T_50f91_row2_col6\" class=\"data row2 col6\" >0</td>\n",
       "      <td id=\"T_50f91_row2_col7\" class=\"data row2 col7\" >0.000000</td>\n",
       "      <td id=\"T_50f91_row2_col8\" class=\"data row2 col8\" >AFL</td>\n",
       "    </tr>\n",
       "    <tr>\n",
       "      <td id=\"T_50f91_row3_col0\" class=\"data row3 col0\" >1897</td>\n",
       "      <td id=\"T_50f91_row3_col1\" class=\"data row3 col1\" >Carlton</td>\n",
       "      <td id=\"T_50f91_row3_col2\" class=\"data row3 col2\" >Geelong</td>\n",
       "      <td id=\"T_50f91_row3_col3\" class=\"data row3 col3\" >22</td>\n",
       "      <td id=\"T_50f91_row3_col4\" class=\"data row3 col4\" >44</td>\n",
       "      <td id=\"T_50f91_row3_col5\" class=\"data row3 col5\" >1897-05-29</td>\n",
       "      <td id=\"T_50f91_row3_col6\" class=\"data row3 col6\" >0</td>\n",
       "      <td id=\"T_50f91_row3_col7\" class=\"data row3 col7\" >0.000000</td>\n",
       "      <td id=\"T_50f91_row3_col8\" class=\"data row3 col8\" >AFL</td>\n",
       "    </tr>\n",
       "    <tr>\n",
       "      <td id=\"T_50f91_row4_col0\" class=\"data row4 col0\" >1897</td>\n",
       "      <td id=\"T_50f91_row4_col1\" class=\"data row4 col1\" >Carlton</td>\n",
       "      <td id=\"T_50f91_row4_col2\" class=\"data row4 col2\" >Melbourne</td>\n",
       "      <td id=\"T_50f91_row4_col3\" class=\"data row4 col3\" >26</td>\n",
       "      <td id=\"T_50f91_row4_col4\" class=\"data row4 col4\" >107</td>\n",
       "      <td id=\"T_50f91_row4_col5\" class=\"data row4 col5\" >1897-06-05</td>\n",
       "      <td id=\"T_50f91_row4_col6\" class=\"data row4 col6\" >0</td>\n",
       "      <td id=\"T_50f91_row4_col7\" class=\"data row4 col7\" >0.000000</td>\n",
       "      <td id=\"T_50f91_row4_col8\" class=\"data row4 col8\" >AFL</td>\n",
       "    </tr>\n",
       "    <tr>\n",
       "      <td id=\"T_50f91_row5_col0\" class=\"data row5 col0\" >1897</td>\n",
       "      <td id=\"T_50f91_row5_col1\" class=\"data row5 col1\" >Carlton</td>\n",
       "      <td id=\"T_50f91_row5_col2\" class=\"data row5 col2\" >St Kilda</td>\n",
       "      <td id=\"T_50f91_row5_col3\" class=\"data row5 col3\" >35</td>\n",
       "      <td id=\"T_50f91_row5_col4\" class=\"data row5 col4\" >24</td>\n",
       "      <td id=\"T_50f91_row5_col5\" class=\"data row5 col5\" >1897-06-19</td>\n",
       "      <td id=\"T_50f91_row5_col6\" class=\"data row5 col6\" >0</td>\n",
       "      <td id=\"T_50f91_row5_col7\" class=\"data row5 col7\" >1.000000</td>\n",
       "      <td id=\"T_50f91_row5_col8\" class=\"data row5 col8\" >AFL</td>\n",
       "    </tr>\n",
       "    <tr>\n",
       "      <td id=\"T_50f91_row6_col0\" class=\"data row6 col0\" >1897</td>\n",
       "      <td id=\"T_50f91_row6_col1\" class=\"data row6 col1\" >Carlton</td>\n",
       "      <td id=\"T_50f91_row6_col2\" class=\"data row6 col2\" >Collingwood</td>\n",
       "      <td id=\"T_50f91_row6_col3\" class=\"data row6 col3\" >35</td>\n",
       "      <td id=\"T_50f91_row6_col4\" class=\"data row6 col4\" >41</td>\n",
       "      <td id=\"T_50f91_row6_col5\" class=\"data row6 col5\" >1897-06-22</td>\n",
       "      <td id=\"T_50f91_row6_col6\" class=\"data row6 col6\" >1</td>\n",
       "      <td id=\"T_50f91_row6_col7\" class=\"data row6 col7\" >0.000000</td>\n",
       "      <td id=\"T_50f91_row6_col8\" class=\"data row6 col8\" >AFL</td>\n",
       "    </tr>\n",
       "    <tr>\n",
       "      <td id=\"T_50f91_row7_col0\" class=\"data row7 col0\" >1897</td>\n",
       "      <td id=\"T_50f91_row7_col1\" class=\"data row7 col1\" >Carlton</td>\n",
       "      <td id=\"T_50f91_row7_col2\" class=\"data row7 col2\" >Fitzroy</td>\n",
       "      <td id=\"T_50f91_row7_col3\" class=\"data row7 col3\" >9</td>\n",
       "      <td id=\"T_50f91_row7_col4\" class=\"data row7 col4\" >47</td>\n",
       "      <td id=\"T_50f91_row7_col5\" class=\"data row7 col5\" >1897-06-26</td>\n",
       "      <td id=\"T_50f91_row7_col6\" class=\"data row7 col6\" >1</td>\n",
       "      <td id=\"T_50f91_row7_col7\" class=\"data row7 col7\" >0.000000</td>\n",
       "      <td id=\"T_50f91_row7_col8\" class=\"data row7 col8\" >AFL</td>\n",
       "    </tr>\n",
       "    <tr>\n",
       "      <td id=\"T_50f91_row8_col0\" class=\"data row8 col0\" >1897</td>\n",
       "      <td id=\"T_50f91_row8_col1\" class=\"data row8 col1\" >Carlton</td>\n",
       "      <td id=\"T_50f91_row8_col2\" class=\"data row8 col2\" >South Melbourne</td>\n",
       "      <td id=\"T_50f91_row8_col3\" class=\"data row8 col3\" >28</td>\n",
       "      <td id=\"T_50f91_row8_col4\" class=\"data row8 col4\" >74</td>\n",
       "      <td id=\"T_50f91_row8_col5\" class=\"data row8 col5\" >1897-07-03</td>\n",
       "      <td id=\"T_50f91_row8_col6\" class=\"data row8 col6\" >1</td>\n",
       "      <td id=\"T_50f91_row8_col7\" class=\"data row8 col7\" >0.000000</td>\n",
       "      <td id=\"T_50f91_row8_col8\" class=\"data row8 col8\" >AFL</td>\n",
       "    </tr>\n",
       "    <tr>\n",
       "      <td id=\"T_50f91_row9_col0\" class=\"data row9 col0\" >1897</td>\n",
       "      <td id=\"T_50f91_row9_col1\" class=\"data row9 col1\" >Carlton</td>\n",
       "      <td id=\"T_50f91_row9_col2\" class=\"data row9 col2\" >Essendon</td>\n",
       "      <td id=\"T_50f91_row9_col3\" class=\"data row9 col3\" >13</td>\n",
       "      <td id=\"T_50f91_row9_col4\" class=\"data row9 col4\" >42</td>\n",
       "      <td id=\"T_50f91_row9_col5\" class=\"data row9 col5\" >1897-07-10</td>\n",
       "      <td id=\"T_50f91_row9_col6\" class=\"data row9 col6\" >1</td>\n",
       "      <td id=\"T_50f91_row9_col7\" class=\"data row9 col7\" >0.000000</td>\n",
       "      <td id=\"T_50f91_row9_col8\" class=\"data row9 col8\" >AFL</td>\n",
       "    </tr>\n",
       "    <tr>\n",
       "      <td id=\"T_50f91_row10_col0\" class=\"data row10 col0\" >...</td>\n",
       "      <td id=\"T_50f91_row10_col1\" class=\"data row10 col1\" >...</td>\n",
       "      <td id=\"T_50f91_row10_col2\" class=\"data row10 col2\" >...</td>\n",
       "      <td id=\"T_50f91_row10_col3\" class=\"data row10 col3\" >...</td>\n",
       "      <td id=\"T_50f91_row10_col4\" class=\"data row10 col4\" >...</td>\n",
       "      <td id=\"T_50f91_row10_col5\" class=\"data row10 col5\" >...</td>\n",
       "      <td id=\"T_50f91_row10_col6\" class=\"data row10 col6\" >...</td>\n",
       "      <td id=\"T_50f91_row10_col7\" class=\"data row10 col7\" >...</td>\n",
       "      <td id=\"T_50f91_row10_col8\" class=\"data row10 col8\" >...</td>\n",
       "    </tr>\n",
       "    <tr>\n",
       "      <td id=\"T_50f91_row11_col0\" class=\"data row11 col0\" >2019</td>\n",
       "      <td id=\"T_50f91_row11_col1\" class=\"data row11 col1\" >Waratahs</td>\n",
       "      <td id=\"T_50f91_row11_col2\" class=\"data row11 col2\" >Blues</td>\n",
       "      <td id=\"T_50f91_row11_col3\" class=\"data row11 col3\" >29</td>\n",
       "      <td id=\"T_50f91_row11_col4\" class=\"data row11 col4\" >32</td>\n",
       "      <td id=\"T_50f91_row11_col5\" class=\"data row11 col5\" >2019-04-06</td>\n",
       "      <td id=\"T_50f91_row11_col6\" class=\"data row11 col6\" >0</td>\n",
       "      <td id=\"T_50f91_row11_col7\" class=\"data row11 col7\" >0.000000</td>\n",
       "      <td id=\"T_50f91_row11_col8\" class=\"data row11 col8\" >SUP</td>\n",
       "    </tr>\n",
       "    <tr>\n",
       "      <td id=\"T_50f91_row12_col0\" class=\"data row12 col0\" >2019</td>\n",
       "      <td id=\"T_50f91_row12_col1\" class=\"data row12 col1\" >Waratahs</td>\n",
       "      <td id=\"T_50f91_row12_col2\" class=\"data row12 col2\" >Rebels</td>\n",
       "      <td id=\"T_50f91_row12_col3\" class=\"data row12 col3\" >23</td>\n",
       "      <td id=\"T_50f91_row12_col4\" class=\"data row12 col4\" >20</td>\n",
       "      <td id=\"T_50f91_row12_col5\" class=\"data row12 col5\" >2019-04-20</td>\n",
       "      <td id=\"T_50f91_row12_col6\" class=\"data row12 col6\" >1</td>\n",
       "      <td id=\"T_50f91_row12_col7\" class=\"data row12 col7\" >1.000000</td>\n",
       "      <td id=\"T_50f91_row12_col8\" class=\"data row12 col8\" >SUP</td>\n",
       "    </tr>\n",
       "    <tr>\n",
       "      <td id=\"T_50f91_row13_col0\" class=\"data row13 col0\" >2019</td>\n",
       "      <td id=\"T_50f91_row13_col1\" class=\"data row13 col1\" >Waratahs</td>\n",
       "      <td id=\"T_50f91_row13_col2\" class=\"data row13 col2\" >Sharks</td>\n",
       "      <td id=\"T_50f91_row13_col3\" class=\"data row13 col3\" >15</td>\n",
       "      <td id=\"T_50f91_row13_col4\" class=\"data row13 col4\" >23</td>\n",
       "      <td id=\"T_50f91_row13_col5\" class=\"data row13 col5\" >2019-04-27</td>\n",
       "      <td id=\"T_50f91_row13_col6\" class=\"data row13 col6\" >1</td>\n",
       "      <td id=\"T_50f91_row13_col7\" class=\"data row13 col7\" >0.000000</td>\n",
       "      <td id=\"T_50f91_row13_col8\" class=\"data row13 col8\" >SUP</td>\n",
       "    </tr>\n",
       "    <tr>\n",
       "      <td id=\"T_50f91_row14_col0\" class=\"data row14 col0\" >2019</td>\n",
       "      <td id=\"T_50f91_row14_col1\" class=\"data row14 col1\" >Waratahs</td>\n",
       "      <td id=\"T_50f91_row14_col2\" class=\"data row14 col2\" >Bulls</td>\n",
       "      <td id=\"T_50f91_row14_col3\" class=\"data row14 col3\" >21</td>\n",
       "      <td id=\"T_50f91_row14_col4\" class=\"data row14 col4\" >28</td>\n",
       "      <td id=\"T_50f91_row14_col5\" class=\"data row14 col5\" >2019-05-04</td>\n",
       "      <td id=\"T_50f91_row14_col6\" class=\"data row14 col6\" >0</td>\n",
       "      <td id=\"T_50f91_row14_col7\" class=\"data row14 col7\" >0.000000</td>\n",
       "      <td id=\"T_50f91_row14_col8\" class=\"data row14 col8\" >SUP</td>\n",
       "    </tr>\n",
       "    <tr>\n",
       "      <td id=\"T_50f91_row15_col0\" class=\"data row15 col0\" >2019</td>\n",
       "      <td id=\"T_50f91_row15_col1\" class=\"data row15 col1\" >Waratahs</td>\n",
       "      <td id=\"T_50f91_row15_col2\" class=\"data row15 col2\" >Lions</td>\n",
       "      <td id=\"T_50f91_row15_col3\" class=\"data row15 col3\" >28</td>\n",
       "      <td id=\"T_50f91_row15_col4\" class=\"data row15 col4\" >29</td>\n",
       "      <td id=\"T_50f91_row15_col5\" class=\"data row15 col5\" >2019-05-11</td>\n",
       "      <td id=\"T_50f91_row15_col6\" class=\"data row15 col6\" >0</td>\n",
       "      <td id=\"T_50f91_row15_col7\" class=\"data row15 col7\" >0.000000</td>\n",
       "      <td id=\"T_50f91_row15_col8\" class=\"data row15 col8\" >SUP</td>\n",
       "    </tr>\n",
       "    <tr>\n",
       "      <td id=\"T_50f91_row16_col0\" class=\"data row16 col0\" >2019</td>\n",
       "      <td id=\"T_50f91_row16_col1\" class=\"data row16 col1\" >Waratahs</td>\n",
       "      <td id=\"T_50f91_row16_col2\" class=\"data row16 col2\" >Reds</td>\n",
       "      <td id=\"T_50f91_row16_col3\" class=\"data row16 col3\" >40</td>\n",
       "      <td id=\"T_50f91_row16_col4\" class=\"data row16 col4\" >32</td>\n",
       "      <td id=\"T_50f91_row16_col5\" class=\"data row16 col5\" >2019-05-18</td>\n",
       "      <td id=\"T_50f91_row16_col6\" class=\"data row16 col6\" >0</td>\n",
       "      <td id=\"T_50f91_row16_col7\" class=\"data row16 col7\" >1.000000</td>\n",
       "      <td id=\"T_50f91_row16_col8\" class=\"data row16 col8\" >SUP</td>\n",
       "    </tr>\n",
       "    <tr>\n",
       "      <td id=\"T_50f91_row17_col0\" class=\"data row17 col0\" >2019</td>\n",
       "      <td id=\"T_50f91_row17_col1\" class=\"data row17 col1\" >Waratahs</td>\n",
       "      <td id=\"T_50f91_row17_col2\" class=\"data row17 col2\" >Jaguares</td>\n",
       "      <td id=\"T_50f91_row17_col3\" class=\"data row17 col3\" >15</td>\n",
       "      <td id=\"T_50f91_row17_col4\" class=\"data row17 col4\" >23</td>\n",
       "      <td id=\"T_50f91_row17_col5\" class=\"data row17 col5\" >2019-05-25</td>\n",
       "      <td id=\"T_50f91_row17_col6\" class=\"data row17 col6\" >1</td>\n",
       "      <td id=\"T_50f91_row17_col7\" class=\"data row17 col7\" >0.000000</td>\n",
       "      <td id=\"T_50f91_row17_col8\" class=\"data row17 col8\" >SUP</td>\n",
       "    </tr>\n",
       "    <tr>\n",
       "      <td id=\"T_50f91_row18_col0\" class=\"data row18 col0\" >2019</td>\n",
       "      <td id=\"T_50f91_row18_col1\" class=\"data row18 col1\" >Waratahs</td>\n",
       "      <td id=\"T_50f91_row18_col2\" class=\"data row18 col2\" >Rebels</td>\n",
       "      <td id=\"T_50f91_row18_col3\" class=\"data row18 col3\" >20</td>\n",
       "      <td id=\"T_50f91_row18_col4\" class=\"data row18 col4\" >15</td>\n",
       "      <td id=\"T_50f91_row18_col5\" class=\"data row18 col5\" >2019-05-31</td>\n",
       "      <td id=\"T_50f91_row18_col6\" class=\"data row18 col6\" >0</td>\n",
       "      <td id=\"T_50f91_row18_col7\" class=\"data row18 col7\" >1.000000</td>\n",
       "      <td id=\"T_50f91_row18_col8\" class=\"data row18 col8\" >SUP</td>\n",
       "    </tr>\n",
       "    <tr>\n",
       "      <td id=\"T_50f91_row19_col0\" class=\"data row19 col0\" >2019</td>\n",
       "      <td id=\"T_50f91_row19_col1\" class=\"data row19 col1\" >Waratahs</td>\n",
       "      <td id=\"T_50f91_row19_col2\" class=\"data row19 col2\" >Brumbies</td>\n",
       "      <td id=\"T_50f91_row19_col3\" class=\"data row19 col3\" >24</td>\n",
       "      <td id=\"T_50f91_row19_col4\" class=\"data row19 col4\" >35</td>\n",
       "      <td id=\"T_50f91_row19_col5\" class=\"data row19 col5\" >2019-06-08</td>\n",
       "      <td id=\"T_50f91_row19_col6\" class=\"data row19 col6\" >1</td>\n",
       "      <td id=\"T_50f91_row19_col7\" class=\"data row19 col7\" >0.000000</td>\n",
       "      <td id=\"T_50f91_row19_col8\" class=\"data row19 col8\" >SUP</td>\n",
       "    </tr>\n",
       "    <tr>\n",
       "      <td id=\"T_50f91_row20_col0\" class=\"data row20 col0\" >2019</td>\n",
       "      <td id=\"T_50f91_row20_col1\" class=\"data row20 col1\" >Waratahs</td>\n",
       "      <td id=\"T_50f91_row20_col2\" class=\"data row20 col2\" >Highlanders</td>\n",
       "      <td id=\"T_50f91_row20_col3\" class=\"data row20 col3\" >12</td>\n",
       "      <td id=\"T_50f91_row20_col4\" class=\"data row20 col4\" >49</td>\n",
       "      <td id=\"T_50f91_row20_col5\" class=\"data row20 col5\" >2019-06-14</td>\n",
       "      <td id=\"T_50f91_row20_col6\" class=\"data row20 col6\" >0</td>\n",
       "      <td id=\"T_50f91_row20_col7\" class=\"data row20 col7\" >0.000000</td>\n",
       "      <td id=\"T_50f91_row20_col8\" class=\"data row20 col8\" >SUP</td>\n",
       "    </tr>\n",
       "  </tbody>\n",
       "</table>\n"
      ],
      "text/plain": [
       "<pandas.io.formats.style.Styler at 0x7b75f2e15430>"
      ]
     },
     "execution_count": 6,
     "metadata": {},
     "output_type": "execute_result"
    }
   ],
   "source": [
    "# Create a head/tail display of the full dataset\n",
    "styled_head_tail = style_head_tail_table(df, head_rows=10, tail_rows=10)\n",
    "export_table(styled_head_tail, \"head_tail_data\", \"Sports Data - First 10 and Last 10 Rows\")\n",
    "styled_head_tail"
   ]
  },
  {
   "cell_type": "code",
   "execution_count": 7,
   "metadata": {},
   "outputs": [
    {
     "data": {
      "text/plain": [
       "['MLB', 'NFL', 'AFL', 'EPL', 'SUP', 'NHL', 'LAX', 'IPL', 'NBA']"
      ]
     },
     "execution_count": 7,
     "metadata": {},
     "output_type": "execute_result"
    }
   ],
   "source": [
    "arctic = adb.Arctic('lmdb://arcticdb_sports')\n",
    "lib = arctic.get_library('leagues', create_if_missing=True)\n",
    "for league in df['LEAGUE'].unique():\n",
    "    lib.write(league, df[df['LEAGUE']==league])\n",
    "lib.list_symbols()"
   ]
  },
  {
   "cell_type": "code",
   "execution_count": 8,
   "metadata": {},
   "outputs": [
    {
     "data": {
      "text/html": [
       "<style type=\"text/css\">\n",
       "#T_e93d6 th {\n",
       "  background-color: #141C52;\n",
       "  color: #F9F9F9;\n",
       "  font-weight: bold;\n",
       "  text-align: left;\n",
       "  padding: 10px;\n",
       "}\n",
       "#T_e93d6 td {\n",
       "  background-color: #75D0E8;\n",
       "  color: #141C52;\n",
       "  padding: 8px;\n",
       "}\n",
       "#T_e93d6 tr:hover td {\n",
       "  background-color: #783ABB;\n",
       "  color: #F9F9F9;\n",
       "}\n",
       "#T_e93d6_row5_col0, #T_e93d6_row5_col1, #T_e93d6_row5_col2, #T_e93d6_row5_col3, #T_e93d6_row5_col4, #T_e93d6_row5_col5, #T_e93d6_row5_col6, #T_e93d6_row5_col7, #T_e93d6_row5_col8 {\n",
       "  background-color: #DDE5ED;\n",
       "  color: #141C52;\n",
       "  text-align: center;\n",
       "  font-style: italic;\n",
       "}\n",
       "</style>\n",
       "<table id=\"T_e93d6\">\n",
       "  <caption>10006 rows × 9 columns</caption>\n",
       "  <thead>\n",
       "    <tr>\n",
       "      <th id=\"T_e93d6_level0_col0\" class=\"col_heading level0 col0\" >YEAR_ID</th>\n",
       "      <th id=\"T_e93d6_level0_col1\" class=\"col_heading level0 col1\" >TEAM_ID</th>\n",
       "      <th id=\"T_e93d6_level0_col2\" class=\"col_heading level0 col2\" >OPP_TEAM_ID</th>\n",
       "      <th id=\"T_e93d6_level0_col3\" class=\"col_heading level0 col3\" >PS</th>\n",
       "      <th id=\"T_e93d6_level0_col4\" class=\"col_heading level0 col4\" >PA</th>\n",
       "      <th id=\"T_e93d6_level0_col5\" class=\"col_heading level0 col5\" >date</th>\n",
       "      <th id=\"T_e93d6_level0_col6\" class=\"col_heading level0 col6\" >home</th>\n",
       "      <th id=\"T_e93d6_level0_col7\" class=\"col_heading level0 col7\" >wi</th>\n",
       "      <th id=\"T_e93d6_level0_col8\" class=\"col_heading level0 col8\" >LEAGUE</th>\n",
       "    </tr>\n",
       "  </thead>\n",
       "  <tbody>\n",
       "    <tr>\n",
       "      <td id=\"T_e93d6_row0_col0\" class=\"data row0 col0\" >2010</td>\n",
       "      <td id=\"T_e93d6_row0_col1\" class=\"data row0 col1\" >Air Force</td>\n",
       "      <td id=\"T_e93d6_row0_col2\" class=\"data row0 col2\" >St. John's (NY)</td>\n",
       "      <td id=\"T_e93d6_row0_col3\" class=\"data row0 col3\" >7</td>\n",
       "      <td id=\"T_e93d6_row0_col4\" class=\"data row0 col4\" >10</td>\n",
       "      <td id=\"T_e93d6_row0_col5\" class=\"data row0 col5\" >2010-02-28</td>\n",
       "      <td id=\"T_e93d6_row0_col6\" class=\"data row0 col6\" >1</td>\n",
       "      <td id=\"T_e93d6_row0_col7\" class=\"data row0 col7\" >0.000000</td>\n",
       "      <td id=\"T_e93d6_row0_col8\" class=\"data row0 col8\" >LAX</td>\n",
       "    </tr>\n",
       "    <tr>\n",
       "      <td id=\"T_e93d6_row1_col0\" class=\"data row1 col0\" >2010</td>\n",
       "      <td id=\"T_e93d6_row1_col1\" class=\"data row1 col1\" >Air Force</td>\n",
       "      <td id=\"T_e93d6_row1_col2\" class=\"data row1 col2\" >Lehigh</td>\n",
       "      <td id=\"T_e93d6_row1_col3\" class=\"data row1 col3\" >13</td>\n",
       "      <td id=\"T_e93d6_row1_col4\" class=\"data row1 col4\" >14</td>\n",
       "      <td id=\"T_e93d6_row1_col5\" class=\"data row1 col5\" >2010-03-06</td>\n",
       "      <td id=\"T_e93d6_row1_col6\" class=\"data row1 col6\" >1</td>\n",
       "      <td id=\"T_e93d6_row1_col7\" class=\"data row1 col7\" >0.000000</td>\n",
       "      <td id=\"T_e93d6_row1_col8\" class=\"data row1 col8\" >LAX</td>\n",
       "    </tr>\n",
       "    <tr>\n",
       "      <td id=\"T_e93d6_row2_col0\" class=\"data row2 col0\" >2010</td>\n",
       "      <td id=\"T_e93d6_row2_col1\" class=\"data row2 col1\" >Air Force</td>\n",
       "      <td id=\"T_e93d6_row2_col2\" class=\"data row2 col2\" >Penn</td>\n",
       "      <td id=\"T_e93d6_row2_col3\" class=\"data row2 col3\" >7</td>\n",
       "      <td id=\"T_e93d6_row2_col4\" class=\"data row2 col4\" >8</td>\n",
       "      <td id=\"T_e93d6_row2_col5\" class=\"data row2 col5\" >2010-03-07</td>\n",
       "      <td id=\"T_e93d6_row2_col6\" class=\"data row2 col6\" >1</td>\n",
       "      <td id=\"T_e93d6_row2_col7\" class=\"data row2 col7\" >0.000000</td>\n",
       "      <td id=\"T_e93d6_row2_col8\" class=\"data row2 col8\" >LAX</td>\n",
       "    </tr>\n",
       "    <tr>\n",
       "      <td id=\"T_e93d6_row3_col0\" class=\"data row3 col0\" >2010</td>\n",
       "      <td id=\"T_e93d6_row3_col1\" class=\"data row3 col1\" >Air Force</td>\n",
       "      <td id=\"T_e93d6_row3_col2\" class=\"data row3 col2\" >Army West Point</td>\n",
       "      <td id=\"T_e93d6_row3_col3\" class=\"data row3 col3\" >8</td>\n",
       "      <td id=\"T_e93d6_row3_col4\" class=\"data row3 col4\" >7</td>\n",
       "      <td id=\"T_e93d6_row3_col5\" class=\"data row3 col5\" >2010-03-13</td>\n",
       "      <td id=\"T_e93d6_row3_col6\" class=\"data row3 col6\" >1</td>\n",
       "      <td id=\"T_e93d6_row3_col7\" class=\"data row3 col7\" >1.000000</td>\n",
       "      <td id=\"T_e93d6_row3_col8\" class=\"data row3 col8\" >LAX</td>\n",
       "    </tr>\n",
       "    <tr>\n",
       "      <td id=\"T_e93d6_row4_col0\" class=\"data row4 col0\" >2010</td>\n",
       "      <td id=\"T_e93d6_row4_col1\" class=\"data row4 col1\" >Air Force</td>\n",
       "      <td id=\"T_e93d6_row4_col2\" class=\"data row4 col2\" >Loyola Maryland</td>\n",
       "      <td id=\"T_e93d6_row4_col3\" class=\"data row4 col3\" >3</td>\n",
       "      <td id=\"T_e93d6_row4_col4\" class=\"data row4 col4\" >18</td>\n",
       "      <td id=\"T_e93d6_row4_col5\" class=\"data row4 col5\" >2010-03-20</td>\n",
       "      <td id=\"T_e93d6_row4_col6\" class=\"data row4 col6\" >0</td>\n",
       "      <td id=\"T_e93d6_row4_col7\" class=\"data row4 col7\" >0.000000</td>\n",
       "      <td id=\"T_e93d6_row4_col8\" class=\"data row4 col8\" >LAX</td>\n",
       "    </tr>\n",
       "    <tr>\n",
       "      <td id=\"T_e93d6_row5_col0\" class=\"data row5 col0\" >...</td>\n",
       "      <td id=\"T_e93d6_row5_col1\" class=\"data row5 col1\" >...</td>\n",
       "      <td id=\"T_e93d6_row5_col2\" class=\"data row5 col2\" >...</td>\n",
       "      <td id=\"T_e93d6_row5_col3\" class=\"data row5 col3\" >...</td>\n",
       "      <td id=\"T_e93d6_row5_col4\" class=\"data row5 col4\" >...</td>\n",
       "      <td id=\"T_e93d6_row5_col5\" class=\"data row5 col5\" >...</td>\n",
       "      <td id=\"T_e93d6_row5_col6\" class=\"data row5 col6\" >...</td>\n",
       "      <td id=\"T_e93d6_row5_col7\" class=\"data row5 col7\" >...</td>\n",
       "      <td id=\"T_e93d6_row5_col8\" class=\"data row5 col8\" >...</td>\n",
       "    </tr>\n",
       "    <tr>\n",
       "      <td id=\"T_e93d6_row6_col0\" class=\"data row6 col0\" >2019</td>\n",
       "      <td id=\"T_e93d6_row6_col1\" class=\"data row6 col1\" >Yale</td>\n",
       "      <td id=\"T_e93d6_row6_col2\" class=\"data row6 col2\" >Penn</td>\n",
       "      <td id=\"T_e93d6_row6_col3\" class=\"data row6 col3\" >11</td>\n",
       "      <td id=\"T_e93d6_row6_col4\" class=\"data row6 col4\" >12</td>\n",
       "      <td id=\"T_e93d6_row6_col5\" class=\"data row6 col5\" >2019-05-05</td>\n",
       "      <td id=\"T_e93d6_row6_col6\" class=\"data row6 col6\" >1</td>\n",
       "      <td id=\"T_e93d6_row6_col7\" class=\"data row6 col7\" >0.000000</td>\n",
       "      <td id=\"T_e93d6_row6_col8\" class=\"data row6 col8\" >LAX</td>\n",
       "    </tr>\n",
       "    <tr>\n",
       "      <td id=\"T_e93d6_row7_col0\" class=\"data row7 col0\" >2019</td>\n",
       "      <td id=\"T_e93d6_row7_col1\" class=\"data row7 col1\" >Yale</td>\n",
       "      <td id=\"T_e93d6_row7_col2\" class=\"data row7 col2\" >Georgetown</td>\n",
       "      <td id=\"T_e93d6_row7_col3\" class=\"data row7 col3\" >19</td>\n",
       "      <td id=\"T_e93d6_row7_col4\" class=\"data row7 col4\" >16</td>\n",
       "      <td id=\"T_e93d6_row7_col5\" class=\"data row7 col5\" >2019-05-11</td>\n",
       "      <td id=\"T_e93d6_row7_col6\" class=\"data row7 col6\" >1</td>\n",
       "      <td id=\"T_e93d6_row7_col7\" class=\"data row7 col7\" >1.000000</td>\n",
       "      <td id=\"T_e93d6_row7_col8\" class=\"data row7 col8\" >LAX</td>\n",
       "    </tr>\n",
       "    <tr>\n",
       "      <td id=\"T_e93d6_row8_col0\" class=\"data row8 col0\" >2019</td>\n",
       "      <td id=\"T_e93d6_row8_col1\" class=\"data row8 col1\" >Yale</td>\n",
       "      <td id=\"T_e93d6_row8_col2\" class=\"data row8 col2\" >Penn</td>\n",
       "      <td id=\"T_e93d6_row8_col3\" class=\"data row8 col3\" >19</td>\n",
       "      <td id=\"T_e93d6_row8_col4\" class=\"data row8 col4\" >18</td>\n",
       "      <td id=\"T_e93d6_row8_col5\" class=\"data row8 col5\" >2019-05-19</td>\n",
       "      <td id=\"T_e93d6_row8_col6\" class=\"data row8 col6\" >1</td>\n",
       "      <td id=\"T_e93d6_row8_col7\" class=\"data row8 col7\" >1.000000</td>\n",
       "      <td id=\"T_e93d6_row8_col8\" class=\"data row8 col8\" >LAX</td>\n",
       "    </tr>\n",
       "    <tr>\n",
       "      <td id=\"T_e93d6_row9_col0\" class=\"data row9 col0\" >2019</td>\n",
       "      <td id=\"T_e93d6_row9_col1\" class=\"data row9 col1\" >Yale</td>\n",
       "      <td id=\"T_e93d6_row9_col2\" class=\"data row9 col2\" >Penn St.</td>\n",
       "      <td id=\"T_e93d6_row9_col3\" class=\"data row9 col3\" >21</td>\n",
       "      <td id=\"T_e93d6_row9_col4\" class=\"data row9 col4\" >17</td>\n",
       "      <td id=\"T_e93d6_row9_col5\" class=\"data row9 col5\" >2019-05-25</td>\n",
       "      <td id=\"T_e93d6_row9_col6\" class=\"data row9 col6\" >1</td>\n",
       "      <td id=\"T_e93d6_row9_col7\" class=\"data row9 col7\" >1.000000</td>\n",
       "      <td id=\"T_e93d6_row9_col8\" class=\"data row9 col8\" >LAX</td>\n",
       "    </tr>\n",
       "    <tr>\n",
       "      <td id=\"T_e93d6_row10_col0\" class=\"data row10 col0\" >2019</td>\n",
       "      <td id=\"T_e93d6_row10_col1\" class=\"data row10 col1\" >Yale</td>\n",
       "      <td id=\"T_e93d6_row10_col2\" class=\"data row10 col2\" >Virginia</td>\n",
       "      <td id=\"T_e93d6_row10_col3\" class=\"data row10 col3\" >9</td>\n",
       "      <td id=\"T_e93d6_row10_col4\" class=\"data row10 col4\" >13</td>\n",
       "      <td id=\"T_e93d6_row10_col5\" class=\"data row10 col5\" >2019-05-27</td>\n",
       "      <td id=\"T_e93d6_row10_col6\" class=\"data row10 col6\" >1</td>\n",
       "      <td id=\"T_e93d6_row10_col7\" class=\"data row10 col7\" >0.000000</td>\n",
       "      <td id=\"T_e93d6_row10_col8\" class=\"data row10 col8\" >LAX</td>\n",
       "    </tr>\n",
       "  </tbody>\n",
       "</table>\n"
      ],
      "text/plain": [
       "<pandas.io.formats.style.Styler at 0x7b75f2cd9610>"
      ]
     },
     "execution_count": 8,
     "metadata": {},
     "output_type": "execute_result"
    }
   ],
   "source": [
    "style_head_tail_table(lib.read('LAX').data, head_rows=5, tail_rows=5)"
   ]
  },
  {
   "cell_type": "code",
   "execution_count": 9,
   "metadata": {},
   "outputs": [],
   "source": [
    "def ols_coef (df, xcol, ycol):\n",
    "    \"\"\"simple OLS function used for lambda calcs -- assumes univariate regression\"\"\"\n",
    "    model=sm.OLS(df[ycol],sm.add_constant(df[xcol])).fit()    \n",
    "\n",
    "    outdf = pd.DataFrame({'adj.'    : model.params.iloc[0],\n",
    "                          'adj. se' : model.bse.iloc[0],\n",
    "                          'λ'    : model.params.iloc[1],\n",
    "                          'λ se' : model.bse.iloc[1],\n",
    "                          'nobs' : model.nobs,\n",
    "                          'adj. $R^2$': model.rsquared_adj}, index=[0])    \n",
    "\n",
    "    return outdf"
   ]
  },
  {
   "cell_type": "markdown",
   "metadata": {},
   "source": [
    "Our study period is from 2010 to 2019"
   ]
  },
  {
   "cell_type": "code",
   "execution_count": 10,
   "metadata": {},
   "outputs": [],
   "source": [
    "st_year_ = 2010\n",
    "end_year_ = 2019"
   ]
  },
  {
   "cell_type": "markdown",
   "metadata": {},
   "source": [
    "### Connect to ArcticDB and get list of leagues"
   ]
  },
  {
   "cell_type": "code",
   "execution_count": 11,
   "metadata": {},
   "outputs": [
    {
     "data": {
      "text/plain": [
       "['MLB', 'NFL', 'AFL', 'EPL', 'SUP', 'NHL', 'LAX', 'IPL', 'NBA']"
      ]
     },
     "execution_count": 11,
     "metadata": {},
     "output_type": "execute_result"
    }
   ],
   "source": [
    "league_data = arctic.get_library('leagues')\n",
    "leagues = league_data.list_symbols()\n",
    "leagues"
   ]
  },
  {
   "cell_type": "code",
   "execution_count": null,
   "metadata": {},
   "outputs": [
    {
     "data": {
      "application/vnd.plotly.v1+json": {
       "config": {
        "plotlyServerURL": "https://plot.ly"
       },
       "data": [
        {
         "hovertemplate": "AFL<br>Range: %{x}<br>Count: %{y}<extra></extra>",
         "marker": {
          "color": "#783ABB"
         },
         "name": "AFL",
         "nbinsx": 30,
         "showlegend": false,
         "type": "histogram",
         "x": {
          "bdata": "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",
          "dtype": "i2"
         },
         "xaxis": "x",
         "yaxis": "y"
        },
        {
         "hovertemplate": "EPL<br>Range: %{x}<br>Count: %{y}<extra></extra>",
         "marker": {
          "color": "#783ABB"
         },
         "name": "EPL",
         "nbinsx": 10,
         "showlegend": false,
         "type": "histogram",
         "x": {
          "bdata": "BgQBAgQBBgMCAwQAAAICAQMDBAICBAABAAECAwMCAgEBAQIAAQQAAwIBAgEBAgEBAQUBAQMBAgEAAAAAAgABBQACAgEBAQICAgEBAAABAAEAAQEBAQIAAgEBAwECAQABAQABAgABAQICAQEBAQEAAAIBAAEAAwACAgMAAAMCAAAAAAEAAQIBAgIAAAEDAQEBAgEAAAIBAgEAAAIDAQICAQMAAQABAQMDAQIAAgEAAAAAAAECAAQAAAAAAgIAAgABAQAAAwACAgECAwEDAAEBAAEAAAABAgACAQEBAQAAAQQBAAEEAgMCAwIDAQIBBQQBBAMBAwIBAAIHAwIBAgECAgQBBQcCAQEHAggBAAIBAwEBAQIBAgACAAIDAQECAgICAQACAwEFAgICAAICAwIAAQEAAAIBAAICAgMBAAMBAQEDAAECAAAAAQADAgAAAQACAAABAwAAAQEBAQEAAQIAAAACAwMBAAAAAQIAAAIBAgAAAQECAgABAAAAAgABBAEDBAMGAAACAQICAgABAgACAQECAAIBAAACAAQBAwEAAwQAAAIBAQQDAwEBAgADAgECAwAEAgMEAAIBAgEABAECAAMGBQAAAwABAQAFAgMEAgICAAIAAwQEAAMAAwUBAwQDBQEBAwEDAgQBAAEDAQQAAAEAAgAAAQEABAEAAQIBAQIAAQEAAAABAQIBAQMAAAAAAQIDAAIAAAEBAQABAgECAQEAAAIAAAADAQADAQECAQEAAQECAAEAAAEAAQECAAQBBQIBAQIAAQAAAQADAQICAAABAQAABAEDAQADAAIBAAECBQICAQAFAgIAAAIJAQIAAwIAAgAAAgEAAAMCAwICAQICAQEBAgIBAAACAQIBAgICAQMFAAABAQIAAAEAAQIDAAEBAAEAAgEAAwIBAgAAAQEAAwEBAwABAQECAgEBAAIBAAEBAAAAAQABAQABAAMCAgAAAQABAQICAAEBAgEAAAIBAAIAAAAAAgEBAAAAAgIDAAAAAAEBAgEGAgQBAgACAwEAAgICBAIAAwIDAAMDAgQCAQACAAMBAwEBAQECAwABAQECAQAAAAEDAgACAAIBAAMAAQECAQIBBAIAAgECAQEBAgECAgIAAQAAAQIAAgIAAQEBAAEAAgEAAgEBAAEBAQIBAgEAAQEAAQEBAQEBAgAAAQECAgICAQMBAQADAAMAAgADAAECAgABAAABAQEDBAACAgABAgIAAgICAAICAQIAAQICAQIBAwEDAAECAAEBAQABBAIAAwIBAQIBAgEABAEDBQIAAgACAAEBAAABAQIBAwABAwIAAAEDAAYGAgMEAAIAAgIAAQAAAQEBAQEDAAIEBAAAAgMCAQEDAwMCAQIAAAEAAwAAAgIBAQIBAQIBAQACAQACAgIBBQACAgECAgMCAAECAAEAAgICAQABAQECAQAAAQEBAAECAAMBAgABAgABAwEDAAEDAwICAgEAAQACAgEAAgECAQADAQMBAAIBAQIDAQIBAQEDAgEDAQUDBQAAAAMAAQIBAgMAAQIAAAQBAQMBAwQBAAQAAgMBAQEABQABAgEBAwIDAgMDAwIAAgICAgACAgcBAgECAgAFAwMBAgQBAQEEAgABAAIBBAAGAQABAQECAgUBAQABAQEDAQABBQEBAAQAAgEBAAQAAAEAAgIDAQEAAgECAQEBAAADAgMBAgACAAIBAgAAAwAAAQAEAQIBAwADAAACAAEBAQIAAAEBAgEDAgIBAAEAAAMBAQICAgEAAAAAAgAEAAIBAwACAAEDAAICAQACAQQDAgEBAgIBAQABAQICAQMAAAMDAgEBAAICAAEAAQMDAQICAQACAAAEAwEAAQEAAwACAAMBAQMCAgMBAgIBAQMAAQABAQEBAQEAAgIAAAMAAQEDAQIAAAIDAAMDAwACAAEAAQECAAAAAQEAAAICAQABAQEAAQIAAgIAAQEAAQIEAQAAAgAAAwIBAQMBAgEBAQEBAAEAAgEAAgEDAAEBAQABAwAAAgABBAMBAQABAAEDAwIAAAIBAwMBAgMFAwIBBAEAAgEBAQIBAAcCBQICAQMBAQMBAAEDAwADAAIBAQIBAQIDAAAAAgABAAMAAQMCAQAAAQEAAgEBAAABAAEAAQEAAQQBAAEBAwADAQQBAQEBAwEDAQABAwABAgIBAAACAAIAAAEEAgEAAQABAwABBQEAAAEAAgABAgADAAABAAACAgMAAAECAgECAgACAwIBBAUDAAMBAQMDAgEBAQECAQABAwADAAEBAAQCAQAGAAECAAECAwAAAQMAAQICAAABAQEBAQABAQEBAgEBAAACAgIEBAQBAAMAAAEBAgAGAAECAQABAQACAAEBAgEFAQACAQUAAAACAwECAAECAAECAwAAAgIBAQIAAgEAAQIAAQMAAAEDAAEBAAMCAQABAwADAAQABAMFAwICBAQGAwMDAQUBAQMAAAMBAwADAQMCAAIBAwAEBgIBAgMCAwgFAwECAQEBAQEBAQQCBQUCAAMCAgMCAgMCBQECAgAEBAACAQABAgABAwICAQMCAQEAAgACAgEDAQICAgACAQEBAwICAgMAAgABAQEBAAICAAMBAwIBAgEEAQIAAQICAAACAwEAAQACAQICAQAAAwIAAQAAAwEAAQEBAgMBAQAAAgEAAQADAgECAAEBAwECAAMAAQEBAgABAQEAAQACAQEAAgMBAgIAAAICAAEAAAECAQABAQACAQABAQACAQAAAQQBAgECAgAAAQECAAMBAQQAAgMBAQABAQADAwAAAAACAQAAAAAAAwECAQIDAAAAAgIAAAEBAgMAAQICAAIBAwABAAADAQQAAQABAgQCAgICAwMCAwMBAQECAQECAQIDAAUCAQABAAMAAQACBAECAQEAAQAAAgICAAACAQEBAgMAAAABAgEBBQQBAAEBAAMAAQEAAgIBAAIAAQEAAQAAAQMCAAIBAAACAQABAQECAAABAQICAQECAQQBAwICAAAAAQEAAgEDAQACAQECAQEBAQIAAgECAAAAAQIBAAAABAACAAACBgEBAwABAQMFAAEAAgUBBwEAAQUCAQECAQIEAgMAAQEBBAEAAQECAQEAAAEBAgAAAQEAAwAAAAIAAgEDAgEAAgMBAwEABgIBAgIEAgABAgQEAgEBAQAAAQMIAQIABAICAgIEAAECAQIDAgIBAgICAQMAAgMDAgECAgIBAQEBAgECAgECAAACAwABAwIBAgIAAAEAAgEFAgADAgECAQMCAwEAAAACAQABAQIBAAMAAAECAQMAAQAAAAIBAwACAAEBBQABAgEBAwABAQMBBAEDAwEFAgIABQQDAQIAAAIGAAMBAwIDAQECAwIBAAIFAAIBAgMBAAQDAgIAAgECAQAEAgEBAgABAgIAAwMEAgIDBAMCAwADAQQDAwEEAgQCAQIBAgIEAQEBAgIDAQACBQIAAQIBAgABAgEAAQABAwEBAQMDAQABAgMBBAACAQABAAEAAAIAAAEBAAACAQEBAQABAQECBAIBAAMBAAABAAACAAABAAIBAgABBAMAAQEAAQECAQABAAEBAAECAgABAAEAAQAAAQACAwICAQAAAAABAAECAQACAgADAQACAgADAAACAAABAQMCAgIBAAEBAAEAAAEABAACAgACAQQBAgEBAAEDAgEAAQABAwEBAgABAgMCAQADAgIBAAAAAQEBAAIBAAIAAgAAAQEBAgEAAQADAwAAAQIAAgAAAQAAAQACAQEBAQACAQEBAAEAAAEDAgABAQMBAQEBAAMDAAEAAQIBAQABAwEBAQEABQMCAAAAAgIAAQECAAMCAwABAAICAAMAAAQAAQEAAQIAAAADAQABAQEDAgMCAgIAAQIDAgMBAQAEAgMAAQEBAgMCAgACAgMCAQICAQMBAgABAQMBAQICAgQBAAAAAgIAAQICAQACAgACAAEBAQMCAAAFAQADAAECAQQBAAEBAQADAgABAAIAAQEBAQECAQADAAECAgEAAAQAAgIAAQACAQIBAQADAAACAQABAwABAgICAQMAAgEBAAACAwIBAgEDAQMDAgEEAgIAAgMCAQMAAwECAgICAgEABAABAAIBAAMDAwECAwEAAQEDAAAAAAICAAMAAAEAAQEBAgQBAAAABAEBAQEAAAEDAAAAAwABAAIBAQABAAIAAAABAQACAAACAAIAAAAAAwEDAwABAQAAAQICAAACAQMEAgACAwMEAgIAAQIDAgMAAQMBAQMEAAYAAwEBAgACAAEDAAAAAQEAAAABAAECAQABAAEAAQEAAwABAAAAAQMBAwEAAwICAAABAwMBAgIAAAMEAQEEAgACAQIBAAIAAAECAwMDAwECAgACAgEBAAEAAQEEAAEAAQABAgECAgACAQAAAAICAQEBAQABAgEBAgECAAEAAQMBAAEAAQEAAwABAAECBgAAAAABAgAEAQACAQABAAIBAQABAQECAAMDAgQABAMBBQQFAwEBAgUCBAEFAwQDAwYCBAIDAwADAgQCAgAEAgMDAQcABgMDAQYEAgEDAgQFAAABAgUDAQQCAgMCAwQCBAAAAgEBAgEDAwECAgAAAwMDAQECAQIBAgACAwACAAQEAAQAAwEAAAECAgICAgECAQICAAEBAwUAAAADAAAAAAEEAAEAAAAAAQADAQIAAQAAAQEBAAADAQEBAgEAAQABAAEAAQAAAQEBAgIAAAACAAAAAQEAAAECAgECAQQAAQIBAQIDAQABAgIDAgEBAAEEAgQBAAACAQEAAgEAAQAAAAIBAwIAAAMAAgEAAQMAAAICAQABAQMEAQABAQAEAgABAQEAAQEAAgABAAADAQAAAQIABAIBAwABAAABAQEAAgIEAQIBAQACAgIBAAQAAAMCAAMBAQEAAQIAAQIAAwEDAQECAgMAAAIEAAMBAQACAQEAAgEAAAACAgIAAwEDAgIDAQEBBAABAAADAAUDAwEAAwAAAAEDAgEAAQICAgECAAABAQMBAAEDAQEBAQACAAMBAwEBAAABAgAAAAIAAwEAAAEAAwABAAEBAwECAQACAgIDAAEAAgIBAQAAAgACAgECAwEAAgIDAQEBAQIEAgICAAMCBQECAgICAwIEAQADAAEABAEAAgEAAAAAAAEAAQEBAgABAAAAAAAAAQABAAIEAAEDAQIDAQEAAQAAAAAAAgEBAAECAQEAAQEAAgMCAgACAQEAAAEAAAAAAAABAAEDAgYEAQMCAgECAgIAAwECAgIBAwIFAQIBAQEBAwIBAQADAQEAAwEBAwADAgABAgEAAwEAAAEAAQAAAgMAAQEBAwADAgIEAAAAAQMBAgIDAgIBAQMDAAECAQEAAwAAAgABAAEAAAIAAAMCAQEBAwIAAgABAQECAgICAgAAAAEAAQAAAAMAAgAAAAECAgABAAIBAAIBAQAAAAIAAQEFAAIAAAAAAAIBAQAAAQECAQABAAECAAADAgMCAQEDAgAFAgEDAAEBAgMAAAEBAQMAAAIBBAIBAgIAAwICAgEBAQIAAAIBAQECAwACAQQCBAEBAgIDBAEBAwMCAwEAAQEEBQECAAMBAgIDAQYEAgEBAAQDAgICAQABAgMCAgMBAwABAAIDAQMBAgEDAgMEAAAAAgEAAAADAAIAAgECAQIBAAECAQABAwMAAQMBAQABAAABAAABAgABAQIAAAEAAgEAAgIBAgADAAIBAwEAAQEAAQACAQEBAQEEAwAAAQACAQEAAwQBAgAIAQECAQAAAQADAwECAQIAAQAAAAEBAgACAQIBAAYAAAEBAAIBAQIAAgIBAAEDAQABAgEAAQMBAQIBAgABAQECAQADAAYCAQACAAADAAADAQAAAQABAQEAAgABAgEAAAABAAABAQECAgAAAQIBAwIAAAIBAgACAQECAQEBAQEBAQABAQACAQIAAQMBAAMCAQIAAQQAAgABAQEBAgECAgAAAgICAAUBAgMCAgIDAgAEAAADAgAAAgECAAAAAQQBAgIBAAAAAQABAgEAAQEAAAICAAEBAQABAgIAAQEDAQADAQIDAQIDAgIAAQECAwECAAEBAQMAAQACAQAAAQEBAAABAAEAAAAEAQECAQEBAQAAAgMBAgIAAAABAwECAAEAAgMDAAACAQEBAQEAAgABAgAFAwMCAwEBAQMCAgACAQMAAAACAgIBAgIEAwECAAECBAEAAQICAAIAAAEBAAACAQABAQABAQEAAAIAAQEAAAAAAQACAgAAAgADAQECAgECAQEAAQAAAQMCAAMCAwEAAQUCAgECBAAABAICAQEDAQICAAABAgEAAAIABQEBAgAAAAAAAQEBAQICAQACAQABAAACAQIDAAADAAMBAAEGAQQDAQECAQMBAAMBAwMAAwIAAAEAAQACAQADBAIBAQMCAgICAQMCAwEDAgMAAAABAQMCAwEBAgEBAQECAgQBAwEBAQAAAQEDAQABAwEEAQACAAEBAAMABQACBgMCAgEEAgQCAQIBAQMDAgIBAQEGBQACAAEDAAIBBAACAAQCAQEBAAQAAAQCAwEEAgIBAQEAAQMDAwADAAACAgEAAQEAAAIDAQADAQEDAQABAQABAgEBAgMCAAAAAAECAQYAAAEAAQICAQAAAAMCAQABAQABAAECAQMBAgEABQEDAQADAQIBAgABAQABAAECAAIBAQAEAAACAAEAAAEDAAAAAAQAAgAAAwACAwMCAQIBAAEBAAAEAQACAwEAAQEBAAECAwADAQQEAgQAAgEAAAICAQEAAAEBAAIAAQIEAQMAAAAAAwIBAQECAgEAAAEBAgIBAQIAAAACAAMCAAECAQABAQADBAEBAAICAAIBAQAAAwABAwMCAgIBAgAAAQIAAgAAAgAAAQABAAECAQIBAQABAgECAQIBAAADBAEAAgEAAQEEAgAFAwEEAAEBAgMCAQAEAwMBAgIAAgIDAQMEAQIBAQIAAAABAgABAAICAQEDAgEDAgEBAAACAAACAAAAAQABAQEDAAICAAACAQABAgABAQIAAgEBAgEAAQICAAABAAEDAgEAAAEAAAEAAQECAQMDAgICAgMCAAEBAQAAAAECAgMBAgIAAgEBAwICAwIDAwEDAQEAAQEAAQIGAAABAQEEAgEBAAMDAQIAAwABAQMCAAIBAAQBAgIBAwADAgQDAQMABAEBAwUDAQEBAgMEAgEBAgEBAgMAAgEAAgIEAgMAAgABAAIAAQIAAwABAAMAAQEEAQEBAQEBAQIBAAABAAEAAgIBAQICAwIBAAIDBAIFAQIDAQEBAwQAAwIBAwEDAgIBAgMABAMDAQQFAAABAgQDAQABAgIBBAMDAQABAAEAAAIAAAECAQIBAwICAAAABAABAgEDAwABAQECAAEAAQICAAICAwQBAQYAAgIDBAEBBAMAAAABAQICAAEBAQABAAACAAEAAwAAAAIBAwAAAgABAQIAAgQBAQIAAAABAQACAQMBAAADAQEBAgEEAAIAAQAAAAAAAAMDAwICAgIAAQMBAQEEAAEEAgUCAAIEBgACAwIDAQQBAgECAQACAQMCAQMCAgEBAQAEAwIEAwIEAwABAQQBAgIBAgICAwACAAIEAgICAAECAQMDAAIFAgMFAwIBAQEEAQAAAAMBAQEBAgIDAgIBAQADAgEDAAEDAgIAAQABAAIBAgABAQEBAAACAQACAQAAAwABAAABAQAAAAABAAIAAQABAgABAAEAAQEBAwADAQABAAEAAQADAQEAAAMBAQQEAQADAQACAAAAAgAAAQEAAAEBAQICAwEAAQIBAAIBAgIDAQEAAQACAAEAAAEDAAACAQEBAQEAAAIBAAABAgMAAgAAAQEBAgEAAAQAAAAAAAAAAgAAAgAAAQEAAQIAAQECAAEBAQUAAwEAAQACAAMCAQIBAwEAAAEAAAIBAQICAQEBBAECAgEAAQEDAQUAAwIEBAIEAgABAAQDAgIDBAQBAgACBgcBAQEEAwACAQABAQIAAQMAAAEBAAACAgIAAQMAAQIAAQAAAAADAAEBAAAEAQEBAQACBAEDAAMAAAIDAAIBAQICAAADAAAAAAACAAEBAQEBAgIAAQEBAAECAQECAQEEAAADAwADAgEBAgIBAAECAAABAAIAAAEAAgEAAAIAAQQAAQECAAAAAwICAgEDAgECAQECAgIAAAEBAgQAAAMAAgIBBQIBAgEFAQEAAQMDAQIBBAEFAAABAwMDAQQBBQEBAAAAAwEBAAEDAQECAAABAAAAAQAAAgAAAQMBBAIAAAECAQABAQADAAEBAQABAQABAQIAAgABAQAAAgABAAABAQABAgMCAgIBAQAAAQICAgIABAABBAEBBAEBAwADAQACBQIABAABAwEAAgEBAwIBAQEAAAAAAAAAAAIAAgACAgAAAgIDAQIAAgEBAQEBAAIBAgECAwAFAgIBAQAAAAIAAQIAAwIBBAIBAQMAAAEAAAECAQMAAQICAQABAQIBAQMBAAABAAAAAgABAAEAAAIBBAEBAAABAAAABAIAAAAAAQEAAAEAAwIAAQECAAECAgIAAQIBAwQAAgEBAwACAQEBAQEEAgEBAAAAAwQDAQQAAQMBAAEDBAMBAwUBAAQDBQICBAADAgIEAgEFAgADAgAABAIBAgUGBQEHAwMDAgICAgIEBAQBAAMDAwMBBQMBAgMCAwUEAAMBBAQCAgQBBAABAQAEAQQDAQECAgIAAgMBAAIAAgMCAgMAAgIAAAEAAAMBAgABAgEAAAEAAgECAAADAAABAQEBAQECAAMBAgIAAAEAAwADAAABAAECAQEAAAQBAQEBAAECAAECAQEDAAEAAAACAgACAQEAAAEBAgEAAgIBAQICAQACAQAAAwEAAAACAAEBAQAAAQABAQEAAQIAAAIAAAEAAgEBAAAAAAEBAAEBAAIAAQEDAQEBBAAAAQEAAAAAAQIBAQMAAwQBBAABAAEBAQUCAQMFAgEEAQICAQECBAMCAQECAAEFAwIAAgACAgICAAICAwIBAAEBAAIBAQIAAAQAAQEAAAIBAAAAAgABAQEBAAACAQACAAABAgAAAAEBAAEBAgEAAgABAAEBAQEBAgEBAAACAAIAAgEBAAIBAAEAAQEAAwIDAgEEAQEBAgEBAAMBAQEBAgADAgICAAQAAgQAAwEBAQECAAACAAEDAAIEAAABAQACAgABBQADAQMAAgMDAgICBQMCAQECBAIBAgMBAQQAAgIBAgIFAQICAAECAQABAwADAAICAQABAQEBAQECAwABAAEBAgABAgABAQECAAAAAAAAAQEBAAECAAAEAgEAAAIAAQABAQABAQICAgACAQMCAAECAQIDAgIAAAEAAAACAQABAAQBAAIAAgEBAgEAAQAAAAECAgEAAAIBAAACAAACAgMDAgIEAAEDAgQDAAECAQICAAIBAAIAAAUAAgIBAAIDAgACAQMAAgABAAEAAQAAAgEAAAIBAgEDAAACAQMBAgEEAQMBAgABAQMAAwUCAgIBAQADAgIBAwABAAECAQIFAAACAQEBAAADAAICAgEABAACAgABBAIAAQABAgAAAAMAAQEAAAEBAQEBBAAAAQABAQEAAQIBAQAAAAEAAQABAAEAAAEBAgEBAAABAQABAAAAAAEAAQAAAwABAAEAAQEBAgIBAgMCAQEBAQABAgEAAAECAAEBAwEAAQECAQMCAgQAAgMAAAQCAQICAwEAAQQBAgMBAwQDAgQFAQEEAQEDAAUABAICAwICBQMCAgYBAgMFAgAFAQYDBAMCAAMCAQMCAwMBAwIGAQEDAgIDAQIBAQQCAgACAgEBAwICAgEAAgIEAQUDBAIBAgIBAwADAwACAQIAAAEBAAEAAQEBAAACAAABAgIAAQEBAAABAAEDAgABAgIAAwIAAAEDAQIEAAEBAgIAAAAAAAEBAgIBAAMDAQEAAgIBAQEAAgICAQEDAQEDAAECAwMBAQICAQEAAwEDAgMCAQYFAQMAAgIBAwEAAQEBAgQAAQAAAgIDAgIBAQAAAgMAAQAAAQIDAgEBAwIAAQABBQACAQEEAAIBAQABAAEBAAMAAwAAAQQBAAMDAwIAAgACAQAAAQEDAAIABAAAAQIBAwQCAAEBAQECAQAAAgEAAQICAgABAwAABAMDAQEAAgEAAgEAAwIBAA==",
          "dtype": "i1"
         },
         "xaxis": "x2",
         "yaxis": "y2"
        },
        {
         "hovertemplate": "IPL<br>Range: %{x}<br>Count: %{y}<extra></extra>",
         "marker": {
          "color": "#783ABB"
         },
         "name": "IPL",
         "nbinsx": 30,
         "showlegend": false,
         "type": "histogram",
         "x": {
          "bdata": "nwCkAMsAiACHALQAoACtAPYApQCKAN4AcADDAI4AqACWAL4AqgCrAJQAgwCdAHMAnQDHAJUAlwC+AJEAaABSAJIArQCCALkAoQC3ALEAvAC4AKcAbwCQAHkAhgCOAMsApACIAJgAkACjALUA6QCZAKkAeACuAMAAoQCRAG0AhgCbALcAiQC1AMgAtQCgAIsArwCaANQA2gCXALIAwQCsAKQAsgCNAJoArgC3AL8AhQC4AJIA0ACNAFwAqAC3AMcAsQB5AN8AnwDgAIkAggCEAIcA2gDBAKYAqwCmAKEAxQCTALgAxgCKAKoAhgCVAIUAmQC8ALcAoACcAI4AkQClAJ8AcgDEALAAmACAALEAzQCJAJoArwClAKgAhwCBAJIAlQCvAIgAhwCTAMYAXwCXAMoAmADnAKAAgwCdAIwAvwCSAJ4AjQBwAM4AvgDDAMoAdwCIAHgAdwCjAMEAqgDoAHQAoQCUAMUAvwCEAG0ASgB3AMcAnAB9ALIALAGNAJcAowC3AIMAfgCrAJQAkwCpAIsAhgCPAJEArwCTAHkAowC2AHwApACsAF4AnwCgALIAVwB9AIUAsgCeAI4AugChALsAdgB1AI0AmwCPAIsAkQCcAIgAdgCXAK4AnwBRAJMAqwBsAJAAkwCFAJIAYQDkAK0AjACOAKIAyAChALUAzQDYALoAogB5AJMArwC5AJMAcADBAG4A0ACbAKQAkwCVAIsAoACtAJAApACgAHgAuwDeAL4AdwCKAMQAnQB+ALEAZAC6AJYAtQCRALsAvgCIAIQAxwCJALkAgwCtAKwAwwDPAJgAyQCZAO0AcgCVAMIApgCQAIgAoACQAIQAhgB8AKMApACoAJwAowCGAKoAwgCIAKAAjQBqAI4ApQCSAIQAqACHAL4AjACWAKUAmwCeAIwAiACiAMAAjQBlAI4AxQBcAKMAqwCqAHMAeACuAI0AtgCtAGwAuwCVAIEApgBzAKcAtgCXAMAAkgCfAK0AdwCPAH0AigB9AGYAvwCkAKoAgwDDAMUAkgCPAJcAjQCxAKYAfgCqAH4AogCdAHsAzQCIALoApgC9AI8AngDFAKIArQCrANcAewCLAKsApgCHAKkAhAC6AKAAyACkALoATwDfAI0AqACTAMAAfQCAAKAApQByAJgAUwDLAHgApACcAFAAmgCzAIcApACGALYAigB8AJ0AewC6AJMAlQCqAKsA3QCRAHgAyQCrALcAigB9AJoAtACZAHcAnwCrALoAiACjAGkAmAB8AKMAggCaAJQA0QC3AFwAoQCiAMIArgCBAIsAqgB8ALgApgCLAJAAqQCUAGgAYwCeAI4AnwBsALkAhQCVAH8AqgCyAGoAcACqAKwApQCQAJEAhwCzAHUAuQCnAK0AhAC2ALEAnQCvAJgAcQCQAKUAnACCALkAtQClAJgAjAAHAYgAqwC7AL4AtwBzAK4AIQF+AIIAoQB6AIQAdwCHAJ8AkACUAHkAkgCWALIAiACNAIQAzQCxAIwAmACSALUAtQC7AKAAlQCKAJoAuQC3ALwAygCRAKcAWwC0AIcAmACyAKAAjwCqAIsApACeAHMA3ADOAMEAhACHAKgA5wDGAJUA4QClAJwAswC1AIcA4gDHAKMApgCWAG0AmAB7AKAAuACrAJgAkgCyAMMA4wCjAMgAegBzAI0AfQCdALUAuwCdAKsAjQCyAKoArQAMAa0AhwC/AIUAcgCYALIAqgBmAMwAlADJAJkAowC9ALMAhACUAEYAfACeAKgApgC+ALoAjgCgAKUAmgCFAHkAuACRAKwAmwCGANIAnQDNAI4AoQC9AKAAlgDRAOYAnAC1AMAAhgClAKoAlACeAJ0AdwCkAKIAjAChAJUAuACpAKcAkgC+AF8AuACvAJgAngCdAJIAiACxAKUAmwC/AF8AggB2AJUAWAC3ALQAsgCCAMIAsQC0AKgArgCEAKkA3gCnAKsAuACmAL4AqACfAKQAtwDRAJkAnQC7AKwAmQCqAMQAqwCxALsAygCiALoAsACDALMAvwCCALMAvQDCAJEAxwBtAL4ApgC/AJoAsQDlAPMAfADiAOsAjQDjALQAiwCkANMAfwCjALAAiQCWAMAAhADJAKMAuQDiAHEAYgCuAM0ApACrALoAuACiAKwAqwB+AHkAoQCKALgAuwCTAIcAtgCsAMQAgwCVAH4AugBoALsAxQCeAKIAoQBvAKMAigCPAKQAmgCdALUArgCbALMAgwCsAJkAuwCnAKwAogCuAJ8AyQCkAJ4ACwG3AHwAqwCMAHkAyQCPAI4AwwCaAL0AywC4AFwAowB8AM4ArAC0AKMAmACsAKAAtgDDAJ8AsQC/AIUAdQCbAK0A4wC/AKoAuQC0ALMAuQDDAK8AlwD4AMcAKgGfALQAyAC2AI4ApgDFAKYAdgDCAIoAsQCJAJIAtACeAJUAogCuANAAjgDNALwAqACwAIAAoABDAMoA9ABCAMUAqACXALcAhwDEALAAwADVAKIAzQCZAKEA0ADAAMMAmgCvAOcAqgCJAJoAxgC8ALUAygCKAL0ApwDmAEkACAGyAOIArACpALsAgwDSANQAoQCbAN4AmQCkAKkAawC4ALQAqgCbALEABwGOAJ0AmQClANQAigDfAK0AjgCmAIEAuwCjAGwAqwChALMAoAC2AJ0ApwCoAJQAoQCQAKIAgACsAJ0AlACOAIYA1QAxAIYAYACiAHcAngChAM8AuQCeAJsAnwC/ALAAzwDRALkAiACgALUAgACpAM0AwQDMALYAzwCpANMAsQCSALAAwACAAKoAlADPAKYApADDAIEArgCLANsAxgDsAKMAuwC1AKIArgCyAJsAxQDBAAIBjwB3AK4ApgCPANYAWAC3AJkAvQDKAIoAyACuAL8ApAC8AM0AqABsAPUApgCtAKkAoAClAJMAwgDVAKcAVwCqAJkAvAC1ANIAqAC6AKMAfQCuANkAoACMAKgAjADrAJgAngCxAMMAjgCkAJAAsACfAMYApwDJAM0ArwCnAH8AjQDHABIB2gCGAKgAlwCUALIAsgB2AIQAlwCkAJIAzACzAMwArACLAK4AsgBRAJYArwCFAKAAiACbAKIAhACgALAAbQCzAKoAgwChAJQA1QCTALkAmACBAKIAwACbAIAApgDOALsAYwCcAKUAkwC4AL4AvQCmAIoAlwDFAK0AtgCjALkApwC3AMUAtwDaALkA3ADXAGwAsgChAMsAnwCvAOgA0wCFALgAuwCwAKoAiADGALsAtwCoAKEAmwDGAKIAsQCXAJUAqgDGAKcApACLAJcAvACqAK0AvwC8AKwAcwBGALUAcQCeAM0AlQC6AKsA1QChAMoAqwC+ALUA1gDnAJUAYACWAHQApwDmAK8AoADUAKIArwCiAA==",
          "dtype": "i2"
         },
         "xaxis": "x3",
         "yaxis": "y3"
        },
        {
         "hovertemplate": "LAX<br>Range: %{x}<br>Count: %{y}<extra></extra>",
         "marker": {
          "color": "#783ABB"
         },
         "name": "LAX",
         "nbinsx": 13,
         "showlegend": false,
         "type": "histogram",
         "x": {
          "bdata": "Bw0HCAMCBgcGCgMGBgcNDAkGBgkHCwgHCQcACwsHCwYHCwcLCQILBwcPDQkLCQUMDgcKCAQIEhEECAsKBw4HCQwHBA8FDwgJBhANBgwNEg0KCwcJDAsODQoIBAcHAw0JEQcJBw8JBgkHBwoLCw0HCREPBgsLBg4IBwYGBQYLCwsGCAgJAgwGAwsJCAgICQoMDgcKCgkMEwQSDAwGDQcKCg4JCw4HBwgSBgMLCAMCEg8FCQ8LBwsQDAsIDgcLCQoODwwNCQwRBwgKBw0JEQwOCgkMDwcIBwgGCQgQCwgICQcIBg4ICRMMBwsLCAwNDAcGDAwMBxAKBwgUDw8LDhATDQwTEhEOBgoFBgoKCg4NBAwECAQKDQ0JDA0OCg0LCwYMDg8KCQ0MBwoGCgoMCQYMDhAMCQ4LCw0FDAcLCAcMBwYHCAUNBgcFDBEJDg8ODg0JEQsSDAoODAgIBwgHDQkGAwUCCwwRBwoFDQ0JDgkRCBEHEREKDg8IChAGBwYHEwkIDQkFDwwODw8QCwwNDQkOCQkHBQMOBwYVBQsQCQQFDwoICw4JBRIHCwkLEQQGCgMMDAgMCwoPAgYEBw4KBQYLCw0JCQgPDQcJBA0GCQcMDwsMCg0HCgsKDQYREgsFDxQMCw0RCwsKCQYNBgYHBxMNDAkOBgwFEgcRDQoHBBAHBAgICAkMCgwJBgkLCAsFEQsMDQwPCQsFEQUTDgkLDAsGCA4HCAgICw0GCAcMBQoFEAsHCwYICgkOCQoNDQsJCwgQCAcKBg4JDAsRCAoHBAsNCQgHCwkKBggHBQUHDAwIBxELDQoLCwcJBAoQCAkHCgUGBAIDBAkIBQUDBwUFAgUUDQwJCAkICgoUDQYLGA0TDA8NDxINEQ4ODAkWGAUPBwoICgoKCAUECQwMDQoJBwYKBwgGBAoICAcFBgQFBgUECAkKCwoICAkOBw0LDgULCQgRDQ4IBAwJBgkKBgQGCAQLCw0KBgYHFQgOEBUMCQgODxEPEAoLCQkPDAoPCgkUDw0ICw4MDwgJCwgKCgYJCgoICgYKDQkKBgcKBQcLBwwMCAwHBQkKDggGCAcIBgUIBwcLBAUKCwwHBwYLAQQNDQcKBggPCAsHCwoGCQ4MDggJCQsPDQsUDBIPDwsHCRAKEhIKDQQDBAkGBQUGBwcGCAgHBA4NDggHBhAMCAcOBwkGBgYQBwQGCAcODAQSCQcLCQsNBwkIDAYGCQsMBwUMCQsMDgwMBwsHDgoGCgkUCwYICgkJChELBwoJBwcGBAsLCQcDBwgGBgoICA0GBgsHDAcEBw0GBgUNDgYFBwcEDQYMCBMNCQgPCQkRCgYMCwcLBQsICggMDA0KDAIHBwcICAcNBQkJBQMEDQ4LDQYLBQ0LCwcHAwoODQkOCQoRDRMNCxIJCw8MCQgJERAKBwkIBwsECQQMDRMIBQwJCQcICQQOCgMFCgkOBwsUEQkMDQ4PDAsPCwsLDQ4IBQMGBBMJCA0NCA0NCg0JAwkODQcKCA8SBgcOCg0OFAcDCQ4SDhIODAsJEg0TCQoPBwQIBQcGBgkJBw0GCgcLBQoJDwgNDwgODAkNBgUIDAsKDAkIDgYKDg0JCAkMCAoOCwUJCRAVCgsICwsMDgYJCQwGCQkHBQkFCggLBA0HCAYGCgsPCwYICwwNCwgOCQkFBwcFBwMEAwUDBQkIDgcHDBgICgcJBgwKCA0IDQYIChIQAwoQBAwKCwwOCA8MCQQMEAYGCAUGBgsGCgcQCA4NBwYRCQsNBwgLCA4FCQMJCQgGDgwHBgsHCQMHBAoGAwYPBhAKCAcGBwQHCAcFCgwFDQwKCQgMDggQFAgMCA8LBgwKCwcLCA0GCQcIDgsJCA4HCRAJCwULCgcCCQYEAwEKBwUFCwUGAwwQCRUKDAcLEBYIDg4OCAgKCw8OCAQIBAkFDggKDQwJCQwLCQoPDwYJBgwGCwoICAwHCg4ICA0FBBQNCQYLCQsHCQsGCAkNBAcIBwYICAwKDAcNCQIIBgkCBQULCA4GCA0HDQQJBAoFBgUJBAcOBgUJCQgFCQMHBQULCAgHDgYDBgUGCAgJBgMEAwcHBAUKCQkHDRMHChIQDAkLCAkMCw4SBwsPDhcQGwsRCwwLBgoEAwgJCgIHCQoGCQcRCwwIBxIHBwkLBwMBBQQEBgkDBgUCBgsGCg0KDAoJCw4UDAoSEgwEEAgJBAQJBQ8JCQcJBwYKDQ4JCAkNEAoNFwwMCg0LDAkSBQUNBwYNDQwLFAoFBgILBAsJBwUJCAYJDxAFCQUGCQUKCA0JBgsIDwYGDwgJBwoHCQwJCQkGBwYGDgoHDwsIBwgJCQgOChEJCgoECAoLDAsJCgwWCxYKDgsOCwcLCwoLDQ0OCQUKCAYBCAYECQkFCgoWFgoICAkLCQoJDQUHCg4PDQkICAsUDAoECAcIBwcKDAcMBgwPEA4LEwgJGA4JBwkIBgoNBgkPBwYIDQgMDQIIBggNCQcKDAoJCAoLCwsFBwUPDAcGCwkOCAIJCwoLCgoGCAsIDwcOCgkLChERCQoVDAsMCgkMDg4MEREPCQoFCAgKCQQNDAYLCwcIAg0HDAoFCgoGGBINEQwLDwsSCw4ODQ0GERITCAgJEAcODAkJCgkLCgkKCgUFCwYHCggMEwsIBgoNBgUICAsOEAkGCREVCw4JCAsPDAkIDw0QCQYGDQgQBw0RCAYICAgHCggNCQUIBgsLBgsJBg0KDQwQAwwQBwgLDRQNCQwLDQYMCQwRCg0JCgoJDg8GEQkGDAkDCAcLDAsJBwYLCAcMBwoNBg4KFAURDwkYDAsLCwoICw4GCggKDwgLChILBQgLDwgKDAsMCAkODAYMCwYJBwUNDgUJCQ0JDQgHDwkNDAkJBwMJBAMLBgYKDQcJCxAHDQgJCQcMDAgJCgsMCwsJEQYCCg0TBQoIEwYHCQYDBQoIBwYLBw0KCQYLBwkMCQoJEA0QCQ0NCw8NDwsNCAgMEQkODhEKBwkABwsABggLBwgUBwgFBAwKBAkJBw8LCgwICQUJDBAKBxELCggNCQUMDAsKCxADDAsJDBEOCRAPDggOEQoSCwgHBQcEBgUGDggEAgQJCQkFBggOCAkGBwcJCQUMBQgPCAYPCAkOCQgQEAYOBwgJDAoNDAQGBggOFBIJCAYJCw0LDQoMCwkTDgcDBgYKCAwNCQkKCAcNDAULDwoDAgcJBw0HCgwOCAcIBAoHBAsJCgMNCQYIChAEBQYIBQcGDQoIDQkLDA0ICA4LCg0JDRUMDgkHBQUNCQYGDQQHBgEIBgQPBwMGCgcMDAwPBAUJCQYJChEIDgkOCg8WEREZDQ8ICwkHCQgKBgkICQQGDQgJCgoNCQsKCAgKCAgNBAcMBgQDCAMDCQYFDgoGDQUFBxYMDBAMDw4UDQwLCREGCAgLBwoNBg0ICAkIBAoFCQcJCQsJDQ0KCAoMCQ4JDAoKCQcKCgoKBhMNCAYPDAkMBgYKBgoRDQoMAwMFAwMICwkIBQUQCwsIEQgIBwgFBAIEDAsMCwkOCwgGBAgKBwgMBQUIBwsFCRENDgkICAULCA8OCgcLBgkTDBEOEAkLCgwPBQkKBgoHBQUCBQsLBAoFBQsDBxMNDAcHCQoJDQsJCwoODwcIDgsKDwYKBwoKDwgJEBATCA8MEQwQFQoYFRAJFRETDgkODgIMCgYPCggODgkECQwMBgoLDAcICggHCAUIBgYJBQ0HCwgOAwsHCQcJDhELFQwIAwgHBwgIDQYIBQUPBQoJEQ8KDwkHDAsOBwkLCgsHEQ0JEgMQCQcNDAUIBAcLCAoFBQYIDAoHDg0NAwgODAoLBAoOCAcGEwsTEgwMCAoRFQ4MDRENEBAOCg0JCwUGCQUFBwoCCgcMCAgMCQsIBQYKCAwLBwgODBILDwoMCw4PCw0JDAoKEwwICAcFCgQICwgOCgkNBwsHDBQMDQsIDggQCwYPDg4IDBUFDwkHCQsMExMMERMQERMMDBAQCAoJAg4ICgsNBwcJCggICgkKBgYQCAcRBg4ICA8MBAkEDwsKCw8LCAsJEQ0GEAUICQcJBwsMEggGCgoJBAUFCA0LCAkMBgYICBILAgkLDAwKBQYJDQsMDgcJCggKBgcLBg0FCAcJCwwLCQYHBQgJCwYLBQsJBgkNBgsKCQ0LCwwIDwwRCBMNCA8KCQcPBAkLCgcNBQkLBgYKCgoFDgsKChIEDAoECAwNCw4PCwcJDgoVCAgNDQoJDQwTCAsLBggLCQcCBgwHCAwIBgYODQ8ICgsLDRcHDgoODAYICAcOBwwFBA4OCQoDFxAMEA0KCAkLBAgGEggQDAgICQQFBg0GBQ4JEAcDCAoMCwULCgkQCQYGCAEKBwgHAwYFCAsEBgwPCwUJEA4LCAUICwoOFAsJCAIMBwUDBwgHBBALCgkQCA0KEgsKDhQSEBALDQoKBw0JBwoRDQoNBAMJCw4JEgoJCwQJBAoRCg4SCxAGDgYMBg0LBQYKBwsKBgsPCQkKBwsJCwcNCg0QCgoHCgsODw8KCg8MDQkOCw4IEQ0MDA0ICQsKCgYIDAYNCwkMCgwKCgkHDAgNCwcOCAwJDAkLEAsWCwwNCQ8HDwkUBwgICA0GCQkICwcHCQwJBgoKBwcOFQwOBwkBCAoFCgkJDAIDBwEGCAYGBg8JCwkOCg0JCxANCQoQCwoLCgcMCxQHEQwNCxAPCQwHCwkLBwwJEw0MCgoMDw8GCQ0NEgoRDQ0MDAkKCQ0MBwkKBwYJCQ0JCAQMBwcJCAsNCwsGCQsJCQcQCQoOEw0KCg8KBwgEAwIMBwYFCAgKCgcFCAYKBg8IBQoGCwgLCQoOCwkHCwYICw0JEw8JDRINEggMCwoIBwcQDA0NBgoJBAsSBgYLCAYKBwkPDgwKCQcNBwsLBwsJDAoGCA8GEQQNDwoPExAGCg4JDQkQDQ4ZCxEKFAgPERITFREUDQ0FDwwICA0GBgsIDggLEQoIDQwJCgcDCgoIDQgJCAsJCQgLCA0JCQ4HCgYDBwcJBQwDBwcJBgkLDQIMDQoIDA0LCAYJDQwEDAcIDAwMDwcJDgcJDQsPDAoJCggGCQkIAwQSDQcGBhANBQkJBwMGCgUGDgcJCwUTBwsHDQcJBwcKCgoIBwsHCgYGDA4PEwwLDxETCQkJDgwKBwUIDgYHBAoHCgMIEQoECA8LCQoJCAcKCQkGDwYOCg8OCgoPCRERCRAOEQ4OCQ8MCw0HCAgJCggJDAgFCwkKDgoSEAYJCQ4JDQ0NCwsLEAYQDgkOBgcUCRMVEQ8REQ8QFBMPCxISBwsMDwsLCQoJCA8HDAgGAwYCBwkJBAcKDQgLCgkHCAcQBwkICQoDCggTBQwHCgYMBggKCwwLCwoEEQgKDxAKEAsODgcJCwoFBQMICQwICQkRCQ8JCwgIDAcHCAoFCgsICAgJDwkICgQJCgkJBwsKCwkHDwoLBwgKDQQJDAsDCAkNBAoLCQgMCgcEBwkMCQIODgwNCwoPDg8PCgoJDQsRBg0KDgsKCAYGAwcECAkFBwEGDQ0HCgcJAg0FDRQLCQwRCgwHDQwUEA4OBwoVCgcPDQwQDQYFBQQIBwgHCA4FBAgLBgcNCQkQCQgNCw0LCgwNCwcGCwcMCAkPCA4HCwcHCwkGEA4QCgsMDQgJEwYMBQwIEAYGDAgPChAIBQwFCQYHEQcKCwYICgkQBgwJBgYHFA4FDgcLCwUGDAgGBxMFCAYGBAcEAwcFCQYJBgMEBQYBBwYHCAUFBgcCCQoSCAYVCwkCBw0GBwUGBhMVEgoNFAgNCw0LCgwLBRMHCwcSDQoHDA8IBg8SDQ4LCQkLCwgFBQoHDQ8PCAUHBg4MDAwJBgoICQ8RCwcLFgsICwsGCgoHDAgKCAwOCQsPDg8KDwoNCAoICgkOCgsGCwYHBQgGBgsGEAgDCggKDBEKCgwLDwwLBwUJDAQHDgYNBw0GDggFBwsMCAoGDQ8HBgwFBgoNFAwJCRQMCgsNEAsLCAwHBgoKCw0KCQkFCgwQCQ4IBw4EDAsLBw8KCgkMFQ8JBwwNCQsJCQgKBgkSCwgOCwgPBg4LCA8LDQ4NCgkLCgwSBgwIDg0MCwsLCgcLDhATEQgMDgwHCwoOCw8QDhMJCwgECAkMDgoLBwYBBwkKAwoOCA8PCBEMBxAOERALBQYGBgYHCAMGAwUMBwcDBg0NEgsLDQkHBgcOBgsJCwoGCg0JCA8KBwoJBw4NCxMOEQkJCxUGCg8MDQgFBwgICgcHBQcGCAUHCgkLCgkQBQgQBw0OCgkHBgYNBgoMCQkSCwoKCggPCQoRGhgVGQwUDwoMFxQPFhMKDBgUCQ4JBgoHDBEHBQwLCAgJDQcLBxEGCQgRBgkJCgoLDQgFDA4LCw0NEg0JBA8SEQsGCAgGCgcREhEWDgkWEAoLCg8PCREGCQUFCwkICQYHBwUQCggICAsKBgsHCAgJCg8KCQQLDgoNBQkIBgUECAYHCgcGBwkUBgkKDAoLCQkGCwwOCBILBwwGEBEQDg4KCggJDA4GDwcKBQUJCwwQAgQFBwwSCAoMAwsEEgcMDAYFBwgLChEQCgoLCwoKEw8SDRIQEA8PCwoJBgsGDgwGDA0HCQ4LCQoICwMLCwkJCQQICQkLCBANDRAVFA4PBw4KDxEPDQ4NCwkKDwkICQ0LCwcKBwwFCAQLCQUEBgkKAwINCwcMBg0LDxINDQoHCREJDQwICQ8ICg0CBg0OCQ8ICwgGDg4RDBQJCgsSCgkJCwgPDQkLDQ0JCwoKCQkSCgcJCAwICwoKBgcHDQcFBggICgwSCwgPCgcJBwgFCQQKDQYGBwkGCw0HBw0MBAwOChIICAUGCQgHEAUNCw8NCg8JDAsQDw4NExALCgoDBgQICwoHCAsQDQoJDgoICAMMBAUQEwgQDAsIDAgPDAsIDAwTBBEKCAkLAwQEAAUGBAUJBwcGBgMFBwwKCggKCQ8RCAsUDw8LEAoICgsLDAoMDgkJAw4HDggLCAgGCwwLCwoNDQwLCQoMBggODAUHCA0MCRIMCQMJCAwJCQgGBggHBgwLCBEHCQUGEA8IDQgMCQcECggJCQIKBwIDBgUFBwoICA4GCwoEBQcHBQgKDAcEBgoEBAMKBwMCAwIFBgQFFQEHBwgIEg0HDgcKBwkTDxQNDBoKEA8IDwoRDggTBw4RFAoLCQ0PDg8IEQwOCggKCg8ICQkNBwAKDw0JCgkGEA0KCwcLCQsLCQcOCg8GDwYHDgkJCAgIBQoLCgkODhAEEQwLCAoPEAwKCwoGDAcICwsEBQcGCgsJBgYKDAkFBg0KCQgJCQwQDgkPCgUUCAsRFQcIFAsKCAgGCgoKDA0KBAYLCggJDgoHBQ0JBwkRCxUHCAgGEQUKCBUODAIDBQYJCQgFDAoLBwkOCA4IEg4QBw0KBgcIDQ8ICgkECQkODQcECA0LBwoGCgcLEQwFCwoTCBIKDg0PDBURDRQLCw4JEAkVDgwPDg0TDBEPEgkPCRQPBwsJBwcLCQYJBgwIAgoLCQoKBAgECQcEBgsSCAoNCQQJBgkGBQUKAAYJBwkKBwMIAwEIAwQHAwQFBQYLCAgJBxELChESDwwKCw4ODQoLDgoRCAIECAQIFQUJDQ4OCQ8PCRARDgYIDAwHBQoOAwoMBgcDAwYIBhMKEAsJBwoPDQoQCwcKCwcGCQcJDQsODQoHCA8NCQsKCQcHFAwQBxANChANDA4RDwoJCQsWCA4NEBALBw8KBg0JBgcLBwYGBwULCgcHBwcPDwgECAYLEAoGCRANCAULCQkIDQoKCgsGCRAHBAwHCBQQDxQWCxMTChEOEBYQEwwRCw4QCgwQBAwFDQsSCQwPCQYNCw0KBhIIDQMIDw4PDQYICwcMCgYNDAkGCQcICwsJBwYFBwcECQYOAwcKCA4GCQYTCAoNBQYIAwYGDQcICQQFAwoEAwULAQcODQYMBwsJBwoFBQoOEhANCQ8KEQwREQ4RCQkFCAUGCAkFBgQJBQMHDgkKCA4NBwwHBwQGCgYRDQwSEwkKDxQJEBAGDhAKCA8LCggGDAYNBQwNCQkICAsKCwIHBgcIBwQGEg0FCgUIBwcICwkJBgcIBAgEBwUEBBALAxAKCwkJChEKDwkECAsRCQ0LCg4JDAgIEgkMDRAIDQkGCgoMDwsNBAMPDQ4KFAYMDAgMBgoICgUGEAwCDwcLBQoLEwYIBQcNDwgNCgoHCAgICgsJBwwHCggDCwwLBxEFCAUJBgkGBw4KBQYMCAsRDgsMEwkNDBMIDAgIDAgFBgYEBggLBgwHCRULDwwMCgsHBggKBgwHBgsJDAgKBgkKDgwLDQwHDhAKDQMIBgkEBQgCAwUOCwsLAwYKCQgICQcNBwwKCg4OCAkJBwgKDQsJCwsHCAELDgoJDwUEDBEKCw0ICwsKCgsQDg0NDw0FEAkLBwQOCwcIBgkFAgkMCQoHDQUKDQwMBgoJCgoPCAwGBwYHDQkLCAYMCBEICgsKCAUOBw4FBgsKDgkTCgsGBwcFBAUEBwQHBQYDCggFBAoGCgsFCQ0KCwwMEAsFBwMNChQOBQ8MCRIPCBEQBxEHCg0SDgwLDgkICAkRCAgPCQ0PCQgQCQwMCQUJBggFDAoIDAwKCwwIFAkICgYOCAsIBhQRCAkHEA0JDwYKCw4OCRUKBwUKCgoICg0HDAcFDAoLCwwMDwkPBQcKBwcIBwwJCwUHCwgOEQgKDQ0OBgsHCQILDAwGBwAGCggMEQgHChMKCgsFDAsMCg8NEgcTDQwPDAYHEA8QDQgPCg4IDAgKBwoICAcQAwYICAEDCg8QEAkHEgwNDxAKCAkMDgcFCQsLCQkGBwYEEAgNCwcGCAoIBAQICgcKDQgRDg4JDw0KDhANDQkPEBAJEhAJDg8KDwcNCQ0NCg4SCwcLCQoKDggKDw8LCwcSCAoEEgoIBQcGCQoLBw0EDgoHCQ4FBwcKDAUMCAsJCQUHCwgHBQMKBgYGAgUCBQQZAgMGBhATDggNBgkMCw8KBw4NEQoQDBMOFxAMDwgDCxASDgkEDgsPDQkKBw0TCQgICAsPBwQHBwcSCwkKBgULAwwRCA4NCg8LCxMPDA0JBw4KCwYEDxAGDQ4KBhQHDgkQCwkKCRMREREUFQ8TCgsKDRATFA8JCQoUDg4GEwoKCwsGBgoECggFDgoLBwYNAgcGDAsLCAwKDQ8ICw4KBgQIBgkICBIMCAwIEgYNDwYKDAwKBwgZEQsPDREKCwsMDQ0OFBEJEQgGEQkJBRIFCAgNBg0MDAUKCg4JDAoHCAwICQoKCwYNCgARCxELDAcLCgcGCgUIBwYCBwQIBwkNCAgPBQ0HEAYIBQoLCwkKCAYSCA8JDgwIEAoSCAgLBgYGBwUGDgYEBQ0SBQsPDQwJDA0GCQYJBw4OEwwJCwcMFBASDBAIERAICAoIDAYNBggOCAoFCAYGBw4IDQcHDAkIBw0NDggECgoWCRAJDw0MCwwLFAsGEhMLAw0DCAYKCA0JBgwICQsMBgMIDgUKEwsPCA0SBAYDCgoJDBAHCgoLBwwLDgMBAwULDQ8LCgkJDwkLDg0KDgwLDQwICA4NCQoJCQUJBQ8MBwgLBAwFCA0LDxAQBgYGEhEHCwgNDxIPBAsKFAsLCwsJCgsMDwgMBAgJDgkKBA4FBAoMCwsDDAELCAMGBgkJEA0JEQgPDw4NBwgHEgwJDRMFDQYGCAUKBAkHBwgIBQwHBg8NCAgLBA8JCgUPCwkEDw0SCxAHEgsIDA4LDg0NBAoOCA4GCQYLCgYGBgkDDAoGCwsEBgMIAgkQBwYICBECBggOCwcJEQoHBwgLCgkPEBMMBAwPDw8MDQoMCAoNEgkJAgcHCAsKDAkJCAwIDg0EDAoEBgoGBgoNCQcLCw0RDw0FCwcNCggHBwkNDAkKCgcFCBEHCQoPCwsHCwkHBQUHBxIGCg4FDAYJCAsFCAgECAcGBgYEBQsRBAUIDAsHDQkIBwsOCwQKBxEHDwUNCQURBwgPCw0QDgwQEAUKCwwKCAsOBwoJDwQMDggQDA4MBhAHBA0SCwsPCQcQCwYKCw0LDAgKDAgOCREMDxUUEQ4MDwkPCQsLDREGCBYKCBIRCxENFQ0KEAwRDwcKBwgIEQoLCQ8NCQwCBwoJCQ0LDQkHBgwICAYPCgoJCA0GDQwHDA0HDQ0GCwoSDwkHBwwLDREHDAURAxAMCAwNERAKCQYODAcMCwkPDgoKCQgNBwwMEg0JCAUDCBIGCAcHBwcLDg8GDw0NDAUNCwkGEAsKBQgFBgUNCAcGBgcJDAMEDA4ZCQQJCQ0LCwoMBQYTCg0OCQgMCxEPDAkPCwsHDQsHCA0DCwgLCggKCAkMCgoGBQUPBgYMBwoFBwgKBAgJEgcGDQgIBAsGCwgMCwwFCQkICAUICA4KCAQDCA0NDgYJCgsGBQ0MCQcKCwwPChENDRIKCxESDwcQEhQKEg0TChEIFAwNCwsNCQgFBwsKBQULAQYJBQsQCwYJCxEQDhcNEgwIDQoKBAUIBwkJCQsHBQkMCwYGDxILEwsVEw0ODQcSBhAPDhIPCxIOCQoNBwUGBwcICAUHBw0JBQcHBQcGDAoHBAcKBwYCCAoGDQ8OAgcJDAkKCAgPCQkSDAYICQkMCAkLEggMCBMMDgoPCwUJFAQPDAgPBwgJFBAKCAcNEQULDggNCAwQCAwKCQ4PDgsMDA4MBQsNCRAKCQ4TDAsKBgYFCQkICAsMAwUTBQ8GEhUOCgcLEBIIBwoKEQYFCw8JEgkLFBcWDw0MEwgHDgoIDQQLCQUGCAsHCA0JBhALDwwIBwgKCwgKBxEICwwRDQoJDAsGFg8NBwoDCQ0HCAgGCwcHDgkLDBIODAwJCAUJDwwJDwsKCRAICBISEw8JDg0KCQ4LCBIRCw0RDg0LBQsHCwkJAw0MDAoFDgQHBg4NDQgFCgsHBwMLCAgPDAwQDQwKCAUICA0PCw0ICQMDBggMChAKCw0MCAcKCgMGCgkQDgsKEwoGCwcKCAYFDgwLCw8MCw8QBw0LCAsIEQwJCwUTBAkOCAYHAg4MBwwICAkECRAGBgYDCgQFBAMIDgQKDAQMCAoPCwoQCQkNDAwODAoOBQsQEg0ODw0NDAoHBg0KCQoKCAkFBAUGCwgGCwkGCQ0NCw8KCQcTDQcHCgoHCwoIDAwTDA0JDwsLEAsXDA0PDgUHBQwMCgUJCAQOBQgLDAkMBwcIBQYECgwFCwcEDgsNCAYCBwkJCwYMBQQHCg0QDQwKDQsNDQsKCAwKDg0IBg0LCggRDREOCwkICw4KDA0DCAoHBwoJCAkGDwYIBw8JCQsNDgwNCQUIBQkKCBELCQUGDAgRCgoJCQ0JDA0KEAYQDAsFCQkPBxAICAUGCQYIAwUIBQYEDwYDBwQHCg0DDwkKBQwJDQkRDwwNDgkGBgoHCgwMCgoLCgsJDAkGAgcJDhERBw0PCQwHCAYHCAQKCAwKBQwGCgcLBg4JDQYJCwsKBhAPDwkKEAcREAwMDggJCQ8JDw8HCA0QERgPDgsJDQQJCwgICg4ECwwGCQwMBRIGCwwIDQ4JEwoRCgYJDQcEEgsJDwoIDgkMEAsJBw8LDBAMDA8HCgsODwcMCQwLCwwHDAoOCA4PDBAKCwcJCwkREQoOCggHCgwMCQoJBgMHCwoOBgwODgwOCAsIDA4HBwsMCwgICwgPCA4QCAwODAkIBgoGCAYJCAsCCw4HCgcICAgMDwQVAwsMBwoPCgsIDQwKEQkGDwoICAcICgMRBA0ICQgJBQcGBwYGBgcLBQgGDQkNCAwLBg4GCgcJDAsJCgcLCQgMBgcSBwcHBQgMCwwPCgsRBQoLDgcJCQgEEQoHDA0JCAsNDgYLCgoKCw0NEhILCA8HDA0ODw0KCwcRDAsHBAgJAwUPBwcDCgUDCQ8NCwgNEAwIERsODhAVCA8IFA0EDAsFDRMUCwYOCQ4MDQYFDRAICREMDA4JCQUKCQwKCggMCA8HDQ8NCQkTDgcLCAYJCAcOCQgJEA0PDwYKDAcGBgcHBgYGCQ8JCAoPEA4MBw0LEQgPEg8MDgkUCw4NEAoHCQ4JDAkJEQsMBgsGCQgICwcGDQgLEAcGCQsNCAoHCQcNChEMCggMDQoQBwwICAwKChALBggKCQgRCAgMBwoJCxMSCBELDBAGCAkGBggHCwUQCBMOEQ0SCxIPDxMICwwOCggFCwgLCAkFCAsEBgcLDAgOCQoKChAPDw0MCQsLCQ8QDAcHDRALDw4JEQkJBg8PCRAJBgwKCA0JCgoOEQwMCg8KDwkNFQ0JDw4RCQ8KEQsMEQwICA4MCgoMDgwKDAQVBgwKEggHBwkICQkKCwwaBwYIBwoPDAoUDQ4IDQ4SEw0ICREOEBcODQwQBgkJCgwNCQgMDBAGCg4MDgwJCwkKEAkODAwNCw0PCw0NDw4JEBYSChENERAPEQcVFhAQEQ0MChIFCwwLDw4KBA4JCgYICQoHCQoHDAsFBwwLDwcGCwwQCwsMBQgIDAoTDQsLDAcIEwsUAwgMCw4KCwwLDg8NCRAMEQkIDg0NDQUHCQcJCAQEBwQPAwgJCgsNDw8KCQwRCgcKBxESDQoTBxIMFQ8QCw0PBQ8OCwoFDwkLBQcFCwUGBwkGBA4KBQoGCwcNDAsGCgsPCA8ODAkFERAJCwwGCAkICwoNCw4NDhEQChAQCgsHDgwLBwwLDhMOEA4KCQ4RCwwJCQoICQgIEA0OEAkMChALEAsNCQ0IDAcJDQcECQYFBwQCBwsJDAgHCgsMDAkECg4OEAwIBwwICgQIDggHCwULChoSBwYNCwkOCwwFCAkQCAkNFA4QCgoRDA8JCgoJCgsNEwgOCgsMCg0IDQkMDAQQDQwRCxANDgsGCA4JCgwHDg0NExANEBoWDA0MDRIRGxENDxMYDw0NERQOEhIZFREXCwwTCAoKDgoOEw0TDQcMCA4QCAsOCQgPDwcICQwKBwoQBwwRDA0HCAoIDxMOCQ0RCQcLEQ0QBw4HDw4HDwsKCw8PCA8QCw8RDQ0UEA0LCg4TCQcICQoOCg4NDQsNBgoSCwsRDBASCQoLExERDQ8VBQYIBwYPCwkMBA4GDBAPEhEOCQoLChQKBgAHDAgKAwcIBQUIAwUPEgoLCgcPDwcLCAwFCgQNCwULCQsODQwEDwoMCAkNCg4OEgkKEQ0MEgoNEQwODA8LCgYKDgoOCxIQDQYMDQ0NCwcTDQcMCw4ODgoMBw8NCAQLBA0ICwwNBwYNCgYGCAoLCQIGDwwIEAsPBg8ECQgXDAkFBQYVCAkUBAsMDwQKDgkKDQ0HCwoRCwoHDAoPDA0QCAsJCw0MDw4NEBARCwcYFg4KEw0NDQcKCgcECgYHDgQGCAYFCg4MERAPDQwUEQoYFg8LExMVCQ==",
          "dtype": "i1"
         },
         "xaxis": "x4",
         "yaxis": "y4"
        },
        {
         "hovertemplate": "MLB<br>Range: %{x}<br>Count: %{y}<extra></extra>",
         "marker": {
          "color": "#783ABB"
         },
         "name": "MLB",
         "nbinsx": 12,
         "showlegend": false,
         "type": "histogram",
         "x": {
          "bdata": "BgMCAQQEBAUFAgcGAwIGAwQGAQgFAgQGAgEIAQEGCAQBBQIDBAwEAwcDBgUKBQAIBgMFCQcDBwUHCwkEAQcBCgQGAgEFBwwBBgIGAwQKBgQCAQILAgECAAYBAggDBwEKBgIABgQDAgMJAQQDBwQECgQGAwIABwEABQcCCQADAwwBAAAFAQQAAQcCAQQEBwMDBwIEAwYHAgEBAgMGBAICBQIGBgMFCQMPBQkFAwADAgkEBwIIBQEMDQUFBQkBAgYCAwEDAwMFCwEFAA0ICAgEAgMCAAEFBAAABwQCBwUCBwIHBwMCBQUGAQoDBQEDAgUABAwBAQQEAwoCBQABBQQNAwQABAQCBQECCQQOAQYCCAIGAQcCCAQCCQMCBwUEAwAAAwsGCwcHBwUEBQIAAwMEAQICAwUDAwYDAwgKAQUFAgEBBwIBEAMABAcDAgYGCQAEBAADAgEAAwQABAQKBwMHAgAEAwgLCQYBDQIDBQoHBAIEBwgHBgUJBwIEBAkEBAcBCwEDBwQGAwYFCAYCAAMEBAUCBAQEAgEGBwQEAAIDAwsEBAgGCgQAAwMGAgEEAggDAgMGBAQIAQENBAoDAgUEEAQCCgEMBwkJBAIBAgYBAAkECAYDBAACBgQGAQMAAwUCAgMFBQAIAwMFBgACAQYBAgIDCAIBAQMGBwUDAAUMAwEBBQIBBwABBQYIAgEDBAMHBQYDBQEFAAIBAQEDAAIEBwIEAQEEAgQDAgUEBAULBwYEAgkBAgMGCQUCBgcGBAICAQELBAADAgQFAgAGBQMEBgkFAgIEAw4DAQUDAgUABQQACAQFBAADBQEFBgQBCAgEBgIGBQIECwMDAwQECQEEBAIEAAICCgICCQQBAwgIAgYAAQUBAgcIAAQHBg0CAgQJAhEFAwsDAwkHBgIHBgEJBwMGAQUIBgILAwUBCAkGCAsIAwQDAAcMCgMGBggKBQIBBg0EBAUIBAMJAQUCBA4FAwIEAwICBAQIAgECBgQHBQUEBQMBBgYCAgIHCgUJAwMGBwICBQUGAgUDAgMCCQYBAQUMBQsAAwUFCQUJAwYCAQYKBwMGBAICBwUIBQICBAQBCQcGBwMCAQAJAggFDAQBAgULBwoCAgEOAgMCAgQGAwQEBgQEAQUFAwUBAQUBAQIBCAMGAgkEBQEBBQYDBgAMAAEDAAIIAQMAAgADAwkGCAIHBwAMBAELBQ4DBQYDBQEBAgUHAQMPAAMEAwgEBwMDCQUAAQMDBQUJBQQBAwUOBwUHBQUFAwAEAQAFBwcCBQ0AAgABBwcBBQABAggABgMDAwEFCAILAwICBAQAAgcFAwIFBwQHAwUCCQAEBwcFAgEFAwYCBQgEAAcDBQEEBQgGBQQBAQgCDwMKAgAGBwUCAQYJBAIGAwYBBAYFAQUJBAUBCAUPCAQCBgYEAQUCBAYLBgkGAgQBDAQGAQQDAgYGAQgCCAYGCwcFAgcCCAkJAQoEBgMDBwUBAQMEAgwDAwUCAwcAAgQCBgQBBQUIAwYGBgMCBQMDBgoDAgMEAwsGCAQABQYGBAMDAAMEBQcOBQIJBQMEBwYFBAkHBgMHAQQIDwwABAkBAgUFBQAGBwULAwACBwABAAYEAwoGAwcGBAMMAQ4IAAMDBwAAAwgABwgFAQYHAAIMCgQFAgQGCQMECwMEAQcFAgYLCQMFBQIFDAcCBwUIBgIGAgUDAgUEBQEHAQcBAwsDBQQBAwMMAwAJAwcDAAUFAgIIAgIDBgMHAQAIAAYAAgkDAwUDAQUEBAcIBAQBCAUDAgQDBAQEAgcEAg0DAgMABgoDBwECCwgHBwQGBAQEBAMBBgMDBAUCBQMGAAUBCQEDAgkABQgCBAcKBAADAwICBAAEAQIFBgEJAgcCBAgBBAIDCQEHBwACAQABAw8EAgYDBAYABAADBgMCAAIEAAMLBgQDBAECBwcFBgQEBwIFBQUEBwQECwYABQQDAgoEAggBCAMMCwIBBAUCBgUIAAUEBgQGAgICAwQCAwsDBwgECwMEAgEGAwMFAwIEBQEKAwEFAggBAggLBAIDCgYDBwYIBAwIBAoEBwIBAQgKAgIAAgMEAgIJEQYIAAYBBgcIAAYABQQGAAMAAwEBBQUMAgUKAgIBCwQGBAoECQYNAgQEBgkHDAYBBAkBCgIBBwYBAAABCAIHBQQJBQYDAwIEAAUEBQQIBAgACwMKAwUEAwQGBAUAAgYCBwUCBQUBBAYDBAQACgECAwwDBAIHAwAGBAQHCAgHBQMGAAYBAwoHBAEHBgEMBwQHBwMCAQMCBgAEBQIGAwACBAIGBAMHAgEEAgEJAwADBAMNAwIFBQYFCAwJAwcCBAoDAQoJBgEECQUGAwMGBAcJBgkHBgQKCwUDAwABBgEEAQcDAwcGBQgFCgYFAgUEBQEEBAoBBAEHCQYCAwQEAgQDAwIHBwoBCAUCAAENBgMDAgABDQYEAwMBBggCDgUGAgMEBwgECgcFAAECCgcFAwEDBgMEBAMEAgACAQkABQMHBQUEBAkFBAYEAQIEAAUICQUCBAABBgMECQYBBQULBwMGAwEQBgAHBAcHBgMEBgQBBQADAwQFBwMCBAEBAgELAQIFAgAEAAYBAAEFAgQDBwUBBAUKAgQCAgEBAQAEAwABBAYJBAIBAwIDBwACAgYBBQMGAgIECAUGAwUGAQQGBQMDBQcEAgMBBAEGBwcCAQkFBQYAAAIGBgIABAIFBgALBwQEAAQCBggFBgUJEgQFAgYKAgIEAwgBBAIDAAMCAwQDBQEEAQMDBQMGAwQHBAMCAwcEAwYFAQQIBAMCCgQDAgIBAAMEBAMDBAMGCgUHAwUKAQMEAwcEAwIFAQMEAAEHAgwBAgQCAAYGBAUEAwgJCQAHBwUEDAABAQYCBAcCBwMCCQYFBw8CBQQEBQEDAQQDCgMDBwIEAAYDBwIBBQEFBgUBBQQBBwYBAgQFBwQFAAMDAQICBAEBAwQDAQIJAwYGAwMBBAQDBgAKAwUEAgQDAwMIBgELBgQEBgUJAgQDAQMKCgIDBwACBQMKBwYFCQcGCgACCQ4FAQQABQADAAYFCQYDBwYAAgcNBgQEAQYHBQQEBgIACAAFAwQFAQEDBQMFDAEEAQIFDAYBBgQAAwEKAQkGBAQIBQ4DBQcAAwkDBwEEAAQCBQICAQMBAgECBQEABQIJAAMDCA8ACQACAQMGAgIBCAIFBQcGAwUDBAEEBAACAQACBAYEAQECBQIHAAEDAwIEAwkHBQMDAwcFBAEIBQYIAwALCAgUAQECEQMFAAACAAsLAwMRBgIDAgUGAgMEBAQDBwQGAAQCCAQFBAcCAAQEAwQFBgMCDAcBAAcGBwUFCAQDBQcBBAAMAQEBAgMFBAYBCQYGAwkDAwcECAMEAgAAAhIEAwYFCwQBAggEBQUDAwoGAwMEAQcICAQEAQAEBgYECAAAAgICCAMCAgIDDQgGAAcDAwgJBAQCAwUECgQCBAUDCAoGBQUGAQgJAwIGAAkECAoEBQAGAwYCAwQBBggCAgIPCAMAAggCCAYFAQEBBQQEBwYIAgIDCQIBBQ0EBQMAAgYABQsFBAIGBAcFAQMEBgcHAwcEAwYFAgcKEwsGBQQEAgQCCAYHBQwBBgQCBAcHAAcDBAADAwYGAQEEAgkEDAYFCgQAAQYJCQgBBAIJBgUBCgEIAQQCAwUBBwYBCAMCAwUFAwIDBgQDBQUDAQoEBwkABQIFBAYFBQIIBAECBQgDAgMKAQUGCAUDAAYKBgQBBAYHAgMCBQMLBwgGBAMADgUFBQAGAwYGAQUFCQYDAQIAAwAABAQCAgMABgIACAcEBgUBAQMDBQEFAQIEAQABAwMDAgcFAQYEBAIBBQMCAQQGAxIDBAMEBAABCQgGBAIDAgUCBQcEAQcCAgcBBwYDAwoHBwMGBQcFBwMCBAcEBAgEBgYMBAQHCg4DBAgAAAgHAwsGBgYCAwQBAwIICwcLAwkGAQIEDAQDBAkJCAMBAAUEBAkGAgQIBAAEAQsHAwYGAwYBCAUFCQIKCgcEDAMBCAsCBQAGAgUDBQcBAwcEAwgAAQYJCwAJCgILAwQMAgsJBAUHBwMDAgMFBgEACAMECwMICAIDCAMEBQYEBgYEAwIGBgoDCQQAAgYEBAMDAQQKAQsGAwMCBAMCBwQBBAQHAQEAAwAIBgECBgEDAQYHBQYCBAQECQQDBQIKAQYCBAIJAgIEAwMEAgAOBQMEBggDBAMBAQIFDwUFBgkBBQYBCgYBAwQBBgEGAgQBBgMBAAUDAAIBBgUEBQQCBQYCAwUIBQMDAAgDBAYFBAUEAwMDAwMCBgMHAwUDAwkFAgEICQUECwgFCAkCBw4FCAEAAwIIBAMGAQIHAQoLAwIEBwcBBQkDCQoEDAEBBQUAAwAAAAMBAAMDAQMGBQEKAAICBQMGBwkKAQIHDAkBCwMJAwIADAUDAwUECQEBBgMEBgQBAQIGCgQFCQcDAQUGBgcFBwAGCQIKAAQDCQgCAQEGAgICAQMDBQAIBQwBBQIHAQgKCAMDCwIKCQUHAwUBAwIDCAEHCwcHCwQCAQYGAwYABAUFAQAAAwIDAwcGAgIBAwMECwMCBAEAAAoEAwICBgMAAgMFAgACAwMCAgMEBgUBAgUCAgMDBAIEAwYFAwMFBAACAgECAwIECAIDAAQDBQIMCQELDwIDAgMEBgMAAQEABwQFAwgEAQUAAQICBwACAgIBAgIEBQIHBAIOAwgCAQMFAwMEAwABBwIECQQFCwIHBgkEBwEJBQACAwYDAAUCEQECBgUFAwEFCgUEAQQGCQMBCAIDBQcCAwMFAQMBAAMGCgEIAggBAgMDBAMSAgUCAgYDAQAEBAcCAwgBAwQJAgUDAwIEBgMNAwMBAwUGBwgCCQwIBgEGAAUJBgAGAwIDBQoBAAUBBQoECAMDAggJAQUFBgUHBQkFAgEAAgQCAwICBAIEAwABAQYHBgAECAEGAwEEBAIAAgMABgQABQEFAgIEAgADBAsEAggDBAYEAgEDBgADAQIDAAADCAUCBQQCAQQFAgQPAQEFBQgBBwQHAgQBAgQEAQIDAwEEAwICAQUBAggCAwUABwcCAQEIBAIDAQEEAgMCBgIBAAIGAQUEAQAFBQMAAAMGAAcBAwMCAQMJAQQEBgYFAAMEAwMAAgMDAgMBAgMCBwMDBAABBgECAQIDBgADAQYHAwUBAAMDBQMKBQIGCQUGCAkBAgACBAIABQYGBQYBCQMGBAQGAgIACAIEAQcBBwEAAAQDBQUMBgABBAYDBgYDAwYGBQYKAQYCAAkDAwUFAgECAgIDAwsDBgYPCQEKBgIBCAMFBwADBwoDAwYKAAYCAgoBAgMAAwQGBQgCAwIDAgUGAQALEAsAAwkBBQICBQMCBgEHAQAGAAIKAAEJAQANAgkEBAMEBAIDCwYBBQcHBQIBBAEFBAcJAQACBAUGCgIGBgYBAAIEAAsDBgEEAwIGAwEECQcGAAEIBwAJDAgECAUDBAADBQIFCQQBBgQCCQEAAgUDBggCAQUFBwkHAggBBAcIAgUIBwUAAAUEAggAAQsJBAQIBwQHCAYGAgcCAgMFCQoDAgoEBQIAAAIDAQQIAgELBgMHAQIDBA4EBAACBgkHAwgGAgQGAwEGBAQECQADBQgJAwYHCAEMCgUJBggKCwICAQUICAQCAAQHBAMDAgQGCggBBAoBAAMFAggFAgcHBgEJCQoCCQYBCgIBBAkBAQQFAAUBBQkFAQgHBgMGBQMEBgQKBQgKBQEGBAUDBwQDBAMEBgEGAQsABggCAAcDBgoIAwQFAwQKAwEDBQYFAgQEBwUOBQkNBAEHBAMEAwYDBwoFCQIABQACAAQDBQQBBgMJBAYCAQMCBgcDBQQIBgQGBQIGAwQGAQ0EAwYGCgIKAAIECAQNAgQECAIBAwMJCQMJBgUCBwwMAgQHAwYGCQUFBg0GBAcKBQYBAwMDAwwEBAYBAQcIAgQICAEDAQIGAwEHBwIBAgsGBQICBAYKAQcEAQYAAgYGBAQEBAcAAgMJBAMEBQIFCAQGBwQLCwEGAQQAAgAKBBAFAQYDBAYCBAcDBwMFBwQBBwUDAQgEAwYDAAwBAAYKAwkFCAUCBwMJBgEDEAYFAwsDAwYFDAYDBQUFBgMGAwYDAwABAwMAAwYCBwMDBgQABQAFAgEEAQEGAwYGBggDCQIEAwoEDQICAwUFCQgFCAEECAgBAhEBBQEGAwIEAwIEEAQAAwUGAQMFBAINAQMFBwcIAQIIAQUDAwELBAAFAwEGBQUHAQgNBgQCAQQGAgQFBAcHBQgHBQQGAAUDAQMDAwcBAwYGAwIFAwMGBg4DAgECAgUHAwcEAgcEBQICDgcBBAQBBAUHBAIBCQQDAwEAAwIEAAYFAwAHAQIDBgUGBwEIBQIEAAACBwgHBQMDAwEFCAcEAwEHBAYCAwIFAAQCBQICBgAIAAEEAAsCDgQJAAoFCQgNAQIBAQUABgQBAgYCCAQHCAAEAAIBAQICBAEECQUFAgYDAAIEBAcEAQ8EAgMAAAUIAQgBBgUDBQsCAwYABgQBAwQEAAABCQQEBAEEAwYABgoDAAMCAwEBAwIHAAYEAQQBBwICBggGAgQLAQAHAwUBBAUECQQDAwQBAAkBBgIJAgIDDAIFAgUEBwEBAgYDBQUCBAQDAwIICQcFCAcIBQMNAQQFCgQHAQMCBgUDBgQDAgsCCgcDAQQFAwMBBwEBBQYNAQoCDQUCAwYFAwQBBAQEBwQLAgMEBAQDAwYDAAMCAwEEBAYFAggJAwUEAgYHCwQPAgYBBAIEBQICBAkFDAUCAwQCAgcDBQcAAwQGAgQEAggHAQQHBgIEAwQDAwIEBAwHBgQDBQYGBQYBBAMEAQsGCAQGBQMCAQIBAAECBAgFAwYFCQQCBwQKAwUEAwYGBwUCAAEFAQMIAw8FAgcFAgMLAgAEAgYCAAUBBQQEAgIKAQMEBQkDCAcDAgYGCAgCBQAFBgMGBAUDAwMEAQAFAQIEAQcCAgQEBgAEAQMDCwYEAwMACQIEBAIFBQIKAQMFBQQFBAQFCQYCBAELAgkHAwIJBgIDAQQCAgUFAQMDBgQHBggEBgoEBQUCBQEECAEDBQIIAAIDBQYBBAADAgUGAwMDBAcEAgEFBQQABwEAAgEDBAMFBQMJAQUABAUCAwIDCwUBAwMEBQIKBgYCBQMBAgIDBwQCAAYJBwECBQgCBQkGAgIEAwICBAUEBAQDBwUGBQEEBAIHCAMEBQUHAgEGAAQFBAIFBAMABgQFBggKBgABAwMMAAUEAwMCCAIEBAYCBgMGAwQFCAYEBQMIAQQIBgYMAwICBgAGAwMBCgMFBQIEBQIEBggGAgkGBwYGAwYGBgcEBQUBAQQACQQEBQIGBAgJAAUEBAUHAQQGBAADCQcDAAIECQIGAwUGBwgBBA8DBQIEDg4GAAQDBwQICQYGCwgFEA4AAwQKAgwOBAEBBAQAAQUHCgIHAwYKCgQIBgkBDwIEBwMMAQ0MAwEKBQYDBAMCCgMIBAIGBAMCAwAEBwQGAAsNBgUECQIJAgAMBAAOCgQCBQESBAIEAwUSBQUEAQcCAwgDAwUEBAYEBwAFBQIJAAgFAQQCAgoDAwMCBAUDAgQFBAMABAsBCwAEBQcFBQkBCwQJAgADBwMBAQQCAgIEBAUBAwEFBQwDAwQGAgMGAgMHAwcCBQQAAwQCBAoEBgEDAgMFBgIBBAUFAgACAgUGBQsBBwQLBwEEBAQIBgQFAwUDAgAEAwMCBAIHBQABBQYEAgYEBQoMAQIGBAICBQEHBQECAAYCDwgBBgoFBwQGAQYEAwICAAEBCQMAAAIDAQMEAgQGAAICBgUIAgYEAgQABAEIBAkIAAgBAwIIBAcKBwYCAwMFBAkFAwUBAAEGCAMDBAUDAQIDBgYBAQUDAQIFBAMIBQMFAgEDBAYEAgMCAwIABwIFBgcHBAQGAQUGCAECBAMKBAAEAwkDCAYBCAIEAgMECAQHAwQABQIGAwoFAwgCAQYBBAICBwQMCAwCAgYIAwgCAQsGAwQBBwIFAAkCBwYEBQQDCgUCAgYHAwYHCQcHAAMEAQQDBgQEBQYBBwIEAggGCAgBAwIKAgYDBwIAAgMKAgQKBQUDBAIBBwABCQQHCAMGAQMAAAMECwQCBgIJBAcJAwUEAwQIBwIDAgUNAwQCAQsDBQgDBQQGBQIAAAQLBAMDBAMEBwEIAgcIAwEBAgYCAwMFBgUACgMHAwgBDAIGBAADCAgEBwQHAgMDCQcICQMFBAEEAQQFBQIEBRMHAAIFAgwDAgIABwABBg0EAgAABAECBwABAQAGAgUFBQcDBAMAAQUEBggDBQYCBQUHBAEIBgUDBgUBBQACAwEBAAUDCQIDBwcHAwMKAwMDBwQEAQEHAgcHAgIIAQIGBAAFAQkCAQYBCAMHBAEEBwoGBgQEBAsGBwgEAAYEBgMDBwcDBgYHBQkGBQMJAQMKAQMDBQQABAQDBgIDAgACAwUMBwIHBQEHBgIBAgwBAwMPAwECAwECAQMABQkGBwgBBgYNBQEIBAMEAwQDAwIECQkIAQMBAwMCAAwEBwMEDAMGCAMABQIDAwoDAwAGBgMPAgoDAgEBBgIHBQwCBwUJCAcBBgcBBAIDBQIHCAMBDAQBBgUBBQUCAQAGAgQTAQAGAwYKAQcFBQEFAAUDAwgCAQgDAwkJAwMBAgUCBAMEBAYECQUKCgkDAwIAAwECAgYHAQMDAwYIBAQEBw0IAwQCCAMCBAQGBgQJAAEHBgYIBAMJBQMDBgEABQMGBgICAAQIBQYIAQUDBQEHDAEDBgUCBAQDAgMEBQYFBgcFBAoIBQICAggGBAUCBQgICRIECggIAwIOBQYBAwMDAgYFBAUKDgkFBgQCAwcDBAcBAAUGBAIGBgkEAQYFBAQHAwkGBQgDAgIIBAIDBgEEAgUBBQUABQcBAgYABAUFBQIFAgACAgYFAQkBBAEAAQQBAQUFAQQBAAMFBQkGAAIHBQYGBQYBDQcEAAMDBggFCwcFAAEDBwQEAgEEBQMCAgACBAYFAQMBAwYCBgYBAQYCBQMIBQkEAA0DBAUBAQEBAwQDBgAEAQQFBAMBBAQDAgQDAwUHBAsFAQIFBgYEAQcJAQYFBwACBQoCBAMBBAEDBAQHBAIBAQIFBQMEBAIGAwIMBwMHAQMCBAQCBAMBCAADBAcHAAMEBQECCgMCBwUEAQMBCAADAQQABgUCBwMCAQQFAQQFAAIEBAEFAQUDCQkDBQABAAMGBAYHBAUGBgMBAQQHCAICAgABBAQDCQIFBQADAQMDBAAJCwIDBQYAAgIFDAcHAgMJAwoFBgcCAwUFAwYBBwQCAgQLCgYCCQIEAgEECwEAAQMEAgMACAMCBQwBBggHAgICAgADBQgDBAUJBwEEBQQEAgIDBAMGAwIBAAYQBAUEAQQNAQQCAwMCBAIKBQADCQUEDAIFAgYJAwMEAQAHAQUEAgQHBQMBCQEGAwkBBwIJAQQLBAUGCwcAAQMEAgQHBwcKBQoDCwMCBwQAAgQABwAFBAQCBgQDBQICAgQBBgUMCAcEAgUDAgAFAQEDAgQBCgIEAAEBAwUBBgIDAwUBAwEIBwgAAQsJAQYABwULCgQCAgMAAQQGBQMBAw8EAAUBAQIAAwYBAQQGAgEAAwECBwMIAwEJBAMGAQAHBQMDAQgBBgcAAQEFCAYDAg0JBgcGBAgEBggCAwIHBwIDAQIEAwIHBg8CBQgCAAYEBgcGAgMBAQUEBAYGBgQDAQQGCQMOBgQFAwYFAQACAAMBAAQBBAgGBQgJAgAFAAcDAwsHBgQDBgMHAwYDBgcBBwEIBQQABAkHBAQDBAUDBAsGAgIAAggHBgMDBQgEBAMACAQACwUABAIBAwIEBAYFBgcKCAcHBQUCBwECAwIDAQYLBgIICwAFBgMBAwQICAQEAgACAwIDAgIGCggCBQEEBgkIBgcDAQQDBQMCAAMEBQMCAwQFAAQDCgQCAQMDAgMBAwkABQECBwADAwICBAsHBgIHBAAFAQUFBwIIBQcGBgADBQMIBgQBBgEFCQEBAwECAAYBBgcJBwMFBggDBggBBAQDAgIHAgIEAgYJBwEJAwMBCwEDAQAGAwUCAQkBBgQBCQABAQEBAQQLAAYHDQYBAAEABQQCAQADBgQFBAQEAwUGAgYDBwECBgkHBwACCAMGBAQFAAIDAQMJBAYIBgYDAwECBgAFBgQCAQQJBgMHAQMBAgMDAQcDBAIJBwEDCQMFBgIGBAgCBwEEBAgDBgMDAwQBDggOEAIBAgMFBgUABQECAgsFAQQGAgcFBAQICAoIAAIDAwELBQkFBQIDBAMFAQcBCQIABAcGBQIAAwcHBwYDBwEBBQUEBgICAAEMAAcGBQgGAgQFBAMGCgcEBAQGCQAHBgMFBgUGDwYAAgMMAwUFBQIAAwQFDAMDBQQABQUGBA0BBwkDBQcDBAcFCgQCAwUEBgMLBAkADAwDAQQKBQIEAggGDAUFBQUCAwkDAQUBBwEEBwUCBAERAwcKBAICEQgEAwYSBwMEAgQJBgEJBwkECAgEAwUEFgUIAAMFBQQDBgkLBQQEAQAGCQMBBAcABgUEBAgJBAYCAwcCAgcGAwIBAQUCBQcABAYFBQMAAAkFAAMCAwIHBQEDAwMDBQcCAwYDBQ4DAQEABAEGAQQGBAYAAwIGCAMCAAIEBwIEBAIIBQQCBwIBAAQBAQAEBQIHAQICAAUGAAUEAgkDBwcEBQcGDQgFCAcEAgQECAUEBAoBAQYCCAYAAgUABgYJDwADAQIDBwkDCAYEBwQIAQYDAQYBBQACAgQDAgYCBwIFCQcBCgsDCgMEAwQDAwMABAMCBAMABQgKAgEEBwcAAwIGAQUFAwIBAQIBAwIACgMFCgYFBQUCAQEDBwMCAgMHBwQJBQgDAgUACgQCAQEDBQICBwUEAQ4GAwEOBwIIAQQJAwgFBAcBAQoHBgQFCAMJAgEFAgkCCwIJBAQFBAoJBAUDCQMGBQQECQYDBwUDAgECAQIDAgkAAwADBQEDAQkEBwQGAwUEAgMBBAQFAAEGAgcJAAAFBwMEAgICAwEIBAUHAgYFBAMAAgIGAgUFCgYAAAIECgIDBQkIAgYDCAMAAQMAAwEHBQEBAgMJBQMGAgcBBgEDBQoFBQIHAwkEBAcCAQEEAQQDAwEFAwQFAwYABgUCAwUACQIAAQYFAggFBAkBBAIEBAcEBAIABAMHAwMBBQQAAQYEAgYCAQEABQUEBAQJBAMFCwADBAIABwICAwAEAwgABQEAAAIBBQIAAgUHAwYEBAAEAwYNBwkICAECAQEAAQECAwECBQMFAwQDBgcAAgMHAQEAAwMDBQAEBQUFCwEEBAQEAAEBBQUFAQAAAQIBCwMEDgUBBgMFAQMEAgYIAgADDw0HCAQJAwMBBwQGAwMEDgQHAQABAQEFAgAEBwIEAwECBQcDAgECAwEIAgQAAwICAgkGBQEEAgMDAQQIAwMBBQADAw0CAQQBAgcKBwUCAgQCAwMAAgYCAQQFAQMCBAQGCAIDBAUBBAMBCAcCCQEBBwEDAQcDAAMEAQIFAQAFAgIBBAMGAAMCBAABAwMCAAABAQUGBQQBCAMBCQADAQgEBwAFAQIGBAQFBQYHAQIABwMMBQkCAAMFBgIDAgAFAwIBBAcCAQMCAgQGAAwFBQIDAwUEAAABAwoFAQgFAwEBBQQFBQUIBgIBAgYDAAUAAgIABwICBAMDAQQDBAMEAwgDAgMFAQYABQIABwMHDAMBAgUBAwADAgQGBQICAgECBQIEAQMGDQECBA8DAwMGAgIDBAYGAwQFBQACBAICAgQDAgACAQgAAgEDAAYCAQMFBAEHAAAFBgUCAQICAwACBAYCAQcGAQEACAgDAwgJBgwBCAIBAgIDBwMDAwIDAwEEAgYICA8JCwkBBQYFBAMDBQYLBQMFBQcHBgYAAwYECQUDBwMCBQQAAwkDAwEKBAQDBAUHBgUDBwEJAAMDBgAEBAUFAgAMBAMABgUJBQEDAQgIAQYHBAUEAQIFBgYJAwoDAgMJDQMCCAUHAwIIAwEFBgEGAgQHBAAGAQIECAUABwIICAgGAgEEAgQEBgUGAwQCBQQLBgYBAgMEDQgBAQEDAQEJAgEQAwQFBAIFAgQCBAYCCAYPBQIFAwIDBggFBAgHAwADBgIGAgMDBAMGBQMHBQUAAgADBgUEBAAHCQEEAAIFBwIIAQYFBw4ABAMDBQgAAgwFBAAJBQAEAwACBAQFBQEECggCCAEJBwgABAIECAQFAgYBBAMICAIBAwAGBgwDAAQCAgYIBQAFBwYJBQICCQMECAACAg8BBgUFBQgJDAUGAwcNAAMCBAIFAgUHBAELAwgEAwcCAQsCBAMFAQEHBQIHBAIFBAMFAQIAAgQGAgcKBwsEAwcLBAIHAQcECQEBBAQCBgUCCAUDCAUFBwMADwUEDQQNBggHAgUEBQMHCAAMBQAUCAIEAgMDBQQFCAUFCQcDCQcHCAcEAQcCAAQFAgALBAkCAQcKBwsBCAQNBwgKCQcABwMHAwMFBwwECgMNBgMHBQEDBQEHAggHAQEBBgIGBAAGCgYFBQQCAgMBBwACBQcJAgkLBAUDAgcCBwQDAQQJDQsDCQgDBwIICQIBBAEGBAMDBAEAAQEFBgUCBgICBgMHCQIEBAsFBxAHAQIGCwcCBAMEAwgDAAcDAQYFAgcBCAMBCwUFDQUHAAEBBAQGAQUABwUNCAIEAwEACwcABQYGBQUGAwMGAgQFAgIDAQMABgICBAUGBAcHAgAEBQgDCAACBgIEAwQDAQUCAQQDAwUABwcFBQAIBAAAEQMBAwYEAgEEBAoCBgAACQQCAQMCAgIICgcIBAQGAgEJAAIDBQACBAMCBQMFCQIBAgEFCAUGAgcGAQIFAgUDAwUJBAMFBwMDAgMEAwYBAwgABQQAAgEDAwQJAQIDCAMHAwQEAwgDAwIKAAEEAwQHBgQEAwYCAwUDAwUFCQAHBQYDAAIGBgIAAgMCAgAEBAkAAAYECAAGAwQGAAQHAQcCAgEFAwMGBQQJBQUEAwMGBgYHCwoDAgIAAgIDDAYIAQUHDQkFAgoDBQMJAgMGBQMKBg0CAQYCBwYBCwMAAA8GCgkGBgIEBAgGBAECCQgAAwgDBQcOAgMCBgoFCQUBCAYHAwYDAQUBBgkCBAsCAQYEBAUEBAcHBQgBAAUFBwQBAwYHBQUEAQIBAgYJBQIFAggJBQQBBQMBBgECBQIDAQUBCQYDAgEHCwEIBAIBBAEEBgAKBgkIBAEACwUAAAcJDgYKBQEEAwkCAQIFBgEFBQcBAQEFAAcGDQwIBgYCAQsGAQcIBAQABAAKBgYBBQcCAgIDDAgDBQMDAAMEAgICAgQBBAgIBgUIAgEDAgIKAwYFDwgKAgcAAwgIAgUFAQACBQMGBgoCBwEJDgoJAwQCBAQGAgQDAg8ACQ0HAQMACQcHAQYEBwUCAgEDAQMEBAICBQoAAwsCCAQFBAAEAgQAAAIECgQEBAgGAgQHBAEKAQcFBgQHCAYABAMLAgQCAQQHBgIGCAcCBgQCBgYADAQJBQEGBgYEAgAEAQUCAwcHAAICBQEIBgABAQMLAwEAAgIFBQcDAwIIAgQDBgECBgEBBAQIAwIEBAcGAgoDAQUDAwMCAwUCCgUBBwUGCAkDAwMGBAUIBQUEBQIGAwYEBQgDAgIGAQACBAgCAAYGBQgHDAIFAgAAAwIBAgMBAgkFAgMFBAcDAAACCAAHBAIECgMEAQEBBgkBBgULAwAEAQMICQIHAwUHBQMDAwcBBQMGCAQGAQUGAwgEDAQKBQUDCQMDAgIJCgQDBAkBBQQADAkEBgMBAQIADAQDAQwNBgADAwIJBgsHCgoBAQsDAgQCBgsEAwMHBAwGBQEFBAcFCAEGBAMDBwYGAwcHAQYBBwQCAwECCgAEBwcPBgEICQYFCgAFAgIBAgIICQEDAwMHBQUKAwEDBwECAwMIAwcEBQAFBAYJAwkDAwIOAQMGBAQBAwMNBAkIBQUDAgIBAgEEAQUCAwQEAAgDAAUHAwQCBgICAgEDAwIDAgEEBAUEAQgJAQMCAQMEBgMDAwEFAgUEAwMFAQQFAQEHAggGBgIHAgQABAEBAAIECwUIAwEAAgoAAwcDCAQEAwMDBAwCAAEFAQYFAQQDAwQDBQMIAQcIBAMFBQQBAAACBQIGAwQOAAQBAQYABAAFCAIABwEHAwkDBAUCAgUDBQQBAQwGAgUBBQECDAQEBAAFBwYNAAEFAwUEAwUABQMCBwAABQIEAAQKBQUCBAIIAwcEBwQABAMDAAQHAwUEAwECBgUIBQABBwgCBgMHBgIGCwkODAIHBAcIBAUABAMKCQYAAwYFAQMBBwAIAQEDDAQOAAITBQIEAgkJAwIBBwEBAgEEBwsICQUABgQDCAUEBAIBBAcHAgMJBwIEAgkHAgkFBAMACAMEAQIECQYFBQEGAwYGBQkFAwADAgIBBQMEAgMEAgsDCQQDBgEBBAIBAQgBAQYJAQQJBAUEBgYBBAYCBQYDAgMBCQMCBgQABgUEBAIGAwoHAQgBBAwDBAUEBgIGBwUMBwQDCQIBBAYDAwQEAAUCAwgBAQEGBgQFAwQDBAEHAwYCCAQFAwkHBQcGCQMFAgMBAgMKBAMDBgQHBwUFBQUDAwUIAgMFBgkBBQICAgMFAQQFAgAEBQMGBQEGAwQBAgEBBAIDAAQEBAIGCAsNCQECBAUBBAICAwEEAgYHBgIEAwgDAQgFAQEFBQkGAgIDBQQCAwcGCAIDBwQDBAkFBgAEAQMFAgIFCgMIAgEBAQQEBwgLBgAJDAMDBwYBCQADAgoAAgEDAwMDBQAFAQMCBgIBCAMFBgUCBQEGBgQEBQADAQEBAwIAAAQHAwQDAwMBBwAHAgQCBQADBwUEBAMDDwQEBggGDwAEAAUDAgARAgcIAgEFCAQEBAQBAhIFBQYGCAgJAgIBBgMBBQIFBgcAAwQEBggGAwUHCQ0LDQIDBAABAgUIBQgCDAEAAgYEAQsCBAUFCwoEAAMDAQIFAQQGBQEFAgYFCAIDAgQABwIGBggEBgMCAwQDAwYJCAcFBQUDAwYFAQMEAAoICAQJCwEGAAACBAIGCAMHAwsBAwECBQcHBAoGBwAAAQcDAgMKDQUCBwIBBQMDBAMDBAIEAQQGBwIJAgUCAwIGAQoEAQMFCgcDBgMEAwIBCgYEBAMEBwQEAQIGBwUDBwMIBQQEBQYBAgEBAwgFCQUCBgUEBgUHBAgHBwYECAAHBQQHBgIFAwMBBAMBBwoGCgcGCAMGAQMDCAUFAgUFAwMBBQUIAAEHBQQCAgcCAQIBBQgEBQYEDAYECAEEBgIFBQIGAgYCAQEACAUGAQEFBAUFCQUAAgEBAgADBAUCAwMJBAYEAgUGAwgCBggAAwAFBwcEBwcFAgUDBQQFBQABAgEEAgQBAgAEAAUFBQUBCQcCBQYDBQUMBwQDAgQBAgAFCQECAwEAAgMBAgQFAgEEAQUEBwEEDQECBwAAAAkDBgYCDAYAAgQCBgkEAAMBBwQFBgkGCAEHAQQGBAUEAAMDAgMAAgIFAQMEAgMHAwgEAwQFBAMAAgsBAQwFBgcGAAUEBggFCAEAAwMBAgIBAwgEAQYBCAIFAwMBBgcFBQEJBQkDAggBCwMABgIDAwkAAQAIBwcFAQMAAgACBwQAAQYDAQICAgIEAAgDAgMCAwMFAwkHAQQBAwEEAgMABAYDAQoCAQQBAAIFAwEBAgQEAwIDBQIDBQEFAQEBBgYFBwEABAcEAQEAAgcFBwMDBAAGBwADBAMJBwIBAwMFAwEDCAQHBAMDBAIFBAUGBAAFCQMHAwMEBwAGAgMCBAQFCAYCAwIHAQICAwICBAQDBwUHAgIEAggICAUEAQIICwMBCQIHAQgGAQQGCAEBBwUDBAYBAQMGCAUHAwIHAgUCCAEHAwUDAAQJBQEBAwMKBgEJAQIHAQYEBgYEBwQCCQoDBwMDAgMEBgUEAgAEBAUHAwMEAAUGBgQCBAMJBgUEAgQDBQAHAwIDBAICBwUEBQMJAQYHAgsDAQIIBgYGBggEAQYFAgEDAgMGAgQCBggACAgCBQEHBAIAAQEFAwMAAAACAAAIAgMEBAMDAQIGAgICBQcICAUCAgQFCgQCAgAGAwcAAQYFAwUFCwkGAwYFAQEECwgCAAQKAAMCBQQDAwIDAAACAQgEAgcBAQMABQEICAgDBwMDBQUGAwcHAgAIAQQFAwMDCQEGCQUBAwMIAAAGAgMBCAEICAIBCAMAAwQQAwQIBwUDAwIGBgIFBQAIBAkCBgEDAwUGBAcJCAEGAAEDCAMKAgYNBgAHAwUKBAQCAwQBAgEGBgYCBgEKCAoNAwEABgMDAwUFBgYGBwYDAAkFAwYABw8EAwsJAwwDCAgCBQYEBAUIAwkDBgMJBAQGAgIIAQYJAAUEBgICAQEGCgECAwcDBgYFAQIFAgYGBwMAAAMAAgMFAgIHAQQEAAsECwUECQAIBgMDBQMEAQcGCgAECAsCCwgBAwIFAgIBBQAEBAIFAwUHCgYIAQMFAwMDAwQTBgEDAgMHBAQCCwwFBwMCBQYGBA4HAgYCAwkEAQMCAQcBAQYAAwYAAgoECAMEAhICBgMIBwEFBAADAgYGAwACCgMFAgQEAQUDAQEEBwQCAAUFAgYDBgMFAgECBQMJBwYDAwEEBAMFBwoFCQQDAAMJBQAGBAMDBQYJAgQGBggFBgQGAwMBAgQLCQkDAQEFBQQGAwUBAxEDCQUDCwIGBwMABQcBBAMJBgUDAgICAwUDBQgBAgkBBgMCAAYAAwYAAQgEAgIBAgIAAQMCCQMCAwUFBAEGAAMCAQMABwYAAQIBBwQDBgYGBgMAAgIDBAYGAAYFBgUBCwMIBQcGDwcAAwcFBgIBAAMGAQoFAQUGBgIIAgEBBAUCAAMIBgkCCAEGCQMFBwQDCQQFAwYDBwUEBgMFBAQGBwYFAwcEBAMEBAoFBgcGBQgGBgYDAgEEBAIFCgYCBAUMBgAGAgUMBAoFBwgDAwYGAQQGAwEDAQQHAgUBBAMDAgYGCAQNAwUCBAUGAgQKAgoEBgQIAAsCCQoEDgEEAwcBAAUEAAMABQYEAwEFAAIFBQECBgUEAgQJBwIGCwMBBQABBQYABgIAAQMCAAQCAAAJAAwDAgcIAwMICggKBgEDBAQECAQBAgIGAwIDBgMDBAECBgkJAQQEAwIFBxAEDgYBBAABBAUBBQAKCQMJAwACAwYIBwIEBQAFBAMHCAwUBwYDAQEGBgQDBgQAAwUFAgIMAQkFBAMJBwgHBQQDDAEBBAIHAwIACAUCAAIEAQEFCAcBBQEGBA0EAwEJAgQGBwEDBQQJCAYFAQECBAoFBAMIAwoGBAEDAQUDCQQEBwkGAAUCBwcBBwMCCAUHBAICAgEJBQADAwIIBQMDAwIFBAcHBwEBAggDAAIDBQEDBgMBCAQBAgQCBAgMBAIEBAQEBQIDCAUHBAEGAwcDAwkDBAwABgMDEAYCAQYEAwEJBAICAQACBQEBAgADBAEFAgECAQUFAQEEAwkHAwYBAwAFBAIABQMDAgQFAAQDBQIBAQMKBAECCAEGCAQFBAUDBgEGAAkJBwEJBAQCAwQLBQ4HBAsIBgIFAw0HBgEEBgkEBQMAAQMFBgQFBAUIAAQGBAQHAwgACwQAAwoCBAYBBQIFBAADCQUDAggBBgYCAwIDAwEEBwkDAAEHAQEIAgoABQACAwIFAAMABQgCAgEIAQQHAwQAAQUGAQICBQEBAwIFCAEDAwMCAwICBQYEAQIDAwMAAwsBAAAHAwYHAgAGBQMFBQUFAQYCBAIBAwIJAQIIAwAHAggCBgkIAgAFAgEHBwAICAEJBgMBAgYHAgQLBgQEAwIHAgcCCQUFBAABAAEHBwMHBAUJBQMACAUBCgMGBAYFCAsGAwQEDAICBgEEBgICBAEHBQMDBwMBBwgFAAQDAAQFCAQBAwAEBwkFCQACAgEEAwIHBQMEAgICBgEAAwUECgYGAQUABAMCAgoVBAoCCAEIAQMCBAACAgcCAQwKBQUAAAMBAQADAQYEAgEHAQIHAAkJBwYDAgIBBAIEBgQHBAcFAwECAQcCBQcEAQMBBQMFBQUDCAQDAQUABQECAgQDAgEBAgQDAwMIAQQCAQYBAgQDCQIEAgQGDAQEBgcIBAUEAQIEAQQEBwYCAgYDAgQBAgIEBQQBAgIBBQcDBAEHCAQCBAYFDgYDAwQDAQQCAgMFBggABQAGCgMEBAEFBQAFCQIIAgMFAQEEAwQFBgECBQMDCQkCBwYDBwMDAwAABwQBARALCAIEDwEACQkCBgQKCAECBAgFBQMBAwYIBAUHCQYCBQIEBQkIBgMCAgYHCQUIBAIGBwMDBwIEAQQLAAkHAwMFBQoCCwMEAAUCAgUNBwIKDAMEAggJBgcHAgQEBwQFBQAFBAQGCQMACAgEBwAAAQUIBA4CAgEBAQUCCgMDAwELCAsIBQMFAwUJAgQGAgMFAwICAwIDBAwHAwgDBwkCAgsJAgkGAwgCAAMBBAcIBQEBBQMHBA0IAggEAAABAAoDBQUCBAMFAwQCAgUDBQQFBQQFBgYEAAwECgQBAQcIAwIEAgIFBAEDDAkEBAYFAwQIAgUDAwUEBwMFAwQDAwMJBwQCAwMFAAIIBQcCBAECAwUBCAABBwUNBAIBBgsDAwUCAgYHAwACBAIEAgMEBwMBCgMHAQUDAgQGBgQBAQMKAgEDAgMIBAIAAAQDBwwEBwQCAAcMCggFAAUFBAIFAAgAAQUJBAUEAwIGAgICBgMEAgUNBwwLAwUEAwEKBgUABAMDBQsBAwUEBgQSBgoCCgMEAgcEBwIEBwUDBQIOCgcFCgINAQQEBAQFBgEDAw4IDAQDCAICBwEGAAEFAgUJAQMGCAkCBwQEBwQCBw0HBAcBAgQBAQQEAwAEBgMBCQQJAQUFAgIIAgsPBQQGAgYKAgIIAgACCgICCwUDDAoICQUGAQQFAwgIAwcFAQQABgUECQYCAwYDAwADBQIDCQQIBAMBBQcHAwIHAwUECQcCBAQJBQQBAAIFBwcBCAsFBAIDAwUGBgIDAQMIBA4CBQYFBAMHBgYIBAIEBQkEAwMCDAMCAgMGBgYKAwwHAAkBBAcHCwYDBgQGAgALAAsDAwEABgcPAgAKCAUBAQIDAQQDBgECAQQCCgMCBQIDAQIDAgIEAggBCAICBAQAAAYHCQQDAggFAgUBAgcBBQAJAQQCBgQDBgYEAgIHAwMGBAMCBAUGAQMEAgMDBwECAwABBQIEBwMEAgQHAgYIAQcDAQUJAgUBBwgHAwEDAgIHBQEHBAQGBAYCAwEEAwUBAwECDAsKBQUICQkGAQQDBQEEAwUEBQoFAAkIBQUIAAQLAAIDAgcKBAUDBAUJBgQOAQYGAAUFBAECAgEACAgKCQQCCwkJBwcABQUCAQQBBgMEAgoCDAMIBwIGBAAEBQMEBAIIAwUFAQAFBAIGCAoEBgUDAAYCAQgGBQEEBAQGAQYHAwAEBgUEAAwGDAcFBQcFBwAEAwMABAEEBgIJBQMCCQUGBQsCAQoCAQkOBwMEBwMFAgYCCQMCDQMAAwQCAAMDAQgEAQYDCwEIBwcFAgMDBQcFAQcDCAIGBQIBAQIFBwYBAgUGBQsBAQYGCAMDDAUEBwYCDAEFAwYCBQMDBQMEAgYBCgMJCAMFCgMFAQIDBgEDBQQGAwMDAwQEAQYGCAEJBQMCAwECAQIFCQEBBQQBBQQGBQUFAgwIAQcKCAMFAgUDCAEEAQIDAwsEAgUCAwAFAgQBBQUFCwYBAQUFAgUBAAMDAgoGAwoDAAIHAQcCAAYJBQEFBwQFAg8EAwUHAQMMBQYKAQAEAgEEBAQAAgIBAwQFCQgCAwkGBAcNAQICAgQAAwcJAAQGBQIDCAYDCQYABgABAgoEBQAEAwMIAAEFCQcEBwYCAQEKAAMIAwUFBQgHBgIDBwALAgIGBwUFAAECCAYCAwAGAwIBAwUDAAAHBAMDCwYLAwMEDQMHBgIGAgUEBgYBAgEIBAQCBQkLCQsGBQQDAgYFAAkBAwYDBwIDBAIBAgUCAwMCBQANAwIBBQIFBAIGAwIAAAUFCQEFAAMABwEEDAcHBgkFAwEIAwIFAAUCCgYHBAIEBQoDBwgCBwMFAAUIBAUCCQUGAgQKBgEEAwYGCgYFBgMJAgcDBAQHAwEACgQDBQUCBAYBBQ0GAgUCBgMHBAsEAgQCAgQCBQQGAwgDBwMHBAkCAwEGAwAEAAYLBAIECgUCCgYDBAMIBwMEBAkBCgIDAwUABwcDBAMEBAIEBQQFBQMDAwUBBAEBBAIJAwMGBwgHAgYADQMFAgIFAwcGBgQEAgkABgcHCAYHCgMAAQMGAQgDBQIEAwkEAwwFBAEGAwgHBgkBAwkBCwMRAgYHBQoKAwIEAAUDAwUCAwoDBQsFBwcCBQQCCAYHAAQLCwgEAAIEAggABgEABwUBCAUIBgUEAA8HAQYFAwQDAQMGBgcCDAAECA0EAgQHBwACFAkMDQMCBwMIBQkCAwMGAgUDDwwFBgMAAwEFAQQGBgQCBwIGBAECBAQABAQDBAUHBgIFBAQJAgQDCAIJBAYCCAMEAAIEAgUHCQgHBAQDCAACBAICAQYGBQMCBAEBAwMOAwUHBAUHBwMAAgQECAcCAwIGBgMDAwQEBwEDAQIAAgUGBAIAAAgFAQMGBAAEAAcAAQsCBgQGAwICAwAFBAcDAgkIAwECCQABBQECAQMABQUDAgECBAACAAEFAQcEBAcCBAAEAwMEBwEBAwIDBQUEAwYFAwAFAgAGBQIDAwQJBQMJAgYDAgQCBQADAwADAAIEBwQDBAQKBQEDBAQFBAQJAwYFAAgKAwAFAgMDAAECCwUGAQUDBAoDAwICBwEAAgIEBQEBAAIIAwYCBQUCBgQEAwUIBQIFBAUDBQgEBgMCBgEEBQEAAwQFAQADAQEBDAQDBQYGAwQCAgEGAQEFBQ8GBg0BAAUBBwQBCwsBAwoFAgEBAAMFAgECBgYHBAUCBA0FBgQFAwoCBAQHBwUEBAgCAQYCBAMEBAIEBAYMAgUEAAUEAAIDBQMEAwAABgIIAwMCDQEDAAYFBAIIBQUCCwMJCAUBAQABAgQDCAIDBgcBAwIGBQIGAAkFAgoCBAYBBgEKBggEBwEEBgMEAwABBgEHBQYKBgYCCwMCAAEDAgQDCAAADQYBAQkBAgMDAhMFAwICCgAJDgYHBwIHAQQJBAcEAAECCgYFBgoBBwwBBAUCAgUHAgUDBAMEBQQBAwUFAgYCAQQGBQgDBQMEAwkTBAQGBQcABAkCAwQEAwUGAgIHAQMKCwEGAwcGBgAEAgIBBQMCAgYABQkCBwMFBAMBBwMAAgECBQQCBAYICQEEAwIOAwgHAQUCAgIECQUHBgwFBQQIBwUGCQIGAAcJAgkICwMEBAIDBgIGAgIMAgcECQMCAgEAAAgBCQMGCgoFAQUEBQUDAgIDBQUHBwAFDAUKAggIAQQHCgUAAwIBAQcHBAMCBAICAAgJAAEBBAEFAQMAAwEJBAECAgMIBQYIAwACBAIBAgABCgYDDgUEBgQCBAUDBAMABAYDBQkDBwgEBwMBAgIJAwcCAgYEAwcJAgkIBQABAgQCAggIAAcGCwMHCgYCAAEAAwcDCgcIBAYCBwQRCQEECgYDBwYFBAICCAULBwYCBgYAAwAFCgIKAAUHBgQCAwIEAwUFAgMEBgoHCAQBBgMBAwcGCwcJBgQECAMHAQUABQQHBgYEAgoMBQsCAwMEBQYKAwkEAgMGBAABBgYDBwYGAwsGAwQHBwoAAwEEEAMCAQkBBgADBAYABQwHAwMEAQIBAAAAAQcDAwACAAECAQMIAQECAgYIAwMCAgYEAgYCAQIOAAEABQEDAgADAgACBQMAAwEDBgYBAgUICwIDAQIIAQUBBQcHAwIBAgYBBwQFAgcGBAMGBAEEAgEEBggCAgAAAAMEAQUCBAMFAgMDCgMAAwIEAAEEAgEFCgQGBgQBAAIDAwEDAAEEBwQGBwcCBAIDBQEDAQMAAgQEAgAEBAQBAwMCAQgAAAMDAwAQCAUEAQIDBQMGBAEDCgIDBAEJBAQDAwIABwMFAgcHAgIHBAQABgMDBQUCAwEGBwYCBQIBCwECAgACAAYCBAUCCgEHAQQGBQQCAgEAAAQFBQkEBQQCAwAHAgUDBQMABggBAwsDAwQCAgoFBQQBAQUCAAgFBwUCBAwIAQoDAQIBAQIGBgYDBQECBg0GCQIBAQAFAQEBAgACAwIBAQACAw0DCQMHAwQCAwMBAwUEBQgDAwkACAkCBgEDAwYGAgILAgkBAQMFBwEEAgACAwEDBAIEAQAEBwQHAgMCAwoHAwUCAwMBAgcDBAEJAgkFBgoDBAQFAwEEAAMEAQYBAgMEBwUBBAcEBwIEBg0ABQUJAwQGAAIBAwIFAwACAwoCBgsGCAMCAgUDBAQHAgQFAwYGAwECBwMHAgEEBgAAAwYFBAQAAwMBBgMEAwAHAAMCAgEFBwcDAwcEAgIGAwEJAwIDAgQHBQICAwUBAgMCCQAFAwgDAwIHBgICCQIFAgEBBAUGAAUDBgQDAgYDAwYEBgEEBggKBQoCBAYGBwYAAQEDAwkOCggCAgQBAwAGBgMBAwENBQcFCAQEBQQFAgIGBAYCAgEGAgQJAgIKBwUCAwIIBQEDAgMDAQkEBwAEAQIEAgsAAQUEAwECBwcDAAAECgQHBQUEBwYBBQYACgwEBQEGAQYBAwcBBQMBAQYGAgEFAgICBAMFAQYIBAUCBAEBBQQJBgQKAwYBAQMEAgIECQQCAwEBBQQEBQUHAQQCAgMBBAUCBgEDAgMIAwcFBQMGAQEACAIDBgEKCgAFBAEHAgEFBgYGAwMHAQQABQMCAwkFBQMCAQUFAwYGBAcBBgIGBQIEBAQEAgIDCAUGBAEEAAUCCAgCBQUEAQMHBQMBBgYDBAUGDwUGCAAKAgQCBQEBBAMGAAMBBgYECAAFCgMBAwQEAAMEAgAGAgcHCAEHBQIDAwMGCAQDAgUABgUEAQMDAAQKAwMBBAoAAgMEBAIDAgQGAwAHAgMHBAUDAggEAgUCAQYBBwUCAQEBAQMBBAoJBQUCAAYEAwIAAAYBAwQGAAEHBAIABQYBAQsIAQUHBAcDAxAECAQDBwYCAgcCAAQBAwEHBwQBAwMDAgIDBAIFAwIEAwAEBQAEAgIJAwEBBgIKAQQCBQEDAgQBBgQDBAQHCAQDAwQFAgUJAwQMBgIECgcCAgQIBQUBBAIHAQsBAQYEAgAEAwIDBQIEBAkCAgQEBQIDBgUBAQADAQUCCwMLBQUBBQEEAgADAAIEAwABBQUBBgUEAgQBAgICAwIEBAMEBwsOBQMDBAQCCQUEAQQABQYFAwEHBQAEBAADAwsDBAcABAICBQcGAgMJBAMBAQQBBAEABwQGBgEDAgQCAgICBgAGAwYHAQQFAAMDAgoHAwkDBQEBAQgIAgEEAgUHAAUBAgYABgIDAgMDAQIFBAMFAg4LBAoBCQMIBAUCAgMCBwIIAgMJBgYICAkEAgcFBgQBAgAEAgUGAQADAAMCBQABBggIBgkJCwgEAwELBAcDAAEGDQUCAAMJCgoEAgIFAwADAgMEAQUFAgICBAkBAQYLBgQGCQIDBAIKAwYFBAECBgUDAgAKBwYEAwYFAwcFBgEHCAEBBgMKAgIAAgMDAQAGBAQEAwYDCgkAAgMEAAEFDgQGBQQBBQMBBwIEAwcCAwgGDgYEAgUEAQsCBwIHAxIICQEFAQIECAsJCwoAAQgFCQUCAgQECAIIBwMBAgIAAgMIAAcDAAMEBAkFAgAHBAACBgYDAQIDBAYEBQADAQcDAgUBAwMEAgUDBwcHBgUEAwECAwMIBQIFBAIDCAADBgcEEAMBAwUGBQQHAwQBAwIEBA0EAAEDAQEABAcCAQQEAQkCDAIFAAUBAwAAAwUDBAUEBwkCAAYDBgMBAwYCAgYDAgQKAQUCDAYDBAQDAAICAQAFBQEDAgAAAgUGAgYDCgYFBAYDBAICBQYBBQkECAYDBAIEAQIHCwMBBAMHBQIBBQEEAQUFBQEFAQAABQIEAAIGAQgMAAMDBgEEAQUFBgoJBAoCAgEGBAYBAwEBBQMEAgMEAwYFBAcABwIJBgIFAAIFBQQEBQEEAgMFBQYFAgMIAQoDAwAGBwAFBwIFBAMIAAIBBQcDBAIDAAICCgUEAwIIAgQIBAIEAgIDAQkDAgUFAQYJBwIAAAEDAgIIBgMNAgQHAQUFBQEDBwIDCAIFAg0EAgMCCgUABgMBBAQEAQcGBgkEBwcDBQIGBAUEAgYFAQEEAgUJAQIAAQECBQQHAgIEAgEACgYFAgUGAQoADAECBAEHAAYBAwIDAgIHAgECCAQBAQIIAgMBCQUCAQEEAwUEAgUIAgUEAQQCBQMBAgAABAEMAwMJBgIHAgIIAwMDCQMDAwEEAgECAAADBwIDBgMDAgYCCAQIAgECBgMGAwwDAwQACAABBQIECQECBwMEAAQHBQEEAQEDBAEDBAIDAwAJAwcGBAIFAwYJBAQEBAMLCAQHCAYECgQMAgQBCAIABgIEBwgIAwECCQUAAgUEAQMDBAEHBQABAQMDBAMHAwABAwYGBgYBBAIBAQQCAgIIBAIFAwUEBgIHAAADBQEDAwQJCgcDAwoIAwIDAgUFBAIBBwQGAgkCCgQCAgQDCAoFBgMICQIACAQBAAYHAQMGBQEABAIAAQoGAggKBgUAAwUEAQMCAgEFAgEBBQEAAgIEAQMGAgQKCQECBAEAAwUDAgABAwkCBAEDBAEBBAIDAgIFBA4GBQADAQUBBgQBBQQBAwgBAg0CAwEDAwgEAgQTBAgEAgEAAgEGAwcDBwIGCQAGDgQFCgIIAwoABAIFAwMCBAkDAAECBAYGBwoBBQMDAgYKBAIHBAQCCgUHAwUGBAUCBwgCBwYDDAkCCwkBAgQNAgUCBAYEAgENAwEHBQEMBQQFAwkFAAMECgkDAwQLAwEAAgIAAQQNDQMPAgUEAQAFCAQBBgAEBggDCAYDBgIIBgAAAQcCAAUCDAUJBAUDAgEMAgsEBgcHBAQCBAcGBAQIAwQGAAQBAgEAAgQGBggBCAUDAwIECggCCAcDCAcECgUGCAQFAgMMCgMFBAMEAwgKBwMFCQALAQMCAggHCAgBAQIFAwEBBggCBQMEBQADBAMMCAEHCAMDBwQEBAEEBQgEBAMCBQoBBQIFAAECBAEIBgACBAUHBQICBAcCBwQCAQUEAAMBAQIHAwIEAgQAAwQDBwQGAQQCBQUDBQcIBAMCBwUCBwQDBAcFBgAEAQMDBAIHBQsHBAsCBAIACgIBBwUEAgMEBAgMAQYGCgEHCwIAAwkFAwQDCQcBAwUDAwEDBgYCAgEAAQIIAgkEBgQCAwgCBAQDAgIFCgUFCAgBAQIHAAEEAgMEAwAIAAAEDgIHCAIEBQgKCQUGAgEFAQ8DEAQFCwICCAQMAgICAgUEBQMEAAQFCAABAgcDCAEDAAwDBwYFBwYCAQIKBAUAAwgBCAMCBAMAAwQDCAEDBgMEBAIJAQEAAQoIBgQEAAMMCgsAAgcDBAwGBQYJBgMDAwMHAQQGBAQGBwMIBgcCCAUHBA0BAQMEBQYECAYCAQQACwAFAgUHBAUDAwUJAwQMBgIEBQUCBQMGAwcHBgUEAQIEAgQGAQIEAgMEBQIFAQcDBAAECgMGCwIGBAMDBAECAwYDBAICAwUCBgcGAgMGAAcDCAUHBAEACgIGAQcAAgACCAEGAgIBAgMBBQYDBQcCAQYAAQYGAQQAAgIFAwYCCQYAAwEDAwEDBQcDBQUBBwAEAgYFAgEGBwMCBgENCgABCAgFCwICBQEDAQUCAQIFAQIJAgAEDgEBBAMFAgEDCQgGBAYDAggBAQQLBQsHBAIECQIDBgIJAwAJBgkGAwcGBAsEBgIDCAUCAwABCAICAwMCCwUECQMCBQYOAgkFCwIBBAcEDQMCBgYHAgUDBAMCBAUJAwQDBgAGBgIJAgYEBAEGAQcFAwMCBAUIBgQEAgEDCwMDCQMHAwUIBgYGBgQHCAIFBwsGBQAIDwMFCgMCBgICAwQCBAIGAwEFAwcFBAEAAgUBBwQFBQIEBAgCAwEJAQgGBAQCCAMBBQcIDgwJCAcLBQEIAgUBAwgBBAIFAwEBAQUIBQAFAgQFAwcGAAUGAwACBAYBAQIHBQUFAAUEBQIEAwMHAwMEBQUDAQASBQACAgMCAgcDDAQEAAMEEAwCBAYDBAEEAwQGAwUEAQQEAQkBAgMBAgEKAgQDCQEEAAIEBQkDAwUFBQoCAgAFBwQDAwIDAgUOAwECBAMBAwQBAgAFBQQFAQUABgEBBgUBAgIBAAIFCggGAQIGAwEDBgMBBgUAAAUBAgYBAAQEBwYKCQEABgcDBAADBQQBAAMEAQEBAwIBAwIFAgUEAgEGCQUBBQMBBwYDAAMDCQQFAAUDBQMNAgMEBgcBAgUDBgABAwQBBAUKAwUFAwUKAQMDAQMECwoGAQgBBQYCAgUIAgQCAQECAwIDBwEDAgIDBAcEBAcLAggDAAMCAwYFAAEAAAcDBAABBAYBAgMCAAMAAgIAAgYBBAQCAgIDBAYDAg4FAAIDBwMIAgUHAwoLAAMDBgUDAQIFBAMEBQIBAQUCBAAGCQgHCAAEBwYDAQEECQgGBgMGAQQABgQAAwIEBwIDBggGAgUEAgQHBwgGBQcCBwgCBAMAAwQIAgQEAgQCAwMHBAACAwEHCQECDAoDCwUBAAQIBQQBAgEJBAEFCQMMBAUGCQACBwQECgUCAgMFCAYDBwIABQkFAgIBAQYEAgYABQcEAQQEAgEGAwQEBgYDBQUIBwEHBQEHBgIEBAAIBQYJAwABAgQEAgAFBQgGBAQDBwQCAwQCBgUAAQAFCgICAQICAgMBBwMCBQACCAABCQQDBgADBQQIAgsFAgYOAwQABAADAQIBBAQHAgICBAQDAwUJAwoBAgMDAAMDBgQLAggAAwMJAQQJBAEAAQYGBAEIAAECBQIDAgsLAgoFAAMDAgAIBgcEBgQEAAABCAIFCQUCAgMEAgkGAwQBAQMMAgACEQMDAwMEBgIFAQMDCAAABQgAAgUHBQUDAgcCAAIEAwUFBgYDAQEHAQUHAgACAhAHAAEDBQIBBgUGBwQDAgYDAwcDAAQEBAMIAgcGBAYDAAMBAwQCAgMCBAIDAwQHAgMFAgcCBQYEBwYDAAQAAgEDBgMBBwMEBQgFAAQDBgEFBQcJBQMFAQ8EBwkGBAIEAQADEAMGBgQJAAkHAwEFAAQDBQgFCQMBBAAEBwUCBwcBAwYDAQYCAwECBAIEAgQFAgYIAAIBAwgHAgQDBQQEBAAFBAQFBAMHAgEECAQDBAYCAwQHAwEBBQkHAwsCBwoGAwUAAQMBAgIDAQsDBwIBAwMDBAYDAgEEBgYGBAEBAAUCAgEHBQQDBwIEAQoCAwEDAQUEAAEGAwMCAwUEAQAMBwcEBAQIBQQFAgQBAAMECAAGBAMDBAIEAQEFAwEDBAQCBQMAAwMDAAYFBAgCAQAGBAIBBQQGAg0GCwMJCwQGAwQDBgcEAAIABAAECQYEBAQGBQYDAQICAwEBAQIBAwQDBQEHAQkIBAEDBwIEAwMFCQUEAwABAQUABwcBAgMEAAcFAgMACQQBAgUCAAABAQQHAwAFAQoEAgYBBwMHCAECAwYMAwMFAgAGBAIFBQEDAQMEAQwCAwAEBAkGAQYEDwIBAgMFBgsIBAkCAgECBQcGAwUHBAgDEQUBAgMDAwQDBQQEBAgGAgUAAAoFAQcEAwUECQcCAwkFBgEDCAEBBAUKAgIFDAIEBwIDAAYDBAADAgYBBwUBAQMDCAIDBgMEAQIHBAIDAgMDAggCBAQBBAICBAcHAAEGAQAHAQMGBQwJAwgDCgUBBAQDAgMMAwkIAgoFAwYIBQQHCgsBCAwJAAMLAQECAwUIBQECAgMAAAYDAgYEAggHAgUBAQoICgcFCAECAAoEBQAKBgQCBAoDAQMCAAgCAQIGBgMFAgIDAgQGCAgFAQMGAQIFAAUNAgMEBQMBAwcCCgoEBQUFBwMAAgECAgIKBwkDBwYCAAABBAEDChAHDwUIAAMDBAUFBAIKBwECBwAGAQIHBgUCAQgEBwoDBAUICQkCCwMCAQkDBAQHAQYGBAIKAgcCBAAGAQUGAgADAgMGCAMFAgQADAQIBAECBgUKCAgGAwQEBQMJCAMCAw4EEAIFAgMCAgUEBAsGAQABBAcEBAsEAQQBAAUCBQYCCAUCBAEIBgAGCAQNBQQDBwgDAgwEAAsCBAYJBAAHBQYIAwQKAwIABAYEBAMDCgQFCAgFAgAHAQMEAwILAwgHAwIBAQMHAAkJBQYHBQQDAQMBAwQFAQ0EBwUBBQ4EBQIBAwgCBQIDAQULAwIECAAGBgMEBgEAAwAFBAQDAwUGAwUFBAIGCAECAwEEAQEDAwMGAQMCBwQHAwMBAgIDBgMCAgQCBgMCBQICCgQEDQQEBwIBAgQACQYDCwMEBgYBAgEBBQYBBAICAgECAQYPAAEABgMCAQEHAQIDBgAGAAIEAQMDAQcFAwEFBwUDAAUIBwAEAgYDBAUACAUCBggFAwEBAQkECQMJAwIBBAcACAUADgQBBQUBBwMFBQADAAICAAYEAwYEAgICBgUBDAgIAwMAAgMLAwcBAAMCBwQIBQMIBgEDBQQIAgIKAQQFBwgHBQAFAgECBAQEBgIDCAQEAwQBAgUDAgYDAgABBQoIAwEBAwEDAwEHBAEEAAcBAQMEBgUFBQMDCAMBBQIJCgQDAgIEBQMIAAYBCQUDAQABCAYGAwEHAwIAAwgGAgAGCAIDAggCCQQHCQYLCwIBBQEBBQAECAIFBgIEBwMBBgMFBAEBBQQBAAEHAgIGBwMBAwYBAwQMBAYEBQcDAwMHBgEMBgcCBgYBAQIGBQECAwQCBAECAgUCAwMCBwQEBQYBAgUCBwQGAwQGAwcBAwUEAgYDBgYICAIBAgIIBAACBQMEBgEGBAkDCQQACAIBAQYEBgcDBwcDCQQDAgMGBAYCAwEMAwUBAQcEBgYGAAEEBgMGBAgFBAIDAgUBAQkGAQMEAwkHCAUBAgMBAQICBAUHAQgFBAgDAgIFAwAFAgcDAQUGBAIGAwICCAECBgcDCQMCAQcEBAUCBQcJAwQAEQQLBAIIDgcIAgQJBwYKAgIABgcECgkGBAMEAAEFAgUIAwQBBQUFAAUFAwMCAgMIBQIDBQYFAQQEAAIDAAYECQEHBgcICwAJBgQECAUJAQIDBQUEBAkHAwQNCQYAAgkHAwcEAQQCAQICBwEBBgILBAMEBQQFCQIFAAEBBQcHAgQEAwkEAQMAAgYGAwcGBQMCBAoBAgIBBQIBAgIGAwEEAwQEAwEJAwACAgEAAQUDBAICAwYKAgcKAwQBCgcEAwkHAAQIAwYJBgUEAwQABgUBAgMEAgMECAQEBQQCBQICAQECBAAEBgEHAgYGBQQIBQQEBwIJAwABAQQFBAYGAgQEAAMBCgAEBQIHAAIIBAIJDQIBAwQCAwIFAAQCAgMICBADBAAFBAYEBAMFBAYEBQAEFAYMBAEBCwECCAYDCwQGBQQEAAIGAQYGBAgFAwICBgICCwwABwECBAYBBAMGBAcCBwkFAAUEAgADBAQGBAYEAwoFAwAAAgQFCQwAAAIFAwQDBQIEAQMEBQQFBQQLAQQEAgQEBgEBBgADAgIDAQIECwoFAgIFAgMEAQYDCAQIBAEHBQkFAAECAwMBAwICBwALAQQAAwYBAwUCBgUBAgEDBwEBAggCBAsDAgEEAgYGCAQOAQQDAgICBAMABQkDBQQKAgAHAQIIAgEEBwAGBAUEBAIHAwIDCgUBBQkBDgEEAwMCBQkBAQQJBQQFBwcEAQcDBAEEAgUEBwYABwEDAgICBAIEBAEDBAYHAQUDBwYFAQADBgUGAQUDAQMHBgEJBQMFAwIDAQQHAwICAgQGBAQCDAIDBggCAwUBCgABAwMAAwQEAgMEBQcIAggCBgADBAUFAAYAAwgFAAEDAgABAwMFAwUFBAUGAwQJAAQGAwEGCAcGBAMDAwoECwQEAwQACgwGAQQJDAEDAwIDAgQIBAkFCwILBg0DAwICAgEKBQMECQsGBQcBBAMLAQEHAAUKCAoEBAQCBgEICQcEBAADBAEFBAUGAgYCAgQFBAoCCQ0BBQkDBwEACAIDAwMDBgkBAgsAAwIDAwYFBQIECAIFAwAAAQYFAQMEAwQLAQACAwQDAQIDAAgIAAQBBgQEDgIDBwIDBAQCBgUEBgABAQEKBwMCBwQGAgEDBwEABQAGAwUEAwAADAgGBQMABQAJAgYBBgQDAgAEAggFAQUDBwEHAAYFCgQFAQMABwIFAgEDAgQABQICAgMJBAkGAwMEAgIEBgECCQYEAQYCCgIAAAIKBgQBBwMCAwUFAgQCBAUFBwMECAEHBQcEBAkDAgQEAwEDAgQABAUDAQMGAAIEBQIBAQQCDAECBwUFAgIBCAUACwMHAgYBAgEABgAFAQYIAgoCBAYEBQIEAwEFAwIJAwQDAgUCAAYCAgUKBAIPAwAGAwQECAgCBQQEAwUCCAYBBQMDBQMFAggDBgAEAgkFBgMEAwUCDAYBAQcFAwUECQgCAwcHAgECCwQEAgQDBQMDAwgKAwIFAwIDAgQEAAUFCgYDBgQHBAcECQMEAAEBAwIKAwYBAwIBAgAEBgIABgIFBQIEAQIDAwMCAgQBAAQGAAIAAwQGAQABCgkFAgYAAQgGAwABCwIEBQQGBAQBAwEDAAQAAgADAgUBAQECBAYCAQYHAAEBAgEIAwIDAwYBAwEGAAAEBgIACA0FAwMAAwwCCgMEAQUBAggEBAUDAgkGBgQBAQIHAQQDAwIBAwIBAQAGAAQGAAYEBgEFAgcFAwgBAgQIBAEDCggIAgMDBQAGAQAHAAIGBAACAgIFBgMGBgQECQgECAAGAQEDBwwBAAQDBgYDAwYEAQUEAwUDAwQKBwIABwUDAgIDAAMFBQYBAQcCAgwIBAMAAwoNBQEDAAIAAQIDBgECAwUFAQIAAQQCBQAGAQYABAcNBAEECwYCBwIIAQUDBQcIAAUEAwEFAQYCCgcEAAQBAgQCAAENAAMKAQMEAgAHBAIECQQCCAgHAgcDBQYABQMCAQEBBAIBDAUFBAQGAwIDBAsBAwMDAgcEAAoGBQAEBAUEBgIIBAQFBgkACAMDBgQFBgIBAgcEBAcCBgEGBAACBAECAwAFAAIABQUAAQUBBQAICQUCBwkDAQEAAwABBwUCCQQDBwECAAQCBwMGBQEIBQoCBgIDBAQNAw8JDAIIBQEFBQYJAAICAgQAAgIFAgEJAQMJAQAHAgYBBQcAAwoGBAYBCAEEAgADAgEBAQcDBAkFAAUEAQcEAwYFBAUFBAUFAwQDBgQEBgQFBAIAAAcFAgEFBQEDAQQFBgUCAQEEBQgFCQADAQAAAgcDBQQCBQUBBwoCAwQDAgAGBgEBAQYECQMDAQUCAwgFAAUEBAUHBgUHBAYBAwIBAg0BCQUGAQMCBQkFBQIABQUEAgIDAggCCAMBBwIBCQIABwgFAAIBAwIBBAEAAgsQAQcEBwYEAgMEBgIKAwUDAwEDBwUFAgIFAwACAAIFAQYIBQYCAgEAAQAEBgQEAAAABgYDBAUFAAUBCAUBBQUBBQUMBAIGAQYHBwAEBAUKAwYFBQcDBgMCAgUAAwoFAgAHBAQCBwIKBgUCAgYAAQgEAgECAwQEBwAEAgQAAwMFBAUEAQMGAQYCAwMFBgMBAAICCgMEAQQDAQoCAQUBAQUDCAwGAgQFAwUGBQADAQUDDgIBAgUIAwIEAAQAAgYCBAkCDAwHAwEFAgICAwUIBgMCBwUGAQQBDgYCAwICAgYABQUCAQMEAgUFBAcDBAYAAgcFAQYEAQECBAEDBAsDAgADAxADAwMGAAMBAwQEAwMFAwMDAgAMAg0AAgMBAQIFAgEDAQMCAwoGBgcMBQIEAgUCAgUAAgQDAgMEBAUHBAIBCwkFAAMFBAkIBAEGBwcCBwUGBwMGCgwDAwMHBQQEAgQCBwYHAwUDCgkDBgEMBAUIBwMAAAUAAgIEAgUBAwQOAQMIBwMHBAMABAcBAAECAgQHCAMAAQQJAQcGCAQGBQ4EBgYBAgEDBQEEAwYBAwAFBgUBCQAFAQMHBQMCBAgHAQgDAwgJCwAGBQICAQIDBgIOCgEFBAQACQUIAQICBQoHBgMCCQIGAAMDAwICBQMLBAIEBwUCAAQDAwADAQYBBQUCBgMJAQEDAgUCBQkKAAcIBAYDBgkCBgEAAQIGBgAEAwQDBAIDAgcDBwcEAg0CAgYDAgUKAggFBwcEBAAEBgAEBAELBAMBBwUGBAEHAwQFBAYFCAMBAwYOAgMECAMDBgEICAEDAgYCBgMKAwQDAQYDAwIEAwQHBAUBAQIFAgQCBgIKBgADAw4CAgMEBAIGBgIEAAIFBAICBQMFAgMGAAYDBAQMAwEEAAQMAggEBwEFBwICCAIGBQEBAwQCBwwBAgQDAgEEAwQCAQgNDAoDAgcACgEDBwsHBQACBg0FAwADAQMFAAQIAAUCAAIHAQQDAgUBAgIDBQgAAgEDAgUGCQUBBwUEAwMDAwEEAQsFBAEDBAYIAwMFCAcDAgsCBAcCBAYECAECBwkBBQEIAQEABAwJAAQABQ0LBQQCAQ4GAwUAAwQGBwUGBAIEAwcHBgEHCQIHAgMDAQYBBAQHAQMBBAEHBQgEAgIGCgQDCAQHBAQHAgIDBQQBAwADCAECAwQICAYCAQYECwMCAQQNDQYCCAEECAEFBgsEAwEBAwYCBAQFBgQFAAQGAgIMBQMDBgMCBgEICAEDBgAEBAMIBQIFAgwCBQUDAwICCAUFAQIDAAUECAwEAQQEBQIJBwIGBAIDAQUFBgMCCgADAgMAAwACCAcIBggIBQADBgQEAwUIBAQFAgIGAQEBAAIEAgEEAgIJAAUEBQMDAgMEAAEHBAECAAMBAwABAwIGCQMBCQYHAQAGAwQCAwACAQMHAwUBAwQBBgABAwECAgQHAAgCAQQHAwEAAgICAAYGCwIFAgIABAIGBgYABQcHBQQHAgQIAQYCBgUFEggABAQCAQMEBgIFAgYBAQMJAgUIAAIEAQUGAgIABQIEAQMFAQcBBQYLCQMEEwYBBAUNBgEIBAgEAQYEAAACCQIDAwMEAgMDCQIDAwEFBQIHAggIBgEJAAcEBQQDBQAIBBIEAwUCAwIDAwIIAwEDAAMCBwoBBAYCBQ4GCAIGAQQGAgYEBAUAAAADCAIGBAkJCAIGBggECQgFAwEDBwEFAQcEBwYIBAICBQECAwABBgUCAgIBBAAEAQEFCAYCAQQFBAADAQAGBAQEBwACBQoEBQIJAgUHBA0EBQYEAQUDBAIMCAYFBAYBBQYAAAMBAwIEAgELCAQCCAcLAwMCAQcGBwQGDxYIAgkGBAcDBgUEAwYDBAQBCAcJBgsBCgQKAgAFCgEHBAgCAgIHCAIFCgkBAgABAAIBCQYHAgUEBwIFCQMEBwUEBgEBAQMJBAYBBwQCBAYCBgsEAAMDAwQJAwEDAAQCBQIDAgUEBgAMBgQEAgARAwIECAQBAgACAQEBAgYBBwIABQcFAAEDAgQEBAUGAQMABQkCAwUEBAQFBQUHCAIGAwkGBgEICAcFCQkCCAIBAQICBgUEDgIGCQgDBwUFBAIEAwkIBQMJBAECAAQBBAoFBgEDAQUBAAUGBAIBDAEEAgYCAwUCAgADAwUHAQgEBAcEBAcEBwIBAwIDAwEACQUDAwYABgIJAQQBBAMEBAUEAQAAAgIBAwMCBgEIBAQCBwEDAQQBBwIBBQECAgYBBQIIBgoCCgkJAgYIAwQDBgIGBAgDAwUDAwEDAAgLBgYEBQAEAAYGBgAGDAYHAgcEAggACAYJAgEEAwMCAQQCBQEBBAMEAgQABQUDBQEFBgMAAQIBBhACAgMCCQQDBQMIAAcDAgIKAwEEBQQCAggAAQMBAgQCBAUICAQEBgIHBAYLBQMFAwEABQgFAAUGBQUBAQILBQIBAwEDBQABAwEGBAMFBAUJBQUHAQQBDwQEAAMDAAAEAwEGBwoDAwEBAwQDBwAMAQQAAAwBDQQHAwYGAwMECwQFAgMJAwUJBAEBAgQFAgEBAQMDBAMAAAIFBAYFAQQCBAIDBgANAQYCBQcBCQQKAwoEAwQIAwIBCAoBAQMEBQcCBQgDDAUBBAYCAgYCAgMCAwYABQEGAAQBAQEFAwgDAAAHBggFBQADBAIEAwUEAAEJBQEHAQADAQQBDAMCAQEEAgMJEQgFAgYGAQEIAQQDBwIEAQsGAwgJBAMBCAAEAwQGBwIHCAAFBAwDBgECBgYJAAIKAQIIAgMKBQUFBQUCBAQDAwADBgUCBgQFBQEDAgYBBwEFAgEFBAcAAwYCBwgFCAsFAQYEBQQECAYHAgoCCwQCAAEBBAMFBAQFBQoKBwYIBQMBAgEBAwMGAgIFBQMLAgQIAAgGAhEIBwIIAAYCBwQHBQEGAgAAAwUFBQYBAwkJAQMFBgMDBQUDBAkLAgMEBgEEBAQCAwEFAAcKBAMDBwQHCAwDAQYJAgcECwcICQgEAgECAwkCAgQBAQQIBQIKAQECBgIGBAYCAQICDQoEAQIBBQYGAggAAQMCAAYCAwEFAwcGBgMEBAgGAgQCAwwIBwIHBQUEAwQICAUMBgUEBgUBBwADBQkJAgEFAQICAgkHAgYBAggCBwIAAQcBBAUKDwQAAwIFBwUAAwECBgEHAQYABQgABQkCAQUHBQYDAgACBwYCAQcGAgEDBgECAAoABQIIBgUBBAYDBgkDCAYBBAcEBwIEAgUHAAYCAwEFAwMAAgIBBgUBBQIBAgQJAwEFBwYFAwMDAgYFBAECDAEEAAUCAwEBAQMABQYFAgIAAwMCAA4IAwEHAQMFBAEBAgQCAAMDBQEBBggDAgQFDgECBgYJBwkBAgACBQIBBAEEBAcHBgAEAQYFAgIAAwkGBgQCAwIEAQwGCQIEAQUHAgIAAQUCBgEABgMEBAcGAgUJBwkOBwMECwcBAQMDAAYBAQQGCAYEAQYGBQIDCgMEBAMDAAUGAwICAgYBAgEKAQ0GCAgIAgMGAw0BBAIGAwYEBgwBBAkAAgEBAAMDBgoIBAUEAQEKBgMECQQJAwMFAQEEAQIFAgYCAwMAAwMDAA8GAAQFCAUDCAIICQALAgIFAwUDAgMKBQYDBQIJBAMEBxUGAwoHBAQGCQwBBQYABAcGAAMCAwYLBQgEAQQFAwcFBgICBwIGDAEGAwcFAwEBAQIIAQEEAgACBAMCBwACCAcKAwMHAgQACAUDBQEABQADAwMHCQkIAwILAAQHBAcDBQMAAgUJAgECBgcCBQEGAwcFBAYEBgQJBAMEAQIGCAgDBQUDBgIFDA8BAQUCBAIIDgIDAgEIBAUKAgQKAAUDAAIFBgMFBgYDBwMABwYGBQcGBwICAgMLAQgBBwgGAQMIAw4CCQULBAQGAQEAAAACAgMGCAIABQELCQMGAQECAgkDBwQBBAECAwEFAgoCAAUEBwICBgYEAQQACgIFBgMBBAMEBQUDAwMHAgIACgUDBQIECgQFBgMFAwMFCAIEAgABAgUHAQQFAAUCAgcIAgUHBgIECQQEBAIGAgMEAAQGBAYFAggAAwYCBgACBAIGAgUCAAMCAgEKAQQAAwYGAggABgUEAgYEBgwDCgICBwEBAwgCAQsCAQQDAQUDBwEABAoEAAIEAAYIAgAFAgICCQEEAwQACgIFBwQJCAwHBgMDBgIHAwQIBggFAwIAAAIFAAIBAgMFBAgKAAAFAwICAwQGAgYICgEFBgIFCQQHCQUHCAMJBAIGAwIGAQQDAwcIBQAEAwQBCAQFAQEAAQAAAQYEAgMDCAMCBwEFAwAIBAQDBwwBBQ0IAQ0GCQcCAQYBAwYDCAQCBAgHAgYEAwYAAgMIBQICAQACAgcEAgIDAgcBAA0CBgQFAwcIAQICBQIECAUCCAkHBQIBAAIDCgUCBwQJAQMBAQEHAwoEAQMLBQEEBAcEAw8EAwQLBQQDAQcIAwQAAwUGAgMGAgcHBAQIAgMIAwQDBAYHBAIHBAEBAQMBBgMDBAIGBgcEBQcHAwYBCAQDAwMCBAAAAwUBAwcDAQEFAA4FAgIABQECAQYFBwMFBAcCAwYCAQYABQUFAwoEAwABAQQAAgECAgIHAAABAgMIAwAEBAQFAgIDAgcDAAIPAwQDBwIDBQwFCAQEAwQEAwwCAwEFBA4OBRAGCQkEAQUDCAkFBwMICAUHBQYKBAMABQACBAIDBgwKCAMFAAABAQEEAwUEDgYDBQUJBQEFDQIGAgYEBAIDBAgBBgEEBQIGCwICAQEFAAYCCQQCDgUEBAIFAAcFAwgIBgYEAwQFAQICCQcOBAgGCgADCQEBAQMHAwEDBQYFAwgEAwIDBAkBCAcGFQIGDQIMDQECAQAABAEIBAQBCAgEAgMGAwEBAg8DFAMDDQUCBggBAwUHBQUEAwMBBQsCBgADAgIGAQQFBAMCBAgBCgEMBAcIBAEEBQIGAQkABAMGBgMFBwcHBwIABQMCAwQJAAYDAwIEAQACBQcEAAIFBgMDBQYHAgIEAQUHBAAICQYQAQcEAwgIBgICAwcBBAQFAgEEBAIBBQIAAw4BBAIDAQMCBwEBBQICBQMEAwIFAgMCBgMCAgUFAQQICwUCBAMHCwIECAMCCgQFAAUEBxEEBAQGAQYDAQUKBAQBCAQHAgAEAgQDAwAFAQICBQEHAQEBAgUEBQIDAwAGBQAFAwIEAwIDBAQHBgQFBAMBCAEDBAABAgEFBQQEBQYEAgIAAwAAAwQCBAEJCwsCAggCBAMFBwEFBAcHAAACBQIGAwgFAAUFBQsDAgQJDAIGAwgEBAUDAQcBAgEFBwcHBAIHBQQFBwQEAQ4EBQICAgUBAwEHBwcAAgEBAQYDAAgBDAQHAwIGBwIEAgYACgUAAAYGBQIIBAUEAggAAggBAQIBAAcFBwQEBwICCgEDBQMECAkEBQULAgUBBAcFCgQDAAECAQQBCwMDAwEAAgcCBAMIAQUJCAIBBQIDBQEFBgYBBQEKAQEHBwMDCAoFBQMDAAcFBg0DAgoDBQgBCQQEBAMFBQIHAgUEAAQEAwkBBwEHBQQGCgcBBQIGAgMECQYNBQMEAAABCAYBBAMHBAABCgYEBQMFBgUOBwQBAAgDBAMCDgQIAAAJAAYGAQQECAABBQQCAAEACwMEBQUGAgcABwcGCQAFBQEGAwICAQUCAwIIAgMACAQHBAAABQIBAQECAgMGAgQFBAMBAAMDAwAHCAgFAg0BBQEDAgMCCwMJBwAFCQMJCAMDBgIBAwkHBgMKBAABBAILAwEAAwoEBAQCCgIFBQMDAgMAAwIBAwQAAwAFCAUFAgEDCwUDAwIFAgMCBQIDBAYDBAMEBwQLAgECAgUEBAQEAwIEBwMDAgMDAgMBAQACAQMJAAAIAAUCAgAFBgIBBwIDAgIFBwAJAAIFBwQHAwUDAwQBBAsEAwUGBgMEAgUGAgQICgUEAwQCBgMBCgoDAwIEAwgFBggCAgcFAwcICwgDAAYGBQIHAgoDAwMBCQsDBAQCAgIGBgIFAwUGBQEAAgQAAQIGAAQBBgMDBAUDAgMDBQUCBgECBgIDCAMDCgsJAgQECwMKAggGAwcEAAUDBAIFBwQFCAQAAgABBgAHCQYCAgYNBgcGAwUEAQMBAAMBDwgEBggCAgkHCQIEBAIFAwkBCAgGBAMGAAMAAwgMBQECAwAGAgIFBAkFAAUEAQEDAQcHAQYBCQgKBQgFAAAFBAQEBA4FAwAFAgMDAwMABAQHBAQEBgUCAQcEAwUDAQsFCQICAwoHBQUIBQMIAAIEAwIBCgkAAAIGAwYEAwEDAAEHBwIABAMDBAQDAwMBAQwKAgQGBQMIBAEBAwECAwYDBAYEAgUFAwwBCAMEBAECBAAACQcCAwIEAwYDBAQEBQMGBAIABAMACgUJAwUEBgcICAMDBAEABQQAAgEJAwUGAwQEAgMKBwMFBAMLAgAAAAIFAgkCCAIDBwQEAAMABwIMBAUBAgMCAAIFAAUECAcBBQQDBgIECwUBAwUAAgEGAAEDCQMGBgIBAQMCBAIHBQIGBAUFBAQABQQAAwQDAQIBBAUCCAEFBwMDAwQCAwADAQQDAQIFCgEFBwQFCwUDBQQCCQMEAwkCAgECBQIHAwUCAwMGCwYCAwQEBwgIBAABBgEDCAEHBwUGBAMIBAQGBAQEDAADAAoBBgQDCAIDAQoHBQIBBQEBAgUIAQIHCwUCAgIIBgUDAwgFAwIDCg8FCgQDAQcIBA8CAgQEAwIEAAYLAwQDBQACAgIGAgMCBAIICAICAgAGAgQEBQECBwAHCQoEBwcCBQUHBgcCDAQEAwsCAgEGBQwFBAIHAAIFBAUEBAQEBgAIBAICAAMJAAAEAwwFBg4IAQoCCAoIBgcCBAcGBQEKCQYDBgwBCgECDAIHBgINBAcDAgEFCwEFBAsHAwMFBwcDAgoBBAQFAgoCAwgDAggGCgMGAgUHAAgGBwcLBAcNBQ0DAggHBQMJCAMBDAADAQMLBgYDCgICBgAABgoGAgQHAwUCCAUCCAUHBgUFAwkJAgYCBAoEAwEDCAQJDwwGDAEFDwkCBQUCBQoEBQQLCgkAAgkFBgYDBAQEBQoFBAEPBAgDAwECAwECBAQHCgUHAwQCBQECAAIEDQ0IAAEBBgEHCQgFCwYJAwoECggDAgEEAgIDAgUCAwIAAQcCAwEFBQQHBAEQAAMEBgkDAgcFBQMGAQECCQMCAAIHAwUCAAcCBAMFCQEBBwEBAgIEBQQIBAYECAAAAQUGAA8EAgMGCQgFBAMFBwUFBA8FCAgFBwMBAAUIBAwEBQUNAQMEAgIFBQEAAwIDAAABBAMBAwQFBQQEAgcAAQMCBAQGCQQCAgkFBAcCAgEBAgoHCQMHAQgHBAEKAgEJBwIGBQsACQcFAgMGAwIEAwQFCgIHAgcCAgQEAwcCAQQEFQUCDQcFCQICBwEICQgHAQIDBg0FAgIFAwUIBgQGAQEBBAMBBAIHAwYAAQICCAYCAwUJBAMICgQKAgEBBQMBAAECAAYEAgQFAgoKAQIICAcACAULAwYDAgMEAQIDAwcJAwIGBwcKDAIEAwACAwQDAAcEBQoFBwIBAwEMBQILAgcBBAMDCAYDBQQDAAMDBAUDBgUGAwQCCgQFAwQCBwoGBwADCAQGBAQHBgICAAcCBgEEAgEJAgQIBAcEAwEEAwMGCQUDCQQDAgoFDQgEAgEJBAoBBAALBAIHCQgCAgEGAwMMCwsHAgIKAgIDAgEBDgIDAwUJAwMBBAIHBAEAAgYGBggDAQMCAgAEBAUBBAEDAAICAwIFBAEFAgUJAwIHAgABAgIEBwMFAAUAAgAGAgMEBQICCAEJBwUEBgMABAYABQMDAAgFCQICAQMECwQCAgMBAgUDAwMEAgIJBQIFAgMIBQANBgQCAwMIBgECAwIGCQcIBwkDAAMEBwgJCAYCBAcEBAQDDAUFAgcGBwUEBgMEBwwFAgUBAwQEBgUJCQIDCwQDBAMCCAEAAQMKBgcBBAABBQQLBQkHAQkFAAUCCQMCAgMCBgQGAgINDAYGAwQJBAYDBgkDBAUDBAsDBwcGCAUMCwwDAgYEBQQGBQMEBAICAQEABAUFBQMDAQIFAQYFAwMHAgoCAQAJBQIIAwENCAIDBAgKAAQFBQEFAwgCAgcLBgMLAwIGAQYFAgICAgEDAwYCAQMECAMFBgYICAAHBQQFBAMDAAcIBgMHAQsJAwQICAEFBwICBQ4NDQsGBgoEBQICCQUICgIFCQUHBgkHAgYEBQEIDwQCBgEEBgIBAQYICAMCBwgABQIKDAILBgQEBQUBBAsNAQkIAggDAQYCBQIEAQMJAAUFBAIJBhADBQgDCgMFBgIDAQMIBAkDCBALAAEFBw0CCwwDAAcHBgUFBQUFAgYDBAMBBQMBCQYOAgQHBQkIAQYABQIDEAgFCQQHBgMHBwYFCAgECAAECQgBAgIDCAMAAwwJBgQHAgACBwYFAgYCCAEIDQEEBAYECgIDAgIFBgELBwkDAgMDCgUDAwQGBgYDAQUBBgUBBgQACAMMAQcFAwUHBAMFAwQNBAQEBAYJBgkEBQUGBgIACAMGBQICAwcFAQIBCQQCBwQFAwEFBgkFBAMMBgQBBwQHBAUBBgEHBAMDAQICAAUCAgUEBAcKBAIDCAcEAgMKBwMICwUHAQUFAwIBAQMBBwIDBQcEAAYCAwQCBQQDBwEBCggFAgICAwMIBwMIBQAJBgAHBAgABQgFAAAAAQMGBQEFBAUFAwEBAQYEBQEGBQQCBwIBBAgEAQoEAAYECQMHAQkEAwQCBQsDDQMCBwcFAAsIAQIHAgMDBgMECAMHDQEDBwADBgMKBQUCAwIBAwkDAQQGAAENAAMDAgEBBgYBBwkFBwQDBAIDCQYBBwIDAAQAAgEFBwQLBAcLBwYJBwcCAgIBCQMIAgQEAAgEBAQAAwgCAgQCCQEECQUBAgMFAQEIBAYGBggHBwIGAQMHBAcCAwcEBwIHCwMDBgMFCQsACQMFAw0CAgIAAwkCAAMDAQQICAMGAAcDBAcCAQIEBgQPBQIDAwcEAgcHAwEEBgUHAAMBBwIKBgMFBgMDAQcECQcABQEEAwcDAQ8NCAcEAQIFBgYEBAsEAgMFBQYHBwMBAAUGAwgBAgQDDQMHBgYHBgkIBQMEAgYBBQwCBAoGBwUEBgMHCwECAwcBBQYIBQYFCQcFAgMEDg0FBQIDBwUDBQMBAQEADAABAQUIBggGAgMGCgUBBwQBBgELAQUCBAUKAQAHAAMHBgMKBgQGAwYCCgsGAgIFAwUHAQoBBAgJBQYBAwIRBAECBQEIBQcEAwAHAQUDAwMIBQUDCBECBAADCgYDAQsFBQINBgEGAAUICAYJCwkJCQMAAQEBBwELAwgDCwQABwEDBwQIBwIGAwIGBwQHDAIDDAcDBQQMBgMGBAYMBwILAgQBBQkFCAgHDgQFBgIGAQQDAwkEBggIBgMFCwQCAQMDAgIEAwQIBwQEBAgHBwAFBAYDAAEBAwcBCQcJBAYDAAQBBQMEBQIFAAMGCgcGBQUJBQMFBAMCAQkDBAoHBQsDAgAGBAkLAwoDBQEIBAUFBQADBwoKCgMFAwEMBAADAQQEBAECAQIHAwQECQQOAwsLAgMEBgEABQEFAgcBAQEEAgIKCAkIBAIABAgDBwIGBQAEBAMBBAEJAQQACQgECQgECQQMBgYDAAcDBgIKAgEDBAUGAAEFAQIFAwYCBQYHBQcEBAYDBQQCAwMHBAUFAQIBAwIHAwQJAgIHAAMDBAIEAQQFCggDAA0FAwUJAwMCAwQECQYFAwUHAQUGBQIDBAcHAAYDAgEJAwcAAAULBAYLBQACBAUGCgcCAAIHBQYDAgQGAwMAAwIHAAEBBAIGAgMFAgMGBAADBwcHAwAFBAEDAwIGBwECBwEHBQYFBAYCCAICAgEDBQUBBAIIBQIBBwQAAgIGEAMGAgUHAAUBBwUJBgUBAQECAwQEAgQICAgFAAwGBQUDAwMDBAAFBAIFBgoDAw0NAQQHCgUGAQIFCQEKAgIHAAgEAwcCBw0BAwQGAgACAQEBBQIDAQcKDwUCAgUCBQ8MBQMBBQUGBAYDBAgEBwYEBQcAAgUDAggGAgMEAgYABgQEAwgEAQMBBAAEBwQCAwQGBAMCCAIEBAMGAQQCAAAEAAcCAQcEAwcHAwUABAgCAwQCAgoHBQcIBQYKBgQBAQABAQAFBAMCAwkEChACAQMEBQYGBAMEAwYCAgMCBAIFBQIIAgcDBAMEAQIABwIDAQMDAwACAwQHBQMCBwMLAwYECAUKAgEABQYDCggEBAYFBQsKBQIGAgMEAAUEAwoIAQMCAwcMBAUGAgMCDwMHBgIDBgIDBQcDAwEFAgUEDAIDAAMBAgEKBQIGBAIDAwUIBQIGBQEEBgIJAQgDBQkEAAUBAgQEDAEEAAMEAQIHAwYDCgIEAwQGAQMFBgAIBQYEBwEEAAoEAw0BBQgBBgMHCQMBCQIOAwIEAAMICQkCAQgDDwcEAgEEEgkBAAQDAQEKAAIFBwoFAwEFAAgAAgMDBgkCAAkHBQ4EAQUJAwABAwEEBgQDAQYACAADBAYKAQIGCAMCAwUOCAUDBQENBQEKAgABBwMEAQUCBAECAwYJBgUAAwMEAwYBBQQCAQcFBQIBCAIGAQMEBQYCBQcBAQAIAQUEBAEBBAkAAgkDAgYFBwkBBgMFBAMDAwIPAwMBBAsEBQcBAAEGBgIHBAYHAgMGAQUBAwEHCgIMAgwDAQIABAcFBAsDAwEDBQECCAQFAQQGAgICAwADAQABBQYDBwUFCAQABQQGBQIBBQYEBAQCAQMCBgYFCAIDAgMFAQQEBwcGBQIEAQYCBAUGBwMBBAcJBAIBAgYHDgYDAwEHBAYFAhEFAQsECgUIDwIFAQAGBAICCwcABwYCBQYMCg0CBgMGAwUCBwMFBAQKAQQAAQMEBQgHBgAEBAgECwsFAwYEAgECCAYFAAICAQICAQMDAwIHAwYGAwIHAAIDAQIGBQYFCwQGCAMFBAUNBgEEAAgDAAYEBAIEAAIEAwIBAQMFAwcEAgYBAgEEAQYGAAEBBgUCBAMACwYBAwACBAMIAQIEAAIECgQOCAIECQEBAgUCBQECAgUCAwMCBAEBAgYFBwUEAwUDAwIABgMFBgcFBwEJAgcBCgkMAQIHBQQBAwUFBQYGAwoBBAADAwMDBAMJCggRAwwFBQUCAxAIAAgDAgIBAgQCAgMGAwEDAQICAAcBBwADCAEGCgMHAQIHAgMEBAgFBQYEAQQFAgIBAAUFCAEFBgwGBAEBCgMECAcEBAkFAgEGAQkCBgEGAgkABQIHCwMCAwIHBQEDAQUCBgEBAwMGAQkBDQIDAwkEBggDAQYEBwUABQUFDg0ABQUFAAAFBQcCBQcFAgIDAAUEBQQFCwAAAAMHBgUFAQcCAwQCAQMGAgEEAQIFAwMFBwgDAwMFBAMHAgEDAggCCAMHBQMGAAcDCAgBAwEEBQUDAQwEAwcFAgUCBAABAQYOBgUBAwEABQIFBwcGCA0HBgMCAwMEAAMJAwEIBQMHBAADAQQDBgYGAwMABAYIAgABAwIBBgYDBAIEAgkCAgAJBQEDBwABAwICAQcDBAIDAhAFCA4GCwUCAQUAAAcBAQYCAQkDAgIGAgEFAwMCAwEBAwIBBQUKBQQDAwQEAgMBBAAEBAYDAQcDBAQDAwQBAAUEAQgCAQIDAQIBBgMIBAMBBgAEBwMCAgIBAQEKBQcEAwcIBAkEAgcIBQQCBQMKAwQAAgEEAwQEBAQAAQcBCQENBQIFBwYEAwYKBgcFAgUDBAABBQQBBQACAQQEAAYEAAQEAAIGAwYCBAgEBwgIBQoABgICAQMFBAYFBgEBBwIDBAQFCQQCCwgBDAYJCQQFBQIBAgQECgIFBAICCAwBCAIBBgwFCAkCAgoBAgMCCAQDAwUFAwEDBAIEAAMFAQQGAwgGBAQCCAcEBgQFBwEIDAUBAAIDBQUABwUECgEDAgUEAgMFAwYABAUECwgEBgUBAgEHBAMFCQMHAAUABAAGBwQEAwcAAgUCDwkHCgQGBAEGAQcCBAgBAAMEAAAADRADBAABAAIFAwUIAQQCBQQACQUFAAIGAAUCAwMHAQcDAAgCAQEBBwMFAAIDCgcDAwQODQQEAwcEAgcDAQQCBgUFBwYKAgcNAwAHBgcCAwgFDQYGAwEEBwUCAgIFBQIKAgYIAAICBwIMBAkFBAQACAIBAgEACQcBCQEDAwYBAwMBBgQBBAIBAg4BBgIEBgMHAAMDBQIBBwYEBwYEAwUCAgoJAgEBAwAEBwMDAgIKBQIJAwsEAQYBBAgJBgMDAQUGBgYHAAoCBwgEBQAGDQIFBAkQBhADBAIBBwUDBwEEBwIGCAIBBwIBBAQFBgUBBQUMCQECCAMDAwgDAQEEAQYCDgAHAQEEBgEFAwIGCAMDBgMDBAgDBgQEBwgGBwEABgMDAQMHAQsDAg4HCAYDDgMICAIAAQcCAgIKAgQEBAwDBQgCDAIDDAMCCQcGBgMEAQcAAQIIBwQFAQ0BBQYJAwQHBgIAAQAFBAMFAgUCAwEFAQEIBAIKCAMEBAYFBAMDAgIFAgsDCgUGBQAPBwUFAggDCwEMBgUFAwMFBgQEAQYDAAcCAgIFCQECAQUDCAQDAQcACAABAgYHBQMFCggFAAUABAcBDQMEBAEDAgADBQcLBQAEAQYIAgABAgMCAgkDDAAHCQMHAQUBBwwMCgQHDggEAAEFAQsIBwgLAAQBAQoABQQCBgUIBQwEAwUBAg0HBgIEAwgBBgkCBgoBAQcGBgwDCQUIAgEAAwQDBAcDBAsCCAICBwMJAgIFBQMIBQYFAwoDBAYEAgYBAwUFCwAEBQUAAQUDBQQDAwIIBggIBAIJBAgGAwIEBgIBAgEFDAkDBQQFAQEEAAICAwMFCgEACgECDAEEBwQKAwMDBQEDBQEAAAcDAwMMAwIIAgMBAQQBBQgFBAMCBAUDBgYNDAYHBAQGBAMBAQkBAgUDBAQHBwYABgQDBQgDBAEEAQQAAQMGAAUNAgQHAgIBBAUCAQUBAAMBBQQKCwcAAwICAwUGBQACDAMCBwMFCQADBAwIDwICCAgCAQQCBAIKBAQGCAcDAwIHBAUBBAIGCAcEBQEDBQIBBAIBBgAFAQQGAwIFAwcEAQcIAgYFCAcCBwADAQEKAwQHBgIBAwIFCggEDQYABgcBBQECAgkABA8BBQYJBwQHCgMGBAEFBQIGBQoHBQEEBQQCBgcKBgkHBwEDBQQFBwYBBgYFAAEEBQYEAQcCBwMEAwgCBQECBQADBQQHBQkIAAAFBQYGAgQABgkBBwIGCA4KDAYGCgMDAggCBAMEBwICAwUEAwUBAwYIAwEEBQUCAwcEAwIHBAMCBQQEAwIFCQYFAQAGAwUBAwQMBQICAwQEBQUGAgIDAwkDAwAIAwcKAwQEBwUEBQACBwUECwoACwcNDQIGAgUCCgIFDgUBAQkRBggEBQYCBgcEBQUKAQUCBAcEBgkCAQIDBAQCAQcCBwMECQAMBwIGAgcCAw8ICQUDBQMFBQMGAAMDCAMCAQcFAQADCgEJAwQFBQIAAwQCBAMEBAYCAwYJCAIBBwMBCAIGAwAABQYGAgYNAgYFAwUEAwUBBgEABwkEAggBBwACAgQKBAUHAgMKCgsBCQgFBAMFCAcDAwECAwMFAwsFBA0DBAwAAgcHAwYDBQYBBAgDAwMGBgQEBAMBDgoIBQEBAQcFBwkFAgoIBwsGAwEIBAgEAwQDAgQBAQYJBQEFAwMIAwEHAwIDAAgFBgoEBAAFBAIKAgcFAQUFCgYDAwECAAAFAQEHBQICAggCBgMFBgcDBgIDAgcBAQcDBAUHDAAFDAMEAgAFBQIDCQICBQcCBQALCQEMAwMHAgEJAwgECgQGBAQAAwIABAMFBAIAAgMBAwQDBwIHAwcEAQcGCgcHBQgACgIDBQYGBgQBAwcFBQMKBQABBwUDCAoJBwYLCAEDAQUACQIHAgIDBQEAAgcCCQQEBgQGBgQICQcLAwEEAgEEAwQLAAENCwIHCQUGAQYCBgECBgECAwcCCwMEBwUFCgkBBQUIBAQBBQMDBgMFAAUKBw8GAwsHAgUFBQMQCgEJAgYGAwQDBgQDAAQGAAEDBQELAwwGAwIKAwoEAAcCBAMKAgQDBgIGAwYCAgQFBAMABQMHAgMEAgsHBggJBgUNAwMGBwMEAggHAwICAgINDQYDAgsEAQMOAAMCBAQFBAUFBAkFAQQCAwMCCAcKCwMFCQUAAwQDAggDAQoJCAAHBQIFBgUEAgMBBgMBAgYNBAEOAwMBAQELBQ0ACAUJAwUMBQMAAwQAAwQEBAQFBA0FBAgHAwECBgwCBAIIAwMDAQYCBQQFBwECAgUFBgAEAgoDCAgFBAYFBgABBQkCAAwFAgUIBgEGCggIAgMDAQIDAwcEAAIJAwEBBQIIAwMGBQMBDAIGAQsDAgICBAIGAAULBAcFAgIIBAYEBgUGAgMIDQQFBQcBBwADAAIEAwMKBwMCAwYJAQIDAwcBCgICDwgABgEDBQgIAwACBAMHAQIABAYFCwgDAAMMCgkHBAkFBAECBAoCBwYFAgUMBgIBBwQMAwsBBgkBBAcECBAHAgcECAgBAgUEBwEAAgIDAgIFAgMGCAAAAwMGCQEDAAMABQMFAQcBCAUEBQIHBAgABAACBgEABQQGAgUEAwMLEQcEBAQGAgYFAwIDDAsJBgMGAAQNBAUCBQcFAAEFCwMGBAcAAgEGAggECQMCBAkBBgcHDwcLAgEIAAMFAQMAAwUFBgYDAgAFBAIJAwYMCQMEBgIIBAoDAwoFCQMFBAkGBgMAAQYDBwIEAQIEAwYJCQELAwYNAwIKAQkFBQUEBAoCAgYDAwIGAQsHAwAEAgcBAwkHBgwFDgEFBAcCAggFBQIGBAgEAAMDAAkHCQMNBAQFBQAABAICAQMFBwMKBQEDAQcBDgQJAwcDBAILAAUCBQEEBQADBgUHAgYCAwkKCAQFCAQDBQEHCAYBAgQQAAgCBwQFAwEIAgcPAQcKBwQGDQkCAREDBgQRBgIOAQADAQgAAgEIEQ4IBAQCAQUFAwUKBwUCBQkBAwsBBgEBAgoCAAMEBAEAAAYMCgUHBgMBBgEIAgUAAgYDBQkDBggEAhAIAQQGCAMDBwUHAQUBBAQBBQMFAgoGBgULBQMHAgkAAgMFBAMECAQGBwYEBAUAAgMGAAEGAgQDAgMDAwQDBwQBBQIBAwgHAwYEBgEECAQHAwIHAQQFAwMHBAEEAQUGAwQBAgINCAsDBRECCgABAwMHAggEAwYFAQIBAwIHAgQIBwYJAQQHAgkAAQUIBwcBBAUFBAMHBA0OBAQFAwIBAwUFBQYMBAUHBAUDCAIEBAMFCAQNBgUCBAcDAgIBAgcHBQMFAwYCCAQDBQUCAwgDBgMHAgAHBAECBAIBBAYCAgUBBAMGCQUAAwEECwMICgsFBAUCBg0FCwEJAwQJAAIOAAcHAAEFCQcCAQEKBAYCBAIFBwIFBAAEBgYDBAADCAQJAwICAgEEBg0BAwsGAwcCAgcEAQQMAQIDAQMBAgYHAAEICAQEBQMIAQgDBAIKBQkBCAAFCAMBBwMEBQQMCAYJBQwFBQYAAgAPAQUFBAQLAAILCwQDAAMDBQEEDQIIBgsKAgkFAQIKBQcBAQQCAQUDBAcIAgkKBQQFAQENBAQMBgkCCgMFCwUJBQsFBAMLAgUDAwgDBgYEAQsEBgQFCgEDBwYBAgIEBgMDAAMCBQQEAgYMCAgMBAUDBwACCwMDCQUBCgMKAgAJBwAFDAgGCAgHAQoACAUEAAYFCgMLCAQFCQUCAgUKCgUHBAUDAQAGAgMDBgIDBQEFAwwECgIDDQkJEgUHDQICBQQBCgUFBQQIAgEDAwMDAwMRBAgDBAIEAwIHAwMHAgUCAQQJAwkFBggFBAIABhADAwAABAAIBAYPCQMDBgIGBAUCAgUFBwYEAQcBAwUNEwABAwQHBwUCBwUGBwEHAAQBCwUGAwkCAAIGBgIEAAMKAAYPCgcDBAQDAwgGAQUNAgECBAUGAAMHBQIHAQcIBQQGAgAFAgsGCgkDBAYFCQMBAgUFDQMEAgcFAgMAAwoFBAwEAgQGBQAGBAIKAgYBBAMGAAICAQYNAgUEAgAAAwcDBAwDCAIBAwQEAQQEAwMBAgQEBwgCCAQIAwUEAQUFAwYHBAICAAoCAQoBBwMHBAUFBAEDAgIAAgIKAwsBCAIJBAcKAgcDBgECBgcMBgEICwUHBAgDAgECAwQGAAMCBAoGBQkDBgUKBAECBgIDAwUDBAQWBAcHBAAHBwMCBAIHAQIGBAUIBAgDAQYHDAAJCAIGAgMAAgEKAQIBAQUHBQgIAQACBwMNBQkLDAIFAAkHBgoFAwIFAgEDBQAHCgcKAwIFAgYDBgQGAwkBBwYICgQHAQUIBAMFCgYHDAMDAAYBBgMHAgUIEAcRBwYHBwcFBgQDBgECDQEHBQQIBQwDBQgECwYEBwgQCgQMAhMKAgUHBgEICAcNBQAGAwEOBAADEAMHBQECBAMCAAkJAAMDAgMGBAIGBwIBBQQMCAYDBQgEAQIBAQUFCAcDBAEDBgULDgwMAwMEAQEDBQcEAAMDBwMBAQIAAgECAQUCBAUGAAYDAwEABwcBBgMECQEHBQMEBgIGAAYFAQcBBQQMAAMJBwEDDAgIBwcDAAcEAwYFAwIDCAMIBQsGAwcJAQQCAwAEAgMEEAcHBQUDEAQIBQECAAYCCQcDAwUGAwUOBggHAQAHAwYCAAAAAAYDBwAFBwINAgUFCwMEAwIEBAICDwEGCAEDAgcBAgQCDgADCgECCgICAAcIAQIDBAUFBgECAwUFBgUDDQEICgwEBQcGBAYEAQYHBwYGAgEHBAUJBQkBAAIKAAIBAgcFCQcGBQMKCAoMCAYGBAwABAIGCggDBAEFBAUFBgcDAQkDAwYFBgYGBgIDAwMHBgcIAwMIAwYGBgUIAwEGCAAFAwACBgQBAQIFBAABAQEEBQEGBQQHAwEDAgUFBAEDCQkKAQUGBQUGAQIGBAQCBQoFBAYHBAcDAQQLCQkIAwQHAQUAAQYLBwEHCwsFBgMEBgYDBAACBgkCBAcCAQgDAgUGBQgCAQgABwYGBQIBAwQEBAEHBgMLAwgDCAYECwkDBQkDAgIDAgIBCQMIBQICAQIDBAICAwEEBAACCgYHAwcEBggABAIBAwMCBgYBAgcEAwECDwMABQgKBAoDAQQDBAQABwAEBQYGBwkFAwIEAQMLAQYBAQQCBgQEAwgDBgcJBwUEAQYHBwEEAwMCAQQIBA4CBAIFBggCBgQLAgMDBQIEAwgDFAQGAQIDAgkEAAUEBAECBAMBCgYCCQUBBgkBBQUEAwQDBgMGBgQCBQYEBQAFAQgBBgULBAcJCwYBBAMKBQwKBgQDAQYJBwYLBQYRBAQBCgQIAgMQAwMDAg0BAgMMBwoKCAICBgIFBgEGAgEFBA4FCQIEAgIFBAMBAwIFBwUFBwcQCAsABAYFBAQJAwQEAwcFCQUDCAQHBAUBAQcEAQgEAggGAgYDCQMCBAUGAAIDCwUIAwgGAgcBAgQGAQAOCQQDAAcDBwYCBQYDBQcCAQQKBAAEAAUBCgcBBgIEAwUBCAQCBAQCBAQEBgQCAgEIBgsBBgcFBgUDBQYCBwUBBAIHAwIDAgQHAgcAAwUBBQQHCAgDBAMJBwEJAwsBAwMODAQBCwgDCwUKAwIBBwsHCwEEBQMEAgMBAwkCCAQMBQcCBAgJCBAOBQIFBwYCAwMIBQIBBgYDDAMNBgEGAQYEBQMEBAADAgYBBAUFBgQJBgYFAwcDAAECAggCCwAFBQIEBQUHBgQBDQoGAQYKAgQBBgEFCQcGCQUDEAUBAw0ICQQCBQsBBQULBgYGBAIBBAYABQUGAQIIAQIGAAQJCQMEAQEFAQQCAgEECAIGCAMDAwIFBAUJAAgDCAMJBAQCBQMEAwADCgoFBAUEBwUEAQYIBwUEAQQBCQMKBQYIAQEDAwIHBwcCBAAFBQcCAwcFBQMCAQIEAwUGCAQGAgYFCwYDAgUFCQIKBgEAAwMGBwMICAECCAIGAgkHAwkLCwoBBwIEAwYICQMEAQgBAwYEAwQFBAAEBhEEAwQEAgQEBgQGBAQFBwMDBQMKAwQEAgIGCQYEBQQBAwQHAwABAgICAgQEAQICAAUJCwMBAQIABQUDAwEEAQQBBgUGAgEBCAUBBgcEAAIDAwEHBgIFBQUKBggGBAAJCgQCBwEABAMFAwUDAAYDAgQEAAQCDAUECAgIBwIGBgIBAwIJAwcJAwMKBQIJCAoABQMEBgcEAgICAQQHBgQLAwAFBgYBAgIDBAgGAQEBBgUCAwAGDAQDAwwCAgQCAgEDAgEEBAYEBgoCBgECBQwJAQUCBAAFDAILBQYBBwcDBwUBBQQBCAcDAgQHBAIGBAUBAwADBQYBBA4FAAQEBAMEDQMDCgMBAgIHAQIGCgIFAwYABwQCAQEGBwoGBgUFAQIFAQUBAQMDBQMMBAACAQMABwICAgECAAAGAwsECgUEAQQLAwQBAgcCAwUCBgICAgQCAQQFAwMGAwgCAwwFBgMCAgIFAAMCBgQDBgIBAgEBBQMGBAEABQUGAggBAQIEAwYGAwkGBAUHAQIAAwEHBQAHBgQABQEGAgQCAQQFBwYHBAUMBAUDBQYHAwQBAwIGBQQDBwMDBAMEBwgDAQEDAQwCBAYBAgAGBQAHBgYABAEDCggCAAEBAAQEBgcDAQUEAwIAAAMEAAEDBAEECQYFBQIFCAYACgYBAwsJCAIDAwQECAsBCAQKCwIAAgIGBgQFAQEBAQEEAAAFBgoFAwwJBwwGAQQCAA4HBgIEBAcGBQcJDQICAgQKAAUBAwYEBwMEBAQHCQIEAQEGBAQGAAUDCQYIAQQFAQgHBgMFAwIDAwcHBwAGAAkCAwEGAAcDBwoCAQMECAMDCggKAgYBAQYCAwQCBwYFBQYCBQgGAwYBBQQDBgEIAAMCAAUDAAIBBAEEBAIEBQQDAgADAQYCAwMICAIBBgMDBgEEAQAGBwADAQoDBwcCAwkAAg0BAgkIAQUABgMLBAICCQQFDQIFAwUCAQQIBQMBAwIFAgkFAgMLAgQBAgUKAQsBBQYDBgMBAgQDCQEFCgkCAgMEAwEAAwMAAgYCAwMGCwkBAQgDAQIABwQEAgIBCQQDCAIFBAEEAAoABgMGAwIDAgICBQYEBgUGCAcEBQIECgUGCQYHAgUFAwQFAQgBBgMAAwQBBAICAgMGAgEEAgMHBgUGBgQLBwUIBwEDAwgIBQQKCAICDgIGBAUEBgIEAwYFAwILAgMIAwoAAQEDAgUBAgQNCwoICAgGAwQECwsEAwQGAwMGAgoFBQsBBwIIAwAEBAcNAAUCAQMICQgEBgECCAEBAwcBBwAEAgoDBwEEAgoBBQMFCAgDBgQDAgQHAQEEAwYFBAYBAwYMAAUDCwcGBwUJAgIABQQFAwgKBQcEAgECAwcNAgYFCAYDBAMJAwYIDwMFBAIABgoBBgMEAwEFAgYDAwQCAwMFAAUFBQEEBQcGAwUAAAIAAgQAAAMBBgIDAQYDBgYCBwQDDAIFAwQCCwIGAwAEAQICBgEDAQgBCAkEAQEJBwQGBQMGCgEIBQgIAQAHBwIBAQYCBQIBDgMGAgIHAQoDAgMBCwQFBQYGBQkIBQMFBgQCBgEDCAkFAQUCCgMFBgUGBAIKCgMGBgULAQgHCQIDAQcKBQUECAoFAAUBAwEBAgcEBAYACgoIAAYEBwUEBAQFBAUGCAEGCgwJAxECBQEHAwEDAwwIAQoEBwgEDAsBBwUDAQQGAAQDCAQBAAECAwIBBQgCAgEFCAICAwABBAIEBwMBCAQGAQYEBAQEAwcFBggBAgQACAcEBwMGBQQJAwUDBAgHAwERBgUCBwADAwEHAgQEAQcEAgcHAQcEBAIIAQQABAEBAwQHBwIHAQcBBQQEAQgDAQEEBAMIAgULBggFBwQGBAUEAgcHAgQDBQQDBQUHAAEKAgUAAQsABwQKAgEEBQgEAwECBAcHBQUACAEJBgkHAAECBAYDBwMDDggBAwIGAw4DBAMGBA8LEAUDFwMCBAQGBQQEBwYGAwgBBAQCAwoFAgUDAwMGAw0ECwQCAQYCAwEKCgIIBwcBBwwBBhICBAYIBAEBBwMLAgUACgUKDgYEAAUEBgAIDwIDBgEGAAQECQMDCgMDBgIDAgIHAQQEAQUCCQUFCwgEAwADAgcCCAQLBAMAAgUAAgcEBwIGBAMDAQUFBgEIBQIIBwANAw0DBggLBwcFBQEAAgEEAgIIAgMBAQMKDAUICAIIBwQDAgIDAAEDAwUDBQgBCwEDCQECBgIDCQEEBAIFAwMGCAQFBAUIAgEGAAEGAgcGAgEHAQMBBAkACwIFAwEADgMCCwwECwUGAgIHAAMGCwYEAAcGBwMGBAsCBAEDAwEKAgUDAwIDAgkFDAECAQgCAAUECQADAwUCBQQDCAIFCAkBCAYDAwMEAgQHCAkCAQMDAQYECAMIBQQBCAQBAgAEAwgDAQEBBAICAgEEAQIAAgcAAQwFBAkGBgMDBAkMCAkNBAYHAQMHBAkCBwMFBQIEAQAGAwQEAwMUAwUCAQIDAQoFBgcFAQYGCQUFBgEGCQIDAgYAAwkDBgUJBgQFBQMDBQAAAwMCAgICBgYFBAUCBgQDBAQEAQEJAgEABAQHAgUDCAQPAQ0HCAIEAAEFBAoCAQcMAwQEBwUHAwQKAwcLBAIDAQUJAwoEBgIEAAgKAAMAAgYHBQQHAQQEAwQEDgEDBQIIAgQDAQQLBAcFBwUDBQULBgUFAgIEBQMCCQEABQgCDAMCAQEEBQsEAgAFAwMIAwoCCAYJCgUDBQMCAQYCBQABBAkFBAIFBQIBCAcDBQkEBAIKAQQGAQcIBgUCBwABCgABAwIAAQYCBQcDCAEBBQMDAQIFCAMAAwEEBQYFBQIHAwQAAQcFCwkDBhEBAgcDAAMCAQkCAQMAAgABBQIBBAEDAwAEAQAECgcDAgoHAwMCBwIBAggCAQICBAECBQYABAQBBgcBBAMHAw8LCwMHCAMBCQMFBAwEAAEGBQEEAAMCAAUBAwMHDAoCBAEBBQICBQMCAAUGAAgABAIIAgYCCgMBAgMEBAEDAgcEAwoIDgcGBwoDCgkIBwABAwQFAwYECgYFBQUGBgIGBQMFBQUDBgYEBgUEBAMGCAEICAYCAwUJBgcCAAQCAgYFAgYACQIBCQ4CBQkJBAELAQQLAwoPBwUIBAYHBgUBAAkFBgEECgMCAQ8EBAUKCgUTBgUEAgQHBQAEAwoHAwEBCA4JAQYACAUJAwMGBwEEAAUEAgELBwQDBgMTBgUKCAEKAAAIBAUDBQ0BAA4DCBACCQoBAQMDAgMBAgIGAw4EDQsIAwUDAQgKBAYBAAYECAcIAQUHBwIBBwQDAgEHAAANBgACAwQCAwIGAQkFCwoOCwUFAggGAQIEBQsHCQUDBwcBAQIHAgIFBAkBBQUGAwUAAwQEAAgBAQEBAQgHAwoJBwIDBQEHCAMBBgYFAwIDAQQDAQEFCQAECAYBAAcDCAEKAQ4EAgUEBwEABAUCAAECCwABAQoAAwYHAggEAgIGBAQDBgUCBAUAAgQFBQMCAwsDBAgCBgMBCAAGBgIFAgECBQAFAwIDBQECAwAGAgYKCAYBAwQKAwwEAwQGAQIECQAKAQUCBQQDCAUJBAIFBgMCCAADAwEBBwUGBgkBBwgCBwIGBgcGBAQEBgEIBAMCAgMAAwMECAIEAwEFCgMBAAUCBAEDBAAHBQECAwcABQEDBAMBAgoAAAIDAgoJBAQPAQgFBgEEAAUGBwIEBgUFBwMGAQAFAQcEBQQGAgUCBwcCAwYDBwYEBgUHAgIICQUGBgsIBAUGBAIMCAUIBwMHBQcHBAkIBAECAgICBwQGBgQBBAQCBwEEBgADBgIDAQMCBwsCCQABAgYACQwBBQQGAQMCAgwHBgoDAQIAAgADAAQAAQADAQQDBQEGBAYCAgMAAwICBQkEBgEBBAcCAwQEBgQEBwYMDQsGAgQCBgkGCwMIBgEFAQoBAgIICgkHCQkEAQUDAwQCCQQBAgUDAwQGBgwKBAwAAgUBAg8JBgMKAwAFBBMEBgQFCRAAAAQECAEIBAYCBAMECgIFBQADCQoIBAICCAUGBAAEAQwIAwUDAwQBCQMJAgkCBQIBBA8EBQQEBQUEBAQKAQ4EAgIIAgcEBQMDAwAGAgYFAgIGBgICBQUHBQgFAQEAAgMLCAIDBAACCgQDBgAFBgQFAgMABQUIBgsECAQHCQYFBAcDBAcDCQIMAgoKBgsCBQIACQMDBAUIAQcFBAMTBQoEBAsGAQIDAwQDBAYDAgMEBQICAwUFAwQFAQULBQQDBgQFCQMHAwIABAcJBgUCBAYNAwUKAAADAgICBgUCCgoOBQUCDAIKBgAGAAkGAQABAQMGBAYNAgMMBQMNAAAJAwICAwYCAwIGBwQFBAUGCQADBAICAgAEBQQDCQIGBgUHBAQEAAEHAQQCBAUDBAcDBQMAAQIEBwACAgMJAwMCBQMHAAkCAgABBgAFAQUECAMCAQIHAAEAAgUABQMECQMFCAQHBAICBwMBAgICCAUBCwIICgUEAgIEBAUABgEDAgsDBQIEBAMFBQAEAgYGAwIAAQYCBgEHAAMBCQMABQIBAwgABAMIAgABBggCAwQCBgUDBAYAAgEJAAUCBQECBwUCAwECAQcLAQQEAQcDBQMCBQQFAwUDBggJAwEACAUCAwYDDAIECgQEBQACCgYDBAEJAwECBQMGAgEDAwICAQIEAwEBBgICBwwBCQABAwAHBgUGAQMEAgMBBQACAwIEBggCAgEFBgMEAwgAAAQBCQgGCgMBAQQCAQgDBQEBBAcJCgoHAAcFAQsIAgAABQgDARAEBAAGBgEFAgQEAwsECAsGCQUFAwQHBAMBBwUHBAgGDQcHCgcFAQUABAsDBwcBAgICBQUECwwCAAYDBAMJAwMHBQgCAgMDAAUIAg4CAwIGAgIDAQwDAQkEAwoJCAMLAwUCAAcEBAUJBgUFAwUFAgoFAQcACwoGBQQBAgUEAAcDAQECAQEKAwIBBAMEAwUDAgQIAgIDBAUABQYHBAoEAgQPAwYKAgIBBQMFAwEABQUIBAMFBQILAAUBBgADAQICAgEAAwIEAwECAQMDAgEFAQQAAwQCBQQEAQkFBgUBBgQFBAUEAgQKAwQKBAQCBQEACQADAgMFBQYDAwYAAQMDBQcFBgkJBQkFAwEGBAEEBgIGCAoGBgEBCAQEAwQGAgYJAQAABQkHAQAFAgQGBwEHCgcNAgQEAgIGBAMPAgUDAgUEBAAFBgECAwMCBQcFBAcBBQMEBQYFAQgBCwwKBQkIBwMHDAMDAwEBBAAFCAgCBAcFAQEGEQgGAgMDCAEEAwMEBQYCCwcEAwgEBQECAAYVAQADBAIIBAIDAgEECwQMAwIBCwUHCAMBAwMDAgsDBAIJBgEICQMRAAgDBQMHDgcDAgMKDwUCCAcEBQAABQIABQMDBQUCBAICDAgGBAUGAAIAAAYHAwQFAAMCBQsABwcBCAgFAQQBCQAEEQgIAQMDBQECAQwMAwIEAQ0BCQADCwICAgUEBggDAgYCAwcFAQoDCAQDAwIBBgQEAgYFAwcDBwUFAQQFBQgEBQgEAQQHBwQCAgIFBwQHAQcHDQIEBAkECwQEBAYDAAUHAQIIAQcIAA0GDAIGBgsDAgYHBAcEBAAECQQBAgcBBgEDBAMJAwIFBAQFBggFBgcEBQUBAAQFAwQDBAYBAQMBCAEICAcHBwMEAgcCAQcGAgEGCQEGBAIBBgIEAQIGCQoFAAIFBgUKAwQIBQsGCwUCAwgFDAIDBAAFAgAGCAYAAwIEAwQCBQYPBQUFBQUDBgECAgEEAwoEBAECAQoBAwIKAwQEAwkGBQgGAgUCCwkMAggFCQYBAgQIAwYECAQGAQMGAgsEBQMGAQMFAg4CAAAHAAIHAgEDAgwBAwUEAgEBBQMGBwgDBgQBBAEAAQABAwICAAMDBQUMCAgEAgMHBAQDAgIFBgYFAAABBAMDBAQHAQcGAgYGDAQAAQQDAgEDBAYBCAYDBAgDEAYYAgMIAQYFAQMDAAQBCgACBAQEBwMKBgMNBQQIAwMJAgAFBAAIAwMEAQEBBgQDBAsHAgMIBwEKAwgMAQQFCQUOCAcEBAsCAQQEBgcFBwMJBAUHBgMCCAoKBAoCBAMBBgUECAIHBwMEBAADBAQFBAEEBwcEAQAGBAYACAALAwgGAggCCgQFCQcFBQIFBwYEAgcFBQYGBQcBAQQHBAcHBwUHBQQBAQcLCgIDBwUKBQIFAQcHAgcDBQIEBAIHBQELBwIDCgYKAwMECQcMCwgCBgEDBAMBBgMJBwEAEAQIAggKDAMDBAkDAggABAMDAQYCAgICAQoGAgYFBAoDBQkCAAQBAwIAAwAHEAQFBAIEBwADAwUDBAYGBAwECwcDBQkDBAMHAwYEBAYGAgUIBgEEBgEEBg8NBgcBAQIKBggBAgYCAwMHCAcDAAQHBAkGAgQHBgYEBAQBBwcIBgEICAgHAwoDAgUEBwoVBwMBBwgJBQUEBQUCAAIFFAMGBgQCCQoBBQMHAgYDBAUCBwEBBAEGAwMECwQLBgEEBAYEBwEDAQQFAgMEBgICAAABBgUDBAMEBQIJAgQKBgYEDAUGAgADBAcDBAMEEQMBAwMHAAUCAAULBQIGBwcJBAIAAQMFBQgFAgUAAAUDAQcJBAQBAgQHAgIGCAMECAIBAQEJAQQFBAYBAQ4FBAQFBAMFAwEBAwADAgMDDQgBBQMFDgQFCAUGAgEHAgAKAAECAggKAQYGBQIEAwEGAwkKBgsGAAcDBQICBQIFBAgBBAAGAggEAgAACwcBAAcFCAUDBgYBAgMBAgAGAwUGAwcBAwQFAgQGAQIGBwYCBwwGCQcJAAYFBQAFAgcEAQAKBAoKBAMCBAAAAwIAAQEGCQQCAgADAwEFBwMFBQcFBAQDAwcCAgMDBgUGBgAIAAYBBgMECAIBBAABBwUEAAUFCgMDBAQCAg0AAgEMAgUDBAAHAwUAAgEFAgUEBAQDBggCAQMBBwECCQMIAggGCwEDAAUDAgQEAgkAAQIEAAYDAgQDAgMEBQICBgEFBAIEAgIEBgQFAAoDAwQCBAQDAgYEBAoLBAgCAQkDAwIBBAcDBAIDAQQDAggDBwIDBgAGBgIHAgUAAwcCBAgFAgAFBAMDBAQCBQUGAQILAAgEBwoBAgEBAgYJBAQBBAUFDAoGAgQACQIFAgkJAwQBCQECBQcDAwEDAgQDAgUGBgQDAgcFBQQDBQUGCAEHAQMCBQMKBwAFAwgEBAYBBAQEAQEGAwMCBwEDAwAIAwMDBQgCAgMDAgEGBAQHCAUDBAYCAgEFAQcCBwYEAgEDBwUIAgIDBQACAwEECAUGAwQACQMNAQMKAwAMBAMBAQAABAoHAQEFAwcBBAEABAEIAwQEBAIGCAYEBgIJCQsEAAIDAwIFBQoFAwMBCQkCAQIFAwUEBwQCBgoCBQkFAgUBBAYCAQQEBgYDAgUDAwEIAgcJAgEAAgMCDQIABQcDAgUDBQQCBQEBCAUDCAMDAwEBBQ0ABAUCAwEBBAIDAwMGBQMCAQEHAQEIAgMCAwMBAQECAwIEBQQDBAIABQIBBgAEAgUIBAYBBQEEBQINBQYDBQUEBAkFCQQFAgADAwMIBAABAgkBAwEHAgwGBQYBAgEEBgMGAgoAAwUEAwQHBgMFAgIFAwUFBwMDAQMIBAsBAQQFBgIICwIDCA4AAQIGBhIGAgIBBAMFBgIFAwYDBggCAQMHBwgIBwYEBAUHAQUFAwcBDAUABQwABAMLBwMDBQgLAwcABAULCAMFBQkEBAEEAgUGAAIBBAICAwcFBgEBBAQIAgQICggICQQMAwMBAgYFAQACBAoDAQIGBQcIBQICAQYABQgBBAYDAwEBAgIEAwcECAQBAwABAwQCAQIEBwsBAAMFAwIJAAEDCQoFBAEIEwcFAgYHAAMEBQIFCgcEAgEHBAQFBwMBAQYDAwICAQQGBAoFCQUIAAUGBwQDDgoIBgADAQcFAwQJCAsCBQECCAEGBAkBBQMCAQQCBgUFBAMBAgIGAwQHAgIHBwQCBAYHAgUIBAsBBQEHBAUBAQEIBQIMAwAFBgwCCAQDAQkHAQADAQcIAgMDBwUCBQUNBgQDCAkABwIFCw0FAwQHAQIDAAQCBQAFCAMFAwoFBgsHBAkAEQsDBgMLCwMMAwIFBAgGBwQAAAQHAwEEAQcHEgEEAwQGAwUAAQQGAwAAAwgABgQBAgIGAQEBAgUHBA4DCAEHBwIDCAULDwMIAQEEAwQEBAcHBwAEDQIDAgAFAwUCAwIMBQEEAgUEAQYBBQMDBAIECAIABQUEDQQBAAYCCAQFBQEEBwYABgMEAQIIAwYFAQYFBA0CAggEBQMABgoFBwECAwcHBQMHBQgAAQIBBgYCBQYCBQgGBAgDAAUFBgMGAQAKBAMIBgIAAwAIAwUGAQkDBQIDAQMHAwQCDQYIBgECAgUCBAMBAQYFCAUFBQADAgMPBAMDAwwJAwcBBQgEAQIDAgYFBAECCgIBCQQFBgMCAgAFAgQLBQcAAAUFAAYCCQAEAgMIAAADEQIDAwQADgMSAgMFAAUCBAYFBgEEBwoJAQAZBQoGAQIBCAMGAgkDBgQCBQgFAQoIAAAADwUFBgEFBAQIBgQGCgcDBQMFBwYFBAQCBgYHCQkCDAAABgIBAwEEAwUHBQsEAQYHAAQKAwUIAwUFCwUEBwQGBgIEBQMNCAcBBQMHBQYBAQMHAwMHBQYMCQMGDQECCgQCDAMFBQUEBQUKAwsFAQIGBQUIAgADCQYDBQAKDQkGCQcCAgAGCQUDCAMHBQIGAQMCAgQEAAQMBQIHBwgCBgkHAgUHBAICBQAGCgMFAAYFCAECAAMEAQYAAwEECAUDAgQAAwUFBQUHCggBDwUABQIGAQQICQMEAQYBDAILBQgBBQMDCgkHAQMDAwEEAwkCCwcFAgECAhIKBgMCBAoEBgcBAAMIBggNBAIFAwoFAQQEBQQDCAIIBQMEBAQECAQFBAICCRMBCgMEBgIFAgkBBgQFABIHAwgGAwADCAkGAAkGBgUIAgEABQYDCwUGAw4CBAcCAwECAAEDAQEHBgUJBAQHAwkGBgEEBgEIBgkEAgQIBwMCCwcGAgEIBAsGAwIEBQgDAwUCBwkDAwAEAgIGBQMECgwEAgQDCQUFAwQEBAIKBwwEAQcBBw0HCAYJBQ8MAgcDDQQDAwUHBgUFAAkMAQQEBQcEBAEEBAQDBwQACQ8EAwsFBAIFBAMMCwIIBgUFBggDBAUFBQMCCQIBAQkKCwUGBwQEBQQHBQMFBQoABAEFBggBBgoCAAYCBQcGAgMEBAMMAgMFBAkACAIBBgcFAwIJBAECAQMGBQADBAUBAwIFAQMHBQEABwQFBQYJBwUAAgkCAQwBAwMEAAQGAwICBgICAwIJCAMDBQ0NAAMDCQQIAQQEAgEBCQsGBQMHAgoJCAQBCAICBgYGBAICAggIBQMFAQAHBAQIAgEHCAIEDgUEBAAEAQYEBAMHAgYECAIFCgQFBgIKCwIECQQEBwUIAAAGAwgEAQUHBgUEAQADBgYEAgQLBwECCQUHBAYPCQEIAg4JCwQGAQMEDAMGCAMDBAwFCQEDCAgIBwEFAgEDBQQHDQcIAgMJBwcBBgYHDQgKAwgJCgYIAgQKBAUFAhEACQUCEwoJBgUFBAIEAgQHAgUDEAQEBQcFCQQNAgILBQEKBwcEBAUGAQYBBQADAAcCBgYDBQQEBwQMCgUBBAUMBgoABAQKDgIKAgIFBQcEBgUAAgcHAQMJBgYLBAYNBQUDBAACBAMFAg4CBgQDCAcFCAIFBgIBBAEIBgkBAwkFBQMKAwMCAgEHBwQCBQgCAwkDBgYFAQULBgEECggDBAUGBgEEBAQCAwsBAgAGBAcGBAoMAgEGAgEFAgIHBQwBAwIFBQoEBwAABQYKAQIFCggABBEOEAgCAgQBCAICAgUICAADBgYDCAoCBQEFAQkABQUFAwcHAwwBAwwEBQcEBgECAgkCAwADBwUFAAQCBAIAAQkEBAEAAgQICgYCAgUEBAIFAQcFCgQDAwMFBQQFAwgGAwQJBwUDAwECAgIABQUJAgIJAQADAgUBAgIABAIKBwYFCAADAAQCDQcHBQIGBAQGCAACAQIFBwUDAwYGBwQHBQcGAwkBCgMIAwoFAwAICAMHBQUAAwMAAAAFBQ4CBQUFAwECBAMEAwcBBAwDAgUDAQALCQUMAAQDBwUFAQYEAAQDAwkGBgoIBQsCCQIBBAECAQQBBwEDCwMEAwcLBQUBAQYACAYFAwECAQIRCQYDAgQLAwEGDgQCAwMLBAQBBQQGBwgFBQoDBgEHAgQGBAIDBAIACAYIBQMCBgUDAQIIBAUABAMDCwQAAwIEAwEDAwICAwUEAwACAwUDBAMHAwgBBAEACAYEAQcIBQEGAgYDAQcCAgUAAQAFBQMCBQIJDgEECgQDAgIDAgMFBw4EAQUABQkEBQgGAgINBAgCCgoCBwIIAwYFAAACCQQIBwsDAgQICAcGCgAFBwEEBQgJBgAKAQcHBgAFAgcGAQcGBgETAgUIAgMABAQICgQCAAYCCwUIAQYDBQYIBAUABwcCBwUECgsDAAIHAgYGAwABAAEGAgYGAQACAgQFCAYEBQQHAwkICQcBAwsLCQIIBAwMAwoFBQQBBQUJBggGCAQGBQsNBAUDCAMFAwEGCgEJDA4NCAYGAgQDAgIGCA0FBQgCAAIDAwkKAQIECAIFCAEAAggMAQIJBAEFBQYGAwMBBQgGAwcDCwcDBwcFAwAEAwYECAQEAgkDAwMAAQICAwoLCgkBBAUEBAgBAwsDBAIAAAQBAwIFBwMCBAADBAMCCQMEBAcEAwsBAwMEAwUCCgAAAwUFAQQBAwIBBAMCCQQDAwMECAUECQABAwkCAgMDBAIABQcGAAMDAQEBBwEGBQsGBgMFAQwGAAIDAQUEAgACAgECBwEJBAQEBAoDAQoFAAIGAwICAAQEAwIDCQUEAQIABQoDAwUEBgMFAgEMBAQCCAIFAgEAAQMGAgEEBAEDAwEHAwMFBAAEAwABAAEKAQIAAAMJAAMCAwAJAQQEAgIBBgICAQIBAAAIAgMFBgUKAAYDCwQBAgkJEAgBAQAGAQEJAAQEAAYBBwIFBgEFBQYJBgIBAgAFAwgCAgwCBAEGAAEFAgMCBQsBBAUGAgQCAAIJBAcEAQENAAQGAQACEwMDAwUABAYAAwUFCgACCQMDBQIABAEFDAQEBAUIBAMEBAMEBQIBAQIEAAMGCQQGCAoDAwkBBwQKBQoHAQMEBAALAgIOCgYCCQQDCw8ICwUDBwMDBQQABAQBBgkBAwUGBAsBCAQBBAoDDwcAAgMCBgEFCQUCAAIGBgkEBAQLAAgHDAYCCwYEBgULAwQDCAYCBAcKCQMLDgMXBwEGCQYCBAQFBgEGBQULDwgIBwQCAwILBwIVDwcDAgQGDAQDBgQNAwMDBAYIBQgDBAYEBAEFAwUGCAMJBAEEBgICBgMCCgEJAwUIAwEDDwIEDAAFAAELAQECAwUDCAUDCAEDBwQCAgEDAAUGAAIDAgcABAgGCQIEBwMGAggDAgUHBAUABAcAAggECAULBwYFAQQFAgQDAQkDAgEJAwAFBgQIAgcKAAAEAQUFAQEBAgkEAQYIAgcGBgUEAwcAAwgGAQEDBgEABQMMCAkCAgMFDAQSCAIGBQoHDAMAAgcFAQcEBgMDBQAGAgYCBgMHAgoBBAcFBQkJAAUCBgYCBgAIBwEKBwsJAwkCBgQIAwkCAQcBAwMHBQEDAgkJCQQFBgUDAgwJAwoFBQUCAQMBCwcQCAcGAgoJBAIECQQBCQUIAgQLCAMCAgQJDwkHCAMDEAIDAgIBAwkGBQQFBBAFBwQABQcDBAkAAwcHDAIHBgYBCQIJBQUEBQQEAQ0IBAIIAggEAQoIAwEDBQUFAwIKCAIFBAQGAwQDBQYHBwEBBAYFCwgDAwALBAIJBQMLBAwEAAMFCgUFCAYDBwUAAQcBBwYHAwIEAgMCCAQAAAcCBQcFAwINBQUHCAcFBgUDBQQCBAMCAQIJBAgGAwAFBgEPCAAEBQYEAgIDBAECBAIEBQcDCAgEBwMABQcFAwEFCgoEBAkFBwIDAgEJBQcEBgEOBgQGAwUEBBAGBAkEAQYJBAEABggDBwEIAwkGCAMDBAQICwcSBAMIEAsIBwQFAwUGCQIHBQYDDAYGCgIFBgAEBAEIBQEJBgIECgMGBAIPBwEFBgMCBAYDBAcIDAcKBgELAgcECwsDBQcHBQIEAwcFDQQMBgQOAAYIBwMICg0HCAQGAgICBQIFAgYJAgUFCQEIBAUMBAUKBgQEAgsFBwYGAAYJCAkGBgcDBwMCBQIEBQkAAgYFBAQAAQEDAgAHAgsEBgEGBgAABQYGBggFBAUHCAAFBQEDBwcBBQYKBQQFCAMDCgIEBQoDBwUEAwIECAQBAgYDBAQGAw4CAAsCBQIEBgMIBQQEBAcNBQYFBwcEBAMECgEECwkEAgEFAQIHAQsGAgcKCAUABwMDCQsCAwIEBgcIAgYEBQoCBAMHBwMFAwEBCAYPAwMGBgQCCAUBBgkHBAcGBQcGCwECBgMEBwUBAwQCBwMFBAENCgsHBgYHBwUEBwQFBQMHBgIEBwQMBAIICgMGDAoEBwQKBAgRDAIFCAgDAQQBBAQIBQYICwQGDgoDBQUJAgcEBgkHCQkODAIEAQsICAYFAwYEAgQDCgEFBQcHAgQFAAoEAQUKBQsGCgUNBAgCCQMHCAEADgQBBwQEAgQCBwEDBwIACAQNCggIBwECAQEEBgsGAgEEBAEDDgQDAgUABAMDBQMRBwQGBQcGBgcIBAcCAQQECQcFAQUJAgQGAgsDAxAIBQMEAgcCAwcEDAgDBwUDBwUNAwkKAwUFBgEEAgMCBQYDAgUIBAULAQcCAgIJBwMIAQYGBQUEEwIECQgDBAcECgQHCgMAFQUDDggGBQIBCAwDAgMDAwEBCggFCAgKAgIEBgEJAwMGDgMCAwgBAQAGAQQMBQEHBAgHAAsFAQcGBwECAwUCBwUCBAkGBwEECwMDAwACCQcEBAMIBwAIBgEAAgQBAwQNBwUGAgYNAgIGBwUIAAMEAgkCBwYBAgMEAgcJBAEKAwMFBwQBAAkBBgQLBwgDAgMFCwkCBgQMBQMFBwYFAwQFCgIGAQkBAwUEBAIJAQIFAQIDBQkDAwUFBAICBgcABQAGAgQFAwQDAgQBAgACAQYGBwEGBQUGBAICCgMGAQMFBwYAAw4CAgcBCAYHBQkKAgUHBgQDAgcFBwULAwUECAIGCwEOCgMBARIFBgMGDAYDBAMAAwUBBQEFAwgDAwAHBgsBCAUCBwMDAgEJCgoEAwABAAQBAQMOCQUFAwsJCwYEBgcJAQAGBAYECAEGAAEFAQEDCQQJBgIBAgQCAwMFBAUGAQYCAwcCBQQCAgECAgQGAQQIBgEEAQsDBggEBgMCBAcDAAQDAgQCAwUGEwECBQAFAwMIBgUFBQECBQIGEAgOAgQIAQMKCAoDDAMCBAUBAwMFAwUBBwMDBQUFAgcAAQUGCAUCBQEKCQIJBwgDBAUHBAUDAwICAAQDBAAEBQMECAcBAQIDAgIJBAEICgUBAQIBAAIGAwQAAwUACQUMBgYKBgIICQwNBgYHBgECBAIACwUGBgMADgUBAQUAAQQKAwQKAQEFAgYEBgEEBwkDAQIFAQYEBwMEAwMCBQ4HBgMJBQkFCQIGBAAIBQoEDQgEAgEFAQUCBAIGBAACAwICCgIDBwIFCgMIAwgHAgABBAMDBAALAgcDBAcJBwYHBQMEAAMFAwILAQEJBAEBBAUFBwILBgQGAwcBAAABBAADAAEDAQQFAwIGAAUHAQEDBQAHBgIBAQMHBAMEBQMDAgwCBgQOCwAEBgMEAAgDAQQCBAIEAgMCAwYICAkAAwICAAYEBQgDAwACCAsHAgAEAwEGAwoNCgcECAEKBAgCEwgLAwEEAwUFAQIBBwIFAgQGAgADAQUGAwkDBQcKCwEDCwAKBQQCAwgBBAEACQAFAQAEBQMCAQICBwsEAAEEBQIIAgAABAkCBAYFAwQEBAQHCwIJBwQGBAoGDQQFAQYFBgMFAQAFBQYBABEBAQYOAAIDCAQKAgIGAwMEBQIHAgEDAQQBBAcABQkHBAUAAgYFBAQDAAECBQQFBQkEAAIEBQcBBgcMAgMGBA4GBQICAgAIAwIAAQEGAwsCBgENAQUDCQMGCAYLDAYBAwoDBAMBCAoECgIBAQoKAgYEAgUFAgkDCQIHAgYJAQQDAwcEAAUEAwUKCQsBCAQIBQQFAwYFAgIFCAICAwcADAYCAwcBBAEDAgUDCAcBBgYIAwQOAwIHBgQGBQEJBgYDAgMJAwYAAwEEBQIIBAQFAAUGBgYGBAQEAhAMAQQFAwECAgEEBAQDAwkKBggJCAcABwMFBQEKBwIAAQUDBAcFBwEDAQYJBAkIBQICBgUFCAUJBAsDBAUIBQUEBwIEBgEDBAgLAQYECwEBAgQFBggMBQUCCQsBBQUCBA8OBAUACAoECQIABAUFBhAHAgUKBQIEAgYCCwgCBgYFCwIEAwMKCAQJAwYHBAMHAwQEBAYHBQQDBQICBAIJBgQEBQkGBAIEAwEDAwcDCwUEBQUJBQUJAQEABQIBBAAHBgMHAwgDAQgBAwQAAgMDBgMDBwEBAwcJCgMKBgkGAQECAAMICgMHBwkGAAYDAwUBBQECAgEHBgcDBAUGAQcFCgUGAAQHBQMDAgEFAgAAAQQCAQcDAgoBBQIKBQIDBAoDAQMGAgEECwICAAICCAwCAgwFAQYHBQgGCAMHBgcGCwYGBwEBBgACAggKBAAMBwMDAgABCgkHCQQLBQQFAgYEBggFABMDAwcDAAMBAgQHAQMEBAYAAwIEAAMDBAgEBgMGCAsIBAIDCwQDAgQIAAgGAgkEBQwDCg8DAwMDCQQCAwUFBgUDAwcDAgECAgoBAwADBgAFAAIFBwYFBQMFAQQMBQkCBQ4DBQQJBgQEBAUMBQAHAw8CBgcECQMGBwgDBQIDAwUEBgUEBAMIAg0DBQELAgMHAgMLBggEAwcFBAUEBgMHBwMRAg4QDQELBwkHBwAIBwcJAwsEAgMECQAGDAABBwIGAQYKAwcGBAUGCAoI",
          "dtype": "i1"
         },
         "xaxis": "x5",
         "yaxis": "y5"
        },
        {
         "hovertemplate": "NBA<br>Range: %{x}<br>Count: %{y}<extra></extra>",
         "marker": {
          "color": "#783ABB"
         },
         "name": "NBA",
         "nbinsx": 30,
         "showlegend": false,
         "type": "histogram",
         "x": {
          "bdata": "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",
          "dtype": "i2"
         },
         "xaxis": "x6",
         "yaxis": "y6"
        },
        {
         "hovertemplate": "NFL<br>Range: %{x}<br>Count: %{y}<extra></extra>",
         "marker": {
          "color": "#783ABB"
         },
         "name": "NFL",
         "nbinsx": 18,
         "showlegend": false,
         "type": "histogram",
         "x": {
          "bdata": "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",
          "dtype": "i1"
         },
         "xaxis": "x7",
         "yaxis": "y7"
        },
        {
         "hovertemplate": "NHL<br>Range: %{x}<br>Count: %{y}<extra></extra>",
         "marker": {
          "color": "#783ABB"
         },
         "name": "NHL",
         "nbinsx": 11,
         "showlegend": false,
         "type": "histogram",
         "x": {
          "bdata": "AQMGAwADAAIEAwcCAwQEAQIEAgQCAwMDAgMBBAMEAgMDAQQEAAIEAwECBAQDAwQABQUBBAEBAgMDBAQDAQcDAAMCAAQEBQUBAQMDBQQCBAIDBwYDAQABAwQDAwIEAgMDAQMDAgMBAwIDAAEFAwIDAgICAgYCAgUEAwIDAgEFAAQBBAYCBAIFAwMEAQIABgMBAAIDBAQEAwIEBQMAAwYBAQMFAwIBBwEEAwMBAwMEAQIAAAEEAwAFAQQCBAIBBAQBBwUCAQQAAgYCAQQCAgQCAQMCAwECAQEBAgECAgMDBQMBAwMBAwUCAgUAAgQDBQIBAAICAwQEAQIBBgYCBQMEAwADAgIDAgMCAQMABAUDBgEAAwIDBAAFAQMCAgUEBAEFAwMCAgcEAwICAgIEAgMAAgMDAgEDAgUCAgMGAwUDAgcDBgIABQEFAQACAgcCAgADBAICAQEAAgICAwUCBgMAAgQBAgUDAgMCBQMDAQEDBgECAgIEBAEDAgUCBQUEBAIBBAMEBAUFBAEEAwQAAgQDAwIDAAQCAwAIBQICBQMCAgQDBAYCAQMFAgQDAQMDBAMEAwEDBQMDAgMDAQMBAQICAQEBAQECAwQDAgEABQQDAwIDAQMBAgQDAwQDAQAFAgEFBAADCAMEAwICAQMABQQEBAIFAQUGBQIBAwIDAQEFAgEFAgIDBAUBAgEDAQIDAgMBAQQCAgMDAQIDAgEABAEBAAMCBgAEAgECAQMABQUEAgEBAwQDAwIABQICAQEBAwMEAgQGBAMDAgIDAAMBAwQDAwQHBQEHAAEEAQICAQQDBQMCAwQFBAUGBQQFBQEDBgQBAwEEBAICAQIEBQUDBQYEAwIDAgMEAgMCAgQCBAUGBQIFAwIDBAQDBAIFAwMDAQAEBAMCAgMEAgUDAwIDBQEDBAACAwEFBAIEBAIDAgEEAwMGAgQAAgEFAwMFBAIAAgQBBwQDBQUCAgMEAgMCAQUEBAIBAgQFAwYABAEEBAQEBQICAgIDAgMBBQIDAgQBAwIDAwIDBQQCAwEFBQEAAgQAAwMDBAMEAAQDAgQBBAMDAwEBAwQDAQMIAgUCAwAEAQUGAQIDBAMDAwMCBQMCAQUFAwICAQkDBwEBAwEAAAQEAQMDAAMDAwMDAAACAAQEAQIEAAMCAwIEAgQCBAEEAQMDAgQDAwUFAgUDAgIEAwQGAQUDAwMEAQMDBQMDBgMFAgYCAAAGAAECBQMBAgIGAgQBBAMEAwMDBQIDAgIBAQEDAQEEAgMCAgACAwIBAQQBAgABAgMDAwICAgEEBAMCAwUDAgEEAwIEBQQCBAACAgIEAgIBAwYEAwEEAQUDBgIDAgEEAQMGAgECAAQCBwQGAgQBAQQGAgADBAMFAQABAgIBAgABAgEAAgIHBAMAAwMDAQUEAQICAgEBAgMDAQMGBgICAgIBBAUFBgEBBQUBAQUAAgQCAgMBAgQGBAIFAwMBAwECAwEFAgYBAwEEBAEEAwUEAwMCBgQCAgMFAgIGAgICAAEEAwEBAgIIAQUCAwIBBAMCAgIBAwEDAQMDAgIDBQMBBAIDAQUDBQUFAAECAwIDAQMDBAQCAgMBBAYEBQAEAwMEBQECAgQCAgIGBAECAgEDBAQAAgQBBAIDAAIDAQIDBAIDAQICAQIFBQMBAgUEAgEABAADAwIFAQMAAgUDBAIDAwEBAwQFAwICBQACAgEFAgIDAwYBAAIDAwUABgICBAIEBAUFAwMCAAIEAgEBAwMCAwICBAMDAgIEBAECAgMCAwMEBQICAwMCBgIDBAMEAgQCBAUEAQMCAQUEAgIBAwEAAgEEAAEFAgAEAQICBQIEAwAGAwIDBQEABgMEAQABBAMCBwIDAwABAAECAgYABAIEAAMDAwIEAwQDBAEEAAQEAwQEAgUHBgUBAQQEAgMBBAIDBQEDAgECAgQABQMDAgIEBAQCAgIFAQMEBQEDAQQAAwADBAICAwIDAQMBBAECAgMEBQMAAQYEBAQEAgEEAQMBBAACAgMBAgIAAgMDAQICBgMDBQYDBAQCAgIBAQACAQQBBQMFAwICAQQEBQQAAAMEAwYEBAMBBQIFAwQDBwQEAwIEBQECAQEEAQMCAgIHAgEDAgIBAQICAQUCAwQCAAIBAwUBAwAAAQYIAAACAQIDAQUDAQMFBAQAAQMFAwEDAQUEAgQFBAIFBAECAgMEAQcDBQMEAgEDAgQBAQMGBQQBAgMCAwIEAQIEAgICBAACAwQDAwcBAgABAQIEBQQDAgMEAwQDAAMGAQQBAQEEAAEBAwQCAgQDBQQBBQMCAgUGBAICBAUBAgYGBQIFAgMDAwEEAgIAAAIBBgABAwECAQEFBAIGAQQGBwQGAAMFAgQBAwIDAAEDAwMGBwQCAwMBAwEDAwIBAAMBBQQABAIDAgMEAAUFBAMEBQMBBgQBBAIAAAEGBQIDAwMCCAUEAQIDAwYDAgAIAwMAAQIFBAQDAwMCBgMCBAECBQMEAwIDAwUGAgMBAgIDAgEDBAUABAMHAAYCBAQGBAABBAcCBAQCAwUDAQUEAgMDAwYDAgUEBQIBBAIBBAQDBQMFAwQCAgECAwEECQUDBQMFAgQEAwADAQMDAggCAgICAwEEAwQEAQMEAgQDBAUCAQIFAQMBBQAAAQECBgEBAwQCBAMDAgMFAAEDBAADAwcCAwMDAwMBAgQEAQQCBAIDAgICAgMCAQIEBAQFBgMCBQIDBAECAgMCBAICAgUGAQMBAwUDAQEFAgUBAgICAwQBBAMBBAMFAwABAgQAAgEABAAGBAIEAgEDAwQBBwICAwIDAgMBAgIFAgMEBAICBAYDAwMBAQIBAgMFAQICAAUEBAMDBAECAgEBAQYDAgQBAwUCAgICBQIDBAYAAwYCBQMCBgMDAgICAQIEAQEDAgIBAgQBBAMCAAMEAwMDBQIAAQICAQQEBgEEAgMBAgMEAgQBAAEEAwADBwQDAgEDAwIEAgIDBAUBAQEIBQAEBwIFAwMCBAQDAgMBBAQFAgQDBwQCAgIGAwQFAwMFAgEDAQMEAgQGAwQGAwUDAgMDAgQCBAMFBAMCBwYEAgQEAQQDAwMFAwMDBQcDAwIDAgYBBAECAgECBAMDBgQDBAMCAAMFAgIBBgEFAAQCAQIEAwECBAMDBAQGAgABAQICBAYFAwABBAEDAQMAAgEEBgUDAgIEAwUDBAQDBAIEBwUDAgQCAQMCBAMGCAMABAMGAgQFBAMCAQQFCAQFBgUDBgQHBQQDBAYFBQUFAwMFAgMEAgQHAwMEAgMEAgMDBgUDAAEBBAQDAQMEBQECAwMFAwEEAgEBAwIBBgIFAAADBAMGAgICAwIBAwUCAQYBBwIDAgIEAwMDBAUEBgEDAgIDAgQABQYCAgIFBAQCBQQCAwYCAwUAAQIEAwICBAAEAwMCAgUFAwQDBQQABAEDAgUAAwQBAQEBBgMFBAIBBAQFBgICAgMDBQMAAQMDAwMEAwMDAwMCAAUDAwUEAwMBAgMBAgMCBAECAwQDBAICBAUDAQcBAAMDBAMBAwABAwgCAwUBAgMDAAQDBAIGAgECBAYHAgcDAgYAAgMGAAgBAgMGBAMDAwECAgEDAgMDAgQHAAIDAwMDAwMCAgMDAAEDBAIGAwMAAgIDBQIDBAIEAQADAQUBAgYCAwIBBQMCBAcDAwICAwMCBAIFAwIGBwMGAwEAAQQEAgMCBQMBBAMGAAgDAgQCAwEEAgQEBQQCAgEFAwQABAACBwQDBwECBwQBAgMCAQICAQIEAwQBAgIEBAYDAQUEBgIGAAIEAgYEAgAEAgEDAwIDAQMEAwIDAgIBAgEBAwQEAgMGBAEDBgICAwIDAwIDAgMBAwMCCAEFBAMCBAECAwACAwEDAgIDAQMDAQQDBAECAAQDAwUCAwUCBAMEBAIDAgMEBAUCAQIDBAMCAwIABQAEAAEDAwMBAAEEAAMABQECBgQFBQIBAQQEAwEHBAEBAwEDAgMCBAECAwUBAQEDBQMCAgEEBQMCBAAHBAMEAwQDAwUEAgkEBAEDAQYEBAMEAAMDBQQBAwUCAwIGAgMCBAIFBAMCAgIDBAMCAwUBAQMDBQIHAgQCBwAEBQEFAwQDBAQBAwEEAgMFBAIGBAECBwMBBAMCAwMDBQMEBAYFBQIDAwYAAgQBAwAEAAEEBAMEAgUDAgMCBAMGBQEFAgUBBgQFBAICBwIBBQMEAwcEBgMAAQMEAgEEAAMFAAQEAQIEAgMAAAIBAwECAAQBAwIBAQICAgICAwUDAQQCBAEBAgIEBAUEAwQEAAICBAUGAAECAgUDAQIDAgQCBAIDAgIDAwIEBQIABAMBBAQCBAMGAgQEAQMBAwECBAEBAgIABAMDAwMEAwQCAwUCAwIBAAEEAwQDAwQDBAECBAUCBQIDBAMGAwcDBQECBAUEAgICBAQABQEDBQMEBAcDAgUFAgQCBgEEAQMHAAADAQYEBgQCAwEDBwEBBAECBQMCAQQBBAIDBAQAAgQEAwIDAgEEAgcDAQIBAgMCAAMEAAMDBAQFAgIEAQEGAQICAgMBAwIBAgUCAgECAgQBAQMDBAEDAAQEBQEFAAICBAUBAAEBAQIBAAQAAgQCAQEDAgEDBgEEAQMDAwcCBAICAgAEAgEABAMCAgQDAAMGBQIEAgIDBAIDAgQDAwICAQIEAQMCBAECAwIDAwEBAgEBAAMCAwEEAgQDAAACAQIBAgICAQIBAwQEAgYDAQUDAQQDBQMDAgQCAQEAAwMCAgUEBgIFAwQEAwQAAwIGAgEFAQEABAIDAAMEAQQBBAMAAwQEBAEBAwIEAwQAAQIEBAIBAwEDAQEDAQQCBgQBAgIBAQIDAQEEAgQCAQUEAAICAwMDAgEDBAMBAwUBBgIDBAABAQQEBgMEAQQAAwUDAQEFAQQCAwIBAwIFAAACAgQBAAMDBAECAAMFAgMDAgQAAwMFAwEAAwICAwcDAAICBAADAwUDBAIBAwQCAgMBAAEDAwIDAgIDBQEHAwIDAwIBBgMDAgEAAwQEAwQEBAEDAgMDCAAAAAMCAwICBAMCAQECAQMBAQICAQAFAAQEAAECBQIAAgEDAQIBAwEBAQEBAQMDAQIBBgUCBQIDBQECAwMEAwICAwEEAQECAgIDAQMDBAEAAwEAAAMEAQIEAgMEAwQCAAMBBAACAwEEAwQEAwIAAQIBAwQFAgMDBQMDAQEBAAIEBAQFAgUCAwMFBQMBAQICAwAEBQEDAgAAAgMBAwICBAQCBAMEAwUEAQMDBgQABAYBAgUCAwMDAQECAQEAAQECAQEDAgUAAgIEAAMDAgUEAgIEBQEEAAMEBQIBBQMAAgQABQMECQcEAwMFAQMCAQQFAgQEAgMCBAUBAQIGAgIDBAYEAwECAwMEAwIDAQMAAwMIAwIBBQIDAwIBBgIBBQEHBAQBAwcDAQACAwIBAQICBwEDAgMDAgACAgUEAAIEBgECAQQHAgMGBgUBAQEAAgMFAAUBAQIDAwIEAAUFAAMEAwUCAgEBAgMBAQMBAAADAQMDAwMFAgIDAAMBAgEABgIBAQIBAgEFAwICBQMCAQUCBAADAQICAgQBAwMDAgIEAgQCBQMBAwEEAgECBQEGAwYDBAICCAUFAAcFAwYCAQAFAwQEAgMFBAACBwIDBAIFBQUDAwYBBAUAAwMCAAQEAgQCBAECAwAEAwQDAwMEAQQBBQACAgIDBwICAwMDBQUEAAMCAwICBAQFBAIDBQMBAgQDAwcCBQUCAQYFAwEGAQEIAQACBQMEAAMBBAMDAAECAwMDAgACAQYCAQMDAAUFAgUCAQICAQQEBAUDAgICBAYABQUAAAUCAgQGAwQABQEEAwQBBQUDAgICBAQCBAADBQEDAAEAAgIEBAIEAgUEAgIDAQICAwQEAwQCAwIDBAIDBgMFBgMEBgQGAgMDAgUDAgIEAQMEAgICAQIDAwMFAwICAQUBAQMEAQIGAQEEBAIDBAIFAQMEAwICAwIDAQUDAgQBAwMJAwMCBQAAAgIFBAQDAQQDAQQGAgoCBgMDAgUEAwAFAgUDBQMCAAIEAwEBBAgCAwUAAwQBBgIDBQIDBQEEAwMEAgEBAgMDAgQDAwIHAgQCBAQEAwICCAICAQECAQQBAwYCAgIDBAUCAwICBAYDBQQEAQECAwAAAgQCAAEDBQMABAEAAwADBQIBAwQCAQMEAwIFAQYJAwQBAQAFAQQABAMCBQUBAAQCAAIFBQIDAwMDAgQCAwAFAwQCBAQEAgIBAQIDAQUCAQUEAwQDBgAGBQMBAQIEBgcDAgUEAgMEAwQHAwYEAgQDBgEEAAQAAwEDBwIEBgQEAwQCBAEFAgMBAgADAwQFBAQEAQIDBAMDAQAFAwQDAQUEAQIDBgQDBAAEAgUCBAEFAgUDBAMCAwMCBQQBAgcGAgECAwMBBAMDAwIBAwICAQEBAgMEAwIDAwEBAwEBBAMCBQIEAgIBBQEBAgMDAQICBwMCAwEBBAMBBwUFAwUGAgYEAAQAAwYDBAEBBAACAAECAwUCAwMDAAMDAAIDAgIEAQACBQMAAQIHAgIBAAMCAwMCBQIEBAIDBQACAgQFAwUAAQIBBAMBBAIDAAEEAQACBAIBAwICBQIEAwMDAgIEAQMDAgMCAgEEBwUABQQGAgMABAICAwMBBQICAgICAwMBAAMCBAEAAgQCAQUEAgMAAQQDAgMBBQQCAAUCBQMEAAQCAwMBBAMEAAMEAAIEAwIBAQQCAgQCAwECBAEABQECAwYCAgMDAQUDBAIDAQECBQQDAgICAQICAwQFAQMDAwMAAgQCBAQBBAACAwEGAgECBQcGBgYEAgYBBAIEBgQDAQAFAwUGAwgCAgYJAwUCAgMDBAIGAwQAAQQABAAEAgAEAQUABAIDBQMDAgECAwgBBAMFAgYCAwMEBAQDAwMDAAMEAgICAwYFAgMDAQIDAQUBAQMEAgECBQMBAgQBAQIEAgEAAwIAAgECAgMABAYDAQECAwYCAgICAQUBAwEEAwQCBwMEAwUDAwYBAwEDAgMEBAIDAgMBBAECAgEFAwAAAwQDAQMBAwIGBQIBBAIDAgQCBAIDBAIBBQQBAQMBAgIDAgIDBQMDBQICBAIDBAIEAAICBQQDAQQDAwACAgECAgICAgICAwQCAgMBAgMCAgEEBAEFAQEEAwMDAwIBAgQFAQEEAgEBBAIEAQQAAgECAAIDAwIDAwIBAgYAAgICBQMDAQEAAwIBBQMCBAQFAAUHAwIEAgICAAQDAQQBAgABBAEFAQMABQEDBQEHAwMBBAICAgMDAgEDAwEAAwYBAQECBgABAwIEAQMFAgEBAwQBBAICBQUEAwQBAQECAQUAAQIDBQEFBAIFAwQDAAUFAwQCAAYEBgUCAgAGAgEFBQMDAwQEBAIFBAADAwQAAgUFAgQGAwIBAgQBAgMAAgQGAwIBAAEFAgIBBAIEBAUFAgEBBAUEAQMAAQMHBgMBBQIBAwEGAQIEAwMAAwEABQEGAwQAAgEEBAIDAwIEAQMEAgQAAQICAQQDAgICAAIFBAIBAwEEBQQEAAECBwIDAwUAAwICAgEABAIBAgICAwQDAwADAwMHBQUBAgAAAQQDAwADAwQCAgEDAwUBBgMBBAQEBAIFAQACAQIBBgICAQQCAgEDAQIDAwQDAwMDBQQCAQIBBAEEBAMCAAIAAgUDAgMFAQECAAEBBQUDBQECBAQFAwQEBAICBQcEAwgDAgIEAwIDBQMDAQMDBQMDAwMCAwQEAQQCBAMCAwEDAwUGAQIEAgIAAgMBBQcCAQIDAQICAQMDAQECAwIDBAMCAwMAAwIJAQYFAgECBgMDBAACAgIEAwMBBAMDAQEAAgIAAgICAwgFAwIEAwECBgIBBQIBAgMDAgIDAwIGAgIGAQECAAIAAgIDBwAABAIDAwMCAwUFAgYBAwQCAQEDAQUFAgEBAgMDAQMABQEDAgICAQIDAQQCBAIDAAMDBAIBAAIDBAUAAQQAAQIFBgMCAQECAwIBAQQCBAMCAQMFAgEABQICAAICBAIFAgUBAwIBAgIBAgIBAAICAwMBBAIABAEBAAUEBAEDAQEEAwABAwEBBAAABAEEAQQEBQEDAwUEBAUBAgADBAMCBQIEAQMCAgICAgIBAgUCAwECAwQBAwMCAgMDBAUCBAQBAwEAAQECAQQCAAEFAgIBAQUDBAEBAQIBAQMAAgMBBAAEAAABAwMAAwIDAQACAwQFAQIBAAUBBQEBBAEFAgQCAwEDAgIEAwQABAEDAQMCAgMCBQMDAgEABgMCBwMAAQIEAAQDBwEDAAMDBAUDAwQBAAECAQUBBAUEAgMBAgAFAQIBAgUBBAAEAgMDAQMDAQMEAwMBAwMFBAMCAQIBAgIDBQEFAwYFAQQCAwMCAQUDAwICBQEBAQQFBgUBAwEEAwMEAQMAAwUABAUCBAABAgIBAwICBgUDAgQDBAICAQECAQUDBAMEAwQBAwQDAgIBAgAGAgIEAwIEAgEGAwECAgUBBQQDBAMAAwUEAwUBAwMDAwMBAwMCBgIDAwQEAwUBAgMDAQMGAAQEAgIGAAIFBAECAAICAAUCAwECBAAAAwADAgQFBQIDAwICAwIDAAMEBAIBBQIEAQMEAgADBQIDAQICAQMBBAABBAICAwMBAQEDBAIDBQMDBQUDAQEFAwIBAgQDAAICBAUCBQMDBQQAAQYCBAUEAgIEBgABAwQEBAMBBAMDAwIAAwEDAQMDAwEFAAQFAwMCAwADAwIDAwQBAQMEBAIBBAIBBAMEBAEFAgEDBQQBAQIEBAMEBQMDAQICAQUDBQEDBAYCAgQDBAEDAgYEBAECBAMDBAIGBQMDAAMEAQECAwEAAQQDBAYGBQMFAQECBwQDAgIBAAEIBgQFAQECAgMFAgcCAgQBCAUDAwkBAwUCBAIEAwAEBAUDBQUEAAIEAgEEAgUDBAIDAgUBBAUDAQQEAgAEAgMHBAUABQAGAQMFAQEDAwIDAQIEAwcDBgMCAgQFAQQCAgEEAwQDAwMDAwMDBgECBQIGBAMCAwECBgEECAMEBAIBAQEBAAQGAgQFBAMFAAICAggEAQYCAggEBAUCAwIFBQUCCAUEBQMDBQQFBQQGAAICBAQDBAMCBAMEAwAFBAQBAgAEAwEFAAIDBQMHAgICAwMCBQQCAgMCAQMBAQYFAwMFAAUFAgIDAgIDAQABAgMAAwICAwMCAgQFAQADBQYDAgUCBAIAAwQDAQIDAQMCAwIEAgIDAgICAgIDBAEEAQYCAwUCAQAEBAQDAgMBAQQBAgEBAwQDAwEFBAECAwMDBQADBQMEAgMAAwMABAMDAgIBAwUBBQECBAQDBAMBAgUEAgACBAIBAgUBAgICAQMCBAUDAgEFBAUDAQEEAgMDBQIEBAQBBgEDAgIABgIDAwEEAgQEAwICBgEBAwMEBQIEAwQCAgQCBgMCBAIFAgQEAgUEAAEDAgIBBwIHBAUDAQQCAgIEAwIDBQMDAgcEBAICAAIEAQMEBAEFBgEDAAEEAgMBAgMEAwQCAAACAwMAAgQDAAEEBQMBAwMEAAQABQMCAAcFAQIGAwMEAQIDBQMEBQUGBAQBAwUEBAEFAwUBAgMEAQUDAgIEAwMDAwQFAgIDBgUBBAICAQIDAgMBBAQAAQIDAQEFAwUCAwEDAQIDAQUBCQAEAwIABQIBBQQGAwMCBAEEAgQBAgAFAgQBBAEDAwACAwABAgEEAwEAAgIBAAIDBQEEBAUEBAIDBwMCAwUDAwQEAQQCBAIFBAMEBgMCAwUHAQQFBQMCAwIBAQEEBAMBAQEDBAUEAQEBBAMCBAMEAwICAQQCAAMAAwUDAgMBBAICAwIBAAIEBAMAAAMDBAIFAgIFAQMDAQMDAgQEBwUAAwIDBwIDAQYDBQMDBAIFAwQEAgQEAgIBBQQBAQMAAgEEBQEEAgEBAgEDAwMDAwQFAwIEAQMCAgIBAwAFBAIEBAMFBQADAgUAAAACAQIDBwIDBAQAAwIAAQMAAgQFAwIDBAUCBAECAwMCAwQEBAIDAwMEAwMCBAQBAQICAwUBAgMBAQYFAQICAgMCAgICBQIDAQIDBwEDAwUDAQAEAwEBAAIEBAIDAgIDAwMDBQIBBAMABAQDAQEBAwMEAQQCAQEGAwMBAwQDAwYEAwADAgQABAYDBAIGBAIBAQEBAQMDAQMAAQIDAQQCAwMDBAMDAwMBAAICAgEEAgMBBgEDAgMBAAQDAgQCAwMBAQEEBQIABAYCAwEABAQDBAMBBAMDAQQCBAMCBAQBAQcCBAABAwUBBAQEAAIBBQYDAwEDAAQEAQIBAgMBAwQDAwMEAwEBBQYDAwMCAgEDBQYDAgQDBAIBAwMEAgUDAgUCCAUCBAIBBwMDAQUBAwIFBQIBBAMBAgMEAAEABgMCAAIEBAYBAQMCBQEBAgYDAAMEAgQCAgMBAQIBAgABBAIEAwEFAQUBBAACAgMBAQQAAwMDBAQEAwMDBAUBBAUBAAEBBAMCBQQFAgACAwUFBQICBQEDAgEAAAQBBQEEBQIBBQIDAwICAwIECAECAQIDAAICAwUCBQIDAAEDAgMAAgIDAgEEAwUDAwMCAwQCAgECAgEDAQYBAQMCBQICAwAABgQCAwMAAgMGBAQIAAEBAQEDBAEAAQYHBQABAQECBgQCAwAFAAUABQEBBgMCAgQBAgICAQMEAwEAAgUDAwMCAgECAQIAAwAFAgEBBAMBBAQAAgQCAgMDBAUCAgUGAgYDAgMFBAMAAAUEAwMBAwQDAQMCAgIEAQEDBAEBAwQDAwEBAQICAQMDAwECBAIEAwIEAQUGAwQCBwQDBAECAAMAAAIEBQEBAgEDAQQEBAQBBgIBBAAEAQQDAwMDAQUGBAMEBAUEAgIFAQAGAwQDBAICBQEDBAMBAgQEAgMDAwEEAQMDBAMDAgUBAQMBAgEDAgIDAwMFAQECBAICBAIBAAECBAAAAwYBAwMAAgMDAAIAAgIGAwEAAQMCBQQAAAUBAQEGAQQEAwIDBQUDBAACAwEAAwACAAIEBAIBAQQHAgQEBQACAQIEBAUAAQQEAgEEAwYBBQECBAMCAgMDBAADBQEEBAIABQUFAwEBAQMEAQUCAAMBBAUEAwIBAgADBAMEAgIEAQEAAgMBAgUAAAQGAQQDAwECBggEAgQEBAQDBAEDBQABBAIAAgIAAgMDAwIBAQIEAwIDBAQFAQUDAwACAgECAwIDAwEBAgEEAQIAAgcBAQIFAgIEAgMDAQcGAgUCBAICBAADAgICAQIDAwUFBQEBAQAHBAAFBQICAwYCAgIBAwUGBAUBAQQDBAUDBQQBBwQFBQYDAwMCAgQCAQQCAQECBQYDBgMDAgIIBAYFBAQDAwEBAwACAAECAQEDAQIDAQMCAgQCAwQABQQCAwMEAgQAAwEEAwYDAwECBgQCAwQFBAMBAQUBBAUEAQACAAQBBAYEAgQDAgIDAgACBAQDAQECAQACAgIDAwQDBgMEBgUFCAIBAgEDAwYEAgUDAQECAwUBAwMABAQCAwICBQIFAgIDAwUBAwICBQADAgEFBAIEAwABAwMGBQEDAwIDAgQCBQQFAgQCAQQEBAMCAwYEAwIEAgUCAQMEAgQBAwIDBQECAwIDBAUCAwMDBAEDAgUCAgECAgcCAQMCAQMBBAACBAUCBAMFAQECAwECAQEEBAUDAwMDAgECAQICBAMEBAMAAQIDAgUDBQEDAAEDBAABAgIBBAQHBAQEAgMCAwIBAgMCAgMDAgIFBgQBAgUDAQMEBwIBAAMBBQEEBgMCBAQFAgQEAwMGBQEFBQEDAQQDBgQDAwYCAQIEAwIGAgUGAwIBAgEDAQQDBQMCAwUFAgMFAwUDAwEGBQQFBAUBCQIDAgIDAgUAAgAFAQUDAgECBgICAgYDAwUFAwICAwUEAwQBAQQCBQMCBQQEBQMFAwMCBAMEBgMCAgMCBgECAwYBAQEEAQMCBAADBgEDAQEBAwICBAQDAgMBAgECAgIBBQIEAwEDBAICAwMDAQEAAgMAAgIDBAADAgMFBQIDAgMBAgQDAwMCBAICAwQBAwMBAwUCBAICAgQGBQMDAwQCAgEDBAIDBgYGAQQDAgcEAgYEAwQFBAIFBAQCBAEDBAQCAwUDAQQCAQABAgEBAQQAAgIDAgMAAwUAAgMDAgEBAQEDAAECAgEBBAQBAgMCAAECAQIDAwMDAwUABAMBAgECAwUEAgMAAQECAQABAwIAAQMDAQICAgEBAwICAgMBAwIDBAECAQABAgECAgMCAQMCBAQCAgQFBQAEAQMCAgMDAgUEAwIGAAADAwMFBgMAAwEFAQIBAQMDAgQDBAEBAwIDBAMCAQQEAQECAgYDAwQBAQMBAwQFAwIAAQIFAwICBAACAgYABAEBBAEFBAMCBAYEAgMDAgIEAwYDBQQFBQICAgUEBAECAgYCBAEBBAMCAQMBAAQBAwICAwQEAwIDBAQEAwMCAwMCAQUCAwMBAgICAwIFAQQCAgIEAgIBAgIDAAIDBAAAAQAEAAABAgICAgIDBQUEBAAEAQACAgQEAQIHBAIDBQgCAgQDAgQCAQQDAQYCAgMCAwIDAwUDBQYFAgQFBQUCBQEGAgUDAgUDAwIGBgcDAwMCBQcFAQIFAgIBBQIEAwQBAQQFAQUCAAEFAgYCAgIEAgQDAAQAAwEDBAQDAAUGAwICBQMCBAEEAwMEBAQEAQMBBQQBAQMDAgMBAQQBBgIEAgQCAQUCBAMEAQQDAgUCAwIEBQcCAQEFBAQGBAMBAwMEAwMEAAUDAwMDBAIEBAECAgIEAQIEAgMFAQQBAgQDBAIDBwICAQYBAgQCBQIBBgIDBAIFBAIDBAEDAAICBQICAQQHAwMCAgMBAgQCAwIGBAMDAgECAwICBwQFAQUCAwEDAQIDAQIFAwIEAgABAgIEBQIDAgIDBAAEAgMGBQQDAwECAQEAAgMFAAQEAgUBAwAAAwEFBAQABAUCAwICBgMCBwABAgEDBQMDAgQEAwMDAwQDAQMEAgUBBQICAgMEAQQBAAAEAgIEAAEEBwQBAwIDAggBBQIAAgACAAYCAwMBAgUCBAMCAQIBAwUEAwADAgEAAQMDAgQCAQIFAQECBAAEAgMEAQAFBAABAgYAAwICAgEDAAIDAQIDAwIEAwEDAwIBAgUCAgMDAgMEAgEDBAEFAQIBBAACBQQCBQIDAQQBAQQDBQECAgEEBQMDAQACAwABAwIBAwIEAgMDAQQCAwECBQIHAgEEAwIFAgMCAQUBAAMCAQMDAwYDBQEDBAMCAgACAAMBBAEBBAICAwEAAQABAAMCBgIDAgMEAwIBAwIEAwUDBAIEAQEDAwMCAwICBQIBAQECAwUBBAQFAgMCAwICBAMAAQECAgQAAwEBAgMCAQEEBAEEBQIEAgQABAMAAgIEBAMCAwMCAwMCAwIBAQYDAgQCAQMDAgQBBAQDAwQCBAQDBQEDBAACAgMBAgEEAQMABgMDAwIEAwQCAwABAQEDAQQCAQQGAwIBAgEFAwEBAAMEAQECBQQBBgQBBAIAAQUCBgIEAgIFBAEHBQIAAQADBAICAAIEAQIEAgAAAwEFAwAEBAIBAQMFAQIDAQQEAgMFAgUCAQICAwECAQICBAECBwIDAAMCAQIABQYCBAQFAgMAAgQAAwIBBgICAwABAgMCAQMAAwQBAgMAAwEEBAYAAAEBBwIEAAQEAAIBAgIEAwMBAgMCAQMGAgQBAwMBAAQEBAQCBAEEAwMCAgMBAQEABAQDAQEABgIEBgMEBQMCAgcHBAIGAgIDAwMEBAICBQMCAAICAwIFAgMCAgACAgEAAgMDAAIFAwMBBQUDAgcFAgQCAgQEBQQDAwEBAQICBQEDAwIDBwMEAAIFAgIEAgMAAQIDBAEDAgADAgABAwADAgUBBQQEAgEAAQMCAAUCBQIDAwEBAgQDAwQCAgQCAgcDAwMEAQEEBAMBBwIEBQEEAgIDAgQDAQEEAAgDAgQDAwUDAgIEAgABBAMCAQQFAQYBAgUEAwQEAwAEAQIDBAEGAgIEAQMFAQICAwICAwUABAMEBAMCAwQBAgMDAwUDAQUDAgEEAgEFAwQBBAQBBAIFBgIBBAMEAgEDAQEBAgECAgECBQIAAQEABAUCAgUEBQECAgMABgEEAgIEBQUDBAQEBAEFAwMDAQQDBgMCAgEFAwIFAwIDBAUGAwEEBAMEBAIBBAMAAAIFBQIEBQMEBQMFAwQEAAMBAwMEAwEBAQQBAwQEAgMGAwUDBQICAwQDBAUEAAQFAQUGBQMCBAEFBgADBAECBQMFAQMDAwMCAAMFBAQAAgICBAEEAAMEAwIEBAkEAwYDBgEBAgUDAgQCBAMCAwEFAgMGBAQBAwECAwIEAQMFBAMDBQMDAgQAAgMFAwEDAAABAgICAwcCBAIFBAYEBAECAwIBBQMCBQIAAgUDBAcDBQIDAwIGAwQCAwMCAgcEAQQDBgMEAwIFAgIGBAICBQYDBgMCBQYFBQECAQIEAQIEAwEEBAMEAAAEBAICAwIGBAMAAQEFBQIBAgACAQIAAAEDAwcEBQMABgMEAQMEBAMAAgUDAgEABQQAAAMBBQIAAwMEAwYBAwQCAwQDBgICAQQFBAUCAwIBAQQCBAMCAQMDBQMEBQUDAwMEAgMBAgMEAwEEAwUBBAYEAgEEAgQEBAACAQEBBAUCAgAFAgICAwQCAQMHAQECBAEEBQMBAwECAwQEBQQFAQQDBgYBBAMEAwEDBAMCAwICAwMCAwICAwQCAAIAAQYFAwEBAwMDAQUDAwMBBAIEAQEBAQIGAQIFAgMDAwMCBAYCAQMCAgMCAQMEAgABAAMCAQUCAgMAAQIBAQECAAECBAMDBAMCBAUCAQECAAICBQUFAgEBAwAEAQQCAgICAQQBBQUDAwEEAwIDAwEFAgIBAwQDAgUBAgYCAwMBBQIDBQUDAwAFAwMEAgICAwMDAgEDAgICBwEFAgEEAgQCAgQAAgUEBQECAQQABAUEAgIHAwYDAwEEBAQAAgEEAwMBBQQGAgUCBAQCAwEBAwMEAwEBAwEBAAEFBQIDBgAEAwUEBAQAAwIABAQDAQMEAgMAAQQEBQQABAMFBAIDBAQBAQACAwICAQYCAgMEAgMBBAMFBQQCBAQCAgIDAQIABAQBBQQFAwYEAwEFBQIDAgIDAQYCBAAEAwQDAgEDAgQDAwIDAwMCBQIAAgIDBwEDAAIDAQAGAwMAAwMFAgEBBAEDAAUCAAIBAwICAQUCBAAGAAQBAgEBAwEDAwIDBAEBAwECAQICAAEDAQEDAAEBAQACAQEFBAIBAQUCAAECAQABAwQEBQIEAwMEAgUEAQECAgQAAgICAAQFAgICAwEEBQIFAwIBAwMDBAMBAwIFAwICAQMCAwMBBgEDBAMDBQMDAgABBAEDAgQCAwMCAAICAQIBBAAAAQACAAIAAwECAQEDBgQCAQIEAgACAQQEBQEBAwMEAgEAAQECAQEAAwQBAgIDAAMCAQEBAwEBBAYDAAIBAwADAgEAAwMDBAQDAAQCAAMDAwEBAAMBAwMEAwMEAQEABgIDAAQCAgEBAQEBAQQCAAIBAQECAgIFBAMAAwQEAgEEAgUBAwYBAgEEAwUCAQcDAwADAQACAQUDAQIBAwMCAwADBQIDAgUBAgIBAgICBAIEAgADAgIAAQIEAwMDBAEEAwEGAwMEBAICAgEDAwAEAgEBBwQDBAMFAgEDAgIAAwMDAAQDBQIEBgMFBQQDBAUDBQQFAgUBAwICBAEFAQEEBgQCBgEFBAQDBQICAwUEAgEDAQECAQIEBAIEAQIFAQQEAgMEAAQFAwAEAwMEAgMAAwEDBAUEBgYCAAQCAwMCBQUBBAMDAQMGAQIEAgICAAUCAAUCBQMBBgQHAQMEBAQEAwMDAgIFAgQBBQUCBQAEAgQCAwYDAwQAAAIEAgQDAgIBAgMDAAUCAAIGBAEAAwECBAQDBAEBAQIAAAICAwIDBwECBQICAgQDAAQDAgQEAgUDAwIABAIABQIFAgAEAgMCBQQBAgQCAQMDAwMAAAMDBAUBBAUCBQEDBAMCAgMFAgIDBAUBAQQBAwEDAgEEAwUGAwUDAQEBAgMEAgECBAMFAwQCAwIEAgQCAgYABAMGBwQCAgMFAQUGAQIGBQIDAgMFAgEEAgYCAgQBAwQEAgUEAAIEBAQABAMFBAUEBAICAgQBAQQCBAUCAQMEAwQBBQQBBAUFBQMFAwMBAgEAAQEGAwIDAQQDAQMDBQYFBQEEAwMBBAADBwMAAwQCAgMFAQIFAQECBAQEBAECAwEDAwICBAEEAAMDBgMBAgECAwMCAwEEAAECAAMCAgICAQIAAQMFAQEDAwEFAgUCAgIDBQEDAgUAAQICBAIEBAABAgECAQQCBAQEAwUBBAQEAQIABAEFAgEAAQEEAQICAQEEBAMGAgMCAQEDAQQDAwIDAwICAQQGAQICAwMGBAICAgEEAwEDBAMCBgEAAQMDAQECAAUEAgMEBAIBAgMCAwQCBAIGAAEEAwACBAYBAgIFAgACAgMBBQUAAwUDBAMEAQIEAQAFAgMCBgQDAwECAwYDBAIDAgECBAEAAgQEBQMDBAIBAAICBQQABQQBAQIBAwQDAQEIAwECAQQFAwEBAgcEBAQEAQABAQYCBAMBBAAFAgIEBQEEAwIFAgMDAQMBAwIBAQIHAwEEAgEEAwEFAQIGAgMEBgEEAwMCAwIGAQMDAgYCAgQEAgIAAgQCBAIEAQYDAgMAAgICAAIEAwUGBAAEAgABAwQBAwEDBgQBBAMDAgQEAgEDAQYCAwEBAgIGAwIDAgICAgMFBQQAAQMCAAIDAgMEAgICAwMEAgQEBAYFAgICAwIDAwIDAAMCAgMBAgECBAAEAQAFAQICAQMCAAMAAQEDAQIFBAACBQEFAgEDAgQCAQEBAgQDAwECAgMCBQIBBAIDAAECAQECAwECAwIDBAICAQQDAAQDAwEDAgMDAgkCAwQBAgEEAQMFAAMGBQMEBAMHAwMDAwUEAgEEBAAEBAIDAwMDAwUCAgIFAgMBAQMBAgACAgIDAwMEAgQDAgIBBQQGBAECAwcDAAEDAgEGBAIFBQQBAwIDAwIEBAMDAwIDAQMEBQICAgMFAwYEBwQCAQIDAQMDAwYFBAUCAAUCAwIEAwQBAQEBAwECAgUDAwQDBAMCAwMCBAQBBQADBAQBBQMCAQIFAwMFAwIEBQIFAwEEAwIFBgQEAwAAAgUDAQAEBgMCAgUGBQYEAwQBBAIEAQECAwICAAMHAgUCAgMDBgQEAAQCAwEFAwIBBQQCAwMBAwMEAgMCAwMCAQIBAgQDAwQCBgEBAgUDAgECBQQEAgIEAwcBAQECBAcDBAQDAQQCAwMFAQUCAgIGBQUBAwICAgQCBAMDAQQDAwYABQQDAwEEBAQDAwACBAACAAIBBAICBAUBAQcEBQECAwECAgMBBwAABAQDBAUBAgMBAwICAgMDAQIEAgMCAgEABwEBAQQEAgQCBAUBAQYFAgMDAwMIAwUEBAYAAgMEBAEDBAIDAQADAwMDBAEDAwMAAQIGAQICBwMCAgIFAAIAAgQABAUBAQEEBQQFAQUBAQYAAQABAwICAwMBAwEDAQIEAwYDBAADBAEEAwMDAgUCAQIBAgECAwAGAgcDAQUCAgQDAgEBAwIDBAIBAwMDAgQGAgQBBQQBBAQCAQUBAgIEBgICAgICBAACBgMCBQMDAQMBAgQABgABAwQCAwQBBAEGBAQAAQMEAgQDAQMGBAYDBQQCAAMDAgMHBgcFBAIDAwUDBAIDAQICBgIBBQICAgIFAQYFAQEDBAEDAQMCAQQHAgACBAMCBwEEAgIEAgcEBAUHBAIBBQUCAgIEBAYBBQEDAgICAwIBBAIDBQMEBAIDAwMDBAIFAwEFAgUCAwUCBAQEBAMDBAUBAgEEAwUEAgAFAQEEBAMDAgYDAQAFAQQEAwIDBQUGAQICBQQDBgUDBQQCBAQGAQQABAQCBAEBAgUAAAEAAQMBAQADAQUEAgECAQQDAAADAgEDBAMBAQEDAQEEAwMBAwADBAUCAgMEAwQEAwMBBQMBAgQABQMEAgUDBAMCAwEBAAMHAQMCBAMBAAEEAwIBAAUCAwEFAwUFAgMFAgQCAwYCAgMCAAQEAgQDBQEDBAUBBAIFBgYAAQABAwICBAEBAQMDAgADAQMDAwIEAgEDBgMFAwEFAgMFBAICBQIBBQQIAgQEBAMCAgICAQUCAQUFAQMEAQUBAwQCAgUCAwQCBQMCBQIBAAUBBAUGAgIDAgIDBQMDBAQAAQIDAQIFAgMCBAUCBAEFBAICAwMDBAYCAwIBAwQEAwQAAwQCAwEFAQUDBQMCAwAEBQEGAQICBAMAAwMFBAUDAgMCAAEAAAQBAAADAQQDBAEDAwEEAgMABQICBAEBAgEAAgICBAEBAQQABAEEBAIDBAYDBAUCBAMDBgUFBQECBAMFAwEAAgcBBAMDBQQCCAIDAQEFAgQCBAMDAgEEBAADBAEEAwQCAgMCBAIEAgECBAECBAUBAwMCBQQDAwIEBAIAAQEDAgICBAIBBAEGBgQCAQICAAEFAQIEBAMAAAQDAgIBAwICAgACAgMGBQQFBgMDAwECAgIDBAQCBAMEAgQEAgMDAgMGAgADAQcBAgQBAQIEAwQCAwMCAwMCAgYEBQIABwQFBAECBAEFAQIDAgABAgEDAQYEAQUBAQEEAgECAgMEAwMCAQMEAwEBAgABAgQEBAUCAgMCAgADAgYAAgEDAQEEAwEEAgEAAwMEAgEEAQYEAQQDAAMAAQYCBAICAwIDAQMDAgQEBAMBBAEDAQUBAQACAwMDAwEDAAICAQEEAgQBAwEDBQUFBQMAAgEDAgIEAQACBAQDBAIAAQEFBQEFAQEGAgIFAgMBAQIDAwQDAgECAgIDAwMBBAECAgICAgIDAwEAAgQDAQIFAwIDAgUDAAQDAgIBAQEEAgQCAQEHAwICAgYFAgEDAgMCAwICBQUBAgICBAQBAAYBBgQBBgAFAgABBgEDAgEBAwUCBQQFAQMDAQICAwEABAIFAwIFAwEDAQMCAwECBAUEBAUCAwICBAUAAQQDAQQGAQIEAgEBBAEEBAYBBAMFAgEBBAMBAwQBAwEHBAMEAgIBBQMABQQHAgIDBAABBAMBAQEEBAUCBAIEBAQBAwUDAgEDAwQBAgQABAMEAAEHBAMDAwMGAwIEBQQBAAIAAgUFAAICBwUBAQMFAgQCAgACBAICBAMBBQYGAQQEBgIDAQADAQICAwYCAQQDBgEDAwQDBQMCAgACAgMDAwIFBAEGAwAEBAUDAAMBAgICAwEEAQMCAQQDAQMDAQQDAwMCAwMCAwQDAgAEAQIBAwIDAwMEBQQCBAIEBAUBBQQEAgYDAwMDBAMEAwQBBgMABQEGBgQCAwMFAgUCAgECAwIDAQIFBAEEBAQDAQMDBQMCAgMEAgMFBAIEAwYBBAUEAwEEAwQEAwMBAQIDAQEFAgIBAQIBBAEDBAIEAQUFBQIDAgEDBAMDAQECBAECAgIDAQEDAwQBAwUDAwIGAQMCAAIFAwIBAwMDAAMDBQIEAgMDAwMDAgIBAAICBQIDBAIDBAQEAQIEAQMDBQABAwMAAwIEBAcDAgABAwEDAgAEAQIBAwECBAQCAQUHAQEBBQEDAgIBAQEDAgQDAgACAAIGAgICBgQBAAYDBwAEAwICAgYEAQECAgEEAgUBAQQBAwIDAgICAgQBBQUCBQIDAwMCBQMCAgABAgQFBQUGAgAHAwACAQMDAwEDAgEEBgUCBAQDAgQFAgMEBAQBBQEBAAICBAMDBAQCAwIEAgIEAwIDAwEDAgUDAwMBAwMAAwQFBQQCAQIBBAMDAwACAwMGAgkCBQABAQICAgICAwIFBAEFBQQCAgEBBgIDAgIFAgMFAwQBAQMDBAQFAgIBBQMCAwIEAgEDAgEDAQECBgUCAwIBAwMCAQQDAgECAAABAwMBAwIBAwMCBQUFBgECAgMGAgMCAQQCBAMDAgYEBAICAQABAwQDAwMEAwcFAQMGBQEEBAMBBAIFBAUDAgICAgECAwEAAgEBAQQBBQMCAQEDAgEDAgICAgUCBAQCAgMBBAQCAgICBAMBAQMAAQQDAgQDAwEEBQEDAQECAwUEAQQDAQQEAAMEAgEDAQIDAQUDBAIDAAIBAQEEAQMDAwABAQICAAIEBgMAAwICAQICAQMAAwUBAAEFAgEDAgEHAwIDAAICAgEBAgUCAgMDBAUFAQIDAgMABwEHAwAAAAMCAQUBBAMBBQIBAQMFAgUDAQIBAwACBAMBBAQCAgADBgMDBQICAQIDAwUFBAUEAgIDBAEFAwUDAgICBAMCAgEEBAYEAwMEAgIBAgEBBAEEBQMCAwIDBQICAgQDBAEBAAUBBgICBgEABQMBBQIFAgEIAwUDBAIBBAIBAwQGAgMBAwECAAEDBAQCBAAFBAQDAgMEBQEAAQQEAgQDBQIEAwYCBAEFAwEDAAQBAQQBBQQEAgIDAwMFAAYDAgEDAgMEAAYCBAMCAwQDAwQBAgIDAgEDBAQCAwIDAQQFBQIDAwQDAQMDBQEHAAMEAQUDAwIDAgUDAQMDBAcFAwIEAwEEAQEFAQQCAQMDAAADAgIBAQUEAwIDAgUCBgUBAwICBAMEAwYDAQMBAwIEAwEFAgEDAgMCAwMGAgEBAwEFAwMBAQECAQMAAgMCAAADAQMDBAQBAwQBBAICBAICAQQEBAMCAgIDAgQEBgICAQUBAQYCBQEDBAUABgQDBAQDAQQCBAEDAgMCAAMDBQABAgICAwECAwQEAwICBAEABAQBBAECBQMBBAIBAAIBBQMAAgUFAgEDAgQFAgQFAgYDAwYAAgEGAgQBBAYCBAIGAQMFAgQEBgAHAwUFBQYFBAEFAgUCAwABBQEDBAIFAAIDAgUBAwUCBQEAAwIDAAMFAgMFAwQBAQcFBAIEAwMEAgYCAwICBQQEAgIGAwEEBgMCAgMABQMBBAMAAwIFBAIDAwQBAwIEBAQEAAICAgMABgQCAwIDAQMDAgMDAQEBBAIDAQQCAwMCAwAEAQECAwMCBQEEBQIBAAEBBAEFAgICBgMBAAUEBAMFBQQEAwEEBAMFBQUCAQMEBgEDAgQEAAABAQQBBAABAwQAAgUCAgICBAEEAQIFAwUBBQMCAwEDAwQFAwYCAgEDBgECBAECBgQEAgQEAgQEAgABBAEDAgYHAgMAAwICBAIBAAQGAQEDAwEABAIBAgMCBAMFAgADAgMBAAQDBAQFBwIDAwMEBAEAAQECAwACAQAEAwEDAgUCAgQCAwEBAgECAwQAAQQBBAUGAQAFAQIDAQQBBQICAwMBAgIFAwQEAgIDBQICAwEGAgMCAAECAAUCAAIABAQCAgACAgMCAwEDAgIEBAEBAQMCAgICAgUFAQICBAEDBAIBAAAAAgACAQQDAwIDBAYDAgQDAgMFAQMDAQQCAAMDAAIEAwEDAwMGAgEGAAMFAQEBBAIEAQQBAgEFAQEBAQUDAwQCAgIBBQEDBgECAwQBAgIDBQEAAgIEAgIBBAUCBQQFAAQEBgMHAQICAgQDAAUCAgIHAQUEBAMBAwECBAIFBwIDAgUCBAMEBAcEAQUGAwIDAwMFBAMDAwQDAwMCAwMCAgIDAgIEAgQBAAQBBAADAwUAAgICAQMEAQYABAEFBAIEAAQDAgICAwIDAgMGAwUCBAQDAQECAwIEAgMBAgQDAQICAwMABQECAQUEAQEBAgUBBQEEAQMFAgECBAMGBAMCBAMEBAQEAgICAwUCAwMBBAIBAQIDAQMCAQMCAQABBAAEAwECAgECAwIAAgIEAAEDAwUDAwIDAwQEBQIFAQMDAgMBAwQBAgUBAwQAAQUBAQEBBgICBAEGAQQCAgACAQIEAgQCBQICAAQCAQEEAgICBAMCAQIDAwECAwIDBAMAAwQDBQEGAAUAAQQEBAMFBgQEAgMEBgQBAwIGAgYFBAICAwIEAgUDBAEBAQYDAQMAAwMCAQIAAQECAQECBAEBBQQBAgQBBgMBAwEBBAIBBAMEBAICBAMDAwUDAgEEAQUCAwIDAgMBAwIEBgEDAwMFAQACAgEFBAECAgIAAgQDAgQDAgMDAQMBAgIFAQMDAgEBAwIBAgEFAwMIAwIDAwIDAQEEAQQFBQcBAQIBAAUCBQACAQABAwECAwICAQQCCAIDBAMEBAMDBAIAAgMABAQDAgMDAgEEAwoBAwIIAgQDAgAFAQUDAwQEBgMEBAMHAgQFBAMABAIDAwMEAAMHAgMGAwEDAAICBQIDBwUAAQIDAgQDBQIDBAIBAQMBAQIBBAIDBAMBBAIEAwQFAQEDAAECAQECAgMCAgIDAQMDCAICBgMBBAEEBgEEBAIDAAMBAQUDAwABAwUEAwMAAwEGAwQDAgMFBQMEAgMFAgEDBAEFAwEEAQICBQcCBQIDAwUEAwQCAgMAAwQAAQMBAgQBAQQAAwIFBgQDAQEDAgEEAgUEAAIGAQQCAwEEBQQFBQEFBQYEBAIFAAIEBAICBgQDAAQFAwIDAAIGBAAEAgADAQABAQIDAAQCAwMDAgMCAAMEAQMDAQEAAAIDAgICAQIBAgQBAgICAQAFBAECAQIAAgIBAgUAAQEAAwMCAAMBAwIEAQIDAgIEAwMCBAUCAwADAQACBgIDAgQDBAEDAgMCAgMBAgMBBQIBBgADAgMDBAEDAwYABQQBBwADAgQGAwMBAgUDAgEEBQMDBAIEAgEBBAEBAgYCAQADAwMDBAQBBQIFAwQCAAIDAwEDAwADAAICBQEDAQMEBAEAAQEGAQQDAwQABAMDAgYBBgIAAwADBQECAwEDAAMFAQMCAwIBBAEBBQUBAgEDBAEDBAUAAgQHBQIDAwMEAgACAwQCAwIBAQIFBQYCAQIGAwEDBQIDAQMDAwIDAgEEAgMDAwIDBAIHBAQCAAEBAQUGAwEEAQQCBAECAQcHAgIDBwQCAwMEBAMFAgQDAgUCAgAFAQQCAwIDBAEEAwECAgECAAMCAQQBAwMEAQMCAgMBAgADAgIEAgMBAgIGAgMHBgQDAgMCAQMBAQIEAgcBBAADAwcCAgICAQMDAgECAwQEAwMAAAADBQcBAQIBBAQDBAIBBAQBBAMEAQACBAIBAQMCAAQEBQMBAgICAwMDBQEAAAYDAgACAQQEAQMDAwQBAgICAAUAAQQCAQYBAwMCBAYDAQMFBAQBAAQCAgABAgIDBgMEAgIDAwMFBQQCBAcDBgIFAwIHBQMDBAUCAwUFAQYEAwIGAAMFAwUGAAMBAQcCAgECBAMBAgIEBQAFBQQDBAMEBQQDAwMCAwAFAwQFAgMCAgMCAgEBBQIFCgECAgUCAQMDAwIEBQEHAQUAAQMCBQEFAQIAAAUCAAEDAAMEAQIEAgAEAgQEAQEDBAYCBAECAwECAgECBQIDAwEEAwIEAgICAAUEAwIDBQMCAQACAQIBBAECAgIDAwIBAAICAgQBBAECBAMFAgEDAAMEAQMDAAIAAAIEBgQBAwIBAQMBAAEEAgEDAwEDBQECAQUCAgMDBQIFAQMFBQAFBAIEAgEGAgECBQACAgQBBgECAgIDAAQDBAQEAgIABAMEBQIEBQQFBQUBAwMCAwUCAgMDBwMBAQMBAQcBAwEDAgMGAgIFAQIDBAECAAIDAgICBQMDBAMCAgQCAgQFBAQGAQEBBQQEAwQCBAMDBAQGAwAFAQQCBgMDAAUBAgQEAwQDAgIDBAEBAwIEAgMEBAUCBwEEAwUCBgUFBQUDBAMHAgIFAQMAAwMEAgIBBQECAgMCBAQGBgEFBQIEBgUBAwAEAgQEBAQDAgICAgQCAQIBAQUDBAIDAwICAwMEAwQAAQMFBAEHAQMCAgIBAQECAgEDAQEEAwICBAICBQQBAQMDBgQCAwIBAAUEAgYCAwYDAgUFAAADAwIDBgICAAIBAgMEBQMEAQEDAQMCAQIBAgQCAgMCBAMEAgYBBAQEBAQDBAIDAwIFAAMCAgUDAwMEAwYEAQQBAQMAAwADAgQBAQUDAAEDAgIBAwAAAQIBAwMBAgQCAQYCAQMEAgQCAwAGAwYDAwAEAwMDAwADAQMEBQUCBQQCBAEDAQIGAgQDBgUIBQQHBAABBwEEBQMEBgIBAwgEBwUAAwQEBAIEAwQEAQIDBAIBBQQHAwMDAAYEAwEDAgEEAwQHAwICAwQDAgACAwQCAgADBAMAAgIEAgMCAgQCAgIEAwQEAQQDAwICAQQGBQIABQMCAwUEAQMEAgQDAQQFBAEEAwMBAwQBBQQBAQACAQIFAgIDAwIDBQMDAQEGAQEBAAICBQEBBAQDAwQDBAQFAgMCBAEDBQQCAwIGAAQCBAMBBAIEAwMDAQMFAQIGAgQCBAIBAgEAAwIEBAMBBAMEBAIEAwEEAgYFAwYDBAAEBwEBAQYDBAEEAQQEBAMBBAMBAQQCAAEDBgICBAUABAIDBAECAgQBAgEBAwUBAwIDBQEEAwMEAgUEAgIABAMDAgADAwYCBQUBBgAEBAQEBAQCBAMDAQEDAgYABgEGBgEBBAQEAAICBAECAgICBgQDAwUFBAMEBAQCAgQEAQMBBgUDAQEHAgMEBQECAQICAwQDAgUBBAUEAgMDBQQBAQUCAgQCAgMCAAACAAADAgUBBQIDAwQBAwUBAwIFAgAGBAMEAQECAwMDAwQBAQQBAQICAwABAwIDAwQAAwICAQIBBAIBAwADAgAFAQQBAQABAQMCAgUDAQUAAgQBAQIDBQIIAwIDBAIBAQEBAwMDAwIDAQICBAQBBAMDAgYEAwIEAwICBgUCAwUFBAICAgEFAwMDBAUDBgIEAAQEBQMCAQIEBAQFBQICAgMEAgEFAwMEBAADAQEHAQIEAwIAAQMEBAMEBAECBAMBBgIGBQEEBQYFBwcEBgAFAgUDBQUGBgIBBAICBAECAgICAgQBBQQCBAUFAwMEAgMABQIAAwEBBgYDBAQBAwEDBAEEAwMCAQEDAwICAwMCAwMCAwEFBAECBQUBAgQBBQICBgQDAQIEBAMCAQMDAgIABQQGBAIBAgMEBAQCBQECBAMFAwQBAgICAQQCAwIDBAMEAgIBAgEBBQMEAQMCAgAFAgEAAQECAgMCAwQCAwECBQICBQMBAQADBAMGAgUBAgIBBQIDAgIBBAIBBQQFAgQDAgYEAwAEAAMGAQYEAgEDAgIFAgIBAgIDAwQCAwMDBgMDAwIHAwIDBQMFBQcFBAIEBQQDAwEDBAMGAgUFAQIDAwEECAIGAwcBBgADBAEDAgQEBQMAAgUCAgMCAgIDBAIFAQECBQEDAQEEAQECBAMAAAABBAICAwEEAAQCAgQCAgMBBAMDAQIFBAECAAMEBAQFAgICAwEEAgEFAQQBAgUAAQABAwMHAgIFAwUBAQUCAwEGAQMDAQMDAwUEAwQBBAQCAQMABAICAwUCAQQEAwICBAQBBAMDAQMBAQYCAgEBAQQDBwIAAgEBAwQDAgIDAwQCBAMGBQQDBAECAwMFAQIDBQUABAUCAQQHBAMBAQICAgMBBQEDBAMBBQECBgECBAICBAQAAgADAwECAgMCAgEDAgIGBAMBAgIBAwUCAgQEBQMFBQIFBQQBBwUEBQQCAAYCBAAFAQIDAgECAgUDBgcCBQQABAMBAwUCAQMEAQIABgICAgEEBAMDBQQEAQEBAwIEBAMDAwMCBAMBAwUFAAIBAwUCAgEEAAIAAQABAwEBBwoFAwMCAgIBBAIBAwMCAAEEBQYCAgQHAgMCAQIDAwMFBAABAgQDBQQECAECAAMAAgUCAgMCAgABAgIHAQMDAgIFAwICBAMCAwQBAgMDBgAEAQEEAQQGAwEBAwUABgUFBAMDBgIEAwICAwECAgIHAgICBQQBBgEEBgMCBwQDBQMEAgEDBAADAQEFAgECBQIBAwUHAwEEBQUEAgUFAQIBAQUDAQIFAQIEAQMDBQQDBAICAgUBBQEDAQYDAAYDBAMHAgADAgUCAQMEBAIEBgEEBQEDBAEHBgEABAYCBAQAAgIAAgMCBAMCAAIBAgUCAgMCAQMCBAQDBAQCAgQGAgMDAQACAwUBBAMDAQgDAwIBAwEDAQUBAQIDBgMBAQMEAgQCAQQCAQMCAQIEAgIGBQIBAwICAgMDAQMBBQACAwECAQUAAwIFBgIEAwMDAgIBAwIBAQUCAgYAAgMCAQgBAwMGAQQDBAcCBgAHAAMFAwQDAwAAAgEBAQQDBQAEAwYCAgQFAQAEAgMEBgICAgQCBAADBAEHBgMEAwECAAQDAwUFAwEDBAEIAgUDBAEEAQQCAAICAQMFAQIEBgMCAgECAwQBAwIBAgIHAgQDAQIEBAMDAQcEBgIAAwYDAwQEBAUEAwMCAgcABAMDAgEDAgMEBAIEAwQDBQYCAwQCAgUDBAIBAgEEAgECAgQFBAMFBAMBAgMEAgACBAUDAwIBAQEEAgIDAAYFAwMDAQQDBAADAwQFAwMCAwMEAAQBBwIDBAEDBQICBAUEAwQABgIBBgADAgMBAwYBAwUDAwIEAgIDBAICAgEGAgAEBAAFBgICAgQCBQMDAwUBBgMDAwICBQQEAwgDAQQGBQEBBAMDBAEBBQEDAQQGAwEAAQMCAQIFAAUIAwUCAwACAQQAAQIDAwIGCgMCAgIABwMBAQEAAQIFAwQBAwEEBQEABQQDAgACAwIDAwADBgEEAAICBAMAAAMDBAQCAQQEAgQGBgIDBQUABQQCAwQBAgIHAAIEAgMEAgIABAMCBQEFBQQEAwMCAgMEAwQEAQACAAMEAwMCAQMFBQQDAQICAwIBAgYCAwgDAgIEAgQDBAIFAgMDAAYEAQQBAgICAgEFBAMFBgQFBQMCAwMDAwUFAwcEAgQBAwICAwACBAIBAwQDAwEFBQUCAwMEAwEFAwcEBgQEBAIEAgMDBAQCAQQCBQQEAQQEAAYCAgMCBAUFBAYGAwYBAAUGBQIEBQIFBQUCAwEDAgQEAwQFAwIBAQQABQcFAQIHAgIBAAQEAwcCAQMDAwMBAQMCAwEFAwMDBAYBAAQEAwUCBAIFAgEBAgQDBAEFBAYCBQUEBAMAAwYCBAQFBAIFAQIEAwQDAgECAwICAQICBQQBAgMGAAIBAQQDAgADBAEBAgYDAwADAwYEAwMDBQICAwICAQAEAQMGBgAEBgIFBAMDBAQEAQIAAgIBAQYAAAMAAgMDBAMAAQUAAQYGAgQBAwEAAgECBAEFBAMDAwYCAgMDAgUBAwMBBQcDAQICAgEDAwAFBAACBQADBQgFAAICBAQDAAIEAwAAAgQCAwQEAQAFBAQEAgIBBAIBAgUBBgYEBQEDAwIDAQMDAwIFBAQEAgcDAgUBAQYBAgICAgMEBgQEBAICBAQEBQQBBAMEBAUEAQICAQEDAQIDAQQFAwECAwUFBAUDBAMBAQQCAwAFAQEFAAQGBAUDAwEDBgUHAQUDBAYDBQUGBQIEAwQFAgMDBQEFAwUCBAUBBQQDAQMBBQMDBAEDAwQCAQUCAAECAwQEAwICAQUFAwMDAwUCAwAEAgUBBgQDAwIGBAUCAQMDAQMGAwEEBQMBAQIFBwICAAUEBwUGAgUEAgMCAgQDBQQDAwIBBQQCBQIEBAAGAwMCBAQECAAGAgEBBAMGAwABAgABAgMBAgMDAgMDBAIEAgMDAwEBAgYFAQMBAgAAAwICAAcEAQQFAgQCAwMAAgMEAgUEBAUCAwQCBwUDAQgBBQUFAgYDAwECAgIFBgUEAwQGAwQDAwMFAgEDBQUBAQICBAUBBwQCBQQDAwQDBAQEBAEFBwUFAwQAAwQHAQECBwEEBwIHCAQDBAIGAwMDAgIDAwQEBAMEAQYBAQUCBAYBAgQBAgABCAIDBwMDAAMDAgMBAgQCAwQFBAEHAwYEBgMDAQQEAwICAwUGBQQDBQQCBAUBBQEEAwICAgMDBAQBBgEABAIFAQADAgMFBQIDAgUCAwECAQEEAQUEAQUDAAICAQUDAgAGAAQEAgECAQYDAQYEAwMBBQMEAQIAAAADAQUBBAQCBQQEAgICBQMDBQMEBwMEAQUDAgUCBQQEBQQAAgQDBAQFAgIFBAMEAwYDAQUCAgAEAwUGAQQDAgQEBQEFBAYABwYCAQQDAQQCAwMCBAQBAQQCBAMFAwECAwUEAgIEAQEHAgUEBAIEBAMFAwIEAAcCBwUBBAMFAQAEBgECBAQFAgQEBwEBAgEFAwMCAwQCAQQGBwMEBQUEAwMDAQIBBgQCAwUFAgMGBQIEBQYDAgUCAAQBAgUBBAMDAQQCAwIDAQUDBAIEBAYEAQUFAwQCAAAEBQUEAwEEAwIBBAUEAwMEBAMFAQMCAgUBAwUAAQIDBwYDBAEGBAMBAwQDBQUBAwIDAwQBAgECAwICAwEDAQIAAQMEAgIDAwIGBAEGBgIEAQEAAgQBAgABBAMBAwMAAQMBAQACAQAFBAEBAAMAAgMECAIDAQUDAAQDBQEFAwUAAAMAAQQDBAQHBQQCBAAEAQIBAgEBBAMGAgIDAwEEAAEBBgQBBQEBAgUEAwEGAgQDAQIEAgIDBQACAgMDBAQFAwECBAEDBgIBAgEAAQIEAQQCAAQGBAgCAgEEAwADAAIFBQQDAAICAgMCAgIAAgYCBAMCBAMFAwIDBAYCBAIDAgMFAgMCAQMDBQIGAwQGAwEEBAEEBAMCBAMCBQUHBAYBAwYDAwADBAEDAQEFBAQEAQIJAQYEAgIDBQUDAwMEAgEDAgQDAwQCAQMBAgEEAQUDAwIEAwUAAwUFAwEDAgECAQUDAgQCAwQAAAACBAIEAQAEAQACBQcBAwgFBQECAQMEAQIDAAEEAwMBAgUEAQIBAAEEAQQFAwEABQEAAwUEBQQBBAYCAQcCBQUDBAYDAgQDAwEEAwYFBAMBBQMABAMDBQIBAgUBBAMEAwEFBQIGAQEHBQMEAQIEAgQCBwQCBAIHBAIGBAACBAEBAgQDBAIGAgQABAIHBAEBBAMCBgQEAwAFAQIDBAIEAAICAAQABwMBAgEFBAYFBAIDBgIHAwMDBQMEAgEDAwIGBQIBAQIEBwYABgMEAwkCBQAGAgcABAEEAggFBAMEBQQHAwYFAwMEAgMDAgUFBAICAwICAgEABgkFAQQFAwABBgUHAQEEBQYDBAEEAwMEAwECAAMDAAIBAQMCAgUDBQICAgMCAwYDAwIFAgMFAwICBQMDAwUDCAMHBAYEBQMFAggFAwMEAwIFAgcFAgIBAgIABQIDBAYCBAUCBgICBQMEAAYCBQYBAgQGAgQHBQMDBgICAwUBBAMGAQIBBAECAgQGBAMABgIHAQIBAwMDAQIEAAMHBQUDAwMBBAADAAMDAwMEAQQDAgYDAgMFBAUBAAEEBQIEAgQBAQQEAQEGAQEGAgAEAgQDAgMCBAICAgECBQIFAgEDAQEAAQQBAwMFAgIDAAADBQAEAQQEAQQBAgQBAgQBAgUCAwIGAQMCAgIDAgMBBAEBBAUEAwMDBAYBAwMBAgUEBAAFBQIDAgIDAgQBBAIBAwMEAgICBQMEAgMDAgMBAgMDBQEEAgMBAQMDAgEBBAIDAgMDBQQGBAEBAgECBQMABQQFAgMEBAICAQEGAgMEAQIBAwIBAwcBBgQEAgEDAgQDAwAEAgQCBwMCBAIEAwIEAgEBAgIEAgICBAQEAwIDAwMDAgQDCAIBAQICAwEEAgUGAwIDAgIEBAQFAgMCBwMBBAQCAwQFAgQDAQQFAQIGAwIEAwMBAwMBAQMEBgEDAgMFAgADBgQDBgQDBQMCAgMGBgQEAgIEAwUBBQQFAQMCBAEDAQECAQIBBAIEBAEAAQIDAgMCBQICAQIBAwUBAwEDBAMEAgEDAAIEAQEFAgIBBAIEBQMEBAMCAgEBAwEDBgEAAgMBAwIEBAMEAgMCAwIFAQEEBAICAwUEAwIEBQMDBQMCBgIBBgQDAgMDAAIHBQEAAQECAwIEBAEAAwIEAwACBAUBAwQBBAEEBAAABAMCAwQCBAMCAAEFAgECAQADAAUAAAIFAAQHAwMDAwMBBgEEAwUFAgMDBAICAgEFAQUFAwEGBQABAgQFBQMCAQADAQMDBQQCAgIEBAUDAQADAwUDAQgEAQMCAgMBAAMEBwEGAgMEAQYFBgMDAwIDAwMDAAUDAQIEAwIBBQMCAwMDAQYFAgUBAgEFAAUCBAQDAgECAwgBAQIGAwMBAQIDAwIFBAMEAgIBAwABAAIEBgMAAQECAwACBAEEAwQAAwUEBQMEBAMEBAEEBQEEAQUDBAIFAgAFAgMCAwQCAwEBAgADBgQDBAQEAwMHAQIEAgQBBQMCBAIDAQUCAAMAAwMFAwIDBAMBAAEDAgMDBQIDBAIBBwECBgIGAwMDAgIFBwIABAQBAQMBAgMBAgQEAwIDBgQDAwQDBAEFAgQCAwIABAECBAIBAwUCAwQBBgEBBQQCAgIBAwAABAIABQUBAgMCAQUDAQMDAQUBAwQDAwUCBQIFBAIFAAMEAAIDBQMDAwMDAgMEAgIBAAIDAgUGBAMABAIDBAAEAwYFAgEFBQMCAgACBAIBAQICAgIDBAMCAQIEAwUDBAUEBAEDAwEEAgMHAwYBAgYFBAQCBAMGAgICAQEEAgQCAAMCAwMDBAIEAQUEAgIDAAQEBQECBAcAAAECAgEDBAICAgIGBAEEBAIEAgQCAgUCAgcABgMFAQABAwUDBQUEAQAFAgQAAwQDBgEFAQEDAgMDBQEBAAMCAAMCAgcEBQMBAwUCAgYBBQYDAgEEBQMGBAMFAwIGAgEDAgEFAgACAwMHAQQDAgMGCQUDAgABAQQCAwQEBQEEBAMCBgYBAgMFBAICAgMFBgMHBAMFBwICAwMDBAUCAAIEBAMEBgQAAwUDBQMDAQQFBQEBAgIDBQEDAQQDAgMACAICBQQFAwQDAQQEAwADBQMEAwQAAgMCAwUCBQUDBwQDAgMEBwUFBQMHAwQFAwMCBwMDBQUHAQMFBAAFAQQFBQMDBQICAwIDAgQEAwIDBQEEBQMCAgQEBAcFAQQEAgAEAAABBgQDAwECAQEEBAIEAQMEAQEFAwMBBAMEAQIDAwUEAwEDBQgEAwQDAgIBAgIBBQQCAQAFAwcFBAMCAwMDBwMCAQgEAwQGAQMBCAEEBAUEBAEEBgIHBAUBBQUFBgMHBgQEBQUGBgYCBgIEAwUBAgIGAgEDAgAFBQYGAwUFAgQEAQUFAAMGBQYEBQYDBQMFAgMGAwMHBwUEBAABBAMBAQUDBgEFBQIEAgIGBAUFBAQDBAEDBwYFBQQAAwUABAIDBAECBgIDBgUEAQUGAAICBgUGAQUGAgMCBAcCAAQBBwQCAgEBBQUEAwQDAwECAgMBAAUEBwIIAwECAgIDAwAEAQMBAgUGAwMFBAIFAAQDAAQAAAMFAgQDAgUBAgMEAgAEAgIABAICAAMCAgQCAwMHAQAEAwMEAgICAgICAgEEAwICBAEDAwEFBAEFAQYCAwIGCAQBBQQBBAMEBAAEAwMCBAUCAwMEAgQBBwIBAgEDBAMCAwUAAgMEBgMDAgYDAgYHBQIBAwIDAwECBQECAAMEBAUFAgICBAIFBQMBBgMCCAMGBAQDAAcGBQQFAQUBAQEEAAUHAgQEBAUCAQQECQICAgMEAQMBBgECBQUCCAEEBAIDAwAFAgQBBAECBAcGBQACBAUFAQQEAwQCAQEFAQMFBAMFBAYFAwQEBgYEAQIEAwMDAgEDBQQBAQIABQYDBAADBAQGAAUCAwMCBgcDAwUDAwMFAwQEAQMEAwYDAgA=",
          "dtype": "i1"
         },
         "xaxis": "x8",
         "yaxis": "y8"
        },
        {
         "hovertemplate": "SUP<br>Range: %{x}<br>Count: %{y}<extra></extra>",
         "marker": {
          "color": "#783ABB"
         },
         "name": "SUP",
         "nbinsx": 28,
         "showlegend": false,
         "type": "histogram",
         "x": {
          "bdata": "FBMbFCcgIBUmCiA4HhggExgYIh49DQwgHxYzMjAyExwRIQwzGygKIhkYHAgKEQ8GGSQdOxNIJRITFxsTDxkbExQgFCMhGi4aFC0QDiMoDxYTCgoPECkRGCEOFhEPHwAjECcVGx8aAyQiLyEMDRIaGhchISwQDUESDQwTHRocCwwOChwpEhcyHxwpExAMFSYSFAYVFh4dHiAXExQbGhsRISUVDyExDSoOJh4GJhlJDicoDRMKLiAYDCkWKRAdHygPER8aCxAhHBgZChYUERMkEBQNAxYgBxgZHA0eGgAeFSsvICAXExcJFw8UFwgWFS8vNSEpFRIiFA0mGg8NEBAiGxQeExASCxYAITQsLBsiEioUFBkQFxAUDBYbEBkDGxoeDw0cFRUbDhcjBg0aGCgaCgcNFg4HEAkAHREZDhAyGBwLBiImEgkUECAZDxcZAxMeEx0MGhseABkKIAMqGhIXCRIKFQMRGBUGHzUpHhMnExohJREOGBMYGiciCRwGGygMIhcaFx4aExUSFzMQBiEgDhccECgQLCseEgMdFx8RDxwUHRURISkSDh0RGRcXGwsTGQwUIiAeExgWIRoNJSIiFyUMGxwTEBIzFz0RICAkKRsLFg4oCiUZExchFS8aISERDhQjGAYPEx0YHR4UJxIhIhscKRsVGRMYExwXHh8qJQ8TOzMWHCYRFBMVHS0MEgMNCx8REQkYFxsSExorBh4kEBQQGxIVDRoeLhEaJioODiMaGUIhFxwbHBQTDQUSFBUDFAsmESUUEwYaHgwiBhUjHCAYExEgFRkjCxYIExQNFwsqIg0gEyANDCAbHh0SHQwcNSIZHCAiJw8bGBQVGBcREBMUExsNGhUjERQiDRceIQYYDSIMDxAiIhUbEB0cCxIkAw0cFA0QGB4jHRYXHB4TKRcWFB4nDxkkHBMSFBoiHjAjEh4wFA0WAyQbEyIaFAwaIhsiGQMiKS0iIxMXFxQlJxYRHCIPGg8cKTcTEQ4YHh4XExcoKxkXChoTChMXEBAHCxUNEw0VGxMTByESEwgZGxISJgwxJRQMHRcuKQYWEA4nDBcWLBEWDBgUHhweAAwKIhYLEgwNHg0aDQcQHhsaISAeGBQRJgYZEhcMFyIfEwwLIA0PIQ4dDBUKQBUPBh0WERcQFhM6EQYkIw4YFhIRDxUUExwYHhEfBhoeFx0ZE0gVHBYWHAwVIxYkKB4JFBUsFBclKA0IERsdHBkYGhcpFBAVFyUILxAJGSYXIhQUDAkaHCwVACgUDw4hGx4rHwgjFRAbABsZEhUkDyIrFhEXJiAIERkYCwoYDhkaHDQSKDkZIB4JFSIVDiAfEiAcEA8XCB0HDh4ZHRMdIwwhGyIcFxIeHx0QCAkSFTwfHRknIx4ZEC0YEBAVIhEXJxcHDAMIFg0TICI8IwcTCCAeEBYQDx4TChQRBxsFKxQUFh0UFQ4dGyYkFAMfGyUjEyAZExIWCR4dExQiChMNFA8RCxIWHQwYIRUQCisgFyAKFhATDScpKSEnLCISEBgKFwsQEBgPKRYXBQsHLxEUGx0NFA4IHwoYHhYhGBENKycZHxIrEQ0jEhQQFB0jGRQKDhsDGBEdGRgRDCEqFxMoERwLJRcaIw8SIgkYDQoaECI5EzQUCR0XOhYjIiUZBg0PERgJDwYbGBIDChQNFBQUGg0nGR4SMBctFyQULBYRKh4UJBkYIx0gFh0SOBUIDBMNBhQSFhciIRwUKBsTFBwPFRAMFw0QECodDxUVCwMSDQUAEQ8WEhMRLg4gAwUdHSMNGwwPChUKDxgSFRkiHRsWHRMVFCANDxEZHyoTDA0mFxMcFxIdEg0LISAWOh8hDRMZGBcXJCIFERUbKCI0IB8LGRcaDgoXHkIrDxgJLRAeFyYpKgYIERQLMishCiAWEhJcDhEGIhgeChEbIDoeNTAdHBgNJBkXMg8VHDkTKxQgKCYaHRoNVQoTFg4GChQTDRQoDRYdAwofESIeGyAbDhcaIhQwIhkKEBcpKigmGzIPHRslHCMiDxoIEBYPHEkWGBYdCCIIGBgUIQYKGxIUAB0SFRgaJA8nJRgdLRErNDglORYZGRkjAxUNJB4WDxsfGh8KBhcZDRwWFh4FDiMYBRwrExIQDgkSDxYgGTUKGighFA0fDS4WKB4RDR85FjQNHwkbHBMRJBYRGQUMAx0eDxoPERQxIBUfCi05ERw4GgwYJhgUGBIoMhYQIhUNFhkcDSsRFQwGEycgDwoYHCIODBQaFBgKDhQeHiEZIiYOHgobDhUpIAcvIhUYKRobHBopEBsuGBAuERwRHhYhLSkyOTA+FB8pGRYNGhERDy4HDwwQBigMHygPGxAPEjMaKDktETcsFihTRxIpIiYcOCkMPSIiDh8nGSQpFg0NFRkuBg8eKCAaJQoREykiGiwjCgofHxQcNxgsKiIdGBgvDTM2XhsSBg4ZDBMJAwoYFxMDFh0cExQOCA8KLxoRHRodEBEaGyUTJh0SCSElICYWEQolICksNSIQGA4WHgooNCkRFx8VHxUDDxQnEQcHDzATJA4MIBYcGB0hMhwfGwsiFSYUKBMYEA0YDxgKJxgRIAoKGBEtERQIGBgmKRgTKBUjDhwOISgcHBEnGBwlKwwXGyk9GxUNJBMPGCcULRgcLS0TESEOKCEVNx8gGCItNikhGQwWKyIdDCcMEh4WFisTIh0dMiYZKxwkJg0ODCoYFBsJJgcxDhkZFBc2HRkiChovMSMoIwg0HRYTGyoaGCYtJSEbLhMWChIKGygUGhclExIUEhMVEAwbHCIPKRAlMBMYMhEOPyUKGCYhHA0fEBQcGxwPJRkXHxEiHQkXFw4bGREWJgodCgsPPxoNHyoZGyIYHDMYMiUAFR0pGzQfTR8WBxMcIRggHQwVDBcLFhwYGzYNGhMODh8TDxohFiojKCgMHiUUExQgFxwNIAoWGDAbEQ8cFzgeIRETHx0IEyg7GCYWOQAMICQrJBUtExMbQh4kExYAGhwRGDQfIB0WGDEUFisZFyIIHx0vHRYUHiUdEBsXJwgbFjMUHhscFyIiNBkRDC8kJQUUFwodJhEpERsiGB0hDiAqGBQTHhE0DwAIHwwRIiQNGBEVIBggDRcdGy0aCw4cECoRDhcVFxsRBwwDExAjHAkMKREYGRMiFh8JCh4eFB8YHw8XABoABxMSChMfHA0UHR0XDxUcKA8UGAw=",
          "dtype": "i1"
         },
         "xaxis": "x9",
         "yaxis": "y9"
        }
       ],
       "layout": {
        "annotations": [
         {
          "font": {
           "size": 16
          },
          "showarrow": false,
          "text": "AFL",
          "x": 0.13333333333333333,
          "xanchor": "center",
          "xref": "paper",
          "y": 0.9999999999999999,
          "yanchor": "bottom",
          "yref": "paper"
         },
         {
          "font": {
           "size": 16
          },
          "showarrow": false,
          "text": "EPL",
          "x": 0.5,
          "xanchor": "center",
          "xref": "paper",
          "y": 0.9999999999999999,
          "yanchor": "bottom",
          "yref": "paper"
         },
         {
          "font": {
           "size": 16
          },
          "showarrow": false,
          "text": "IPL",
          "x": 0.8666666666666667,
          "xanchor": "center",
          "xref": "paper",
          "y": 0.9999999999999999,
          "yanchor": "bottom",
          "yref": "paper"
         },
         {
          "font": {
           "size": 16
          },
          "showarrow": false,
          "text": "LAX",
          "x": 0.13333333333333333,
          "xanchor": "center",
          "xref": "paper",
          "y": 0.6166666666666666,
          "yanchor": "bottom",
          "yref": "paper"
         },
         {
          "font": {
           "size": 16
          },
          "showarrow": false,
          "text": "MLB",
          "x": 0.5,
          "xanchor": "center",
          "xref": "paper",
          "y": 0.6166666666666666,
          "yanchor": "bottom",
          "yref": "paper"
         },
         {
          "font": {
           "size": 16
          },
          "showarrow": false,
          "text": "NBA",
          "x": 0.8666666666666667,
          "xanchor": "center",
          "xref": "paper",
          "y": 0.6166666666666666,
          "yanchor": "bottom",
          "yref": "paper"
         },
         {
          "font": {
           "size": 16
          },
          "showarrow": false,
          "text": "NFL",
          "x": 0.13333333333333333,
          "xanchor": "center",
          "xref": "paper",
          "y": 0.2333333333333333,
          "yanchor": "bottom",
          "yref": "paper"
         },
         {
          "font": {
           "size": 16
          },
          "showarrow": false,
          "text": "NHL",
          "x": 0.5,
          "xanchor": "center",
          "xref": "paper",
          "y": 0.2333333333333333,
          "yanchor": "bottom",
          "yref": "paper"
         },
         {
          "font": {
           "size": 16
          },
          "showarrow": false,
          "text": "SUP",
          "x": 0.8666666666666667,
          "xanchor": "center",
          "xref": "paper",
          "y": 0.2333333333333333,
          "yanchor": "bottom",
          "yref": "paper"
         }
        ],
        "font": {
         "size": 12
        },
        "height": 1000,
        "margin": {
         "b": 80,
         "l": 80,
         "r": 80,
         "t": 80
        },
        "showlegend": false,
        "template": {
         "layout": {
          "colorway": [
           "#783ABB",
           "#141C52",
           "#F9F9F9",
           "#75D0E8",
           "#DDE5ED",
           "#EEF2F6",
           "#43D6AC",
           "#A1EBD6",
           "#103392"
          ],
          "font": {
           "color": "#141C52",
           "size": 12
          },
          "hoverlabel": {
           "bgcolor": "white",
           "bordercolor": "#141C52",
           "font": {
            "color": "#141C52"
           }
          },
          "legend": {
           "bgcolor": "rgba(255,255,255,0.8)",
           "bordercolor": "#141C52",
           "borderwidth": 1,
           "font": {
            "color": "#141C52",
            "size": 11
           }
          },
          "paper_bgcolor": "white",
          "plot_bgcolor": "white",
          "title": {
           "font": {
            "color": "#141C52",
            "size": 16
           },
           "x": 0.05,
           "xanchor": "left"
          },
          "xaxis": {
           "gridcolor": "#E0E0E0",
           "linecolor": "#141C52",
           "tickcolor": "#141C52",
           "tickfont": {
            "color": "#141C52",
            "size": 11
           },
           "title": {
            "font": {
             "color": "#141C52",
             "size": 14
            }
           }
          },
          "yaxis": {
           "gridcolor": "#E0E0E0",
           "linecolor": "#141C52",
           "tickcolor": "#141C52",
           "tickfont": {
            "color": "#141C52",
            "size": 11
           },
           "title": {
            "font": {
             "color": "#141C52",
             "size": 14
            }
           }
          }
         }
        },
        "title": {},
        "xaxis": {
         "anchor": "y",
         "domain": [
          0,
          0.26666666666666666
         ],
         "title": {
          "text": ""
         }
        },
        "xaxis2": {
         "anchor": "y2",
         "domain": [
          0.3666666666666667,
          0.6333333333333333
         ],
         "title": {
          "text": ""
         }
        },
        "xaxis3": {
         "anchor": "y3",
         "domain": [
          0.7333333333333334,
          1
         ],
         "title": {
          "text": ""
         }
        },
        "xaxis4": {
         "anchor": "y4",
         "domain": [
          0,
          0.26666666666666666
         ],
         "title": {
          "text": ""
         }
        },
        "xaxis5": {
         "anchor": "y5",
         "domain": [
          0.3666666666666667,
          0.6333333333333333
         ],
         "title": {
          "text": ""
         }
        },
        "xaxis6": {
         "anchor": "y6",
         "domain": [
          0.7333333333333334,
          1
         ],
         "title": {
          "text": ""
         }
        },
        "xaxis7": {
         "anchor": "y7",
         "domain": [
          0,
          0.26666666666666666
         ],
         "title": {
          "text": ""
         }
        },
        "xaxis8": {
         "anchor": "y8",
         "domain": [
          0.3666666666666667,
          0.6333333333333333
         ],
         "title": {
          "text": ""
         }
        },
        "xaxis9": {
         "anchor": "y9",
         "domain": [
          0.7333333333333334,
          1
         ],
         "title": {
          "text": ""
         }
        },
        "yaxis": {
         "anchor": "x",
         "domain": [
          0.7666666666666666,
          0.9999999999999999
         ],
         "title": {
          "text": ""
         }
        },
        "yaxis2": {
         "anchor": "x2",
         "domain": [
          0.7666666666666666,
          0.9999999999999999
         ],
         "title": {
          "text": ""
         }
        },
        "yaxis3": {
         "anchor": "x3",
         "domain": [
          0.7666666666666666,
          0.9999999999999999
         ],
         "title": {
          "text": ""
         }
        },
        "yaxis4": {
         "anchor": "x4",
         "domain": [
          0.3833333333333333,
          0.6166666666666666
         ],
         "title": {
          "text": ""
         }
        },
        "yaxis5": {
         "anchor": "x5",
         "domain": [
          0.3833333333333333,
          0.6166666666666666
         ],
         "title": {
          "text": ""
         }
        },
        "yaxis6": {
         "anchor": "x6",
         "domain": [
          0.3833333333333333,
          0.6166666666666666
         ],
         "title": {
          "text": ""
         }
        },
        "yaxis7": {
         "anchor": "x7",
         "domain": [
          0,
          0.2333333333333333
         ],
         "title": {
          "text": ""
         }
        },
        "yaxis8": {
         "anchor": "x8",
         "domain": [
          0,
          0.2333333333333333
         ],
         "title": {
          "text": ""
         }
        },
        "yaxis9": {
         "anchor": "x9",
         "domain": [
          0,
          0.2333333333333333
         ],
         "title": {
          "text": ""
         }
        }
       }
      }
     },
     "metadata": {},
     "output_type": "display_data"
    },
    {
     "name": "stdout",
     "output_type": "stream",
     "text": [
      "Exported: exports/figure1_points_distributions.json\n"
     ]
    }
   ],
   "source": [
    "# Get points scored data for all games, 2010-2019 seasons  \n",
    "lazy_dfs = league_data.read_batch(leagues, lazy=True)\n",
    "lazy_dfs = lazy_dfs[(lazy_dfs['YEAR_ID']>=st_year_) & (lazy_dfs['YEAR_ID']<=end_year_)]\n",
    "lazy_dfs = adb.concat(lazy_dfs)\n",
    "points_data = lazy_dfs.collect().data[['LEAGUE', 'PS']]\n",
    "\n",
    "# Define league order to match Figure 1 layout (3x3 grid, alphabetical)\n",
    "league_order = ['AFL', 'EPL', 'IPL', 'LAX', 'MLB', 'NBA', 'NFL', 'NHL', 'SUP']\n",
    "\n",
    "# Create and display interactive Plotly version with adaptive binning\n",
    "fig = create_plotly_histplot(\n",
    "    data=points_data,\n",
    "    x_col='PS',\n",
    "    col_col='LEAGUE',\n",
    "    col_order=league_order,  # Same order as seaborn\n",
    "    col_wrap=3,  # 3x3 grid layout\n",
    "    adaptive_bins=True  # Use adaptive binning to fix EPL/NHL gaps\n",
    ")\n",
    "\n",
    "# Display interactive plot in notebook\n",
    "fig.show()\n",
    "\n",
    "# Export both HTML and JSON versions\n",
    "export_plot(fig, \"figure1_points_distributions\", \"Figure 1 - Points per game distributions\")"
   ]
  },
  {
   "cell_type": "code",
   "execution_count": 13,
   "metadata": {},
   "outputs": [
    {
     "data": {
      "text/html": [
       "<style type=\"text/css\">\n",
       "#T_f5798 th {\n",
       "  background-color: #141C52;\n",
       "  color: #F9F9F9;\n",
       "  font-weight: bold;\n",
       "  text-align: left;\n",
       "  padding: 10px;\n",
       "}\n",
       "#T_f5798 td {\n",
       "  background-color: #75D0E8;\n",
       "  color: #141C52;\n",
       "  padding: 8px;\n",
       "}\n",
       "#T_f5798 tr:hover td {\n",
       "  background-color: #783ABB;\n",
       "  color: #F9F9F9;\n",
       "}\n",
       "</style>\n",
       "<table id=\"T_f5798\">\n",
       "  <thead>\n",
       "    <tr>\n",
       "      <th id=\"T_f5798_level0_col0\" class=\"col_heading level0 col0\" >LEAGUE</th>\n",
       "      <th id=\"T_f5798_level0_col1\" class=\"col_heading level0 col1\" >PS</th>\n",
       "    </tr>\n",
       "  </thead>\n",
       "  <tbody>\n",
       "    <tr>\n",
       "      <td id=\"T_f5798_row0_col0\" class=\"data row0 col0\" >MLB</td>\n",
       "      <td id=\"T_f5798_row0_col1\" class=\"data row0 col1\" >6</td>\n",
       "    </tr>\n",
       "    <tr>\n",
       "      <td id=\"T_f5798_row1_col0\" class=\"data row1 col0\" >MLB</td>\n",
       "      <td id=\"T_f5798_row1_col1\" class=\"data row1 col1\" >3</td>\n",
       "    </tr>\n",
       "    <tr>\n",
       "      <td id=\"T_f5798_row2_col0\" class=\"data row2 col0\" >MLB</td>\n",
       "      <td id=\"T_f5798_row2_col1\" class=\"data row2 col1\" >2</td>\n",
       "    </tr>\n",
       "    <tr>\n",
       "      <td id=\"T_f5798_row3_col0\" class=\"data row3 col0\" >MLB</td>\n",
       "      <td id=\"T_f5798_row3_col1\" class=\"data row3 col1\" >1</td>\n",
       "    </tr>\n",
       "    <tr>\n",
       "      <td id=\"T_f5798_row4_col0\" class=\"data row4 col0\" >MLB</td>\n",
       "      <td id=\"T_f5798_row4_col1\" class=\"data row4 col1\" >4</td>\n",
       "    </tr>\n",
       "    <tr>\n",
       "      <td id=\"T_f5798_row5_col0\" class=\"data row5 col0\" >MLB</td>\n",
       "      <td id=\"T_f5798_row5_col1\" class=\"data row5 col1\" >4</td>\n",
       "    </tr>\n",
       "    <tr>\n",
       "      <td id=\"T_f5798_row6_col0\" class=\"data row6 col0\" >MLB</td>\n",
       "      <td id=\"T_f5798_row6_col1\" class=\"data row6 col1\" >4</td>\n",
       "    </tr>\n",
       "    <tr>\n",
       "      <td id=\"T_f5798_row7_col0\" class=\"data row7 col0\" >MLB</td>\n",
       "      <td id=\"T_f5798_row7_col1\" class=\"data row7 col1\" >5</td>\n",
       "    </tr>\n",
       "    <tr>\n",
       "      <td id=\"T_f5798_row8_col0\" class=\"data row8 col0\" >MLB</td>\n",
       "      <td id=\"T_f5798_row8_col1\" class=\"data row8 col1\" >5</td>\n",
       "    </tr>\n",
       "    <tr>\n",
       "      <td id=\"T_f5798_row9_col0\" class=\"data row9 col0\" >MLB</td>\n",
       "      <td id=\"T_f5798_row9_col1\" class=\"data row9 col1\" >2</td>\n",
       "    </tr>\n",
       "    <tr>\n",
       "      <td id=\"T_f5798_row10_col0\" class=\"data row10 col0\" >MLB</td>\n",
       "      <td id=\"T_f5798_row10_col1\" class=\"data row10 col1\" >7</td>\n",
       "    </tr>\n",
       "    <tr>\n",
       "      <td id=\"T_f5798_row11_col0\" class=\"data row11 col0\" >MLB</td>\n",
       "      <td id=\"T_f5798_row11_col1\" class=\"data row11 col1\" >6</td>\n",
       "    </tr>\n",
       "    <tr>\n",
       "      <td id=\"T_f5798_row12_col0\" class=\"data row12 col0\" >MLB</td>\n",
       "      <td id=\"T_f5798_row12_col1\" class=\"data row12 col1\" >3</td>\n",
       "    </tr>\n",
       "    <tr>\n",
       "      <td id=\"T_f5798_row13_col0\" class=\"data row13 col0\" >MLB</td>\n",
       "      <td id=\"T_f5798_row13_col1\" class=\"data row13 col1\" >2</td>\n",
       "    </tr>\n",
       "    <tr>\n",
       "      <td id=\"T_f5798_row14_col0\" class=\"data row14 col0\" >MLB</td>\n",
       "      <td id=\"T_f5798_row14_col1\" class=\"data row14 col1\" >6</td>\n",
       "    </tr>\n",
       "    <tr>\n",
       "      <td id=\"T_f5798_row15_col0\" class=\"data row15 col0\" >MLB</td>\n",
       "      <td id=\"T_f5798_row15_col1\" class=\"data row15 col1\" >3</td>\n",
       "    </tr>\n",
       "    <tr>\n",
       "      <td id=\"T_f5798_row16_col0\" class=\"data row16 col0\" >MLB</td>\n",
       "      <td id=\"T_f5798_row16_col1\" class=\"data row16 col1\" >4</td>\n",
       "    </tr>\n",
       "    <tr>\n",
       "      <td id=\"T_f5798_row17_col0\" class=\"data row17 col0\" >MLB</td>\n",
       "      <td id=\"T_f5798_row17_col1\" class=\"data row17 col1\" >6</td>\n",
       "    </tr>\n",
       "    <tr>\n",
       "      <td id=\"T_f5798_row18_col0\" class=\"data row18 col0\" >MLB</td>\n",
       "      <td id=\"T_f5798_row18_col1\" class=\"data row18 col1\" >1</td>\n",
       "    </tr>\n",
       "    <tr>\n",
       "      <td id=\"T_f5798_row19_col0\" class=\"data row19 col0\" >MLB</td>\n",
       "      <td id=\"T_f5798_row19_col1\" class=\"data row19 col1\" >8</td>\n",
       "    </tr>\n",
       "  </tbody>\n",
       "</table>\n"
      ],
      "text/plain": [
       "<pandas.io.formats.style.Styler at 0x7b11b46769f0>"
      ]
     },
     "execution_count": 13,
     "metadata": {},
     "output_type": "execute_result"
    }
   ],
   "source": [
    "# points scored for all games\n",
    "lazy_dfs = league_data.read_batch(leagues, lazy=True)\n",
    "lazy_dfs = lazy_dfs[(lazy_dfs['YEAR_ID']>=st_year_) & (lazy_dfs['YEAR_ID']<=end_year_)]\n",
    "lazy_dfs = adb.concat(lazy_dfs)\n",
    "points_scored = lazy_dfs.collect().data[['LEAGUE', 'PS']]\n",
    "style_table(points_scored)"
   ]
  },
  {
   "cell_type": "markdown",
   "metadata": {},
   "source": [
    "### Figure 1 calculate points-scored stats\n",
    "- check positive skew comment in text\n",
    "- note need help to plot via python like r panel plot"
   ]
  },
  {
   "cell_type": "code",
   "execution_count": 14,
   "metadata": {},
   "outputs": [
    {
     "data": {
      "text/html": [
       "<style type=\"text/css\">\n",
       "#T_93703 th {\n",
       "  background-color: #141C52;\n",
       "  color: #F9F9F9;\n",
       "  font-weight: bold;\n",
       "  text-align: left;\n",
       "  padding: 10px;\n",
       "}\n",
       "#T_93703 td {\n",
       "  background-color: #75D0E8;\n",
       "  color: #141C52;\n",
       "  padding: 8px;\n",
       "}\n",
       "#T_93703 tr:hover td {\n",
       "  background-color: #783ABB;\n",
       "  color: #F9F9F9;\n",
       "}\n",
       "</style>\n",
       "<table id=\"T_93703\">\n",
       "  <thead>\n",
       "    <tr>\n",
       "      <th class=\"blank level0\" >&nbsp;</th>\n",
       "      <th id=\"T_93703_level0_col0\" class=\"col_heading level0 col0\" >Mean</th>\n",
       "      <th id=\"T_93703_level0_col1\" class=\"col_heading level0 col1\" >Std</th>\n",
       "      <th id=\"T_93703_level0_col2\" class=\"col_heading level0 col2\" >Skew</th>\n",
       "      <th id=\"T_93703_level0_col3\" class=\"col_heading level0 col3\" >nobs</th>\n",
       "      <th id=\"T_93703_level0_col4\" class=\"col_heading level0 col4\" >IR</th>\n",
       "    </tr>\n",
       "    <tr>\n",
       "      <th class=\"index_name level0\" >LEAGUE</th>\n",
       "      <th class=\"blank col0\" >&nbsp;</th>\n",
       "      <th class=\"blank col1\" >&nbsp;</th>\n",
       "      <th class=\"blank col2\" >&nbsp;</th>\n",
       "      <th class=\"blank col3\" >&nbsp;</th>\n",
       "      <th class=\"blank col4\" >&nbsp;</th>\n",
       "    </tr>\n",
       "  </thead>\n",
       "  <tbody>\n",
       "    <tr>\n",
       "      <th id=\"T_93703_level0_row0\" class=\"row_heading level0 row0\" >EPL</th>\n",
       "      <td id=\"T_93703_row0_col0\" class=\"data row0 col0\" >1.380000</td>\n",
       "      <td id=\"T_93703_row0_col1\" class=\"data row0 col1\" >1.260000</td>\n",
       "      <td id=\"T_93703_row0_col2\" class=\"data row0 col2\" >1.030000</td>\n",
       "      <td id=\"T_93703_row0_col3\" class=\"data row0 col3\" >7600</td>\n",
       "      <td id=\"T_93703_row0_col4\" class=\"data row0 col4\" >1.090000</td>\n",
       "    </tr>\n",
       "    <tr>\n",
       "      <th id=\"T_93703_level0_row1\" class=\"row_heading level0 row1\" >MLB</th>\n",
       "      <td id=\"T_93703_row1_col0\" class=\"data row1 col0\" >4.390000</td>\n",
       "      <td id=\"T_93703_row1_col1\" class=\"data row1 col1\" >3.100000</td>\n",
       "      <td id=\"T_93703_row1_col2\" class=\"data row1 col2\" >1.000000</td>\n",
       "      <td id=\"T_93703_row1_col3\" class=\"data row1 col3\" >48594</td>\n",
       "      <td id=\"T_93703_row1_col4\" class=\"data row1 col4\" >1.420000</td>\n",
       "    </tr>\n",
       "    <tr>\n",
       "      <th id=\"T_93703_level0_row2\" class=\"row_heading level0 row2\" >NHL</th>\n",
       "      <td id=\"T_93703_row2_col0\" class=\"data row2 col0\" >2.810000</td>\n",
       "      <td id=\"T_93703_row2_col1\" class=\"data row2 col1\" >1.640000</td>\n",
       "      <td id=\"T_93703_row2_col2\" class=\"data row2 col2\" >0.420000</td>\n",
       "      <td id=\"T_93703_row2_col3\" class=\"data row2 col3\" >23744</td>\n",
       "      <td id=\"T_93703_row2_col4\" class=\"data row2 col4\" >1.710000</td>\n",
       "    </tr>\n",
       "    <tr>\n",
       "      <th id=\"T_93703_level0_row3\" class=\"row_heading level0 row3\" >SUP</th>\n",
       "      <td id=\"T_93703_row3_col0\" class=\"data row3 col0\" >25.100000</td>\n",
       "      <td id=\"T_93703_row3_col1\" class=\"data row3 col1\" >11.970000</td>\n",
       "      <td id=\"T_93703_row3_col2\" class=\"data row3 col2\" >0.880000</td>\n",
       "      <td id=\"T_93703_row3_col3\" class=\"data row3 col3\" >2402</td>\n",
       "      <td id=\"T_93703_row3_col4\" class=\"data row3 col4\" >2.100000</td>\n",
       "    </tr>\n",
       "    <tr>\n",
       "      <th id=\"T_93703_level0_row4\" class=\"row_heading level0 row4\" >NFL</th>\n",
       "      <td id=\"T_93703_row4_col0\" class=\"data row4 col0\" >22.640000</td>\n",
       "      <td id=\"T_93703_row4_col1\" class=\"data row4 col1\" >10.180000</td>\n",
       "      <td id=\"T_93703_row4_col2\" class=\"data row4 col2\" >0.290000</td>\n",
       "      <td id=\"T_93703_row4_col3\" class=\"data row4 col3\" >5120</td>\n",
       "      <td id=\"T_93703_row4_col4\" class=\"data row4 col4\" >2.230000</td>\n",
       "    </tr>\n",
       "    <tr>\n",
       "      <th id=\"T_93703_level0_row5\" class=\"row_heading level0 row5\" >LAX</th>\n",
       "      <td id=\"T_93703_row5_col0\" class=\"data row5 col0\" >10.260000</td>\n",
       "      <td id=\"T_93703_row5_col1\" class=\"data row5 col1\" >3.980000</td>\n",
       "      <td id=\"T_93703_row5_col2\" class=\"data row5 col2\" >0.500000</td>\n",
       "      <td id=\"T_93703_row5_col3\" class=\"data row5 col3\" >10006</td>\n",
       "      <td id=\"T_93703_row5_col4\" class=\"data row5 col4\" >2.580000</td>\n",
       "    </tr>\n",
       "    <tr>\n",
       "      <th id=\"T_93703_level0_row6\" class=\"row_heading level0 row6\" >AFL</th>\n",
       "      <td id=\"T_93703_row6_col0\" class=\"data row6 col0\" >88.300000</td>\n",
       "      <td id=\"T_93703_row6_col1\" class=\"data row6 col1\" >27.750000</td>\n",
       "      <td id=\"T_93703_row6_col2\" class=\"data row6 col2\" >0.480000</td>\n",
       "      <td id=\"T_93703_row6_col3\" class=\"data row6 col3\" >3892</td>\n",
       "      <td id=\"T_93703_row6_col4\" class=\"data row6 col4\" >3.180000</td>\n",
       "    </tr>\n",
       "    <tr>\n",
       "      <th id=\"T_93703_level0_row7\" class=\"row_heading level0 row7\" >IPL</th>\n",
       "      <td id=\"T_93703_row7_col0\" class=\"data row7 col0\" >163.270000</td>\n",
       "      <td id=\"T_93703_row7_col1\" class=\"data row7 col1\" >31.420000</td>\n",
       "      <td id=\"T_93703_row7_col2\" class=\"data row7 col2\" >0.160000</td>\n",
       "      <td id=\"T_93703_row7_col3\" class=\"data row7 col3\" >1274</td>\n",
       "      <td id=\"T_93703_row7_col4\" class=\"data row7 col4\" >5.200000</td>\n",
       "    </tr>\n",
       "    <tr>\n",
       "      <th id=\"T_93703_level0_row8\" class=\"row_heading level0 row8\" >NBA</th>\n",
       "      <td id=\"T_93703_row8_col0\" class=\"data row8 col0\" >102.240000</td>\n",
       "      <td id=\"T_93703_row8_col1\" class=\"data row8 col1\" >12.660000</td>\n",
       "      <td id=\"T_93703_row8_col2\" class=\"data row8 col2\" >0.180000</td>\n",
       "      <td id=\"T_93703_row8_col3\" class=\"data row8 col3\" >24118</td>\n",
       "      <td id=\"T_93703_row8_col4\" class=\"data row8 col4\" >8.080000</td>\n",
       "    </tr>\n",
       "  </tbody>\n",
       "</table>\n"
      ],
      "text/plain": [
       "<pandas.io.formats.style.Styler at 0x7b11b47e8c80>"
      ]
     },
     "execution_count": 14,
     "metadata": {},
     "output_type": "execute_result"
    }
   ],
   "source": [
    "point_stats = points_scored.groupby(['LEAGUE']).agg(Mean=('PS', 'mean'),\n",
    "                                             Std=('PS', 'std'),\n",
    "                                             Skew=('PS', 'skew'),\n",
    "                                             nobs=('PS', 'count'))\n",
    "point_stats['IR']=point_stats['Mean']/point_stats['Std']\n",
    "point_stats = point_stats.sort_values(['IR'])\n",
    "style_table(point_stats.round(2), hide_index=False)"
   ]
  },
  {
   "cell_type": "code",
   "execution_count": null,
   "metadata": {},
   "outputs": [
    {
     "data": {
      "application/vnd.plotly.v1+json": {
       "config": {
        "plotlyServerURL": "https://plot.ly"
       },
       "data": [
        {
         "hovertemplate": "LEAGUE: EPL<br>LEAGUE: %{x}<br>value: %{y}<extra></extra>",
         "marker": {
          "color": "#783ABB"
         },
         "name": "EPL",
         "showlegend": true,
         "type": "bar",
         "x": [
          "EPL"
         ],
         "xaxis": "x",
         "y": {
          "bdata": "RNPo8BMB9j8=",
          "dtype": "f8"
         },
         "yaxis": "y"
        },
        {
         "hovertemplate": "LEAGUE: MLB<br>LEAGUE: %{x}<br>value: %{y}<extra></extra>",
         "marker": {
          "color": "#141C52"
         },
         "name": "MLB",
         "showlegend": true,
         "type": "bar",
         "x": [
          "MLB"
         ],
         "xaxis": "x",
         "y": {
          "bdata": "/yhF/BGNEUA=",
          "dtype": "f8"
         },
         "yaxis": "y"
        },
        {
         "hovertemplate": "LEAGUE: NHL<br>LEAGUE: %{x}<br>value: %{y}<extra></extra>",
         "marker": {
          "color": "#F9F9F9"
         },
         "name": "NHL",
         "showlegend": true,
         "type": "bar",
         "x": [
          "NHL"
         ],
         "xaxis": "x",
         "y": {
          "bdata": "S2EBiuh1BkA=",
          "dtype": "f8"
         },
         "yaxis": "y"
        },
        {
         "hovertemplate": "LEAGUE: SUP<br>LEAGUE: %{x}<br>value: %{y}<extra></extra>",
         "marker": {
          "color": "#75D0E8"
         },
         "name": "SUP",
         "showlegend": true,
         "type": "bar",
         "x": [
          "SUP"
         ],
         "xaxis": "x",
         "y": {
          "bdata": "WhzrAScZOUA=",
          "dtype": "f8"
         },
         "yaxis": "y"
        },
        {
         "hovertemplate": "LEAGUE: NFL<br>LEAGUE: %{x}<br>value: %{y}<extra></extra>",
         "marker": {
          "color": "#DDE5ED"
         },
         "name": "NFL",
         "showlegend": true,
         "type": "bar",
         "x": [
          "NFL"
         ],
         "xaxis": "x",
         "y": {
          "bdata": "ZmZmZqakNkA=",
          "dtype": "f8"
         },
         "yaxis": "y"
        },
        {
         "hovertemplate": "LEAGUE: LAX<br>LEAGUE: %{x}<br>value: %{y}<extra></extra>",
         "marker": {
          "color": "#EEF2F6"
         },
         "name": "LAX",
         "showlegend": true,
         "type": "bar",
         "x": [
          "LAX"
         ],
         "xaxis": "x",
         "y": {
          "bdata": "LeukWyOHJEA=",
          "dtype": "f8"
         },
         "yaxis": "y"
        },
        {
         "hovertemplate": "LEAGUE: AFL<br>LEAGUE: %{x}<br>value: %{y}<extra></extra>",
         "marker": {
          "color": "#43D6AC"
         },
         "name": "AFL",
         "showlegend": true,
         "type": "bar",
         "x": [
          "AFL"
         ],
         "xaxis": "x",
         "y": {
          "bdata": "E5i2cnwTVkA=",
          "dtype": "f8"
         },
         "yaxis": "y"
        },
        {
         "hovertemplate": "LEAGUE: IPL<br>LEAGUE: %{x}<br>value: %{y}<extra></extra>",
         "marker": {
          "color": "#A1EBD6"
         },
         "name": "IPL",
         "showlegend": true,
         "type": "bar",
         "x": [
          "IPL"
         ],
         "xaxis": "x",
         "y": {
          "bdata": "9yKdrZBoZEA=",
          "dtype": "f8"
         },
         "yaxis": "y"
        },
        {
         "hovertemplate": "LEAGUE: NBA<br>LEAGUE: %{x}<br>value: %{y}<extra></extra>",
         "marker": {
          "color": "#103392"
         },
         "name": "NBA",
         "showlegend": true,
         "type": "bar",
         "x": [
          "NBA"
         ],
         "xaxis": "x",
         "y": {
          "bdata": "HUjhZFCPWUA=",
          "dtype": "f8"
         },
         "yaxis": "y"
        },
        {
         "hovertemplate": "LEAGUE: EPL<br>LEAGUE: %{x}<br>value: %{y}<extra></extra>",
         "marker": {
          "color": "#783ABB"
         },
         "name": "EPL",
         "showlegend": false,
         "type": "bar",
         "x": [
          "EPL"
         ],
         "xaxis": "x2",
         "y": {
          "bdata": "UrVkVk0m9D8=",
          "dtype": "f8"
         },
         "yaxis": "y2"
        },
        {
         "hovertemplate": "LEAGUE: MLB<br>LEAGUE: %{x}<br>value: %{y}<extra></extra>",
         "marker": {
          "color": "#141C52"
         },
         "name": "MLB",
         "showlegend": false,
         "type": "bar",
         "x": [
          "MLB"
         ],
         "xaxis": "x2",
         "y": {
          "bdata": "fwKAVpHGCEA=",
          "dtype": "f8"
         },
         "yaxis": "y2"
        },
        {
         "hovertemplate": "LEAGUE: NHL<br>LEAGUE: %{x}<br>value: %{y}<extra></extra>",
         "marker": {
          "color": "#F9F9F9"
         },
         "name": "NHL",
         "showlegend": false,
         "type": "bar",
         "x": [
          "NHL"
         ],
         "xaxis": "x2",
         "y": {
          "bdata": "VgBmjjU++j8=",
          "dtype": "f8"
         },
         "yaxis": "y2"
        },
        {
         "hovertemplate": "LEAGUE: SUP<br>LEAGUE: %{x}<br>value: %{y}<extra></extra>",
         "marker": {
          "color": "#75D0E8"
         },
         "name": "SUP",
         "showlegend": false,
         "type": "bar",
         "x": [
          "SUP"
         ],
         "xaxis": "x2",
         "y": {
          "bdata": "cSRKrKXyJ0A=",
          "dtype": "f8"
         },
         "yaxis": "y2"
        },
        {
         "hovertemplate": "LEAGUE: NFL<br>LEAGUE: %{x}<br>value: %{y}<extra></extra>",
         "marker": {
          "color": "#DDE5ED"
         },
         "name": "NFL",
         "showlegend": false,
         "type": "bar",
         "x": [
          "NFL"
         ],
         "xaxis": "x2",
         "y": {
          "bdata": "y3De86pZJEA=",
          "dtype": "f8"
         },
         "yaxis": "y2"
        },
        {
         "hovertemplate": "LEAGUE: LAX<br>LEAGUE: %{x}<br>value: %{y}<extra></extra>",
         "marker": {
          "color": "#EEF2F6"
         },
         "name": "LAX",
         "showlegend": false,
         "type": "bar",
         "x": [
          "LAX"
         ],
         "xaxis": "x2",
         "y": {
          "bdata": "WE/Ejd7TD0A=",
          "dtype": "f8"
         },
         "yaxis": "y2"
        },
        {
         "hovertemplate": "LEAGUE: AFL<br>LEAGUE: %{x}<br>value: %{y}<extra></extra>",
         "marker": {
          "color": "#43D6AC"
         },
         "name": "AFL",
         "showlegend": false,
         "type": "bar",
         "x": [
          "AFL"
         ],
         "xaxis": "x2",
         "y": {
          "bdata": "1nmQ9zS/O0A=",
          "dtype": "f8"
         },
         "yaxis": "y2"
        },
        {
         "hovertemplate": "LEAGUE: IPL<br>LEAGUE: %{x}<br>value: %{y}<extra></extra>",
         "marker": {
          "color": "#A1EBD6"
         },
         "name": "IPL",
         "showlegend": false,
         "type": "bar",
         "x": [
          "IPL"
         ],
         "xaxis": "x2",
         "y": {
          "bdata": "bO6BvyhrP0A=",
          "dtype": "f8"
         },
         "yaxis": "y2"
        },
        {
         "hovertemplate": "LEAGUE: NBA<br>LEAGUE: %{x}<br>value: %{y}<extra></extra>",
         "marker": {
          "color": "#103392"
         },
         "name": "NBA",
         "showlegend": false,
         "type": "bar",
         "x": [
          "NBA"
         ],
         "xaxis": "x2",
         "y": {
          "bdata": "rDiftR5QKUA=",
          "dtype": "f8"
         },
         "yaxis": "y2"
        },
        {
         "hovertemplate": "LEAGUE: EPL<br>LEAGUE: %{x}<br>value: %{y}<extra></extra>",
         "marker": {
          "color": "#783ABB"
         },
         "name": "EPL",
         "showlegend": false,
         "type": "bar",
         "x": [
          "EPL"
         ],
         "xaxis": "x3",
         "y": {
          "bdata": "h/cim96O8D8=",
          "dtype": "f8"
         },
         "yaxis": "y3"
        },
        {
         "hovertemplate": "LEAGUE: MLB<br>LEAGUE: %{x}<br>value: %{y}<extra></extra>",
         "marker": {
          "color": "#141C52"
         },
         "name": "MLB",
         "showlegend": false,
         "type": "bar",
         "x": [
          "MLB"
         ],
         "xaxis": "x3",
         "y": {
          "bdata": "wjNySlcU8D8=",
          "dtype": "f8"
         },
         "yaxis": "y3"
        },
        {
         "hovertemplate": "LEAGUE: NHL<br>LEAGUE: %{x}<br>value: %{y}<extra></extra>",
         "marker": {
          "color": "#F9F9F9"
         },
         "name": "NHL",
         "showlegend": false,
         "type": "bar",
         "x": [
          "NHL"
         ],
         "xaxis": "x3",
         "y": {
          "bdata": "WPIpOKzQ2j8=",
          "dtype": "f8"
         },
         "yaxis": "y3"
        },
        {
         "hovertemplate": "LEAGUE: SUP<br>LEAGUE: %{x}<br>value: %{y}<extra></extra>",
         "marker": {
          "color": "#75D0E8"
         },
         "name": "SUP",
         "showlegend": false,
         "type": "bar",
         "x": [
          "SUP"
         ],
         "xaxis": "x3",
         "y": {
          "bdata": "OxMkKS437D8=",
          "dtype": "f8"
         },
         "yaxis": "y3"
        },
        {
         "hovertemplate": "LEAGUE: NFL<br>LEAGUE: %{x}<br>value: %{y}<extra></extra>",
         "marker": {
          "color": "#DDE5ED"
         },
         "name": "NFL",
         "showlegend": false,
         "type": "bar",
         "x": [
          "NFL"
         ],
         "xaxis": "x3",
         "y": {
          "bdata": "FD8FzimG0j8=",
          "dtype": "f8"
         },
         "yaxis": "y3"
        },
        {
         "hovertemplate": "LEAGUE: LAX<br>LEAGUE: %{x}<br>value: %{y}<extra></extra>",
         "marker": {
          "color": "#EEF2F6"
         },
         "name": "LAX",
         "showlegend": false,
         "type": "bar",
         "x": [
          "LAX"
         ],
         "xaxis": "x3",
         "y": {
          "bdata": "AaVDPY3y3z8=",
          "dtype": "f8"
         },
         "yaxis": "y3"
        },
        {
         "hovertemplate": "LEAGUE: AFL<br>LEAGUE: %{x}<br>value: %{y}<extra></extra>",
         "marker": {
          "color": "#43D6AC"
         },
         "name": "AFL",
         "showlegend": false,
         "type": "bar",
         "x": [
          "AFL"
         ],
         "xaxis": "x3",
         "y": {
          "bdata": "edkxtWC23j8=",
          "dtype": "f8"
         },
         "yaxis": "y3"
        },
        {
         "hovertemplate": "LEAGUE: IPL<br>LEAGUE: %{x}<br>value: %{y}<extra></extra>",
         "marker": {
          "color": "#A1EBD6"
         },
         "name": "IPL",
         "showlegend": false,
         "type": "bar",
         "x": [
          "IPL"
         ],
         "xaxis": "x3",
         "y": {
          "bdata": "sDD3u6UMxD8=",
          "dtype": "f8"
         },
         "yaxis": "y3"
        },
        {
         "hovertemplate": "LEAGUE: NBA<br>LEAGUE: %{x}<br>value: %{y}<extra></extra>",
         "marker": {
          "color": "#103392"
         },
         "name": "NBA",
         "showlegend": false,
         "type": "bar",
         "x": [
          "NBA"
         ],
         "xaxis": "x3",
         "y": {
          "bdata": "3H5bKlN8xz8=",
          "dtype": "f8"
         },
         "yaxis": "y3"
        },
        {
         "hovertemplate": "LEAGUE: EPL<br>LEAGUE: %{x}<br>value: %{y}<extra></extra>",
         "marker": {
          "color": "#783ABB"
         },
         "name": "EPL",
         "showlegend": false,
         "type": "bar",
         "x": [
          "EPL"
         ],
         "xaxis": "x4",
         "y": {
          "bdata": "AAAAAACwvUA=",
          "dtype": "f8"
         },
         "yaxis": "y4"
        },
        {
         "hovertemplate": "LEAGUE: MLB<br>LEAGUE: %{x}<br>value: %{y}<extra></extra>",
         "marker": {
          "color": "#141C52"
         },
         "name": "MLB",
         "showlegend": false,
         "type": "bar",
         "x": [
          "MLB"
         ],
         "xaxis": "x4",
         "y": {
          "bdata": "AAAAAEC650A=",
          "dtype": "f8"
         },
         "yaxis": "y4"
        },
        {
         "hovertemplate": "LEAGUE: NHL<br>LEAGUE: %{x}<br>value: %{y}<extra></extra>",
         "marker": {
          "color": "#F9F9F9"
         },
         "name": "NHL",
         "showlegend": false,
         "type": "bar",
         "x": [
          "NHL"
         ],
         "xaxis": "x4",
         "y": {
          "bdata": "AAAAAAAw10A=",
          "dtype": "f8"
         },
         "yaxis": "y4"
        },
        {
         "hovertemplate": "LEAGUE: SUP<br>LEAGUE: %{x}<br>value: %{y}<extra></extra>",
         "marker": {
          "color": "#75D0E8"
         },
         "name": "SUP",
         "showlegend": false,
         "type": "bar",
         "x": [
          "SUP"
         ],
         "xaxis": "x4",
         "y": {
          "bdata": "AAAAAADEokA=",
          "dtype": "f8"
         },
         "yaxis": "y4"
        },
        {
         "hovertemplate": "LEAGUE: NFL<br>LEAGUE: %{x}<br>value: %{y}<extra></extra>",
         "marker": {
          "color": "#DDE5ED"
         },
         "name": "NFL",
         "showlegend": false,
         "type": "bar",
         "x": [
          "NFL"
         ],
         "xaxis": "x4",
         "y": {
          "bdata": "AAAAAAAAtEA=",
          "dtype": "f8"
         },
         "yaxis": "y4"
        },
        {
         "hovertemplate": "LEAGUE: LAX<br>LEAGUE: %{x}<br>value: %{y}<extra></extra>",
         "marker": {
          "color": "#EEF2F6"
         },
         "name": "LAX",
         "showlegend": false,
         "type": "bar",
         "x": [
          "LAX"
         ],
         "xaxis": "x4",
         "y": {
          "bdata": "AAAAAACLw0A=",
          "dtype": "f8"
         },
         "yaxis": "y4"
        },
        {
         "hovertemplate": "LEAGUE: AFL<br>LEAGUE: %{x}<br>value: %{y}<extra></extra>",
         "marker": {
          "color": "#43D6AC"
         },
         "name": "AFL",
         "showlegend": false,
         "type": "bar",
         "x": [
          "AFL"
         ],
         "xaxis": "x4",
         "y": {
          "bdata": "AAAAAABorkA=",
          "dtype": "f8"
         },
         "yaxis": "y4"
        },
        {
         "hovertemplate": "LEAGUE: IPL<br>LEAGUE: %{x}<br>value: %{y}<extra></extra>",
         "marker": {
          "color": "#A1EBD6"
         },
         "name": "IPL",
         "showlegend": false,
         "type": "bar",
         "x": [
          "IPL"
         ],
         "xaxis": "x4",
         "y": {
          "bdata": "AAAAAADok0A=",
          "dtype": "f8"
         },
         "yaxis": "y4"
        },
        {
         "hovertemplate": "LEAGUE: NBA<br>LEAGUE: %{x}<br>value: %{y}<extra></extra>",
         "marker": {
          "color": "#103392"
         },
         "name": "NBA",
         "showlegend": false,
         "type": "bar",
         "x": [
          "NBA"
         ],
         "xaxis": "x4",
         "y": {
          "bdata": "AAAAAICN10A=",
          "dtype": "f8"
         },
         "yaxis": "y4"
        },
        {
         "hovertemplate": "LEAGUE: EPL<br>LEAGUE: %{x}<br>value: %{y}<extra></extra>",
         "marker": {
          "color": "#783ABB"
         },
         "name": "EPL",
         "showlegend": false,
         "type": "bar",
         "x": [
          "EPL"
         ],
         "xaxis": "x5",
         "y": {
          "bdata": "7gNvFgB58T8=",
          "dtype": "f8"
         },
         "yaxis": "y5"
        },
        {
         "hovertemplate": "LEAGUE: MLB<br>LEAGUE: %{x}<br>value: %{y}<extra></extra>",
         "marker": {
          "color": "#141C52"
         },
         "name": "MLB",
         "showlegend": false,
         "type": "bar",
         "x": [
          "MLB"
         ],
         "xaxis": "x5",
         "y": {
          "bdata": "+6tl6jSr9j8=",
          "dtype": "f8"
         },
         "yaxis": "y5"
        },
        {
         "hovertemplate": "LEAGUE: NHL<br>LEAGUE: %{x}<br>value: %{y}<extra></extra>",
         "marker": {
          "color": "#F9F9F9"
         },
         "name": "NHL",
         "showlegend": false,
         "type": "bar",
         "x": [
          "NHL"
         ],
         "xaxis": "x5",
         "y": {
          "bdata": "JOx2z0dj+z8=",
          "dtype": "f8"
         },
         "yaxis": "y5"
        },
        {
         "hovertemplate": "LEAGUE: SUP<br>LEAGUE: %{x}<br>value: %{y}<extra></extra>",
         "marker": {
          "color": "#75D0E8"
         },
         "name": "SUP",
         "showlegend": false,
         "type": "bar",
         "x": [
          "SUP"
         ],
         "xaxis": "x5",
         "y": {
          "bdata": "k2NNssPEAEA=",
          "dtype": "f8"
         },
         "yaxis": "y5"
        },
        {
         "hovertemplate": "LEAGUE: NFL<br>LEAGUE: %{x}<br>value: %{y}<extra></extra>",
         "marker": {
          "color": "#DDE5ED"
         },
         "name": "NFL",
         "showlegend": false,
         "type": "bar",
         "x": [
          "NFL"
         ],
         "xaxis": "x5",
         "y": {
          "bdata": "mdnX24DNAUA=",
          "dtype": "f8"
         },
         "yaxis": "y5"
        },
        {
         "hovertemplate": "LEAGUE: LAX<br>LEAGUE: %{x}<br>value: %{y}<extra></extra>",
         "marker": {
          "color": "#EEF2F6"
         },
         "name": "LAX",
         "showlegend": false,
         "type": "bar",
         "x": [
          "LAX"
         ],
         "xaxis": "x5",
         "y": {
          "bdata": "eyqf4ZmjBEA=",
          "dtype": "f8"
         },
         "yaxis": "y5"
        },
        {
         "hovertemplate": "LEAGUE: AFL<br>LEAGUE: %{x}<br>value: %{y}<extra></extra>",
         "marker": {
          "color": "#43D6AC"
         },
         "name": "AFL",
         "showlegend": false,
         "type": "bar",
         "x": [
          "AFL"
         ],
         "xaxis": "x5",
         "y": {
          "bdata": "P8e1tsF1CUA=",
          "dtype": "f8"
         },
         "yaxis": "y5"
        },
        {
         "hovertemplate": "LEAGUE: IPL<br>LEAGUE: %{x}<br>value: %{y}<extra></extra>",
         "marker": {
          "color": "#A1EBD6"
         },
         "name": "IPL",
         "showlegend": false,
         "type": "bar",
         "x": [
          "IPL"
         ],
         "xaxis": "x5",
         "y": {
          "bdata": "lzc+RD/JFEA=",
          "dtype": "f8"
         },
         "yaxis": "y5"
        },
        {
         "hovertemplate": "LEAGUE: NBA<br>LEAGUE: %{x}<br>value: %{y}<extra></extra>",
         "marker": {
          "color": "#103392"
         },
         "name": "NBA",
         "showlegend": false,
         "type": "bar",
         "x": [
          "NBA"
         ],
         "xaxis": "x5",
         "y": {
          "bdata": "/KaFtPEnIEA=",
          "dtype": "f8"
         },
         "yaxis": "y5"
        }
       ],
       "layout": {
        "annotations": [
         {
          "font": {
           "size": 16
          },
          "showarrow": false,
          "text": "Mean",
          "x": 0.13333333333333333,
          "xanchor": "center",
          "xref": "paper",
          "y": 1,
          "yanchor": "bottom",
          "yref": "paper"
         },
         {
          "font": {
           "size": 16
          },
          "showarrow": false,
          "text": "Std",
          "x": 0.5,
          "xanchor": "center",
          "xref": "paper",
          "y": 1,
          "yanchor": "bottom",
          "yref": "paper"
         },
         {
          "font": {
           "size": 16
          },
          "showarrow": false,
          "text": "Skew",
          "x": 0.8666666666666667,
          "xanchor": "center",
          "xref": "paper",
          "y": 1,
          "yanchor": "bottom",
          "yref": "paper"
         },
         {
          "font": {
           "size": 16
          },
          "showarrow": false,
          "text": "nobs",
          "x": 0.13333333333333333,
          "xanchor": "center",
          "xref": "paper",
          "y": 0.425,
          "yanchor": "bottom",
          "yref": "paper"
         },
         {
          "font": {
           "size": 16
          },
          "showarrow": false,
          "text": "IR",
          "x": 0.5,
          "xanchor": "center",
          "xref": "paper",
          "y": 0.425,
          "yanchor": "bottom",
          "yref": "paper"
         }
        ],
        "font": {
         "size": 12
        },
        "height": 700,
        "margin": {
         "b": 80,
         "l": 80,
         "r": 80,
         "t": 80
        },
        "showlegend": false,
        "template": {
         "layout": {
          "colorway": [
           "#783ABB",
           "#141C52",
           "#F9F9F9",
           "#75D0E8",
           "#DDE5ED",
           "#EEF2F6",
           "#43D6AC",
           "#A1EBD6",
           "#103392"
          ],
          "font": {
           "color": "#141C52",
           "size": 12
          },
          "hoverlabel": {
           "bgcolor": "white",
           "bordercolor": "#141C52",
           "font": {
            "color": "#141C52"
           }
          },
          "legend": {
           "bgcolor": "rgba(255,255,255,0.8)",
           "bordercolor": "#141C52",
           "borderwidth": 1,
           "font": {
            "color": "#141C52",
            "size": 11
           }
          },
          "paper_bgcolor": "white",
          "plot_bgcolor": "white",
          "title": {
           "font": {
            "color": "#141C52",
            "size": 16
           },
           "x": 0.05,
           "xanchor": "left"
          },
          "xaxis": {
           "gridcolor": "#E0E0E0",
           "linecolor": "#141C52",
           "tickcolor": "#141C52",
           "tickfont": {
            "color": "#141C52",
            "size": 11
           },
           "title": {
            "font": {
             "color": "#141C52",
             "size": 14
            }
           }
          },
          "yaxis": {
           "gridcolor": "#E0E0E0",
           "linecolor": "#141C52",
           "tickcolor": "#141C52",
           "tickfont": {
            "color": "#141C52",
            "size": 11
           },
           "title": {
            "font": {
             "color": "#141C52",
             "size": 14
            }
           }
          }
         }
        },
        "title": {},
        "xaxis": {
         "anchor": "y",
         "domain": [
          0,
          0.26666666666666666
         ],
         "title": {
          "text": ""
         }
        },
        "xaxis2": {
         "anchor": "y2",
         "domain": [
          0.3666666666666667,
          0.6333333333333333
         ],
         "title": {
          "text": ""
         }
        },
        "xaxis3": {
         "anchor": "y3",
         "domain": [
          0.7333333333333334,
          1
         ],
         "title": {
          "text": ""
         }
        },
        "xaxis4": {
         "anchor": "y4",
         "domain": [
          0,
          0.26666666666666666
         ],
         "title": {
          "text": ""
         }
        },
        "xaxis5": {
         "anchor": "y5",
         "domain": [
          0.3666666666666667,
          0.6333333333333333
         ],
         "title": {
          "text": ""
         }
        },
        "xaxis6": {
         "anchor": "y6",
         "domain": [
          0.7333333333333334,
          1
         ],
         "title": {
          "text": ""
         }
        },
        "yaxis": {
         "anchor": "x",
         "domain": [
          0.575,
          1
         ],
         "title": {
          "text": ""
         }
        },
        "yaxis2": {
         "anchor": "x2",
         "domain": [
          0.575,
          1
         ],
         "title": {
          "text": ""
         }
        },
        "yaxis3": {
         "anchor": "x3",
         "domain": [
          0.575,
          1
         ],
         "title": {
          "text": ""
         }
        },
        "yaxis4": {
         "anchor": "x4",
         "domain": [
          0,
          0.425
         ],
         "title": {
          "text": ""
         }
        },
        "yaxis5": {
         "anchor": "x5",
         "domain": [
          0,
          0.425
         ],
         "title": {
          "text": ""
         }
        },
        "yaxis6": {
         "anchor": "x6",
         "domain": [
          0,
          0.425
         ],
         "title": {
          "text": ""
         }
        }
       }
      }
     },
     "metadata": {},
     "output_type": "display_data"
    },
    {
     "name": "stdout",
     "output_type": "stream",
     "text": [
      "Exported: exports/point_stats_catplot.json\n"
     ]
    }
   ],
   "source": [
    "# Create and display interactive Plotly version with same layout\n",
    "fig = create_plotly_catplot(\n",
    "    data=point_stats.reset_index().melt(['LEAGUE']),\n",
    "    x_col=\"LEAGUE\",\n",
    "    y_col=\"value\",\n",
    "    hue_col=\"LEAGUE\",\n",
    "    col_col=\"variable\",\n",
    "    col_wrap=3,  # Same as seaborn version\n",
    "    sharey=False\n",
    ")\n",
    "\n",
    "# Display interactive plot in notebook\n",
    "fig.show()\n",
    "\n",
    "# Export both HTML and JSON versions\n",
    "export_plot(fig, \"point_stats_catplot\", \"Points Scored Statistics\")"
   ]
  },
  {
   "cell_type": "markdown",
   "metadata": {},
   "source": [
    "### Save into ArcticDB"
   ]
  },
  {
   "cell_type": "code",
   "execution_count": 16,
   "metadata": {},
   "outputs": [
    {
     "data": {
      "text/plain": [
       "VersionedItem(symbol='point_stats', library='analysis', data=n/a, version=0, metadata=None, host='LMDB(path=/home/nick/source/customers/man-group/ArcticDB/docs/mkdocs/docs/notebooks/arcticdb_sports)', timestamp=1756225340782814206)"
      ]
     },
     "execution_count": 16,
     "metadata": {},
     "output_type": "execute_result"
    }
   ],
   "source": [
    "analysis = arctic.get_library('analysis', create_if_missing=True)\n",
    "analysis.write('point_stats', point_stats)"
   ]
  },
  {
   "cell_type": "code",
   "execution_count": 17,
   "metadata": {},
   "outputs": [
    {
     "data": {
      "text/html": [
       "<style type=\"text/css\">\n",
       "#T_24a9d th {\n",
       "  background-color: #141C52;\n",
       "  color: #F9F9F9;\n",
       "  font-weight: bold;\n",
       "  text-align: left;\n",
       "  padding: 10px;\n",
       "}\n",
       "#T_24a9d td {\n",
       "  background-color: #75D0E8;\n",
       "  color: #141C52;\n",
       "  padding: 8px;\n",
       "}\n",
       "#T_24a9d tr:hover td {\n",
       "  background-color: #783ABB;\n",
       "  color: #F9F9F9;\n",
       "}\n",
       "</style>\n",
       "<table id=\"T_24a9d\">\n",
       "  <thead>\n",
       "    <tr>\n",
       "      <th class=\"blank\" >&nbsp;</th>\n",
       "      <th class=\"blank\" >&nbsp;</th>\n",
       "      <th class=\"blank level0\" >&nbsp;</th>\n",
       "      <th id=\"T_24a9d_level0_col0\" class=\"col_heading level0 col0\" >PS</th>\n",
       "      <th id=\"T_24a9d_level0_col1\" class=\"col_heading level0 col1\" >PA</th>\n",
       "      <th id=\"T_24a9d_level0_col2\" class=\"col_heading level0 col2\" >wi</th>\n",
       "      <th id=\"T_24a9d_level0_col3\" class=\"col_heading level0 col3\" >nobs</th>\n",
       "    </tr>\n",
       "    <tr>\n",
       "      <th class=\"index_name level0\" >LEAGUE</th>\n",
       "      <th class=\"index_name level1\" >YEAR_ID</th>\n",
       "      <th class=\"index_name level2\" >TEAM_ID</th>\n",
       "      <th class=\"blank col0\" >&nbsp;</th>\n",
       "      <th class=\"blank col1\" >&nbsp;</th>\n",
       "      <th class=\"blank col2\" >&nbsp;</th>\n",
       "      <th class=\"blank col3\" >&nbsp;</th>\n",
       "    </tr>\n",
       "  </thead>\n",
       "  <tbody>\n",
       "    <tr>\n",
       "      <th id=\"T_24a9d_level0_row0\" class=\"row_heading level0 row0\" rowspan=\"5\">AFL</th>\n",
       "      <th id=\"T_24a9d_level1_row0\" class=\"row_heading level1 row0\" rowspan=\"5\">1897</th>\n",
       "      <th id=\"T_24a9d_level2_row0\" class=\"row_heading level2 row0\" >Carlton</th>\n",
       "      <td id=\"T_24a9d_row0_col0\" class=\"data row0 col0\" >26.860000</td>\n",
       "      <td id=\"T_24a9d_row0_col1\" class=\"data row0 col1\" >52.640000</td>\n",
       "      <td id=\"T_24a9d_row0_col2\" class=\"data row0 col2\" >0.140000</td>\n",
       "      <td id=\"T_24a9d_row0_col3\" class=\"data row0 col3\" >14</td>\n",
       "    </tr>\n",
       "    <tr>\n",
       "      <th id=\"T_24a9d_level2_row1\" class=\"row_heading level2 row1\" >Collingwood</th>\n",
       "      <td id=\"T_24a9d_row1_col0\" class=\"data row1 col0\" >36.360000</td>\n",
       "      <td id=\"T_24a9d_row1_col1\" class=\"data row1 col1\" >31.790000</td>\n",
       "      <td id=\"T_24a9d_row1_col2\" class=\"data row1 col2\" >0.640000</td>\n",
       "      <td id=\"T_24a9d_row1_col3\" class=\"data row1 col3\" >14</td>\n",
       "    </tr>\n",
       "    <tr>\n",
       "      <th id=\"T_24a9d_level2_row2\" class=\"row_heading level2 row2\" >Essendon</th>\n",
       "      <td id=\"T_24a9d_row2_col0\" class=\"data row2 col0\" >50.430000</td>\n",
       "      <td id=\"T_24a9d_row2_col1\" class=\"data row2 col1\" >31.790000</td>\n",
       "      <td id=\"T_24a9d_row2_col2\" class=\"data row2 col2\" >0.790000</td>\n",
       "      <td id=\"T_24a9d_row2_col3\" class=\"data row2 col3\" >14</td>\n",
       "    </tr>\n",
       "    <tr>\n",
       "      <th id=\"T_24a9d_level2_row3\" class=\"row_heading level2 row3\" >Fitzroy</th>\n",
       "      <td id=\"T_24a9d_row3_col0\" class=\"data row3 col0\" >36.360000</td>\n",
       "      <td id=\"T_24a9d_row3_col1\" class=\"data row3 col1\" >34.640000</td>\n",
       "      <td id=\"T_24a9d_row3_col2\" class=\"data row3 col2\" >0.320000</td>\n",
       "      <td id=\"T_24a9d_row3_col3\" class=\"data row3 col3\" >14</td>\n",
       "    </tr>\n",
       "    <tr>\n",
       "      <th id=\"T_24a9d_level2_row4\" class=\"row_heading level2 row4\" >Geelong</th>\n",
       "      <td id=\"T_24a9d_row4_col0\" class=\"data row4 col0\" >50.290000</td>\n",
       "      <td id=\"T_24a9d_row4_col1\" class=\"data row4 col1\" >27.360000</td>\n",
       "      <td id=\"T_24a9d_row4_col2\" class=\"data row4 col2\" >0.790000</td>\n",
       "      <td id=\"T_24a9d_row4_col3\" class=\"data row4 col3\" >14</td>\n",
       "    </tr>\n",
       "  </tbody>\n",
       "</table>\n"
      ],
      "text/plain": [
       "<pandas.io.formats.style.Styler at 0x7b11b4573800>"
      ]
     },
     "execution_count": 17,
     "metadata": {},
     "output_type": "execute_result"
    }
   ],
   "source": [
    "lazy_dfs = league_data.read_batch(leagues, lazy=True)\n",
    "df = adb.concat(lazy_dfs).collect().data[['LEAGUE','YEAR_ID','TEAM_ID','PS','PA','wi']]\n",
    "df_team = df.groupby(['LEAGUE','YEAR_ID','TEAM_ID']).agg(PS=('PS', 'mean'),\n",
    "                                                         PA=('PA', 'mean'),\n",
    "                                                         wi=('wi', 'mean'),\n",
    "                                                         nobs=('wi', 'count'))\n",
    "style_table(df_team.round(2).head(),hide_index=False)"
   ]
  },
  {
   "cell_type": "markdown",
   "metadata": {},
   "source": [
    "### Figure 2 -- NBA and EPL"
   ]
  },
  {
   "cell_type": "code",
   "execution_count": null,
   "metadata": {},
   "outputs": [
    {
     "data": {
      "application/vnd.plotly.v1+json": {
       "config": {
        "plotlyServerURL": "https://plot.ly"
       },
       "data": [
        {
         "hovertemplate": "LEAGUE: EPL<br>lnPSPA: %{x}<br>lnwi: %{y}<extra></extra>",
         "marker": {
          "color": "#783ABB",
          "size": 8
         },
         "mode": "markers",
         "name": "EPL",
         "type": "scatter",
         "x": {
          "bdata": "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",
          "dtype": "f8"
         },
         "y": {
          "bdata": "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",
          "dtype": "f8"
         }
        },
        {
         "hovertemplate": "Regression line<extra></extra>",
         "line": {
          "color": "#783ABB",
          "dash": "dash",
          "width": 2
         },
         "mode": "lines",
         "name": "EPL trend",
         "showlegend": false,
         "type": "scatter",
         "x": {
          "bdata": "tmTSZ+/i9797gg5JEmD3vz+gSio13fa/BL6GC1ha9r/I28Lsetf1v435/s2dVPW/URc7r8DR9L8WNXeQ4070v9pSs3EGzPO/n3DvUilJ879jjis0TMbyvyisZxVvQ/K/7Mmj9pHA8b+x59/XtD3xv3YFHLnXuvC/OiNYmvo38L/9gSj3Omrvv4a9oLmAZO6/D/kYfMZe7b+YNJE+DFnsvyFwCQFSU+u/qquBw5dN6r8z5/mF3Ufpv7wickgjQui/Rl7qCmk857/PmWLNrjbmv1jV2o/0MOW/4RBTUjor5L9qTMsUgCXjv/OHQ9fFH+K/fMO7mQsa4b8F/zNcURTgvxx1WD0uHd6/MOxIwrkR3L9AYzlHRQbav1TaKczQ+te/ZFEaUVzv1b94yArW5+PTv4g/+1pz2NG/OG3Xv/2Zz79YW7jJFIPLv4BJmdMrbMe/oDd63UJVw7+QS7bOs3y+v9AneOLhTra/QAh07B9CrL+Age8n+MyXv4AaEhKf1IE/AM4AncvQpD/Air66N5ayP3Cu/KYJxLo/GGmdye14wT/wery/1o/FP9CM27W/psk/qJ76q6i9zT9E2AzRSOrQPzBhHEy99dI/IOorxzEB1T8McztCpgzXP/z7Sr0aGNk/6IRaOI8j2z/YDWqzAy/dP8SWeS54Ot8/2I/EVPai4D9QVEySsKjhP8gY1M9qruI/PN1bDSW04z+0oeNK37nkPyxma4iZv+U/pCrzxVPF5j8Y73oDDsvnP5CzAkHI0Og/CHiKfoLW6T+APBK8PNzqP/QAmvn24es/bMUhN7Hn7D/kial0a+3tP1xOMbIl8+4/0BK579/47z+ka6AWTX/wP+BNZDUqAvE/GjAoVAeF8T9WEuxy5AfyP5L0r5HBivI/ztZzsJ4N8z8IuTfPe5DzP0Sb++1YE/Q/gH2/DDaW9D+8X4MrExn1P/ZBR0rwm/U/MiQLac0e9j9uBs+HqqH2P6rokqaHJPc/5MpWxWSn9z8grRrkQSr4P1yP3gIfrfg/lnGiIfwv+T/SU2ZA2bL5Pw42Kl+2Nfo/SRjufZO4+j8=",
          "dtype": "f8"
         },
         "y": {
          "bdata": "d84exu34/L87s/noKV/8v/+X1Atmxfu/w3yvLqIr+7+GYYpR3pH6v0tGZXQa+Pm/DitAl1Ze+b/SDxu6ksT4v5b09dzOKvi/WtnQ/wqR978dvqsiR/f2v+KihkWDXfa/pYdhaL/D9b9pbDyL+yn1vy5RF643kPS/8TXy0HP287+1Gs3zr1zzv3n/pxbswvK/PeSCOSgp8r8AyV1cZI/xv8StOH+g9fC/iJITotxb8L+Y7tyJMYTvvx+4ks+pUO6/qIFIFSId7b8wS/5amunrv7gUtKAStuq/P95p5oqC6b/Hpx8sA0/ov09x1XF7G+e/1jqLt/Pn5b9eBEH9a7Tkv+bN9kLkgOO/bpesiFxN4r/1YGLO1Bnhv/tUMCiazN+/COibs4pl3b8aewc/e/7avycOc8prl9i/OaHeVVww1r9GNErhTMnTv1fHtWw9YtG/yLRC8Fv2zb/r2hkHPSjJvwUB8R0eWsS/Uk6Qaf4Xv7+Fmj6XwHu1v5jN2YkFv6e/lJjZlCcagr/mAtp+42OdP3I0CLI29bA/QOhZhHSRuj/8zVUr2RbCP+KnfhT45MY/v4Gn/Razyz/SLWjzmkDQP8Ca/Geqp9I/sweR3LkO1T+idCVRyXXXP5XhucXY3Nk/g05OOuhD3D92u+Ku96rePzKUu5EDieA/qcoFTIu84T8jAVAGE/DiP5w3msCaI+Q/EW7keiJX5T+LpC41qormPwTbeO8xvuc/fhHDqbnx6D/zRw1kQSXqP2x+Vx7JWOs/5rSh2FCM7D9f6+uS2L/tP9QhNk1g8+4/JyzAA3QT8D9jR+XgN63wP6BiCr77RvE/230vm7/g8T8XmVR4g3ryP1S0eVVHFPM/j8+eMguu8z/L6sMPz0f0PwgG6eyS4fQ/RSEOylZ79T9/PDOnGhX2P7xXWITervY/+XJ9YaJI9z81jqI+ZuL3P3CpxxsqfPg/rcTs+O0V+T/p3xHWsa/5Pyb7NrN1Sfo/YRZckDnj+j+dMYFt/Xz7P9pMpkrBFvw/FGjLJ4Ww/D9Rg/AESUr9P46eFeIM5P0/yrk6v9B9/j8=",
          "dtype": "f8"
         }
        },
        {
         "hovertemplate": "LEAGUE: NBA<br>lnPSPA: %{x}<br>lnwi: %{y}<extra></extra>",
         "marker": {
          "color": "#141C52",
          "size": 8
         },
         "mode": "markers",
         "name": "NBA",
         "type": "scatter",
         "x": {
          "bdata": "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",
          "dtype": "f8"
         },
         "y": {
          "bdata": "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",
          "dtype": "f8"
         }
        },
        {
         "hovertemplate": "Regression line<extra></extra>",
         "line": {
          "color": "#141C52",
          "dash": "dash",
          "width": 2
         },
         "mode": "lines",
         "name": "NBA trend",
         "showlegend": false,
         "type": "scatter",
         "x": {
          "bdata": "igm0lSLMw79MUhEoRGnDvw6bbrplBsO/0OPLTIejwr+SLCnfqEDCv1R1hnHK3cG/Fr7jA+x6wb/XBkGWDRjBv5lPnigvtcC/W5j7ulBSwL86wrGa5N6/v75TbL8nGb+/QuUm5GpTvr/GduEIro29v0oInC3xx7y/zZlWUjQCvL9RKxF3dzy7v9W8y5u6drq/WE6GwP2wub/c30DlQOu4v2Bx+wmEJbi/5AK2Lsdft79olHBTCpq2v+wlK3hN1LW/cLflnJAOtb/zSKDB00i0v3faWuYWg7O/+2sVC1q9sr9//c8vnfexvwOPilTgMbG/hiBFeSNssL8UZP87zUyvvxyHdIVTwa2/JKrpztk1rL8szV4YYKqqvzLw02HmHqm/OhNJq2yTp79CNr708gemv0pZMz55fKS/Unyoh//wor9Ynx3RhWWhv8CEJTUYtJ+/0MoPyCSdnL/gEPpaMYaZv/BW5O09b5a/AJ3OgEpYk78Q47gTV0GQv0BSRk3HVIq/YN4ac+AmhL/g1N4x8/F7v0DaD/tKLG+/ACuISb7SSb/AxEvW60JiPyDKfJ9DfXU/8NjpqYjsgD/QTBWEbxqHP7DAQF5WSI0/SBo2nB67kT841EsJEtKUPzCOYXYF6Zc/IEh34/j/mj8QAo1Q7BaePwBe0d7vlqA/+DpclWkioj/wF+dL462jP+j0cQJdOaU/4NH8uNbEpj/YrodvUFCoP9CLEibK26k/yGid3ENnqz/ERSiTvfKsP7wis0k3fq4/2v8egNgEsD9WbmRblcqwP9LcqTZSkLE/TkvvEQ9Wsj/KuTTtyxuzP0YoesiI4bM/wpa/o0WntD8+BQV/Am21P7xzSlq/MrY/OOKPNXz4tj+0UNUQOb63PzC/Guz1g7g/rC1gx7JJuT8onKWibw+6P6QK630s1bo/IHkwWemauz+c53U0pmC8PxhWuw9jJr0/lMQA6x/svT8QM0bG3LG+P4yhi6GZd78/BIhoPqsewD9CPwusiYHAP4D2rRlo5MA/vq1Qh0ZHwT/+ZPP0JKrBPzwclmIDDcI/edM40OFvwj8=",
          "dtype": "f8"
         },
         "y": {
          "bdata": "nm3kadKPAcCA9DvXUjgBwGJ7k0TT4ADARQLrsVOJAMAniUIf1DEAwBEgNBmptP+/1S3j86kF/7+YO5LOqlb+v1xJQamrp/2/IFfwg6z4/L/lZJ9erUn8v6lyTjmumvu/bYD9E6/r+r8yjqzurzz6v/abW8mwjfm/uqkKpLHe+L9+t7l+si/4v0LFaFmzgPe/BtMXNLTR9r/K4MYOtSL2v47udem1c/W/U/wkxLbE9L8XCtSetxX0v9sXg3m4ZvO/oCUyVLm38r9jM+EuugjyvydBkAm7WfG/7E4/5Luq8L9hudx9effvv+rUOjN7me6/cfCY6Hw77b/5C/edft3rv4InVVOAf+q/C0OzCIIh6b+TXhG+g8Pnvxp6b3OFZea/o5XNKIcH5b8ssSveiKnjv7TMiZOKS+K/PejnSIzt4L+HB4z8Gx/fv5k+SGcfY9y/qnUE0iKn2b+7rMA8JuvWv83jfKcpL9S/3ho5Ei1z0b/eo+r5YG7NvwASY89n9se/I4DbpG5+wr9w3Kf06gy6v2pxMT/xOa6/6lMmKhm0kL8BOxYqsAubP3uylF/esrE/NdajtNCivD/5fNmEYcnDP9YOYa9aQck/s6Do2VO5zj9IGTiCphjSPz7iexej1NQ/LKu/rJ+Q1z8bdANCnEzaPwo9R9eYCN0/+AWLbJXE3z9zZ+cASUDhP+tLiUtHnuI/YjArlkX84z/aFM3gQ1rlP1H5bitCuOY/yN0QdkAW6D9DwrLAPnTpP7qmVAs90uo/Mov2VTsw7D+pb5igOY7tPyBUOus37O4/TBzuGhsl8D+IDj9AGtTwP8QAkGUZg/E///Lgihgy8j875TGwF+HyP3nXgtUWkPM/tMnT+hU/9D/wuyQgFe70PyyudUUUnfU/Z6DGahNM9j+jkheQEvv2P9+EaLURqvc/Gne52hBZ+D9WaQoAEAj5P5JbWyUPt/k/zU2sSg5m+j8JQP1vDRX7P0UyTpUMxPs/gCSfugtz/D+8FvDfCiL9P/gIQQUK0f0/M/uRKgmA/j9y7eJPCC//P67fM3UH3v8/82hCTYNGAEA=",
          "dtype": "f8"
         }
        }
       ],
       "layout": {
        "font": {
         "size": 12
        },
        "legend": {
         "orientation": "h",
         "x": 0.5,
         "xanchor": "center",
         "y": -0.15,
         "yanchor": "top"
        },
        "margin": {
         "b": 80,
         "l": 80,
         "r": 80,
         "t": 80
        },
        "template": {
         "layout": {
          "colorway": [
           "#783ABB",
           "#141C52",
           "#F9F9F9",
           "#75D0E8",
           "#DDE5ED",
           "#EEF2F6",
           "#43D6AC",
           "#A1EBD6",
           "#103392"
          ],
          "font": {
           "color": "#141C52",
           "size": 12
          },
          "hoverlabel": {
           "bgcolor": "white",
           "bordercolor": "#141C52",
           "font": {
            "color": "#141C52"
           }
          },
          "legend": {
           "bgcolor": "rgba(255,255,255,0.8)",
           "bordercolor": "#141C52",
           "borderwidth": 1,
           "font": {
            "color": "#141C52",
            "size": 11
           }
          },
          "paper_bgcolor": "white",
          "plot_bgcolor": "white",
          "title": {
           "font": {
            "color": "#141C52",
            "size": 16
           },
           "x": 0.05,
           "xanchor": "left"
          },
          "xaxis": {
           "gridcolor": "#E0E0E0",
           "linecolor": "#141C52",
           "tickcolor": "#141C52",
           "tickfont": {
            "color": "#141C52",
            "size": 11
           },
           "title": {
            "font": {
             "color": "#141C52",
             "size": 14
            }
           }
          },
          "yaxis": {
           "gridcolor": "#E0E0E0",
           "linecolor": "#141C52",
           "tickcolor": "#141C52",
           "tickfont": {
            "color": "#141C52",
            "size": 11
           },
           "title": {
            "font": {
             "color": "#141C52",
             "size": 14
            }
           }
          }
         }
        },
        "title": {},
        "xaxis": {
         "title": {
          "text": "lnPSPA"
         }
        },
        "yaxis": {
         "title": {
          "text": "lnwi"
         }
        }
       }
      }
     },
     "metadata": {},
     "output_type": "display_data"
    },
    {
     "name": "stdout",
     "output_type": "stream",
     "text": [
      "Exported: exports/team_season_plot.json\n"
     ]
    }
   ],
   "source": [
    "# prepare data for regression\n",
    "df_reg = df_team.copy()\n",
    "df_reg = df_reg.loc[(df_reg['PS']>0) & (df_reg['PA']>0) & (df_reg['wi']>0) & (df_reg['wi']<1)]\n",
    "df_reg['lnwi']=np.log(df_reg['wi']/(1-df_reg['wi']))\n",
    "df_reg['lnPSPA']=np.log(df_reg['PS']/df_reg['PA'])\n",
    "df_reg = df_reg.reset_index()\n",
    "\n",
    "# Create static seaborn plot\n",
    "NBA_and_EPL = df_reg[df_reg['LEAGUE'].isin(['NBA', 'EPL'])]\n",
    "\n",
    "# Create and display interactive Plotly version\n",
    "fig = create_plotly_scatterplot(\n",
    "    data=NBA_and_EPL,\n",
    "    x_col='lnPSPA',\n",
    "    y_col='lnwi', \n",
    "    hue_col='LEAGUE',\n",
    "    show_regression=True\n",
    ")\n",
    "\n",
    "# Display interactive plot in notebook\n",
    "fig.show()\n",
    "\n",
    "# Export both HTML and JSON versions\n",
    "export_plot(fig, \"team_season_plot\", \"Team-Season Analysis\")"
   ]
  },
  {
   "cell_type": "code",
   "execution_count": 19,
   "metadata": {},
   "outputs": [
    {
     "name": "stderr",
     "output_type": "stream",
     "text": [
      "/tmp/ipykernel_42612/1625533100.py:3: FutureWarning:\n",
      "\n",
      "DataFrameGroupBy.apply operated on the grouping columns. This behavior is deprecated, and in a future version of pandas the grouping columns will be excluded from the operation. Either pass `include_groups=False` to exclude the groupings or explicitly select the grouping columns after groupby to silence this warning.\n",
      "\n"
     ]
    },
    {
     "data": {
      "text/html": [
       "<style type=\"text/css\">\n",
       "#T_81054 th {\n",
       "  background-color: #141C52;\n",
       "  color: #F9F9F9;\n",
       "  font-weight: bold;\n",
       "  text-align: left;\n",
       "  padding: 10px;\n",
       "}\n",
       "#T_81054 td {\n",
       "  background-color: #75D0E8;\n",
       "  color: #141C52;\n",
       "  padding: 8px;\n",
       "}\n",
       "#T_81054 tr:hover td {\n",
       "  background-color: #783ABB;\n",
       "  color: #F9F9F9;\n",
       "}\n",
       "</style>\n",
       "<table id=\"T_81054\">\n",
       "  <thead>\n",
       "    <tr>\n",
       "      <th class=\"blank level0\" >&nbsp;</th>\n",
       "      <th id=\"T_81054_level0_col0\" class=\"col_heading level0 col0\" >LEAGUE</th>\n",
       "      <th id=\"T_81054_level0_col1\" class=\"col_heading level0 col1\" >adj.</th>\n",
       "      <th id=\"T_81054_level0_col2\" class=\"col_heading level0 col2\" >adj. se</th>\n",
       "      <th id=\"T_81054_level0_col3\" class=\"col_heading level0 col3\" >λ</th>\n",
       "      <th id=\"T_81054_level0_col4\" class=\"col_heading level0 col4\" >λ se</th>\n",
       "      <th id=\"T_81054_level0_col5\" class=\"col_heading level0 col5\" >nobs</th>\n",
       "      <th id=\"T_81054_level0_col6\" class=\"col_heading level0 col6\" >adj. $R^2$</th>\n",
       "    </tr>\n",
       "  </thead>\n",
       "  <tbody>\n",
       "    <tr>\n",
       "      <th id=\"T_81054_level0_row0\" class=\"row_heading level0 row0\" >0</th>\n",
       "      <td id=\"T_81054_row0_col0\" class=\"data row0 col0\" >EPL</td>\n",
       "      <td id=\"T_81054_row0_col1\" class=\"data row0 col1\" >-0.150000</td>\n",
       "      <td id=\"T_81054_row0_col2\" class=\"data row0 col2\" >0.010000</td>\n",
       "      <td id=\"T_81054_row0_col3\" class=\"data row0 col3\" >1.240000</td>\n",
       "      <td id=\"T_81054_row0_col4\" class=\"data row0 col4\" >0.020000</td>\n",
       "      <td id=\"T_81054_row0_col5\" class=\"data row0 col5\" >200.000000</td>\n",
       "      <td id=\"T_81054_row0_col6\" class=\"data row0 col6\" >0.940000</td>\n",
       "    </tr>\n",
       "    <tr>\n",
       "      <th id=\"T_81054_level0_row1\" class=\"row_heading level0 row1\" >1</th>\n",
       "      <td id=\"T_81054_row1_col0\" class=\"data row1 col0\" >MLB</td>\n",
       "      <td id=\"T_81054_row1_col1\" class=\"data row1 col1\" >-0.000000</td>\n",
       "      <td id=\"T_81054_row1_col2\" class=\"data row1 col2\" >0.010000</td>\n",
       "      <td id=\"T_81054_row1_col3\" class=\"data row1 col3\" >1.780000</td>\n",
       "      <td id=\"T_81054_row1_col4\" class=\"data row1 col4\" >0.040000</td>\n",
       "      <td id=\"T_81054_row1_col5\" class=\"data row1 col5\" >300.000000</td>\n",
       "      <td id=\"T_81054_row1_col6\" class=\"data row1 col6\" >0.890000</td>\n",
       "    </tr>\n",
       "    <tr>\n",
       "      <th id=\"T_81054_level0_row2\" class=\"row_heading level0 row2\" >2</th>\n",
       "      <td id=\"T_81054_row2_col0\" class=\"data row2 col0\" >NHL</td>\n",
       "      <td id=\"T_81054_row2_col1\" class=\"data row2 col1\" >0.240000</td>\n",
       "      <td id=\"T_81054_row2_col2\" class=\"data row2 col2\" >0.010000</td>\n",
       "      <td id=\"T_81054_row2_col3\" class=\"data row2 col3\" >2.060000</td>\n",
       "      <td id=\"T_81054_row2_col4\" class=\"data row2 col4\" >0.040000</td>\n",
       "      <td id=\"T_81054_row2_col5\" class=\"data row2 col5\" >302.000000</td>\n",
       "      <td id=\"T_81054_row2_col6\" class=\"data row2 col6\" >0.910000</td>\n",
       "    </tr>\n",
       "    <tr>\n",
       "      <th id=\"T_81054_level0_row3\" class=\"row_heading level0 row3\" >3</th>\n",
       "      <td id=\"T_81054_row3_col0\" class=\"data row3 col0\" >SUP</td>\n",
       "      <td id=\"T_81054_row3_col1\" class=\"data row3 col1\" >-0.030000</td>\n",
       "      <td id=\"T_81054_row3_col2\" class=\"data row3 col2\" >0.030000</td>\n",
       "      <td id=\"T_81054_row3_col3\" class=\"data row3 col3\" >2.600000</td>\n",
       "      <td id=\"T_81054_row3_col4\" class=\"data row3 col4\" >0.090000</td>\n",
       "      <td id=\"T_81054_row3_col5\" class=\"data row3 col5\" >154.000000</td>\n",
       "      <td id=\"T_81054_row3_col6\" class=\"data row3 col6\" >0.840000</td>\n",
       "    </tr>\n",
       "    <tr>\n",
       "      <th id=\"T_81054_level0_row4\" class=\"row_heading level0 row4\" >4</th>\n",
       "      <td id=\"T_81054_row4_col0\" class=\"data row4 col0\" >NFL</td>\n",
       "      <td id=\"T_81054_row4_col1\" class=\"data row4 col1\" >0.020000</td>\n",
       "      <td id=\"T_81054_row4_col2\" class=\"data row4 col2\" >0.020000</td>\n",
       "      <td id=\"T_81054_row4_col3\" class=\"data row4 col3\" >2.840000</td>\n",
       "      <td id=\"T_81054_row4_col4\" class=\"data row4 col4\" >0.080000</td>\n",
       "      <td id=\"T_81054_row4_col5\" class=\"data row4 col5\" >319.000000</td>\n",
       "      <td id=\"T_81054_row4_col6\" class=\"data row4 col6\" >0.810000</td>\n",
       "    </tr>\n",
       "    <tr>\n",
       "      <th id=\"T_81054_level0_row5\" class=\"row_heading level0 row5\" >5</th>\n",
       "      <td id=\"T_81054_row5_col0\" class=\"data row5 col0\" >LAX</td>\n",
       "      <td id=\"T_81054_row5_col1\" class=\"data row5 col1\" >-0.020000</td>\n",
       "      <td id=\"T_81054_row5_col2\" class=\"data row5 col2\" >0.010000</td>\n",
       "      <td id=\"T_81054_row5_col3\" class=\"data row5 col3\" >3.170000</td>\n",
       "      <td id=\"T_81054_row5_col4\" class=\"data row5 col4\" >0.050000</td>\n",
       "      <td id=\"T_81054_row5_col5\" class=\"data row5 col5\" >655.000000</td>\n",
       "      <td id=\"T_81054_row5_col6\" class=\"data row5 col6\" >0.840000</td>\n",
       "    </tr>\n",
       "    <tr>\n",
       "      <th id=\"T_81054_level0_row6\" class=\"row_heading level0 row6\" >6</th>\n",
       "      <td id=\"T_81054_row6_col0\" class=\"data row6 col0\" >AFL</td>\n",
       "      <td id=\"T_81054_row6_col1\" class=\"data row6 col1\" >-0.020000</td>\n",
       "      <td id=\"T_81054_row6_col2\" class=\"data row6 col2\" >0.020000</td>\n",
       "      <td id=\"T_81054_row6_col3\" class=\"data row6 col3\" >3.570000</td>\n",
       "      <td id=\"T_81054_row6_col4\" class=\"data row6 col4\" >0.090000</td>\n",
       "      <td id=\"T_81054_row6_col5\" class=\"data row6 col5\" >177.000000</td>\n",
       "      <td id=\"T_81054_row6_col6\" class=\"data row6 col6\" >0.900000</td>\n",
       "    </tr>\n",
       "    <tr>\n",
       "      <th id=\"T_81054_level0_row7\" class=\"row_heading level0 row7\" >7</th>\n",
       "      <td id=\"T_81054_row7_col0\" class=\"data row7 col0\" >IPL</td>\n",
       "      <td id=\"T_81054_row7_col1\" class=\"data row7 col1\" >-0.020000</td>\n",
       "      <td id=\"T_81054_row7_col2\" class=\"data row7 col2\" >0.040000</td>\n",
       "      <td id=\"T_81054_row7_col3\" class=\"data row7 col3\" >6.790000</td>\n",
       "      <td id=\"T_81054_row7_col4\" class=\"data row7 col4\" >0.650000</td>\n",
       "      <td id=\"T_81054_row7_col5\" class=\"data row7 col5\" >84.000000</td>\n",
       "      <td id=\"T_81054_row7_col6\" class=\"data row7 col6\" >0.570000</td>\n",
       "    </tr>\n",
       "    <tr>\n",
       "      <th id=\"T_81054_level0_row8\" class=\"row_heading level0 row8\" >8</th>\n",
       "      <td id=\"T_81054_row8_col0\" class=\"data row8 col0\" >NBA</td>\n",
       "      <td id=\"T_81054_row8_col1\" class=\"data row8 col1\" >-0.000000</td>\n",
       "      <td id=\"T_81054_row8_col2\" class=\"data row8 col2\" >0.010000</td>\n",
       "      <td id=\"T_81054_row8_col3\" class=\"data row8 col3\" >14.320000</td>\n",
       "      <td id=\"T_81054_row8_col4\" class=\"data row8 col4\" >0.210000</td>\n",
       "      <td id=\"T_81054_row8_col5\" class=\"data row8 col5\" >300.000000</td>\n",
       "      <td id=\"T_81054_row8_col6\" class=\"data row8 col6\" >0.940000</td>\n",
       "    </tr>\n",
       "  </tbody>\n",
       "</table>\n"
      ],
      "text/plain": [
       "<pandas.io.formats.style.Styler at 0x7b11b44c3d40>"
      ]
     },
     "execution_count": 19,
     "metadata": {},
     "output_type": "execute_result"
    }
   ],
   "source": [
    "# Compute standard regression results by team-season for 2010-19 period\n",
    "df_ols = df_reg.loc[(df_reg['YEAR_ID']>=st_year_) & (df_reg['YEAR_ID']<=end_year_)]\n",
    "ols=df_ols.groupby(['LEAGUE']).apply(ols_coef,xcol=['lnPSPA'],ycol=['lnwi'])\n",
    "ols = ols.droplevel(1).sort_values(['λ']).reset_index().round(2)\n",
    "style_table(ols, hide_index=False)"
   ]
  },
  {
   "cell_type": "markdown",
   "metadata": {},
   "source": [
    "### Save into ArcticDB"
   ]
  },
  {
   "cell_type": "code",
   "execution_count": 20,
   "metadata": {},
   "outputs": [],
   "source": [
    "analysis.write('ols', ols);"
   ]
  },
  {
   "cell_type": "markdown",
   "metadata": {},
   "source": [
    "### Figure 3a -- 2010 to 2019"
   ]
  },
  {
   "cell_type": "code",
   "execution_count": null,
   "metadata": {},
   "outputs": [
    {
     "data": {
      "application/vnd.plotly.v1+json": {
       "config": {
        "plotlyServerURL": "https://plot.ly"
       },
       "data": [
        {
         "error_y": {
          "array": {
           "bdata": "exSuR+F6pD8=",
           "dtype": "f8"
          },
          "color": "#75D0E8",
          "thickness": 2,
          "type": "data",
          "visible": true,
          "width": 3
         },
         "hovertemplate": "LEAGUE: EPL<br>LEAGUE: %{x}<br>value: %{y}<extra></extra>",
         "marker": {
          "color": "#783ABB"
         },
         "name": "EPL",
         "showlegend": true,
         "text": {
          "bdata": "16NwPQrX8z8=",
          "dtype": "f8"
         },
         "textposition": "outside",
         "texttemplate": "%{text:.2f}",
         "type": "bar",
         "x": [
          "EPL"
         ],
         "xaxis": "x",
         "y": {
          "bdata": "16NwPQrX8z8=",
          "dtype": "f8"
         },
         "yaxis": "y"
        },
        {
         "error_y": {
          "array": {
           "bdata": "exSuR+F6tD8=",
           "dtype": "f8"
          },
          "color": "#75D0E8",
          "thickness": 2,
          "type": "data",
          "visible": true,
          "width": 3
         },
         "hovertemplate": "LEAGUE: MLB<br>LEAGUE: %{x}<br>value: %{y}<extra></extra>",
         "marker": {
          "color": "#141C52"
         },
         "name": "MLB",
         "showlegend": true,
         "text": {
          "bdata": "exSuR+F6/D8=",
          "dtype": "f8"
         },
         "textposition": "outside",
         "texttemplate": "%{text:.2f}",
         "type": "bar",
         "x": [
          "MLB"
         ],
         "xaxis": "x",
         "y": {
          "bdata": "exSuR+F6/D8=",
          "dtype": "f8"
         },
         "yaxis": "y"
        },
        {
         "error_y": {
          "array": {
           "bdata": "exSuR+F6tD8=",
           "dtype": "f8"
          },
          "color": "#75D0E8",
          "thickness": 2,
          "type": "data",
          "visible": true,
          "width": 3
         },
         "hovertemplate": "LEAGUE: NHL<br>LEAGUE: %{x}<br>value: %{y}<extra></extra>",
         "marker": {
          "color": "#F9F9F9"
         },
         "name": "NHL",
         "showlegend": true,
         "text": {
          "bdata": "exSuR+F6AEA=",
          "dtype": "f8"
         },
         "textposition": "outside",
         "texttemplate": "%{text:.2f}",
         "type": "bar",
         "x": [
          "NHL"
         ],
         "xaxis": "x",
         "y": {
          "bdata": "exSuR+F6AEA=",
          "dtype": "f8"
         },
         "yaxis": "y"
        },
        {
         "error_y": {
          "array": {
           "bdata": "CtejcD0Kxz8=",
           "dtype": "f8"
          },
          "color": "#75D0E8",
          "thickness": 2,
          "type": "data",
          "visible": true,
          "width": 3
         },
         "hovertemplate": "LEAGUE: SUP<br>LEAGUE: %{x}<br>value: %{y}<extra></extra>",
         "marker": {
          "color": "#75D0E8"
         },
         "name": "SUP",
         "showlegend": true,
         "text": {
          "bdata": "zczMzMzMBEA=",
          "dtype": "f8"
         },
         "textposition": "outside",
         "texttemplate": "%{text:.2f}",
         "type": "bar",
         "x": [
          "SUP"
         ],
         "xaxis": "x",
         "y": {
          "bdata": "zczMzMzMBEA=",
          "dtype": "f8"
         },
         "yaxis": "y"
        },
        {
         "error_y": {
          "array": {
           "bdata": "exSuR+F6xD8=",
           "dtype": "f8"
          },
          "color": "#75D0E8",
          "thickness": 2,
          "type": "data",
          "visible": true,
          "width": 3
         },
         "hovertemplate": "LEAGUE: NFL<br>LEAGUE: %{x}<br>value: %{y}<extra></extra>",
         "marker": {
          "color": "#DDE5ED"
         },
         "name": "NFL",
         "showlegend": true,
         "text": {
          "bdata": "uB6F61G4BkA=",
          "dtype": "f8"
         },
         "textposition": "outside",
         "texttemplate": "%{text:.2f}",
         "type": "bar",
         "x": [
          "NFL"
         ],
         "xaxis": "x",
         "y": {
          "bdata": "uB6F61G4BkA=",
          "dtype": "f8"
         },
         "yaxis": "y"
        },
        {
         "error_y": {
          "array": {
           "bdata": "mpmZmZmZuT8=",
           "dtype": "f8"
          },
          "color": "#75D0E8",
          "thickness": 2,
          "type": "data",
          "visible": true,
          "width": 3
         },
         "hovertemplate": "LEAGUE: LAX<br>LEAGUE: %{x}<br>value: %{y}<extra></extra>",
         "marker": {
          "color": "#EEF2F6"
         },
         "name": "LAX",
         "showlegend": true,
         "text": {
          "bdata": "XI/C9ShcCUA=",
          "dtype": "f8"
         },
         "textposition": "outside",
         "texttemplate": "%{text:.2f}",
         "type": "bar",
         "x": [
          "LAX"
         ],
         "xaxis": "x",
         "y": {
          "bdata": "XI/C9ShcCUA=",
          "dtype": "f8"
         },
         "yaxis": "y"
        },
        {
         "error_y": {
          "array": {
           "bdata": "CtejcD0Kxz8=",
           "dtype": "f8"
          },
          "color": "#75D0E8",
          "thickness": 2,
          "type": "data",
          "visible": true,
          "width": 3
         },
         "hovertemplate": "LEAGUE: AFL<br>LEAGUE: %{x}<br>value: %{y}<extra></extra>",
         "marker": {
          "color": "#43D6AC"
         },
         "name": "AFL",
         "showlegend": true,
         "text": {
          "bdata": "j8L1KFyPDEA=",
          "dtype": "f8"
         },
         "textposition": "outside",
         "texttemplate": "%{text:.2f}",
         "type": "bar",
         "x": [
          "AFL"
         ],
         "xaxis": "x",
         "y": {
          "bdata": "j8L1KFyPDEA=",
          "dtype": "f8"
         },
         "yaxis": "y"
        },
        {
         "error_y": {
          "array": {
           "bdata": "zczMzMzM9D8=",
           "dtype": "f8"
          },
          "color": "#75D0E8",
          "thickness": 2,
          "type": "data",
          "visible": true,
          "width": 3
         },
         "hovertemplate": "LEAGUE: IPL<br>LEAGUE: %{x}<br>value: %{y}<extra></extra>",
         "marker": {
          "color": "#A1EBD6"
         },
         "name": "IPL",
         "showlegend": true,
         "text": {
          "bdata": "KVyPwvUoG0A=",
          "dtype": "f8"
         },
         "textposition": "outside",
         "texttemplate": "%{text:.2f}",
         "type": "bar",
         "x": [
          "IPL"
         ],
         "xaxis": "x",
         "y": {
          "bdata": "KVyPwvUoG0A=",
          "dtype": "f8"
         },
         "yaxis": "y"
        },
        {
         "error_y": {
          "array": {
           "bdata": "4XoUrkfh2j8=",
           "dtype": "f8"
          },
          "color": "#75D0E8",
          "thickness": 2,
          "type": "data",
          "visible": true,
          "width": 3
         },
         "hovertemplate": "LEAGUE: NBA<br>LEAGUE: %{x}<br>value: %{y}<extra></extra>",
         "marker": {
          "color": "#103392"
         },
         "name": "NBA",
         "showlegend": true,
         "text": {
          "bdata": "pHA9CtejLEA=",
          "dtype": "f8"
         },
         "textposition": "outside",
         "texttemplate": "%{text:.2f}",
         "type": "bar",
         "x": [
          "NBA"
         ],
         "xaxis": "x",
         "y": {
          "bdata": "pHA9CtejLEA=",
          "dtype": "f8"
         },
         "yaxis": "y"
        },
        {
         "error_y": {
          "array": {
           "bdata": "AAAAAAAA+H8=",
           "dtype": "f8"
          },
          "color": "#75D0E8",
          "thickness": 2,
          "type": "data",
          "visible": true,
          "width": 3
         },
         "hovertemplate": "LEAGUE: EPL<br>LEAGUE: %{x}<br>value: %{y}<extra></extra>",
         "marker": {
          "color": "#783ABB"
         },
         "name": "EPL",
         "showlegend": false,
         "text": {
          "bdata": "AAAAAAAAaUA=",
          "dtype": "f8"
         },
         "textposition": "outside",
         "texttemplate": "%{text:.2f}",
         "type": "bar",
         "x": [
          "EPL"
         ],
         "xaxis": "x2",
         "y": {
          "bdata": "AAAAAAAAaUA=",
          "dtype": "f8"
         },
         "yaxis": "y2"
        },
        {
         "error_y": {
          "array": {
           "bdata": "AAAAAAAA+H8=",
           "dtype": "f8"
          },
          "color": "#75D0E8",
          "thickness": 2,
          "type": "data",
          "visible": true,
          "width": 3
         },
         "hovertemplate": "LEAGUE: MLB<br>LEAGUE: %{x}<br>value: %{y}<extra></extra>",
         "marker": {
          "color": "#141C52"
         },
         "name": "MLB",
         "showlegend": false,
         "text": {
          "bdata": "AAAAAADAckA=",
          "dtype": "f8"
         },
         "textposition": "outside",
         "texttemplate": "%{text:.2f}",
         "type": "bar",
         "x": [
          "MLB"
         ],
         "xaxis": "x2",
         "y": {
          "bdata": "AAAAAADAckA=",
          "dtype": "f8"
         },
         "yaxis": "y2"
        },
        {
         "error_y": {
          "array": {
           "bdata": "AAAAAAAA+H8=",
           "dtype": "f8"
          },
          "color": "#75D0E8",
          "thickness": 2,
          "type": "data",
          "visible": true,
          "width": 3
         },
         "hovertemplate": "LEAGUE: NHL<br>LEAGUE: %{x}<br>value: %{y}<extra></extra>",
         "marker": {
          "color": "#F9F9F9"
         },
         "name": "NHL",
         "showlegend": false,
         "text": {
          "bdata": "AAAAAADgckA=",
          "dtype": "f8"
         },
         "textposition": "outside",
         "texttemplate": "%{text:.2f}",
         "type": "bar",
         "x": [
          "NHL"
         ],
         "xaxis": "x2",
         "y": {
          "bdata": "AAAAAADgckA=",
          "dtype": "f8"
         },
         "yaxis": "y2"
        },
        {
         "error_y": {
          "array": {
           "bdata": "AAAAAAAA+H8=",
           "dtype": "f8"
          },
          "color": "#75D0E8",
          "thickness": 2,
          "type": "data",
          "visible": true,
          "width": 3
         },
         "hovertemplate": "LEAGUE: SUP<br>LEAGUE: %{x}<br>value: %{y}<extra></extra>",
         "marker": {
          "color": "#75D0E8"
         },
         "name": "SUP",
         "showlegend": false,
         "text": {
          "bdata": "AAAAAABAY0A=",
          "dtype": "f8"
         },
         "textposition": "outside",
         "texttemplate": "%{text:.2f}",
         "type": "bar",
         "x": [
          "SUP"
         ],
         "xaxis": "x2",
         "y": {
          "bdata": "AAAAAABAY0A=",
          "dtype": "f8"
         },
         "yaxis": "y2"
        },
        {
         "error_y": {
          "array": {
           "bdata": "AAAAAAAA+H8=",
           "dtype": "f8"
          },
          "color": "#75D0E8",
          "thickness": 2,
          "type": "data",
          "visible": true,
          "width": 3
         },
         "hovertemplate": "LEAGUE: NFL<br>LEAGUE: %{x}<br>value: %{y}<extra></extra>",
         "marker": {
          "color": "#DDE5ED"
         },
         "name": "NFL",
         "showlegend": false,
         "text": {
          "bdata": "AAAAAADwc0A=",
          "dtype": "f8"
         },
         "textposition": "outside",
         "texttemplate": "%{text:.2f}",
         "type": "bar",
         "x": [
          "NFL"
         ],
         "xaxis": "x2",
         "y": {
          "bdata": "AAAAAADwc0A=",
          "dtype": "f8"
         },
         "yaxis": "y2"
        },
        {
         "error_y": {
          "array": {
           "bdata": "AAAAAAAA+H8=",
           "dtype": "f8"
          },
          "color": "#75D0E8",
          "thickness": 2,
          "type": "data",
          "visible": true,
          "width": 3
         },
         "hovertemplate": "LEAGUE: LAX<br>LEAGUE: %{x}<br>value: %{y}<extra></extra>",
         "marker": {
          "color": "#EEF2F6"
         },
         "name": "LAX",
         "showlegend": false,
         "text": {
          "bdata": "AAAAAAB4hEA=",
          "dtype": "f8"
         },
         "textposition": "outside",
         "texttemplate": "%{text:.2f}",
         "type": "bar",
         "x": [
          "LAX"
         ],
         "xaxis": "x2",
         "y": {
          "bdata": "AAAAAAB4hEA=",
          "dtype": "f8"
         },
         "yaxis": "y2"
        },
        {
         "error_y": {
          "array": {
           "bdata": "AAAAAAAA+H8=",
           "dtype": "f8"
          },
          "color": "#75D0E8",
          "thickness": 2,
          "type": "data",
          "visible": true,
          "width": 3
         },
         "hovertemplate": "LEAGUE: AFL<br>LEAGUE: %{x}<br>value: %{y}<extra></extra>",
         "marker": {
          "color": "#43D6AC"
         },
         "name": "AFL",
         "showlegend": false,
         "text": {
          "bdata": "AAAAAAAgZkA=",
          "dtype": "f8"
         },
         "textposition": "outside",
         "texttemplate": "%{text:.2f}",
         "type": "bar",
         "x": [
          "AFL"
         ],
         "xaxis": "x2",
         "y": {
          "bdata": "AAAAAAAgZkA=",
          "dtype": "f8"
         },
         "yaxis": "y2"
        },
        {
         "error_y": {
          "array": {
           "bdata": "AAAAAAAA+H8=",
           "dtype": "f8"
          },
          "color": "#75D0E8",
          "thickness": 2,
          "type": "data",
          "visible": true,
          "width": 3
         },
         "hovertemplate": "LEAGUE: IPL<br>LEAGUE: %{x}<br>value: %{y}<extra></extra>",
         "marker": {
          "color": "#A1EBD6"
         },
         "name": "IPL",
         "showlegend": false,
         "text": {
          "bdata": "AAAAAAAAVUA=",
          "dtype": "f8"
         },
         "textposition": "outside",
         "texttemplate": "%{text:.2f}",
         "type": "bar",
         "x": [
          "IPL"
         ],
         "xaxis": "x2",
         "y": {
          "bdata": "AAAAAAAAVUA=",
          "dtype": "f8"
         },
         "yaxis": "y2"
        },
        {
         "error_y": {
          "array": {
           "bdata": "AAAAAAAA+H8=",
           "dtype": "f8"
          },
          "color": "#75D0E8",
          "thickness": 2,
          "type": "data",
          "visible": true,
          "width": 3
         },
         "hovertemplate": "LEAGUE: NBA<br>LEAGUE: %{x}<br>value: %{y}<extra></extra>",
         "marker": {
          "color": "#103392"
         },
         "name": "NBA",
         "showlegend": false,
         "text": {
          "bdata": "AAAAAADAckA=",
          "dtype": "f8"
         },
         "textposition": "outside",
         "texttemplate": "%{text:.2f}",
         "type": "bar",
         "x": [
          "NBA"
         ],
         "xaxis": "x2",
         "y": {
          "bdata": "AAAAAADAckA=",
          "dtype": "f8"
         },
         "yaxis": "y2"
        },
        {
         "error_y": {
          "array": {
           "bdata": "AAAAAAAA+H8=",
           "dtype": "f8"
          },
          "color": "#75D0E8",
          "thickness": 2,
          "type": "data",
          "visible": true,
          "width": 3
         },
         "hovertemplate": "LEAGUE: EPL<br>LEAGUE: %{x}<br>value: %{y}<extra></extra>",
         "marker": {
          "color": "#783ABB"
         },
         "name": "EPL",
         "showlegend": false,
         "text": {
          "bdata": "FK5H4XoU7j8=",
          "dtype": "f8"
         },
         "textposition": "outside",
         "texttemplate": "%{text:.2f}",
         "type": "bar",
         "x": [
          "EPL"
         ],
         "xaxis": "x3",
         "y": {
          "bdata": "FK5H4XoU7j8=",
          "dtype": "f8"
         },
         "yaxis": "y3"
        },
        {
         "error_y": {
          "array": {
           "bdata": "AAAAAAAA+H8=",
           "dtype": "f8"
          },
          "color": "#75D0E8",
          "thickness": 2,
          "type": "data",
          "visible": true,
          "width": 3
         },
         "hovertemplate": "LEAGUE: MLB<br>LEAGUE: %{x}<br>value: %{y}<extra></extra>",
         "marker": {
          "color": "#141C52"
         },
         "name": "MLB",
         "showlegend": false,
         "text": {
          "bdata": "exSuR+F67D8=",
          "dtype": "f8"
         },
         "textposition": "outside",
         "texttemplate": "%{text:.2f}",
         "type": "bar",
         "x": [
          "MLB"
         ],
         "xaxis": "x3",
         "y": {
          "bdata": "exSuR+F67D8=",
          "dtype": "f8"
         },
         "yaxis": "y3"
        },
        {
         "error_y": {
          "array": {
           "bdata": "AAAAAAAA+H8=",
           "dtype": "f8"
          },
          "color": "#75D0E8",
          "thickness": 2,
          "type": "data",
          "visible": true,
          "width": 3
         },
         "hovertemplate": "LEAGUE: NHL<br>LEAGUE: %{x}<br>value: %{y}<extra></extra>",
         "marker": {
          "color": "#F9F9F9"
         },
         "name": "NHL",
         "showlegend": false,
         "text": {
          "bdata": "H4XrUbge7T8=",
          "dtype": "f8"
         },
         "textposition": "outside",
         "texttemplate": "%{text:.2f}",
         "type": "bar",
         "x": [
          "NHL"
         ],
         "xaxis": "x3",
         "y": {
          "bdata": "H4XrUbge7T8=",
          "dtype": "f8"
         },
         "yaxis": "y3"
        },
        {
         "error_y": {
          "array": {
           "bdata": "AAAAAAAA+H8=",
           "dtype": "f8"
          },
          "color": "#75D0E8",
          "thickness": 2,
          "type": "data",
          "visible": true,
          "width": 3
         },
         "hovertemplate": "LEAGUE: SUP<br>LEAGUE: %{x}<br>value: %{y}<extra></extra>",
         "marker": {
          "color": "#75D0E8"
         },
         "name": "SUP",
         "showlegend": false,
         "text": {
          "bdata": "4XoUrkfh6j8=",
          "dtype": "f8"
         },
         "textposition": "outside",
         "texttemplate": "%{text:.2f}",
         "type": "bar",
         "x": [
          "SUP"
         ],
         "xaxis": "x3",
         "y": {
          "bdata": "4XoUrkfh6j8=",
          "dtype": "f8"
         },
         "yaxis": "y3"
        },
        {
         "error_y": {
          "array": {
           "bdata": "AAAAAAAA+H8=",
           "dtype": "f8"
          },
          "color": "#75D0E8",
          "thickness": 2,
          "type": "data",
          "visible": true,
          "width": 3
         },
         "hovertemplate": "LEAGUE: NFL<br>LEAGUE: %{x}<br>value: %{y}<extra></extra>",
         "marker": {
          "color": "#DDE5ED"
         },
         "name": "NFL",
         "showlegend": false,
         "text": {
          "bdata": "7FG4HoXr6T8=",
          "dtype": "f8"
         },
         "textposition": "outside",
         "texttemplate": "%{text:.2f}",
         "type": "bar",
         "x": [
          "NFL"
         ],
         "xaxis": "x3",
         "y": {
          "bdata": "7FG4HoXr6T8=",
          "dtype": "f8"
         },
         "yaxis": "y3"
        },
        {
         "error_y": {
          "array": {
           "bdata": "AAAAAAAA+H8=",
           "dtype": "f8"
          },
          "color": "#75D0E8",
          "thickness": 2,
          "type": "data",
          "visible": true,
          "width": 3
         },
         "hovertemplate": "LEAGUE: LAX<br>LEAGUE: %{x}<br>value: %{y}<extra></extra>",
         "marker": {
          "color": "#EEF2F6"
         },
         "name": "LAX",
         "showlegend": false,
         "text": {
          "bdata": "4XoUrkfh6j8=",
          "dtype": "f8"
         },
         "textposition": "outside",
         "texttemplate": "%{text:.2f}",
         "type": "bar",
         "x": [
          "LAX"
         ],
         "xaxis": "x3",
         "y": {
          "bdata": "4XoUrkfh6j8=",
          "dtype": "f8"
         },
         "yaxis": "y3"
        },
        {
         "error_y": {
          "array": {
           "bdata": "AAAAAAAA+H8=",
           "dtype": "f8"
          },
          "color": "#75D0E8",
          "thickness": 2,
          "type": "data",
          "visible": true,
          "width": 3
         },
         "hovertemplate": "LEAGUE: AFL<br>LEAGUE: %{x}<br>value: %{y}<extra></extra>",
         "marker": {
          "color": "#43D6AC"
         },
         "name": "AFL",
         "showlegend": false,
         "text": {
          "bdata": "zczMzMzM7D8=",
          "dtype": "f8"
         },
         "textposition": "outside",
         "texttemplate": "%{text:.2f}",
         "type": "bar",
         "x": [
          "AFL"
         ],
         "xaxis": "x3",
         "y": {
          "bdata": "zczMzMzM7D8=",
          "dtype": "f8"
         },
         "yaxis": "y3"
        },
        {
         "error_y": {
          "array": {
           "bdata": "AAAAAAAA+H8=",
           "dtype": "f8"
          },
          "color": "#75D0E8",
          "thickness": 2,
          "type": "data",
          "visible": true,
          "width": 3
         },
         "hovertemplate": "LEAGUE: IPL<br>LEAGUE: %{x}<br>value: %{y}<extra></extra>",
         "marker": {
          "color": "#A1EBD6"
         },
         "name": "IPL",
         "showlegend": false,
         "text": {
          "bdata": "PQrXo3A94j8=",
          "dtype": "f8"
         },
         "textposition": "outside",
         "texttemplate": "%{text:.2f}",
         "type": "bar",
         "x": [
          "IPL"
         ],
         "xaxis": "x3",
         "y": {
          "bdata": "PQrXo3A94j8=",
          "dtype": "f8"
         },
         "yaxis": "y3"
        },
        {
         "error_y": {
          "array": {
           "bdata": "AAAAAAAA+H8=",
           "dtype": "f8"
          },
          "color": "#75D0E8",
          "thickness": 2,
          "type": "data",
          "visible": true,
          "width": 3
         },
         "hovertemplate": "LEAGUE: NBA<br>LEAGUE: %{x}<br>value: %{y}<extra></extra>",
         "marker": {
          "color": "#103392"
         },
         "name": "NBA",
         "showlegend": false,
         "text": {
          "bdata": "FK5H4XoU7j8=",
          "dtype": "f8"
         },
         "textposition": "outside",
         "texttemplate": "%{text:.2f}",
         "type": "bar",
         "x": [
          "NBA"
         ],
         "xaxis": "x3",
         "y": {
          "bdata": "FK5H4XoU7j8=",
          "dtype": "f8"
         },
         "yaxis": "y3"
        }
       ],
       "layout": {
        "annotations": [
         {
          "font": {
           "size": 16
          },
          "showarrow": false,
          "text": "λ",
          "x": 0.13333333333333333,
          "xanchor": "center",
          "xref": "paper",
          "y": 1,
          "yanchor": "bottom",
          "yref": "paper"
         },
         {
          "font": {
           "size": 16
          },
          "showarrow": false,
          "text": "nobs",
          "x": 0.5,
          "xanchor": "center",
          "xref": "paper",
          "y": 1,
          "yanchor": "bottom",
          "yref": "paper"
         },
         {
          "font": {
           "size": 16
          },
          "showarrow": false,
          "text": "adj. $R^2$",
          "x": 0.8666666666666667,
          "xanchor": "center",
          "xref": "paper",
          "y": 1,
          "yanchor": "bottom",
          "yref": "paper"
         }
        ],
        "font": {
         "size": 12
        },
        "margin": {
         "b": 80,
         "l": 80,
         "r": 80,
         "t": 80
        },
        "showlegend": false,
        "template": {
         "layout": {
          "colorway": [
           "#783ABB",
           "#141C52",
           "#F9F9F9",
           "#75D0E8",
           "#DDE5ED",
           "#EEF2F6",
           "#43D6AC",
           "#A1EBD6",
           "#103392"
          ],
          "font": {
           "color": "#141C52",
           "size": 12
          },
          "hoverlabel": {
           "bgcolor": "white",
           "bordercolor": "#141C52",
           "font": {
            "color": "#141C52"
           }
          },
          "legend": {
           "bgcolor": "rgba(255,255,255,0.8)",
           "bordercolor": "#141C52",
           "borderwidth": 1,
           "font": {
            "color": "#141C52",
            "size": 11
           }
          },
          "paper_bgcolor": "white",
          "plot_bgcolor": "white",
          "title": {
           "font": {
            "color": "#141C52",
            "size": 16
           },
           "x": 0.05,
           "xanchor": "left"
          },
          "xaxis": {
           "gridcolor": "#E0E0E0",
           "linecolor": "#141C52",
           "tickcolor": "#141C52",
           "tickfont": {
            "color": "#141C52",
            "size": 11
           },
           "title": {
            "font": {
             "color": "#141C52",
             "size": 14
            }
           }
          },
          "yaxis": {
           "gridcolor": "#E0E0E0",
           "linecolor": "#141C52",
           "tickcolor": "#141C52",
           "tickfont": {
            "color": "#141C52",
            "size": 11
           },
           "title": {
            "font": {
             "color": "#141C52",
             "size": 14
            }
           }
          }
         }
        },
        "title": {},
        "xaxis": {
         "anchor": "y",
         "domain": [
          0,
          0.26666666666666666
         ],
         "title": {
          "text": ""
         }
        },
        "xaxis2": {
         "anchor": "y2",
         "domain": [
          0.3666666666666667,
          0.6333333333333333
         ],
         "title": {
          "text": ""
         }
        },
        "xaxis3": {
         "anchor": "y3",
         "domain": [
          0.7333333333333334,
          1
         ],
         "title": {
          "text": ""
         }
        },
        "yaxis": {
         "anchor": "x",
         "domain": [
          0,
          1
         ],
         "title": {
          "text": ""
         }
        },
        "yaxis2": {
         "anchor": "x2",
         "domain": [
          0,
          1
         ],
         "title": {
          "text": ""
         }
        },
        "yaxis3": {
         "anchor": "x3",
         "domain": [
          0,
          1
         ],
         "title": {
          "text": ""
         }
        }
       }
      }
     },
     "metadata": {},
     "output_type": "display_data"
    },
    {
     "name": "stdout",
     "output_type": "stream",
     "text": [
      "Exported: exports/ols_results_catplot.json\n"
     ]
    }
   ],
   "source": [
    "# Prepare data for interactive Plotly version with error bars\n",
    "ols_melted = ols.melt(['LEAGUE'])\n",
    "# Add error column - only λ has error bars (2 * standard error)\n",
    "ols_melted['error'] = ols_melted.apply(lambda row: \n",
    "    ols.loc[ols['LEAGUE'] == row['LEAGUE'], 'λ se'].iloc[0] * 2 \n",
    "    if row['variable'] == 'λ' else None, axis=1)\n",
    "\n",
    "# Create and display interactive Plotly version\n",
    "fig = create_plotly_catplot(\n",
    "    data=ols_melted,\n",
    "    x_col=\"LEAGUE\",\n",
    "    y_col=\"value\",\n",
    "    hue_col=\"LEAGUE\",\n",
    "    col_col=\"variable\",\n",
    "    col_order=[\"λ\", \"nobs\", \"adj. $R^2$\"],\n",
    "    sharey=False,\n",
    "    error_col=\"error\",\n",
    "    add_value_labels=True  # Show values on R^2 bars like the seaborn version\n",
    ")\n",
    "\n",
    "# Display interactive plot in notebook\n",
    "fig.show()\n",
    "\n",
    "# Export both HTML and JSON versions\n",
    "export_plot(fig, \"ols_results_catplot\", \"OLS Results by League\")"
   ]
  },
  {
   "cell_type": "code",
   "execution_count": null,
   "metadata": {},
   "outputs": [
    {
     "data": {
      "application/vnd.plotly.v1+json": {
       "config": {
        "plotlyServerURL": "https://plot.ly"
       },
       "data": [
        {
         "error_y": {
          "array": {
           "bdata": "exSuR+F6pD97FK5H4Xq0P3sUrkfherQ/CtejcD0Kxz97FK5H4XrEP5qZmZmZmbk/CtejcD0Kxz/NzMzMzMz0P+F6FK5H4do/",
           "dtype": "f8"
          },
          "color": "#75D0E8",
          "thickness": 2,
          "type": "data",
          "visible": true,
          "width": 3
         },
         "hovertemplate": "LEAGUE: %{x}<br>λ: %{y}<extra></extra>",
         "marker": {
          "color": "#783ABB"
         },
         "type": "bar",
         "x": [
          "EPL",
          "MLB",
          "NHL",
          "SUP",
          "NFL",
          "LAX",
          "AFL",
          "IPL",
          "NBA"
         ],
         "y": {
          "bdata": "16NwPQrX8z97FK5H4Xr8P3sUrkfhegBAzczMzMzMBEC4HoXrUbgGQFyPwvUoXAlAj8L1KFyPDEApXI/C9SgbQKRwPQrXoyxA",
          "dtype": "f8"
         }
        }
       ],
       "layout": {
        "font": {
         "size": 12
        },
        "margin": {
         "b": 80,
         "l": 80,
         "r": 80,
         "t": 80
        },
        "showlegend": false,
        "template": {
         "layout": {
          "colorway": [
           "#783ABB",
           "#141C52",
           "#F9F9F9",
           "#75D0E8",
           "#DDE5ED",
           "#EEF2F6",
           "#43D6AC",
           "#A1EBD6",
           "#103392"
          ],
          "font": {
           "color": "#141C52",
           "size": 12
          },
          "hoverlabel": {
           "bgcolor": "white",
           "bordercolor": "#141C52",
           "font": {
            "color": "#141C52"
           }
          },
          "legend": {
           "bgcolor": "rgba(255,255,255,0.8)",
           "bordercolor": "#141C52",
           "borderwidth": 1,
           "font": {
            "color": "#141C52",
            "size": 11
           }
          },
          "paper_bgcolor": "white",
          "plot_bgcolor": "white",
          "title": {
           "font": {
            "color": "#141C52",
            "size": 16
           },
           "x": 0.05,
           "xanchor": "left"
          },
          "xaxis": {
           "gridcolor": "#E0E0E0",
           "linecolor": "#141C52",
           "tickcolor": "#141C52",
           "tickfont": {
            "color": "#141C52",
            "size": 11
           },
           "title": {
            "font": {
             "color": "#141C52",
             "size": 14
            }
           }
          },
          "yaxis": {
           "gridcolor": "#E0E0E0",
           "linecolor": "#141C52",
           "tickcolor": "#141C52",
           "tickfont": {
            "color": "#141C52",
            "size": 11
           },
           "title": {
            "font": {
             "color": "#141C52",
             "size": 14
            }
           }
          }
         }
        },
        "title": {
         "text": "Figure 3a. Estimates of λ by League, 2010-2019 Seasons"
        },
        "xaxis": {
         "title": {
          "text": "LEAGUE"
         }
        },
        "yaxis": {
         "title": {
          "text": "λ"
         }
        }
       }
      }
     },
     "metadata": {},
     "output_type": "display_data"
    },
    {
     "name": "stdout",
     "output_type": "stream",
     "text": [
      "Exported: exports/lambda_estimates.json\n"
     ]
    },
    {
     "data": {
      "application/vnd.plotly.v1+json": {
       "config": {
        "plotlyServerURL": "https://plot.ly"
       },
       "data": [
        {
         "hovertemplate": "LEAGUE: %{x}<br>nobs: %{y}<extra></extra>",
         "marker": {
          "color": "#141C52"
         },
         "type": "bar",
         "x": [
          "EPL",
          "MLB",
          "NHL",
          "SUP",
          "NFL",
          "LAX",
          "AFL",
          "IPL",
          "NBA"
         ],
         "y": {
          "bdata": "AAAAAAAAaUAAAAAAAMByQAAAAAAA4HJAAAAAAABAY0AAAAAAAPBzQAAAAAAAeIRAAAAAAAAgZkAAAAAAAABVQAAAAAAAwHJA",
          "dtype": "f8"
         }
        }
       ],
       "layout": {
        "font": {
         "size": 12
        },
        "margin": {
         "b": 80,
         "l": 80,
         "r": 80,
         "t": 80
        },
        "showlegend": false,
        "template": {
         "layout": {
          "colorway": [
           "#783ABB",
           "#141C52",
           "#F9F9F9",
           "#75D0E8",
           "#DDE5ED",
           "#EEF2F6",
           "#43D6AC",
           "#A1EBD6",
           "#103392"
          ],
          "font": {
           "color": "#141C52",
           "size": 12
          },
          "hoverlabel": {
           "bgcolor": "white",
           "bordercolor": "#141C52",
           "font": {
            "color": "#141C52"
           }
          },
          "legend": {
           "bgcolor": "rgba(255,255,255,0.8)",
           "bordercolor": "#141C52",
           "borderwidth": 1,
           "font": {
            "color": "#141C52",
            "size": 11
           }
          },
          "paper_bgcolor": "white",
          "plot_bgcolor": "white",
          "title": {
           "font": {
            "color": "#141C52",
            "size": 16
           },
           "x": 0.05,
           "xanchor": "left"
          },
          "xaxis": {
           "gridcolor": "#E0E0E0",
           "linecolor": "#141C52",
           "tickcolor": "#141C52",
           "tickfont": {
            "color": "#141C52",
            "size": 11
           },
           "title": {
            "font": {
             "color": "#141C52",
             "size": 14
            }
           }
          },
          "yaxis": {
           "gridcolor": "#E0E0E0",
           "linecolor": "#141C52",
           "tickcolor": "#141C52",
           "tickfont": {
            "color": "#141C52",
            "size": 11
           },
           "title": {
            "font": {
             "color": "#141C52",
             "size": 14
            }
           }
          }
         }
        },
        "title": {
         "text": "Figure 3a. Number of Obs by League, 2010-2019 Seasons"
        },
        "xaxis": {
         "title": {
          "text": "LEAGUE"
         }
        },
        "yaxis": {
         "title": {
          "text": "nobs"
         }
        }
       }
      }
     },
     "metadata": {},
     "output_type": "display_data"
    },
    {
     "name": "stdout",
     "output_type": "stream",
     "text": [
      "Exported: exports/number_observations.json\n"
     ]
    },
    {
     "data": {
      "application/vnd.plotly.v1+json": {
       "config": {
        "plotlyServerURL": "https://plot.ly"
       },
       "data": [
        {
         "hovertemplate": "LEAGUE: %{x}<br>adj. $R^2$: %{y}<extra></extra>",
         "marker": {
          "color": "#75D0E8"
         },
         "text": {
          "bdata": "FK5H4XoU7j97FK5H4XrsPx+F61G4Hu0/4XoUrkfh6j/sUbgehevpP+F6FK5H4eo/zczMzMzM7D89CtejcD3iPxSuR+F6FO4/",
          "dtype": "f8"
         },
         "textposition": "outside",
         "texttemplate": "%{text:.2f}",
         "type": "bar",
         "x": [
          "EPL",
          "MLB",
          "NHL",
          "SUP",
          "NFL",
          "LAX",
          "AFL",
          "IPL",
          "NBA"
         ],
         "y": {
          "bdata": "FK5H4XoU7j97FK5H4XrsPx+F61G4Hu0/4XoUrkfh6j/sUbgehevpP+F6FK5H4eo/zczMzMzM7D89CtejcD3iPxSuR+F6FO4/",
          "dtype": "f8"
         }
        }
       ],
       "layout": {
        "font": {
         "size": 12
        },
        "margin": {
         "b": 80,
         "l": 80,
         "r": 80,
         "t": 80
        },
        "showlegend": false,
        "template": {
         "layout": {
          "colorway": [
           "#783ABB",
           "#141C52",
           "#F9F9F9",
           "#75D0E8",
           "#DDE5ED",
           "#EEF2F6",
           "#43D6AC",
           "#A1EBD6",
           "#103392"
          ],
          "font": {
           "color": "#141C52",
           "size": 12
          },
          "hoverlabel": {
           "bgcolor": "white",
           "bordercolor": "#141C52",
           "font": {
            "color": "#141C52"
           }
          },
          "legend": {
           "bgcolor": "rgba(255,255,255,0.8)",
           "bordercolor": "#141C52",
           "borderwidth": 1,
           "font": {
            "color": "#141C52",
            "size": 11
           }
          },
          "paper_bgcolor": "white",
          "plot_bgcolor": "white",
          "title": {
           "font": {
            "color": "#141C52",
            "size": 16
           },
           "x": 0.05,
           "xanchor": "left"
          },
          "xaxis": {
           "gridcolor": "#E0E0E0",
           "linecolor": "#141C52",
           "tickcolor": "#141C52",
           "tickfont": {
            "color": "#141C52",
            "size": 11
           },
           "title": {
            "font": {
             "color": "#141C52",
             "size": 14
            }
           }
          },
          "yaxis": {
           "gridcolor": "#E0E0E0",
           "linecolor": "#141C52",
           "tickcolor": "#141C52",
           "tickfont": {
            "color": "#141C52",
            "size": 11
           },
           "title": {
            "font": {
             "color": "#141C52",
             "size": 14
            }
           }
          }
         }
        },
        "title": {},
        "xaxis": {
         "title": {
          "text": "LEAGUE"
         }
        },
        "yaxis": {
         "title": {
          "text": "adj. $R^2$"
         }
        }
       }
      }
     },
     "metadata": {},
     "output_type": "display_data"
    },
    {
     "name": "stdout",
     "output_type": "stream",
     "text": [
      "Exported: exports/adjusted_rsquared.json\n"
     ]
    }
   ],
   "source": [
    "\n",
    "# Create and display interactive Plotly versions\n",
    "\n",
    "# 1. Lambda estimates with error bars\n",
    "fig1 = create_plotly_bar_chart(\n",
    "    data=ols,\n",
    "    x_col='LEAGUE',\n",
    "    y_col='λ',\n",
    "    title='Figure 3a. Estimates of λ by League, 2010-2019 Seasons',\n",
    "    error_col='λ se',  # Error bars (will be multiplied by 2 in the function)\n",
    "    add_value_labels=False\n",
    ")\n",
    "# Multiply error bars by 2 to match matplotlib version\n",
    "fig1.data[0].error_y.array = fig1.data[0].error_y.array * 2\n",
    "fig1.show()\n",
    "export_plot(fig1, \"lambda_estimates\", \"Lambda Estimates by League\")\n",
    "\n",
    "# 2. Number of observations\n",
    "fig2 = create_plotly_bar_chart(\n",
    "    data=ols,\n",
    "    x_col='LEAGUE',\n",
    "    y_col='nobs',\n",
    "    title='Figure 3a. Number of Obs by League, 2010-2019 Seasons',\n",
    "    add_value_labels=False\n",
    ")\n",
    "# Use secondary color\n",
    "fig2.data[0].marker.color = colors['secondary_color']\n",
    "fig2.show()\n",
    "export_plot(fig2, \"number_observations\", \"Number of Observations by League\")\n",
    "\n",
    "# 3. Adjusted R-squared with value labels\n",
    "fig3 = create_plotly_bar_chart(\n",
    "    data=ols,\n",
    "    x_col='LEAGUE',\n",
    "    y_col='adj. $R^2$',\n",
    "    add_value_labels=True\n",
    ")\n",
    "# Use accent color\n",
    "fig3.data[0].marker.color = colors['accent_color']\n",
    "fig3.show()\n",
    "export_plot(fig3, \"adjusted_rsquared\", \"Adjusted R-squared by League\")"
   ]
  },
  {
   "cell_type": "code",
   "execution_count": null,
   "metadata": {},
   "outputs": [
    {
     "data": {
      "application/vnd.plotly.v1+json": {
       "config": {
        "plotlyServerURL": "https://plot.ly"
       },
       "data": [
        {
         "error_y": {
          "array": {
           "bdata": "exSuR+F6pD97FK5H4Xq0P3sUrkfherQ/CtejcD0Kxz97FK5H4XrEP5qZmZmZmbk/CtejcD0Kxz/NzMzMzMz0P+F6FK5H4do/",
           "dtype": "f8"
          },
          "color": "#75D0E8",
          "thickness": 2,
          "type": "data",
          "visible": true,
          "width": 3
         },
         "hovertemplate": "LEAGUE: %{x}<br>λ: %{y}<extra></extra>",
         "marker": {
          "color": "#783ABB"
         },
         "text": {
          "bdata": "16NwPQrX8z97FK5H4Xr8P3sUrkfhegBAzczMzMzMBEC4HoXrUbgGQFyPwvUoXAlAj8L1KFyPDEApXI/C9SgbQKRwPQrXoyxA",
          "dtype": "f8"
         },
         "textposition": "outside",
         "texttemplate": "%{text:.2f}",
         "type": "bar",
         "x": [
          "EPL",
          "MLB",
          "NHL",
          "SUP",
          "NFL",
          "LAX",
          "AFL",
          "IPL",
          "NBA"
         ],
         "y": {
          "bdata": "16NwPQrX8z97FK5H4Xr8P3sUrkfhegBAzczMzMzMBEC4HoXrUbgGQFyPwvUoXAlAj8L1KFyPDEApXI/C9SgbQKRwPQrXoyxA",
          "dtype": "f8"
         }
        }
       ],
       "layout": {
        "font": {
         "size": 12
        },
        "height": 600,
        "margin": {
         "b": 100,
         "l": 80,
         "r": 80,
         "t": 80
        },
        "showlegend": false,
        "template": {
         "layout": {
          "colorway": [
           "#783ABB",
           "#141C52",
           "#F9F9F9",
           "#75D0E8",
           "#DDE5ED",
           "#EEF2F6",
           "#43D6AC",
           "#A1EBD6",
           "#103392"
          ],
          "font": {
           "color": "#141C52",
           "size": 12
          },
          "hoverlabel": {
           "bgcolor": "white",
           "bordercolor": "#141C52",
           "font": {
            "color": "#141C52"
           }
          },
          "legend": {
           "bgcolor": "rgba(255,255,255,0.8)",
           "bordercolor": "#141C52",
           "borderwidth": 1,
           "font": {
            "color": "#141C52",
            "size": 11
           }
          },
          "paper_bgcolor": "white",
          "plot_bgcolor": "white",
          "title": {
           "font": {
            "color": "#141C52",
            "size": 16
           },
           "x": 0.05,
           "xanchor": "left"
          },
          "xaxis": {
           "gridcolor": "#E0E0E0",
           "linecolor": "#141C52",
           "tickcolor": "#141C52",
           "tickfont": {
            "color": "#141C52",
            "size": 11
           },
           "title": {
            "font": {
             "color": "#141C52",
             "size": 14
            }
           }
          },
          "yaxis": {
           "gridcolor": "#E0E0E0",
           "linecolor": "#141C52",
           "tickcolor": "#141C52",
           "tickfont": {
            "color": "#141C52",
            "size": 11
           },
           "title": {
            "font": {
             "color": "#141C52",
             "size": 14
            }
           }
          }
         }
        },
        "title": {},
        "xaxis": {
         "tickmode": "array",
         "ticktext": [
          "EPL<br>N = 200",
          "MLB<br>N = 300",
          "NHL<br>N = 302",
          "SUP<br>N = 154",
          "NFL<br>N = 319",
          "LAX<br>N = 655",
          "AFL<br>N = 177",
          "IPL<br>N = 84",
          "NBA<br>N = 300"
         ],
         "tickvals": [
          0,
          1,
          2,
          3,
          4,
          5,
          6,
          7,
          8
         ],
         "title": {
          "text": "LEAGUE"
         }
        },
        "yaxis": {
         "title": {
          "text": "Fitted λ"
         }
        }
       }
      }
     },
     "metadata": {},
     "output_type": "display_data"
    },
    {
     "name": "stdout",
     "output_type": "stream",
     "text": [
      "Exported: exports/lambda_estimates_complete.json\n"
     ]
    }
   ],
   "source": [
    "# Figure 3a - Single Lambda Plot with Error Bars and N Values\n",
    "# Sort by lambda values (ascending order)\n",
    "ols_sorted = ols.sort_values('λ').copy()\n",
    "\n",
    "\n",
    "# Create interactive Plotly version\n",
    "fig_plotly = create_plotly_bar_chart(\n",
    "    data=ols_sorted,\n",
    "    x_col='LEAGUE',\n",
    "    y_col='λ',\n",
    "    error_col='λ se',\n",
    "    add_value_labels=True\n",
    ")\n",
    "\n",
    "# Multiply error bars by 2 to show ±2 standard errors\n",
    "fig_plotly.data[0].error_y.array = fig_plotly.data[0].error_y.array * 2\n",
    "\n",
    "# Update x-axis labels to include N values\n",
    "x_labels_plotly = [f\"{row['LEAGUE']}<br>N = {int(row['nobs'])}\" for _, row in ols_sorted.iterrows()]\n",
    "fig_plotly.update_xaxes(\n",
    "    tickmode='array',\n",
    "    tickvals=list(range(len(ols_sorted))),\n",
    "    ticktext=x_labels_plotly\n",
    ")\n",
    "\n",
    "# Update layout for better spacing\n",
    "fig_plotly.update_layout(\n",
    "    yaxis_title=\"Fitted λ\",\n",
    "    height=600,\n",
    "    margin=dict(b=100)  # More bottom margin for N values\n",
    ")\n",
    "\n",
    "fig_plotly.show()\n",
    "\n",
    "# Export the plot\n",
    "export_plot(fig_plotly, \"lambda_estimates_complete\", \"Lambda Estimates with Error Bars\")"
   ]
  },
  {
   "cell_type": "markdown",
   "metadata": {},
   "source": [
    "**Source:** Various (listed in Appendix) as at January 2025. \n",
    "\n",
    "**Key:** Australian Football League (AFL), English Premier League (EPL), Indian Premier League (IPL), NCAA Men's Division I Lacrosse (LAX), Major League Baseball (MLB), National Basketball Association (NBA), National Football League (NFL), National Hockey League (NHL), Super Rugby Pacific (SUP)\n",
    "\n",
    "**Note:** Error bars represent ±2 standard errors around the coefficient estimate. N is the number of team-seasons used to estimate the model.\n",
    "\n",
    "The λ estimates and errors are shown in Figure 3a. As we've noted, the EPL and NBA sit at the extremes. The model fits all sports well with statistically significant coefficients. The confidence bands around our estimate for the IPL is wider (also adjusted R² is 0.57 for the IPL compared to a range of 0.81 to 0.94 for the other leagues). For those that are interested, the poorer fit for the IPL we believe is due to the limited number of teams each season (8–10) and the truncated game effect in Twenty20 Cricket, discussed in Appendix A, which we can only partially adjust for."
   ]
  },
  {
   "cell_type": "code",
   "execution_count": null,
   "metadata": {},
   "outputs": [
    {
     "data": {
      "application/vnd.plotly.v1+json": {
       "config": {
        "plotlyServerURL": "https://plot.ly"
       },
       "data": [
        {
         "hovertemplate": "IR10: %{x}<br>λ: %{y}<extra></extra>",
         "marker": {
          "color": "#783ABB",
          "size": 8
         },
         "mode": "markers+text",
         "showlegend": false,
         "text": [
          "AFL",
          "EPL",
          "IPL",
          "LAX",
          "MLB",
          "NBA",
          "NFL",
          "NHL",
          "SUP"
         ],
         "textfont": {
          "color": "#103392",
          "size": 9
         },
         "textposition": "top center",
         "type": "scatter",
         "x": {
          "bdata": "03ofmRTpCUCe9s6XgX/xP9K+H/kLTRVAddB0mirHBEDwk/ET6rv2P/Bh6V7kGSFAuK3gNP/WAUCA91xIRmz7PzHOBifxIQFA",
          "dtype": "f8"
         },
         "y": {
          "bdata": "j8L1KFyPDEDXo3A9CtfzPylcj8L1KBtAXI/C9ShcCUB7FK5H4Xr8P6RwPQrXoyxAuB6F61G4BkB7FK5H4XoAQM3MzMzMzARA",
          "dtype": "f8"
         }
        },
        {
         "hovertemplate": "Regression line<extra></extra>",
         "line": {
          "color": "#141C52",
          "width": 2
         },
         "mode": "lines",
         "showlegend": false,
         "type": "scatter",
         "x": {
          "bdata": "nvbOl4F/8T8C3RAaB7TyP2fDUpyM6PM/zKmUHhId9T8wkNagl1H2P5R2GCMdhvc/+VxapaK6+D9eQ5wnKO/5P8Ip3qmtI/s/JhAgLDNY/D+L9mGuuIz9P/DcozA+wf4/VMPlssP1/z/c1JOaJJUAQA7ItFtnLwFAQbvVHKrJAUBzrvbd7GMCQKWhF58v/gJA2JQ4YHKYA0AKiFkhtTIEQDx7euL3zARAbm6bozpnBUCgYbxkfQEGQNNU3SXAmwZABUj+5gI2B0A3Ox+oRdAHQGouQGmIaghAnCFhKssECUDOFILrDZ8JQAAIo6xQOQpAM/vDbZPTCkBl7uQu1m0LQJfhBfAYCAxAydQmsVuiDED7x0dynjwNQC67aDPh1g1AYK6J9CNxDkCSoaq1ZgsPQMWUy3appQ9A/EP2G/YfEECUvYZ8F20QQC43F904uhBAxrCnPVoHEUBgKjiee1QRQPmjyP6coRFAkh1ZX77uEUAsl+m/3zsSQMQQeiABiRJAXooKgSLWEkD2A5vhQyMTQJB9K0JlcBNAKfe7ooa9E0DCcEwDqAoUQFvq3GPJVxRA9GNtxOqkFECO3f0kDPIUQCZXjoUtPxVAwNAe5k6MFUBYSq9GcNkVQPLDP6eRJhZAjD3QB7NzFkAkt2Bo1MAWQL4w8cj1DRdAVqqBKRdbF0DwIxKKOKgXQIidoupZ9RdAIhczS3tCGEC6kMOrnI8YQFQKVAy+3BhA7oPkbN8pGUCG/XTNAHcZQCB3BS4ixBlAuPCVjkMRGkBSaibvZF4aQOrjtk+GqxpAhF1HsKf4GkAe19cQyUUbQLZQaHHqkhtAUMr40QvgG0DoQ4kyLS0cQIK9GZNOehxAGjeq82/HHEC0sDpUkRQdQEwqy7SyYR1A5qNbFdSuHUCAHex19fsdQBiXfNYWSR5AshANNziWHkBKip2XWeMeQOQDLvh6MB9AfH2+WJx9H0AW9065vcofQFi474zvCyBAJPU3PYAyIEDxMYDtEFkgQL1uyJ2hfyBAiqsQTjKmIEBW6Fj+wswgQCMloa5T8yBA8GHpXuQZIUA=",
          "dtype": "f8"
         },
         "y": {
          "bdata": "bFGj1jvs6D8OGLYO9wPtP1pvZCPZjfA/rNJtv7aZ8j/8NXdblKX0P06ZgPdxsfY/oPyJk0+9+D/yX5MvLcn6P0TDnMsK1fw/lCamZ+jg/j/zxNcBY3YAQJx23M9RfAFARSjhnUCCAkDt2eVrL4gDQJWL6jkejgRAPz3vBw2UBUDo7vPV+5kGQJCg+KPqnwdAOlL9cdmlCEDiAwJAyKsJQIq1Bg63sQpANGcL3KW3C0DcGBCqlL0MQIbKFHiDww1ALnwZRnLJDkDWLR4UYc8PQMBvEfGnahBAlMgTWJ/tEEBpIRa/lnARQD16GCaO8xFAEtMajYV2EkDmKx30fPkSQLqEH1t0fBNAjt0hwmv/E0BjNiQpY4IUQDiPJpBaBRVADOgo91GIFUDgQCteSQsWQLWZLcVAjhZAivIvLDgRF0BdSzKTL5QXQDKkNPomFxhABf02YR6aGEDbVTnIFR0ZQK+uOy8NoBlAgwc+lgQjGkBZYED9+6UaQCu5QmTzKBtAARJFy+qrG0DUakcy4i4cQKrDSZnZsRxAfhxMANE0HUBSdU5nyLcdQCbOUM6/Oh5A+iZTNbe9HkDQf1WcrkAfQKLYVwOmwx9AvBgttU4jIEAmRa5oymQgQJFxLxxGpiBA+52wz8HnIEBlyjGDPSkhQND2sja5aiFAOSM06jSsIUCkT7WdsO0hQA18NlEsLyJAeKi3BKhwIkDh1Di4I7IiQEwBumuf8yJAty07Hxs1I0AgWrzSlnYjQIuGPYYSuCNA9bK+OY75I0Bf3z/tCTskQMkLwaCFfCRANDhCVAG+JECfZMMHff8kQAiRRLv4QCVAc73FbnSCJUDc6UYi8MMlQEcWyNVrBSZAsEJJiedGJkAbb8o8Y4gmQISbS/DeySZA78fMo1oLJ0Ba9E1X1kwnQMQgzwpSjidALk1Qvs3PJ0CYedFxSREoQAOmUiXFUihAbNLT2ECUKEDX/lSMvNUoQEIr1j84FylAq1dX87NYKUAWhNimL5opQH+wWVqr2ylA6tzaDScdKkBTCVzBol4qQL413XQeoCpAKWJeKJrhKkA=",
          "dtype": "f8"
         }
        }
       ],
       "layout": {
        "font": {
         "size": 12
        },
        "margin": {
         "b": 80,
         "l": 80,
         "r": 80,
         "t": 80
        },
        "template": {
         "layout": {
          "colorway": [
           "#783ABB",
           "#141C52",
           "#F9F9F9",
           "#75D0E8",
           "#DDE5ED",
           "#EEF2F6",
           "#43D6AC",
           "#A1EBD6",
           "#103392"
          ],
          "font": {
           "color": "#141C52",
           "size": 12
          },
          "hoverlabel": {
           "bgcolor": "white",
           "bordercolor": "#141C52",
           "font": {
            "color": "#141C52"
           }
          },
          "legend": {
           "bgcolor": "rgba(255,255,255,0.8)",
           "bordercolor": "#141C52",
           "borderwidth": 1,
           "font": {
            "color": "#141C52",
            "size": 11
           }
          },
          "paper_bgcolor": "white",
          "plot_bgcolor": "white",
          "title": {
           "font": {
            "color": "#141C52",
            "size": 16
           },
           "x": 0.05,
           "xanchor": "left"
          },
          "xaxis": {
           "gridcolor": "#E0E0E0",
           "linecolor": "#141C52",
           "tickcolor": "#141C52",
           "tickfont": {
            "color": "#141C52",
            "size": 11
           },
           "title": {
            "font": {
             "color": "#141C52",
             "size": 14
            }
           }
          },
          "yaxis": {
           "gridcolor": "#E0E0E0",
           "linecolor": "#141C52",
           "tickcolor": "#141C52",
           "tickfont": {
            "color": "#141C52",
            "size": 11
           },
           "title": {
            "font": {
             "color": "#141C52",
             "size": 14
            }
           }
          }
         }
        },
        "title": {},
        "xaxis": {
         "range": [
          0,
          9
         ],
         "title": {
          "text": "IR10"
         }
        },
        "yaxis": {
         "range": [
          0,
          16
         ],
         "title": {
          "text": "λ"
         }
        }
       }
      }
     },
     "metadata": {},
     "output_type": "display_data"
    },
    {
     "name": "stdout",
     "output_type": "stream",
     "text": [
      "Exported: exports/lambda_vs_information_ratio.json\n"
     ]
    }
   ],
   "source": [
    "# calculate mean league IRs group by league-season\n",
    "df_leagueM = df[['LEAGUE','YEAR_ID','PS','PA','wi']].groupby(['LEAGUE','YEAR_ID']).mean()\n",
    "df_leagueS = df[['LEAGUE','YEAR_ID','PS','PA','wi']].groupby(['LEAGUE','YEAR_ID']).std()\n",
    "df_leagueIR = df_leagueM['PS']/df_leagueS['PS']\n",
    "df_leagueIR = df_leagueIR.reset_index().rename(columns={'PS': 'IR'})\n",
    "\n",
    "# calc 10 year average for 2010-2019\n",
    "df_leagueIR10 = df_leagueIR.loc[(df_leagueIR['YEAR_ID']>=st_year_) & (df_leagueIR['YEAR_ID']<=end_year_)]\n",
    "df_leagueIR10 = df_leagueIR10[['LEAGUE','IR']].groupby(['LEAGUE']).mean()\n",
    "df_leagueIR10 = df_leagueIR10.reset_index().rename(columns={'IR': 'IR10'})\n",
    "df_leagueIR10 = df_leagueIR10.merge(ols, how='left', on=['LEAGUE'])\n",
    "\n",
    "\n",
    "# Create and display interactive Plotly version\n",
    "fig = create_plotly_scatterplot(\n",
    "    data=df_leagueIR10,\n",
    "    x_col='IR10',\n",
    "    y_col='λ',\n",
    "    show_regression=True,\n",
    "    text_col='LEAGUE',  # Add league labels to data points\n",
    "    xlim=(0, 9),        # Match matplotlib axis limits\n",
    "    ylim=(0, 16)\n",
    ")\n",
    "\n",
    "# Display interactive plot in notebook\n",
    "fig.show()\n",
    "\n",
    "# Export both HTML and JSON versions\n",
    "export_plot(fig, \"lambda_vs_information_ratio\", \"Lambda vs Information Ratio\")"
   ]
  },
  {
   "cell_type": "code",
   "execution_count": 25,
   "metadata": {},
   "outputs": [
    {
     "name": "stdout",
     "output_type": "stream",
     "text": [
      "Checking available columns in league data...\n",
      "Available columns: ['YEAR_ID', 'TEAM_ID', 'OPP_TEAM_ID', 'PS', 'PA', 'date', 'home', 'wi', 'LEAGUE']\n",
      "Sample data shape: (436786, 9)\n",
      "\n",
      "First few rows:\n",
      "        YEAR_ID TEAM_ID OPP_TEAM_ID  PS  PA        date  home   wi LEAGUE\n",
      "138750     1871     ATL         WS3  20  18  1871-05-05     0  1.0    MLB\n",
      "138751     1871     ATL         TRO   9   5  1871-05-09     0  1.0    MLB\n",
      "138752     1871     ATL         TRO  14  29  1871-05-16     1  0.0    MLB\n",
      "138753     1871     ATL         PH1  11   8  1871-05-20     1  1.0    MLB\n",
      "138754     1871     ATL         WS3   4   4  1871-05-24     1  0.5    MLB\n",
      "\n",
      "Calculating rolling 10-year lambda estimates...\n",
      "Processing AFL...\n",
      "  AFL: 114 data points\n",
      "Processing EPL...\n",
      "  EPL: 122 data points\n",
      "Processing MLB...\n",
      "  MLB: 140 data points\n",
      "Processing NBA...\n",
      "  NBA: 64 data points\n",
      "Processing NFL...\n",
      "  NFL: 89 data points\n",
      "Processing NHL...\n",
      "  NHL: 93 data points\n",
      "Rolling lambda calculations complete!\n"
     ]
    }
   ],
   "source": [
    "# Rolling 10-Year Lambda Analysis\n",
    "# First, let's check what columns are available in the league data\n",
    "print(\"Checking available columns in league data...\")\n",
    "sample_league = league_data.read('MLB').data\n",
    "print(f\"Available columns: {list(sample_league.columns)}\")\n",
    "print(f\"Sample data shape: {sample_league.shape}\")\n",
    "print(\"\\nFirst few rows:\")\n",
    "print(sample_league.head())\n",
    "\n",
    "def calculate_rolling_lambdas(league_name, window_years=10, min_observations=50):\n",
    "    \"\"\"\n",
    "    Calculate rolling lambda estimates for a specific league.\n",
    "    \n",
    "    Args:\n",
    "        league_name: Name of the league\n",
    "        window_years: Size of rolling window in years\n",
    "        min_observations: Minimum observations required for regression\n",
    "    \n",
    "    Returns:\n",
    "        DataFrame with year, lambda, std_error, adj_r2, nobs\n",
    "    \"\"\"\n",
    "    # Get league data from ArcticDB\n",
    "    league_df = league_data.read(league_name).data\n",
    "    \n",
    "    # Check if the columns exist, if not use the renamed columns from processed data\n",
    "    if 'FREQ_RUNS_S' in league_df.columns:\n",
    "        ps_col = 'FREQ_RUNS_S'\n",
    "        pa_col = 'FREQ_RUNS_A'\n",
    "    else:\n",
    "        ps_col = 'PS'\n",
    "        pa_col = 'PA'\n",
    "    \n",
    "    # Filter for team-season data (same processing as before)\n",
    "    team_season = league_df.groupby(['YEAR_ID','TEAM_ID']).agg(\n",
    "        PS=(ps_col, 'mean'),\n",
    "        PA=(pa_col, 'mean'),\n",
    "        wi=('wi', 'mean'),\n",
    "        nobs=('wi', 'count')\n",
    "    ).reset_index()\n",
    "    \n",
    "    # Filter valid observations\n",
    "    team_season = team_season.loc[\n",
    "        (team_season['PS'] > 0) & \n",
    "        (team_season['PA'] > 0) & \n",
    "        (team_season['wi'] > 0) & \n",
    "        (team_season['wi'] < 1)\n",
    "    ]\n",
    "    \n",
    "    # Create log variables\n",
    "    team_season['lnwi'] = np.log(team_season['wi'] / (1 - team_season['wi']))\n",
    "    team_season['lnPSPA'] = np.log(team_season['PS'] / team_season['PA'])\n",
    "    \n",
    "    # Get year range\n",
    "    years = sorted(team_season['YEAR_ID'].unique())\n",
    "    start_year = min(years) + window_years - 1  # First complete window\n",
    "    end_year = max(years)\n",
    "    \n",
    "    results = []\n",
    "    \n",
    "    for year in range(start_year, end_year + 1):\n",
    "        # Define window\n",
    "        window_start = year - window_years + 1\n",
    "        window_data = team_season[\n",
    "            (team_season['YEAR_ID'] >= window_start) & \n",
    "            (team_season['YEAR_ID'] <= year)\n",
    "        ]\n",
    "        \n",
    "        if len(window_data) >= min_observations:\n",
    "            try:\n",
    "                # Run OLS regression\n",
    "                model = sm.OLS(window_data['lnwi'], \n",
    "                              sm.add_constant(window_data['lnPSPA'])).fit()\n",
    "                \n",
    "                results.append({\n",
    "                    'year': year,\n",
    "                    'lambda': model.params.iloc[1],\n",
    "                    'lambda_se': model.bse.iloc[1],\n",
    "                    'adj_r2': model.rsquared_adj,\n",
    "                    'nobs': len(window_data)\n",
    "                })\n",
    "            except:\n",
    "                # Skip if regression fails\n",
    "                continue\n",
    "    \n",
    "    return pd.DataFrame(results)\n",
    "\n",
    "# Calculate rolling lambdas for leagues shown in the reference chart\n",
    "target_leagues = ['AFL', 'EPL', 'MLB', 'NBA', 'NFL', 'NHL']  # Matching the 2x3 layout\n",
    "rolling_results = {}\n",
    "\n",
    "print(\"\\nCalculating rolling 10-year lambda estimates...\")\n",
    "for league in target_leagues:\n",
    "    print(f\"Processing {league}...\")\n",
    "    rolling_results[league] = calculate_rolling_lambdas(league)\n",
    "    print(f\"  {league}: {len(rolling_results[league])} data points\")\n",
    "\n",
    "print(\"Rolling lambda calculations complete!\")"
   ]
  },
  {
   "cell_type": "code",
   "execution_count": null,
   "metadata": {},
   "outputs": [
    {
     "data": {
      "application/vnd.plotly.v1+json": {
       "config": {
        "plotlyServerURL": "https://plot.ly"
       },
       "data": [
        {
         "fill": "toself",
         "fillcolor": "rgba(128,128,128,0.3)",
         "hoverinfo": "skip",
         "line": {
          "color": "rgba(255,255,255,0)"
         },
         "name": "±2 SE",
         "showlegend": true,
         "type": "scatter",
         "x": [
          1906,
          1907,
          1908,
          1909,
          1910,
          1911,
          1912,
          1913,
          1914,
          1915,
          1916,
          1917,
          1918,
          1919,
          1920,
          1921,
          1922,
          1923,
          1924,
          1925,
          1926,
          1927,
          1928,
          1929,
          1930,
          1931,
          1932,
          1933,
          1934,
          1935,
          1936,
          1937,
          1938,
          1939,
          1940,
          1941,
          1942,
          1943,
          1944,
          1945,
          1946,
          1947,
          1948,
          1949,
          1950,
          1951,
          1952,
          1953,
          1954,
          1955,
          1956,
          1957,
          1958,
          1959,
          1960,
          1961,
          1962,
          1963,
          1964,
          1965,
          1966,
          1967,
          1968,
          1969,
          1970,
          1971,
          1972,
          1973,
          1974,
          1975,
          1976,
          1977,
          1978,
          1979,
          1980,
          1981,
          1982,
          1983,
          1984,
          1985,
          1986,
          1987,
          1988,
          1989,
          1990,
          1991,
          1992,
          1993,
          1994,
          1995,
          1996,
          1997,
          1998,
          1999,
          2000,
          2001,
          2002,
          2003,
          2004,
          2005,
          2006,
          2007,
          2008,
          2009,
          2010,
          2011,
          2012,
          2013,
          2014,
          2015,
          2016,
          2017,
          2018,
          2019,
          2019,
          2018,
          2017,
          2016,
          2015,
          2014,
          2013,
          2012,
          2011,
          2010,
          2009,
          2008,
          2007,
          2006,
          2005,
          2004,
          2003,
          2002,
          2001,
          2000,
          1999,
          1998,
          1997,
          1996,
          1995,
          1994,
          1993,
          1992,
          1991,
          1990,
          1989,
          1988,
          1987,
          1986,
          1985,
          1984,
          1983,
          1982,
          1981,
          1980,
          1979,
          1978,
          1977,
          1976,
          1975,
          1974,
          1973,
          1972,
          1971,
          1970,
          1969,
          1968,
          1967,
          1966,
          1965,
          1964,
          1963,
          1962,
          1961,
          1960,
          1959,
          1958,
          1957,
          1956,
          1955,
          1954,
          1953,
          1952,
          1951,
          1950,
          1949,
          1948,
          1947,
          1946,
          1945,
          1944,
          1943,
          1942,
          1941,
          1940,
          1939,
          1938,
          1937,
          1936,
          1935,
          1934,
          1933,
          1932,
          1931,
          1930,
          1929,
          1928,
          1927,
          1926,
          1925,
          1924,
          1923,
          1922,
          1921,
          1920,
          1919,
          1918,
          1917,
          1916,
          1915,
          1914,
          1913,
          1912,
          1911,
          1910,
          1909,
          1908,
          1907,
          1906
         ],
         "xaxis": "x",
         "y": [
          2.7143725491609065,
          2.708965469212941,
          2.9397808267691126,
          3.0388422514184232,
          3.2520576599015687,
          3.493274382962381,
          3.606218569095917,
          3.7381201945521285,
          3.751619627103652,
          3.789073541100616,
          3.9034811500093753,
          3.955137581258181,
          3.910617384747629,
          3.908347234858115,
          3.8920285938388655,
          4.0590492152139435,
          4.071694424350377,
          4.038767725376007,
          4.1084726405532885,
          4.194708341222191,
          4.275665988853221,
          4.363967260891239,
          4.361688403952819,
          4.6453146000466425,
          4.646399093704832,
          4.635394020362877,
          4.607613813295349,
          4.644027560704792,
          4.663792788150853,
          4.833320115357501,
          4.871531122195861,
          4.905534452761337,
          4.9627338498106095,
          5.020427838258972,
          5.130490572257008,
          5.227693279781002,
          5.316185995688598,
          5.245850802851363,
          5.18405815428554,
          5.047128436837926,
          4.905029674174491,
          4.881626038038846,
          4.771177521822012,
          4.578044470692771,
          4.5899349219811025,
          4.57651300474561,
          4.50309649066521,
          4.48660856492914,
          4.378433465729472,
          4.285021067157394,
          4.360733126340364,
          4.287895183771067,
          4.323103196505105,
          4.363553019291936,
          4.341452403312866,
          4.185108851837957,
          4.288464410395772,
          4.239071917374931,
          4.342383849538506,
          4.298685601284623,
          4.258396815933615,
          4.241547167402477,
          4.295153361473341,
          4.345966890274246,
          4.3528782931428385,
          4.354904986639829,
          4.406389338145796,
          4.55026882074684,
          4.55327202468022,
          4.682235810870533,
          4.773090999495945,
          4.938464101635709,
          4.89931827591003,
          4.872657463362344,
          4.853687011404223,
          5.115504188919509,
          5.050331486025173,
          4.894249066264178,
          4.92533808297305,
          4.922019754321026,
          4.829215699730723,
          4.729002820281042,
          4.74319318629778,
          4.641534255147854,
          4.575917263729381,
          4.321782904469338,
          4.156533430852732,
          4.262873022189657,
          4.144690194751667,
          4.126504983835769,
          4.128477712483636,
          4.065054851412863,
          4.022905104562546,
          4.10266099241112,
          4.2032602525115355,
          4.26224647582258,
          4.354219268554761,
          4.315139488297862,
          4.400656494188312,
          4.392004492808063,
          4.423408558235023,
          4.549879990938033,
          4.607787008706988,
          4.604248713661854,
          4.458287938101437,
          4.374007798929821,
          4.14631603187389,
          4.143872677176406,
          4.055776484469121,
          3.972108775099387,
          3.9210650949361883,
          3.8706763752722737,
          3.787491912227906,
          3.7429697444036933,
          3.389553713102027,
          3.433000208281814,
          3.500122569800578,
          3.540902751987802,
          3.563428012934323,
          3.6301207586247752,
          3.720486371246551,
          3.711322494500207,
          3.9103164985386134,
          3.955005442122323,
          4.07511525720722,
          4.042279727777367,
          3.974622473300121,
          3.8382510831256216,
          3.833909367480597,
          3.8285755569473747,
          3.7252279518943507,
          3.7594692721098646,
          3.683950863524827,
          3.647493435165061,
          3.5812283179897646,
          3.5291689208352617,
          3.567165858507141,
          3.6396390493316355,
          3.6103669219392085,
          3.6358125810357356,
          3.748156521401119,
          3.653118596389934,
          3.7967297648819693,
          4.008026941259124,
          4.060198262632784,
          4.166268774392658,
          4.145791980905332,
          4.252404487288548,
          4.368886040307627,
          4.3532325075490315,
          4.311670945346167,
          4.443700882732638,
          4.484085080284061,
          4.22104804177327,
          4.213920127738703,
          4.201579950314695,
          4.250002928862402,
          4.087810233523438,
          4.049074861600158,
          3.945274669964251,
          3.9561034448602275,
          3.8527816921300215,
          3.813928303723912,
          3.80920408486408,
          3.822737815378529,
          3.7837989969702073,
          3.7235404769457956,
          3.724237284132283,
          3.734047373276263,
          3.799856358987502,
          3.6927818483339596,
          3.7076050930221847,
          3.6106986816596036,
          3.727032438390846,
          3.7266873220300623,
          3.7070100731509528,
          3.6956592007089255,
          3.7930563281384746,
          3.718250152738393,
          3.7921278218698364,
          3.9141511185720717,
          3.9188841451748284,
          4.003662148726628,
          4.010490129067836,
          4.014107256010784,
          4.192367121503742,
          4.293557057545934,
          4.2949511264766915,
          4.414253444027408,
          4.530101027558696,
          4.5844954920913334,
          4.668350723229904,
          4.575890763493737,
          4.4916208311223205,
          4.415945041514434,
          4.366774422497887,
          4.303447054909643,
          4.26108756288214,
          4.190713901642213,
          4.050531123873307,
          4.019476668436704,
          3.994414936009028,
          4.004060907145174,
          4.0118533430735885,
          3.9769713922285668,
          3.657892804710006,
          3.6424355119598437,
          3.527589734242181,
          3.49783355797683,
          3.412054149042986,
          3.3416962801256083,
          3.3538821597738573,
          3.37913377814459,
          3.2882532497585353,
          3.291306597679365,
          3.317799387351425,
          3.377519153771524,
          3.3329810983434016,
          3.260259898822455,
          3.2175421425576203,
          3.2116978611739784,
          3.117328532864093,
          3.006113888964911,
          2.7477167775612434,
          2.576762262868978,
          2.453844786462783,
          2.2889026705382345,
          2.2896708712806997
         ],
         "yaxis": "y"
        },
        {
         "hovertemplate": "AFL<br>Year: %{x}<br>λ: %{y:.2f}<extra></extra>",
         "line": {
          "color": "#783ABB",
          "width": 2
         },
         "mode": "lines",
         "name": "λ estimate",
         "showlegend": true,
         "type": "scatter",
         "x": {
          "bdata": "cgdzB3QHdQd2B3cHeAd5B3oHewd8B30Hfgd/B4AHgQeCB4MHhAeFB4YHhweIB4kHigeLB4wHjQeOB48HkAeRB5IHkweUB5UHlgeXB5gHmQeaB5sHnAedB54HnwegB6EHogejB6QHpQemB6cHqAepB6oHqwesB60HrgevB7AHsQeyB7MHtAe1B7YHtwe4B7kHuge7B7wHvQe+B78HwAfBB8IHwwfEB8UHxgfHB8gHyQfKB8sHzAfNB84HzwfQB9EH0gfTB9QH1QfWB9cH2AfZB9oH2wfcB90H3gffB+AH4QfiB+MH",
          "dtype": "i2"
         },
         "xaxis": "x",
         "y": {
          "bdata": "Ij5a9SMEBEB/zkcl0f0DQLbLvpcSkwVAlImgB2F2BkBJHsHexP8HQBW8n6Nf/wlAoiIQiOnkCkDK+bkancwLQCPqZPFr4AtAbEYcd4QyDEC9p90oI/IMQKT8lvejVA1A4hcYFubpDEACFOUNcswMQPJAuc2buAxAm43oCrPADUAlBxtZyrMNQAi9M1uYhQ1AEAiI+QQVDkCYrSC0KcUOQA4UFKuINg9AjP9nOUcDEEBepVWMBgoQQHApA0WcPhFAhfOgdgZREUCG0+GiZkcRQDYHuxw9NBFAQdeJ07ZTEUACyiHdu20RQLQCyi9ODBJAQH+mmOZDEkDO1Mmf/2oSQCWn6k61qBJA6/keRGzfEkA898dihT4TQKjnIl5vmxNApu5iMhX4E0BuREomI6kTQHdRtEWmbRNAMZHyPjrsEkDcPy3iY2YSQIWyRJmxWRJA5KM2uVXtEUBk7NiCLi8RQJ3oi+lqMxFA5zq8twwpEUDd9IzYDdgQQNNijF8wzRBAxmcgz1NXEEDc8OzDrAEQQJ/pyn29ThBARrds4SjvD0BhsqgBaw8QQAaEZfszLhBAQ8f2cRAjEEA6IYkr6C4PQHDk1qT5+w9AHH+h3ze6D0BCl2e100gQQMh6XmDCEBBApd4uojfuD0CA/3jvP9wPQArqinFsKBBAguuSdmBWEEBimCF2/FIQQDstKVFxVhBA5TW2ELKEEEB/xMA5QwMRQMYNKoNB/xBAbPQ6Wm52EUAEz+ELyLgRQC26KMB+YBJAHrir7qgzEkDgsOTlUywSQDmGQqxDJhJAFIZcXf0yE0De9YXP8fwSQLDqBlluaRJA6dbvzaCOEkA+S7Sa8ZQSQOHhAx/KKRJA05yrGuW/EUAxPoT/pNERQK7QDHxJZxFAjDoevPoqEUASDU6xrTwQQOOWyGsVPQ9APgYSqqUFEEDGxqEePB8PQDKUgoyO8g5AKAZOM40SD0Be16PdZIcOQPg3sORSNQ5A7gW5ek28DkDrFob5K2cPQMA8kPTnyA9ASCtoYjU6EEDI5YYKqxQQQEOlRedddRBASk5D+6pzEEB0p6RA+IUQQAgmRZaLDBFA5NUajNVMEUA/7SmY1VsRQL5tnzCb0xBAkitO9JKREED5QzrLOG4PQMLp04kadQ9A9gTO2Fu+DkCAo3nBYyQOQEheaRkO2Q1As+r5t7J7DUCydbqvyOEMQHnCrzq0hwxA",
          "dtype": "f8"
         },
         "yaxis": "y"
        },
        {
         "fill": "toself",
         "fillcolor": "rgba(128,128,128,0.3)",
         "hoverinfo": "skip",
         "line": {
          "color": "rgba(255,255,255,0)"
         },
         "name": "±2 SE",
         "showlegend": false,
         "type": "scatter",
         "x": [
          1898,
          1899,
          1900,
          1901,
          1902,
          1903,
          1904,
          1905,
          1906,
          1907,
          1908,
          1909,
          1910,
          1911,
          1912,
          1913,
          1914,
          1915,
          1916,
          1917,
          1918,
          1919,
          1920,
          1921,
          1922,
          1923,
          1924,
          1925,
          1926,
          1927,
          1928,
          1929,
          1930,
          1931,
          1932,
          1933,
          1934,
          1935,
          1936,
          1937,
          1938,
          1939,
          1940,
          1941,
          1942,
          1943,
          1944,
          1945,
          1946,
          1947,
          1948,
          1949,
          1950,
          1951,
          1952,
          1953,
          1954,
          1955,
          1956,
          1957,
          1958,
          1959,
          1960,
          1961,
          1962,
          1963,
          1964,
          1965,
          1966,
          1967,
          1968,
          1969,
          1970,
          1971,
          1972,
          1973,
          1974,
          1975,
          1976,
          1977,
          1978,
          1979,
          1980,
          1981,
          1982,
          1983,
          1984,
          1985,
          1986,
          1987,
          1988,
          1989,
          1990,
          1991,
          1992,
          1993,
          1994,
          1995,
          1996,
          1997,
          1998,
          1999,
          2000,
          2001,
          2002,
          2003,
          2004,
          2005,
          2006,
          2007,
          2008,
          2009,
          2010,
          2011,
          2012,
          2013,
          2014,
          2015,
          2016,
          2017,
          2018,
          2019,
          2019,
          2018,
          2017,
          2016,
          2015,
          2014,
          2013,
          2012,
          2011,
          2010,
          2009,
          2008,
          2007,
          2006,
          2005,
          2004,
          2003,
          2002,
          2001,
          2000,
          1999,
          1998,
          1997,
          1996,
          1995,
          1994,
          1993,
          1992,
          1991,
          1990,
          1989,
          1988,
          1987,
          1986,
          1985,
          1984,
          1983,
          1982,
          1981,
          1980,
          1979,
          1978,
          1977,
          1976,
          1975,
          1974,
          1973,
          1972,
          1971,
          1970,
          1969,
          1968,
          1967,
          1966,
          1965,
          1964,
          1963,
          1962,
          1961,
          1960,
          1959,
          1958,
          1957,
          1956,
          1955,
          1954,
          1953,
          1952,
          1951,
          1950,
          1949,
          1948,
          1947,
          1946,
          1945,
          1944,
          1943,
          1942,
          1941,
          1940,
          1939,
          1938,
          1937,
          1936,
          1935,
          1934,
          1933,
          1932,
          1931,
          1930,
          1929,
          1928,
          1927,
          1926,
          1925,
          1924,
          1923,
          1922,
          1921,
          1920,
          1919,
          1918,
          1917,
          1916,
          1915,
          1914,
          1913,
          1912,
          1911,
          1910,
          1909,
          1908,
          1907,
          1906,
          1905,
          1904,
          1903,
          1902,
          1901,
          1900,
          1899,
          1898
         ],
         "xaxis": "x2",
         "y": [
          1.3250472874751185,
          1.2844374225493838,
          1.272030636542211,
          1.264843195245966,
          1.2310722563777616,
          1.2147056562143639,
          1.2026880618754576,
          1.195545887419128,
          1.1746298379498719,
          1.1745314007152907,
          1.166215745877173,
          1.1662709542528271,
          1.156531011119157,
          1.1998822539797152,
          1.2089355620626232,
          1.2023716485151688,
          1.2016904536899848,
          1.1872058685752267,
          1.1932177336117196,
          1.1813041332489225,
          1.1862500145807882,
          1.1940205092945317,
          1.2027220764835815,
          1.187696516608231,
          1.1729451787972025,
          1.1590234339601766,
          1.171472237711851,
          1.1350187629734654,
          1.1421654343918086,
          1.1469178966651064,
          1.1390334993307047,
          1.1374216932800822,
          1.1377169313556692,
          1.180810263449806,
          1.172499946701648,
          1.20592974808287,
          1.2084159352376158,
          1.230066810587119,
          1.1949123580772214,
          1.1967619152242248,
          1.1818984728638762,
          1.1753253221831241,
          1.1726383086632401,
          1.1119586323774955,
          1.1373212167792959,
          1.1017633388636616,
          1.0925337680556995,
          1.1208948677344754,
          1.1813748618404465,
          1.281254141288744,
          1.258726672857432,
          1.2351401909567332,
          1.1715761790815802,
          1.1675506085772476,
          1.174374162146035,
          1.1894520349495663,
          1.1948651143598457,
          1.195048405639432,
          1.185221364781604,
          1.1882800912905433,
          1.2314067021496304,
          1.2773407304835693,
          1.3166365397603743,
          1.363816453010628,
          1.3722816453249103,
          1.3516015063103024,
          1.3422418352378525,
          1.3534202054474616,
          1.3570343841925334,
          1.3448918315873717,
          1.3228250630439344,
          1.2844749335039867,
          1.2873188008193415,
          1.2648565332291124,
          1.2479733364638812,
          1.2521401208965268,
          1.2555585965801797,
          1.2435056161692428,
          1.241768918591897,
          1.2191015296534429,
          1.2172444242053264,
          1.210509436906767,
          1.1892884550153326,
          1.1963737381771409,
          1.2107173383590566,
          1.1930827215375268,
          1.1664885993079745,
          1.1739338452304198,
          1.1811920021411404,
          1.1849290094162463,
          1.1818789961695133,
          1.182831128546704,
          1.196434395668481,
          1.1730895403832298,
          1.1663511227798937,
          1.178772876299044,
          1.2039697131530993,
          1.202086027954115,
          1.2007593050989613,
          1.2026451936881815,
          1.1873486057850458,
          1.173114327425412,
          1.1958270388979995,
          1.2003820630941842,
          1.2196574384628374,
          1.226373130763505,
          1.23539845100294,
          1.2386425588883323,
          1.2494076298848271,
          1.240781947406563,
          1.258263075541602,
          1.2740551403594684,
          1.2427070436262713,
          1.2431520576973443,
          1.2461359566907442,
          1.2601841753556011,
          1.259478386311758,
          1.2632221360394167,
          1.2574747363330256,
          1.271965441683746,
          1.2760170201319188,
          1.2904246900277907,
          1.1987352542441907,
          1.1820801215582364,
          1.1781747969753271,
          1.1630316358147257,
          1.1678966966872208,
          1.166436435280031,
          1.1685613220501871,
          1.1576752357338442,
          1.1539378209535387,
          1.1530923808578777,
          1.178272601571986,
          1.1558086246148183,
          1.1348744334753438,
          1.139711471578262,
          1.129429675173345,
          1.1246409273254543,
          1.1167524496524788,
          1.1065869630781786,
          1.0871045883772485,
          1.0806126505250826,
          1.058535253311406,
          1.0742287296778317,
          1.0915457688599508,
          1.090841069399092,
          1.0931385736246475,
          1.0965120840679277,
          1.0740640167342907,
          1.064748092012761,
          1.0699022476955253,
          1.0843754820456368,
          1.0724183762541102,
          1.0714223806508167,
          1.072842392648539,
          1.0681632862700332,
          1.0597153063552716,
          1.0480006112224767,
          1.0734094503270903,
          1.091674800728676,
          1.0890997529412785,
          1.0875183811806208,
          1.1063491464259714,
          1.1156063285420155,
          1.1145132418659383,
          1.133353609746268,
          1.1336201924814377,
          1.144859387647715,
          1.1434107508868392,
          1.1428694519911935,
          1.1512621102868201,
          1.1676309422307112,
          1.1632685125777418,
          1.196420656577212,
          1.214839208001891,
          1.231382440294686,
          1.2221151377872657,
          1.2068100896730656,
          1.2068007829943606,
          1.2158642850197257,
          1.2107548696868777,
          1.1631135238561703,
          1.1285773511971495,
          1.0776479678510553,
          1.0403586959820355,
          1.0359802306514538,
          1.0413542558045867,
          1.0362991682678357,
          1.0258508366709866,
          1.0065874950579499,
          0.9873315145898626,
          0.9770617154959589,
          0.9851435212440219,
          1.026437738493865,
          1.0193044235602997,
          0.8947853193227759,
          0.8554571017035955,
          0.8754832764995282,
          0.8932327147902493,
          0.937592749604948,
          0.9327503387399741,
          1.005431413766434,
          1.012366728893976,
          1.0155893991759484,
          1.0299404053352395,
          1.0294904265192504,
          1.0696159135331675,
          1.0550156216108197,
          1.0596647626512172,
          1.0332561346818356,
          1.0399053613507157,
          1.0027670612564865,
          1.0096539042729453,
          1.0055656193593476,
          1.0075839665389812,
          0.9984999921937954,
          0.9845415596961448,
          1.0104163184864923,
          0.9965624236922467,
          1.016207692819542,
          1.0236874204806463,
          1.0251431830954456,
          1.0128040710596136,
          1.01268544963164,
          1.0198610310876801,
          1.0366400790280177,
          1.0408523486162646,
          1.0618498945292636,
          1.0573446532262472,
          1.059676546516329,
          1.0510465858859637,
          1.0059241860599015,
          1.0210355904952368,
          1.021672726094616,
          1.029608070729981,
          1.025988863390945,
          1.0395771713121573,
          1.0394742229269596,
          1.056092933268429,
          1.069650748952611,
          1.1032213537955378,
          1.1073995388962166,
          1.1128908849724508,
          1.1608055957800767
         ],
         "yaxis": "y2"
        },
        {
         "hovertemplate": "EPL<br>Year: %{x}<br>λ: %{y:.2f}<extra></extra>",
         "line": {
          "color": "#783ABB",
          "width": 2
         },
         "mode": "lines",
         "name": "λ estimate",
         "showlegend": false,
         "type": "scatter",
         "x": {
          "bdata": "agdrB2wHbQduB28HcAdxB3IHcwd0B3UHdgd3B3gHeQd6B3sHfAd9B34HfweAB4EHggeDB4QHhQeGB4cHiAeJB4oHiweMB40HjgePB5AHkQeSB5MHlAeVB5YHlweYB5kHmgebB5wHnQeeB58HoAehB6IHowekB6UHpgenB6gHqQeqB6sHrAetB64HrwewB7EHsgezB7QHtQe2B7cHuAe5B7oHuwe8B70Hvge/B8AHwQfCB8MHxAfFB8YHxwfIB8kHygfLB8wHzQfOB88H0AfRB9IH0wfUB9UH1gfXB9gH2QfaB9sH3AfdB94H3wfgB+EH4gfjBw==",
          "dtype": "i2"
         },
         "xaxis": "x2",
         "y": {
          "bdata": "qfwh1gbj8z+GprR2ui3zPxz9FLASCfM/G5qH08vx8j/pY4h24WfyP10NbXOYKvI/fWisx/Lv8T92Sr4yiOHxP2TMSfrdmvE//HAN4BOi8T9gUNOry4DxP1Yo4JKaf/E/JJh3T7VM8T8/xcb65gHyP+Y/7RoeJvI/Vr3xI+YT8j+ZOcYKuxvyP0Zfwy8Q0/E/YyRgsb/W8T+EXE97/JvxP6Z0Bnprl/E/MgpFpZOn8T+ySm4Fq9LxP1SSxQ/qsPE/p06slGKD8T+6slLMoz7xP7wbw/yBdPE/GB/eCtz08D+L5/YxFSDxP5wPDXlrPPE//24ulSMo8T9CPYz4NS3xP7QLTxK2H/E/JuCxjQbE8T8f9sNxY6XxP9rMzAPwH/I/6i8LAYIb8j+9LloOwGXyPxLJ56+Ty/E/d9dlTknQ8T81JH6FdJTxPzDDqLBkgPE/LPKR0a9s8T95TIZgkFvwP18SXX5smfA/VHth+4Dr7z9MXcVw/3zvP4LyIT4jn+8/69N63vmb8D+GebQ/i2fyPzLlZUcESPI/I/NdGyTD8T8uQYEQaTDxP/rmrdYyPfE/Kyt8Bpxy8T/kwkK28LjxPxEdz6hs2fE/IrccFCfk8T//qZFXBcXxP252j5JA1PE/1KGip/F48j/UY636UT/zP1XlizOH1vM/WqSB2biY9D982IDahbT0P7iZlJ6bd/Q/zGLqVXVk9D8SFSdGspr0P9K1TOETtfQ/WLxsRFR69D/w4sJMaif0P9taD4T6lPM/5MndsLyj8z8nQekCNlTzPwBWEi9yIPM/9bVRkxYq8z+U6RdYDjTzP80ONYlaBPM/W6R5PUAA8z8lG6k4PqvyP5P9y6etqfI/0PcmJ+2I8j+zKqaA5jbyPxbUYVOmSPI/KJjfkUxr8j9qY9alxiHyP86VhB5Gt/E/uGNGcoPe8T8wfEb8rf7xP9Wy7XPqD/I//MxL38IG8j99hJtAwAryPzxoyT8ZP/I/YvW3raXx8T9rU42LStnxP0RnVlnPBfI/ZdwgAGNn8j8XC0a3nlzyP5HDv5MyVfI/SGKXyoBa8j/HgKnbtRfyP4ksaxhr2vE/uBsLAyY28j/Q2TDNxUzyP1v5WAYmnPI/G3bSn7i+8j9/illTXOHyP27i/trP8fI/U0O4eeoc8z9AX/MhWAHzP7H30tIEUPM/XlrVAV6e8z/3en/jmCrzP3QGU3U9LfM/asfJXAE78z8nUo0eEm7zP4DyrAdGaPM/PAE6bu5y8z/WEuFxMl3zPx48HSDjmfM/NJqP1S6q8z9uSlmwzOnzPw==",
          "dtype": "f8"
         },
         "yaxis": "y2"
        },
        {
         "fill": "toself",
         "fillcolor": "rgba(128,128,128,0.3)",
         "hoverinfo": "skip",
         "line": {
          "color": "rgba(255,255,255,0)"
         },
         "name": "±2 SE",
         "showlegend": false,
         "type": "scatter",
         "x": [
          1880,
          1881,
          1882,
          1883,
          1884,
          1885,
          1886,
          1887,
          1888,
          1889,
          1890,
          1891,
          1892,
          1893,
          1894,
          1895,
          1896,
          1897,
          1898,
          1899,
          1900,
          1901,
          1902,
          1903,
          1904,
          1905,
          1906,
          1907,
          1908,
          1909,
          1910,
          1911,
          1912,
          1913,
          1914,
          1915,
          1916,
          1917,
          1918,
          1919,
          1920,
          1921,
          1922,
          1923,
          1924,
          1925,
          1926,
          1927,
          1928,
          1929,
          1930,
          1931,
          1932,
          1933,
          1934,
          1935,
          1936,
          1937,
          1938,
          1939,
          1940,
          1941,
          1942,
          1943,
          1944,
          1945,
          1946,
          1947,
          1948,
          1949,
          1950,
          1951,
          1952,
          1953,
          1954,
          1955,
          1956,
          1957,
          1958,
          1959,
          1960,
          1961,
          1962,
          1963,
          1964,
          1965,
          1966,
          1967,
          1968,
          1969,
          1970,
          1971,
          1972,
          1973,
          1974,
          1975,
          1976,
          1977,
          1978,
          1979,
          1980,
          1981,
          1982,
          1983,
          1984,
          1985,
          1986,
          1987,
          1988,
          1989,
          1990,
          1991,
          1992,
          1993,
          1994,
          1995,
          1996,
          1997,
          1998,
          1999,
          2000,
          2001,
          2002,
          2003,
          2004,
          2005,
          2006,
          2007,
          2008,
          2009,
          2010,
          2011,
          2012,
          2013,
          2014,
          2015,
          2016,
          2017,
          2018,
          2019,
          2019,
          2018,
          2017,
          2016,
          2015,
          2014,
          2013,
          2012,
          2011,
          2010,
          2009,
          2008,
          2007,
          2006,
          2005,
          2004,
          2003,
          2002,
          2001,
          2000,
          1999,
          1998,
          1997,
          1996,
          1995,
          1994,
          1993,
          1992,
          1991,
          1990,
          1989,
          1988,
          1987,
          1986,
          1985,
          1984,
          1983,
          1982,
          1981,
          1980,
          1979,
          1978,
          1977,
          1976,
          1975,
          1974,
          1973,
          1972,
          1971,
          1970,
          1969,
          1968,
          1967,
          1966,
          1965,
          1964,
          1963,
          1962,
          1961,
          1960,
          1959,
          1958,
          1957,
          1956,
          1955,
          1954,
          1953,
          1952,
          1951,
          1950,
          1949,
          1948,
          1947,
          1946,
          1945,
          1944,
          1943,
          1942,
          1941,
          1940,
          1939,
          1938,
          1937,
          1936,
          1935,
          1934,
          1933,
          1932,
          1931,
          1930,
          1929,
          1928,
          1927,
          1926,
          1925,
          1924,
          1923,
          1922,
          1921,
          1920,
          1919,
          1918,
          1917,
          1916,
          1915,
          1914,
          1913,
          1912,
          1911,
          1910,
          1909,
          1908,
          1907,
          1906,
          1905,
          1904,
          1903,
          1902,
          1901,
          1900,
          1899,
          1898,
          1897,
          1896,
          1895,
          1894,
          1893,
          1892,
          1891,
          1890,
          1889,
          1888,
          1887,
          1886,
          1885,
          1884,
          1883,
          1882,
          1881,
          1880
         ],
         "xaxis": "x3",
         "y": [
          2.0295599951546603,
          2.0307582666952513,
          2.0308485298680727,
          2.0060942024053965,
          1.984102894843165,
          1.8957469206467388,
          1.9070951078753353,
          1.9067510132804584,
          1.8716191227460357,
          1.906792371266577,
          1.9045132251458359,
          1.8955705787092045,
          1.9331717197384364,
          1.9339432625890407,
          1.9969621752105426,
          2.0235110641446545,
          2.0484505714940173,
          2.0578202579794147,
          2.0937829333372617,
          2.0936011159909924,
          2.102661930347422,
          2.0944978355812105,
          2.059361472613138,
          2.030978255383042,
          1.9623985722940704,
          1.89922990106348,
          1.878235229557851,
          1.8763802697852114,
          1.8501109429960705,
          1.802455409251442,
          1.7968210348717142,
          1.8114498243163166,
          1.845036020680746,
          1.8574989366079764,
          1.8722515506682185,
          1.898955038314073,
          1.9234996541244536,
          1.9161105040671957,
          1.9302720619818468,
          1.9877171830929328,
          2.001917485182241,
          2.0015543268236455,
          1.962487508897604,
          1.9550394936353876,
          1.948582175008738,
          1.9779273371898634,
          1.9599220988943478,
          1.9871984584514633,
          2.0298820865403346,
          1.991312565913504,
          2.020220602675549,
          2.01260445862683,
          2.0477271938320003,
          2.0543880362348146,
          2.0749385630746064,
          2.053588976304398,
          2.0555153265231643,
          2.0643420818045044,
          2.053222832829505,
          2.0526910778852963,
          2.0381102224743115,
          2.0671385719777446,
          1.9905123709038102,
          1.981541004293221,
          1.9608470579176518,
          1.9586152329350488,
          1.9734971140090412,
          1.9157199057775685,
          1.871085162603051,
          1.8624901900585678,
          1.880078762984213,
          1.8736786875200202,
          1.9364909168038495,
          1.9226721309217218,
          1.9202452163075474,
          1.886865595903078,
          1.8626414997616587,
          1.8889298557819494,
          1.8938898824220378,
          1.8931888936263463,
          1.8952915382621813,
          1.9256595943468378,
          1.935579020520269,
          1.920284708592523,
          1.936360482136058,
          1.9951385223488498,
          2.004815987640477,
          1.9826744337091449,
          2.0027373046677925,
          1.9874753781193968,
          1.9783590777507558,
          1.9259536827522266,
          1.8529972488402164,
          1.8551948016161985,
          1.8057945338140045,
          1.7679937224700035,
          1.7650194466592322,
          1.8000126248282784,
          1.809252613550989,
          1.823036532058712,
          1.8173008862098823,
          1.8272841745141744,
          1.8632386471977298,
          1.884052931735444,
          1.930714579007926,
          1.9766389330571923,
          2.021850905303432,
          2.022138547511018,
          2.0354416800135344,
          2.0328037421032956,
          2.007414226277839,
          2.0284191641072273,
          2.0427943252928444,
          2.0598599511654188,
          2.0195155089311663,
          2.0120716725490233,
          1.9984186177432226,
          1.9684524972885904,
          1.9689777363347738,
          1.96902967842374,
          1.9866526469461256,
          1.9899220201519836,
          1.9818987708572458,
          1.9814631397212885,
          2.024061290947567,
          2.0124852012058994,
          2.0153303162678924,
          2.018798832047447,
          2.027830038799696,
          2.029640177730207,
          1.9910762407426477,
          1.9746829943666577,
          1.9781547367468426,
          1.9441420829600085,
          1.9091480330830557,
          1.9008352029102764,
          1.8766368896845755,
          1.8573743987630633,
          1.8388160849286097,
          1.8487531526179495,
          1.7029319738120308,
          1.681421045262925,
          1.6942374007825844,
          1.7072742509862582,
          1.730983956519033,
          1.739960286419392,
          1.775975254676489,
          1.8084763588269586,
          1.8087007372949275,
          1.8259338150277715,
          1.8595027145142335,
          1.8657790725333965,
          1.8637535093317659,
          1.859876874621977,
          1.8599940323152275,
          1.8696703774689079,
          1.825591602897608,
          1.8196378835692295,
          1.8191515367892164,
          1.8143084151539577,
          1.792838050293643,
          1.785369073016453,
          1.7824286642407756,
          1.8130313456648592,
          1.820230488653385,
          1.8342924183592146,
          1.8658845379777782,
          1.8525100587971228,
          1.8423392425732072,
          1.8118420175993801,
          1.8372084929641748,
          1.8460248583443701,
          1.824910487813887,
          1.8319324329266646,
          1.7945985151772792,
          1.7483455319065708,
          1.7091265007649068,
          1.6887759030411529,
          1.6510407237351719,
          1.6502572453242363,
          1.6533476416028192,
          1.6430256327161294,
          1.6349979620661104,
          1.5977811192369404,
          1.5932583030096947,
          1.631451353948133,
          1.6813637257963963,
          1.6822853469449581,
          1.7560740210247272,
          1.8001691632658243,
          1.8119953976044327,
          1.8122027948204111,
          1.786271064200053,
          1.8118450486829087,
          1.8070287691438192,
          1.7408848875490504,
          1.7234640789356797,
          1.7386397671413631,
          1.730109199476965,
          1.7042352232738351,
          1.7108679909421667,
          1.723069952091239,
          1.7244471489875108,
          1.6921634060141297,
          1.7084720628511942,
          1.7468926474849606,
          1.7478221782518073,
          1.7534719261829361,
          1.705567487135356,
          1.7150534959690062,
          1.6962468054626485,
          1.702480943561186,
          1.7439731120322055,
          1.8041338934119733,
          1.7948613389652615,
          1.7927764915999078,
          1.816878877736391,
          1.8301249147186818,
          1.8945661677385668,
          1.862888723023007,
          1.8729404255220785,
          1.8698997853362038,
          1.8839753082392838,
          1.8822545153837893,
          1.8857739058496654,
          1.9083725575329618,
          1.8780223002681418,
          1.8698051456797917,
          1.8383764292041416,
          1.8476745053283312,
          1.8252838117350676,
          1.8657955873811691,
          1.8139469144658884,
          1.7800505368609814,
          1.8000363707262625,
          1.771659794629705,
          1.7830401785207626,
          1.7906112505111706,
          1.8286315710085541,
          1.8201803861104762,
          1.8065415774317408,
          1.758083582540113,
          1.7522624479421394,
          1.7586171504791228,
          1.7338072548795267,
          1.7051804319878383,
          1.69475165502058,
          1.6862128824665117,
          1.652755347615578,
          1.6465165775720958,
          1.6425630565366645,
          1.682960093806881,
          1.703808012939225,
          1.7068701999112807,
          1.7266051562224163,
          1.7893273837513897,
          1.8459614546858394,
          1.8658540011704832,
          1.901658926080346,
          1.9071853750707544,
          1.9166197467909527,
          1.9151730190302212,
          1.8814079039281986,
          1.8803898959662895,
          1.8599405454093152,
          1.8388618817094742,
          1.7956908094688202,
          1.795770677727038,
          1.7540450881987957,
          1.7577549483527446,
          1.7521078855790864,
          1.7137198357261243,
          1.7323884085184673,
          1.7237013317969412,
          1.701737462734814,
          1.7527407020864931,
          1.746244970033665,
          1.7656608895815946,
          1.7750318488864372,
          1.7686820125705318
         ],
         "yaxis": "y3"
        },
        {
         "hovertemplate": "MLB<br>Year: %{x}<br>λ: %{y:.2f}<extra></extra>",
         "line": {
          "color": "#783ABB",
          "width": 2
         },
         "mode": "lines",
         "name": "λ estimate",
         "showlegend": false,
         "type": "scatter",
         "x": {
          "bdata": "WAdZB1oHWwdcB10HXgdfB2AHYQdiB2MHZAdlB2YHZwdoB2kHagdrB2wHbQduB28HcAdxB3IHcwd0B3UHdgd3B3gHeQd6B3sHfAd9B34HfweAB4EHggeDB4QHhQeGB4cHiAeJB4oHiweMB40HjgePB5AHkQeSB5MHlAeVB5YHlweYB5kHmgebB5wHnQeeB58HoAehB6IHowekB6UHpgenB6gHqQeqB6sHrAetB64HrwewB7EHsgezB7QHtQe2B7cHuAe5B7oHuwe8B70Hvge/B8AHwQfCB8MHxAfFB8YHxwfIB8kHygfLB8wHzQfOB88H0AfRB9IH0wfUB9UH1gfXB9gH2QfaB9sH3AfdB94H3wfgB+EH4gfjBw==",
          "dtype": "i2"
         },
         "xaxis": "x3",
         "y": {
          "bdata": "3sirtMxi/j9E6I4WQnL+Pyrwm1RAX/4/+QBpZsoE/j+co3hBDuX9P7r0c+Slx/w/9pr2AN8L/T+WrxEh9Rz9P3ezHTHGrvw/M9Nzf21F/T9N3ZJBU0z9P3W24rJpMv0/oUFuwN/U/T9cSWxjStb9P75z7YXEr/4/GhDVE08R/z8FjDfpQ27/P84A9w2Kg/8/bBfKvysJAECbin1WdwoAQDDmemkVCgBAiTRICSH4/z/6Os1e12b/P/95evf4A/8/HCjm5YgD/j+e3X3PtQH9P3JBYsFLrvw/QpcewTmk/D+gG2y/ukP8P3loZddlj/s/WkMUl/SL+z8Bp4Azsbb7Pz9tyGz/P/w/L+6xWwJr/D+sYMmolJ78P45EW63lD/0/Vpi+p/l0/T/gSRPr01j9PxrpqZrAgf0/qB5IVqRa/j/sgXoMqJP+P0xRBoE4pP4/Bo1ypFgG/j9IBq5Qluf9Pw5uxjgOw/0/GcxXCUU5/j9QCPTFduv9P4sswOe+aP4/bgBqDlkq/z/uQoCuY4j+P2Thif1y8f4/YApWEc/O/j/bzfkxG1f/P0Tc7YyTdf8/wmuGONLd/z+ObM+v0IP/P9tSkXmNgP8/q7qDbSeW/z/FwXkcjmL/P4JBWn2xZ/8/uyFl7z41/z8C6ytBkrH/P7cD/UeqkP4/zliO9ilj/j8IY5XIawf+P4bplLkeB/4/kNQJm5Y4/j/kIwciDUf9P0KOoNOplvw/oqEWGkt4/D9M/aez1ML8P9XSg9FLovw/3KowPQuF/T90b9AeLF39PwhMV2BMVv0/GmrzY0DD/D8uve+NPXD8P37T/DMy6Pw/1nBBo4jv/D/NKaHGG9X8P+r9zq/Uy/w/T6+ZtQM//T8F2NrRzGT9P68vqsNlJv0/3FHRnv9q/T8oDlev1mr+P0pp15SFiP4/Wmmv5cwm/j+vAZxQ/4T+P5i7Hu9QZf4/z22xA206/j8CgdXwynT9P1wf2D1CSPw/IAR9Mt9K/D+u/aHFen/7P3tkGBrY4/o/cPSr+wPn+j9XAKHU5nr7P6xGow5Envs/hapxgaLP+z/fVx8ej737P22/FgGc0/s/honBmoZq/D+j/bnb1L78P8wqQxG3bv0/vfAMin4r/j80i9xbjNT+P2qhBqXBxv4/zh8WVD4N/z+Q4IX5yPX+P774szfWjf4/ukb7LlD3/j/+DU1YlSn/P/yTCrrsZ/8/zDgmQJnU/j8kCRYJjqj+P8RseXrZff4/5Zt/+80B/j8yC+D65gj+P27AlRtOGP4/2rb4RV5o/j9/95iO+3j+P6p0qgyMaf4/8wntHdl0/j94/PnJXCb/P5JMc2TW+v4/pcSwoGwA/z8G2xmadw//P4KqpIgcJv8/Kknd8vYc/z/0S3CRPIn+P7yjnbBeRP4/jAxsPgVL/j9mc/PgzML9P6SY3rNfMf0/eeEVNPcN/T88nKea2av8PxIXeXKzafw/RrOiFXIp/D+wpj3k2Wn8Pw==",
          "dtype": "f8"
         },
         "yaxis": "y3"
        },
        {
         "fill": "toself",
         "fillcolor": "rgba(128,128,128,0.3)",
         "hoverinfo": "skip",
         "line": {
          "color": "rgba(255,255,255,0)"
         },
         "name": "±2 SE",
         "showlegend": false,
         "type": "scatter",
         "x": [
          1956,
          1957,
          1958,
          1959,
          1960,
          1961,
          1962,
          1963,
          1964,
          1965,
          1966,
          1967,
          1968,
          1969,
          1970,
          1971,
          1972,
          1973,
          1974,
          1975,
          1976,
          1977,
          1978,
          1979,
          1980,
          1981,
          1982,
          1983,
          1984,
          1985,
          1986,
          1987,
          1988,
          1989,
          1990,
          1991,
          1992,
          1993,
          1994,
          1995,
          1996,
          1997,
          1998,
          1999,
          2000,
          2001,
          2002,
          2003,
          2004,
          2005,
          2006,
          2007,
          2008,
          2009,
          2010,
          2011,
          2012,
          2013,
          2014,
          2015,
          2016,
          2017,
          2018,
          2019,
          2019,
          2018,
          2017,
          2016,
          2015,
          2014,
          2013,
          2012,
          2011,
          2010,
          2009,
          2008,
          2007,
          2006,
          2005,
          2004,
          2003,
          2002,
          2001,
          2000,
          1999,
          1998,
          1997,
          1996,
          1995,
          1994,
          1993,
          1992,
          1991,
          1990,
          1989,
          1988,
          1987,
          1986,
          1985,
          1984,
          1983,
          1982,
          1981,
          1980,
          1979,
          1978,
          1977,
          1976,
          1975,
          1974,
          1973,
          1972,
          1971,
          1970,
          1969,
          1968,
          1967,
          1966,
          1965,
          1964,
          1963,
          1962,
          1961,
          1960,
          1959,
          1958,
          1957,
          1956
         ],
         "xaxis": "x4",
         "y": [
          11.904555654316768,
          12.109555235262777,
          12.340452929087594,
          12.50932123527421,
          13.647899676994236,
          14.108942726496542,
          15.474480752320178,
          16.064679141183483,
          16.28268840314052,
          16.441609349072596,
          16.607120610201203,
          16.963741141650562,
          17.001355851403474,
          17.004515710825473,
          16.675826662305518,
          16.128483926961167,
          15.67661265509985,
          15.565808619906628,
          15.547143659582806,
          15.294167193250635,
          15.482108782187204,
          15.276017651213238,
          15.204810967289147,
          15.02610438545156,
          15.158742584981008,
          15.454447703592397,
          15.916995653064879,
          16.00621086928849,
          16.128144609931248,
          16.532393054215973,
          16.17273402071457,
          16.285041612598924,
          16.131150822539325,
          15.877243681719767,
          15.84747890899917,
          15.522754252868454,
          15.21467560843761,
          15.08089032208097,
          14.95783239578214,
          14.737684090594458,
          14.674046645294066,
          14.671351876672007,
          14.663905531276615,
          14.695261345821045,
          14.51100961332809,
          14.521835332417599,
          14.442561353965788,
          14.37263334923555,
          14.311006536965072,
          14.479938283481287,
          14.456818249722808,
          14.335389805637213,
          14.074726037070343,
          14.264593699213453,
          14.370876339324115,
          14.386884440496045,
          14.412125135948607,
          14.4547154333553,
          14.534209966453945,
          14.459999142216304,
          14.623609666648038,
          14.647732972136403,
          14.8801034830164,
          14.74081325711015,
          13.896472486215297,
          14.04715447415436,
          13.843064123266398,
          13.797479862624249,
          13.633666595387226,
          13.691317510569506,
          13.618309094924243,
          13.581623967366816,
          13.5632508584805,
          13.561425007217276,
          13.468529331624833,
          13.253540548532465,
          13.515518948740471,
          13.657790195262336,
          13.72480318437695,
          13.527819975838446,
          13.577003458746756,
          13.63397154112033,
          13.683819042178843,
          13.681752648913823,
          13.8427947993166,
          13.818414604483063,
          13.808039640057816,
          13.802918825438582,
          13.781200282591326,
          14.002433270552233,
          14.095908835327,
          14.22268138015447,
          14.536527237415767,
          14.823182012719942,
          14.821593557925508,
          15.005298965582114,
          15.097671612218138,
          14.88365820833887,
          15.214759039277654,
          14.858818812417441,
          14.752319275118237,
          14.687324941725707,
          14.2856387771449,
          14.014614254841275,
          13.86862815421911,
          14.075260590758889,
          14.139678323998105,
          14.34569648185306,
          14.195679944939927,
          14.3766431418225,
          14.359968131482015,
          14.37036174512402,
          14.65810491125732,
          14.994047447807418,
          15.297900818563846,
          15.03047538890864,
          14.855847123310953,
          14.3870924605108,
          14.16840866477754,
          13.97662198397601,
          13.622203928522786,
          13.26709026499069,
          11.904041571077032,
          11.56126625448723,
          10.916532860053227,
          10.909589291549313,
          10.733962358189265,
          10.601173785826552
         ],
         "yaxis": "y4"
        },
        {
         "hovertemplate": "NBA<br>Year: %{x}<br>λ: %{y:.2f}<extra></extra>",
         "line": {
          "color": "#783ABB",
          "width": 2
         },
         "mode": "lines",
         "name": "λ estimate",
         "showlegend": false,
         "type": "scatter",
         "x": {
          "bdata": "pAelB6YHpweoB6kHqgerB6wHrQeuB68HsAexB7IHswe0B7UHtge3B7gHuQe6B7sHvAe9B74HvwfAB8EHwgfDB8QHxQfGB8cHyAfJB8oHywfMB80HzgfPB9AH0QfSB9MH1AfVB9YH1wfYB9kH2gfbB9wH3QfeB98H4AfhB+IH4wc=",
          "dtype": "i2"
         },
         "xaxis": "x4",
         "y": {
          "bdata": "OgoOfHeBJkAmet3E8NcmQDZBWMQCQCdAjEwkxgRtJ0B4JgPmizUpQKZwXfBSAypA+gIjmde9LECEkKCR168tQLgtYCpiQi5ADHX7IyqcLkC79m+/hP4uQPIxWonQ0S9A2hDMCxMEMECcv7eVtSYwQEZfo958qy9ACozX4l3JLkDztaiDBgwuQIGchrT/7C1AIoO0Sn3sLUBSkT6fZn0tQHSCuAvr0y1AjpwqDWtqLUAoWwbFskctQHSNFDEN5SxAGpMlHWEsLUB6+r5Odr0tQMLsJsG0mi5Az0ETCC/CLkD6VYWiqfwuQG2xDlxFvy9Ad4ibuG8OL0ACVnB++WEvQBiHkV/uIi9A3YBR/+ayLkAifSVvsKsuQGQHXhItDy5AFq6qoPZvLUAQB6e1Qi0tQLZggPjT9SxACD01m9WELEAzHrpoGnosQJ1VBme5eixAREoZVXl7LEAsxyoMvoksQGQ7HN5YMSxAyivdw6U0LECMdumolxMsQKFc2WUb8ytAQ4KXVb3WK0APltTvaTQsQH4Oo/pWHSxAqO73J9XZK0CdiGlHCVQrQBRlcfOtuytAe2kRTavuK0Aj4SMRPPMrQEgrW1dm/itAN8RIvLESLEBFKjIrvDksQEzDT3r6FyxAmun8hcxrLEARuuHgpH0sQBIBCcdg7SxAM8qRKCWjLEA=",
          "dtype": "f8"
         },
         "yaxis": "y4"
        },
        {
         "fill": "toself",
         "fillcolor": "rgba(128,128,128,0.3)",
         "hoverinfo": "skip",
         "line": {
          "color": "rgba(255,255,255,0)"
         },
         "name": "±2 SE",
         "showlegend": false,
         "type": "scatter",
         "x": [
          1931,
          1932,
          1933,
          1934,
          1935,
          1936,
          1937,
          1938,
          1939,
          1940,
          1941,
          1942,
          1943,
          1944,
          1945,
          1946,
          1947,
          1948,
          1949,
          1950,
          1951,
          1952,
          1953,
          1954,
          1955,
          1956,
          1957,
          1958,
          1959,
          1960,
          1961,
          1962,
          1963,
          1964,
          1965,
          1966,
          1967,
          1968,
          1969,
          1970,
          1971,
          1972,
          1973,
          1974,
          1975,
          1976,
          1977,
          1978,
          1979,
          1980,
          1981,
          1982,
          1983,
          1984,
          1985,
          1986,
          1987,
          1988,
          1989,
          1990,
          1991,
          1992,
          1993,
          1994,
          1995,
          1996,
          1997,
          1998,
          1999,
          2000,
          2001,
          2002,
          2003,
          2004,
          2005,
          2006,
          2007,
          2008,
          2009,
          2010,
          2011,
          2012,
          2013,
          2014,
          2015,
          2016,
          2017,
          2018,
          2019,
          2019,
          2018,
          2017,
          2016,
          2015,
          2014,
          2013,
          2012,
          2011,
          2010,
          2009,
          2008,
          2007,
          2006,
          2005,
          2004,
          2003,
          2002,
          2001,
          2000,
          1999,
          1998,
          1997,
          1996,
          1995,
          1994,
          1993,
          1992,
          1991,
          1990,
          1989,
          1988,
          1987,
          1986,
          1985,
          1984,
          1983,
          1982,
          1981,
          1980,
          1979,
          1978,
          1977,
          1976,
          1975,
          1974,
          1973,
          1972,
          1971,
          1970,
          1969,
          1968,
          1967,
          1966,
          1965,
          1964,
          1963,
          1962,
          1961,
          1960,
          1959,
          1958,
          1957,
          1956,
          1955,
          1954,
          1953,
          1952,
          1951,
          1950,
          1949,
          1948,
          1947,
          1946,
          1945,
          1944,
          1943,
          1942,
          1941,
          1940,
          1939,
          1938,
          1937,
          1936,
          1935,
          1934,
          1933,
          1932,
          1931
         ],
         "xaxis": "x5",
         "y": [
          1.0412990179677781,
          1.0765308308905253,
          1.0801347137254305,
          1.0782909750006562,
          1.0997649714633282,
          1.1849100534574135,
          1.229579962313864,
          1.3096523578588606,
          1.3537862793558615,
          1.4495996268552322,
          1.5917065364405463,
          1.6816147143282476,
          1.7539847878021166,
          1.8720402964948335,
          1.9550037970356313,
          2.0340829521400776,
          2.1049327438684955,
          2.169757111839903,
          2.1977137728142564,
          2.2325956777169247,
          2.27673742024589,
          2.2852551667225023,
          2.3657137687690533,
          2.3774915566192507,
          2.4197811674954663,
          2.4637886851282023,
          2.457458289212181,
          2.5012542930349047,
          2.5915351123961985,
          2.647443506192936,
          2.591529330398757,
          2.696040314149344,
          2.661870811419419,
          2.787924801028363,
          2.784215190857293,
          2.715341327396926,
          2.694702203028536,
          2.6410021510279886,
          2.6634782309679292,
          2.6107432035167126,
          2.577961880942034,
          2.4928524956421234,
          2.4674926427603547,
          2.4351372802565843,
          2.4300036426289955,
          2.4263555043607483,
          2.410298318501799,
          2.4150465399764585,
          2.3907734888133394,
          2.4302010133277805,
          2.465483612714444,
          2.5504961630633156,
          2.6243008656049156,
          2.6975809542930063,
          2.7521505144540286,
          2.874265069963568,
          2.9317880239656695,
          2.936537921063395,
          2.8994155134368573,
          2.8922597552137033,
          2.889810417063119,
          2.8197751338425134,
          2.737299147286242,
          2.7155496927634393,
          2.6758171391290624,
          2.6609144386826875,
          2.683955072288934,
          2.729410843303496,
          2.716669871059866,
          2.6325874106173237,
          2.6783205485897574,
          2.6718579672445104,
          2.7334991016914763,
          2.7714847689897493,
          2.8094667868178798,
          2.79464200844808,
          2.783846795762325,
          2.7394182587951565,
          2.7349496988891335,
          2.8210034095419667,
          2.809058909960658,
          2.8169122356694603,
          2.8322166265736697,
          2.8238881534061484,
          2.839668389139634,
          2.9137940710079997,
          2.9164451681975225,
          2.940598243732299,
          2.9888474234736244,
          2.6837719868061325,
          2.6446346681345947,
          2.618049574139247,
          2.6140857604985808,
          2.5567014044593694,
          2.5505984991427395,
          2.54685215753586,
          2.5285071365748424,
          2.5181977059800005,
          2.5304798375061424,
          2.4468945090353973,
          2.4494737499900614,
          2.4938932754920824,
          2.5076878941608625,
          2.5158680143450454,
          2.47004305107503,
          2.438524023035263,
          2.376178913561696,
          2.387906064571045,
          2.351356365387551,
          2.4315840319209854,
          2.438508765059993,
          2.3952351614167338,
          2.371089739493974,
          2.3901576854965034,
          2.4293506325509404,
          2.4626854553500808,
          2.5392602464019176,
          2.5833573520359785,
          2.5696079038606703,
          2.572963222794725,
          2.609474477282288,
          2.597464730077964,
          2.543775401279167,
          2.4204950443171076,
          2.382690955571696,
          2.306011996227074,
          2.2532335402897425,
          2.1920186902995424,
          2.1640117138544457,
          2.13341222408554,
          2.153690157235645,
          2.1639053301226285,
          2.1838456335421372,
          2.194612879783505,
          2.1862968757124426,
          2.2160917710525436,
          2.2300348592944332,
          2.2996756637827858,
          2.3387685100967395,
          2.3733203522441637,
          2.347420738414539,
          2.3719573182737093,
          2.3667706467121548,
          2.4205785386978214,
          2.4115243967916262,
          2.275425380287988,
          2.2976209724415053,
          2.2001421942662183,
          2.22540257226323,
          2.189665222941441,
          2.1431721809909168,
          2.115173527985814,
          2.1204135054105606,
          2.0923179011832684,
          2.0512371626903136,
          2.037638567881217,
          1.954403854239064,
          1.943191137989692,
          1.9143704793328629,
          1.8764361190253709,
          1.8343023473981241,
          1.7645898705568623,
          1.7129406183612457,
          1.6239176164310187,
          1.5563732626416884,
          1.4192578199244028,
          1.3332260538472125,
          1.2581405892305624,
          1.138960456804349,
          1.0761322720834006,
          1.0630248224450396,
          0.9933197998101853,
          0.9646337193568812,
          0.9034938848802827,
          0.9015942637756573,
          0.9141539321501482,
          0.9256179962576804,
          0.8932742593129913
         ],
         "yaxis": "y5"
        },
        {
         "hovertemplate": "NFL<br>Year: %{x}<br>λ: %{y:.2f}<extra></extra>",
         "line": {
          "color": "#783ABB",
          "width": 2
         },
         "mode": "lines",
         "name": "λ estimate",
         "showlegend": false,
         "type": "scatter",
         "x": {
          "bdata": "iweMB40HjgePB5AHkQeSB5MHlAeVB5YHlweYB5kHmgebB5wHnQeeB58HoAehB6IHowekB6UHpgenB6gHqQeqB6sHrAetB64HrwewB7EHsgezB7QHtQe2B7cHuAe5B7oHuwe8B70Hvge/B8AHwQfCB8MHxAfFB8YHxwfIB8kHygfLB8wHzQfOB88H0AfRB9IH0wfUB9UH1gfXB9gH2QfaB9sH3AfdB94H3wfgB+EH4gfjBw==",
          "dtype": "i2"
         },
         "xaxis": "x5",
         "y": {
          "bdata": "4S7aGwP07j9DnLKaZgTwP6MdDTab6O8/5wnmJJyt7z9qWEuUrAbwP3p2bAFEMvE/LN+kq3/I8T9K92osPvvyP6oAMyN5cPM/M2Q4/V619D8q21qmfMz2P1+wL9ZkHvg/W6wzBc1i+T8OPI0WZG37P8tYzoyhofw/mCdlfuf5/T/ytsBFyPT+P8aqsikoBABAA9AB8+1LAEAul9hLfpYAQCJQtPM04QBAnuKkLGn1AEBethplCJ0BQIQpUakEtwFAHibBsmMMAkBSdloZOVYCQMkOvv5fSgJAUXiaiOSTAkD7mA/78h8DQPOkxVzLfQNALnGu8KsqA0D/1SRYgvkDQNQxqJLKvwNAsmYXaTzMBEDZdYtytdEEQE6iTSkVVARANNe/ZEJEBEALGEMhJfQDQIS9HYeuJQRABo50zEzMA0DgVqFqs4IDQOyTMJU85AJA5IZ1jf27AkBwBEI8WXwCQDY2QXmbfwJAehktkdhwAkDaV5AK/EsCQIE+quliRgJAe7m3I8QYAkBidRhNeWACQIL1oUhIoQJAkuZa6wQ3A0Bcd1Lvo7gDQBygrswyUgRA/+JS/8mwBEBikSHNEqwFQMm9F2/0HQZAwmvI3x0vBkAHw11At+MFQNI369Xz2AVAJjV3F4bkBUDrBoH4pm8FQDMbgMPIzARAvp45wGCUBEArgYjnjkMEQJ5qCrTFIARAubafPhdRBED+HCke86sEQHw6A9/PlwRAvCwM9Y7vA0Aamsbo0EMEQA5CgJQwMQRApW171CawBEB1AqERU/cEQFH77JAkTQVArDtR+JU1BUA5TqvkZxwFQEHVIOhswQRA9AI4XjW6BEBxp2w562cFQIR1u1scTwVAysasnbVhBUBavXqbKoQFQKfx1W15fwVAHIWS9uGVBUCvJ9KHjBwGQKnh+JZSIwZAbQvkS0dXBkC3OYckw7AGQA==",
          "dtype": "f8"
         },
         "yaxis": "y5"
        },
        {
         "fill": "toself",
         "fillcolor": "rgba(128,128,128,0.3)",
         "hoverinfo": "skip",
         "line": {
          "color": "rgba(255,255,255,0)"
         },
         "name": "±2 SE",
         "showlegend": false,
         "type": "scatter",
         "x": [
          1927,
          1928,
          1929,
          1930,
          1931,
          1932,
          1933,
          1934,
          1935,
          1936,
          1937,
          1938,
          1939,
          1940,
          1941,
          1942,
          1943,
          1944,
          1945,
          1946,
          1947,
          1948,
          1949,
          1950,
          1951,
          1952,
          1953,
          1954,
          1955,
          1956,
          1957,
          1958,
          1959,
          1960,
          1961,
          1962,
          1963,
          1964,
          1965,
          1966,
          1967,
          1968,
          1969,
          1970,
          1971,
          1972,
          1973,
          1974,
          1975,
          1976,
          1977,
          1978,
          1979,
          1980,
          1981,
          1982,
          1983,
          1984,
          1985,
          1986,
          1987,
          1988,
          1989,
          1990,
          1991,
          1992,
          1993,
          1994,
          1995,
          1996,
          1997,
          1998,
          1999,
          2000,
          2001,
          2002,
          2003,
          2004,
          2005,
          2006,
          2007,
          2008,
          2009,
          2010,
          2011,
          2012,
          2013,
          2014,
          2015,
          2016,
          2017,
          2018,
          2019,
          2019,
          2018,
          2017,
          2016,
          2015,
          2014,
          2013,
          2012,
          2011,
          2010,
          2009,
          2008,
          2007,
          2006,
          2005,
          2004,
          2003,
          2002,
          2001,
          2000,
          1999,
          1998,
          1997,
          1996,
          1995,
          1994,
          1993,
          1992,
          1991,
          1990,
          1989,
          1988,
          1987,
          1986,
          1985,
          1984,
          1983,
          1982,
          1981,
          1980,
          1979,
          1978,
          1977,
          1976,
          1975,
          1974,
          1973,
          1972,
          1971,
          1970,
          1969,
          1968,
          1967,
          1966,
          1965,
          1964,
          1963,
          1962,
          1961,
          1960,
          1959,
          1958,
          1957,
          1956,
          1955,
          1954,
          1953,
          1952,
          1951,
          1950,
          1949,
          1948,
          1947,
          1946,
          1945,
          1944,
          1943,
          1942,
          1941,
          1940,
          1939,
          1938,
          1937,
          1936,
          1935,
          1934,
          1933,
          1932,
          1931,
          1930,
          1929,
          1928,
          1927
         ],
         "xaxis": "x6",
         "y": [
          2.1376718552776266,
          1.9247015833231012,
          1.767726146460208,
          1.845887592722757,
          1.855718018330722,
          1.8116286630176897,
          1.776264808351946,
          1.7805340108115932,
          1.7957691974800116,
          1.7850874782290849,
          1.759144683916445,
          1.8580547128443372,
          1.9631024352597861,
          1.7491822589033208,
          1.657008022831476,
          1.6885459458827596,
          1.70432498306833,
          1.7831072272922046,
          1.8474954188267239,
          1.8575451832047085,
          1.8569943931659796,
          1.8889640647815023,
          1.9213261030409599,
          2.0001602428823295,
          2.0590978498983987,
          2.0599744264033655,
          2.036741271600753,
          1.9518225986087852,
          1.891223297306908,
          1.8606847815764678,
          1.8588243202977923,
          1.844089172080541,
          1.8213708961755688,
          1.8335493982070439,
          1.8449259740188153,
          1.8349146747024583,
          1.895184050635682,
          1.9194710748887207,
          1.8923407697897594,
          1.9021022793566773,
          1.9110095596622365,
          1.8927859694537585,
          1.9399736557453604,
          1.9303569636626687,
          1.9047033031957028,
          1.9345968068225374,
          1.9401381175866166,
          1.935609483315639,
          1.9409306613358894,
          1.96749494959477,
          1.9613589403423453,
          1.9667366926360792,
          1.9786303177950808,
          1.997644714710106,
          2.0297440620348377,
          2.0430249915895335,
          2.063298262010731,
          2.1088926151283136,
          2.1535043394105067,
          2.203057668727861,
          2.2592007711537545,
          2.3241196596556035,
          2.3442166975829632,
          2.3625685260099445,
          2.3478886595770927,
          2.3595704564390125,
          2.4183086325563576,
          2.3495599721554297,
          2.33200902290923,
          2.291040614503414,
          2.2580247815566374,
          2.2178393185324508,
          2.190921545023471,
          2.157896490129304,
          2.1481696548564226,
          2.1174673058165188,
          2.0294454973796485,
          2.011547816485592,
          2.0019216496670174,
          2.003235535869006,
          2.019285765536759,
          2.0290739352532676,
          2.0432118518110505,
          2.0616218752902418,
          2.046690426197324,
          2.0426198590466362,
          2.0962371874296926,
          2.134014547189077,
          2.117611433964093,
          2.1162573996611806,
          2.107996086101975,
          2.13927541391641,
          2.1329689112113672,
          1.979746334111281,
          1.9831083432053278,
          1.947575528488738,
          1.9514752502788533,
          1.9529655238910446,
          1.9547341172350576,
          1.909596984328184,
          1.8660827316883766,
          1.8719333461771555,
          1.8937522297137566,
          1.883685109301325,
          1.8647959693360094,
          1.8577893181376994,
          1.8460646389497803,
          1.8632877626759734,
          1.8698364550399864,
          1.883772884786043,
          1.9654732466626865,
          1.9955179205376394,
          2.0036559220963954,
          2.0318401342748693,
          2.0559778064215948,
          2.0892365615240025,
          2.1151974679989616,
          2.1471582798535542,
          2.17613593136419,
          2.2487532002947686,
          2.191294734775341,
          2.1811756510771865,
          2.1979552475651563,
          2.1746887045314836,
          2.1557167737009326,
          2.0988856666584046,
          2.053488712409073,
          2.011156854991585,
          1.9713455832608646,
          1.9325218855083777,
          1.9155783917619362,
          1.9068747677239521,
          1.8786493392911225,
          1.8640076275903965,
          1.8496630999246193,
          1.8349896099560377,
          1.82955170195379,
          1.800851620840655,
          1.7764951506068654,
          1.7676851728563068,
          1.734672874181218,
          1.6894522804961078,
          1.6929796525368899,
          1.6885194908139676,
          1.6266998006288333,
          1.6360968467427601,
          1.6142974596762116,
          1.6077482726001824,
          1.6502024255960124,
          1.6293614889707244,
          1.5743433660843036,
          1.5793625855839069,
          1.5835146583847006,
          1.576468703210372,
          1.6058145547188662,
          1.626220595449931,
          1.6489886987393747,
          1.6697621238625433,
          1.7197678651253834,
          1.8014434051028778,
          1.8360076852893714,
          1.8179358610376601,
          1.7519890353734582,
          1.6744244044406016,
          1.645131790669723,
          1.6244049916786114,
          1.623526161696886,
          1.6149960342753777,
          1.5471465071649508,
          1.4819060616255944,
          1.4719894338634836,
          1.428438445537616,
          1.50920286168749,
          1.6582413065378931,
          1.5519117657073445,
          1.444714252229286,
          1.4659106790326721,
          1.4818241444502205,
          1.4694736167829046,
          1.4529830441094063,
          1.4615202910687481,
          1.4888379857246645,
          1.4309636684244582,
          1.3801133416282236,
          1.4857909024925129,
          1.6928214189953927
         ],
         "yaxis": "y6"
        },
        {
         "hovertemplate": "NHL<br>Year: %{x}<br>λ: %{y:.2f}<extra></extra>",
         "line": {
          "color": "#783ABB",
          "width": 2
         },
         "mode": "lines",
         "name": "λ estimate",
         "showlegend": false,
         "type": "scatter",
         "x": {
          "bdata": "hweIB4kHigeLB4wHjQeOB48HkAeRB5IHkweUB5UHlgeXB5gHmQeaB5sHnAedB54HnwegB6EHogejB6QHpQemB6cHqAepB6oHqwesB60HrgevB7AHsQeyB7MHtAe1B7YHtwe4B7kHuge7B7wHvQe+B78HwAfBB8IHwwfEB8UHxgfHB8gHyQfKB8sHzAfNB84HzwfQB9EH0gfTB9QH1QfWB9cH2AfZB9oH2wfcB90H3gffB+AH4QfiB+MH",
          "dtype": "i2"
         },
         "xaxis": "x6",
         "y": {
          "bdata": "lWdkqNmk/j+Kp85IsEj7P3UtM3jGLvk/gd5Dy/02+j91dwiUpsH6PyHnBbhoL/o/eP/n5X/V+T+9JsL/AwD6P+prqduCOPo/NV1mUgsC+j828j3LgKH5P6KvToGcR/s/LcNUEYP4/D80r9U3LBH6P7Ch2Y7+rvg/cePuxcZI+T+8rrOzZn35P7gA5xFcpPo/PAYOuC6z+z8iKevuO9n7P7vGsevn2fs/vLxADNRF/D9wq5HXGMT8P4SMPtdmBP4/260PQCoE/z+sK1yr+Cr/P3qa8yqatP4/jlkw0mpf/T8Hpavs5Xz8P6bCjLDPE/w/BNKROl/h+z+knQcgZ5n7P7NUI4fGLvs/aDAbriVW+z8wfHxm8WT7P/RuZhQpRvs/PvqO7kQy/D+R1u/6sI78P9k4Ea8uAPw/Onm2L5Yh/D9JiNdSeWD8P9bvySfoJ/w/DtwxaicH/T+vz2fol/z8P3WJhaTUwPw/guwAEKpa/T9OZd5Bn6n9P7k3EOpjsv0/oZqVjCvv/T+KTK7+WWD+PxD9Hf3rXv4/OBNMnfyH/j/iZI72uL3+P5Hq/HSmAv8/6g1VAzJ+/z/YoipAOKv/P/lWso1w9/8/zOJX9ilSAEBWgrPxnKgAQKaPMxi0BgFAbS0ONq5uAUBNyPI9WusBQHYyD/BbEwJA0oqw8fk9AkCy9t4Iwx0CQO0UMwEWNAJAiQXSQRKrAkAhCOUGUBoCQPq2WtWq6gFAJ/M64PyfAUAZyT56mGMBQKsMM4RjGAFAvI09oxvkAECsZdz+baUAQNmi9NUikwBANaRBXu5UAEC4D2xwRU7/PwZKazITDf8/3aKR6fLr/j+Qq9rjXcv+P2clBPE/BP8/ebe4Q6Um/z9e6jX0SGr/P+J/wy2bpP8/jWmda1dZ/z+U+ifdBUX/P+mYo2T5BQBAtA8N7uBaAEAfW3dTRUgAQJh0MbVbRQBAGgPtw+c4AEAPmekqUn0AQIGvEaBrcwBA",
          "dtype": "f8"
         },
         "yaxis": "y6"
        }
       ],
       "layout": {
        "annotations": [
         {
          "font": {
           "size": 16
          },
          "showarrow": false,
          "text": "AFL",
          "x": 0.13999999999999999,
          "xanchor": "center",
          "xref": "paper",
          "y": 1,
          "yanchor": "bottom",
          "yref": "paper"
         },
         {
          "font": {
           "size": 16
          },
          "showarrow": false,
          "text": "EPL",
          "x": 0.49999999999999994,
          "xanchor": "center",
          "xref": "paper",
          "y": 1,
          "yanchor": "bottom",
          "yref": "paper"
         },
         {
          "font": {
           "size": 16
          },
          "showarrow": false,
          "text": "MLB",
          "x": 0.86,
          "xanchor": "center",
          "xref": "paper",
          "y": 1,
          "yanchor": "bottom",
          "yref": "paper"
         },
         {
          "font": {
           "size": 16
          },
          "showarrow": false,
          "text": "NBA",
          "x": 0.13999999999999999,
          "xanchor": "center",
          "xref": "paper",
          "y": 0.44,
          "yanchor": "bottom",
          "yref": "paper"
         },
         {
          "font": {
           "size": 16
          },
          "showarrow": false,
          "text": "NFL",
          "x": 0.49999999999999994,
          "xanchor": "center",
          "xref": "paper",
          "y": 0.44,
          "yanchor": "bottom",
          "yref": "paper"
         },
         {
          "font": {
           "size": 16
          },
          "showarrow": false,
          "text": "NHL",
          "x": 0.86,
          "xanchor": "center",
          "xref": "paper",
          "y": 0.44,
          "yanchor": "bottom",
          "yref": "paper"
         }
        ],
        "height": 700,
        "margin": {
         "b": 50,
         "t": 100
        },
        "showlegend": true,
        "template": {
         "layout": {
          "colorway": [
           "#783ABB",
           "#141C52",
           "#F9F9F9",
           "#75D0E8",
           "#DDE5ED",
           "#EEF2F6",
           "#43D6AC",
           "#A1EBD6",
           "#103392"
          ],
          "font": {
           "color": "#141C52",
           "size": 12
          },
          "hoverlabel": {
           "bgcolor": "white",
           "bordercolor": "#141C52",
           "font": {
            "color": "#141C52"
           }
          },
          "legend": {
           "bgcolor": "rgba(255,255,255,0.8)",
           "bordercolor": "#141C52",
           "borderwidth": 1,
           "font": {
            "color": "#141C52",
            "size": 11
           }
          },
          "paper_bgcolor": "white",
          "plot_bgcolor": "white",
          "title": {
           "font": {
            "color": "#141C52",
            "size": 16
           },
           "x": 0.05,
           "xanchor": "left"
          },
          "xaxis": {
           "gridcolor": "#E0E0E0",
           "linecolor": "#141C52",
           "tickcolor": "#141C52",
           "tickfont": {
            "color": "#141C52",
            "size": 11
           },
           "title": {
            "font": {
             "color": "#141C52",
             "size": 14
            }
           }
          },
          "yaxis": {
           "gridcolor": "#E0E0E0",
           "linecolor": "#141C52",
           "tickcolor": "#141C52",
           "tickfont": {
            "color": "#141C52",
            "size": 11
           },
           "title": {
            "font": {
             "color": "#141C52",
             "size": 14
            }
           }
          }
         }
        },
        "xaxis": {
         "anchor": "y",
         "domain": [
          0,
          0.27999999999999997
         ]
        },
        "xaxis2": {
         "anchor": "y2",
         "domain": [
          0.36,
          0.6399999999999999
         ]
        },
        "xaxis3": {
         "anchor": "y3",
         "domain": [
          0.72,
          1
         ]
        },
        "xaxis4": {
         "anchor": "y4",
         "domain": [
          0,
          0.27999999999999997
         ]
        },
        "xaxis5": {
         "anchor": "y5",
         "domain": [
          0.36,
          0.6399999999999999
         ]
        },
        "xaxis6": {
         "anchor": "y6",
         "domain": [
          0.72,
          1
         ]
        },
        "yaxis": {
         "anchor": "x",
         "domain": [
          0.56,
          1
         ],
         "range": [
          2.5,
          5
         ]
        },
        "yaxis2": {
         "anchor": "x2",
         "domain": [
          0.56,
          1
         ],
         "range": [
          0.9,
          1.3
         ]
        },
        "yaxis3": {
         "anchor": "x3",
         "domain": [
          0.56,
          1
         ],
         "range": [
          1.6,
          2.1
         ]
        },
        "yaxis4": {
         "anchor": "x4",
         "domain": [
          0,
          0.44
         ],
         "range": [
          12,
          16
         ]
        },
        "yaxis5": {
         "anchor": "x5",
         "domain": [
          0,
          0.44
         ],
         "range": [
          1,
          3
         ]
        },
        "yaxis6": {
         "anchor": "x6",
         "domain": [
          0,
          0.44
         ],
         "range": [
          1.5,
          2.3
         ]
        }
       }
      }
     },
     "metadata": {},
     "output_type": "display_data"
    },
    {
     "name": "stdout",
     "output_type": "stream",
     "text": [
      "Exported: exports/rolling_lambda_time_series.json\n"
     ]
    }
   ],
   "source": [
    "# Define the order to match the reference chart layout\n",
    "league_layout = ['AFL', 'EPL', 'MLB', 'NBA', 'NFL', 'NHL']\n",
    "\n",
    "# Create interactive Plotly version\n",
    "from plotly.subplots import make_subplots\n",
    "\n",
    "# Set up Plotly subplot structure\n",
    "fig_plotly = make_subplots(\n",
    "    rows=2, cols=3,\n",
    "    subplot_titles=league_layout,\n",
    "    horizontal_spacing=0.08,\n",
    "    vertical_spacing=0.12\n",
    ")\n",
    "\n",
    "for i, league in enumerate(league_layout):\n",
    "    row = (i // 3) + 1\n",
    "    col = (i % 3) + 1\n",
    "    \n",
    "    if league in rolling_results and len(rolling_results[league]) > 0:\n",
    "        data = rolling_results[league]\n",
    "        \n",
    "        # Add confidence band\n",
    "        upper_bound = data['lambda'] + 2 * data['lambda_se']\n",
    "        lower_bound = data['lambda'] - 2 * data['lambda_se']\n",
    "        \n",
    "        # Create filled area for confidence band\n",
    "        years_extended = list(data['year']) + list(data['year'][::-1])\n",
    "        bounds_extended = list(upper_bound) + list(lower_bound[::-1])\n",
    "        \n",
    "        fig_plotly.add_trace(\n",
    "            dict(\n",
    "                type='scatter',\n",
    "                x=years_extended,\n",
    "                y=bounds_extended,\n",
    "                fill='toself',\n",
    "                fillcolor='rgba(128,128,128,0.3)',\n",
    "                line=dict(color='rgba(255,255,255,0)'),\n",
    "                name='±2 SE',\n",
    "                showlegend=(i == 0),\n",
    "                hoverinfo='skip'\n",
    "            ),\n",
    "            row=row, col=col\n",
    "        )\n",
    "        \n",
    "        # Add lambda line\n",
    "        fig_plotly.add_trace(\n",
    "            dict(\n",
    "                type='scatter',\n",
    "                x=data['year'],\n",
    "                y=data['lambda'],\n",
    "                mode='lines',\n",
    "                line=dict(color=colors['primary_color'], width=2),\n",
    "                name='λ estimate',\n",
    "                showlegend=(i == 0),\n",
    "                hovertemplate=f'{league}<br>Year: %{{x}}<br>λ: %{{y:.2f}}<extra></extra>'\n",
    "            ),\n",
    "            row=row, col=col\n",
    "        )\n",
    "\n",
    "# Update layout\n",
    "fig_plotly.update_layout(\n",
    "    height=700,\n",
    "    template='custom_theme',\n",
    "    showlegend=True,\n",
    "    margin=dict(t=100, b=50)\n",
    ")\n",
    "\n",
    "# Update individual subplot y-axes to match reference chart ranges\n",
    "y_ranges = {\n",
    "    'AFL': [2.5, 5.0],\n",
    "    'EPL': [0.9, 1.3], \n",
    "    'MLB': [1.6, 2.1],\n",
    "    'NBA': [12, 16],\n",
    "    'NFL': [1.0, 3.0],\n",
    "    'NHL': [1.5, 2.3]\n",
    "}\n",
    "\n",
    "for i, league in enumerate(league_layout):\n",
    "    row = (i // 3) + 1\n",
    "    col = (i % 3) + 1\n",
    "    if league in y_ranges:\n",
    "        fig_plotly.update_yaxes(range=y_ranges[league], row=row, col=col)\n",
    "\n",
    "fig_plotly.show()\n",
    "\n",
    "# Export the plot\n",
    "export_plot(fig_plotly, \"rolling_lambda_time_series\", \"Rolling 10-Year Lambda Estimates\")"
   ]
  },
  {
   "cell_type": "markdown",
   "metadata": {},
   "source": [
    "**Source:** Various (listed in Appendix) as at January 2025. \n",
    "\n",
    "**Key:** Australian Football League (AFL), English Premier League (EPL), Major League Baseball (MLB), National Basketball Association (NBA), National Football League (NFL), National Hockey League (NHL)\n",
    "\n",
    "**Note:** Shaded regions represent ±2 standard errors around the coefficient estimate.\n",
    "\n",
    "The rolling 10-year lambda estimates shown in Figure 4 reveal the temporal evolution of the Pythagorean exponent across different sports leagues. Each panel shows how λ has changed over time, providing insights into the historical development of competitive balance and scoring dynamics within each league. The confidence bands help assess the statistical precision of these estimates over different time periods."
   ]
  }
 ],
 "metadata": {
  "kernelspec": {
   "display_name": "myenv",
   "language": "python",
   "name": "python3"
  },
  "language_info": {
   "codemirror_mode": {
    "name": "ipython",
    "version": 3
   },
   "file_extension": ".py",
   "mimetype": "text/x-python",
   "name": "python",
   "nbconvert_exporter": "python",
   "pygments_lexer": "ipython3",
   "version": "3.12.3"
  }
 },
 "nbformat": 4,
 "nbformat_minor": 4
}
