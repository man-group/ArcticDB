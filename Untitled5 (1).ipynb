{
 "cells": [
  {
   "cell_type": "code",
   "execution_count": 58,
   "id": "4442ebcf-dded-4bd7-8566-db77aaec8aa4",
   "metadata": {},
   "outputs": [],
   "source": []
  },
  {
   "cell_type": "code",
   "execution_count": 59,
   "id": "98210ebd-9799-46d6-83d6-02a7fc6eb1ef",
   "metadata": {},
   "outputs": [],
   "source": []
  },
  {
   "cell_type": "code",
   "execution_count": 65,
   "id": "b0d08e10-2c9b-466d-8832-2c1f0f2cbcae",
   "metadata": {},
   "outputs": [],
   "source": [
    "import time\n",
    "import pandas as pd\n",
    "import os"
   ]
  },
  {
   "cell_type": "code",
   "execution_count": 66,
   "id": "81ab5607-db71-41ba-891a-5db8703d246b",
   "metadata": {},
   "outputs": [],
   "source": [
    "import arcticdb_ext.cpp_async as adb_async"
   ]
  },
  {
   "cell_type": "code",
   "execution_count": null,
   "id": "d5e1d304-0203-42c5-9f26-59f231c2ff48",
   "metadata": {},
   "outputs": [],
   "source": []
  },
  {
   "cell_type": "code",
   "execution_count": 67,
   "id": "e0013bbf-128f-4116-882e-3b52adc0ccfd",
   "metadata": {},
   "outputs": [],
   "source": [
    "from concurrent.futures import ThreadPoolExecutor\n",
    "os.environ[\"ARCTICDB_VersionStore_NumCPUThreads_int\"]=\"1\"\n",
    "os.environ[\"ARCTICDB_VersionStore_NumIOThreads_int\"]=\"1\"\n",
    "import arcticdb\n",
    "library = arcticdb.Arctic(\"mem://\").create_library(\"lib\")\n",
    "number_test = 20\n",
    "for i in range(number_test):\n",
    "    library.write(f\"sym{i}\", pd.DataFrame({1: range(10_000_000)}))\n",
    "symbols = library.list_symbols()\n",
    "\n",
    "def task_working_in_parallel(n):\n",
    "    time.sleep(1)\n",
    "    return None\n",
    "\n",
    "\n",
    "def task_arctic(n):\n",
    "    library.read(symbol=symbols[n])\n",
    "    return None\n",
    "\n",
    "\n",
    "def run_sequential(task):\n",
    "    start = time.perf_counter()\n",
    "    results = []\n",
    "    for i in range(number_test):\n",
    "        results.append(task(i))\n",
    "    end = time.perf_counter()\n",
    "    print(f\"\\nSequential total time {end - start:.2f}\")\n",
    "    return results\n",
    "\n",
    "def run_batch():\n",
    "    start = time.perf_counter()\n",
    "    library.read_batch(symbols)\n",
    "    end = time.perf_counter()\n",
    "    print(f\"\\nSequential total time {end - start:.2f}\")\n",
    "    return None\n",
    "\n",
    "def run_threadpool(task):\n",
    "    start = time.perf_counter()\n",
    "    with ThreadPoolExecutor(max_workers=number_test) as executor:\n",
    "        results = list(executor.map(task, range(number_test)))\n",
    "    end = time.perf_counter()\n",
    "    print(f\"\\nThreadPool total time {end - start:.2f}\")\n",
    "    return results"
   ]
  },
  {
   "cell_type": "code",
   "execution_count": 68,
   "id": "76edfa09-a36b-493c-8936-2ff52fb7968c",
   "metadata": {},
   "outputs": [
    {
     "name": "stderr",
     "output_type": "stream",
     "text": [
      "20251030 14:13:39.285256 1063 I arcticdb | CPU: Threads: 4\tIdle: 4\tActive: 0\tPending: 0\tTotal: 0\tMaxIdleTime: 1007569553\n",
      "20251030 14:13:39.285277 1063 I arcticdb | IO: Threads: 6\tIdle: 6\tActive: 0\tPending: 0\tTotal: 0\tMaxIdleTime: 1004936601\n"
     ]
    }
   ],
   "source": [
    "adb_async.print_scheduler_stats()"
   ]
  },
  {
   "cell_type": "code",
   "execution_count": 69,
   "id": "7b099bc5-b058-4c8d-bcc1-813e2bb91e40",
   "metadata": {},
   "outputs": [
    {
     "name": "stdout",
     "output_type": "stream",
     "text": [
      "=== Test ArcticDB Read ===\n",
      "=== Test Sequential ===\n",
      "\n",
      "Sequential total time 0.64\n",
      "\n",
      "=== Test ThreadPoolExecutor ===\n",
      "\n",
      "ThreadPool total time 0.63\n",
      "\n",
      "=== Batch read ===\n",
      "\n",
      "Sequential total time 0.75\n"
     ]
    }
   ],
   "source": [
    "print(\"=== Test ArcticDB Read ===\")\n",
    "print(\"=== Test Sequential ===\")\n",
    "run_sequential(task_arctic)\n",
    "\n",
    "print(\"\\n=== Test ThreadPoolExecutor ===\")\n",
    "run_threadpool(task_arctic)\n",
    "\n",
    "print(\"\\n=== Batch read ===\")\n",
    "run_batch()\n",
    "\n"
   ]
  },
  {
   "cell_type": "code",
   "execution_count": null,
   "id": "1649c6d5-dbdf-422f-be0b-8314f80d5365",
   "metadata": {},
   "outputs": [],
   "source": []
  }
 ],
 "metadata": {
  "kernelspec": {
   "display_name": "1) AHL Lab 311-1 | Recommended",
   "language": "python",
   "name": "manlab_311_1"
  },
  "language_info": {
   "codemirror_mode": {
    "name": "ipython",
    "version": 3
   },
   "file_extension": ".py",
   "mimetype": "text/x-python",
   "name": "python",
   "nbconvert_exporter": "python",
   "pygments_lexer": "ipython3",
   "version": "3.11.11"
  }
 },
 "nbformat": 4,
 "nbformat_minor": 5
}
