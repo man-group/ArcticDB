{
 "cells": [
  {
   "cell_type": "markdown",
   "id": "d6c62b62-3509-4c2b-9d6f-bc3dc0187c72",
   "metadata": {},
   "source": [
    "# ArcticDB Experimental Arrow Writing Dense Numeric Data Demo"
   ]
  },
  {
   "cell_type": "markdown",
   "id": "6a677f71-55d8-446d-a372-8b5bb0bc7e02",
   "metadata": {},
   "source": [
    "### This notebook demonstrates the first cut of writing pyarrow tables directly into ArcticDB. This is still an experimental feature, with both the API and behaviours subject to change in minor or patch releases, and under no circumstances should be deployed to production environments. There are still a lot of rough edges, many of which are highlighted below, that will be addressed in future releases. In particular, string columns are not supported yet.\n",
    "\n",
    "### Performance-wise, numeric data will generally be identical to writing as Pandas when creating pyarrow tables via \"standard\" methods such as `pa.table`, `from_arrays`, and `from_pandas`, as everything is zero-copy in both cases. The main exception is bool columns, which are zero copy in Pandas, but have a different in-memory layout in Arrow that requires a transformation. This transformation is also not yet parallelised, so can be the bottleneck for bool heavy data. Arrow tables comprising multiple record batches can also induce a memcpy as we require contiguous buffers to pass to the encoder."
   ]
  },
  {
   "cell_type": "markdown",
   "id": "ec71d190-49c7-4d24-bea9-c27b72f5a2b6",
   "metadata": {},
   "source": [
    "## Preamble"
   ]
  },
  {
   "cell_type": "code",
   "execution_count": 1,
   "id": "9b93432d-a9f5-4e32-8b39-be7cdcb382eb",
   "metadata": {},
   "outputs": [],
   "source": [
    "import numpy as np\n",
    "import pandas as pd\n",
    "import polars as pl\n",
    "import pyarrow as pa\n",
    "from arcticdb import Arctic, OutputFormat, QueryBuilder, WritePayload"
   ]
  },
  {
   "cell_type": "code",
   "execution_count": 2,
   "id": "55619b80-29c6-4260-8edb-13fc75b7e49d",
   "metadata": {},
   "outputs": [],
   "source": [
    "arctic = Arctic(\"lmdb://arrow-writes-demo\")"
   ]
  },
  {
   "cell_type": "code",
   "execution_count": 3,
   "id": "6d9eefcb-1775-4e09-9044-7967de292022",
   "metadata": {},
   "outputs": [],
   "source": [
    "lib = arctic.get_library(\"test_lib\", output_format=OutputFormat.EXPERIMENTAL_ARROW, create_if_missing=True)"
   ]
  },
  {
   "cell_type": "code",
   "execution_count": 4,
   "id": "304f83f9-06d9-4618-94c1-ffa8eb1b8cbf",
   "metadata": {},
   "outputs": [],
   "source": [
    "lib._nvs.version_store.clear()"
   ]
  },
  {
   "cell_type": "code",
   "execution_count": 5,
   "id": "174660b5-0c46-4152-b5c3-5e49a6ec76d8",
   "metadata": {},
   "outputs": [],
   "source": [
    "sym = \"test\""
   ]
  },
  {
   "cell_type": "markdown",
   "id": "83fdd49c-2a27-4122-a809-aaccaeac309b",
   "metadata": {},
   "source": [
    "## Helper function for pretty-printing pyarrow tables as the default repr isn't very human friendly. Note that converting a pyarrow table to a polars dataframe is zero-copy!"
   ]
  },
  {
   "cell_type": "code",
   "execution_count": 6,
   "id": "ed3ab149-8e24-4fea-b481-1dfe9e8d7245",
   "metadata": {},
   "outputs": [],
   "source": [
    "def print_table(table):\n",
    "    print(pl.from_arrow(table))"
   ]
  },
  {
   "cell_type": "markdown",
   "id": "d1014ac3-85ab-4aa4-b955-d2fb962a1a43",
   "metadata": {},
   "source": [
    "## Libraries must be explicitly configured to allow Arrow table writes"
   ]
  },
  {
   "cell_type": "code",
   "execution_count": 7,
   "id": "a6a852c2-220b-4069-b71d-b5f2b8494028",
   "metadata": {},
   "outputs": [
    {
     "name": "stdout",
     "output_type": "stream",
     "text": [
      "data is of a type that cannot be normalized. Consider using write_pickle instead. type(data)=[<class 'pyarrow.lib.Table'>]\n"
     ]
    }
   ],
   "source": [
    "try:\n",
    "    lib.write(sym, pa.table({\"col\": pa.array([0, 1])}))\n",
    "except Exception as e:\n",
    "    print(e)"
   ]
  },
  {
   "cell_type": "code",
   "execution_count": 8,
   "id": "b0d2e03b-293e-4ea6-be42-fa2c8f04dad3",
   "metadata": {},
   "outputs": [],
   "source": [
    "lib._nvs._set_allow_arrow_input()"
   ]
  },
  {
   "cell_type": "markdown",
   "id": "9ad28717-560b-4eee-90d0-41ca7f9ece86",
   "metadata": {},
   "source": [
    "Hidden method as this will be removed once writing Arrow tables is fully supported\n",
    "\n",
    "## Write some numeric data (including bools and timestamps) of all supported types\n",
    "\n",
    "numpy and pandas are not required, they just have convenient methods for generating the data"
   ]
  },
  {
   "cell_type": "code",
   "execution_count": 9,
   "id": "0bd17977-0c01-4ff3-ac04-a5c924f785a3",
   "metadata": {},
   "outputs": [
    {
     "name": "stdout",
     "output_type": "stream",
     "text": [
      "shape: (50, 12)\n",
      "┌─────────────────────┬───────┬───────┬────────┬───┬───────┬───────┬─────────┬─────────┐\n",
      "│ timestamp           ┆ bool  ┆ uint8 ┆ uint16 ┆ … ┆ int32 ┆ int64 ┆ float32 ┆ float64 │\n",
      "│ ---                 ┆ ---   ┆ ---   ┆ ---    ┆   ┆ ---   ┆ ---   ┆ ---     ┆ ---     │\n",
      "│ datetime[ns]        ┆ bool  ┆ u8    ┆ u16    ┆   ┆ i32   ┆ i64   ┆ f32     ┆ f64     │\n",
      "╞═════════════════════╪═══════╪═══════╪════════╪═══╪═══════╪═══════╪═════════╪═════════╡\n",
      "│ 2025-01-01 00:00:00 ┆ true  ┆ 0     ┆ 0      ┆ … ┆ 0     ┆ 0     ┆ 0.0     ┆ 0.0     │\n",
      "│ 2025-01-02 00:00:00 ┆ false ┆ 1     ┆ 1      ┆ … ┆ 1     ┆ 1     ┆ 1.0     ┆ 1.0     │\n",
      "│ 2025-01-03 00:00:00 ┆ true  ┆ 2     ┆ 2      ┆ … ┆ 2     ┆ 2     ┆ 2.0     ┆ 2.0     │\n",
      "│ 2025-01-04 00:00:00 ┆ false ┆ 3     ┆ 3      ┆ … ┆ 3     ┆ 3     ┆ 3.0     ┆ 3.0     │\n",
      "│ 2025-01-05 00:00:00 ┆ true  ┆ 4     ┆ 4      ┆ … ┆ 4     ┆ 4     ┆ 4.0     ┆ 4.0     │\n",
      "│ …                   ┆ …     ┆ …     ┆ …      ┆ … ┆ …     ┆ …     ┆ …       ┆ …       │\n",
      "│ 2025-02-15 00:00:00 ┆ false ┆ 45    ┆ 45     ┆ … ┆ 45    ┆ 45    ┆ 45.0    ┆ 45.0    │\n",
      "│ 2025-02-16 00:00:00 ┆ true  ┆ 46    ┆ 46     ┆ … ┆ 46    ┆ 46    ┆ 46.0    ┆ 46.0    │\n",
      "│ 2025-02-17 00:00:00 ┆ false ┆ 47    ┆ 47     ┆ … ┆ 47    ┆ 47    ┆ 47.0    ┆ 47.0    │\n",
      "│ 2025-02-18 00:00:00 ┆ true  ┆ 48    ┆ 48     ┆ … ┆ 48    ┆ 48    ┆ 48.0    ┆ 48.0    │\n",
      "│ 2025-02-19 00:00:00 ┆ false ┆ 49    ┆ 49     ┆ … ┆ 49    ┆ 49    ┆ 49.0    ┆ 49.0    │\n",
      "└─────────────────────┴───────┴───────┴────────┴───┴───────┴───────┴─────────┴─────────┘\n"
     ]
    }
   ],
   "source": [
    "table_0 = pa.table(\n",
    "    {\n",
    "        \"timestamp\": pa.Array.from_pandas(pd.date_range(\"2025-01-01\", periods=50), type=pa.timestamp(\"ns\")),\n",
    "        \"bool\": pa.array([True, False] * 25, pa.bool_()),\n",
    "        \"uint8\": pa.array(np.arange(50), pa.uint8()),\n",
    "        \"uint16\": pa.array(np.arange(50), pa.uint16()),\n",
    "        \"uint32\": pa.array(np.arange(50), pa.uint32()),\n",
    "        \"uint64\": pa.array(np.arange(50), pa.uint64()),\n",
    "        \"int8\": pa.array(np.arange(50), pa.int8()),\n",
    "        \"int16\": pa.array(np.arange(50), pa.int16()),\n",
    "        \"int32\": pa.array(np.arange(50), pa.int32()),\n",
    "        \"int64\": pa.array(np.arange(50), pa.int64()),\n",
    "        \"float32\": pa.array(np.arange(50), pa.float32()),\n",
    "        \"float64\": pa.array(np.arange(50), pa.float64()),        \n",
    "    }\n",
    ")\n",
    "print_table(table_0)"
   ]
  },
  {
   "cell_type": "code",
   "execution_count": 10,
   "id": "6ff9b977-d285-4e91-bc11-d40421cdd9ef",
   "metadata": {},
   "outputs": [
    {
     "data": {
      "text/plain": [
       "VersionedItem(symbol='test', library='test_lib', data=n/a, version=0, metadata=None, host='LMDB(path=/data/team/data/arctic_native/examples/arrow-writes-demo)', timestamp=1760691320986733451)"
      ]
     },
     "execution_count": 10,
     "metadata": {},
     "output_type": "execute_result"
    }
   ],
   "source": [
    "lib.write(sym, table_0)"
   ]
  },
  {
   "cell_type": "code",
   "execution_count": 11,
   "id": "64ac9451-ca9f-45d0-b40c-2d64fda01fcd",
   "metadata": {},
   "outputs": [
    {
     "name": "stdout",
     "output_type": "stream",
     "text": [
      "shape: (50, 12)\n",
      "┌─────────────────────┬───────┬───────┬────────┬───┬───────┬───────┬─────────┬─────────┐\n",
      "│ timestamp           ┆ bool  ┆ uint8 ┆ uint16 ┆ … ┆ int32 ┆ int64 ┆ float32 ┆ float64 │\n",
      "│ ---                 ┆ ---   ┆ ---   ┆ ---    ┆   ┆ ---   ┆ ---   ┆ ---     ┆ ---     │\n",
      "│ datetime[ns]        ┆ bool  ┆ u8    ┆ u16    ┆   ┆ i32   ┆ i64   ┆ f32     ┆ f64     │\n",
      "╞═════════════════════╪═══════╪═══════╪════════╪═══╪═══════╪═══════╪═════════╪═════════╡\n",
      "│ 2025-01-01 00:00:00 ┆ true  ┆ 0     ┆ 0      ┆ … ┆ 0     ┆ 0     ┆ 0.0     ┆ 0.0     │\n",
      "│ 2025-01-02 00:00:00 ┆ false ┆ 1     ┆ 1      ┆ … ┆ 1     ┆ 1     ┆ 1.0     ┆ 1.0     │\n",
      "│ 2025-01-03 00:00:00 ┆ true  ┆ 2     ┆ 2      ┆ … ┆ 2     ┆ 2     ┆ 2.0     ┆ 2.0     │\n",
      "│ 2025-01-04 00:00:00 ┆ false ┆ 3     ┆ 3      ┆ … ┆ 3     ┆ 3     ┆ 3.0     ┆ 3.0     │\n",
      "│ 2025-01-05 00:00:00 ┆ true  ┆ 4     ┆ 4      ┆ … ┆ 4     ┆ 4     ┆ 4.0     ┆ 4.0     │\n",
      "│ …                   ┆ …     ┆ …     ┆ …      ┆ … ┆ …     ┆ …     ┆ …       ┆ …       │\n",
      "│ 2025-02-15 00:00:00 ┆ false ┆ 45    ┆ 45     ┆ … ┆ 45    ┆ 45    ┆ 45.0    ┆ 45.0    │\n",
      "│ 2025-02-16 00:00:00 ┆ true  ┆ 46    ┆ 46     ┆ … ┆ 46    ┆ 46    ┆ 46.0    ┆ 46.0    │\n",
      "│ 2025-02-17 00:00:00 ┆ false ┆ 47    ┆ 47     ┆ … ┆ 47    ┆ 47    ┆ 47.0    ┆ 47.0    │\n",
      "│ 2025-02-18 00:00:00 ┆ true  ┆ 48    ┆ 48     ┆ … ┆ 48    ┆ 48    ┆ 48.0    ┆ 48.0    │\n",
      "│ 2025-02-19 00:00:00 ┆ false ┆ 49    ┆ 49     ┆ … ┆ 49    ┆ 49    ┆ 49.0    ┆ 49.0    │\n",
      "└─────────────────────┴───────┴───────┴────────┴───┴───────┴───────┴─────────┴─────────┘\n"
     ]
    }
   ],
   "source": [
    "print_table(lib.read(sym).data)"
   ]
  },
  {
   "cell_type": "markdown",
   "id": "98b9a556-e032-4d83-904f-44d908125116",
   "metadata": {},
   "source": [
    "## Append some data to this"
   ]
  },
  {
   "cell_type": "code",
   "execution_count": 12,
   "id": "4ea662fa-e0a9-4147-a70a-26f44ff81d75",
   "metadata": {},
   "outputs": [
    {
     "name": "stdout",
     "output_type": "stream",
     "text": [
      "shape: (100, 12)\n",
      "┌─────────────────────┬───────┬───────┬────────┬───┬───────┬───────┬─────────┬─────────┐\n",
      "│ timestamp           ┆ bool  ┆ uint8 ┆ uint16 ┆ … ┆ int32 ┆ int64 ┆ float32 ┆ float64 │\n",
      "│ ---                 ┆ ---   ┆ ---   ┆ ---    ┆   ┆ ---   ┆ ---   ┆ ---     ┆ ---     │\n",
      "│ datetime[ns]        ┆ bool  ┆ u8    ┆ u16    ┆   ┆ i32   ┆ i64   ┆ f32     ┆ f64     │\n",
      "╞═════════════════════╪═══════╪═══════╪════════╪═══╪═══════╪═══════╪═════════╪═════════╡\n",
      "│ 2025-01-01 00:00:00 ┆ true  ┆ 0     ┆ 0      ┆ … ┆ 0     ┆ 0     ┆ 0.0     ┆ 0.0     │\n",
      "│ 2025-01-02 00:00:00 ┆ false ┆ 1     ┆ 1      ┆ … ┆ 1     ┆ 1     ┆ 1.0     ┆ 1.0     │\n",
      "│ 2025-01-03 00:00:00 ┆ true  ┆ 2     ┆ 2      ┆ … ┆ 2     ┆ 2     ┆ 2.0     ┆ 2.0     │\n",
      "│ 2025-01-04 00:00:00 ┆ false ┆ 3     ┆ 3      ┆ … ┆ 3     ┆ 3     ┆ 3.0     ┆ 3.0     │\n",
      "│ 2025-01-05 00:00:00 ┆ true  ┆ 4     ┆ 4      ┆ … ┆ 4     ┆ 4     ┆ 4.0     ┆ 4.0     │\n",
      "│ …                   ┆ …     ┆ …     ┆ …      ┆ … ┆ …     ┆ …     ┆ …       ┆ …       │\n",
      "│ 2025-04-06 00:00:00 ┆ false ┆ 95    ┆ 95     ┆ … ┆ 95    ┆ 95    ┆ 95.0    ┆ 95.0    │\n",
      "│ 2025-04-07 00:00:00 ┆ true  ┆ 96    ┆ 96     ┆ … ┆ 96    ┆ 96    ┆ 96.0    ┆ 96.0    │\n",
      "│ 2025-04-08 00:00:00 ┆ false ┆ 97    ┆ 97     ┆ … ┆ 97    ┆ 97    ┆ 97.0    ┆ 97.0    │\n",
      "│ 2025-04-09 00:00:00 ┆ true  ┆ 98    ┆ 98     ┆ … ┆ 98    ┆ 98    ┆ 98.0    ┆ 98.0    │\n",
      "│ 2025-04-10 00:00:00 ┆ false ┆ 99    ┆ 99     ┆ … ┆ 99    ┆ 99    ┆ 99.0    ┆ 99.0    │\n",
      "└─────────────────────┴───────┴───────┴────────┴───┴───────┴───────┴─────────┴─────────┘\n"
     ]
    }
   ],
   "source": [
    "table_1 = pa.table(\n",
    "    {\n",
    "        \"timestamp\": pa.Array.from_pandas(pd.date_range(\"2025-02-20\", periods=50), type=pa.timestamp(\"ns\")),\n",
    "        \"bool\": pa.array([True, False] * 25, pa.bool_()),\n",
    "        \"uint8\": pa.array(np.arange(50, 100), pa.uint8()),\n",
    "        \"uint16\": pa.array(np.arange(50, 100), pa.uint16()),\n",
    "        \"uint32\": pa.array(np.arange(50, 100), pa.uint32()),\n",
    "        \"uint64\": pa.array(np.arange(50, 100), pa.uint64()),\n",
    "        \"int8\": pa.array(np.arange(50, 100), pa.int8()),\n",
    "        \"int16\": pa.array(np.arange(50, 100), pa.int16()),\n",
    "        \"int32\": pa.array(np.arange(50, 100), pa.int32()),\n",
    "        \"int64\": pa.array(np.arange(50, 100), pa.int64()),\n",
    "        \"float32\": pa.array(np.arange(50, 100), pa.float32()),\n",
    "        \"float64\": pa.array(np.arange(50, 100), pa.float64()),\n",
    "    }\n",
    ")\n",
    "lib.append(sym, table_1)\n",
    "print_table(lib.read(sym).data)"
   ]
  },
  {
   "cell_type": "markdown",
   "id": "e18947b4-37ba-49e1-9944-16fa43a0527f",
   "metadata": {},
   "source": [
    "## Arrow has no concept of indexes, so if a timestamp column should be treated as an index this must be specified via the new `index_column` argument. This is required if `update` will be used, or if read calls will use the `date_range` argument!\n",
    "\n",
    "### This is an area we are definitely looking for feedback on, this API is very much not set in stone\n",
    "\n",
    "### Also note that as Arrow has no index concept, it also has no concept of multiindexes"
   ]
  },
  {
   "cell_type": "code",
   "execution_count": 13,
   "id": "ef416797-5d10-4b8c-9f16-cdfc73fd74cb",
   "metadata": {},
   "outputs": [
    {
     "name": "stdout",
     "output_type": "stream",
     "text": [
      "E_ASSERTION_FAILURE Cannot apply date range filter to symbol with non-timestamp index\n"
     ]
    },
    {
     "name": "stderr",
     "output_type": "stream",
     "text": [
      "20251017 09:55:21.069139 5692 E arcticdb | E_ASSERTION_FAILURE Cannot apply date range filter to symbol with non-timestamp index\n"
     ]
    }
   ],
   "source": [
    "try:\n",
    "    lib.read(sym, date_range=(pd.Timestamp(\"2025-02-01\"), pd.Timestamp(\"2025-03-01\")))\n",
    "except Exception as e:\n",
    "    print(e)"
   ]
  },
  {
   "cell_type": "code",
   "execution_count": 14,
   "id": "184ace73-4066-458f-a7c6-da1bae90919e",
   "metadata": {},
   "outputs": [
    {
     "name": "stdout",
     "output_type": "stream",
     "text": [
      "shape: (29, 12)\n",
      "┌─────────────────────┬───────┬───────┬────────┬───┬───────┬───────┬─────────┬─────────┐\n",
      "│ timestamp           ┆ bool  ┆ uint8 ┆ uint16 ┆ … ┆ int32 ┆ int64 ┆ float32 ┆ float64 │\n",
      "│ ---                 ┆ ---   ┆ ---   ┆ ---    ┆   ┆ ---   ┆ ---   ┆ ---     ┆ ---     │\n",
      "│ datetime[ns]        ┆ bool  ┆ u8    ┆ u16    ┆   ┆ i32   ┆ i64   ┆ f32     ┆ f64     │\n",
      "╞═════════════════════╪═══════╪═══════╪════════╪═══╪═══════╪═══════╪═════════╪═════════╡\n",
      "│ 2025-02-01 00:00:00 ┆ false ┆ 31    ┆ 31     ┆ … ┆ 31    ┆ 31    ┆ 31.0    ┆ 31.0    │\n",
      "│ 2025-02-02 00:00:00 ┆ true  ┆ 32    ┆ 32     ┆ … ┆ 32    ┆ 32    ┆ 32.0    ┆ 32.0    │\n",
      "│ 2025-02-03 00:00:00 ┆ false ┆ 33    ┆ 33     ┆ … ┆ 33    ┆ 33    ┆ 33.0    ┆ 33.0    │\n",
      "│ 2025-02-04 00:00:00 ┆ true  ┆ 34    ┆ 34     ┆ … ┆ 34    ┆ 34    ┆ 34.0    ┆ 34.0    │\n",
      "│ 2025-02-05 00:00:00 ┆ false ┆ 35    ┆ 35     ┆ … ┆ 35    ┆ 35    ┆ 35.0    ┆ 35.0    │\n",
      "│ …                   ┆ …     ┆ …     ┆ …      ┆ … ┆ …     ┆ …     ┆ …       ┆ …       │\n",
      "│ 2025-02-25 00:00:00 ┆ false ┆ 55    ┆ 55     ┆ … ┆ 55    ┆ 55    ┆ 55.0    ┆ 55.0    │\n",
      "│ 2025-02-26 00:00:00 ┆ true  ┆ 56    ┆ 56     ┆ … ┆ 56    ┆ 56    ┆ 56.0    ┆ 56.0    │\n",
      "│ 2025-02-27 00:00:00 ┆ false ┆ 57    ┆ 57     ┆ … ┆ 57    ┆ 57    ┆ 57.0    ┆ 57.0    │\n",
      "│ 2025-02-28 00:00:00 ┆ true  ┆ 58    ┆ 58     ┆ … ┆ 58    ┆ 58    ┆ 58.0    ┆ 58.0    │\n",
      "│ 2025-03-01 00:00:00 ┆ false ┆ 59    ┆ 59     ┆ … ┆ 59    ┆ 59    ┆ 59.0    ┆ 59.0    │\n",
      "└─────────────────────┴───────┴───────┴────────┴───┴───────┴───────┴─────────┴─────────┘\n"
     ]
    }
   ],
   "source": [
    "lib.write(sym, table_0, index_column=\"timestamp\")\n",
    "lib.append(sym, table_1, index_column=\"timestamp\")\n",
    "print_table(lib.read(sym, date_range=(pd.Timestamp(\"2025-02-01\"), pd.Timestamp(\"2025-03-01\"))).data)"
   ]
  },
  {
   "cell_type": "markdown",
   "id": "930e3ad9-250b-43f9-8fbc-865d52468db2",
   "metadata": {},
   "source": [
    "## `update` works in the same way"
   ]
  },
  {
   "cell_type": "code",
   "execution_count": 15,
   "id": "41f16ca2-8c5a-4f12-b027-d745c8d6900f",
   "metadata": {},
   "outputs": [
    {
     "name": "stdout",
     "output_type": "stream",
     "text": [
      "shape: (2, 12)\n",
      "┌─────────────────────┬──────┬───────┬────────┬───┬───────┬───────┬─────────┬─────────┐\n",
      "│ timestamp           ┆ bool ┆ uint8 ┆ uint16 ┆ … ┆ int32 ┆ int64 ┆ float32 ┆ float64 │\n",
      "│ ---                 ┆ ---  ┆ ---   ┆ ---    ┆   ┆ ---   ┆ ---   ┆ ---     ┆ ---     │\n",
      "│ datetime[ns]        ┆ bool ┆ u8    ┆ u16    ┆   ┆ i32   ┆ i64   ┆ f32     ┆ f64     │\n",
      "╞═════════════════════╪══════╪═══════╪════════╪═══╪═══════╪═══════╪═════════╪═════════╡\n",
      "│ 2025-04-08 00:00:00 ┆ true ┆ 0     ┆ 0      ┆ … ┆ 0     ┆ 0     ┆ 0.0     ┆ 0.0     │\n",
      "│ 2025-04-09 00:00:00 ┆ true ┆ 0     ┆ 0      ┆ … ┆ 0     ┆ 0     ┆ 0.0     ┆ 0.0     │\n",
      "└─────────────────────┴──────┴───────┴────────┴───┴───────┴───────┴─────────┴─────────┘\n"
     ]
    }
   ],
   "source": [
    "table_2 = pa.table(\n",
    "    {\n",
    "        \"timestamp\": pa.Array.from_pandas(pd.date_range(\"2025-04-08\", periods=2), type=pa.timestamp(\"ns\")),\n",
    "        \"bool\": pa.array([True] * 2, pa.bool_()),\n",
    "        \"uint8\": pa.array([0] * 2, pa.uint8()),\n",
    "        \"uint16\": pa.array([0] * 2, pa.uint16()),\n",
    "        \"uint32\": pa.array([0] * 2, pa.uint32()),\n",
    "        \"uint64\": pa.array([0] * 2, pa.uint64()),\n",
    "        \"int8\": pa.array([0] * 2, pa.int8()),\n",
    "        \"int16\": pa.array([0] * 2, pa.int16()),\n",
    "        \"int32\": pa.array([0] * 2, pa.int32()),\n",
    "        \"int64\": pa.array([0] * 2, pa.int64()),\n",
    "        \"float32\": pa.array([0] * 2, pa.float32()),\n",
    "        \"float64\": pa.array([0] * 2, pa.float64()),\n",
    "    }\n",
    ")\n",
    "print_table(table_2)"
   ]
  },
  {
   "cell_type": "code",
   "execution_count": 16,
   "id": "f333a719-57be-42e6-80ea-1a2b3776f931",
   "metadata": {},
   "outputs": [
    {
     "name": "stdout",
     "output_type": "stream",
     "text": [
      "shape: (100, 12)\n",
      "┌─────────────────────┬───────┬───────┬────────┬───┬───────┬───────┬─────────┬─────────┐\n",
      "│ timestamp           ┆ bool  ┆ uint8 ┆ uint16 ┆ … ┆ int32 ┆ int64 ┆ float32 ┆ float64 │\n",
      "│ ---                 ┆ ---   ┆ ---   ┆ ---    ┆   ┆ ---   ┆ ---   ┆ ---     ┆ ---     │\n",
      "│ datetime[ns]        ┆ bool  ┆ u8    ┆ u16    ┆   ┆ i32   ┆ i64   ┆ f32     ┆ f64     │\n",
      "╞═════════════════════╪═══════╪═══════╪════════╪═══╪═══════╪═══════╪═════════╪═════════╡\n",
      "│ 2025-01-01 00:00:00 ┆ true  ┆ 0     ┆ 0      ┆ … ┆ 0     ┆ 0     ┆ 0.0     ┆ 0.0     │\n",
      "│ 2025-01-02 00:00:00 ┆ false ┆ 1     ┆ 1      ┆ … ┆ 1     ┆ 1     ┆ 1.0     ┆ 1.0     │\n",
      "│ 2025-01-03 00:00:00 ┆ true  ┆ 2     ┆ 2      ┆ … ┆ 2     ┆ 2     ┆ 2.0     ┆ 2.0     │\n",
      "│ 2025-01-04 00:00:00 ┆ false ┆ 3     ┆ 3      ┆ … ┆ 3     ┆ 3     ┆ 3.0     ┆ 3.0     │\n",
      "│ 2025-01-05 00:00:00 ┆ true  ┆ 4     ┆ 4      ┆ … ┆ 4     ┆ 4     ┆ 4.0     ┆ 4.0     │\n",
      "│ …                   ┆ …     ┆ …     ┆ …      ┆ … ┆ …     ┆ …     ┆ …       ┆ …       │\n",
      "│ 2025-04-06 00:00:00 ┆ false ┆ 95    ┆ 95     ┆ … ┆ 95    ┆ 95    ┆ 95.0    ┆ 95.0    │\n",
      "│ 2025-04-07 00:00:00 ┆ true  ┆ 96    ┆ 96     ┆ … ┆ 96    ┆ 96    ┆ 96.0    ┆ 96.0    │\n",
      "│ 2025-04-08 00:00:00 ┆ true  ┆ 0     ┆ 0      ┆ … ┆ 0     ┆ 0     ┆ 0.0     ┆ 0.0     │\n",
      "│ 2025-04-09 00:00:00 ┆ true  ┆ 0     ┆ 0      ┆ … ┆ 0     ┆ 0     ┆ 0.0     ┆ 0.0     │\n",
      "│ 2025-04-10 00:00:00 ┆ false ┆ 99    ┆ 99     ┆ … ┆ 99    ┆ 99    ┆ 99.0    ┆ 99.0    │\n",
      "└─────────────────────┴───────┴───────┴────────┴───┴───────┴───────┴─────────┴─────────┘\n"
     ]
    }
   ],
   "source": [
    "lib.update(sym, table_2, index_column=\"timestamp\")\n",
    "print_table(lib.read(sym).data)"
   ]
  },
  {
   "cell_type": "markdown",
   "id": "c1f3a47f-a23f-4f63-8d37-a2dd8d40c2da",
   "metadata": {},
   "source": [
    "## In this first release, the `index_column` must be specified in the `append` and `update` calls even if the existing data has an index column. There will be an option in a future release to infer the index column from the existing data in these cases."
   ]
  },
  {
   "cell_type": "markdown",
   "id": "0c4e24f2-9008-4c20-8b5d-1813e742f29f",
   "metadata": {},
   "source": [
    "## An exception will be thrown if a non-timestamp column is specified as the index"
   ]
  },
  {
   "cell_type": "code",
   "execution_count": 17,
   "id": "3be12673-5323-4fc0-843d-39e52e7ea6b9",
   "metadata": {},
   "outputs": [
    {
     "name": "stdout",
     "output_type": "stream",
     "text": [
      "E_INVALID_USER_ARGUMENT Specified Arrow index column has non-time type INT64\n"
     ]
    }
   ],
   "source": [
    "try:\n",
    "    lib.write(sym, table_0, index_column=\"int64\")\n",
    "except Exception as e:\n",
    "    print(e)"
   ]
  },
  {
   "cell_type": "markdown",
   "id": "13ac09af-f67c-4f60-b132-4aa4c6593d94",
   "metadata": {},
   "source": [
    "## or if the specified column does not exist"
   ]
  },
  {
   "cell_type": "code",
   "execution_count": 18,
   "id": "d5a5709f-e2f2-43fa-9325-bca7e278d4d5",
   "metadata": {},
   "outputs": [
    {
     "name": "stdout",
     "output_type": "stream",
     "text": [
      "E_COLUMN_DOESNT_EXIST Specified index column named 'blah' not present in data\n"
     ]
    }
   ],
   "source": [
    "try:\n",
    "    lib.write(sym, table_0, index_column=\"blah\")\n",
    "except Exception as e:\n",
    "    print(e)"
   ]
  },
  {
   "cell_type": "markdown",
   "id": "e65a3cee-6d47-4d98-8559-8001fd57f867",
   "metadata": {},
   "source": [
    "## or if the specified index column does not match the existing data"
   ]
  },
  {
   "cell_type": "code",
   "execution_count": 19,
   "id": "19ccb676-896d-434a-8ca3-02578f32f383",
   "metadata": {},
   "outputs": [
    {
     "name": "stdout",
     "output_type": "stream",
     "text": [
      "The index names in the argument are not identical to that of the existing version: UPDATE\n",
      "stream_id=\"test\"\n",
      "(Showing only the mismatch. Full col list saved in the `last_mismatch_msg` attribute of the lib instance.\n",
      "'-' marks columns missing from the argument, '+' for unexpected.)\n",
      "-\"FD<name=timestamp_0, type=TD<type=NANOSECONDS_UTC64, dim=0>, idx=0>\n",
      "-FD<name=timestamp_1, type=TD<type=NANOSECONDS_UTC64, dim=0>, idx=1>\"\n",
      "+\"FD<name=timestamp_1, type=TD<type=NANOSECONDS_UTC64, dim=0>, idx=0>\n",
      "+FD<name=timestamp_0, type=TD<type=NANOSECONDS_UTC64, dim=0>, idx=1>\"\n"
     ]
    }
   ],
   "source": [
    "table = pa.table(\n",
    "    {\n",
    "        \"timestamp_0\": pa.Array.from_pandas(pd.date_range(\"2025-01-01\", periods=2), type=pa.timestamp(\"ns\")),\n",
    "        \"timestamp_1\": pa.Array.from_pandas(pd.date_range(\"2025-01-03\", periods=2), type=pa.timestamp(\"ns\")),\n",
    "    }\n",
    ")\n",
    "lib.write(sym, table, index_column=\"timestamp_0\")\n",
    "try:\n",
    "    lib.update(sym, table, index_column=\"timestamp_1\")\n",
    "except Exception as e:\n",
    "    print(e)"
   ]
  },
  {
   "cell_type": "markdown",
   "id": "cb0c918b-4e9f-4373-b1cb-1bb7d51c5bfa",
   "metadata": {},
   "source": [
    "## The index column does not need to be the first column in the table"
   ]
  },
  {
   "cell_type": "code",
   "execution_count": 20,
   "id": "8edf9413-9547-427e-875a-3f943d85c3b4",
   "metadata": {},
   "outputs": [
    {
     "name": "stdout",
     "output_type": "stream",
     "text": [
      "shape: (50, 12)\n",
      "┌───────┬───────┬────────┬────────┬───┬───────┬─────────┬─────────────────────┬─────────┐\n",
      "│ bool  ┆ uint8 ┆ uint16 ┆ uint32 ┆ … ┆ int64 ┆ float32 ┆ timestamp           ┆ float64 │\n",
      "│ ---   ┆ ---   ┆ ---    ┆ ---    ┆   ┆ ---   ┆ ---     ┆ ---                 ┆ ---     │\n",
      "│ bool  ┆ u8    ┆ u16    ┆ u32    ┆   ┆ i64   ┆ f32     ┆ datetime[ns]        ┆ f64     │\n",
      "╞═══════╪═══════╪════════╪════════╪═══╪═══════╪═════════╪═════════════════════╪═════════╡\n",
      "│ true  ┆ 0     ┆ 0      ┆ 0      ┆ … ┆ 0     ┆ 0.0     ┆ 2025-01-01 00:00:00 ┆ 0.0     │\n",
      "│ false ┆ 1     ┆ 1      ┆ 1      ┆ … ┆ 1     ┆ 1.0     ┆ 2025-01-02 00:00:00 ┆ 1.0     │\n",
      "│ true  ┆ 2     ┆ 2      ┆ 2      ┆ … ┆ 2     ┆ 2.0     ┆ 2025-01-03 00:00:00 ┆ 2.0     │\n",
      "│ false ┆ 3     ┆ 3      ┆ 3      ┆ … ┆ 3     ┆ 3.0     ┆ 2025-01-04 00:00:00 ┆ 3.0     │\n",
      "│ true  ┆ 4     ┆ 4      ┆ 4      ┆ … ┆ 4     ┆ 4.0     ┆ 2025-01-05 00:00:00 ┆ 4.0     │\n",
      "│ …     ┆ …     ┆ …      ┆ …      ┆ … ┆ …     ┆ …       ┆ …                   ┆ …       │\n",
      "│ false ┆ 45    ┆ 45     ┆ 45     ┆ … ┆ 45    ┆ 45.0    ┆ 2025-02-15 00:00:00 ┆ 45.0    │\n",
      "│ true  ┆ 46    ┆ 46     ┆ 46     ┆ … ┆ 46    ┆ 46.0    ┆ 2025-02-16 00:00:00 ┆ 46.0    │\n",
      "│ false ┆ 47    ┆ 47     ┆ 47     ┆ … ┆ 47    ┆ 47.0    ┆ 2025-02-17 00:00:00 ┆ 47.0    │\n",
      "│ true  ┆ 48    ┆ 48     ┆ 48     ┆ … ┆ 48    ┆ 48.0    ┆ 2025-02-18 00:00:00 ┆ 48.0    │\n",
      "│ false ┆ 49    ┆ 49     ┆ 49     ┆ … ┆ 49    ┆ 49.0    ┆ 2025-02-19 00:00:00 ┆ 49.0    │\n",
      "└───────┴───────┴────────┴────────┴───┴───────┴─────────┴─────────────────────┴─────────┘\n"
     ]
    }
   ],
   "source": [
    "table = pa.table(\n",
    "    {\n",
    "        \"bool\": pa.array([True, False] * 25, pa.bool_()),\n",
    "        \"uint8\": pa.array(np.arange(50), pa.uint8()),\n",
    "        \"uint16\": pa.array(np.arange(50), pa.uint16()),\n",
    "        \"uint32\": pa.array(np.arange(50), pa.uint32()),\n",
    "        \"uint64\": pa.array(np.arange(50), pa.uint64()),\n",
    "        \"int8\": pa.array(np.arange(50), pa.int8()),\n",
    "        \"int16\": pa.array(np.arange(50), pa.int16()),\n",
    "        \"int32\": pa.array(np.arange(50), pa.int32()),\n",
    "        \"int64\": pa.array(np.arange(50), pa.int64()),\n",
    "        \"float32\": pa.array(np.arange(50), pa.float32()),\n",
    "        \"timestamp\": pa.Array.from_pandas(pd.date_range(\"2025-01-01\", periods=50), type=pa.timestamp(\"ns\")),\n",
    "        \"float64\": pa.array(np.arange(50), pa.float64()),        \n",
    "    }\n",
    ")\n",
    "print_table(table)"
   ]
  },
  {
   "cell_type": "code",
   "execution_count": 21,
   "id": "50eef59b-b6a5-40e5-837c-ce806ca763e5",
   "metadata": {},
   "outputs": [
    {
     "name": "stdout",
     "output_type": "stream",
     "text": [
      "shape: (6, 12)\n",
      "┌───────┬───────┬────────┬────────┬───┬───────┬─────────┬─────────────────────┬─────────┐\n",
      "│ bool  ┆ uint8 ┆ uint16 ┆ uint32 ┆ … ┆ int64 ┆ float32 ┆ timestamp           ┆ float64 │\n",
      "│ ---   ┆ ---   ┆ ---    ┆ ---    ┆   ┆ ---   ┆ ---     ┆ ---                 ┆ ---     │\n",
      "│ bool  ┆ u8    ┆ u16    ┆ u32    ┆   ┆ i64   ┆ f32     ┆ datetime[ns]        ┆ f64     │\n",
      "╞═══════╪═══════╪════════╪════════╪═══╪═══════╪═════════╪═════════════════════╪═════════╡\n",
      "│ false ┆ 9     ┆ 9      ┆ 9      ┆ … ┆ 9     ┆ 9.0     ┆ 2025-01-10 00:00:00 ┆ 9.0     │\n",
      "│ true  ┆ 10    ┆ 10     ┆ 10     ┆ … ┆ 10    ┆ 10.0    ┆ 2025-01-11 00:00:00 ┆ 10.0    │\n",
      "│ false ┆ 11    ┆ 11     ┆ 11     ┆ … ┆ 11    ┆ 11.0    ┆ 2025-01-12 00:00:00 ┆ 11.0    │\n",
      "│ true  ┆ 12    ┆ 12     ┆ 12     ┆ … ┆ 12    ┆ 12.0    ┆ 2025-01-13 00:00:00 ┆ 12.0    │\n",
      "│ false ┆ 13    ┆ 13     ┆ 13     ┆ … ┆ 13    ┆ 13.0    ┆ 2025-01-14 00:00:00 ┆ 13.0    │\n",
      "│ true  ┆ 14    ┆ 14     ┆ 14     ┆ … ┆ 14    ┆ 14.0    ┆ 2025-01-15 00:00:00 ┆ 14.0    │\n",
      "└───────┴───────┴────────┴────────┴───┴───────┴─────────┴─────────────────────┴─────────┘\n"
     ]
    }
   ],
   "source": [
    "lib.write(sym, table, index_column=\"timestamp\")\n",
    "print_table(lib.read(sym, date_range=(pd.Timestamp(\"2025-01-10\"), pd.Timestamp(\"2025-01-15\"))).data)"
   ]
  },
  {
   "cell_type": "markdown",
   "id": "1ba6ff37-c544-42a4-8df2-b38ea3dc9dfc",
   "metadata": {},
   "source": [
    "## But it may not appear in the same relative position if a subset of the columns are read (this will be fixed in a future release)\n",
    "### As with Pandas, the index column is always read, even if it is not specified in the `columns` argument"
   ]
  },
  {
   "cell_type": "code",
   "execution_count": 22,
   "id": "57766b17-66e2-4777-88b9-a7d42c383fdd",
   "metadata": {},
   "outputs": [
    {
     "name": "stdout",
     "output_type": "stream",
     "text": [
      "shape: (50, 4)\n",
      "┌─────────────────────┬───────┬──────┬─────────┐\n",
      "│ timestamp           ┆ uint8 ┆ int8 ┆ float64 │\n",
      "│ ---                 ┆ ---   ┆ ---  ┆ ---     │\n",
      "│ datetime[ns]        ┆ u8    ┆ i8   ┆ f64     │\n",
      "╞═════════════════════╪═══════╪══════╪═════════╡\n",
      "│ 2025-01-01 00:00:00 ┆ 0     ┆ 0    ┆ 0.0     │\n",
      "│ 2025-01-02 00:00:00 ┆ 1     ┆ 1    ┆ 1.0     │\n",
      "│ 2025-01-03 00:00:00 ┆ 2     ┆ 2    ┆ 2.0     │\n",
      "│ 2025-01-04 00:00:00 ┆ 3     ┆ 3    ┆ 3.0     │\n",
      "│ 2025-01-05 00:00:00 ┆ 4     ┆ 4    ┆ 4.0     │\n",
      "│ …                   ┆ …     ┆ …    ┆ …       │\n",
      "│ 2025-02-15 00:00:00 ┆ 45    ┆ 45   ┆ 45.0    │\n",
      "│ 2025-02-16 00:00:00 ┆ 46    ┆ 46   ┆ 46.0    │\n",
      "│ 2025-02-17 00:00:00 ┆ 47    ┆ 47   ┆ 47.0    │\n",
      "│ 2025-02-18 00:00:00 ┆ 48    ┆ 48   ┆ 48.0    │\n",
      "│ 2025-02-19 00:00:00 ┆ 49    ┆ 49   ┆ 49.0    │\n",
      "└─────────────────────┴───────┴──────┴─────────┘\n"
     ]
    }
   ],
   "source": [
    "print_table(lib.read(sym, columns=[\"uint8\", \"int8\", \"float64\"]).data)"
   ]
  },
  {
   "cell_type": "markdown",
   "id": "1b8c899c-c311-45d8-b9f6-73219d7bffb2",
   "metadata": {},
   "source": [
    "## Writing views of data works as you would expect"
   ]
  },
  {
   "cell_type": "code",
   "execution_count": 23,
   "id": "2480d5a9-5c00-4681-83cd-c808d7aaf7c9",
   "metadata": {},
   "outputs": [
    {
     "name": "stdout",
     "output_type": "stream",
     "text": [
      "shape: (10, 12)\n",
      "┌───────┬───────┬────────┬────────┬───┬───────┬─────────┬─────────────────────┬─────────┐\n",
      "│ bool  ┆ uint8 ┆ uint16 ┆ uint32 ┆ … ┆ int64 ┆ float32 ┆ timestamp           ┆ float64 │\n",
      "│ ---   ┆ ---   ┆ ---    ┆ ---    ┆   ┆ ---   ┆ ---     ┆ ---                 ┆ ---     │\n",
      "│ bool  ┆ u8    ┆ u16    ┆ u32    ┆   ┆ i64   ┆ f32     ┆ datetime[ns]        ┆ f64     │\n",
      "╞═══════╪═══════╪════════╪════════╪═══╪═══════╪═════════╪═════════════════════╪═════════╡\n",
      "│ true  ┆ 20    ┆ 20     ┆ 20     ┆ … ┆ 20    ┆ 20.0    ┆ 2025-01-21 00:00:00 ┆ 20.0    │\n",
      "│ false ┆ 21    ┆ 21     ┆ 21     ┆ … ┆ 21    ┆ 21.0    ┆ 2025-01-22 00:00:00 ┆ 21.0    │\n",
      "│ true  ┆ 22    ┆ 22     ┆ 22     ┆ … ┆ 22    ┆ 22.0    ┆ 2025-01-23 00:00:00 ┆ 22.0    │\n",
      "│ false ┆ 23    ┆ 23     ┆ 23     ┆ … ┆ 23    ┆ 23.0    ┆ 2025-01-24 00:00:00 ┆ 23.0    │\n",
      "│ true  ┆ 24    ┆ 24     ┆ 24     ┆ … ┆ 24    ┆ 24.0    ┆ 2025-01-25 00:00:00 ┆ 24.0    │\n",
      "│ false ┆ 25    ┆ 25     ┆ 25     ┆ … ┆ 25    ┆ 25.0    ┆ 2025-01-26 00:00:00 ┆ 25.0    │\n",
      "│ true  ┆ 26    ┆ 26     ┆ 26     ┆ … ┆ 26    ┆ 26.0    ┆ 2025-01-27 00:00:00 ┆ 26.0    │\n",
      "│ false ┆ 27    ┆ 27     ┆ 27     ┆ … ┆ 27    ┆ 27.0    ┆ 2025-01-28 00:00:00 ┆ 27.0    │\n",
      "│ true  ┆ 28    ┆ 28     ┆ 28     ┆ … ┆ 28    ┆ 28.0    ┆ 2025-01-29 00:00:00 ┆ 28.0    │\n",
      "│ false ┆ 29    ┆ 29     ┆ 29     ┆ … ┆ 29    ┆ 29.0    ┆ 2025-01-30 00:00:00 ┆ 29.0    │\n",
      "└───────┴───────┴────────┴────────┴───┴───────┴─────────┴─────────────────────┴─────────┘\n"
     ]
    }
   ],
   "source": [
    "table_view = table.slice(20, 10)\n",
    "print_table(table_view)"
   ]
  },
  {
   "cell_type": "code",
   "execution_count": 24,
   "id": "a1c99f43-0031-45cf-966c-cd2184e91ee3",
   "metadata": {},
   "outputs": [
    {
     "name": "stdout",
     "output_type": "stream",
     "text": [
      "shape: (10, 12)\n",
      "┌───────┬───────┬────────┬────────┬───┬───────┬─────────┬─────────────────────┬─────────┐\n",
      "│ bool  ┆ uint8 ┆ uint16 ┆ uint32 ┆ … ┆ int64 ┆ float32 ┆ timestamp           ┆ float64 │\n",
      "│ ---   ┆ ---   ┆ ---    ┆ ---    ┆   ┆ ---   ┆ ---     ┆ ---                 ┆ ---     │\n",
      "│ bool  ┆ u8    ┆ u16    ┆ u32    ┆   ┆ i64   ┆ f32     ┆ datetime[ns]        ┆ f64     │\n",
      "╞═══════╪═══════╪════════╪════════╪═══╪═══════╪═════════╪═════════════════════╪═════════╡\n",
      "│ true  ┆ 20    ┆ 20     ┆ 20     ┆ … ┆ 20    ┆ 20.0    ┆ 2025-01-21 00:00:00 ┆ 20.0    │\n",
      "│ false ┆ 21    ┆ 21     ┆ 21     ┆ … ┆ 21    ┆ 21.0    ┆ 2025-01-22 00:00:00 ┆ 21.0    │\n",
      "│ true  ┆ 22    ┆ 22     ┆ 22     ┆ … ┆ 22    ┆ 22.0    ┆ 2025-01-23 00:00:00 ┆ 22.0    │\n",
      "│ false ┆ 23    ┆ 23     ┆ 23     ┆ … ┆ 23    ┆ 23.0    ┆ 2025-01-24 00:00:00 ┆ 23.0    │\n",
      "│ true  ┆ 24    ┆ 24     ┆ 24     ┆ … ┆ 24    ┆ 24.0    ┆ 2025-01-25 00:00:00 ┆ 24.0    │\n",
      "│ false ┆ 25    ┆ 25     ┆ 25     ┆ … ┆ 25    ┆ 25.0    ┆ 2025-01-26 00:00:00 ┆ 25.0    │\n",
      "│ true  ┆ 26    ┆ 26     ┆ 26     ┆ … ┆ 26    ┆ 26.0    ┆ 2025-01-27 00:00:00 ┆ 26.0    │\n",
      "│ false ┆ 27    ┆ 27     ┆ 27     ┆ … ┆ 27    ┆ 27.0    ┆ 2025-01-28 00:00:00 ┆ 27.0    │\n",
      "│ true  ┆ 28    ┆ 28     ┆ 28     ┆ … ┆ 28    ┆ 28.0    ┆ 2025-01-29 00:00:00 ┆ 28.0    │\n",
      "│ false ┆ 29    ┆ 29     ┆ 29     ┆ … ┆ 29    ┆ 29.0    ┆ 2025-01-30 00:00:00 ┆ 29.0    │\n",
      "└───────┴───────┴────────┴────────┴───┴───────┴─────────┴─────────────────────┴─────────┘\n"
     ]
    }
   ],
   "source": [
    "lib.write(sym, table_view)\n",
    "print_table(lib.read(sym).data)"
   ]
  },
  {
   "cell_type": "markdown",
   "id": "4aa86505-6df9-40d0-aee6-a974db87c7e7",
   "metadata": {},
   "source": [
    "## Staging APIs also work as expected"
   ]
  },
  {
   "cell_type": "code",
   "execution_count": 25,
   "id": "43e6699f-0629-4627-8a8c-483bfb69fe2e",
   "metadata": {},
   "outputs": [
    {
     "name": "stdout",
     "output_type": "stream",
     "text": [
      "shape: (100, 12)\n",
      "┌─────────────────────┬───────┬───────┬────────┬───┬───────┬───────┬─────────┬─────────┐\n",
      "│ timestamp           ┆ bool  ┆ uint8 ┆ uint16 ┆ … ┆ int32 ┆ int64 ┆ float32 ┆ float64 │\n",
      "│ ---                 ┆ ---   ┆ ---   ┆ ---    ┆   ┆ ---   ┆ ---   ┆ ---     ┆ ---     │\n",
      "│ datetime[ns]        ┆ bool  ┆ u8    ┆ u16    ┆   ┆ i32   ┆ i64   ┆ f32     ┆ f64     │\n",
      "╞═════════════════════╪═══════╪═══════╪════════╪═══╪═══════╪═══════╪═════════╪═════════╡\n",
      "│ 2025-01-01 00:00:00 ┆ true  ┆ 0     ┆ 0      ┆ … ┆ 0     ┆ 0     ┆ 0.0     ┆ 0.0     │\n",
      "│ 2025-01-02 00:00:00 ┆ false ┆ 1     ┆ 1      ┆ … ┆ 1     ┆ 1     ┆ 1.0     ┆ 1.0     │\n",
      "│ 2025-01-03 00:00:00 ┆ true  ┆ 2     ┆ 2      ┆ … ┆ 2     ┆ 2     ┆ 2.0     ┆ 2.0     │\n",
      "│ 2025-01-04 00:00:00 ┆ false ┆ 3     ┆ 3      ┆ … ┆ 3     ┆ 3     ┆ 3.0     ┆ 3.0     │\n",
      "│ 2025-01-05 00:00:00 ┆ true  ┆ 4     ┆ 4      ┆ … ┆ 4     ┆ 4     ┆ 4.0     ┆ 4.0     │\n",
      "│ …                   ┆ …     ┆ …     ┆ …      ┆ … ┆ …     ┆ …     ┆ …       ┆ …       │\n",
      "│ 2025-04-06 00:00:00 ┆ false ┆ 95    ┆ 95     ┆ … ┆ 95    ┆ 95    ┆ 95.0    ┆ 95.0    │\n",
      "│ 2025-04-07 00:00:00 ┆ true  ┆ 96    ┆ 96     ┆ … ┆ 96    ┆ 96    ┆ 96.0    ┆ 96.0    │\n",
      "│ 2025-04-08 00:00:00 ┆ false ┆ 97    ┆ 97     ┆ … ┆ 97    ┆ 97    ┆ 97.0    ┆ 97.0    │\n",
      "│ 2025-04-09 00:00:00 ┆ true  ┆ 98    ┆ 98     ┆ … ┆ 98    ┆ 98    ┆ 98.0    ┆ 98.0    │\n",
      "│ 2025-04-10 00:00:00 ┆ false ┆ 99    ┆ 99     ┆ … ┆ 99    ┆ 99    ┆ 99.0    ┆ 99.0    │\n",
      "└─────────────────────┴───────┴───────┴────────┴───┴───────┴───────┴─────────┴─────────┘\n"
     ]
    }
   ],
   "source": [
    "lib.stage(sym, table_0, index_column=\"timestamp\")\n",
    "lib.stage(sym, table_1, index_column=\"timestamp\")\n",
    "lib.finalize_staged_data(sym)\n",
    "print_table(lib.read(sym).data)"
   ]
  },
  {
   "cell_type": "markdown",
   "id": "8759e8fa-1fae-41c1-9a62-c129a4d2e22d",
   "metadata": {},
   "source": [
    "# Pandas interoperability\n",
    "\n",
    "## Data written as Arrow can be read as Pandas\n",
    "\n",
    "If no index column is specified in the write, then the resulting dataframe will have a `RangeIndex`"
   ]
  },
  {
   "cell_type": "code",
   "execution_count": 26,
   "id": "a6ada021-7f61-40c5-8e9c-d2c475ec278f",
   "metadata": {},
   "outputs": [
    {
     "data": {
      "text/html": [
       "<div>\n",
       "<style scoped>\n",
       "    .dataframe tbody tr th:only-of-type {\n",
       "        vertical-align: middle;\n",
       "    }\n",
       "\n",
       "    .dataframe tbody tr th {\n",
       "        vertical-align: top;\n",
       "    }\n",
       "\n",
       "    .dataframe thead th {\n",
       "        text-align: right;\n",
       "    }\n",
       "</style>\n",
       "<table border=\"1\" class=\"dataframe\">\n",
       "  <thead>\n",
       "    <tr style=\"text-align: right;\">\n",
       "      <th></th>\n",
       "      <th>bool</th>\n",
       "      <th>uint8</th>\n",
       "      <th>uint16</th>\n",
       "      <th>uint32</th>\n",
       "      <th>uint64</th>\n",
       "      <th>int8</th>\n",
       "      <th>int16</th>\n",
       "      <th>int32</th>\n",
       "      <th>int64</th>\n",
       "      <th>float32</th>\n",
       "      <th>timestamp</th>\n",
       "      <th>float64</th>\n",
       "    </tr>\n",
       "  </thead>\n",
       "  <tbody>\n",
       "    <tr>\n",
       "      <th>0</th>\n",
       "      <td>True</td>\n",
       "      <td>0</td>\n",
       "      <td>0</td>\n",
       "      <td>0</td>\n",
       "      <td>0</td>\n",
       "      <td>0</td>\n",
       "      <td>0</td>\n",
       "      <td>0</td>\n",
       "      <td>0</td>\n",
       "      <td>0.0</td>\n",
       "      <td>2025-01-01</td>\n",
       "      <td>0.0</td>\n",
       "    </tr>\n",
       "    <tr>\n",
       "      <th>1</th>\n",
       "      <td>False</td>\n",
       "      <td>1</td>\n",
       "      <td>1</td>\n",
       "      <td>1</td>\n",
       "      <td>1</td>\n",
       "      <td>1</td>\n",
       "      <td>1</td>\n",
       "      <td>1</td>\n",
       "      <td>1</td>\n",
       "      <td>1.0</td>\n",
       "      <td>2025-01-02</td>\n",
       "      <td>1.0</td>\n",
       "    </tr>\n",
       "    <tr>\n",
       "      <th>2</th>\n",
       "      <td>True</td>\n",
       "      <td>2</td>\n",
       "      <td>2</td>\n",
       "      <td>2</td>\n",
       "      <td>2</td>\n",
       "      <td>2</td>\n",
       "      <td>2</td>\n",
       "      <td>2</td>\n",
       "      <td>2</td>\n",
       "      <td>2.0</td>\n",
       "      <td>2025-01-03</td>\n",
       "      <td>2.0</td>\n",
       "    </tr>\n",
       "    <tr>\n",
       "      <th>3</th>\n",
       "      <td>False</td>\n",
       "      <td>3</td>\n",
       "      <td>3</td>\n",
       "      <td>3</td>\n",
       "      <td>3</td>\n",
       "      <td>3</td>\n",
       "      <td>3</td>\n",
       "      <td>3</td>\n",
       "      <td>3</td>\n",
       "      <td>3.0</td>\n",
       "      <td>2025-01-04</td>\n",
       "      <td>3.0</td>\n",
       "    </tr>\n",
       "    <tr>\n",
       "      <th>4</th>\n",
       "      <td>True</td>\n",
       "      <td>4</td>\n",
       "      <td>4</td>\n",
       "      <td>4</td>\n",
       "      <td>4</td>\n",
       "      <td>4</td>\n",
       "      <td>4</td>\n",
       "      <td>4</td>\n",
       "      <td>4</td>\n",
       "      <td>4.0</td>\n",
       "      <td>2025-01-05</td>\n",
       "      <td>4.0</td>\n",
       "    </tr>\n",
       "  </tbody>\n",
       "</table>\n",
       "</div>"
      ],
      "text/plain": [
       "    bool  uint8  uint16  uint32  ...  int64  float32  timestamp  float64\n",
       "0   True      0       0       0  ...      0      0.0 2025-01-01      0.0\n",
       "1  False      1       1       1  ...      1      1.0 2025-01-02      1.0\n",
       "2   True      2       2       2  ...      2      2.0 2025-01-03      2.0\n",
       "3  False      3       3       3  ...      3      3.0 2025-01-04      3.0\n",
       "4   True      4       4       4  ...      4      4.0 2025-01-05      4.0\n",
       "\n",
       "[5 rows x 12 columns]"
      ]
     },
     "execution_count": 26,
     "metadata": {},
     "output_type": "execute_result"
    }
   ],
   "source": [
    "lib.write(sym, table)\n",
    "lib.head(sym, output_format=OutputFormat.PANDAS).data"
   ]
  },
  {
   "cell_type": "markdown",
   "id": "ccc388c7-ac39-493a-b633-4591ea7fb567",
   "metadata": {},
   "source": [
    "Index columns are correctly mapped to Pandas index"
   ]
  },
  {
   "cell_type": "code",
   "execution_count": 27,
   "id": "adc68662-00df-4f32-b5ea-08f54290923a",
   "metadata": {},
   "outputs": [
    {
     "name": "stdout",
     "output_type": "stream",
     "text": [
      "DatetimeIndex(['2025-01-01', '2025-01-02', '2025-01-03', '2025-01-04',\n",
      "               '2025-01-05'],\n",
      "              dtype='datetime64[ns]', name='timestamp', freq=None)\n",
      "True\n"
     ]
    },
    {
     "data": {
      "text/html": [
       "<div>\n",
       "<style scoped>\n",
       "    .dataframe tbody tr th:only-of-type {\n",
       "        vertical-align: middle;\n",
       "    }\n",
       "\n",
       "    .dataframe tbody tr th {\n",
       "        vertical-align: top;\n",
       "    }\n",
       "\n",
       "    .dataframe thead th {\n",
       "        text-align: right;\n",
       "    }\n",
       "</style>\n",
       "<table border=\"1\" class=\"dataframe\">\n",
       "  <thead>\n",
       "    <tr style=\"text-align: right;\">\n",
       "      <th></th>\n",
       "      <th>bool</th>\n",
       "      <th>uint8</th>\n",
       "      <th>uint16</th>\n",
       "      <th>uint32</th>\n",
       "      <th>uint64</th>\n",
       "      <th>int8</th>\n",
       "      <th>int16</th>\n",
       "      <th>int32</th>\n",
       "      <th>int64</th>\n",
       "      <th>float32</th>\n",
       "      <th>float64</th>\n",
       "    </tr>\n",
       "    <tr>\n",
       "      <th>timestamp</th>\n",
       "      <th></th>\n",
       "      <th></th>\n",
       "      <th></th>\n",
       "      <th></th>\n",
       "      <th></th>\n",
       "      <th></th>\n",
       "      <th></th>\n",
       "      <th></th>\n",
       "      <th></th>\n",
       "      <th></th>\n",
       "      <th></th>\n",
       "    </tr>\n",
       "  </thead>\n",
       "  <tbody>\n",
       "    <tr>\n",
       "      <th>2025-01-01</th>\n",
       "      <td>True</td>\n",
       "      <td>0</td>\n",
       "      <td>0</td>\n",
       "      <td>0</td>\n",
       "      <td>0</td>\n",
       "      <td>0</td>\n",
       "      <td>0</td>\n",
       "      <td>0</td>\n",
       "      <td>0</td>\n",
       "      <td>0.0</td>\n",
       "      <td>0.0</td>\n",
       "    </tr>\n",
       "    <tr>\n",
       "      <th>2025-01-02</th>\n",
       "      <td>False</td>\n",
       "      <td>1</td>\n",
       "      <td>1</td>\n",
       "      <td>1</td>\n",
       "      <td>1</td>\n",
       "      <td>1</td>\n",
       "      <td>1</td>\n",
       "      <td>1</td>\n",
       "      <td>1</td>\n",
       "      <td>1.0</td>\n",
       "      <td>1.0</td>\n",
       "    </tr>\n",
       "    <tr>\n",
       "      <th>2025-01-03</th>\n",
       "      <td>True</td>\n",
       "      <td>2</td>\n",
       "      <td>2</td>\n",
       "      <td>2</td>\n",
       "      <td>2</td>\n",
       "      <td>2</td>\n",
       "      <td>2</td>\n",
       "      <td>2</td>\n",
       "      <td>2</td>\n",
       "      <td>2.0</td>\n",
       "      <td>2.0</td>\n",
       "    </tr>\n",
       "    <tr>\n",
       "      <th>2025-01-04</th>\n",
       "      <td>False</td>\n",
       "      <td>3</td>\n",
       "      <td>3</td>\n",
       "      <td>3</td>\n",
       "      <td>3</td>\n",
       "      <td>3</td>\n",
       "      <td>3</td>\n",
       "      <td>3</td>\n",
       "      <td>3</td>\n",
       "      <td>3.0</td>\n",
       "      <td>3.0</td>\n",
       "    </tr>\n",
       "    <tr>\n",
       "      <th>2025-01-05</th>\n",
       "      <td>True</td>\n",
       "      <td>4</td>\n",
       "      <td>4</td>\n",
       "      <td>4</td>\n",
       "      <td>4</td>\n",
       "      <td>4</td>\n",
       "      <td>4</td>\n",
       "      <td>4</td>\n",
       "      <td>4</td>\n",
       "      <td>4.0</td>\n",
       "      <td>4.0</td>\n",
       "    </tr>\n",
       "  </tbody>\n",
       "</table>\n",
       "</div>"
      ],
      "text/plain": [
       "             bool  uint8  uint16  uint32  ...  int32  int64  float32  float64\n",
       "timestamp                                 ...                                \n",
       "2025-01-01   True      0       0       0  ...      0      0      0.0      0.0\n",
       "2025-01-02  False      1       1       1  ...      1      1      1.0      1.0\n",
       "2025-01-03   True      2       2       2  ...      2      2      2.0      2.0\n",
       "2025-01-04  False      3       3       3  ...      3      3      3.0      3.0\n",
       "2025-01-05   True      4       4       4  ...      4      4      4.0      4.0\n",
       "\n",
       "[5 rows x 11 columns]"
      ]
     },
     "execution_count": 27,
     "metadata": {},
     "output_type": "execute_result"
    }
   ],
   "source": [
    "lib.write(sym, table, index_column=\"timestamp\")\n",
    "df = lib.head(sym, output_format=OutputFormat.PANDAS).data\n",
    "print(df.index)\n",
    "print(df.index.is_monotonic_increasing)\n",
    "df"
   ]
  },
  {
   "cell_type": "markdown",
   "id": "b5f693c5-20e8-4641-a95d-d36dd0b7a871",
   "metadata": {},
   "source": [
    "## Cannot yet append/update Arrow tables to Pandas dataframes or vice versa. This will be fixed in a future release."
   ]
  },
  {
   "cell_type": "code",
   "execution_count": 28,
   "id": "030fd897-0915-418b-b1b7-96d30a038404",
   "metadata": {},
   "outputs": [
    {
     "name": "stdout",
     "output_type": "stream",
     "text": [
      "E_INCOMPATIBLE_OBJECTS Append can be performed only on objects of the same type. Existing type is DataFrame new type is Arrow Table.\n"
     ]
    }
   ],
   "source": [
    "lib.write(sym, pd.DataFrame({\"col\": np.arange(10, dtype=np.int64)}))\n",
    "try:\n",
    "    lib.append(sym, pa.table({\"col\": pa.array(np.arange(10, 20, dtype=np.int64), pa.int64())}))\n",
    "except Exception as e:\n",
    "    print(e)"
   ]
  },
  {
   "cell_type": "markdown",
   "id": "63a44676-4402-4ac1-8dff-19aaf0778be9",
   "metadata": {},
   "source": [
    "## Specifying an index column with Pandas data has no effect"
   ]
  },
  {
   "cell_type": "code",
   "execution_count": 29,
   "id": "f80b011f-00cf-43fc-b08e-651ba0fe1e3a",
   "metadata": {},
   "outputs": [
    {
     "data": {
      "text/html": [
       "<div>\n",
       "<style scoped>\n",
       "    .dataframe tbody tr th:only-of-type {\n",
       "        vertical-align: middle;\n",
       "    }\n",
       "\n",
       "    .dataframe tbody tr th {\n",
       "        vertical-align: top;\n",
       "    }\n",
       "\n",
       "    .dataframe thead th {\n",
       "        text-align: right;\n",
       "    }\n",
       "</style>\n",
       "<table border=\"1\" class=\"dataframe\">\n",
       "  <thead>\n",
       "    <tr style=\"text-align: right;\">\n",
       "      <th></th>\n",
       "      <th>col</th>\n",
       "      <th>timestamp</th>\n",
       "    </tr>\n",
       "  </thead>\n",
       "  <tbody>\n",
       "    <tr>\n",
       "      <th>0</th>\n",
       "      <td>0</td>\n",
       "      <td>2025-01-01</td>\n",
       "    </tr>\n",
       "    <tr>\n",
       "      <th>1</th>\n",
       "      <td>1</td>\n",
       "      <td>2025-01-02</td>\n",
       "    </tr>\n",
       "    <tr>\n",
       "      <th>2</th>\n",
       "      <td>2</td>\n",
       "      <td>2025-01-03</td>\n",
       "    </tr>\n",
       "    <tr>\n",
       "      <th>3</th>\n",
       "      <td>3</td>\n",
       "      <td>2025-01-04</td>\n",
       "    </tr>\n",
       "    <tr>\n",
       "      <th>4</th>\n",
       "      <td>4</td>\n",
       "      <td>2025-01-05</td>\n",
       "    </tr>\n",
       "  </tbody>\n",
       "</table>\n",
       "</div>"
      ],
      "text/plain": [
       "   col  timestamp\n",
       "0    0 2025-01-01\n",
       "1    1 2025-01-02\n",
       "2    2 2025-01-03\n",
       "3    3 2025-01-04\n",
       "4    4 2025-01-05"
      ]
     },
     "execution_count": 29,
     "metadata": {},
     "output_type": "execute_result"
    }
   ],
   "source": [
    "lib.write(sym, pd.DataFrame({\"col\": np.arange(10, dtype=np.int64), \"timestamp\": pd.date_range(\"2025-01-01\", periods=10)}), index_column=\"timestamp\")\n",
    "lib.head(sym, output_format=OutputFormat.PANDAS).data"
   ]
  },
  {
   "cell_type": "markdown",
   "id": "149278c2-3175-4d03-a9e7-1a012fecd1c0",
   "metadata": {},
   "source": [
    "## For batch methods, the `WritePayload` and `UpdatePayload` classes have additional `index_column` fields"
   ]
  },
  {
   "cell_type": "code",
   "execution_count": 30,
   "id": "7cfc3bf5-71c4-47ca-8774-5670052da3fd",
   "metadata": {},
   "outputs": [
    {
     "data": {
      "text/plain": [
       "[VersionedItem(symbol='sym0', library='test_lib', data=n/a, version=0, metadata=None, host='LMDB(path=/data/team/data/arctic_native/examples/arrow-writes-demo)', timestamp=1760691321671797922),\n",
       " VersionedItem(symbol='sym1', library='test_lib', data=n/a, version=0, metadata=None, host='LMDB(path=/data/team/data/arctic_native/examples/arrow-writes-demo)', timestamp=1760691321667000359)]"
      ]
     },
     "execution_count": 30,
     "metadata": {},
     "output_type": "execute_result"
    }
   ],
   "source": [
    "payload_0 = WritePayload(\"sym0\", table_0, index_column=\"timestamp\")\n",
    "payload_1 = WritePayload(\"sym1\", table_1, index_column=\"timestamp\")\n",
    "lib.write_batch([payload_0, payload_1])"
   ]
  },
  {
   "cell_type": "markdown",
   "id": "5dae64a3-9279-4799-b016-9439f938d010",
   "metadata": {},
   "source": [
    "# Limitations\n",
    "\n",
    "### String columns not yet supported"
   ]
  },
  {
   "cell_type": "code",
   "execution_count": 31,
   "id": "3893d07b-c310-4fa9-b452-42ae3a829274",
   "metadata": {},
   "outputs": [
    {
     "name": "stdout",
     "output_type": "stream",
     "text": [
      "E_UNSUPPORTED_COLUMN_TYPE Unsupported Arrow data type provided `u`\n"
     ]
    }
   ],
   "source": [
    "try:\n",
    "    lib.write(sym, pa.table({\"col\": pa.array([\"hello\", \"bonjour\"], pa.string())}))\n",
    "except Exception as e:\n",
    "    print(e)"
   ]
  },
  {
   "cell_type": "markdown",
   "id": "f3672e5f-2fd7-4b61-afae-8c582ab7e0be",
   "metadata": {},
   "source": [
    "### Sparse columns not yet supported"
   ]
  },
  {
   "cell_type": "code",
   "execution_count": 32,
   "id": "07f3964a-b2f2-4eb7-bedf-7af491296ad2",
   "metadata": {},
   "outputs": [
    {
     "name": "stdout",
     "output_type": "stream",
     "text": [
      "E_UNSUPPORTED_COLUMN_TYPE Column 'col' contains null values, which are not currently supported\n"
     ]
    }
   ],
   "source": [
    "try:\n",
    "    lib.write(sym, pa.table({\"col\": pa.array([1, None], pa.int64())}))\n",
    "except Exception as e:\n",
    "    print(e)"
   ]
  },
  {
   "cell_type": "markdown",
   "id": "f2e0ac3b-10f5-4615-a863-61783d8cfcc3",
   "metadata": {},
   "source": [
    "### Non-nanosecond timestamp columns not yet supported"
   ]
  },
  {
   "cell_type": "code",
   "execution_count": 33,
   "id": "94493ecb-5062-4a51-b1ae-5bb8fab37912",
   "metadata": {},
   "outputs": [
    {
     "name": "stdout",
     "output_type": "stream",
     "text": [
      "E_UNSUPPORTED_COLUMN_TYPE Unsupported Arrow data type provided `tsm:`\n"
     ]
    }
   ],
   "source": [
    "try:\n",
    "    lib.write(sym, pa.table({\"col\": pa.Array.from_pandas(pd.date_range(\"2025-01-01\", periods=10), type=pa.timestamp(\"ms\"))}))\n",
    "except Exception as e:\n",
    "    print(e)"
   ]
  },
  {
   "cell_type": "markdown",
   "id": "ad5726f3-b993-4c4c-8f5e-f31dd9dc43aa",
   "metadata": {},
   "source": [
    "### Non-UTC nanosecond timestamp columns return as UTC, losing the timezone information. This will be fixed in a future release."
   ]
  },
  {
   "cell_type": "code",
   "execution_count": 34,
   "id": "83d448a9-6f5a-4f1a-ac37-876e4a6ae9c2",
   "metadata": {},
   "outputs": [
    {
     "name": "stdout",
     "output_type": "stream",
     "text": [
      "shape: (5, 1)\n",
      "┌─────────────────────┐\n",
      "│ col                 │\n",
      "│ ---                 │\n",
      "│ datetime[ns]        │\n",
      "╞═════════════════════╡\n",
      "│ 2024-12-31 23:00:00 │\n",
      "│ 2025-01-01 23:00:00 │\n",
      "│ 2025-01-02 23:00:00 │\n",
      "│ 2025-01-03 23:00:00 │\n",
      "│ 2025-01-04 23:00:00 │\n",
      "└─────────────────────┘\n"
     ]
    }
   ],
   "source": [
    "lib.write(\n",
    "    sym,\n",
    "    pa.table(\n",
    "        {\n",
    "            \"col\": pa.Array.from_pandas(pd.date_range(\"2025-01-01\", periods=5, tz=\"Europe/Amsterdam\"), type=pa.timestamp(\"ns\", tz=\"Europe/Amsterdam\"))\n",
    "        }\n",
    "    )\n",
    ")\n",
    "print_table(lib.read(sym).data)"
   ]
  },
  {
   "cell_type": "markdown",
   "id": "0d7ffcc5-a0a4-47ac-a461-cca3b14a3924",
   "metadata": {},
   "source": [
    "### Lower level `pyarrow` primitives such as `Array`, `RecordBatch`, and `ChunkedArray` not yet normalized"
   ]
  },
  {
   "cell_type": "code",
   "execution_count": 35,
   "id": "a2537fc8-3eca-4d43-af8e-e8ef2a119ec8",
   "metadata": {},
   "outputs": [
    {
     "name": "stdout",
     "output_type": "stream",
     "text": [
      "data is of a type that cannot be normalized. Consider using write_pickle instead. type(data)=[<class 'pyarrow.lib.Int64Array'>]\n"
     ]
    }
   ],
   "source": [
    "try:\n",
    "    lib.write(sym, pa.array([0, 1], pa.int64()))\n",
    "except Exception as e:\n",
    "    print(e)"
   ]
  },
  {
   "cell_type": "markdown",
   "id": "0cac9ad1-767a-4c0c-95f0-230fdbc76f40",
   "metadata": {},
   "source": [
    "### Calling `update` with a `date_range` that overlaps the index of the provided table not yet supported (non-overlapping is fine)"
   ]
  },
  {
   "cell_type": "code",
   "execution_count": 36,
   "id": "cf7ab155-40e9-4ca8-ac9b-204057924d6c",
   "metadata": {},
   "outputs": [
    {
     "name": "stdout",
     "output_type": "stream",
     "text": [
      "update with date_range and pyarrow Table not yet supported with date_range overlapping the data\n"
     ]
    }
   ],
   "source": [
    "table = pa.table(\n",
    "    {\n",
    "        \"timestamp\": pa.Array.from_pandas(pd.date_range(\"2025-01-01\", periods=5), type=pa.timestamp(\"ns\")),\n",
    "        \"col\": pa.array([0, 1, 2, 3, 4], pa.int64()),\n",
    "    }\n",
    ")\n",
    "try:\n",
    "    lib.update(sym, table, date_range=(pd.Timestamp(\"2025-01-02\"), pd.Timestamp(\"2025-01-04\")), index_column=\"timestamp\")\n",
    "except Exception as e:\n",
    "    print(e)"
   ]
  },
  {
   "cell_type": "markdown",
   "id": "378b4905-5ec2-4342-b857-397c2ba37d8b",
   "metadata": {},
   "source": [
    "### Processing operations (`QueryBuilder`) on data written with Arrow are not yet tested and may have unexpected behaviour\n",
    "\n",
    "### We also do not support writing dictionary-encoded data (similar to Pandas categoricals) right now"
   ]
  }
 ],
 "metadata": {
  "kernelspec": {
   "display_name": "arrow",
   "language": "python",
   "name": "arrow"
  },
  "language_info": {
   "codemirror_mode": {
    "name": "ipython",
    "version": 3
   },
   "file_extension": ".py",
   "mimetype": "text/x-python",
   "name": "python",
   "nbconvert_exporter": "python",
   "pygments_lexer": "ipython3",
   "version": "3.11.11"
  }
 },
 "nbformat": 4,
 "nbformat_minor": 5
}
