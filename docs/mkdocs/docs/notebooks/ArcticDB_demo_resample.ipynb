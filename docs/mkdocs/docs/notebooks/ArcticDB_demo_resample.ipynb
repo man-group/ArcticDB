{
 "cells": [
  {
   "cell_type": "code",
   "execution_count": null,
   "id": "844205d7-65af-4164-bdf5-1a6db15f8927",
   "metadata": {},
   "outputs": [],
   "source": [
    "!pip install arcticdb"
   ]
  },
  {
   "cell_type": "code",
   "execution_count": 2,
   "id": "395e7b38-6e1f-495f-8940-87462c6e8eb5",
   "metadata": {},
   "outputs": [],
   "source": [
    "import numpy as np\n",
    "import pandas as pd\n",
    "import arcticdb as adb"
   ]
  },
  {
   "cell_type": "markdown",
   "id": "0c848d76-a292-45a9-b297-314b120c0d47",
   "metadata": {},
   "source": [
    "<center><img src=\"data:image/png;base64,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\"/>\n",
    "</center>"
   ]
  },
  {
   "cell_type": "markdown",
   "id": "66fd9cae-39d0-4555-9c08-9f443bce8894",
   "metadata": {},
   "source": [
    "# ArcticDB Resample Demo\n",
    "\n",
    "This demo notebook showcases the high-performance resample capability of ArcticDB.\n",
    "\n",
    "This is what you need to know about it:\n",
    "\n",
    "* It runs on-the-fly as part of the read\n",
    "* This makes it much more efficient than Pandas on large datasets\n",
    "* The usage is similar to the Pandas resample function\n",
    "* You can apply multiple aggregators to each column\n",
    "* It can be used for downsampling high frequency data and generating \"bar\" data (see example 4)"
   ]
  },
  {
   "cell_type": "markdown",
   "id": "ae923ddb-02ed-49a9-aa47-a87cdf0ccff7",
   "metadata": {},
   "source": [
    "## Setup"
   ]
  },
  {
   "cell_type": "code",
   "execution_count": 3,
   "id": "85d940e6-c8f5-4080-87a7-f8a635960c40",
   "metadata": {},
   "outputs": [],
   "source": [
    "# object store\n",
    "arctic = adb.Arctic(\"lmdb://arcticdb_resample\")"
   ]
  },
  {
   "cell_type": "code",
   "execution_count": 4,
   "id": "b29f9e15-88de-4d3d-b461-82e560249b54",
   "metadata": {},
   "outputs": [],
   "source": [
    "# library\n",
    "lib = arctic.get_library('resample', create_if_missing=True)"
   ]
  },
  {
   "cell_type": "markdown",
   "id": "652ae833-b07d-4770-9dd5-fb9065816d50",
   "metadata": {},
   "source": [
    "## Create Some Data\n",
    "\n",
    "* timeseries with 12,000,000 rows and a 1-second index\n",
    "* int, float, string columns\n",
    "* write the data into ArcticDB"
   ]
  },
  {
   "cell_type": "code",
   "execution_count": 5,
   "id": "64b0c0d9-ceb2-486e-9511-c02984cc7054",
   "metadata": {},
   "outputs": [],
   "source": [
    "# data for resampling\n",
    "index = pd.date_range(\"1990-01-01\", periods=12_000_000, freq=\"s\")\n",
    "int_data = np.arange(len(index), dtype=np.uint64)\n",
    "float_data = np.round(np.random.uniform(95., 105., len(index)), 3)\n",
    "letters = ['a','b','c','d','e','f','g']\n",
    "mkt_data = pd.DataFrame(\n",
    "    index=index,\n",
    "    data={\n",
    "        \"id\": int_data,\n",
    "        \"price\": float_data,\n",
    "        \"category\": (letters*(len(index)//len(letters) + 1))[:len(index)]\n",
    "    }\n",
    ")"
   ]
  },
  {
   "cell_type": "code",
   "execution_count": 6,
   "id": "3cc7b33f-ecb0-4588-a9ee-0bfaa4de42e1",
   "metadata": {},
   "outputs": [
    {
     "data": {
      "text/html": [
       "<div>\n",
       "<style scoped>\n",
       "    .dataframe tbody tr th:only-of-type {\n",
       "        vertical-align: middle;\n",
       "    }\n",
       "\n",
       "    .dataframe tbody tr th {\n",
       "        vertical-align: top;\n",
       "    }\n",
       "\n",
       "    .dataframe thead th {\n",
       "        text-align: right;\n",
       "    }\n",
       "</style>\n",
       "<table border=\"1\" class=\"dataframe\">\n",
       "  <thead>\n",
       "    <tr style=\"text-align: right;\">\n",
       "      <th></th>\n",
       "      <th>id</th>\n",
       "      <th>price</th>\n",
       "      <th>category</th>\n",
       "    </tr>\n",
       "  </thead>\n",
       "  <tbody>\n",
       "    <tr>\n",
       "      <th>1990-01-01 00:00:00</th>\n",
       "      <td>0</td>\n",
       "      <td>95.176</td>\n",
       "      <td>a</td>\n",
       "    </tr>\n",
       "    <tr>\n",
       "      <th>1990-01-01 00:00:01</th>\n",
       "      <td>1</td>\n",
       "      <td>97.872</td>\n",
       "      <td>b</td>\n",
       "    </tr>\n",
       "    <tr>\n",
       "      <th>1990-01-01 00:00:02</th>\n",
       "      <td>2</td>\n",
       "      <td>104.930</td>\n",
       "      <td>c</td>\n",
       "    </tr>\n",
       "    <tr>\n",
       "      <th>1990-01-01 00:00:03</th>\n",
       "      <td>3</td>\n",
       "      <td>103.573</td>\n",
       "      <td>d</td>\n",
       "    </tr>\n",
       "    <tr>\n",
       "      <th>1990-01-01 00:00:04</th>\n",
       "      <td>4</td>\n",
       "      <td>97.052</td>\n",
       "      <td>e</td>\n",
       "    </tr>\n",
       "    <tr>\n",
       "      <th>1990-01-01 00:00:05</th>\n",
       "      <td>5</td>\n",
       "      <td>103.435</td>\n",
       "      <td>f</td>\n",
       "    </tr>\n",
       "    <tr>\n",
       "      <th>1990-01-01 00:00:06</th>\n",
       "      <td>6</td>\n",
       "      <td>99.339</td>\n",
       "      <td>g</td>\n",
       "    </tr>\n",
       "    <tr>\n",
       "      <th>1990-01-01 00:00:07</th>\n",
       "      <td>7</td>\n",
       "      <td>103.358</td>\n",
       "      <td>a</td>\n",
       "    </tr>\n",
       "    <tr>\n",
       "      <th>1990-01-01 00:00:08</th>\n",
       "      <td>8</td>\n",
       "      <td>104.301</td>\n",
       "      <td>b</td>\n",
       "    </tr>\n",
       "    <tr>\n",
       "      <th>1990-01-01 00:00:09</th>\n",
       "      <td>9</td>\n",
       "      <td>104.651</td>\n",
       "      <td>c</td>\n",
       "    </tr>\n",
       "  </tbody>\n",
       "</table>\n",
       "</div>"
      ],
      "text/plain": [
       "                     id    price category\n",
       "1990-01-01 00:00:00   0   95.176        a\n",
       "1990-01-01 00:00:01   1   97.872        b\n",
       "1990-01-01 00:00:02   2  104.930        c\n",
       "1990-01-01 00:00:03   3  103.573        d\n",
       "1990-01-01 00:00:04   4   97.052        e\n",
       "1990-01-01 00:00:05   5  103.435        f\n",
       "1990-01-01 00:00:06   6   99.339        g\n",
       "1990-01-01 00:00:07   7  103.358        a\n",
       "1990-01-01 00:00:08   8  104.301        b\n",
       "1990-01-01 00:00:09   9  104.651        c"
      ]
     },
     "execution_count": 6,
     "metadata": {},
     "output_type": "execute_result"
    }
   ],
   "source": [
    "# view the first 10 rows of the data\n",
    "mkt_data.head(10)"
   ]
  },
  {
   "cell_type": "code",
   "execution_count": 7,
   "id": "9811863f-4d77-4571-b84b-95b341751fcd",
   "metadata": {},
   "outputs": [
    {
     "data": {
      "text/plain": [
       "VersionedItem(symbol='market_data', library='resample', data=n/a, version=0, metadata=None, host='LMDB(path=~/arcticdb_resample)', timestamp=1718958796318913629)"
      ]
     },
     "execution_count": 7,
     "metadata": {},
     "output_type": "execute_result"
    }
   ],
   "source": [
    "# write the data into ArcticDB\n",
    "sym = 'market_data'\n",
    "lib.write(sym, mkt_data)"
   ]
  },
  {
   "cell_type": "markdown",
   "id": "ece26c4e-826f-48b1-918c-f2b1aff01ad4",
   "metadata": {},
   "source": [
    "## 1. Simple Resample\n",
    "\n",
    "* Resample to 1-minute\n",
    "* Use different aggregators\n",
    "* Resample can be thought of as a time-based groupby\n",
    "* The groups are all the rows within a time interval\n",
    "* Run also in Pandas to compare performance and results "
   ]
  },
  {
   "cell_type": "code",
   "execution_count": 8,
   "id": "c05c6a38-5326-407d-9588-8c562c5f0f66",
   "metadata": {},
   "outputs": [],
   "source": [
    "# frequency and aggregator params\n",
    "freq1 = '1min'\n",
    "aggs1 = {'id': 'max', 'price': 'last', 'category': 'count'}"
   ]
  },
  {
   "cell_type": "code",
   "execution_count": 9,
   "id": "1829312c-24ee-4da7-959d-a5465456fdcc",
   "metadata": {},
   "outputs": [
    {
     "name": "stdout",
     "output_type": "stream",
     "text": [
      "200000\n",
      "CPU times: user 684 ms, sys: 251 ms, total: 935 ms\n",
      "Wall time: 171 ms\n"
     ]
    },
    {
     "data": {
      "text/html": [
       "<div>\n",
       "<style scoped>\n",
       "    .dataframe tbody tr th:only-of-type {\n",
       "        vertical-align: middle;\n",
       "    }\n",
       "\n",
       "    .dataframe tbody tr th {\n",
       "        vertical-align: top;\n",
       "    }\n",
       "\n",
       "    .dataframe thead th {\n",
       "        text-align: right;\n",
       "    }\n",
       "</style>\n",
       "<table border=\"1\" class=\"dataframe\">\n",
       "  <thead>\n",
       "    <tr style=\"text-align: right;\">\n",
       "      <th></th>\n",
       "      <th>id</th>\n",
       "      <th>price</th>\n",
       "      <th>category</th>\n",
       "    </tr>\n",
       "  </thead>\n",
       "  <tbody>\n",
       "    <tr>\n",
       "      <th>1990-05-19 21:15:00</th>\n",
       "      <td>11999759</td>\n",
       "      <td>104.106</td>\n",
       "      <td>60</td>\n",
       "    </tr>\n",
       "    <tr>\n",
       "      <th>1990-05-19 21:16:00</th>\n",
       "      <td>11999819</td>\n",
       "      <td>104.456</td>\n",
       "      <td>60</td>\n",
       "    </tr>\n",
       "    <tr>\n",
       "      <th>1990-05-19 21:17:00</th>\n",
       "      <td>11999879</td>\n",
       "      <td>95.570</td>\n",
       "      <td>60</td>\n",
       "    </tr>\n",
       "    <tr>\n",
       "      <th>1990-05-19 21:18:00</th>\n",
       "      <td>11999939</td>\n",
       "      <td>103.967</td>\n",
       "      <td>60</td>\n",
       "    </tr>\n",
       "    <tr>\n",
       "      <th>1990-05-19 21:19:00</th>\n",
       "      <td>11999999</td>\n",
       "      <td>97.899</td>\n",
       "      <td>60</td>\n",
       "    </tr>\n",
       "  </tbody>\n",
       "</table>\n",
       "</div>"
      ],
      "text/plain": [
       "                           id    price  category\n",
       "1990-05-19 21:15:00  11999759  104.106        60\n",
       "1990-05-19 21:16:00  11999819  104.456        60\n",
       "1990-05-19 21:17:00  11999879   95.570        60\n",
       "1990-05-19 21:18:00  11999939  103.967        60\n",
       "1990-05-19 21:19:00  11999999   97.899        60"
      ]
     },
     "execution_count": 9,
     "metadata": {},
     "output_type": "execute_result"
    }
   ],
   "source": [
    "%%time\n",
    "# create the resample query and apply it on the read\n",
    "q1 = adb.QueryBuilder().resample(freq1).agg(aggs1)\n",
    "market_data_1min_df = lib.read(sym, query_builder=q1).data\n",
    "print(len(market_data_1min_df))\n",
    "market_data_1min_df.tail()"
   ]
  },
  {
   "cell_type": "code",
   "execution_count": 10,
   "id": "c8bfcc79-8cd6-4b13-aca9-cf52f4c56042",
   "metadata": {},
   "outputs": [
    {
     "name": "stdout",
     "output_type": "stream",
     "text": [
      "200000\n",
      "CPU times: user 1.6 s, sys: 401 ms, total: 2 s\n",
      "Wall time: 1.15 s\n"
     ]
    },
    {
     "data": {
      "text/html": [
       "<div>\n",
       "<style scoped>\n",
       "    .dataframe tbody tr th:only-of-type {\n",
       "        vertical-align: middle;\n",
       "    }\n",
       "\n",
       "    .dataframe tbody tr th {\n",
       "        vertical-align: top;\n",
       "    }\n",
       "\n",
       "    .dataframe thead th {\n",
       "        text-align: right;\n",
       "    }\n",
       "</style>\n",
       "<table border=\"1\" class=\"dataframe\">\n",
       "  <thead>\n",
       "    <tr style=\"text-align: right;\">\n",
       "      <th></th>\n",
       "      <th>id</th>\n",
       "      <th>price</th>\n",
       "      <th>category</th>\n",
       "    </tr>\n",
       "  </thead>\n",
       "  <tbody>\n",
       "    <tr>\n",
       "      <th>1990-05-19 21:15:00</th>\n",
       "      <td>11999759</td>\n",
       "      <td>104.106</td>\n",
       "      <td>60</td>\n",
       "    </tr>\n",
       "    <tr>\n",
       "      <th>1990-05-19 21:16:00</th>\n",
       "      <td>11999819</td>\n",
       "      <td>104.456</td>\n",
       "      <td>60</td>\n",
       "    </tr>\n",
       "    <tr>\n",
       "      <th>1990-05-19 21:17:00</th>\n",
       "      <td>11999879</td>\n",
       "      <td>95.570</td>\n",
       "      <td>60</td>\n",
       "    </tr>\n",
       "    <tr>\n",
       "      <th>1990-05-19 21:18:00</th>\n",
       "      <td>11999939</td>\n",
       "      <td>103.967</td>\n",
       "      <td>60</td>\n",
       "    </tr>\n",
       "    <tr>\n",
       "      <th>1990-05-19 21:19:00</th>\n",
       "      <td>11999999</td>\n",
       "      <td>97.899</td>\n",
       "      <td>60</td>\n",
       "    </tr>\n",
       "  </tbody>\n",
       "</table>\n",
       "</div>"
      ],
      "text/plain": [
       "                           id    price  category\n",
       "1990-05-19 21:15:00  11999759  104.106        60\n",
       "1990-05-19 21:16:00  11999819  104.456        60\n",
       "1990-05-19 21:17:00  11999879   95.570        60\n",
       "1990-05-19 21:18:00  11999939  103.967        60\n",
       "1990-05-19 21:19:00  11999999   97.899        60"
      ]
     },
     "execution_count": 10,
     "metadata": {},
     "output_type": "execute_result"
    }
   ],
   "source": [
    "%%time\n",
    "# read the full data set and resample in Pandas\n",
    "full_df = lib.read(sym).data\n",
    "market_data_1min_pd_df = full_df.resample(freq1).agg(aggs1)\n",
    "print(len(market_data_1min_pd_df))\n",
    "market_data_1min_pd_df.tail()"
   ]
  },
  {
   "cell_type": "markdown",
   "id": "e83c9467-e0d4-447c-bf1e-2ff91bb724ad",
   "metadata": {},
   "source": [
    "## 2. Multiple Aggregators per Column\n",
    "\n",
    "* Similar to NamedAgg in Pandas\n",
    "* Downsample to 5-minute frequency\n",
    "* Apply both max and last aggregators to the price column\n",
    "* For multiple aggregators, the syntax is `output_column_name: (input_column_name: aggregator)`"
   ]
  },
  {
   "cell_type": "code",
   "execution_count": 11,
   "id": "70d3765a-f8c8-4cf3-beaa-2cc7a469b358",
   "metadata": {},
   "outputs": [],
   "source": [
    "q2 = adb.QueryBuilder()\n",
    "q2 = q2.resample('5min').agg({'id': 'max', 'price_last': ('price' ,'last'), 'price_count': ('price' ,'count'), 'category': 'first'})"
   ]
  },
  {
   "cell_type": "code",
   "execution_count": 12,
   "id": "8c31ec4b-8454-469d-8e31-8fefd0059bac",
   "metadata": {},
   "outputs": [
    {
     "name": "stdout",
     "output_type": "stream",
     "text": [
      "CPU times: user 1.07 s, sys: 415 ms, total: 1.49 s\n",
      "Wall time: 151 ms\n"
     ]
    },
    {
     "data": {
      "text/html": [
       "<div>\n",
       "<style scoped>\n",
       "    .dataframe tbody tr th:only-of-type {\n",
       "        vertical-align: middle;\n",
       "    }\n",
       "\n",
       "    .dataframe tbody tr th {\n",
       "        vertical-align: top;\n",
       "    }\n",
       "\n",
       "    .dataframe thead th {\n",
       "        text-align: right;\n",
       "    }\n",
       "</style>\n",
       "<table border=\"1\" class=\"dataframe\">\n",
       "  <thead>\n",
       "    <tr style=\"text-align: right;\">\n",
       "      <th></th>\n",
       "      <th>id</th>\n",
       "      <th>category</th>\n",
       "      <th>price_count</th>\n",
       "      <th>price_last</th>\n",
       "    </tr>\n",
       "  </thead>\n",
       "  <tbody>\n",
       "    <tr>\n",
       "      <th>1990-01-01 00:00:00</th>\n",
       "      <td>299</td>\n",
       "      <td>a</td>\n",
       "      <td>300</td>\n",
       "      <td>102.172</td>\n",
       "    </tr>\n",
       "    <tr>\n",
       "      <th>1990-01-01 00:05:00</th>\n",
       "      <td>599</td>\n",
       "      <td>g</td>\n",
       "      <td>300</td>\n",
       "      <td>101.450</td>\n",
       "    </tr>\n",
       "    <tr>\n",
       "      <th>1990-01-01 00:10:00</th>\n",
       "      <td>899</td>\n",
       "      <td>f</td>\n",
       "      <td>300</td>\n",
       "      <td>96.718</td>\n",
       "    </tr>\n",
       "    <tr>\n",
       "      <th>1990-01-01 00:15:00</th>\n",
       "      <td>1199</td>\n",
       "      <td>e</td>\n",
       "      <td>300</td>\n",
       "      <td>96.345</td>\n",
       "    </tr>\n",
       "    <tr>\n",
       "      <th>1990-01-01 00:20:00</th>\n",
       "      <td>1499</td>\n",
       "      <td>d</td>\n",
       "      <td>300</td>\n",
       "      <td>98.955</td>\n",
       "    </tr>\n",
       "    <tr>\n",
       "      <th>...</th>\n",
       "      <td>...</td>\n",
       "      <td>...</td>\n",
       "      <td>...</td>\n",
       "      <td>...</td>\n",
       "    </tr>\n",
       "    <tr>\n",
       "      <th>1990-05-19 20:55:00</th>\n",
       "      <td>11998799</td>\n",
       "      <td>d</td>\n",
       "      <td>300</td>\n",
       "      <td>100.277</td>\n",
       "    </tr>\n",
       "    <tr>\n",
       "      <th>1990-05-19 21:00:00</th>\n",
       "      <td>11999099</td>\n",
       "      <td>c</td>\n",
       "      <td>300</td>\n",
       "      <td>103.596</td>\n",
       "    </tr>\n",
       "    <tr>\n",
       "      <th>1990-05-19 21:05:00</th>\n",
       "      <td>11999399</td>\n",
       "      <td>b</td>\n",
       "      <td>300</td>\n",
       "      <td>96.182</td>\n",
       "    </tr>\n",
       "    <tr>\n",
       "      <th>1990-05-19 21:10:00</th>\n",
       "      <td>11999699</td>\n",
       "      <td>a</td>\n",
       "      <td>300</td>\n",
       "      <td>99.911</td>\n",
       "    </tr>\n",
       "    <tr>\n",
       "      <th>1990-05-19 21:15:00</th>\n",
       "      <td>11999999</td>\n",
       "      <td>g</td>\n",
       "      <td>300</td>\n",
       "      <td>97.899</td>\n",
       "    </tr>\n",
       "  </tbody>\n",
       "</table>\n",
       "<p>40000 rows × 4 columns</p>\n",
       "</div>"
      ],
      "text/plain": [
       "                           id category  price_count  price_last\n",
       "1990-01-01 00:00:00       299        a          300     102.172\n",
       "1990-01-01 00:05:00       599        g          300     101.450\n",
       "1990-01-01 00:10:00       899        f          300      96.718\n",
       "1990-01-01 00:15:00      1199        e          300      96.345\n",
       "1990-01-01 00:20:00      1499        d          300      98.955\n",
       "...                       ...      ...          ...         ...\n",
       "1990-05-19 20:55:00  11998799        d          300     100.277\n",
       "1990-05-19 21:00:00  11999099        c          300     103.596\n",
       "1990-05-19 21:05:00  11999399        b          300      96.182\n",
       "1990-05-19 21:10:00  11999699        a          300      99.911\n",
       "1990-05-19 21:15:00  11999999        g          300      97.899\n",
       "\n",
       "[40000 rows x 4 columns]"
      ]
     },
     "execution_count": 12,
     "metadata": {},
     "output_type": "execute_result"
    }
   ],
   "source": [
    "%%time\n",
    "lib.read(sym, query_builder=q2).data"
   ]
  },
  {
   "cell_type": "markdown",
   "id": "82ee0316-73a6-41e0-92c6-04c22cc449bb",
   "metadata": {},
   "source": [
    "## 3. Processing Pipeline: Chaining Operations\n",
    "\n",
    "* Downsample to 2.5-minutes frequency\n",
    "* Group the resampled data by the category column\n",
    "* Aggregate the category groups using mean"
   ]
  },
  {
   "cell_type": "code",
   "execution_count": 13,
   "id": "cce9e5d3-a479-44f3-b877-56be688be9a0",
   "metadata": {},
   "outputs": [],
   "source": [
    "q3 = adb.QueryBuilder()\n",
    "q3 = q3.resample('2min30s').agg({'id': 'min', 'category': 'first'}).groupby('category').agg({'id': 'mean'})"
   ]
  },
  {
   "cell_type": "code",
   "execution_count": 14,
   "id": "8d597ad7-56e7-4d11-830b-e77e0b3671f6",
   "metadata": {},
   "outputs": [
    {
     "name": "stdout",
     "output_type": "stream",
     "text": [
      "CPU times: user 1.12 s, sys: 309 ms, total: 1.43 s\n",
      "Wall time: 183 ms\n"
     ]
    },
    {
     "data": {
      "text/html": [
       "<div>\n",
       "<style scoped>\n",
       "    .dataframe tbody tr th:only-of-type {\n",
       "        vertical-align: middle;\n",
       "    }\n",
       "\n",
       "    .dataframe tbody tr th {\n",
       "        vertical-align: top;\n",
       "    }\n",
       "\n",
       "    .dataframe thead th {\n",
       "        text-align: right;\n",
       "    }\n",
       "</style>\n",
       "<table border=\"1\" class=\"dataframe\">\n",
       "  <thead>\n",
       "    <tr style=\"text-align: right;\">\n",
       "      <th></th>\n",
       "      <th>id</th>\n",
       "    </tr>\n",
       "    <tr>\n",
       "      <th>category</th>\n",
       "      <th></th>\n",
       "    </tr>\n",
       "  </thead>\n",
       "  <tbody>\n",
       "    <tr>\n",
       "      <th>a</th>\n",
       "      <td>5999700.0</td>\n",
       "    </tr>\n",
       "    <tr>\n",
       "      <th>b</th>\n",
       "      <td>5999925.0</td>\n",
       "    </tr>\n",
       "    <tr>\n",
       "      <th>d</th>\n",
       "      <td>5999850.0</td>\n",
       "    </tr>\n",
       "    <tr>\n",
       "      <th>e</th>\n",
       "      <td>6000075.0</td>\n",
       "    </tr>\n",
       "    <tr>\n",
       "      <th>f</th>\n",
       "      <td>5999775.0</td>\n",
       "    </tr>\n",
       "    <tr>\n",
       "      <th>g</th>\n",
       "      <td>6000000.0</td>\n",
       "    </tr>\n",
       "    <tr>\n",
       "      <th>c</th>\n",
       "      <td>6000150.0</td>\n",
       "    </tr>\n",
       "  </tbody>\n",
       "</table>\n",
       "</div>"
      ],
      "text/plain": [
       "                 id\n",
       "category           \n",
       "a         5999700.0\n",
       "b         5999925.0\n",
       "d         5999850.0\n",
       "e         6000075.0\n",
       "f         5999775.0\n",
       "g         6000000.0\n",
       "c         6000150.0"
      ]
     },
     "execution_count": 14,
     "metadata": {},
     "output_type": "execute_result"
    }
   ],
   "source": [
    "%%time\n",
    "lib.read(sym, query_builder=q3).data"
   ]
  },
  {
   "cell_type": "markdown",
   "id": "d3a9268e-f843-4bd6-a2f2-b4f51b50f0ce",
   "metadata": {},
   "source": [
    "## 4. Example: OHLC (Open High Low Close) Bars\n",
    "\n",
    "* Downsample to 5-minute frequency\n",
    "* Use multiple aggregators on the price column\n",
    "* This is a simple example of how to convert tick data to OHLC bar data"
   ]
  },
  {
   "cell_type": "code",
   "execution_count": 15,
   "id": "5e1bccab-77a9-42fa-9c33-60486498355f",
   "metadata": {},
   "outputs": [],
   "source": [
    "freq_ohlc = '5min'\n",
    "agg_ohlc = {\n",
    "    'open': ('price', 'first'),\n",
    "    'high': ('price', 'max'),\n",
    "    'low': ('price', 'min'),\n",
    "    'close': ('price', 'last')\n",
    "}\n",
    "q_ohlc = adb.QueryBuilder().resample(freq_ohlc).agg(agg_ohlc)"
   ]
  },
  {
   "cell_type": "code",
   "execution_count": 16,
   "id": "5a5abb8e-2de9-48a9-a0a7-7bd044a8064f",
   "metadata": {},
   "outputs": [
    {
     "name": "stdout",
     "output_type": "stream",
     "text": [
      "CPU times: user 1.26 s, sys: 492 ms, total: 1.75 s\n",
      "Wall time: 118 ms\n"
     ]
    }
   ],
   "source": [
    "%%time\n",
    "ohlc_5min_bars = lib.read(sym, query_builder=q_ohlc).data"
   ]
  },
  {
   "cell_type": "code",
   "execution_count": 17,
   "id": "25d0d145-5f93-45ab-86ca-12e34c2be8c6",
   "metadata": {},
   "outputs": [
    {
     "data": {
      "text/html": [
       "<div>\n",
       "<style scoped>\n",
       "    .dataframe tbody tr th:only-of-type {\n",
       "        vertical-align: middle;\n",
       "    }\n",
       "\n",
       "    .dataframe tbody tr th {\n",
       "        vertical-align: top;\n",
       "    }\n",
       "\n",
       "    .dataframe thead th {\n",
       "        text-align: right;\n",
       "    }\n",
       "</style>\n",
       "<table border=\"1\" class=\"dataframe\">\n",
       "  <thead>\n",
       "    <tr style=\"text-align: right;\">\n",
       "      <th></th>\n",
       "      <th>close</th>\n",
       "      <th>low</th>\n",
       "      <th>high</th>\n",
       "      <th>open</th>\n",
       "    </tr>\n",
       "  </thead>\n",
       "  <tbody>\n",
       "    <tr>\n",
       "      <th>1990-01-01 00:00:00</th>\n",
       "      <td>102.172</td>\n",
       "      <td>95.076</td>\n",
       "      <td>104.992</td>\n",
       "      <td>95.176</td>\n",
       "    </tr>\n",
       "    <tr>\n",
       "      <th>1990-01-01 00:05:00</th>\n",
       "      <td>101.450</td>\n",
       "      <td>95.008</td>\n",
       "      <td>104.999</td>\n",
       "      <td>98.520</td>\n",
       "    </tr>\n",
       "    <tr>\n",
       "      <th>1990-01-01 00:10:00</th>\n",
       "      <td>96.718</td>\n",
       "      <td>95.053</td>\n",
       "      <td>104.990</td>\n",
       "      <td>103.959</td>\n",
       "    </tr>\n",
       "    <tr>\n",
       "      <th>1990-01-01 00:15:00</th>\n",
       "      <td>96.345</td>\n",
       "      <td>95.070</td>\n",
       "      <td>104.969</td>\n",
       "      <td>95.878</td>\n",
       "    </tr>\n",
       "    <tr>\n",
       "      <th>1990-01-01 00:20:00</th>\n",
       "      <td>98.955</td>\n",
       "      <td>95.011</td>\n",
       "      <td>104.983</td>\n",
       "      <td>103.538</td>\n",
       "    </tr>\n",
       "  </tbody>\n",
       "</table>\n",
       "</div>"
      ],
      "text/plain": [
       "                       close     low     high     open\n",
       "1990-01-01 00:00:00  102.172  95.076  104.992   95.176\n",
       "1990-01-01 00:05:00  101.450  95.008  104.999   98.520\n",
       "1990-01-01 00:10:00   96.718  95.053  104.990  103.959\n",
       "1990-01-01 00:15:00   96.345  95.070  104.969   95.878\n",
       "1990-01-01 00:20:00   98.955  95.011  104.983  103.538"
      ]
     },
     "execution_count": 17,
     "metadata": {},
     "output_type": "execute_result"
    }
   ],
   "source": [
    "ohlc_5min_bars.head()"
   ]
  },
  {
   "cell_type": "markdown",
   "id": "e2180f79-3792-4642-8e8b-51b9c41f7345",
   "metadata": {},
   "source": [
    "## Conclusion\n",
    "\n",
    "We have demonstrated the following about the ArcticDB resample feature:\n",
    "\n",
    "* Easy to use, especially if you already resample in Pandas\n",
    "* Very high performance - in particular much faster than reading all the data then resampling in Pandas\n",
    "* Can be combined with other query functions to build processing pipelines\n",
    "* Can be used to generate timeseries bars"
   ]
  }
 ],
 "metadata": {
  "kernelspec": {
   "display_name": "Python 3 (ipykernel)",
   "language": "python",
   "name": "python3"
  },
  "language_info": {
   "codemirror_mode": {
    "name": "ipython",
    "version": 3
   },
   "file_extension": ".py",
   "mimetype": "text/x-python",
   "name": "python",
   "nbconvert_exporter": "python",
   "pygments_lexer": "ipython3",
   "version": "3.10.12"
  },
  "widgets": {
   "application/vnd.jupyter.widget-state+json": {
    "state": {},
    "version_major": 2,
    "version_minor": 0
   }
  }
 },
 "nbformat": 4,
 "nbformat_minor": 5
}
