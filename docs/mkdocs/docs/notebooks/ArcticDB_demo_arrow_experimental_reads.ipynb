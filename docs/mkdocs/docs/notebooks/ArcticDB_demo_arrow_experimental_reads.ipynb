{
 "cells": [
  {
   "cell_type": "markdown",
   "id": "d6c62b62-3509-4c2b-9d6f-bc3dc0187c72",
   "metadata": {},
   "source": [
    "# ArtcicDB Experimental Arrow Reading Demo"
   ]
  },
  {
   "cell_type": "markdown",
   "id": "6a677f71-55d8-446d-a372-8b5bb0bc7e02",
   "metadata": {},
   "source": [
    "### This notebook demonstrates the first cut of reading ArcticDB data directly into pyarrow tables. This is still an experimental feature, with both the API and behaviours subject to change in minor or patch releases, and under no circumstances should be deployed to production environments. There are still a lot of rough edges, many of which are highlighted below, that will be addressed in future releases. In addition, ArcticDB does not yet support writing pyarrow tables directly, and so Pandas is still needed in the demo.\n",
    "\n",
    "### Performance-wise, numeric data will generally be identical to reading as Pandas. For string data, Arrow is always faster as the GIL is not needed to create string columns in Arrow."
   ]
  },
  {
   "cell_type": "markdown",
   "id": "ec71d190-49c7-4d24-bea9-c27b72f5a2b6",
   "metadata": {},
   "source": [
    "## Preamble"
   ]
  },
  {
   "cell_type": "code",
   "execution_count": 1,
   "id": "9b93432d-a9f5-4e32-8b39-be7cdcb382eb",
   "metadata": {},
   "outputs": [],
   "source": [
    "import numpy as np\n",
    "import pandas as pd\n",
    "import polars as pl\n",
    "import pyarrow as pa\n",
    "from arcticdb import Arctic, LibraryOptions, QueryBuilder"
   ]
  },
  {
   "cell_type": "code",
   "execution_count": 2,
   "id": "8df3c551-cbaf-4401-b9e7-427b25762a5f",
   "metadata": {},
   "outputs": [],
   "source": [
    "ac = Arctic(\"lmdb://tmp/arrow_reads_demo\")"
   ]
  },
  {
   "cell_type": "code",
   "execution_count": 3,
   "id": "242dfd1e-da6c-4186-abf2-27c6ccac922f",
   "metadata": {},
   "outputs": [],
   "source": [
    "ac.delete_library(\"arrow_static\")\n",
    "ac.delete_library(\"arrow_dynamic\")\n",
    "lib = ac.create_library(\"arrow_static\")\n",
    "lib_dyn = ac.create_library(\"arrow_dynamic\", LibraryOptions(dynamic_schema=True))"
   ]
  },
  {
   "cell_type": "code",
   "execution_count": 4,
   "id": "174660b5-0c46-4152-b5c3-5e49a6ec76d8",
   "metadata": {},
   "outputs": [],
   "source": [
    "sym = \"test\""
   ]
  },
  {
   "cell_type": "markdown",
   "id": "83fdd49c-2a27-4122-a809-aaccaeac309b",
   "metadata": {},
   "source": [
    "## Helper function for pretty-printing pyarrow tables as the default repr isn't very human friendly. Note that converting a pyarrow table to a polars dataframe is zero-copy!"
   ]
  },
  {
   "cell_type": "code",
   "execution_count": 5,
   "id": "ed3ab149-8e24-4fea-b481-1dfe9e8d7245",
   "metadata": {},
   "outputs": [],
   "source": [
    "def print_table(table):\n",
    "    print(pl.from_arrow(table))"
   ]
  },
  {
   "cell_type": "markdown",
   "id": "bd6573bb-1bbf-42ac-9c0c-0c99fa6df328",
   "metadata": {},
   "source": [
    "## Write some numeric data"
   ]
  },
  {
   "cell_type": "code",
   "execution_count": 6,
   "id": "6dd149ac-71c8-42a9-993e-10596975e161",
   "metadata": {},
   "outputs": [
    {
     "data": {
      "text/html": [
       "<div>\n",
       "<style scoped>\n",
       "    .dataframe tbody tr th:only-of-type {\n",
       "        vertical-align: middle;\n",
       "    }\n",
       "\n",
       "    .dataframe tbody tr th {\n",
       "        vertical-align: top;\n",
       "    }\n",
       "\n",
       "    .dataframe thead th {\n",
       "        text-align: right;\n",
       "    }\n",
       "</style>\n",
       "<table border=\"1\" class=\"dataframe\">\n",
       "  <thead>\n",
       "    <tr style=\"text-align: right;\">\n",
       "      <th></th>\n",
       "      <th>col1</th>\n",
       "      <th>col2</th>\n",
       "    </tr>\n",
       "  </thead>\n",
       "  <tbody>\n",
       "    <tr>\n",
       "      <th>0</th>\n",
       "      <td>0</td>\n",
       "      <td>10.0</td>\n",
       "    </tr>\n",
       "    <tr>\n",
       "      <th>1</th>\n",
       "      <td>1</td>\n",
       "      <td>11.0</td>\n",
       "    </tr>\n",
       "    <tr>\n",
       "      <th>2</th>\n",
       "      <td>2</td>\n",
       "      <td>12.0</td>\n",
       "    </tr>\n",
       "    <tr>\n",
       "      <th>3</th>\n",
       "      <td>3</td>\n",
       "      <td>13.0</td>\n",
       "    </tr>\n",
       "    <tr>\n",
       "      <th>4</th>\n",
       "      <td>4</td>\n",
       "      <td>14.0</td>\n",
       "    </tr>\n",
       "    <tr>\n",
       "      <th>5</th>\n",
       "      <td>5</td>\n",
       "      <td>15.0</td>\n",
       "    </tr>\n",
       "    <tr>\n",
       "      <th>6</th>\n",
       "      <td>6</td>\n",
       "      <td>16.0</td>\n",
       "    </tr>\n",
       "    <tr>\n",
       "      <th>7</th>\n",
       "      <td>7</td>\n",
       "      <td>17.0</td>\n",
       "    </tr>\n",
       "    <tr>\n",
       "      <th>8</th>\n",
       "      <td>8</td>\n",
       "      <td>18.0</td>\n",
       "    </tr>\n",
       "    <tr>\n",
       "      <th>9</th>\n",
       "      <td>9</td>\n",
       "      <td>19.0</td>\n",
       "    </tr>\n",
       "  </tbody>\n",
       "</table>\n",
       "</div>"
      ],
      "text/plain": [
       "   col1  col2\n",
       "0     0  10.0\n",
       "1     1  11.0\n",
       "2     2  12.0\n",
       "3     3  13.0\n",
       "4     4  14.0\n",
       "5     5  15.0\n",
       "6     6  16.0\n",
       "7     7  17.0\n",
       "8     8  18.0\n",
       "9     9  19.0"
      ]
     },
     "execution_count": 6,
     "metadata": {},
     "output_type": "execute_result"
    }
   ],
   "source": [
    "df = pd.DataFrame({\"col1\": np.arange(10, dtype=np.int64), \"col2\": np.arange(10, 20, dtype=np.float64)})\n",
    "lib.write(sym, df)\n",
    "df"
   ]
  },
  {
   "cell_type": "markdown",
   "id": "f0b8ef49-3b92-4805-872a-eb0875959f87",
   "metadata": {},
   "source": [
    "## Read back as a pyarrow Table"
   ]
  },
  {
   "cell_type": "code",
   "execution_count": 7,
   "id": "df1c3b81-9727-4a3e-8e76-31878c82a4a7",
   "metadata": {},
   "outputs": [
    {
     "name": "stdout",
     "output_type": "stream",
     "text": [
      "<class 'pyarrow.lib.Table'>\n"
     ]
    },
    {
     "data": {
      "text/plain": [
       "pyarrow.Table\n",
       "col1: int64\n",
       "col2: double\n",
       "----\n",
       "col1: [[0,1,2,3,4,5,6,7,8,9]]\n",
       "col2: [[10,11,12,13,14,15,16,17,18,19]]"
      ]
     },
     "execution_count": 7,
     "metadata": {},
     "output_type": "execute_result"
    }
   ],
   "source": [
    "from arcticdb import OutputFormat\n",
    "table = lib.read(sym, output_format=OutputFormat.EXPERIMENTAL_ARROW).data\n",
    "print(type(table))\n",
    "table"
   ]
  },
  {
   "cell_type": "code",
   "execution_count": 8,
   "id": "ddf00f59-53c1-4869-a8a2-44e8bc6e60cc",
   "metadata": {},
   "outputs": [
    {
     "name": "stdout",
     "output_type": "stream",
     "text": [
      "shape: (10, 2)\n",
      "┌──────┬──────┐\n",
      "│ col1 ┆ col2 │\n",
      "│ ---  ┆ ---  │\n",
      "│ i64  ┆ f64  │\n",
      "╞══════╪══════╡\n",
      "│ 0    ┆ 10.0 │\n",
      "│ 1    ┆ 11.0 │\n",
      "│ 2    ┆ 12.0 │\n",
      "│ 3    ┆ 13.0 │\n",
      "│ 4    ┆ 14.0 │\n",
      "│ 5    ┆ 15.0 │\n",
      "│ 6    ┆ 16.0 │\n",
      "│ 7    ┆ 17.0 │\n",
      "│ 8    ┆ 18.0 │\n",
      "│ 9    ┆ 19.0 │\n",
      "└──────┴──────┘\n"
     ]
    }
   ],
   "source": [
    "print_table(table)"
   ]
  },
  {
   "cell_type": "markdown",
   "id": "e8de754e-90c7-47bb-a12b-33495fad0d83",
   "metadata": {},
   "source": [
    "### Note that Arrow has no concept of indexes, so the RangeIndex has been dropped"
   ]
  },
  {
   "cell_type": "markdown",
   "id": "8f7dce55-bb59-4830-a8b6-ade87d5ef755",
   "metadata": {},
   "source": [
    "## Argument supported by all read-like methods (read, head, tail, batch_read, batch_read_and_join), and can also use (case-insensitive) strings instead of importing enum"
   ]
  },
  {
   "cell_type": "code",
   "execution_count": 9,
   "id": "960cc5b2-9f5c-49ba-9a40-be55c6ae0ca3",
   "metadata": {},
   "outputs": [
    {
     "name": "stdout",
     "output_type": "stream",
     "text": [
      "shape: (5, 2)\n",
      "┌──────┬──────┐\n",
      "│ col1 ┆ col2 │\n",
      "│ ---  ┆ ---  │\n",
      "│ i64  ┆ f64  │\n",
      "╞══════╪══════╡\n",
      "│ 0    ┆ 10.0 │\n",
      "│ 1    ┆ 11.0 │\n",
      "│ 2    ┆ 12.0 │\n",
      "│ 3    ┆ 13.0 │\n",
      "│ 4    ┆ 14.0 │\n",
      "└──────┴──────┘\n",
      "shape: (5, 2)\n",
      "┌──────┬──────┐\n",
      "│ col1 ┆ col2 │\n",
      "│ ---  ┆ ---  │\n",
      "│ i64  ┆ f64  │\n",
      "╞══════╪══════╡\n",
      "│ 5    ┆ 15.0 │\n",
      "│ 6    ┆ 16.0 │\n",
      "│ 7    ┆ 17.0 │\n",
      "│ 8    ┆ 18.0 │\n",
      "│ 9    ┆ 19.0 │\n",
      "└──────┴──────┘\n"
     ]
    }
   ],
   "source": [
    "table = lib.head(sym, output_format=OutputFormat.EXPERIMENTAL_ARROW).data\n",
    "print_table(table)\n",
    "table = lib.tail(sym, output_format=\"experimental_arrow\").data\n",
    "print_table(table)"
   ]
  },
  {
   "cell_type": "markdown",
   "id": "9faf94c3-bde3-440b-9bfb-799e9f0602b8",
   "metadata": {},
   "source": [
    "## Can also set a flag on the library object so you do not need to pass the output format every time"
   ]
  },
  {
   "cell_type": "code",
   "execution_count": 10,
   "id": "e4c1a7cf-f223-4273-84f2-9d3c8dcce21a",
   "metadata": {},
   "outputs": [
    {
     "name": "stdout",
     "output_type": "stream",
     "text": [
      "shape: (5, 2)\n",
      "┌──────┬──────┐\n",
      "│ col1 ┆ col2 │\n",
      "│ ---  ┆ ---  │\n",
      "│ i64  ┆ f64  │\n",
      "╞══════╪══════╡\n",
      "│ 0    ┆ 10.0 │\n",
      "│ 1    ┆ 11.0 │\n",
      "│ 2    ┆ 12.0 │\n",
      "│ 3    ┆ 13.0 │\n",
      "│ 4    ┆ 14.0 │\n",
      "└──────┴──────┘\n"
     ]
    }
   ],
   "source": [
    "lib = ac.get_library(\"arrow_static\", output_format=OutputFormat.EXPERIMENTAL_ARROW)\n",
    "print_table(lib.head(sym).data)"
   ]
  },
  {
   "cell_type": "markdown",
   "id": "5bdcc95b-5dee-4bc6-9ba3-026ef02a852a",
   "metadata": {},
   "source": [
    "### Or on the entire `Arctic` instance, so all libraries fetched from this instance use Arrow as the default return type"
   ]
  },
  {
   "cell_type": "markdown",
   "id": "bcb30551-b293-4d76-be14-24c9147f35f9",
   "metadata": {},
   "source": [
    "`ac = Arctic(\"lmdb://tmp/arrow_reads_demo\", output_format=OutputFormat.EXPERIMENTAL_ARROW)`"
   ]
  },
  {
   "cell_type": "markdown",
   "id": "5e5d9e23-1827-4010-94fa-b5464447eefb",
   "metadata": {},
   "source": [
    "## In this case you can override back to Pandas output format for individual read-like calls"
   ]
  },
  {
   "cell_type": "code",
   "execution_count": 11,
   "id": "e99eebb4-d9ae-4872-a161-abff22be81f6",
   "metadata": {},
   "outputs": [
    {
     "data": {
      "text/html": [
       "<div>\n",
       "<style scoped>\n",
       "    .dataframe tbody tr th:only-of-type {\n",
       "        vertical-align: middle;\n",
       "    }\n",
       "\n",
       "    .dataframe tbody tr th {\n",
       "        vertical-align: top;\n",
       "    }\n",
       "\n",
       "    .dataframe thead th {\n",
       "        text-align: right;\n",
       "    }\n",
       "</style>\n",
       "<table border=\"1\" class=\"dataframe\">\n",
       "  <thead>\n",
       "    <tr style=\"text-align: right;\">\n",
       "      <th></th>\n",
       "      <th>col1</th>\n",
       "      <th>col2</th>\n",
       "    </tr>\n",
       "  </thead>\n",
       "  <tbody>\n",
       "    <tr>\n",
       "      <th>0</th>\n",
       "      <td>0</td>\n",
       "      <td>10.0</td>\n",
       "    </tr>\n",
       "    <tr>\n",
       "      <th>1</th>\n",
       "      <td>1</td>\n",
       "      <td>11.0</td>\n",
       "    </tr>\n",
       "    <tr>\n",
       "      <th>2</th>\n",
       "      <td>2</td>\n",
       "      <td>12.0</td>\n",
       "    </tr>\n",
       "    <tr>\n",
       "      <th>3</th>\n",
       "      <td>3</td>\n",
       "      <td>13.0</td>\n",
       "    </tr>\n",
       "    <tr>\n",
       "      <th>4</th>\n",
       "      <td>4</td>\n",
       "      <td>14.0</td>\n",
       "    </tr>\n",
       "    <tr>\n",
       "      <th>5</th>\n",
       "      <td>5</td>\n",
       "      <td>15.0</td>\n",
       "    </tr>\n",
       "    <tr>\n",
       "      <th>6</th>\n",
       "      <td>6</td>\n",
       "      <td>16.0</td>\n",
       "    </tr>\n",
       "    <tr>\n",
       "      <th>7</th>\n",
       "      <td>7</td>\n",
       "      <td>17.0</td>\n",
       "    </tr>\n",
       "    <tr>\n",
       "      <th>8</th>\n",
       "      <td>8</td>\n",
       "      <td>18.0</td>\n",
       "    </tr>\n",
       "    <tr>\n",
       "      <th>9</th>\n",
       "      <td>9</td>\n",
       "      <td>19.0</td>\n",
       "    </tr>\n",
       "  </tbody>\n",
       "</table>\n",
       "</div>"
      ],
      "text/plain": [
       "   col1  col2\n",
       "0     0  10.0\n",
       "1     1  11.0\n",
       "2     2  12.0\n",
       "3     3  13.0\n",
       "4     4  14.0\n",
       "5     5  15.0\n",
       "6     6  16.0\n",
       "7     7  17.0\n",
       "8     8  18.0\n",
       "9     9  19.0"
      ]
     },
     "execution_count": 11,
     "metadata": {},
     "output_type": "execute_result"
    }
   ],
   "source": [
    "lib.read(sym, output_format=OutputFormat.PANDAS).data"
   ]
  },
  {
   "cell_type": "markdown",
   "id": "8b7b21b0-17ac-41ab-b22e-dcc7bec13eda",
   "metadata": {},
   "source": [
    "## Timeseries indexes appear as first column"
   ]
  },
  {
   "cell_type": "code",
   "execution_count": 12,
   "id": "4f714e04-f40e-4035-b8f8-4ef1602aae0b",
   "metadata": {},
   "outputs": [
    {
     "data": {
      "text/html": [
       "<div>\n",
       "<style scoped>\n",
       "    .dataframe tbody tr th:only-of-type {\n",
       "        vertical-align: middle;\n",
       "    }\n",
       "\n",
       "    .dataframe tbody tr th {\n",
       "        vertical-align: top;\n",
       "    }\n",
       "\n",
       "    .dataframe thead th {\n",
       "        text-align: right;\n",
       "    }\n",
       "</style>\n",
       "<table border=\"1\" class=\"dataframe\">\n",
       "  <thead>\n",
       "    <tr style=\"text-align: right;\">\n",
       "      <th></th>\n",
       "      <th>col1</th>\n",
       "      <th>col2</th>\n",
       "    </tr>\n",
       "    <tr>\n",
       "      <th>ts</th>\n",
       "      <th></th>\n",
       "      <th></th>\n",
       "    </tr>\n",
       "  </thead>\n",
       "  <tbody>\n",
       "    <tr>\n",
       "      <th>2025-01-01</th>\n",
       "      <td>0</td>\n",
       "      <td>10.0</td>\n",
       "    </tr>\n",
       "    <tr>\n",
       "      <th>2025-01-02</th>\n",
       "      <td>1</td>\n",
       "      <td>11.0</td>\n",
       "    </tr>\n",
       "    <tr>\n",
       "      <th>2025-01-03</th>\n",
       "      <td>2</td>\n",
       "      <td>12.0</td>\n",
       "    </tr>\n",
       "    <tr>\n",
       "      <th>2025-01-04</th>\n",
       "      <td>3</td>\n",
       "      <td>13.0</td>\n",
       "    </tr>\n",
       "    <tr>\n",
       "      <th>2025-01-05</th>\n",
       "      <td>4</td>\n",
       "      <td>14.0</td>\n",
       "    </tr>\n",
       "    <tr>\n",
       "      <th>2025-01-06</th>\n",
       "      <td>5</td>\n",
       "      <td>15.0</td>\n",
       "    </tr>\n",
       "    <tr>\n",
       "      <th>2025-01-07</th>\n",
       "      <td>6</td>\n",
       "      <td>16.0</td>\n",
       "    </tr>\n",
       "    <tr>\n",
       "      <th>2025-01-08</th>\n",
       "      <td>7</td>\n",
       "      <td>17.0</td>\n",
       "    </tr>\n",
       "    <tr>\n",
       "      <th>2025-01-09</th>\n",
       "      <td>8</td>\n",
       "      <td>18.0</td>\n",
       "    </tr>\n",
       "    <tr>\n",
       "      <th>2025-01-10</th>\n",
       "      <td>9</td>\n",
       "      <td>19.0</td>\n",
       "    </tr>\n",
       "  </tbody>\n",
       "</table>\n",
       "</div>"
      ],
      "text/plain": [
       "            col1  col2\n",
       "ts                    \n",
       "2025-01-01     0  10.0\n",
       "2025-01-02     1  11.0\n",
       "2025-01-03     2  12.0\n",
       "2025-01-04     3  13.0\n",
       "2025-01-05     4  14.0\n",
       "2025-01-06     5  15.0\n",
       "2025-01-07     6  16.0\n",
       "2025-01-08     7  17.0\n",
       "2025-01-09     8  18.0\n",
       "2025-01-10     9  19.0"
      ]
     },
     "execution_count": 12,
     "metadata": {},
     "output_type": "execute_result"
    }
   ],
   "source": [
    "df = pd.DataFrame({\"col1\": np.arange(10, dtype=np.int64), \"col2\": np.arange(10, 20, dtype=np.float64)}, index=pd.date_range(\"2025-01-01\", periods=10))\n",
    "df.index.name = \"ts\"\n",
    "df"
   ]
  },
  {
   "cell_type": "code",
   "execution_count": 13,
   "id": "a04c8ea1-0a44-44c6-bc27-32ae8b3d5872",
   "metadata": {},
   "outputs": [
    {
     "name": "stdout",
     "output_type": "stream",
     "text": [
      "shape: (5, 3)\n",
      "┌─────────────────────┬──────┬──────┐\n",
      "│ ts                  ┆ col1 ┆ col2 │\n",
      "│ ---                 ┆ ---  ┆ ---  │\n",
      "│ datetime[ns]        ┆ i64  ┆ f64  │\n",
      "╞═════════════════════╪══════╪══════╡\n",
      "│ 2025-01-01 00:00:00 ┆ 0    ┆ 10.0 │\n",
      "│ 2025-01-02 00:00:00 ┆ 1    ┆ 11.0 │\n",
      "│ 2025-01-03 00:00:00 ┆ 2    ┆ 12.0 │\n",
      "│ 2025-01-04 00:00:00 ┆ 3    ┆ 13.0 │\n",
      "│ 2025-01-05 00:00:00 ┆ 4    ┆ 14.0 │\n",
      "└─────────────────────┴──────┴──────┘\n"
     ]
    }
   ],
   "source": [
    "lib.write(sym, df)\n",
    "table = lib.head(sym).data\n",
    "print_table(table)"
   ]
  },
  {
   "cell_type": "markdown",
   "id": "5ede9724-bcd1-4502-8880-f2a7c9f1159f",
   "metadata": {},
   "source": [
    "## Timezones are also maintained. If the index does not have a name, it will default to \"index\""
   ]
  },
  {
   "cell_type": "code",
   "execution_count": 14,
   "id": "cfc90885-1ae3-4df6-8c0c-d8a90e1ada0f",
   "metadata": {},
   "outputs": [
    {
     "data": {
      "text/html": [
       "<div>\n",
       "<style scoped>\n",
       "    .dataframe tbody tr th:only-of-type {\n",
       "        vertical-align: middle;\n",
       "    }\n",
       "\n",
       "    .dataframe tbody tr th {\n",
       "        vertical-align: top;\n",
       "    }\n",
       "\n",
       "    .dataframe thead th {\n",
       "        text-align: right;\n",
       "    }\n",
       "</style>\n",
       "<table border=\"1\" class=\"dataframe\">\n",
       "  <thead>\n",
       "    <tr style=\"text-align: right;\">\n",
       "      <th></th>\n",
       "      <th>col1</th>\n",
       "      <th>col2</th>\n",
       "    </tr>\n",
       "  </thead>\n",
       "  <tbody>\n",
       "    <tr>\n",
       "      <th>2025-01-01 00:00:00-05:00</th>\n",
       "      <td>0</td>\n",
       "      <td>10.0</td>\n",
       "    </tr>\n",
       "    <tr>\n",
       "      <th>2025-01-02 00:00:00-05:00</th>\n",
       "      <td>1</td>\n",
       "      <td>11.0</td>\n",
       "    </tr>\n",
       "    <tr>\n",
       "      <th>2025-01-03 00:00:00-05:00</th>\n",
       "      <td>2</td>\n",
       "      <td>12.0</td>\n",
       "    </tr>\n",
       "    <tr>\n",
       "      <th>2025-01-04 00:00:00-05:00</th>\n",
       "      <td>3</td>\n",
       "      <td>13.0</td>\n",
       "    </tr>\n",
       "    <tr>\n",
       "      <th>2025-01-05 00:00:00-05:00</th>\n",
       "      <td>4</td>\n",
       "      <td>14.0</td>\n",
       "    </tr>\n",
       "    <tr>\n",
       "      <th>2025-01-06 00:00:00-05:00</th>\n",
       "      <td>5</td>\n",
       "      <td>15.0</td>\n",
       "    </tr>\n",
       "    <tr>\n",
       "      <th>2025-01-07 00:00:00-05:00</th>\n",
       "      <td>6</td>\n",
       "      <td>16.0</td>\n",
       "    </tr>\n",
       "    <tr>\n",
       "      <th>2025-01-08 00:00:00-05:00</th>\n",
       "      <td>7</td>\n",
       "      <td>17.0</td>\n",
       "    </tr>\n",
       "    <tr>\n",
       "      <th>2025-01-09 00:00:00-05:00</th>\n",
       "      <td>8</td>\n",
       "      <td>18.0</td>\n",
       "    </tr>\n",
       "    <tr>\n",
       "      <th>2025-01-10 00:00:00-05:00</th>\n",
       "      <td>9</td>\n",
       "      <td>19.0</td>\n",
       "    </tr>\n",
       "  </tbody>\n",
       "</table>\n",
       "</div>"
      ],
      "text/plain": [
       "                           col1  col2\n",
       "2025-01-01 00:00:00-05:00     0  10.0\n",
       "2025-01-02 00:00:00-05:00     1  11.0\n",
       "2025-01-03 00:00:00-05:00     2  12.0\n",
       "2025-01-04 00:00:00-05:00     3  13.0\n",
       "2025-01-05 00:00:00-05:00     4  14.0\n",
       "2025-01-06 00:00:00-05:00     5  15.0\n",
       "2025-01-07 00:00:00-05:00     6  16.0\n",
       "2025-01-08 00:00:00-05:00     7  17.0\n",
       "2025-01-09 00:00:00-05:00     8  18.0\n",
       "2025-01-10 00:00:00-05:00     9  19.0"
      ]
     },
     "execution_count": 14,
     "metadata": {},
     "output_type": "execute_result"
    }
   ],
   "source": [
    "df = pd.DataFrame({\"col1\": np.arange(10, dtype=np.int64), \"col2\": np.arange(10, 20, dtype=np.float64)}, index=pd.date_range(\"2025-01-01\", periods=10, tz=\"America/New_York\"))\n",
    "df"
   ]
  },
  {
   "cell_type": "code",
   "execution_count": 15,
   "id": "bfc4d467-8c42-4a60-b84b-b57a8a4ace1b",
   "metadata": {},
   "outputs": [
    {
     "name": "stdout",
     "output_type": "stream",
     "text": [
      "shape: (5, 3)\n",
      "┌────────────────────────────────┬──────┬──────┐\n",
      "│ index                          ┆ col1 ┆ col2 │\n",
      "│ ---                            ┆ ---  ┆ ---  │\n",
      "│ datetime[ns, America/New_York] ┆ i64  ┆ f64  │\n",
      "╞════════════════════════════════╪══════╪══════╡\n",
      "│ 2025-01-01 00:00:00 EST        ┆ 0    ┆ 10.0 │\n",
      "│ 2025-01-02 00:00:00 EST        ┆ 1    ┆ 11.0 │\n",
      "│ 2025-01-03 00:00:00 EST        ┆ 2    ┆ 12.0 │\n",
      "│ 2025-01-04 00:00:00 EST        ┆ 3    ┆ 13.0 │\n",
      "│ 2025-01-05 00:00:00 EST        ┆ 4    ┆ 14.0 │\n",
      "└────────────────────────────────┴──────┴──────┘\n"
     ]
    }
   ],
   "source": [
    "lib.write(sym, df)\n",
    "table = lib.head(sym).data\n",
    "print_table(table)"
   ]
  },
  {
   "cell_type": "markdown",
   "id": "9c21d95e-d57e-4e1c-8b67-fb7060a5f39b",
   "metadata": {},
   "source": [
    "## Column selection and date_range filtering work as expected"
   ]
  },
  {
   "cell_type": "code",
   "execution_count": 16,
   "id": "e978dfd1-9164-4875-9c11-6b5d258fa81c",
   "metadata": {},
   "outputs": [
    {
     "name": "stdout",
     "output_type": "stream",
     "text": [
      "shape: (3, 2)\n",
      "┌────────────────────────────────┬──────┐\n",
      "│ index                          ┆ col1 │\n",
      "│ ---                            ┆ ---  │\n",
      "│ datetime[ns, America/New_York] ┆ i64  │\n",
      "╞════════════════════════════════╪══════╡\n",
      "│ 2025-01-03 00:00:00 EST        ┆ 2    │\n",
      "│ 2025-01-04 00:00:00 EST        ┆ 3    │\n",
      "│ 2025-01-05 00:00:00 EST        ┆ 4    │\n",
      "└────────────────────────────────┴──────┘\n"
     ]
    }
   ],
   "source": [
    "table = lib.read(sym, date_range=(pd.Timestamp(\"2025-01-03\"), pd.Timestamp(\"2025-01-06\")), columns=[\"col1\"], output_format=\"EXPERIMENTAL_ARROW\").data\n",
    "print_table(table)"
   ]
  },
  {
   "cell_type": "markdown",
   "id": "ab9bc734-89ed-4683-b9e5-6ce0d5583dfd",
   "metadata": {},
   "source": [
    "## Appends, updates, and large writes that result in row-slicing result in a returned table made up of multiple record batches\n",
    "Each record batch corresponds to one row-slice as stored on disk in ArcticDB, and can be thought of as a row-slice within the table as well.\n",
    "\n",
    "All this means in practice is that each column is backed by one buffer per record batch, rather than one large contiguous buffer, all subsequent operations will work regardless of the underlying structure.\n",
    "\n",
    "We will add an option in future to be able to read directly into a single record batch."
   ]
  },
  {
   "cell_type": "code",
   "execution_count": 17,
   "id": "7e57da3b-9156-4433-9188-80a85ae07955",
   "metadata": {},
   "outputs": [
    {
     "data": {
      "text/plain": [
       "pyarrow.Table\n",
       "col1: int64\n",
       "----\n",
       "col1: [[0,1],[2,3]]"
      ]
     },
     "execution_count": 17,
     "metadata": {},
     "output_type": "execute_result"
    }
   ],
   "source": [
    "df_0 = pd.DataFrame({\"col1\": np.arange(2, dtype=np.int64)})\n",
    "df_1 = pd.DataFrame({\"col1\": np.arange(2, 4, dtype=np.int64)})\n",
    "lib.write(sym, df_0)\n",
    "lib.append(sym, df_1)\n",
    "table = lib.read(sym).data\n",
    "table"
   ]
  },
  {
   "cell_type": "code",
   "execution_count": 18,
   "id": "d8d1668a-5c08-4edf-816e-54e3b1c73555",
   "metadata": {},
   "outputs": [
    {
     "name": "stdout",
     "output_type": "stream",
     "text": [
      "shape: (4, 1)\n",
      "┌──────┐\n",
      "│ col1 │\n",
      "│ ---  │\n",
      "│ i64  │\n",
      "╞══════╡\n",
      "│ 0    │\n",
      "│ 1    │\n",
      "│ 2    │\n",
      "│ 3    │\n",
      "└──────┘\n"
     ]
    }
   ],
   "source": [
    "print_table(table)"
   ]
  },
  {
   "cell_type": "markdown",
   "id": "5c2e0cce-9c0a-4bc9-b9f8-0f2e56c2ab56",
   "metadata": {},
   "source": [
    "## These buffers can be combined back into one\n",
    "This involves one allocation per column and num_record_batches*num_columns memcpys, so is not free, but may improve performance of subsequent processing operations, particularly if the data was highly fragmented on disk"
   ]
  },
  {
   "cell_type": "code",
   "execution_count": 19,
   "id": "5ca9a985-e9fd-4b23-a330-4ec2d41e7c22",
   "metadata": {},
   "outputs": [
    {
     "data": {
      "text/plain": [
       "pyarrow.Table\n",
       "col1: int64\n",
       "----\n",
       "col1: [[0,1,2,3]]"
      ]
     },
     "execution_count": 19,
     "metadata": {},
     "output_type": "execute_result"
    }
   ],
   "source": [
    "combined_table = table.combine_chunks()\n",
    "combined_table"
   ]
  },
  {
   "cell_type": "code",
   "execution_count": 20,
   "id": "5190529e-d94a-431f-b2df-1453e3d7b3db",
   "metadata": {},
   "outputs": [
    {
     "data": {
      "text/plain": [
       "True"
      ]
     },
     "execution_count": 20,
     "metadata": {},
     "output_type": "execute_result"
    }
   ],
   "source": [
    "combined_table.equals(table)"
   ]
  },
  {
   "cell_type": "markdown",
   "id": "afa99152-3db4-4554-a3e1-ed914d5c9b41",
   "metadata": {},
   "source": [
    "## Write some strings"
   ]
  },
  {
   "cell_type": "code",
   "execution_count": 21,
   "id": "96055986-cdba-4b7a-a338-0a3ae26ab88a",
   "metadata": {},
   "outputs": [
    {
     "data": {
      "text/html": [
       "<div>\n",
       "<style scoped>\n",
       "    .dataframe tbody tr th:only-of-type {\n",
       "        vertical-align: middle;\n",
       "    }\n",
       "\n",
       "    .dataframe tbody tr th {\n",
       "        vertical-align: top;\n",
       "    }\n",
       "\n",
       "    .dataframe thead th {\n",
       "        text-align: right;\n",
       "    }\n",
       "</style>\n",
       "<table border=\"1\" class=\"dataframe\">\n",
       "  <thead>\n",
       "    <tr style=\"text-align: right;\">\n",
       "      <th></th>\n",
       "      <th>col1</th>\n",
       "    </tr>\n",
       "  </thead>\n",
       "  <tbody>\n",
       "    <tr>\n",
       "      <th>0</th>\n",
       "      <td>hello</td>\n",
       "    </tr>\n",
       "    <tr>\n",
       "      <th>1</th>\n",
       "      <td>None</td>\n",
       "    </tr>\n",
       "    <tr>\n",
       "      <th>2</th>\n",
       "      <td>bonjour</td>\n",
       "    </tr>\n",
       "    <tr>\n",
       "      <th>3</th>\n",
       "      <td>gutentag</td>\n",
       "    </tr>\n",
       "    <tr>\n",
       "      <th>4</th>\n",
       "      <td>NaN</td>\n",
       "    </tr>\n",
       "    <tr>\n",
       "      <th>5</th>\n",
       "      <td>nihao</td>\n",
       "    </tr>\n",
       "  </tbody>\n",
       "</table>\n",
       "</div>"
      ],
      "text/plain": [
       "       col1\n",
       "0     hello\n",
       "1      None\n",
       "2   bonjour\n",
       "3  gutentag\n",
       "4       NaN\n",
       "5     nihao"
      ]
     },
     "execution_count": 21,
     "metadata": {},
     "output_type": "execute_result"
    }
   ],
   "source": [
    "df = pd.DataFrame({\"col1\": [\"hello\", None, \"bonjour\", \"gutentag\", np.nan, \"nihao\"]})\n",
    "df"
   ]
  },
  {
   "cell_type": "code",
   "execution_count": 22,
   "id": "61364804-6010-4325-8774-a131b8a3783c",
   "metadata": {},
   "outputs": [
    {
     "data": {
      "text/plain": [
       "VersionedItem(symbol='test', library='arrow_static', data=n/a, version=5, metadata=None, host='LMDB(path=/data/team/data/arctic_native/examples/tmp/arrow_reads_demo)', timestamp=1755856407542304768)"
      ]
     },
     "execution_count": 22,
     "metadata": {},
     "output_type": "execute_result"
    }
   ],
   "source": [
    "lib.write(sym, df)"
   ]
  },
  {
   "cell_type": "markdown",
   "id": "792616eb-a6e9-4d96-92c3-b78967a7aa35",
   "metadata": {},
   "source": [
    "## String columns are returned as the dictionary-encoded type\n",
    "This is similar to a Pandas categorical, and also to our in-memory representation of string data. It is very space efficient if the same strings appear multiple times in a column.\n",
    "\n",
    "We will add an option in the future to get the column back as a `pa.string()` or `pa.large_string()` type."
   ]
  },
  {
   "cell_type": "code",
   "execution_count": 23,
   "id": "9f9cf1ae-36bf-40ba-a14c-36c6ec7ddadc",
   "metadata": {},
   "outputs": [
    {
     "data": {
      "text/plain": [
       "pyarrow.Table\n",
       "col1: dictionary<values=large_string, indices=int32, ordered=0>\n",
       "----\n",
       "col1: [  -- dictionary:\n",
       "[\"hello\",\"bonjour\",\"gutentag\",\"nihao\"]  -- indices:\n",
       "[0,null,1,2,null,3]]"
      ]
     },
     "execution_count": 23,
     "metadata": {},
     "output_type": "execute_result"
    }
   ],
   "source": [
    "table = lib.read(sym).data\n",
    "table"
   ]
  },
  {
   "cell_type": "markdown",
   "id": "df4662fe-80c9-40cb-b329-c5023490c050",
   "metadata": {},
   "source": [
    "### Note that `None` and `NaN` values in the input dataframe will be returned as a pyarrow `null`, representing a missing value"
   ]
  },
  {
   "cell_type": "code",
   "execution_count": 24,
   "id": "b899adce-e44d-4934-8ec1-dd0b13c332fb",
   "metadata": {},
   "outputs": [
    {
     "name": "stdout",
     "output_type": "stream",
     "text": [
      "shape: (6, 1)\n",
      "┌──────────┐\n",
      "│ col1     │\n",
      "│ ---      │\n",
      "│ cat      │\n",
      "╞══════════╡\n",
      "│ hello    │\n",
      "│ null     │\n",
      "│ bonjour  │\n",
      "│ gutentag │\n",
      "│ null     │\n",
      "│ nihao    │\n",
      "└──────────┘\n"
     ]
    }
   ],
   "source": [
    "# Polars uses `cat` to mean a dictionary-encoded column\n",
    "print_table(table)"
   ]
  },
  {
   "cell_type": "markdown",
   "id": "0299ab7c-10f7-4997-b174-2338136170ff",
   "metadata": {},
   "source": [
    "## We have provided a utility function to get back to the \"default\" pyarrow string column representation"
   ]
  },
  {
   "cell_type": "code",
   "execution_count": 25,
   "id": "35f2d2b2-7d5a-4eda-9619-9fb268210b54",
   "metadata": {},
   "outputs": [
    {
     "data": {
      "text/plain": [
       "pyarrow.Table\n",
       "col1: large_string\n",
       "----\n",
       "col1: [[\"hello\",null,\"bonjour\",\"gutentag\",null,\"nihao\"]]"
      ]
     },
     "execution_count": 25,
     "metadata": {},
     "output_type": "execute_result"
    }
   ],
   "source": [
    "from arcticdb.util.arrow import stringify_dictionary_encoded_columns\n",
    "table = stringify_dictionary_encoded_columns(table)\n",
    "table"
   ]
  },
  {
   "cell_type": "markdown",
   "id": "89f89a2b-d911-42f0-a387-8df140281e4d",
   "metadata": {},
   "source": [
    "## With one argument, this will give the `large_string` type, as this is less limiting. If the total size of all strings in a column is <2GB, then you can use a smaller string type"
   ]
  },
  {
   "cell_type": "code",
   "execution_count": 26,
   "id": "72404913-3e1c-4622-a94b-739d67dcbbfc",
   "metadata": {},
   "outputs": [
    {
     "data": {
      "text/plain": [
       "pyarrow.Table\n",
       "col1: string\n",
       "----\n",
       "col1: [[\"hello\",null,\"bonjour\",\"gutentag\",null,\"nihao\"]]"
      ]
     },
     "execution_count": 26,
     "metadata": {},
     "output_type": "execute_result"
    }
   ],
   "source": [
    "table = lib.read(sym).data\n",
    "table = stringify_dictionary_encoded_columns(table, pa.string())\n",
    "table"
   ]
  },
  {
   "cell_type": "markdown",
   "id": "26e50f31-7545-4a85-a15f-1b81548ebb7f",
   "metadata": {},
   "source": [
    "## Dynamic schema follows the usual type promotion rules"
   ]
  },
  {
   "cell_type": "code",
   "execution_count": 27,
   "id": "572d3934-bc87-4b27-9a2c-1abd739ab4bd",
   "metadata": {},
   "outputs": [
    {
     "name": "stdout",
     "output_type": "stream",
     "text": [
      "shape: (4, 1)\n",
      "┌──────┐\n",
      "│ col1 │\n",
      "│ ---  │\n",
      "│ i16  │\n",
      "╞══════╡\n",
      "│ 0    │\n",
      "│ 1    │\n",
      "│ 2    │\n",
      "│ 3    │\n",
      "└──────┘\n"
     ]
    }
   ],
   "source": [
    "lib_dyn = ac.get_library(\"arrow_dynamic\", output_format=OutputFormat.EXPERIMENTAL_ARROW)\n",
    "df_0 = pd.DataFrame({\"col1\": np.arange(2, dtype=np.uint8)})\n",
    "df_1 = pd.DataFrame({\"col1\": np.arange(2, 4, dtype=np.int8)})\n",
    "lib_dyn.write(sym, df_0)\n",
    "lib_dyn.append(sym, df_1)\n",
    "table = lib_dyn.read(sym).data\n",
    "print_table(table)"
   ]
  },
  {
   "cell_type": "markdown",
   "id": "33bd8187-7598-4ae1-aa5a-4f635a5d83d4",
   "metadata": {},
   "source": [
    "## Columns that are missing from some row slices with dynamic schema are now backfilled with pyarrow nulls, rather than type-specific default values (e.g. NaN for floats)"
   ]
  },
  {
   "cell_type": "code",
   "execution_count": 28,
   "id": "4a80d248-549c-4cd8-8b36-c0a082fa8055",
   "metadata": {},
   "outputs": [
    {
     "name": "stdout",
     "output_type": "stream",
     "text": [
      "shape: (4, 2)\n",
      "┌──────┬─────────┐\n",
      "│ col1 ┆ col2    │\n",
      "│ ---  ┆ ---     │\n",
      "│ u8   ┆ cat     │\n",
      "╞══════╪═════════╡\n",
      "│ 0    ┆ null    │\n",
      "│ 1    ┆ null    │\n",
      "│ null ┆ hello   │\n",
      "│ null ┆ bonjour │\n",
      "└──────┴─────────┘\n"
     ]
    }
   ],
   "source": [
    "df_0 = pd.DataFrame({\"col1\": np.arange(2, dtype=np.uint8)})\n",
    "df_1 = pd.DataFrame({\"col2\": [\"hello\", \"bonjour\"]})\n",
    "lib_dyn.write(sym, df_0)\n",
    "lib_dyn.append(sym, df_1)\n",
    "table = lib_dyn.read(sym).data\n",
    "print_table(table)"
   ]
  },
  {
   "cell_type": "markdown",
   "id": "a946ae5a-1a84-481e-9d9b-08def880eea2",
   "metadata": {},
   "source": [
    "## Multiindexes come back as regular columns as Arrow has no concept of indexes"
   ]
  },
  {
   "cell_type": "code",
   "execution_count": 29,
   "id": "c6c7a5e6-a122-476f-94eb-aaef2eac9541",
   "metadata": {},
   "outputs": [
    {
     "data": {
      "text/html": [
       "<div>\n",
       "<style scoped>\n",
       "    .dataframe tbody tr th:only-of-type {\n",
       "        vertical-align: middle;\n",
       "    }\n",
       "\n",
       "    .dataframe tbody tr th {\n",
       "        vertical-align: top;\n",
       "    }\n",
       "\n",
       "    .dataframe thead th {\n",
       "        text-align: right;\n",
       "    }\n",
       "</style>\n",
       "<table border=\"1\" class=\"dataframe\">\n",
       "  <thead>\n",
       "    <tr style=\"text-align: right;\">\n",
       "      <th></th>\n",
       "      <th></th>\n",
       "      <th>col1</th>\n",
       "    </tr>\n",
       "    <tr>\n",
       "      <th>ts</th>\n",
       "      <th>ticker</th>\n",
       "      <th></th>\n",
       "    </tr>\n",
       "  </thead>\n",
       "  <tbody>\n",
       "    <tr>\n",
       "      <th rowspan=\"2\" valign=\"top\">2025-01-01</th>\n",
       "      <th>GOOG</th>\n",
       "      <td>0</td>\n",
       "    </tr>\n",
       "    <tr>\n",
       "      <th>APPL</th>\n",
       "      <td>1</td>\n",
       "    </tr>\n",
       "    <tr>\n",
       "      <th rowspan=\"2\" valign=\"top\">2025-01-02</th>\n",
       "      <th>GOOG</th>\n",
       "      <td>2</td>\n",
       "    </tr>\n",
       "    <tr>\n",
       "      <th>APPL</th>\n",
       "      <td>3</td>\n",
       "    </tr>\n",
       "    <tr>\n",
       "      <th rowspan=\"2\" valign=\"top\">2025-01-03</th>\n",
       "      <th>GOOG</th>\n",
       "      <td>4</td>\n",
       "    </tr>\n",
       "    <tr>\n",
       "      <th>APPL</th>\n",
       "      <td>5</td>\n",
       "    </tr>\n",
       "    <tr>\n",
       "      <th rowspan=\"2\" valign=\"top\">2025-01-04</th>\n",
       "      <th>GOOG</th>\n",
       "      <td>6</td>\n",
       "    </tr>\n",
       "    <tr>\n",
       "      <th>APPL</th>\n",
       "      <td>7</td>\n",
       "    </tr>\n",
       "    <tr>\n",
       "      <th rowspan=\"2\" valign=\"top\">2025-01-05</th>\n",
       "      <th>GOOG</th>\n",
       "      <td>8</td>\n",
       "    </tr>\n",
       "    <tr>\n",
       "      <th>APPL</th>\n",
       "      <td>9</td>\n",
       "    </tr>\n",
       "  </tbody>\n",
       "</table>\n",
       "</div>"
      ],
      "text/plain": [
       "                   col1\n",
       "ts         ticker      \n",
       "2025-01-01 GOOG       0\n",
       "           APPL       1\n",
       "2025-01-02 GOOG       2\n",
       "           APPL       3\n",
       "2025-01-03 GOOG       4\n",
       "           APPL       5\n",
       "2025-01-04 GOOG       6\n",
       "           APPL       7\n",
       "2025-01-05 GOOG       8\n",
       "           APPL       9"
      ]
     },
     "execution_count": 29,
     "metadata": {},
     "output_type": "execute_result"
    }
   ],
   "source": [
    "df = pd.DataFrame({\"col1\": np.arange(10)}, index=pd.MultiIndex.from_product([pd.date_range(\"2025-01-01\", periods=5), [\"GOOG\", \"APPL\"]], names=[\"ts\", \"ticker\"]))\n",
    "lib.write(sym, df)\n",
    "df"
   ]
  },
  {
   "cell_type": "code",
   "execution_count": 30,
   "id": "c392e331-39cd-493e-975e-26d4e7993216",
   "metadata": {},
   "outputs": [
    {
     "data": {
      "text/plain": [
       "pyarrow.Table\n",
       "ts: timestamp[ns]\n",
       "ticker: dictionary<values=large_string, indices=int32, ordered=0>\n",
       "col1: int64\n",
       "----\n",
       "ts: [[2025-01-01 00:00:00.000000000,2025-01-01 00:00:00.000000000,2025-01-02 00:00:00.000000000,2025-01-02 00:00:00.000000000,2025-01-03 00:00:00.000000000,2025-01-03 00:00:00.000000000,2025-01-04 00:00:00.000000000,2025-01-04 00:00:00.000000000,2025-01-05 00:00:00.000000000,2025-01-05 00:00:00.000000000]]\n",
       "ticker: [  -- dictionary:\n",
       "[\"GOOG\",\"APPL\"]  -- indices:\n",
       "[0,1,0,1,0,1,0,1,0,1]]\n",
       "col1: [[0,1,2,3,4,5,6,7,8,9]]"
      ]
     },
     "execution_count": 30,
     "metadata": {},
     "output_type": "execute_result"
    }
   ],
   "source": [
    "table = lib.read(sym).data\n",
    "table"
   ]
  },
  {
   "cell_type": "code",
   "execution_count": 31,
   "id": "714a24c7-8913-4053-93da-8f106008ef10",
   "metadata": {},
   "outputs": [
    {
     "name": "stdout",
     "output_type": "stream",
     "text": [
      "shape: (10, 3)\n",
      "┌─────────────────────┬────────┬──────┐\n",
      "│ ts                  ┆ ticker ┆ col1 │\n",
      "│ ---                 ┆ ---    ┆ ---  │\n",
      "│ datetime[ns]        ┆ cat    ┆ i64  │\n",
      "╞═════════════════════╪════════╪══════╡\n",
      "│ 2025-01-01 00:00:00 ┆ GOOG   ┆ 0    │\n",
      "│ 2025-01-01 00:00:00 ┆ APPL   ┆ 1    │\n",
      "│ 2025-01-02 00:00:00 ┆ GOOG   ┆ 2    │\n",
      "│ 2025-01-02 00:00:00 ┆ APPL   ┆ 3    │\n",
      "│ 2025-01-03 00:00:00 ┆ GOOG   ┆ 4    │\n",
      "│ 2025-01-03 00:00:00 ┆ APPL   ┆ 5    │\n",
      "│ 2025-01-04 00:00:00 ┆ GOOG   ┆ 6    │\n",
      "│ 2025-01-04 00:00:00 ┆ APPL   ┆ 7    │\n",
      "│ 2025-01-05 00:00:00 ┆ GOOG   ┆ 8    │\n",
      "│ 2025-01-05 00:00:00 ┆ APPL   ┆ 9    │\n",
      "└─────────────────────┴────────┴──────┘\n"
     ]
    }
   ],
   "source": [
    "print_table(table)"
   ]
  },
  {
   "cell_type": "markdown",
   "id": "ac4a168d-1f2e-447c-b4f4-801ca1c9fa9d",
   "metadata": {},
   "source": [
    "## Series will come back as a table, not a pyarrow Array, which is a closer match when indexes aren't present"
   ]
  },
  {
   "cell_type": "code",
   "execution_count": 32,
   "id": "fa33ff29-7dfe-49b2-a5a7-fe92e3580712",
   "metadata": {},
   "outputs": [
    {
     "data": {
      "text/plain": [
       "0    10\n",
       "1    11\n",
       "2    12\n",
       "3    13\n",
       "4    14\n",
       "5    15\n",
       "6    16\n",
       "7    17\n",
       "8    18\n",
       "9    19\n",
       "Name: my series, dtype: int64"
      ]
     },
     "execution_count": 32,
     "metadata": {},
     "output_type": "execute_result"
    }
   ],
   "source": [
    "s = pd.Series(np.arange(10, 20), name=\"my series\")\n",
    "lib.write(sym, s)\n",
    "s"
   ]
  },
  {
   "cell_type": "code",
   "execution_count": 33,
   "id": "6d04a347-af0e-45f1-a181-92cbd5f83154",
   "metadata": {},
   "outputs": [
    {
     "name": "stdout",
     "output_type": "stream",
     "text": [
      "shape: (10, 1)\n",
      "┌───────────┐\n",
      "│ my series │\n",
      "│ ---       │\n",
      "│ i64       │\n",
      "╞═══════════╡\n",
      "│ 10        │\n",
      "│ 11        │\n",
      "│ 12        │\n",
      "│ 13        │\n",
      "│ 14        │\n",
      "│ 15        │\n",
      "│ 16        │\n",
      "│ 17        │\n",
      "│ 18        │\n",
      "│ 19        │\n",
      "└───────────┘\n"
     ]
    }
   ],
   "source": [
    "table = lib.read(sym).data\n",
    "print_table(table)"
   ]
  },
  {
   "cell_type": "markdown",
   "id": "a24cb4f9-bcb3-40b8-a99d-2a4ab3647e4a",
   "metadata": {},
   "source": [
    "## Processing operations with lazy dataframes or the `QueryBuilder` can also return Arrow tables, but this only works with static schema in this release"
   ]
  },
  {
   "cell_type": "code",
   "execution_count": 34,
   "id": "6bb32104-2df7-4347-a637-c0b10ec6315f",
   "metadata": {},
   "outputs": [
    {
     "name": "stdout",
     "output_type": "stream",
     "text": [
      "shape: (1_000_000, 2)\n",
      "┌──────────┬──────────┐\n",
      "│ col      ┆ 2 * col  │\n",
      "│ ---      ┆ ---      │\n",
      "│ f64      ┆ f64      │\n",
      "╞══════════╪══════════╡\n",
      "│ 0.871273 ┆ 1.742546 │\n",
      "│ 0.206551 ┆ 0.413102 │\n",
      "│ 0.407184 ┆ 0.814368 │\n",
      "│ 0.394772 ┆ 0.789544 │\n",
      "│ 0.535344 ┆ 1.070689 │\n",
      "│ …        ┆ …        │\n",
      "│ 0.635224 ┆ 1.270447 │\n",
      "│ 0.20707  ┆ 0.41414  │\n",
      "│ 0.111366 ┆ 0.222733 │\n",
      "│ 0.610101 ┆ 1.220202 │\n",
      "│ 0.112928 ┆ 0.225856 │\n",
      "└──────────┴──────────┘\n"
     ]
    }
   ],
   "source": [
    "rng = np.random.default_rng()\n",
    "df = pd.DataFrame({\"col\": rng.random(1_000_000)})\n",
    "lib.write(sym, df)\n",
    "lazy_df = lib.read(sym, lazy=True)\n",
    "lazy_df[\"2 * col\"] = 2 * lazy_df[\"col\"]\n",
    "table = lazy_df.collect().data\n",
    "print_table(table)"
   ]
  },
  {
   "cell_type": "markdown",
   "id": "b9444278-a502-4e0f-8ed6-9723d1185232",
   "metadata": {},
   "source": [
    "## Pandas interoperability - we attach our normalization metadata to the pyarrow tables, so in general `to_pandas()` should get back to original dataframe that was written"
   ]
  },
  {
   "cell_type": "code",
   "execution_count": 35,
   "id": "6630a669-4c54-4317-a906-ecc423959b8d",
   "metadata": {},
   "outputs": [
    {
     "data": {
      "text/plain": [
       "RangeIndex(start=0, stop=10, step=1)"
      ]
     },
     "execution_count": 35,
     "metadata": {},
     "output_type": "execute_result"
    }
   ],
   "source": [
    "# Default RangeIndex\n",
    "df = pd.DataFrame({\"col1\": np.arange(10)})\n",
    "lib.write(sym, df)\n",
    "table = lib.read(sym).data\n",
    "table.to_pandas().index"
   ]
  },
  {
   "cell_type": "code",
   "execution_count": 36,
   "id": "c81095fa-2927-4d88-a5d3-941815ba80de",
   "metadata": {},
   "outputs": [
    {
     "data": {
      "text/plain": [
       "MultiIndex([('2025-01-01', 'GOOG'),\n",
       "            ('2025-01-01', 'APPL'),\n",
       "            ('2025-01-02', 'GOOG'),\n",
       "            ('2025-01-02', 'APPL'),\n",
       "            ('2025-01-03', 'GOOG'),\n",
       "            ('2025-01-03', 'APPL'),\n",
       "            ('2025-01-04', 'GOOG'),\n",
       "            ('2025-01-04', 'APPL'),\n",
       "            ('2025-01-05', 'GOOG'),\n",
       "            ('2025-01-05', 'APPL')],\n",
       "           names=['ts', 'ticker'])"
      ]
     },
     "execution_count": 36,
     "metadata": {},
     "output_type": "execute_result"
    }
   ],
   "source": [
    "# MultiIndex\n",
    "df = pd.DataFrame({\"col1\": np.arange(10)}, index=pd.MultiIndex.from_product([pd.date_range(\"2025-01-01\", periods=5), [\"GOOG\", \"APPL\"]], names=[\"ts\", \"ticker\"]))\n",
    "lib.write(sym, df)\n",
    "table = lib.read(sym).data\n",
    "table.to_pandas().index"
   ]
  },
  {
   "cell_type": "markdown",
   "id": "759dbb94-4ab5-48d9-ac12-d166977fa855",
   "metadata": {},
   "source": [
    "## Pandas quirks - Pandas is very permissive in ways that Arrow is not, particularly around column names"
   ]
  },
  {
   "cell_type": "code",
   "execution_count": 37,
   "id": "d5a38121-a214-425d-a6f4-3cb5d6e03aab",
   "metadata": {},
   "outputs": [
    {
     "name": "stdout",
     "output_type": "stream",
     "text": [
      "shape: (10, 3)\n",
      "┌─────────────────────┬────────────┬──────┐\n",
      "│ index               ┆ __fkidx__1 ┆ col1 │\n",
      "│ ---                 ┆ ---        ┆ ---  │\n",
      "│ datetime[ns]        ┆ cat        ┆ i64  │\n",
      "╞═════════════════════╪════════════╪══════╡\n",
      "│ 2025-01-01 00:00:00 ┆ GOOG       ┆ 0    │\n",
      "│ 2025-01-01 00:00:00 ┆ APPL       ┆ 1    │\n",
      "│ 2025-01-02 00:00:00 ┆ GOOG       ┆ 2    │\n",
      "│ 2025-01-02 00:00:00 ┆ APPL       ┆ 3    │\n",
      "│ 2025-01-03 00:00:00 ┆ GOOG       ┆ 4    │\n",
      "│ 2025-01-03 00:00:00 ┆ APPL       ┆ 5    │\n",
      "│ 2025-01-04 00:00:00 ┆ GOOG       ┆ 6    │\n",
      "│ 2025-01-04 00:00:00 ┆ APPL       ┆ 7    │\n",
      "│ 2025-01-05 00:00:00 ┆ GOOG       ┆ 8    │\n",
      "│ 2025-01-05 00:00:00 ┆ APPL       ┆ 9    │\n",
      "└─────────────────────┴────────────┴──────┘\n"
     ]
    },
    {
     "data": {
      "text/html": [
       "<div>\n",
       "<style scoped>\n",
       "    .dataframe tbody tr th:only-of-type {\n",
       "        vertical-align: middle;\n",
       "    }\n",
       "\n",
       "    .dataframe tbody tr th {\n",
       "        vertical-align: top;\n",
       "    }\n",
       "\n",
       "    .dataframe thead th {\n",
       "        text-align: right;\n",
       "    }\n",
       "</style>\n",
       "<table border=\"1\" class=\"dataframe\">\n",
       "  <thead>\n",
       "    <tr style=\"text-align: right;\">\n",
       "      <th></th>\n",
       "      <th></th>\n",
       "      <th>col1</th>\n",
       "    </tr>\n",
       "  </thead>\n",
       "  <tbody>\n",
       "    <tr>\n",
       "      <th rowspan=\"2\" valign=\"top\">2025-01-01</th>\n",
       "      <th>GOOG</th>\n",
       "      <td>0</td>\n",
       "    </tr>\n",
       "    <tr>\n",
       "      <th>APPL</th>\n",
       "      <td>1</td>\n",
       "    </tr>\n",
       "    <tr>\n",
       "      <th rowspan=\"2\" valign=\"top\">2025-01-02</th>\n",
       "      <th>GOOG</th>\n",
       "      <td>2</td>\n",
       "    </tr>\n",
       "    <tr>\n",
       "      <th>APPL</th>\n",
       "      <td>3</td>\n",
       "    </tr>\n",
       "    <tr>\n",
       "      <th rowspan=\"2\" valign=\"top\">2025-01-03</th>\n",
       "      <th>GOOG</th>\n",
       "      <td>4</td>\n",
       "    </tr>\n",
       "    <tr>\n",
       "      <th>APPL</th>\n",
       "      <td>5</td>\n",
       "    </tr>\n",
       "    <tr>\n",
       "      <th rowspan=\"2\" valign=\"top\">2025-01-04</th>\n",
       "      <th>GOOG</th>\n",
       "      <td>6</td>\n",
       "    </tr>\n",
       "    <tr>\n",
       "      <th>APPL</th>\n",
       "      <td>7</td>\n",
       "    </tr>\n",
       "    <tr>\n",
       "      <th rowspan=\"2\" valign=\"top\">2025-01-05</th>\n",
       "      <th>GOOG</th>\n",
       "      <td>8</td>\n",
       "    </tr>\n",
       "    <tr>\n",
       "      <th>APPL</th>\n",
       "      <td>9</td>\n",
       "    </tr>\n",
       "  </tbody>\n",
       "</table>\n",
       "</div>"
      ],
      "text/plain": [
       "                 col1\n",
       "2025-01-01 GOOG     0\n",
       "           APPL     1\n",
       "2025-01-02 GOOG     2\n",
       "           APPL     3\n",
       "2025-01-03 GOOG     4\n",
       "           APPL     5\n",
       "2025-01-04 GOOG     6\n",
       "           APPL     7\n",
       "2025-01-05 GOOG     8\n",
       "           APPL     9"
      ]
     },
     "execution_count": 37,
     "metadata": {},
     "output_type": "execute_result"
    }
   ],
   "source": [
    "# Unnamed multiindex exposes our internal name\n",
    "df = pd.DataFrame({\"col1\": np.arange(10)}, index=pd.MultiIndex.from_product([pd.date_range(\"2025-01-01\", periods=5), [\"GOOG\", \"APPL\"]]))\n",
    "lib.write(sym, df)\n",
    "table = lib.read(sym).data\n",
    "print_table(table)\n",
    "# And restores the unnamed indexes on calling to_pandas\n",
    "table.to_pandas()"
   ]
  },
  {
   "cell_type": "code",
   "execution_count": 38,
   "id": "840f99c9-6ed1-4947-b79c-cf61cb27d174",
   "metadata": {},
   "outputs": [
    {
     "name": "stdout",
     "output_type": "stream",
     "text": [
      "shape: (10, 3)\n",
      "┌──────┬─────────────────────┬───────────────────┐\n",
      "│ col1 ┆ __index_level_0__   ┆ __index_level_1__ │\n",
      "│ ---  ┆ ---                 ┆ ---               │\n",
      "│ i64  ┆ datetime[ns]        ┆ str               │\n",
      "╞══════╪═════════════════════╪═══════════════════╡\n",
      "│ 0    ┆ 2025-01-01 00:00:00 ┆ GOOG              │\n",
      "│ 1    ┆ 2025-01-01 00:00:00 ┆ APPL              │\n",
      "│ 2    ┆ 2025-01-02 00:00:00 ┆ GOOG              │\n",
      "│ 3    ┆ 2025-01-02 00:00:00 ┆ APPL              │\n",
      "│ 4    ┆ 2025-01-03 00:00:00 ┆ GOOG              │\n",
      "│ 5    ┆ 2025-01-03 00:00:00 ┆ APPL              │\n",
      "│ 6    ┆ 2025-01-04 00:00:00 ┆ GOOG              │\n",
      "│ 7    ┆ 2025-01-04 00:00:00 ┆ APPL              │\n",
      "│ 8    ┆ 2025-01-05 00:00:00 ┆ GOOG              │\n",
      "│ 9    ┆ 2025-01-05 00:00:00 ┆ APPL              │\n",
      "└──────┴─────────────────────┴───────────────────┘\n"
     ]
    }
   ],
   "source": [
    "# pyarrow does something similar, although without putting index columns first\n",
    "print_table(pa.Table.from_pandas(df))"
   ]
  },
  {
   "cell_type": "code",
   "execution_count": 39,
   "id": "fafb0d60-3e14-4660-80e9-e4aafff19436",
   "metadata": {},
   "outputs": [
    {
     "name": "stdout",
     "output_type": "stream",
     "text": [
      "shape: (10, 1)\n",
      "┌─────┐\n",
      "│ 0   │\n",
      "│ --- │\n",
      "│ i64 │\n",
      "╞═════╡\n",
      "│ 10  │\n",
      "│ 11  │\n",
      "│ 12  │\n",
      "│ 13  │\n",
      "│ 14  │\n",
      "│ 15  │\n",
      "│ 16  │\n",
      "│ 17  │\n",
      "│ 18  │\n",
      "│ 19  │\n",
      "└─────┘\n"
     ]
    },
    {
     "data": {
      "text/html": [
       "<div>\n",
       "<style scoped>\n",
       "    .dataframe tbody tr th:only-of-type {\n",
       "        vertical-align: middle;\n",
       "    }\n",
       "\n",
       "    .dataframe tbody tr th {\n",
       "        vertical-align: top;\n",
       "    }\n",
       "\n",
       "    .dataframe thead th {\n",
       "        text-align: right;\n",
       "    }\n",
       "</style>\n",
       "<table border=\"1\" class=\"dataframe\">\n",
       "  <thead>\n",
       "    <tr style=\"text-align: right;\">\n",
       "      <th></th>\n",
       "      <th>0</th>\n",
       "    </tr>\n",
       "  </thead>\n",
       "  <tbody>\n",
       "    <tr>\n",
       "      <th>0</th>\n",
       "      <td>10</td>\n",
       "    </tr>\n",
       "    <tr>\n",
       "      <th>1</th>\n",
       "      <td>11</td>\n",
       "    </tr>\n",
       "    <tr>\n",
       "      <th>2</th>\n",
       "      <td>12</td>\n",
       "    </tr>\n",
       "    <tr>\n",
       "      <th>3</th>\n",
       "      <td>13</td>\n",
       "    </tr>\n",
       "    <tr>\n",
       "      <th>4</th>\n",
       "      <td>14</td>\n",
       "    </tr>\n",
       "    <tr>\n",
       "      <th>5</th>\n",
       "      <td>15</td>\n",
       "    </tr>\n",
       "    <tr>\n",
       "      <th>6</th>\n",
       "      <td>16</td>\n",
       "    </tr>\n",
       "    <tr>\n",
       "      <th>7</th>\n",
       "      <td>17</td>\n",
       "    </tr>\n",
       "    <tr>\n",
       "      <th>8</th>\n",
       "      <td>18</td>\n",
       "    </tr>\n",
       "    <tr>\n",
       "      <th>9</th>\n",
       "      <td>19</td>\n",
       "    </tr>\n",
       "  </tbody>\n",
       "</table>\n",
       "</div>"
      ],
      "text/plain": [
       "    0\n",
       "0  10\n",
       "1  11\n",
       "2  12\n",
       "3  13\n",
       "4  14\n",
       "5  15\n",
       "6  16\n",
       "7  17\n",
       "8  18\n",
       "9  19"
      ]
     },
     "execution_count": 39,
     "metadata": {},
     "output_type": "execute_result"
    }
   ],
   "source": [
    "# Unnamed Series just call the column \"0\" in the output table\n",
    "s = pd.Series(np.arange(10, 20))\n",
    "lib.write(sym, s)\n",
    "table = lib.read(sym).data\n",
    "print_table(table)\n",
    "# This is maintained when converting back to Pandas\n",
    "table.to_pandas()"
   ]
  },
  {
   "cell_type": "code",
   "execution_count": 40,
   "id": "4c578c5a-337f-4cab-b903-bb9b5d23ee12",
   "metadata": {},
   "outputs": [
    {
     "name": "stdout",
     "output_type": "stream",
     "text": [
      "shape: (10, 2)\n",
      "┌───────────────┬───────────────┐\n",
      "│ __col_col1__0 ┆ __col_col1__1 │\n",
      "│ ---           ┆ ---           │\n",
      "│ f64           ┆ f64           │\n",
      "╞═══════════════╪═══════════════╡\n",
      "│ 1.0           ┆ 1.0           │\n",
      "│ 1.0           ┆ 1.0           │\n",
      "│ 1.0           ┆ 1.0           │\n",
      "│ 1.0           ┆ 1.0           │\n",
      "│ 1.0           ┆ 1.0           │\n",
      "│ 1.0           ┆ 1.0           │\n",
      "│ 1.0           ┆ 1.0           │\n",
      "│ 1.0           ┆ 1.0           │\n",
      "│ 1.0           ┆ 1.0           │\n",
      "│ 1.0           ┆ 1.0           │\n",
      "└───────────────┴───────────────┘\n"
     ]
    },
    {
     "data": {
      "text/html": [
       "<div>\n",
       "<style scoped>\n",
       "    .dataframe tbody tr th:only-of-type {\n",
       "        vertical-align: middle;\n",
       "    }\n",
       "\n",
       "    .dataframe tbody tr th {\n",
       "        vertical-align: top;\n",
       "    }\n",
       "\n",
       "    .dataframe thead th {\n",
       "        text-align: right;\n",
       "    }\n",
       "</style>\n",
       "<table border=\"1\" class=\"dataframe\">\n",
       "  <thead>\n",
       "    <tr style=\"text-align: right;\">\n",
       "      <th></th>\n",
       "      <th>col1</th>\n",
       "      <th>col1</th>\n",
       "    </tr>\n",
       "  </thead>\n",
       "  <tbody>\n",
       "    <tr>\n",
       "      <th>0</th>\n",
       "      <td>1.0</td>\n",
       "      <td>1.0</td>\n",
       "    </tr>\n",
       "    <tr>\n",
       "      <th>1</th>\n",
       "      <td>1.0</td>\n",
       "      <td>1.0</td>\n",
       "    </tr>\n",
       "    <tr>\n",
       "      <th>2</th>\n",
       "      <td>1.0</td>\n",
       "      <td>1.0</td>\n",
       "    </tr>\n",
       "    <tr>\n",
       "      <th>3</th>\n",
       "      <td>1.0</td>\n",
       "      <td>1.0</td>\n",
       "    </tr>\n",
       "    <tr>\n",
       "      <th>4</th>\n",
       "      <td>1.0</td>\n",
       "      <td>1.0</td>\n",
       "    </tr>\n",
       "    <tr>\n",
       "      <th>5</th>\n",
       "      <td>1.0</td>\n",
       "      <td>1.0</td>\n",
       "    </tr>\n",
       "    <tr>\n",
       "      <th>6</th>\n",
       "      <td>1.0</td>\n",
       "      <td>1.0</td>\n",
       "    </tr>\n",
       "    <tr>\n",
       "      <th>7</th>\n",
       "      <td>1.0</td>\n",
       "      <td>1.0</td>\n",
       "    </tr>\n",
       "    <tr>\n",
       "      <th>8</th>\n",
       "      <td>1.0</td>\n",
       "      <td>1.0</td>\n",
       "    </tr>\n",
       "    <tr>\n",
       "      <th>9</th>\n",
       "      <td>1.0</td>\n",
       "      <td>1.0</td>\n",
       "    </tr>\n",
       "  </tbody>\n",
       "</table>\n",
       "</div>"
      ],
      "text/plain": [
       "   col1  col1\n",
       "0   1.0   1.0\n",
       "1   1.0   1.0\n",
       "2   1.0   1.0\n",
       "3   1.0   1.0\n",
       "4   1.0   1.0\n",
       "5   1.0   1.0\n",
       "6   1.0   1.0\n",
       "7   1.0   1.0\n",
       "8   1.0   1.0\n",
       "9   1.0   1.0"
      ]
     },
     "execution_count": 40,
     "metadata": {},
     "output_type": "execute_result"
    }
   ],
   "source": [
    "# Pandas allows duplicate column names, ArcticDB does not internally, and nor does Arrow. Our internal name is exposed in this case\n",
    "df = pd.DataFrame(np.ones((10, 2)), columns=[\"col1\", \"col1\"])\n",
    "lib.write(sym, df)\n",
    "table = lib.read(sym).data\n",
    "print_table(table)\n",
    "# Original names are recovered on conversion back to Pandas\n",
    "table.to_pandas()"
   ]
  },
  {
   "cell_type": "code",
   "execution_count": 41,
   "id": "91ea0148-bd9f-4e83-80cf-fd42e231f257",
   "metadata": {},
   "outputs": [
    {
     "name": "stdout",
     "output_type": "stream",
     "text": [
      "Duplicate column names found: ['col1', 'col1']\n"
     ]
    }
   ],
   "source": [
    "# pyarrow does not allow duplicate column names when converting from Pandas\n",
    "try:\n",
    "    pa.Table.from_pandas(df)\n",
    "except Exception as e:\n",
    "    print(e)"
   ]
  },
  {
   "cell_type": "code",
   "execution_count": null,
   "id": "75c27dfd-3892-428f-a324-548949bc0e73",
   "metadata": {},
   "outputs": [],
   "source": []
  }
 ],
 "metadata": {
  "kernelspec": {
   "display_name": "arrow",
   "language": "python",
   "name": "arrow"
  },
  "language_info": {
   "codemirror_mode": {
    "name": "ipython",
    "version": 3
   },
   "file_extension": ".py",
   "mimetype": "text/x-python",
   "name": "python",
   "nbconvert_exporter": "python",
   "pygments_lexer": "ipython3",
   "version": "3.11.11"
  }
 },
 "nbformat": 4,
 "nbformat_minor": 5
}
