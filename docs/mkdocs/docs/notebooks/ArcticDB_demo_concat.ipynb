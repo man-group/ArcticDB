{
 "cells": [
  {
   "cell_type": "code",
   "execution_count": null,
   "id": "844205d7-65af-4164-bdf5-1a6db15f8927",
   "metadata": {},
   "outputs": [],
   "source": [
    "!pip install arcticdb"
   ]
  },
  {
   "cell_type": "code",
   "execution_count": 1,
   "id": "395e7b38-6e1f-495f-8940-87462c6e8eb5",
   "metadata": {},
   "outputs": [],
   "source": [
    "import numpy as np\n",
    "import pandas as pd\n",
    "import arcticdb as adb"
   ]
  },
  {
   "cell_type": "markdown",
   "id": "0c848d76-a292-45a9-b297-314b120c0d47",
   "metadata": {},
   "source": [
    "<center><img src=\"data:image/png;base64,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\"/>\n",
    "</center>"
   ]
  },
  {
   "cell_type": "markdown",
   "id": "66fd9cae-39d0-4555-9c08-9f443bce8894",
   "metadata": {},
   "source": [
    "# ArcticDB Concat Demo\n",
    "\n",
    "This demo notebook showcases the first symbol joining capability within ArcticDB, concatenation.\n",
    "\n",
    "This is what you need to know about it:\n",
    "\n",
    "* It runs on-the-fly as part of the read\n",
    "* The usage and results are similar to the Pandas concat function (although not identical, differences are highlighted below)\n",
    "* Processing before and after the concat operation are parallelised like all other processing in ArcticDB, leading to potentially large performance improvements compared to concatenating and processing in Pandas"
   ]
  },
  {
   "cell_type": "markdown",
   "id": "ae923ddb-02ed-49a9-aa47-a87cdf0ccff7",
   "metadata": {},
   "source": [
    "## Setup"
   ]
  },
  {
   "cell_type": "code",
   "execution_count": 2,
   "id": "85d940e6-c8f5-4080-87a7-f8a635960c40",
   "metadata": {},
   "outputs": [],
   "source": [
    "# object store\n",
    "arctic = adb.Arctic(\"lmdb://arcticdb_concat\")"
   ]
  },
  {
   "cell_type": "code",
   "execution_count": 3,
   "id": "b29f9e15-88de-4d3d-b461-82e560249b54",
   "metadata": {},
   "outputs": [],
   "source": [
    "# library\n",
    "lib = arctic.get_library('concat', create_if_missing=True)\n",
    "lib._nvs.version_store.clear() # TODO: Remove after clean run gets nice version numbers in output"
   ]
  },
  {
   "cell_type": "markdown",
   "id": "652ae833-b07d-4770-9dd5-fb9065816d50",
   "metadata": {},
   "source": [
    "## Create Some Data\n",
    "\n",
    "* 3 symbols, each with 10,000,000 rows\n",
    "* int, float, string columns\n",
    "* write the data into ArcticDB"
   ]
  },
  {
   "cell_type": "code",
   "execution_count": 4,
   "id": "64b0c0d9-ceb2-486e-9511-c02984cc7054",
   "metadata": {},
   "outputs": [],
   "source": [
    "# data for concatenating\n",
    "num_symbols = 3\n",
    "rows_per_symbol = 10_000_000\n",
    "dfs = []\n",
    "for _ in range(num_symbols):\n",
    "    int_data = np.arange(rows_per_symbol, dtype=np.int64)\n",
    "    float_data = np.round(np.random.uniform(95., 105., rows_per_symbol), 3)\n",
    "    letters = ['a','b','c','d','e','f','g']\n",
    "    dfs.append(pd.DataFrame(\n",
    "        {\n",
    "            \"int\": int_data,\n",
    "            \"float\": float_data,\n",
    "            \"string\": (letters*(rows_per_symbol//len(letters) + 1))[:rows_per_symbol]\n",
    "        }\n",
    "    ))"
   ]
  },
  {
   "cell_type": "code",
   "execution_count": 5,
   "id": "3cc7b33f-ecb0-4588-a9ee-0bfaa4de42e1",
   "metadata": {},
   "outputs": [
    {
     "data": {
      "text/html": [
       "<div>\n",
       "<style scoped>\n",
       "    .dataframe tbody tr th:only-of-type {\n",
       "        vertical-align: middle;\n",
       "    }\n",
       "\n",
       "    .dataframe tbody tr th {\n",
       "        vertical-align: top;\n",
       "    }\n",
       "\n",
       "    .dataframe thead th {\n",
       "        text-align: right;\n",
       "    }\n",
       "</style>\n",
       "<table border=\"1\" class=\"dataframe\">\n",
       "  <thead>\n",
       "    <tr style=\"text-align: right;\">\n",
       "      <th></th>\n",
       "      <th>int</th>\n",
       "      <th>float</th>\n",
       "      <th>string</th>\n",
       "    </tr>\n",
       "  </thead>\n",
       "  <tbody>\n",
       "    <tr>\n",
       "      <th>0</th>\n",
       "      <td>0</td>\n",
       "      <td>98.089</td>\n",
       "      <td>a</td>\n",
       "    </tr>\n",
       "    <tr>\n",
       "      <th>1</th>\n",
       "      <td>1</td>\n",
       "      <td>98.086</td>\n",
       "      <td>b</td>\n",
       "    </tr>\n",
       "    <tr>\n",
       "      <th>2</th>\n",
       "      <td>2</td>\n",
       "      <td>103.995</td>\n",
       "      <td>c</td>\n",
       "    </tr>\n",
       "    <tr>\n",
       "      <th>3</th>\n",
       "      <td>3</td>\n",
       "      <td>98.736</td>\n",
       "      <td>d</td>\n",
       "    </tr>\n",
       "    <tr>\n",
       "      <th>4</th>\n",
       "      <td>4</td>\n",
       "      <td>104.769</td>\n",
       "      <td>e</td>\n",
       "    </tr>\n",
       "    <tr>\n",
       "      <th>5</th>\n",
       "      <td>5</td>\n",
       "      <td>96.473</td>\n",
       "      <td>f</td>\n",
       "    </tr>\n",
       "    <tr>\n",
       "      <th>6</th>\n",
       "      <td>6</td>\n",
       "      <td>103.227</td>\n",
       "      <td>g</td>\n",
       "    </tr>\n",
       "    <tr>\n",
       "      <th>7</th>\n",
       "      <td>7</td>\n",
       "      <td>99.624</td>\n",
       "      <td>a</td>\n",
       "    </tr>\n",
       "    <tr>\n",
       "      <th>8</th>\n",
       "      <td>8</td>\n",
       "      <td>100.271</td>\n",
       "      <td>b</td>\n",
       "    </tr>\n",
       "    <tr>\n",
       "      <th>9</th>\n",
       "      <td>9</td>\n",
       "      <td>102.942</td>\n",
       "      <td>c</td>\n",
       "    </tr>\n",
       "  </tbody>\n",
       "</table>\n",
       "</div>"
      ],
      "text/plain": [
       "   int    float string\n",
       "0    0   98.089      a\n",
       "1    1   98.086      b\n",
       "2    2  103.995      c\n",
       "3    3   98.736      d\n",
       "4    4  104.769      e\n",
       "5    5   96.473      f\n",
       "6    6  103.227      g\n",
       "7    7   99.624      a\n",
       "8    8  100.271      b\n",
       "9    9  102.942      c"
      ]
     },
     "execution_count": 5,
     "metadata": {},
     "output_type": "execute_result"
    }
   ],
   "source": [
    "# view the first 10 rows of one of the dataframes\n",
    "dfs[0].head(10)"
   ]
  },
  {
   "cell_type": "code",
   "execution_count": 6,
   "id": "9811863f-4d77-4571-b84b-95b341751fcd",
   "metadata": {},
   "outputs": [
    {
     "data": {
      "text/plain": [
       "[VersionedItem(symbol='sym_0', library='concat', data=n/a, version=0, metadata={'my_metadata': 0}, host='LMDB(path=/users/is/aowens/source/man.arcticdb/arcticdb_link/docs/mkdocs/docs/notebooks/arcticdb_concat)', timestamp=1747668401594375351),\n",
       " VersionedItem(symbol='sym_1', library='concat', data=n/a, version=0, metadata={'my_metadata': 1}, host='LMDB(path=/users/is/aowens/source/man.arcticdb/arcticdb_link/docs/mkdocs/docs/notebooks/arcticdb_concat)', timestamp=1747668401581112132),\n",
       " VersionedItem(symbol='sym_2', library='concat', data=n/a, version=0, metadata={'my_metadata': 2}, host='LMDB(path=/users/is/aowens/source/man.arcticdb/arcticdb_link/docs/mkdocs/docs/notebooks/arcticdb_concat)', timestamp=1747668401617289932)]"
      ]
     },
     "execution_count": 6,
     "metadata": {},
     "output_type": "execute_result"
    }
   ],
   "source": [
    "symbols = [f\"sym_{idx}\" for idx in range(num_symbols)]\n",
    "write_payloads = []\n",
    "for idx in range(num_symbols):\n",
    "    write_payloads.append(adb.WritePayload(symbols[idx], dfs[idx], {\"my_metadata\": idx}))\n",
    "lib.write_batch(write_payloads)"
   ]
  },
  {
   "cell_type": "markdown",
   "id": "ece26c4e-826f-48b1-918c-f2b1aff01ad4",
   "metadata": {},
   "source": [
    "## 1. Simple Concat\n",
    "\n",
    "Concatenate the symbols together without any additional arguments or processing"
   ]
  },
  {
   "cell_type": "code",
   "execution_count": 7,
   "id": "c05c6a38-5326-407d-9588-8c562c5f0f66",
   "metadata": {},
   "outputs": [
    {
     "data": {
      "text/plain": [
       "arcticdb.version_store._store.VersionedItemWithJoin"
      ]
     },
     "execution_count": 7,
     "metadata": {},
     "output_type": "execute_result"
    }
   ],
   "source": [
    "lazy_dfs = lib.read_batch(symbols, lazy=True)\n",
    "lazy_df = adb.concat(lazy_dfs)\n",
    "result = lazy_df.collect()\n",
    "type(result)"
   ]
  },
  {
   "cell_type": "markdown",
   "id": "00fca57a-06c7-4745-b69a-9e35d34e3da0",
   "metadata": {},
   "source": [
    "The resulting object contains the version information and metadata associated with the symbol-version pairs that have been concatenated together"
   ]
  },
  {
   "cell_type": "code",
   "execution_count": 8,
   "id": "918c0086-09cd-4870-a3f7-8e37a466eea9",
   "metadata": {},
   "outputs": [
    {
     "data": {
      "text/plain": [
       "VersionedItem(symbol='sym_1', library='concat', data=n/a, version=0, metadata={'my_metadata': 1}, host='LMDB(path=/users/is/aowens/source/man.arcticdb/arcticdb_link/docs/mkdocs/docs/notebooks/arcticdb_concat)', timestamp=1747668401581112132)"
      ]
     },
     "execution_count": 8,
     "metadata": {},
     "output_type": "execute_result"
    }
   ],
   "source": [
    "result.versions[1]"
   ]
  },
  {
   "cell_type": "markdown",
   "id": "f00cd258-2515-473c-b9d1-b28c26b18e8f",
   "metadata": {},
   "source": [
    "The `data` field of the returned object contains the concatenated dataframe (note there are 30 million rows in the output)"
   ]
  },
  {
   "cell_type": "code",
   "execution_count": 9,
   "id": "be09f37f-46f4-487c-8522-9a7833d2f4b7",
   "metadata": {},
   "outputs": [
    {
     "data": {
      "text/html": [
       "<div>\n",
       "<style scoped>\n",
       "    .dataframe tbody tr th:only-of-type {\n",
       "        vertical-align: middle;\n",
       "    }\n",
       "\n",
       "    .dataframe tbody tr th {\n",
       "        vertical-align: top;\n",
       "    }\n",
       "\n",
       "    .dataframe thead th {\n",
       "        text-align: right;\n",
       "    }\n",
       "</style>\n",
       "<table border=\"1\" class=\"dataframe\">\n",
       "  <thead>\n",
       "    <tr style=\"text-align: right;\">\n",
       "      <th></th>\n",
       "      <th>int</th>\n",
       "      <th>float</th>\n",
       "      <th>string</th>\n",
       "    </tr>\n",
       "  </thead>\n",
       "  <tbody>\n",
       "    <tr>\n",
       "      <th>0</th>\n",
       "      <td>0</td>\n",
       "      <td>98.089</td>\n",
       "      <td>a</td>\n",
       "    </tr>\n",
       "    <tr>\n",
       "      <th>1</th>\n",
       "      <td>1</td>\n",
       "      <td>98.086</td>\n",
       "      <td>b</td>\n",
       "    </tr>\n",
       "    <tr>\n",
       "      <th>2</th>\n",
       "      <td>2</td>\n",
       "      <td>103.995</td>\n",
       "      <td>c</td>\n",
       "    </tr>\n",
       "    <tr>\n",
       "      <th>3</th>\n",
       "      <td>3</td>\n",
       "      <td>98.736</td>\n",
       "      <td>d</td>\n",
       "    </tr>\n",
       "    <tr>\n",
       "      <th>4</th>\n",
       "      <td>4</td>\n",
       "      <td>104.769</td>\n",
       "      <td>e</td>\n",
       "    </tr>\n",
       "    <tr>\n",
       "      <th>...</th>\n",
       "      <td>...</td>\n",
       "      <td>...</td>\n",
       "      <td>...</td>\n",
       "    </tr>\n",
       "    <tr>\n",
       "      <th>29999995</th>\n",
       "      <td>9999995</td>\n",
       "      <td>101.851</td>\n",
       "      <td>f</td>\n",
       "    </tr>\n",
       "    <tr>\n",
       "      <th>29999996</th>\n",
       "      <td>9999996</td>\n",
       "      <td>98.617</td>\n",
       "      <td>g</td>\n",
       "    </tr>\n",
       "    <tr>\n",
       "      <th>29999997</th>\n",
       "      <td>9999997</td>\n",
       "      <td>99.181</td>\n",
       "      <td>a</td>\n",
       "    </tr>\n",
       "    <tr>\n",
       "      <th>29999998</th>\n",
       "      <td>9999998</td>\n",
       "      <td>102.034</td>\n",
       "      <td>b</td>\n",
       "    </tr>\n",
       "    <tr>\n",
       "      <th>29999999</th>\n",
       "      <td>9999999</td>\n",
       "      <td>97.907</td>\n",
       "      <td>c</td>\n",
       "    </tr>\n",
       "  </tbody>\n",
       "</table>\n",
       "<p>30000000 rows × 3 columns</p>\n",
       "</div>"
      ],
      "text/plain": [
       "              int    float string\n",
       "0               0   98.089      a\n",
       "1               1   98.086      b\n",
       "2               2  103.995      c\n",
       "3               3   98.736      d\n",
       "4               4  104.769      e\n",
       "...           ...      ...    ...\n",
       "29999995  9999995  101.851      f\n",
       "29999996  9999996   98.617      g\n",
       "29999997  9999997   99.181      a\n",
       "29999998  9999998  102.034      b\n",
       "29999999  9999999   97.907      c\n",
       "\n",
       "[30000000 rows x 3 columns]"
      ]
     },
     "execution_count": 9,
     "metadata": {},
     "output_type": "execute_result"
    }
   ],
   "source": [
    "result.data"
   ]
  },
  {
   "cell_type": "markdown",
   "id": "ee67ab07-02e4-4d9e-965f-0c63b115f94d",
   "metadata": {},
   "source": [
    "## 2. Concat with pre and post processing\n",
    "\n",
    "Perform processing operations both before and after the concatenation. See the `LazyDataFrame` demo notebook for more explanation of the available operations and how to apply different pre-processing to each symbol"
   ]
  },
  {
   "cell_type": "code",
   "execution_count": 10,
   "id": "75a6d64c-4ad9-4ce4-ae7e-56b9da636b78",
   "metadata": {},
   "outputs": [
    {
     "data": {
      "text/html": [
       "<div>\n",
       "<style scoped>\n",
       "    .dataframe tbody tr th:only-of-type {\n",
       "        vertical-align: middle;\n",
       "    }\n",
       "\n",
       "    .dataframe tbody tr th {\n",
       "        vertical-align: top;\n",
       "    }\n",
       "\n",
       "    .dataframe thead th {\n",
       "        text-align: right;\n",
       "    }\n",
       "</style>\n",
       "<table border=\"1\" class=\"dataframe\">\n",
       "  <thead>\n",
       "    <tr style=\"text-align: right;\">\n",
       "      <th></th>\n",
       "      <th>int</th>\n",
       "      <th>float</th>\n",
       "      <th>string</th>\n",
       "      <th>new_col</th>\n",
       "    </tr>\n",
       "  </thead>\n",
       "  <tbody>\n",
       "    <tr>\n",
       "      <th>0</th>\n",
       "      <td>1</td>\n",
       "      <td>98.086</td>\n",
       "      <td>b</td>\n",
       "      <td>196.172</td>\n",
       "    </tr>\n",
       "    <tr>\n",
       "      <th>1</th>\n",
       "      <td>2</td>\n",
       "      <td>103.995</td>\n",
       "      <td>c</td>\n",
       "      <td>207.990</td>\n",
       "    </tr>\n",
       "    <tr>\n",
       "      <th>2</th>\n",
       "      <td>3</td>\n",
       "      <td>98.736</td>\n",
       "      <td>d</td>\n",
       "      <td>197.472</td>\n",
       "    </tr>\n",
       "    <tr>\n",
       "      <th>3</th>\n",
       "      <td>4</td>\n",
       "      <td>104.769</td>\n",
       "      <td>e</td>\n",
       "      <td>209.538</td>\n",
       "    </tr>\n",
       "    <tr>\n",
       "      <th>4</th>\n",
       "      <td>5</td>\n",
       "      <td>96.473</td>\n",
       "      <td>f</td>\n",
       "      <td>192.946</td>\n",
       "    </tr>\n",
       "    <tr>\n",
       "      <th>...</th>\n",
       "      <td>...</td>\n",
       "      <td>...</td>\n",
       "      <td>...</td>\n",
       "      <td>...</td>\n",
       "    </tr>\n",
       "    <tr>\n",
       "      <th>25714279</th>\n",
       "      <td>9999994</td>\n",
       "      <td>100.683</td>\n",
       "      <td>e</td>\n",
       "      <td>201.366</td>\n",
       "    </tr>\n",
       "    <tr>\n",
       "      <th>25714280</th>\n",
       "      <td>9999995</td>\n",
       "      <td>101.851</td>\n",
       "      <td>f</td>\n",
       "      <td>203.702</td>\n",
       "    </tr>\n",
       "    <tr>\n",
       "      <th>25714281</th>\n",
       "      <td>9999996</td>\n",
       "      <td>98.617</td>\n",
       "      <td>g</td>\n",
       "      <td>197.234</td>\n",
       "    </tr>\n",
       "    <tr>\n",
       "      <th>25714282</th>\n",
       "      <td>9999998</td>\n",
       "      <td>102.034</td>\n",
       "      <td>b</td>\n",
       "      <td>204.068</td>\n",
       "    </tr>\n",
       "    <tr>\n",
       "      <th>25714283</th>\n",
       "      <td>9999999</td>\n",
       "      <td>97.907</td>\n",
       "      <td>c</td>\n",
       "      <td>195.814</td>\n",
       "    </tr>\n",
       "  </tbody>\n",
       "</table>\n",
       "<p>25714284 rows × 4 columns</p>\n",
       "</div>"
      ],
      "text/plain": [
       "              int    float string  new_col\n",
       "0               1   98.086      b  196.172\n",
       "1               2  103.995      c  207.990\n",
       "2               3   98.736      d  197.472\n",
       "3               4  104.769      e  209.538\n",
       "4               5   96.473      f  192.946\n",
       "...           ...      ...    ...      ...\n",
       "25714279  9999994  100.683      e  201.366\n",
       "25714280  9999995  101.851      f  203.702\n",
       "25714281  9999996   98.617      g  197.234\n",
       "25714282  9999998  102.034      b  204.068\n",
       "25714283  9999999   97.907      c  195.814\n",
       "\n",
       "[25714284 rows x 4 columns]"
      ]
     },
     "execution_count": 10,
     "metadata": {},
     "output_type": "execute_result"
    }
   ],
   "source": [
    "lazy_dfs = lib.read_batch(symbols, lazy=True)\n",
    "lazy_dfs = lazy_dfs[lazy_dfs[\"string\"] != \"a\"]\n",
    "lazy_df = adb.concat(lazy_dfs)\n",
    "lazy_df[\"new_col\"] = lazy_df[\"float\"] * 2\n",
    "lazy_df.collect().data"
   ]
  },
  {
   "cell_type": "markdown",
   "id": "eb29765b-7980-4548-8a20-3998447c4161",
   "metadata": {},
   "source": [
    "### Note the output index above\n",
    "\n",
    "It is a `RangeIndex` with start 0 and step 1. This is in contrast to Pandas, which would return an `Int64Index` in this case. This is because most data in ArcticDB with a `RangeIndex` isn't really indexed at all. Different step values will be respected if they match across all symbols being concatenated, with the start value being taken from the first symbol:"
   ]
  },
  {
   "cell_type": "code",
   "execution_count": 11,
   "id": "84f670cb-b687-451e-9685-99bcd6e094f3",
   "metadata": {},
   "outputs": [
    {
     "data": {
      "text/html": [
       "<div>\n",
       "<style scoped>\n",
       "    .dataframe tbody tr th:only-of-type {\n",
       "        vertical-align: middle;\n",
       "    }\n",
       "\n",
       "    .dataframe tbody tr th {\n",
       "        vertical-align: top;\n",
       "    }\n",
       "\n",
       "    .dataframe thead th {\n",
       "        text-align: right;\n",
       "    }\n",
       "</style>\n",
       "<table border=\"1\" class=\"dataframe\">\n",
       "  <thead>\n",
       "    <tr style=\"text-align: right;\">\n",
       "      <th></th>\n",
       "      <th>col</th>\n",
       "    </tr>\n",
       "  </thead>\n",
       "  <tbody>\n",
       "    <tr>\n",
       "      <th>3</th>\n",
       "      <td>0</td>\n",
       "    </tr>\n",
       "    <tr>\n",
       "      <th>5</th>\n",
       "      <td>1</td>\n",
       "    </tr>\n",
       "    <tr>\n",
       "      <th>7</th>\n",
       "      <td>2</td>\n",
       "    </tr>\n",
       "    <tr>\n",
       "      <th>9</th>\n",
       "      <td>3</td>\n",
       "    </tr>\n",
       "  </tbody>\n",
       "</table>\n",
       "</div>"
      ],
      "text/plain": [
       "   col\n",
       "3    0\n",
       "5    1\n",
       "7    2\n",
       "9    3"
      ]
     },
     "execution_count": 11,
     "metadata": {},
     "output_type": "execute_result"
    }
   ],
   "source": [
    "lib.write_batch([adb.WritePayload(\"range_indexed_0\", pd.DataFrame({\"col\": [0, 1]}, index=pd.RangeIndex(3, 7, 2))), adb.WritePayload(\"range_indexed_1\", pd.DataFrame({\"col\": [2, 3]}, index=pd.RangeIndex(0, 4, 2)))])\n",
    "adb.concat(lib.read_batch([\"range_indexed_0\", \"range_indexed_1\"], lazy=True)).collect().data"
   ]
  },
  {
   "cell_type": "markdown",
   "id": "7e0a26c9-ecef-43ed-a621-4b76bc85d51b",
   "metadata": {},
   "source": [
    "Otherwise, a warning is logged, and the resulting dataframe has a `RangeIndex` with start 0 and step 1:"
   ]
  },
  {
   "cell_type": "code",
   "execution_count": 12,
   "id": "33134809-4854-4c94-b419-b59934af49be",
   "metadata": {},
   "outputs": [
    {
     "name": "stderr",
     "output_type": "stream",
     "text": [
      "20250519 16:26:55.537708 3411651 W arcticdb | Mismatching RangeIndexes being combined, setting to start=0, step=1\n"
     ]
    },
    {
     "data": {
      "text/html": [
       "<div>\n",
       "<style scoped>\n",
       "    .dataframe tbody tr th:only-of-type {\n",
       "        vertical-align: middle;\n",
       "    }\n",
       "\n",
       "    .dataframe tbody tr th {\n",
       "        vertical-align: top;\n",
       "    }\n",
       "\n",
       "    .dataframe thead th {\n",
       "        text-align: right;\n",
       "    }\n",
       "</style>\n",
       "<table border=\"1\" class=\"dataframe\">\n",
       "  <thead>\n",
       "    <tr style=\"text-align: right;\">\n",
       "      <th></th>\n",
       "      <th>col</th>\n",
       "    </tr>\n",
       "  </thead>\n",
       "  <tbody>\n",
       "    <tr>\n",
       "      <th>0</th>\n",
       "      <td>0</td>\n",
       "    </tr>\n",
       "    <tr>\n",
       "      <th>1</th>\n",
       "      <td>1</td>\n",
       "    </tr>\n",
       "    <tr>\n",
       "      <th>2</th>\n",
       "      <td>2</td>\n",
       "    </tr>\n",
       "    <tr>\n",
       "      <th>3</th>\n",
       "      <td>3</td>\n",
       "    </tr>\n",
       "  </tbody>\n",
       "</table>\n",
       "</div>"
      ],
      "text/plain": [
       "   col\n",
       "0    0\n",
       "1    1\n",
       "2    2\n",
       "3    3"
      ]
     },
     "execution_count": 12,
     "metadata": {},
     "output_type": "execute_result"
    }
   ],
   "source": [
    "lib.write_batch([adb.WritePayload(\"range_indexed_2\", pd.DataFrame({\"col\": [0, 1]}, index=pd.RangeIndex(3, 7, 2))), adb.WritePayload(\"range_indexed_3\", pd.DataFrame({\"col\": [2, 3]}, index=pd.RangeIndex(0, 6, 3)))])\n",
    "adb.concat(lib.read_batch([\"range_indexed_2\", \"range_indexed_3\"], lazy=True)).collect().data"
   ]
  },
  {
   "cell_type": "markdown",
   "id": "69efe863-3799-460d-a40e-fed258149b47",
   "metadata": {},
   "source": [
    "## 3. Inner Joins\n",
    "\n",
    "* In the examples above, all of the input dataframes have the same column names and dtypes, and no arguments have been provided to `adb.concat` beyond the list of lazy dataframes to be concatenated.\n",
    "* `adb.concat` takes an additional argument `join`, which should be one of `\"inner\"` or `\"outer\"` (default is `\"outer\"`), which dictates whether to take the intersection (inner) or union (outer) of columns from the input symbols.\n",
    "* If the dtypes of columns being joined together do not match exactly, then type promotion to a common type will occur if such a type exists."
   ]
  },
  {
   "cell_type": "markdown",
   "id": "ea1c25c8-0ec6-4636-86e3-cffc78618d52",
   "metadata": {},
   "source": [
    "### Use inner join to retain only columns present in **all** input symbols\n",
    "\n",
    "* Only columns `b` and `c` are present in all of the input symbols\n",
    "* The ordering of the output columns is taken from the first symbol (`inner_0` in this case)"
   ]
  },
  {
   "cell_type": "code",
   "execution_count": 13,
   "id": "aa24cbba-a59a-4eb5-9f7d-231bd00a57ec",
   "metadata": {},
   "outputs": [
    {
     "data": {
      "text/html": [
       "<div>\n",
       "<style scoped>\n",
       "    .dataframe tbody tr th:only-of-type {\n",
       "        vertical-align: middle;\n",
       "    }\n",
       "\n",
       "    .dataframe tbody tr th {\n",
       "        vertical-align: top;\n",
       "    }\n",
       "\n",
       "    .dataframe thead th {\n",
       "        text-align: right;\n",
       "    }\n",
       "</style>\n",
       "<table border=\"1\" class=\"dataframe\">\n",
       "  <thead>\n",
       "    <tr style=\"text-align: right;\">\n",
       "      <th></th>\n",
       "      <th>b</th>\n",
       "      <th>c</th>\n",
       "    </tr>\n",
       "  </thead>\n",
       "  <tbody>\n",
       "    <tr>\n",
       "      <th>0</th>\n",
       "      <td>0</td>\n",
       "      <td>0</td>\n",
       "    </tr>\n",
       "    <tr>\n",
       "      <th>1</th>\n",
       "      <td>1</td>\n",
       "      <td>1</td>\n",
       "    </tr>\n",
       "    <tr>\n",
       "      <th>2</th>\n",
       "      <td>2</td>\n",
       "      <td>2</td>\n",
       "    </tr>\n",
       "  </tbody>\n",
       "</table>\n",
       "</div>"
      ],
      "text/plain": [
       "   b  c\n",
       "0  0  0\n",
       "1  1  1\n",
       "2  2  2"
      ]
     },
     "execution_count": 13,
     "metadata": {},
     "output_type": "execute_result"
    }
   ],
   "source": [
    "lib.write(\"inner_0\", pd.DataFrame({\"a\": [0], \"b\": [0], \"c\": [0], \"d\": [0]}))\n",
    "lib.write(\"inner_1\", pd.DataFrame({\"c\": [1], \"b\": [1], \"e\": [1]}))\n",
    "lib.write(\"inner_2\", pd.DataFrame({\"f\": [2], \"b\": [2], \"c\": [2], \"d\": [0]}))\n",
    "lazy_dfs = lib.read_batch([\"inner_0\", \"inner_1\", \"inner_2\"], lazy=True)\n",
    "adb.concat(lazy_dfs, join=\"inner\").collect().data"
   ]
  },
  {
   "cell_type": "markdown",
   "id": "954352fa-0dc0-4857-a1d0-121aef72c8b1",
   "metadata": {},
   "source": [
    "### Types are promoted to a valid common type where possible, or an exception is thrown if not"
   ]
  },
  {
   "cell_type": "code",
   "execution_count": 14,
   "id": "030bd429-3242-4a49-a1d5-a28728e45434",
   "metadata": {},
   "outputs": [
    {
     "data": {
      "text/plain": [
       "VersionedItem(symbol='type_promotion_str', library='concat', data=n/a, version=0, metadata=None, host='LMDB(path=/users/is/aowens/source/man.arcticdb/arcticdb_link/docs/mkdocs/docs/notebooks/arcticdb_concat)', timestamp=1747668420389905134)"
      ]
     },
     "execution_count": 14,
     "metadata": {},
     "output_type": "execute_result"
    }
   ],
   "source": [
    "lib.write(\"type_promotion_uint16\", pd.DataFrame({\"a\": np.arange(0, 1, dtype=np.uint16)}))\n",
    "lib.write(\"type_promotion_int16\", pd.DataFrame({\"a\": np.arange(3, 4, dtype=np.int16)}))\n",
    "lib.write(\"type_promotion_int64\", pd.DataFrame({\"a\": np.arange(4, 5, dtype=np.int64)}))\n",
    "lib.write(\"type_promotion_float64\", pd.DataFrame({\"a\": np.arange(4, 5, dtype=np.float64)}))\n",
    "lib.write(\"type_promotion_str\", pd.DataFrame({\"a\": [\"hello\"]}))"
   ]
  },
  {
   "cell_type": "code",
   "execution_count": 15,
   "id": "a8006d6a-d976-46b5-b53e-4402b9c7cc8f",
   "metadata": {},
   "outputs": [
    {
     "data": {
      "text/plain": [
       "dtype('int32')"
      ]
     },
     "execution_count": 15,
     "metadata": {},
     "output_type": "execute_result"
    }
   ],
   "source": [
    "# int32 can represent all of the values in both the uint16 and int16 dtypes\n",
    "lazy_dfs = lib.read_batch([\"type_promotion_uint16\", \"type_promotion_int16\"], lazy=True)\n",
    "adb.concat(lazy_dfs).collect().data[\"a\"].dtype"
   ]
  },
  {
   "cell_type": "code",
   "execution_count": 16,
   "id": "a9e031be-ecc2-444e-83d9-0deacfd5d335",
   "metadata": {},
   "outputs": [
    {
     "data": {
      "text/plain": [
       "dtype('float64')"
      ]
     },
     "execution_count": 16,
     "metadata": {},
     "output_type": "execute_result"
    }
   ],
   "source": [
    "# float64 cannot represent all of the values in the int64 dtype, but it is the best we can do\n",
    "lazy_dfs = lib.read_batch([\"type_promotion_int64\", \"type_promotion_float64\"], lazy=True)\n",
    "adb.concat(lazy_dfs).collect().data[\"a\"].dtype"
   ]
  },
  {
   "cell_type": "code",
   "execution_count": 17,
   "id": "bb1ae630-fa59-41f1-a5a7-21a9413f28ef",
   "metadata": {},
   "outputs": [
    {
     "name": "stdout",
     "output_type": "stream",
     "text": [
      "E_DESCRIPTOR_MISMATCH No common type between INT64 and UTF_DYNAMIC64 when joining schemas\n"
     ]
    }
   ],
   "source": [
    "# There is no sensible type we can use to combine string and numeric columns, so we throw in this case\n",
    "lazy_dfs = lib.read_batch([\"type_promotion_int64\", \"type_promotion_str\"], lazy=True)\n",
    "try:\n",
    "    adb.concat(lazy_dfs).collect().data[\"a\"].dtype\n",
    "except adb.exceptions.SchemaException as e:\n",
    "    print(e)"
   ]
  },
  {
   "cell_type": "markdown",
   "id": "a3c2cb74-8550-4d77-87fa-f7936bd5281b",
   "metadata": {},
   "source": [
    "## 4. Outer Joins\n",
    "\n",
    "* The same type promotion rules apply with outer joins as with inner joins\n",
    "* Missing columns are backfilled with the same type-specific values as with dynamic schema:\n",
    "    * strings: None\n",
    "    * floats: NaN\n",
    "    * integers: 0\n",
    "\n",
    "Note that the behaviour with integers is different to Pandas, which changes the type of the column to `float64` and then fills in the missing values with NaNs"
   ]
  },
  {
   "cell_type": "code",
   "execution_count": 18,
   "id": "5f2c0ebd-56d2-4ca8-8719-768c1edbe880",
   "metadata": {},
   "outputs": [
    {
     "data": {
      "text/html": [
       "<div>\n",
       "<style scoped>\n",
       "    .dataframe tbody tr th:only-of-type {\n",
       "        vertical-align: middle;\n",
       "    }\n",
       "\n",
       "    .dataframe tbody tr th {\n",
       "        vertical-align: top;\n",
       "    }\n",
       "\n",
       "    .dataframe thead th {\n",
       "        text-align: right;\n",
       "    }\n",
       "</style>\n",
       "<table border=\"1\" class=\"dataframe\">\n",
       "  <thead>\n",
       "    <tr style=\"text-align: right;\">\n",
       "      <th></th>\n",
       "      <th>string</th>\n",
       "      <th>float</th>\n",
       "      <th>int</th>\n",
       "      <th>another string</th>\n",
       "      <th>another float</th>\n",
       "      <th>another int</th>\n",
       "    </tr>\n",
       "  </thead>\n",
       "  <tbody>\n",
       "    <tr>\n",
       "      <th>0</th>\n",
       "      <td>hello</td>\n",
       "      <td>0.5</td>\n",
       "      <td>0</td>\n",
       "      <td>None</td>\n",
       "      <td>NaN</td>\n",
       "      <td>0</td>\n",
       "    </tr>\n",
       "    <tr>\n",
       "      <th>1</th>\n",
       "      <td>None</td>\n",
       "      <td>NaN</td>\n",
       "      <td>0</td>\n",
       "      <td>goodbye</td>\n",
       "      <td>1.5</td>\n",
       "      <td>1</td>\n",
       "    </tr>\n",
       "  </tbody>\n",
       "</table>\n",
       "</div>"
      ],
      "text/plain": [
       "  string  float  int another string  another float  another int\n",
       "0  hello    0.5    0           None            NaN            0\n",
       "1   None    NaN    0        goodbye            1.5            1"
      ]
     },
     "execution_count": 18,
     "metadata": {},
     "output_type": "execute_result"
    }
   ],
   "source": [
    "lib.write(\"missing_columns_0\", pd.DataFrame({\"string\": [\"hello\"], \"float\": [0.5], \"int\": [0]}))\n",
    "lib.write(\"missing_columns_1\", pd.DataFrame({\"another string\": [\"goodbye\"], \"another float\": [1.5], \"another int\": [1]}))\n",
    "lazy_dfs = lib.read_batch([\"missing_columns_0\", \"missing_columns_1\"], lazy=True)\n",
    "adb.concat(lazy_dfs, join=\"outer\").collect().data"
   ]
  },
  {
   "cell_type": "markdown",
   "id": "72c77b97-4f93-410f-bfaa-8a1600936b6e",
   "metadata": {},
   "source": [
    "## Permissiveness\n",
    "\n",
    "Where possible, we allow joining symbols together whenever it is sensible to do so"
   ]
  },
  {
   "cell_type": "markdown",
   "id": "001b98b7-ff89-489b-9851-6a69f7c3752d",
   "metadata": {},
   "source": [
    "### Joining Series together will maintain the name if it is the same between all of the input symbols, and return an unnamed Series otherwise"
   ]
  },
  {
   "cell_type": "code",
   "execution_count": 19,
   "id": "8e48c990-be0f-4c56-b8ba-cb2f919404e3",
   "metadata": {},
   "outputs": [
    {
     "data": {
      "text/plain": [
       "VersionedItem(symbol='series_2', library='concat', data=n/a, version=0, metadata=None, host='LMDB(path=/users/is/aowens/source/man.arcticdb/arcticdb_link/docs/mkdocs/docs/notebooks/arcticdb_concat)', timestamp=1747668429668528542)"
      ]
     },
     "execution_count": 19,
     "metadata": {},
     "output_type": "execute_result"
    }
   ],
   "source": [
    "lib.write(\"series_0\", pd.Series([0], name=\"Name 0\"))\n",
    "lib.write(\"series_1\", pd.Series([1], name=\"Name 0\"))\n",
    "lib.write(\"series_2\", pd.Series([2], name=\"Name 2\"))"
   ]
  },
  {
   "cell_type": "code",
   "execution_count": 20,
   "id": "fd3a54b1-cdac-4b51-a51f-3fdd7fc0eacb",
   "metadata": {},
   "outputs": [
    {
     "data": {
      "text/plain": [
       "0    0\n",
       "1    1\n",
       "Name: Name 0, dtype: int64"
      ]
     },
     "execution_count": 20,
     "metadata": {},
     "output_type": "execute_result"
    }
   ],
   "source": [
    "lazy_dfs = lib.read_batch([\"series_0\", \"series_1\"], lazy=True)\n",
    "adb.concat(lazy_dfs).collect().data"
   ]
  },
  {
   "cell_type": "code",
   "execution_count": 21,
   "id": "5f6fe9c1-d327-45fd-ad6e-a38de78ccb2e",
   "metadata": {},
   "outputs": [
    {
     "data": {
      "text/plain": [
       "0    0\n",
       "1    1\n",
       "2    2\n",
       "dtype: int64"
      ]
     },
     "execution_count": 21,
     "metadata": {},
     "output_type": "execute_result"
    }
   ],
   "source": [
    "lazy_dfs = lib.read_batch([\"series_0\", \"series_1\", \"series_2\"], lazy=True)\n",
    "adb.concat(lazy_dfs).collect().data"
   ]
  },
  {
   "cell_type": "markdown",
   "id": "6287fc42-4972-4357-912d-f3b9808cea0a",
   "metadata": {},
   "source": [
    "### Similarly, joining timeseries together will maintain the index name if it is the same between all of the input symbols, and return a dataframe with an unnamed index otherwise"
   ]
  },
  {
   "cell_type": "code",
   "execution_count": 22,
   "id": "c698bcdd-a6cb-4ad6-93d0-e87987fc4ec9",
   "metadata": {},
   "outputs": [
    {
     "data": {
      "text/plain": [
       "VersionedItem(symbol='timeseries_2', library='concat', data=n/a, version=0, metadata=None, host='LMDB(path=/users/is/aowens/source/man.arcticdb/arcticdb_link/docs/mkdocs/docs/notebooks/arcticdb_concat)', timestamp=1747668433533639018)"
      ]
     },
     "execution_count": 22,
     "metadata": {},
     "output_type": "execute_result"
    }
   ],
   "source": [
    "lib.write(\"timeseries_0\", pd.DataFrame({\"col\": [0]}, index=pd.DatetimeIndex([pd.Timestamp(\"2025-01-01\")], name=\"timestamp\")))\n",
    "lib.write(\"timeseries_1\", pd.DataFrame({\"col\": [1]}, index=pd.DatetimeIndex([pd.Timestamp(\"2025-01-01\")], name=\"timestamp\")))\n",
    "lib.write(\"timeseries_2\", pd.DataFrame({\"col\": [2]}, index=pd.DatetimeIndex([pd.Timestamp(\"2025-01-01\")])))"
   ]
  },
  {
   "cell_type": "code",
   "execution_count": 23,
   "id": "abf44692-52cc-434e-a979-f804c9f0725b",
   "metadata": {},
   "outputs": [
    {
     "data": {
      "text/html": [
       "<div>\n",
       "<style scoped>\n",
       "    .dataframe tbody tr th:only-of-type {\n",
       "        vertical-align: middle;\n",
       "    }\n",
       "\n",
       "    .dataframe tbody tr th {\n",
       "        vertical-align: top;\n",
       "    }\n",
       "\n",
       "    .dataframe thead th {\n",
       "        text-align: right;\n",
       "    }\n",
       "</style>\n",
       "<table border=\"1\" class=\"dataframe\">\n",
       "  <thead>\n",
       "    <tr style=\"text-align: right;\">\n",
       "      <th></th>\n",
       "      <th>col</th>\n",
       "    </tr>\n",
       "    <tr>\n",
       "      <th>timestamp</th>\n",
       "      <th></th>\n",
       "    </tr>\n",
       "  </thead>\n",
       "  <tbody>\n",
       "    <tr>\n",
       "      <th>2025-01-01</th>\n",
       "      <td>0</td>\n",
       "    </tr>\n",
       "    <tr>\n",
       "      <th>2025-01-01</th>\n",
       "      <td>1</td>\n",
       "    </tr>\n",
       "  </tbody>\n",
       "</table>\n",
       "</div>"
      ],
      "text/plain": [
       "            col\n",
       "timestamp      \n",
       "2025-01-01    0\n",
       "2025-01-01    1"
      ]
     },
     "execution_count": 23,
     "metadata": {},
     "output_type": "execute_result"
    }
   ],
   "source": [
    "lazy_dfs = lib.read_batch([\"timeseries_0\", \"timeseries_1\"], lazy=True)\n",
    "adb.concat(lazy_dfs).collect().data"
   ]
  },
  {
   "cell_type": "code",
   "execution_count": 24,
   "id": "7860100f-e685-4898-acb6-343b0e494c6e",
   "metadata": {},
   "outputs": [
    {
     "data": {
      "text/html": [
       "<div>\n",
       "<style scoped>\n",
       "    .dataframe tbody tr th:only-of-type {\n",
       "        vertical-align: middle;\n",
       "    }\n",
       "\n",
       "    .dataframe tbody tr th {\n",
       "        vertical-align: top;\n",
       "    }\n",
       "\n",
       "    .dataframe thead th {\n",
       "        text-align: right;\n",
       "    }\n",
       "</style>\n",
       "<table border=\"1\" class=\"dataframe\">\n",
       "  <thead>\n",
       "    <tr style=\"text-align: right;\">\n",
       "      <th></th>\n",
       "      <th>col</th>\n",
       "    </tr>\n",
       "  </thead>\n",
       "  <tbody>\n",
       "    <tr>\n",
       "      <th>2025-01-01</th>\n",
       "      <td>0</td>\n",
       "    </tr>\n",
       "    <tr>\n",
       "      <th>2025-01-01</th>\n",
       "      <td>1</td>\n",
       "    </tr>\n",
       "    <tr>\n",
       "      <th>2025-01-01</th>\n",
       "      <td>2</td>\n",
       "    </tr>\n",
       "  </tbody>\n",
       "</table>\n",
       "</div>"
      ],
      "text/plain": [
       "            col\n",
       "2025-01-01    0\n",
       "2025-01-01    1\n",
       "2025-01-01    2"
      ]
     },
     "execution_count": 24,
     "metadata": {},
     "output_type": "execute_result"
    }
   ],
   "source": [
    "lazy_dfs = lib.read_batch([\"timeseries_0\", \"timeseries_1\", \"timeseries_2\"], lazy=True)\n",
    "adb.concat(lazy_dfs).collect().data"
   ]
  },
  {
   "cell_type": "markdown",
   "id": "e2180f79-3792-4642-8e8b-51b9c41f7345",
   "metadata": {},
   "source": [
    "## Conclusion\n",
    "\n",
    "We have demonstrated the following about the ArcticDB concat feature:\n",
    "\n",
    "* Easy to use, especially if you already concat in Pandas\n",
    "* Can be combined with other query functions to build processing pipelines\n",
    "* When more query functions are applied post-concat, will be more performant than Pandas due to ArcticDB's parallel processing implementation"
   ]
  }
 ],
 "metadata": {
  "kernelspec": {
   "display_name": "concat-demo",
   "language": "python",
   "name": "concat-demo"
  },
  "language_info": {
   "codemirror_mode": {
    "name": "ipython",
    "version": 3
   },
   "file_extension": ".py",
   "mimetype": "text/x-python",
   "name": "python",
   "nbconvert_exporter": "python",
   "pygments_lexer": "ipython3",
   "version": "3.11.11"
  },
  "widgets": {
   "application/vnd.jupyter.widget-state+json": {
    "state": {},
    "version_major": 2,
    "version_minor": 0
   }
  }
 },
 "nbformat": 4,
 "nbformat_minor": 5
}
