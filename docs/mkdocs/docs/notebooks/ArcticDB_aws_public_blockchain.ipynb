{
 "cells": [
  {
   "cell_type": "markdown",
   "metadata": {
    "id": "u9UN5nFIlRCz"
   },
   "source": [
    "<hr />\n",
    "<h1 align=\"center\">Loading Bitcoin blockchain data into ArcticDB, using AWS</h1>\n",
    "<center><img src=\"https://raw.githubusercontent.com/man-group/ArcticDB/master/static/ArcticDBCropped.png\" alt=\"ArcticDB Logo\" width=\"400\">\n",
    "<hr />"
   ]
  },
  {
   "cell_type": "markdown",
   "metadata": {},
   "source": [
    "### In this demo, we illustrate how to use AWS with ArcticDB. We are going to\n",
    "* Set up AWS access\n",
    "* Initialise ArcticDB with AWS as storage\n",
    "* Read a section of the Bitcoin blockchain from an AWS public dataset\n",
    "* Store the data in ArcticDB\n",
    "* Read the data back\n",
    "* Perform a simple analysis on the data\n",
    "\n",
    "<hr />"
   ]
  },
  {
   "cell_type": "markdown",
   "metadata": {
    "id": "0sl1JPromJB6"
   },
   "source": [
    "### Install ArcticDB and S3 libraries"
   ]
  },
  {
   "cell_type": "code",
   "execution_count": null,
   "metadata": {
    "id": "QC4mJ72vQqeL"
   },
   "outputs": [],
   "source": [
    "# s3fs is used by pandas.read_parquet('s3://...')\n",
    "%pip install arcticdb boto3 tqdm s3fs"
   ]
  },
  {
   "cell_type": "markdown",
   "metadata": {
    "id": "nOJgw1G1w5DD"
   },
   "source": [
    "### Imports"
   ]
  },
  {
   "cell_type": "code",
   "execution_count": null,
   "metadata": {
    "id": "zCQi46y8w0fn"
   },
   "outputs": [],
   "source": [
    "import os\n",
    "from uuid import uuid4\n",
    "from datetime import timedelta, datetime\n",
    "from tqdm import tqdm\n",
    "import boto3\n",
    "import numpy as np\n",
    "import pandas as pd\n",
    "from botocore import UNSIGNED\n",
    "from botocore.client import Config\n",
    "from arcticdb import Arctic, QueryBuilder, LibraryOptions\n",
    "from google.colab import drive, userdata"
   ]
  },
  {
   "cell_type": "markdown",
   "metadata": {
    "id": "R_zrbJt1wTy_"
   },
   "source": [
    "### Read or Create AWS config"
   ]
  },
  {
   "cell_type": "code",
   "execution_count": null,
   "metadata": {
    "colab": {
     "base_uri": "https://localhost:8080/"
    },
    "id": "hCi_vwbuXlOc",
    "outputId": "47df07c2-f72c-47ea-8fc4-ac856fda99ca"
   },
   "outputs": [],
   "source": [
    "# mount Google Drive for the config file to live on\n",
    "drive.mount('/content/drive')\n",
    "path = '/content/drive/MyDrive/config/awscli.ini'\n",
    "os.environ['AWS_SHARED_CREDENTIALS_FILE'] = path"
   ]
  },
  {
   "cell_type": "code",
   "execution_count": null,
   "metadata": {
    "id": "SqWjlzEcmwwR"
   },
   "outputs": [],
   "source": [
    "check = boto3.session.Session()\n",
    "no_config = check.get_credentials() is None or check.region_name is None\n",
    "\n",
    "if no_config:\n",
    "    print('*'*40)\n",
    "    print('Setup your AWS S3 credentials and region before continuing.')\n",
    "    print('https://boto3.amazonaws.com/v1/documentation/api/latest/guide/credentials.html')\n",
    "    print('*'*40)"
   ]
  },
  {
   "cell_type": "markdown",
   "metadata": {},
   "source": [
    "#### Create a config file\n",
    "* You should only need to run this section once\n",
    "* Enter your AWS details below and change `write_aws_config_file` to True\n",
    "* Future runs can pick up the config file you have save in your Drive"
   ]
  },
  {
   "cell_type": "code",
   "execution_count": null,
   "metadata": {},
   "outputs": [],
   "source": [
    "aws_access_key = \"my_access_key\"\n",
    "aws_secret_access_key = \"my_secret_access_key\"\n",
    "region = \"my_region\"\n",
    "\n",
    "config_text = f\"\"\"\n",
    "[default]\n",
    "aws_access_key_id = {aws_access_key}\n",
    "aws_secret_access_key = {aws_secret_access_key}\n",
    "region = {region}\n",
    "\"\"\"\n",
    "\n",
    "write_aws_config_file = False\n",
    "if write_aws_config_file:\n",
    "    with open(path, 'w') as f:\n",
    "        f.write(text)"
   ]
  },
  {
   "cell_type": "markdown",
   "metadata": {
    "id": "HA5yoFW2vCxx"
   },
   "source": [
    "### Find an AWS bucket or initialise a new one"
   ]
  },
  {
   "cell_type": "code",
   "execution_count": null,
   "metadata": {
    "colab": {
     "base_uri": "https://localhost:8080/"
    },
    "id": "7BbWrSMCvFX6",
    "outputId": "4118839b-69cf-4fdd-c50c-097479eac505"
   },
   "outputs": [],
   "source": [
    "s3 = boto3.resource('s3')\n",
    "region = boto3.session.Session().region_name\n",
    "\n",
    "bucket = [b for b in s3.buckets.all() if b.name.startswith('arcticdb-data-')]\n",
    "\n",
    "if bucket:\n",
    "    bucket_name = bucket[0].name\n",
    "    print('Bucket found:', bucket_name)\n",
    "else:\n",
    "    bucket_name = f'arcticdb-data-{uuid4()}'\n",
    "    s3.create_bucket(Bucket=bucket_name, CreateBucketConfiguration={'LocationConstraint':region})\n",
    "    print('Bucket created:', bucket_name)"
   ]
  },
  {
   "cell_type": "markdown",
   "metadata": {
    "id": "Du9feUapfNIY"
   },
   "source": [
    "### Initialise ArcticDB"
   ]
  },
  {
   "cell_type": "code",
   "execution_count": null,
   "metadata": {
    "colab": {
     "base_uri": "https://localhost:8080/"
    },
    "id": "iTryr939Txog",
    "outputId": "f3bb8f99-60d4-4b7e-9e01-1d92b1bcf72e"
   },
   "outputs": [],
   "source": [
    "# create an arcticdb instance in that bucket\n",
    "arctic = Arctic(f's3://s3.{region}.amazonaws.com:{bucket_name}?aws_auth=true')\n",
    "\n",
    "if 'btc' not in arctic.list_libraries():\n",
    "    # library does not already exist\n",
    "    arctic.create_library('btc', library_options=LibraryOptions(dynamic_schema=True))\n",
    "library = arctic.get_library('btc')\n",
    "library"
   ]
  },
  {
   "cell_type": "markdown",
   "metadata": {
    "id": "_29nxrb4kQj0"
   },
   "source": [
    "### Mark the BTC blockchain data from June 2023 for processing"
   ]
  },
  {
   "cell_type": "code",
   "execution_count": null,
   "metadata": {
    "colab": {
     "base_uri": "https://localhost:8080/"
    },
    "id": "7g57h2HGkO1n",
    "outputId": "6f376f4e-1150-4cb7-e63e-628d55058b81"
   },
   "outputs": [],
   "source": [
    "# create the list of all btc blockchain files\n",
    "bucket = s3.Bucket('aws-public-blockchain')\n",
    "objects = bucket.objects.filter(Prefix='v1.0/btc/transactions/')\n",
    "files = pd.DataFrame({'path': [obj.key for obj in objects]})"
   ]
  },
  {
   "cell_type": "code",
   "execution_count": null,
   "metadata": {
    "colab": {
     "base_uri": "https://localhost:8080/"
    },
    "id": "3AMV2YB-YJip",
    "outputId": "86a9d24d-df3e-40d3-9012-2dc06e4368f4"
   },
   "outputs": [],
   "source": [
    "# filter only 2023-06 files to keep run time manageable\n",
    "files_mask = files['path'].str.contains('2023-06')\n",
    "print(f\"Identified {np.count_nonzero(files_mask)} / {len(files)} files for processing\")\n",
    "to_load = files[files_mask]['path']"
   ]
  },
  {
   "cell_type": "markdown",
   "metadata": {
    "id": "4cwsv8XlfZIu"
   },
   "source": [
    "### Import the data into ArcticDB\n",
    "This can take a few minutes to run"
   ]
  },
  {
   "cell_type": "code",
   "execution_count": null,
   "metadata": {
    "colab": {
     "base_uri": "https://localhost:8080/"
    },
    "id": "IS49VzDuIvup",
    "outputId": "69f8532f-d19d-473d-f9a0-2d3024ffc6cb"
   },
   "outputs": [],
   "source": [
    "%%time\n",
    "for path in tqdm(to_load):\n",
    "    df = pd.read_parquet('s3://aws-public-blockchain/'+path, storage_options={\"anon\": True})\n",
    "    # fixup types from source data\n",
    "    df['hash'] =  df['hash'].astype(str)\n",
    "    df['block_hash'] = df['block_hash'].astype(str)\n",
    "    df['outputs'] = df['outputs'].astype(str)\n",
    "    df['date'] = pd.to_datetime(df['date'], unit='ns')\n",
    "    if 'inputs' in df.columns:\n",
    "        df['inputs'] = df['inputs'].astype(str)\n",
    "    # index on timestamp\n",
    "    df.set_index('block_timestamp', inplace=True)\n",
    "    df.sort_index(inplace=True)\n",
    "    # write the data\n",
    "    library.update('transactions', df)\n",
    "    # compaction step (optional) to make future reads faster\n",
    "    if library.is_symbol_fragmented('transactions'):\n",
    "        library.defragment_symbol_data('transactions')\n"
   ]
  },
  {
   "cell_type": "markdown",
   "metadata": {},
   "source": [
    "### Read the data from ArcticDB"
   ]
  },
  {
   "cell_type": "code",
   "execution_count": null,
   "metadata": {
    "colab": {
     "base_uri": "https://localhost:8080/"
    },
    "id": "sRT9W55VYdiW",
    "outputId": "97a5efdb-4c46-46a8-bc5b-bcd67a2ac791"
   },
   "outputs": [],
   "source": [
    "%%time\n",
    "plot_start = datetime(2011, 6, 1, 0, 0)\n",
    "plot_end = plot_start + timedelta(days=14)\n",
    "df = library.read('transactions', date_range=(plot_start, plot_end)).data\n",
    "print(len(df))"
   ]
  },
  {
   "cell_type": "markdown",
   "metadata": {},
   "source": [
    "### Chart the transaction fees per day"
   ]
  },
  {
   "cell_type": "code",
   "execution_count": null,
   "metadata": {
    "colab": {
     "base_uri": "https://localhost:8080/",
     "height": 735
    },
    "id": "_vq3zTo0Yuwh",
    "outputId": "ce1a22c4-3576-43ad-8b62-46e86e2368ec"
   },
   "outputs": [],
   "source": [
    "fees_per_day = df.groupby(pd.Grouper(freq='1D')).sum(numeric_only=True)\n",
    "t = f\"BTC Blockchain: Total fees per pay from {plot_start} to {plot_end}\"\n",
    "ax = fees_per_day.plot(kind='bar', y='fee', color='red', figsize=(16, 8), title=t)\n",
    "ax.figure.autofmt_xdate(rotation=60)"
   ]
  },
  {
   "cell_type": "markdown",
   "metadata": {},
   "source": [
    "### Conclusions\n",
    "* We have give a simple recipe for using ArcticDB with AWS\n",
    "* We have demonstrated that ArcticDB is significantly faster than Parquet files in this example\n",
    "* Feel free to tweak the notebook to read a larger set of the files"
   ]
  },
  {
   "cell_type": "code",
   "execution_count": null,
   "metadata": {},
   "outputs": [],
   "source": []
  }
 ],
 "metadata": {
  "colab": {
   "provenance": []
  },
  "kernelspec": {
   "display_name": "Python 3",
   "language": "python",
   "name": "python3"
  },
  "language_info": {
   "codemirror_mode": {
    "name": "ipython",
    "version": 3
   },
   "file_extension": ".py",
   "mimetype": "text/x-python",
   "name": "python",
   "nbconvert_exporter": "python",
   "pygments_lexer": "ipython3",
   "version": "3.11.4"
  }
 },
 "nbformat": 4,
 "nbformat_minor": 4
}
