{
  "cells": [
    {
      "cell_type": "markdown",
      "metadata": {
        "id": "u9UN5nFIlRCz"
      },
      "source": [
        "<hr />\n",
        "<h1 align=\"center\">Loading AWS Bitcoin blockchain data into ArcticDB, using AWS as storage</h1>\n",
        "<center><img src=\"https://raw.githubusercontent.com/man-group/ArcticDB/master/static/ArcticDBCropped.png\" alt=\"ArcticDB Logo\" width=\"400\">\n",
        "<hr />"
      ]
    },
    {
      "cell_type": "markdown",
      "metadata": {
        "id": "cPt51a4BemQX"
      },
      "source": [
        "### In this demo, we illustrate how to use AWS with ArcticDB. We are going to\n",
        "* Set up AWS access\n",
        "* Initialise ArcticDB with AWS as storage\n",
        "* Read a section of the Bitcoin blockchain from an AWS public dataset\n",
        "* Store the data in ArcticDB\n",
        "* Read the data back\n",
        "* Perform a simple analysis on the data\n",
        "\n",
        "<hr />"
      ]
    },
    {
      "cell_type": "markdown",
      "source": [
        "![AwsBlockchainNotebookDiagram.PNG](data:image/png;base64,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)"
      ],
      "metadata": {
        "id": "o5teLkoVQbvD"
      }
    },
    {
      "cell_type": "markdown",
      "metadata": {
        "id": "0sl1JPromJB6"
      },
      "source": [
        "### Install ArcticDB and S3 libraries"
      ]
    },
    {
      "cell_type": "code",
      "execution_count": null,
      "metadata": {
        "id": "QC4mJ72vQqeL"
      },
      "outputs": [],
      "source": [
        "# s3fs is used by pandas.read_parquet('s3://...')\n",
        "%pip install arcticdb boto3 tqdm s3fs fastparquet"
      ]
    },
    {
      "cell_type": "markdown",
      "metadata": {
        "id": "nOJgw1G1w5DD"
      },
      "source": [
        "### Imports"
      ]
    },
    {
      "cell_type": "code",
      "execution_count": 2,
      "metadata": {
        "id": "zCQi46y8w0fn"
      },
      "outputs": [],
      "source": [
        "import os\n",
        "from uuid import uuid4\n",
        "from datetime import timedelta, datetime\n",
        "from tqdm import tqdm\n",
        "import boto3\n",
        "import numpy as np\n",
        "import pandas as pd\n",
        "from botocore import UNSIGNED\n",
        "from botocore.client import Config\n",
        "from arcticdb import Arctic, QueryBuilder, LibraryOptions\n",
        "from google.colab import drive, userdata"
      ]
    },
    {
      "cell_type": "markdown",
      "metadata": {
        "id": "R_zrbJt1wTy_"
      },
      "source": [
        "### Read or Create AWS config"
      ]
    },
    {
      "cell_type": "code",
      "execution_count": 3,
      "metadata": {
        "colab": {
          "base_uri": "https://localhost:8080/",
          "height": 0
        },
        "id": "hCi_vwbuXlOc",
        "outputId": "a96fca5c-8273-41ef-8e58-b326bfec14d0"
      },
      "outputs": [
        {
          "output_type": "stream",
          "name": "stdout",
          "text": [
            "Drive already mounted at /content/drive; to attempt to forcibly remount, call drive.mount(\"/content/drive\", force_remount=True).\n"
          ]
        }
      ],
      "source": [
        "# mount Google Drive for the config file to live on\n",
        "drive.mount('/content/drive')\n",
        "path = '/content/drive/MyDrive/config/awscli.ini'\n",
        "os.environ['AWS_SHARED_CREDENTIALS_FILE'] = path"
      ]
    },
    {
      "cell_type": "code",
      "execution_count": 4,
      "metadata": {
        "id": "SqWjlzEcmwwR"
      },
      "outputs": [],
      "source": [
        "check = boto3.session.Session()\n",
        "no_config = check.get_credentials() is None or check.region_name is None\n",
        "\n",
        "if no_config:\n",
        "    print('*'*40)\n",
        "    print('Setup your AWS S3 credentials and region before continuing.')\n",
        "    print('https://boto3.amazonaws.com/v1/documentation/api/latest/guide/credentials.html')\n",
        "    print('*'*40)"
      ]
    },
    {
      "cell_type": "markdown",
      "metadata": {
        "id": "Lf9pIqTremQZ"
      },
      "source": [
        "#### Create a config file\n",
        "* You should only need to run this section once\n",
        "* Enter your AWS details below and change `write_aws_config_file` to True\n",
        "* Future runs can pick up the config file you have save in your Drive"
      ]
    },
    {
      "cell_type": "code",
      "execution_count": 5,
      "metadata": {
        "id": "BQCAYS7vemQZ"
      },
      "outputs": [],
      "source": [
        "aws_access_key = \"my_access_key\"\n",
        "aws_secret_access_key = \"my_secret_access_key\"\n",
        "region = \"my_region\"\n",
        "\n",
        "config_text = f\"\"\"\n",
        "[default]\n",
        "aws_access_key_id = {aws_access_key}\n",
        "aws_secret_access_key = {aws_secret_access_key}\n",
        "region = {region}\n",
        "\"\"\"\n",
        "\n",
        "write_aws_config_file = False\n",
        "if write_aws_config_file:\n",
        "    with open(path, 'w') as f:\n",
        "        f.write(text)"
      ]
    },
    {
      "cell_type": "markdown",
      "metadata": {
        "id": "HA5yoFW2vCxx"
      },
      "source": [
        "### Set up the AWS bucket\n",
        "* First check for existing buckets to use\n",
        "* Set up a new bucket if there are no suitable existing ones"
      ]
    },
    {
      "cell_type": "code",
      "execution_count": 6,
      "metadata": {
        "colab": {
          "base_uri": "https://localhost:8080/",
          "height": 0
        },
        "id": "7BbWrSMCvFX6",
        "outputId": "c8479c7a-70be-404d-f3fe-3ba52dd4e1cc"
      },
      "outputs": [
        {
          "output_type": "stream",
          "name": "stdout",
          "text": [
            "Bucket found: arcticdb-data-bda6914b-2715-4acd-8b52-fa593af295bd\n"
          ]
        }
      ],
      "source": [
        "s3 = boto3.resource('s3')\n",
        "region = boto3.session.Session().region_name\n",
        "\n",
        "bucket = [b for b in s3.buckets.all() if b.name.startswith('arcticdb-data-')]\n",
        "\n",
        "if bucket:\n",
        "    bucket_name = bucket[0].name\n",
        "    print('Bucket found:', bucket_name)\n",
        "else:\n",
        "    bucket_name = f'arcticdb-data-{uuid4()}'\n",
        "    s3.create_bucket(Bucket=bucket_name, CreateBucketConfiguration={'LocationConstraint':region})\n",
        "    print('Bucket created:', bucket_name)"
      ]
    },
    {
      "cell_type": "markdown",
      "metadata": {
        "id": "Du9feUapfNIY"
      },
      "source": [
        "### Initialise ArcticDB"
      ]
    },
    {
      "cell_type": "code",
      "execution_count": 7,
      "metadata": {
        "colab": {
          "base_uri": "https://localhost:8080/",
          "height": 0
        },
        "id": "iTryr939Txog",
        "outputId": "76295e34-deb0-4ee4-ae4c-4ec6fce42b8f"
      },
      "outputs": [
        {
          "output_type": "execute_result",
          "data": {
            "text/plain": [
              "Library(Arctic(config=S3(endpoint=s3.eu-north-1.amazonaws.com, bucket=arcticdb-data-bda6914b-2715-4acd-8b52-fa593af295bd)), path=btc, storage=s3_storage)"
            ]
          },
          "metadata": {},
          "execution_count": 7
        }
      ],
      "source": [
        "# create an arcticdb instance in the bucket\n",
        "arctic = Arctic(f's3://s3.{region}.amazonaws.com:{bucket_name}?aws_auth=true')\n",
        "\n",
        "if 'btc' not in arctic.list_libraries():\n",
        "    # library does not already exist\n",
        "    arctic.create_library('btc', library_options=LibraryOptions(dynamic_schema=True))\n",
        "library = arctic.get_library('btc')\n",
        "library"
      ]
    },
    {
      "cell_type": "markdown",
      "metadata": {
        "id": "_29nxrb4kQj0"
      },
      "source": [
        "### Mark the BTC blockchain data from June 2023 for processing"
      ]
    },
    {
      "cell_type": "code",
      "execution_count": 8,
      "metadata": {
        "id": "7g57h2HGkO1n"
      },
      "outputs": [],
      "source": [
        "# create the list of all btc blockchain files\n",
        "bucket = s3.Bucket('aws-public-blockchain')\n",
        "objects = bucket.objects.filter(Prefix='v1.0/btc/transactions/')\n",
        "files = pd.DataFrame({'path': [obj.key for obj in objects]})"
      ]
    },
    {
      "cell_type": "code",
      "execution_count": 9,
      "metadata": {
        "colab": {
          "base_uri": "https://localhost:8080/",
          "height": 0
        },
        "id": "3AMV2YB-YJip",
        "outputId": "1f65efe4-8506-4a53-c44e-5147bed67cd7"
      },
      "outputs": [
        {
          "output_type": "stream",
          "name": "stdout",
          "text": [
            "Identified 30 / 5506 files for processing\n"
          ]
        }
      ],
      "source": [
        "# filter only the 2023-06 files to keep run time manageable\n",
        "files_mask = files['path'].str.contains('2023-06')\n",
        "to_load = files[files_mask]['path']\n",
        "print(f\"Identified {len(to_load)} / {len(files)} files for processing\")"
      ]
    },
    {
      "cell_type": "markdown",
      "metadata": {
        "id": "4cwsv8XlfZIu"
      },
      "source": [
        "### Read the data from an AWS public dataset as parquet files\n",
        "This takes some time to run, like 5 to 10 mins"
      ]
    },
    {
      "cell_type": "code",
      "execution_count": 10,
      "metadata": {
        "colab": {
          "base_uri": "https://localhost:8080/",
          "height": 0
        },
        "id": "IS49VzDuIvup",
        "outputId": "d85516f8-c797-4a0d-b6d4-3f422c282067"
      },
      "outputs": [
        {
          "output_type": "stream",
          "name": "stderr",
          "text": [
            "100%|██████████| 30/30 [02:50<00:00,  5.67s/it]\n"
          ]
        },
        {
          "output_type": "stream",
          "name": "stdout",
          "text": [
            "Read and assembled 12147125 transaction records from AWS\n",
            "CPU times: user 31.8 s, sys: 9.58 s, total: 41.4 s\n",
            "Wall time: 2min 59s\n"
          ]
        }
      ],
      "source": [
        "%%time\n",
        "df_list = []\n",
        "for path in tqdm(to_load):\n",
        "    one_day_df = pd.read_parquet('s3://aws-public-blockchain/'+path,\n",
        "                                 storage_options={\"anon\": True},\n",
        "                                 engine='fastparquet')\n",
        "    # fixup types from source data\n",
        "    one_day_df['hash'] =  one_day_df['hash'].astype(str)\n",
        "    one_day_df['block_hash'] = one_day_df['block_hash'].astype(str)\n",
        "    one_day_df['outputs'] = one_day_df['outputs'].astype(str)\n",
        "    one_day_df['date'] = pd.to_datetime(one_day_df['date'], unit='ns')\n",
        "    if 'inputs' in one_day_df.columns:\n",
        "        one_day_df['inputs'] = one_day_df['inputs'].astype(str)\n",
        "    # index on timestamp\n",
        "    one_day_df.set_index('block_timestamp', inplace=True)\n",
        "    one_day_df.sort_index(inplace=True)\n",
        "    df_list.append(one_day_df)\n",
        "df_aws = pd.concat(df_list).sort_index()\n",
        "print(f\"Read and assembled {len(df_aws)} transaction records from AWS\")\n",
        "# release the list to enable garbage collection\n",
        "df_list = None"
      ]
    },
    {
      "cell_type": "markdown",
      "source": [
        "### Write the data to ArcticDB"
      ],
      "metadata": {
        "id": "Sa6YdBfuCnA7"
      }
    },
    {
      "cell_type": "code",
      "source": [
        "%%time\n",
        "library.write('transactions', df_aws)"
      ],
      "metadata": {
        "colab": {
          "base_uri": "https://localhost:8080/",
          "height": 0
        },
        "id": "PdrRyH4P89Bv",
        "outputId": "239b1b3e-a5db-4241-94a5-8d46021dc508"
      },
      "execution_count": 11,
      "outputs": [
        {
          "output_type": "stream",
          "name": "stdout",
          "text": [
            "CPU times: user 27.2 s, sys: 4.47 s, total: 31.6 s\n",
            "Wall time: 45.3 s\n"
          ]
        },
        {
          "output_type": "execute_result",
          "data": {
            "text/plain": [
              "VersionedItem(symbol='transactions', library='btc', data=n/a, version=1487, metadata=None, host='S3(endpoint=s3.eu-north-1.amazonaws.com, bucket=arcticdb-data-bda6914b-2715-4acd-8b52-fa593af295bd)')"
            ]
          },
          "metadata": {},
          "execution_count": 11
        }
      ]
    },
    {
      "cell_type": "markdown",
      "metadata": {
        "id": "qZPTE2l9emQb"
      },
      "source": [
        "### Read the data from ArcticDB\n",
        "This read also applies a date_range filter to get 25 days of data from 3 June"
      ]
    },
    {
      "cell_type": "code",
      "execution_count": 12,
      "metadata": {
        "colab": {
          "base_uri": "https://localhost:8080/",
          "height": 0
        },
        "id": "sRT9W55VYdiW",
        "outputId": "0c97dc76-b439-4951-89c2-76c65141f45c"
      },
      "outputs": [
        {
          "output_type": "stream",
          "name": "stdout",
          "text": [
            "10097090\n",
            "CPU times: user 4.31 s, sys: 3.19 s, total: 7.51 s\n",
            "Wall time: 21.1 s\n"
          ]
        }
      ],
      "source": [
        "%%time\n",
        "plot_start = datetime(2023, 6, 3, 0, 0)\n",
        "plot_end = plot_start + timedelta(days=25)\n",
        "df = library.read('transactions', date_range=(plot_start, plot_end)).data\n",
        "print(len(df))"
      ]
    },
    {
      "cell_type": "markdown",
      "metadata": {
        "id": "vbQJY_1EemQb"
      },
      "source": [
        "### Chart the transaction fees per day"
      ]
    },
    {
      "cell_type": "code",
      "execution_count": 13,
      "metadata": {
        "colab": {
          "base_uri": "https://localhost:8080/",
          "height": 630
        },
        "id": "_vq3zTo0Yuwh",
        "outputId": "77f079fb-823b-4fc0-f6ab-09d0059ebc4e"
      },
      "outputs": [
        {
          "output_type": "display_data",
          "data": {
            "text/plain": [
              "<Figure size 1400x600 with 1 Axes>"
            ],
            "image/png": "[encoded data removed]"
          },
          "metadata": {}
        }
      ],
      "source": [
        "fees_per_day = df.groupby(pd.Grouper(freq='1D')).sum(numeric_only=True)\n",
        "t = f\"BTC Blockchain: Total fees per pay from {plot_start} to {plot_end}\"\n",
        "ax = fees_per_day.plot(kind='bar', y='fee', color='red', figsize=(14, 6), title=t)\n",
        "ax.figure.autofmt_xdate(rotation=60)"
      ]
    },
    {
      "cell_type": "markdown",
      "metadata": {
        "id": "cWnsFH4remQb"
      },
      "source": [
        "### Conclusions\n",
        "* We have give a simple recipe for using ArcticDB with AWS for storage\n",
        "* We have demonstrated that ArcticDB is significantly faster than Parquet files\n",
        "* We have shown how to read a subset of dates from a symbol of timeseries data\n",
        "* If we saved a much larger section of the blockchain, it could still be stored in one symbol and subset chunks read efficiently\n",
        "* Feel free to play around with the notebook to read a larger set of data"
      ]
    },
    {
      "cell_type": "code",
      "source": [],
      "metadata": {
        "id": "X-dFdrTdLVKs"
      },
      "execution_count": 13,
      "outputs": []
    }
  ],
  "metadata": {
    "colab": {
      "provenance": []
    },
    "kernelspec": {
      "display_name": "Python 3",
      "language": "python",
      "name": "python3"
    },
    "language_info": {
      "codemirror_mode": {
        "name": "ipython",
        "version": 3
      },
      "file_extension": ".py",
      "mimetype": "text/x-python",
      "name": "python",
      "nbconvert_exporter": "python",
      "pygments_lexer": "ipython3",
      "version": "3.11.4"
    }
  },
  "nbformat": 4,
  "nbformat_minor": 0
}