{
 "cells": [
  {
   "cell_type": "markdown",
   "metadata": {
    "id": "i1lmND6SQqeM"
   },
   "source": [
    "<center><img src=\"data:image/png;base64,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\"/>\n",
    "</center>"
   ]
  },
  {
   "cell_type": "markdown",
   "metadata": {
    "id": "u9UN5nFIlRCz"
   },
   "source": [
    "# Loading Bitcoin data with ArcticDB"
   ]
  },
  {
   "cell_type": "markdown",
   "metadata": {
    "id": "0sl1JPromJB6"
   },
   "source": [
    "### Install ArcticDB and S3 libraries"
   ]
  },
  {
   "cell_type": "code",
   "execution_count": null,
   "metadata": {
    "colab": {
     "base_uri": "https://localhost:8080/"
    },
    "id": "QC4mJ72vQqeL",
    "outputId": "594ed00a-05c0-4b92-eb04-05fe779ef797"
   },
   "outputs": [],
   "source": [
    "%pip install arcticdb boto3 tqdm s3fs\n",
    "# s3fs is used by pandas.read_parquet('s3://...')"
   ]
  },
  {
   "cell_type": "markdown",
   "metadata": {
    "id": "nOJgw1G1w5DD"
   },
   "source": [
    "### Imports"
   ]
  },
  {
   "cell_type": "code",
   "execution_count": 5,
   "metadata": {
    "id": "zCQi46y8w0fn"
   },
   "outputs": [],
   "source": [
    "import os, getpass\n",
    "from uuid import uuid4\n",
    "from datetime import timedelta\n",
    "from tqdm import tqdm\n",
    "import boto3\n",
    "import pandas as pd\n",
    "from botocore import UNSIGNED\n",
    "from botocore.client import Config\n",
    "from arcticdb import Arctic, QueryBuilder, LibraryOptions"
   ]
  },
  {
   "cell_type": "markdown",
   "metadata": {
    "id": "R_zrbJt1wTy_"
   },
   "source": [
    "### Makes sure some AWS config exists"
   ]
  },
  {
   "cell_type": "code",
   "execution_count": 6,
   "metadata": {
    "colab": {
     "base_uri": "https://localhost:8080/"
    },
    "id": "SqWjlzEcmwwR",
    "outputId": "9b91f96b-46d8-4bc6-c798-ed6072be830c"
   },
   "outputs": [],
   "source": [
    "check = boto3.session.Session()\n",
    "\n",
    "if check.get_credentials() is None or check.region_name is None:\n",
    "    print('*'*40)\n",
    "    print('Setup your AWS S3 credentials and region before continuing.')\n",
    "    print('https://boto3.amazonaws.com/v1/documentation/api/latest/guide/credentials.html')\n",
    "    print('*'*40)"
   ]
  },
  {
   "cell_type": "markdown",
   "metadata": {
    "id": "HA5yoFW2vCxx"
   },
   "source": [
    "### Find bucket or initialise a new one"
   ]
  },
  {
   "cell_type": "code",
   "execution_count": 7,
   "metadata": {
    "colab": {
     "base_uri": "https://localhost:8080/"
    },
    "id": "7BbWrSMCvFX6",
    "outputId": "5dd25fdc-25a1-4379-8b79-1c67e6ad112c"
   },
   "outputs": [
    {
     "name": "stdout",
     "output_type": "stream",
     "text": [
      "Bucket created: arcticdb-data-3355f445-e4b5-4e3b-84ba-b3e237f270ec\n"
     ]
    }
   ],
   "source": [
    "s3 = boto3.resource('s3')\n",
    "region = boto3.session.Session().region_name\n",
    "\n",
    "bucket = [b for b in s3.buckets.all() if b.name.startswith('arcticdb-data-')]\n",
    "\n",
    "if bucket:\n",
    "  bucket_name = bucket[0].name\n",
    "  print('Bucket found:', bucket_name)\n",
    "else:\n",
    "  bucket_name = f'arcticdb-data-{uuid4()}'\n",
    "  s3.create_bucket(Bucket=bucket_name, CreateBucketConfiguration={'LocationConstraint':region})\n",
    "  print('Bucket created:', bucket_name)"
   ]
  },
  {
   "cell_type": "markdown",
   "metadata": {
    "id": "Du9feUapfNIY"
   },
   "source": [
    "### Initialise ArcticDB"
   ]
  },
  {
   "cell_type": "code",
   "execution_count": 8,
   "metadata": {
    "id": "iTryr939Txog"
   },
   "outputs": [
    {
     "data": {
      "text/plain": [
       "Library(Arctic(config=S3(endpoint=s3.eu-west-2.amazonaws.com, bucket=arcticdb-data-3355f445-e4b5-4e3b-84ba-b3e237f270ec)), path=btc, storage=s3_storage)"
      ]
     },
     "execution_count": 8,
     "metadata": {},
     "output_type": "execute_result"
    }
   ],
   "source": [
    "# create an arcticdb instance in that bucket\n",
    "arctic = Arctic(f's3://s3.{region}.amazonaws.com:{bucket_name}?aws_auth=true')\n",
    "\n",
    "if 'btc' not in arctic.list_libraries():\n",
    "    # library does not already exist\n",
    "    arctic.create_library('btc', library_options=LibraryOptions(dynamic_schema=True))\n",
    "library = arctic.get_library('btc')\n",
    "library"
   ]
  },
  {
   "cell_type": "markdown",
   "metadata": {
    "id": "_29nxrb4kQj0"
   },
   "source": [
    "### Find out what data needs importing"
   ]
  },
  {
   "cell_type": "code",
   "execution_count": 9,
   "metadata": {
    "colab": {
     "base_uri": "https://localhost:8080/"
    },
    "id": "7g57h2HGkO1n",
    "outputId": "5ad33ce4-c915-4a85-a07c-f53d902be948"
   },
   "outputs": [
    {
     "name": "stdout",
     "output_type": "stream",
     "text": [
      "First time\n",
      "Need to import 5455 files after 2009-01-02.\n"
     ]
    }
   ],
   "source": [
    "bucket = s3.Bucket('aws-public-blockchain')\n",
    "objects = bucket.objects.filter(Prefix='v1.0/btc/transactions/')\n",
    "files = pd.DataFrame({'path': [obj.key for obj in objects]})\n",
    "\n",
    "files['date'] = files['path'].str.extract(r'(\\d{4}-\\d{2}-\\d{2})')\n",
    "files['date'] = pd.to_datetime(files['date']).dt.date\n",
    "\n",
    "if library.has_symbol('transactions'):\n",
    "    # load everything after the last date in ArcticDB\n",
    "    start = library.get_description('transactions').date_range[1].date()\n",
    "else:\n",
    "    print('First time')\n",
    "    start = files['date'].min() - timedelta(days=1)\n",
    "\n",
    "to_load = files[files['date']>start]['path']\n",
    "print(f'Need to import {len(to_load)} files after {start}.')"
   ]
  },
  {
   "cell_type": "markdown",
   "metadata": {
    "id": "4cwsv8XlfZIu"
   },
   "source": [
    "### Import the data into ArcticDB"
   ]
  },
  {
   "cell_type": "code",
   "execution_count": null,
   "metadata": {
    "colab": {
     "base_uri": "https://localhost:8080/"
    },
    "id": "IS49VzDuIvup",
    "outputId": "d9b27556-428d-4ab7-ad90-76583139ff14"
   },
   "outputs": [
    {
     "name": "stderr",
     "output_type": "stream",
     "text": [
      "  0%|                                                                                                                                                                                                                  | 0/5455 [00:00<?, ?it/s]/home/james/miniforge3/envs/ArcticDB/lib/python3.11/site-packages/fsspec/registry.py:271: UserWarning: Your installed version of s3fs is very old and known to cause\n",
      "severe performance issues, see also https://github.com/dask/dask/issues/10276\n",
      "\n",
      "To fix, you should specify a lower version bound on s3fs, or\n",
      "update the current installation.\n",
      "\n",
      "  warnings.warn(s3_msg)\n",
      "  2%|███▋                                                                                                                                                                                                  | 100/5455 [02:35<2:05:41,  1.41s/it][2023-09-10 16:43:12.318] [arcticdb] [info] Defragmenting data for symbol transactions\n",
      "  2%|███▋                                                                                                                                                                                                  | 101/5455 [02:43<4:57:44,  3.34s/it]"
     ]
    },
    {
     "name": "stdout",
     "output_type": "stream",
     "text": [
      "defrag\n"
     ]
    },
    {
     "name": "stderr",
     "output_type": "stream",
     "text": [
      "  4%|███████▎                                                                                                                                                                                              | 201/5455 [05:17<5:49:30,  3.99s/it][2023-09-10 16:45:44.271] [arcticdb] [info] Defragmenting data for symbol transactions\n"
     ]
    },
    {
     "name": "stdout",
     "output_type": "stream",
     "text": [
      "defrag\n"
     ]
    },
    {
     "name": "stderr",
     "output_type": "stream",
     "text": [
      "  6%|██████████▉                                                                                                                                                                                           | 301/5455 [07:53<6:52:11,  4.80s/it][2023-09-10 16:48:17.109] [arcticdb] [info] Defragmenting data for symbol transactions\n"
     ]
    },
    {
     "name": "stdout",
     "output_type": "stream",
     "text": [
      "defrag\n"
     ]
    },
    {
     "name": "stderr",
     "output_type": "stream",
     "text": [
      "  7%|██████████████▌                                                                                                                                                                                       | 400/5455 [10:18<2:12:33,  1.57s/it][2023-09-10 16:50:55.640] [arcticdb] [info] Defragmenting data for symbol transactions\n",
      "  7%|██████████████▌                                                                                                                                                                                       | 401/5455 [10:34<8:17:53,  5.91s/it]"
     ]
    },
    {
     "name": "stdout",
     "output_type": "stream",
     "text": [
      "defrag\n"
     ]
    },
    {
     "name": "stderr",
     "output_type": "stream",
     "text": [
      "  9%|██████████████████▏                                                                                                                                                                                   | 500/5455 [13:14<2:02:56,  1.49s/it][2023-09-10 16:53:51.394] [arcticdb] [info] Defragmenting data for symbol transactions\n",
      "  9%|██████████████████                                                                                                                                                                                   | 501/5455 [13:39<11:38:13,  8.46s/it]"
     ]
    },
    {
     "name": "stdout",
     "output_type": "stream",
     "text": [
      "defrag\n"
     ]
    },
    {
     "name": "stderr",
     "output_type": "stream",
     "text": [
      " 11%|█████████████████████▊                                                                                                                                                                                | 601/5455 [16:55<2:36:22,  1.93s/it][2023-09-10 16:57:31.805] [arcticdb] [info] Defragmenting data for symbol transactions\n",
      " 11%|█████████████████████▋                                                                                                                                                                               | 602/5455 [17:48<23:18:12, 17.29s/it]"
     ]
    },
    {
     "name": "stdout",
     "output_type": "stream",
     "text": [
      "defrag\n"
     ]
    },
    {
     "name": "stderr",
     "output_type": "stream",
     "text": [
      " 13%|█████████████████████████▍                                                                                                                                                                           | 703/5455 [22:37<23:39:32, 17.92s/it][2023-09-10 17:02:19.535] [arcticdb] [info] Defragmenting data for symbol transactions\n"
     ]
    },
    {
     "name": "stdout",
     "output_type": "stream",
     "text": [
      "defrag\n"
     ]
    },
    {
     "name": "stderr",
     "output_type": "stream",
     "text": [
      " 15%|█████████████████████████████▏                                                                                                                                                                        | 803/5455 [27:54<7:08:56,  5.53s/it][2023-09-10 17:08:33.788] [arcticdb] [info] Defragmenting data for symbol transactions\n",
      " 15%|█████████████████████████████                                                                                                                                                                        | 804/5455 [30:04<55:29:09, 42.95s/it]"
     ]
    },
    {
     "name": "stdout",
     "output_type": "stream",
     "text": [
      "defrag\n"
     ]
    },
    {
     "name": "stderr",
     "output_type": "stream",
     "text": [
      " 17%|████████████████████████████████▊                                                                                                                                                                    | 909/5455 [47:21<18:33:06, 14.69s/it]"
     ]
    }
   ],
   "source": [
    "for path in tqdm(to_load):\n",
    "    df = pd.read_parquet('s3://aws-public-blockchain/'+path, storage_options={\"anon\": True})\n",
    "    # fixup types from source data\n",
    "    df['hash'] =  df['hash'].astype(str)\n",
    "    df['block_hash'] = df['block_hash'].astype(str)\n",
    "    df['outputs'] = df['outputs'].astype(str)\n",
    "    df['date'] = pd.to_datetime(df['date'], unit='ns')\n",
    "    if 'inputs' in df.columns:\n",
    "      df['inputs'] = df['inputs'].astype(str)\n",
    "    # index on timestamp\n",
    "    df.set_index('block_timestamp', inplace=True)\n",
    "    df.sort_index(inplace=True)\n",
    "    # write the data\n",
    "    library.append('transactions', df)\n",
    "    if library.is_symbol_fragmented('transactions'):\n",
    "      print('compaction')\n",
    "      library.defragment_symbol_data('transactions')\n"
   ]
  }
 ],
 "metadata": {
  "colab": {
   "include_colab_link": true,
   "provenance": []
  },
  "kernelspec": {
   "display_name": "Python 3 (ipykernel)",
   "language": "python",
   "name": "python3"
  },
  "language_info": {
   "codemirror_mode": {
    "name": "ipython",
    "version": 3
   },
   "file_extension": ".py",
   "mimetype": "text/x-python",
   "name": "python",
   "nbconvert_exporter": "python",
   "pygments_lexer": "ipython3",
   "version": "3.11.5"
  }
 },
 "nbformat": 4,
 "nbformat_minor": 4
}
