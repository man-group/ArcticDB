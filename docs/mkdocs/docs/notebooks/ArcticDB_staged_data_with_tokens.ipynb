{
 "cells": [
  {
   "cell_type": "markdown",
   "id": "7795c31c",
   "metadata": {},
   "source": [
    "<center><img src=\"data:image/png;base64,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\"/>\n",
    "</center>"
   ]
  },
  {
   "cell_type": "markdown",
   "id": "e872dea3-18ae-46b0-975d-c767d3382592",
   "metadata": {},
   "source": [
    "# ArcticDB Staged Data with Tokens Demo"
   ]
  },
  {
   "cell_type": "markdown",
   "id": "a8deeaea-a51d-4a6c-b75d-b1726c53931c",
   "metadata": {},
   "source": [
    "## Preamble"
   ]
  },
  {
   "cell_type": "code",
   "execution_count": 1,
   "id": "bd1bd714-7d66-442b-bb61-5fcb56046937",
   "metadata": {},
   "outputs": [],
   "source": [
    "import pandas as pd\n",
    "import numpy as np\n",
    "import time\n",
    "from multiprocessing import Process, Queue\n",
    "\n",
    "from arcticdb.exceptions import NoSuchVersionException, UnsortedDataException\n",
    "from arcticdb import Arctic, LibraryOptions\n",
    "\n",
    "def make_df(rows: int, cols: int, start_date):\n",
    "    index = pd.date_range(start=pd.to_datetime(start_date), periods=rows, freq=\"D\")\n",
    "    data = np.arange(1, rows * cols + 1).reshape(rows, cols, order=\"F\")\n",
    "    return pd.DataFrame(data, index=index, columns=[f\"col_{i}\" for i in range(cols)])\n",
    "\n",
    "# Below library is configured to have only 2 rows per segment. This is to make the example more readable as the default is 100 000 rows per segment.    \n",
    "def get_lib():\n",
    "    return Arctic(\"lmdb://tmp/stage_tokens_demo\").get_library(\"stage_tokens_demo\", library_options=LibraryOptions(rows_per_segment=2), create_if_missing=True)\n",
    "\n",
    "def clear_lib():\n",
    "    get_lib()._nvs.version_store.clear()\n",
    "\n",
    "sym = \"sym\"\n",
    "clear_lib()\n",
    "lib = get_lib()"
   ]
  },
  {
   "cell_type": "code",
   "execution_count": 2,
   "id": "02cad930-cb04-4bd0-a5f5-140be033637f",
   "metadata": {},
   "outputs": [],
   "source": [
    "df1 = make_df(rows=1, cols=3, start_date=\"2025-01-01\")\n",
    "df2 = make_df(rows=1, cols=3, start_date=\"2025-01-02\")\n",
    "df3 = make_df(rows=1, cols=3, start_date=\"2025-01-03\")"
   ]
  },
  {
   "cell_type": "code",
   "execution_count": 3,
   "id": "43573289-4385-441a-af63-6d3928a24820",
   "metadata": {},
   "outputs": [
    {
     "data": {
      "text/html": [
       "<div>\n",
       "<style scoped>\n",
       "    .dataframe tbody tr th:only-of-type {\n",
       "        vertical-align: middle;\n",
       "    }\n",
       "\n",
       "    .dataframe tbody tr th {\n",
       "        vertical-align: top;\n",
       "    }\n",
       "\n",
       "    .dataframe thead th {\n",
       "        text-align: right;\n",
       "    }\n",
       "</style>\n",
       "<table border=\"1\" class=\"dataframe\">\n",
       "  <thead>\n",
       "    <tr style=\"text-align: right;\">\n",
       "      <th></th>\n",
       "      <th>col_0</th>\n",
       "      <th>col_1</th>\n",
       "      <th>col_2</th>\n",
       "    </tr>\n",
       "  </thead>\n",
       "  <tbody>\n",
       "    <tr>\n",
       "      <th>2025-01-01</th>\n",
       "      <td>1</td>\n",
       "      <td>2</td>\n",
       "      <td>3</td>\n",
       "    </tr>\n",
       "  </tbody>\n",
       "</table>\n",
       "</div>"
      ],
      "text/plain": [
       "            col_0  col_1  col_2\n",
       "2025-01-01      1      2      3"
      ]
     },
     "execution_count": 3,
     "metadata": {},
     "output_type": "execute_result"
    }
   ],
   "source": [
    "df1"
   ]
  },
  {
   "cell_type": "code",
   "execution_count": 4,
   "id": "52b6c381-74fc-4bdd-ba49-f2d579e4a9f4",
   "metadata": {},
   "outputs": [
    {
     "data": {
      "text/html": [
       "<div>\n",
       "<style scoped>\n",
       "    .dataframe tbody tr th:only-of-type {\n",
       "        vertical-align: middle;\n",
       "    }\n",
       "\n",
       "    .dataframe tbody tr th {\n",
       "        vertical-align: top;\n",
       "    }\n",
       "\n",
       "    .dataframe thead th {\n",
       "        text-align: right;\n",
       "    }\n",
       "</style>\n",
       "<table border=\"1\" class=\"dataframe\">\n",
       "  <thead>\n",
       "    <tr style=\"text-align: right;\">\n",
       "      <th></th>\n",
       "      <th>col_0</th>\n",
       "      <th>col_1</th>\n",
       "      <th>col_2</th>\n",
       "    </tr>\n",
       "  </thead>\n",
       "  <tbody>\n",
       "    <tr>\n",
       "      <th>2025-01-02</th>\n",
       "      <td>1</td>\n",
       "      <td>2</td>\n",
       "      <td>3</td>\n",
       "    </tr>\n",
       "  </tbody>\n",
       "</table>\n",
       "</div>"
      ],
      "text/plain": [
       "            col_0  col_1  col_2\n",
       "2025-01-02      1      2      3"
      ]
     },
     "execution_count": 4,
     "metadata": {},
     "output_type": "execute_result"
    }
   ],
   "source": [
    "df2"
   ]
  },
  {
   "cell_type": "code",
   "execution_count": 5,
   "id": "1fa98808-4f53-4996-b633-34f95b7951d4",
   "metadata": {},
   "outputs": [
    {
     "data": {
      "text/html": [
       "<div>\n",
       "<style scoped>\n",
       "    .dataframe tbody tr th:only-of-type {\n",
       "        vertical-align: middle;\n",
       "    }\n",
       "\n",
       "    .dataframe tbody tr th {\n",
       "        vertical-align: top;\n",
       "    }\n",
       "\n",
       "    .dataframe thead th {\n",
       "        text-align: right;\n",
       "    }\n",
       "</style>\n",
       "<table border=\"1\" class=\"dataframe\">\n",
       "  <thead>\n",
       "    <tr style=\"text-align: right;\">\n",
       "      <th></th>\n",
       "      <th>col_0</th>\n",
       "      <th>col_1</th>\n",
       "      <th>col_2</th>\n",
       "    </tr>\n",
       "  </thead>\n",
       "  <tbody>\n",
       "    <tr>\n",
       "      <th>2025-01-03</th>\n",
       "      <td>1</td>\n",
       "      <td>2</td>\n",
       "      <td>3</td>\n",
       "    </tr>\n",
       "  </tbody>\n",
       "</table>\n",
       "</div>"
      ],
      "text/plain": [
       "            col_0  col_1  col_2\n",
       "2025-01-03      1      2      3"
      ]
     },
     "execution_count": 5,
     "metadata": {},
     "output_type": "execute_result"
    }
   ],
   "source": [
    "df3"
   ]
  },
  {
   "cell_type": "markdown",
   "id": "3c8c70ac-539c-4ff5-9c0b-6e2123944bc4",
   "metadata": {},
   "source": [
    "## Old API (still available)"
   ]
  },
  {
   "cell_type": "code",
   "execution_count": 6,
   "id": "a25a757b-f423-4114-ab0b-0d608a1231a9",
   "metadata": {},
   "outputs": [
    {
     "data": {
      "text/plain": [
       "<arcticdb_ext.version_store.StageResult at 0x74eee0086630>"
      ]
     },
     "execution_count": 6,
     "metadata": {},
     "output_type": "execute_result"
    }
   ],
   "source": [
    "lib.stage(sym, df1)"
   ]
  },
  {
   "cell_type": "code",
   "execution_count": 7,
   "id": "0f8312b3-9258-4be7-8915-f2b79fd26e30",
   "metadata": {},
   "outputs": [
    {
     "data": {
      "text/plain": [
       "<arcticdb_ext.version_store.StageResult at 0x74eee0076870>"
      ]
     },
     "execution_count": 7,
     "metadata": {},
     "output_type": "execute_result"
    }
   ],
   "source": [
    "lib.stage(sym, df2)"
   ]
  },
  {
   "cell_type": "code",
   "execution_count": 8,
   "id": "37e38e00-bed3-45ec-9903-3a99505de0e7",
   "metadata": {},
   "outputs": [
    {
     "data": {
      "text/plain": [
       "<arcticdb_ext.version_store.StageResult at 0x74eee0066b30>"
      ]
     },
     "execution_count": 8,
     "metadata": {},
     "output_type": "execute_result"
    }
   ],
   "source": [
    "lib.stage(sym, df3)"
   ]
  },
  {
   "cell_type": "code",
   "execution_count": 9,
   "id": "0e6a9808-adb1-46fc-bf89-ff405f8d0621",
   "metadata": {},
   "outputs": [
    {
     "name": "stdout",
     "output_type": "stream",
     "text": [
      "No verioned data\n"
     ]
    }
   ],
   "source": [
    "try: \n",
    "    lib.read(sym)\n",
    "except NoSuchVersionException:\n",
    "    print(\"No verioned data\")"
   ]
  },
  {
   "cell_type": "code",
   "execution_count": 10,
   "id": "73b7629e-956e-4319-82a6-6d78210d4dab",
   "metadata": {},
   "outputs": [
    {
     "data": {
      "text/plain": [
       "VersionedItem(symbol='sym', library='stage_tokens_demo', data=n/a, version=0, metadata=None, host='LMDB(path=/data/team/data/arctic_native/examples/arctcdb_staged_data_with_tokens/tmp/stage_tokens_demo)', timestamp=1757155536230406795)"
      ]
     },
     "execution_count": 10,
     "metadata": {},
     "output_type": "execute_result"
    }
   ],
   "source": [
    "lib.finalize_staged_data(sym)\n"
   ]
  },
  {
   "cell_type": "code",
   "execution_count": 11,
   "id": "93748f89-7076-4dad-943b-6dc554ee4042",
   "metadata": {},
   "outputs": [
    {
     "data": {
      "text/html": [
       "<div>\n",
       "<style scoped>\n",
       "    .dataframe tbody tr th:only-of-type {\n",
       "        vertical-align: middle;\n",
       "    }\n",
       "\n",
       "    .dataframe tbody tr th {\n",
       "        vertical-align: top;\n",
       "    }\n",
       "\n",
       "    .dataframe thead th {\n",
       "        text-align: right;\n",
       "    }\n",
       "</style>\n",
       "<table border=\"1\" class=\"dataframe\">\n",
       "  <thead>\n",
       "    <tr style=\"text-align: right;\">\n",
       "      <th></th>\n",
       "      <th>col_0</th>\n",
       "      <th>col_1</th>\n",
       "      <th>col_2</th>\n",
       "    </tr>\n",
       "  </thead>\n",
       "  <tbody>\n",
       "    <tr>\n",
       "      <th>2025-01-01</th>\n",
       "      <td>1</td>\n",
       "      <td>2</td>\n",
       "      <td>3</td>\n",
       "    </tr>\n",
       "    <tr>\n",
       "      <th>2025-01-02</th>\n",
       "      <td>1</td>\n",
       "      <td>2</td>\n",
       "      <td>3</td>\n",
       "    </tr>\n",
       "    <tr>\n",
       "      <th>2025-01-03</th>\n",
       "      <td>1</td>\n",
       "      <td>2</td>\n",
       "      <td>3</td>\n",
       "    </tr>\n",
       "  </tbody>\n",
       "</table>\n",
       "</div>"
      ],
      "text/plain": [
       "            col_0  col_1  col_2\n",
       "2025-01-01      1      2      3\n",
       "2025-01-02      1      2      3\n",
       "2025-01-03      1      2      3"
      ]
     },
     "execution_count": 11,
     "metadata": {},
     "output_type": "execute_result"
    }
   ],
   "source": [
    "lib.read(sym).data"
   ]
  },
  {
   "cell_type": "code",
   "execution_count": 12,
   "id": "4225c695-f341-4e07-b436-a31d0d3d715f",
   "metadata": {},
   "outputs": [],
   "source": [
    "clear_lib()"
   ]
  },
  {
   "cell_type": "markdown",
   "id": "86e636ec-f468-4ce5-ae63-1adea4705eae",
   "metadata": {},
   "source": [
    "## New API"
   ]
  },
  {
   "cell_type": "markdown",
   "id": "3a14ae62-ed09-464a-ae14-6c054e63dd16",
   "metadata": {},
   "source": [
    "#### Control over which segments to compact"
   ]
  },
  {
   "cell_type": "code",
   "execution_count": 13,
   "id": "6bbdbfb5-80a9-4fff-be59-32960af28115",
   "metadata": {},
   "outputs": [],
   "source": [
    "stage_result_df1 = lib.stage(sym, df1)"
   ]
  },
  {
   "cell_type": "code",
   "execution_count": 14,
   "id": "426de8a5-84d5-4ad5-8f4b-247ac90aedcf",
   "metadata": {},
   "outputs": [],
   "source": [
    "stage_result_df2 = lib.stage(sym, df2)"
   ]
  },
  {
   "cell_type": "code",
   "execution_count": 15,
   "id": "98e98b13-15e6-4f1f-9f7b-723b398ee44e",
   "metadata": {},
   "outputs": [],
   "source": [
    "stage_result_df3 = lib.stage(sym, df3)"
   ]
  },
  {
   "cell_type": "code",
   "execution_count": 16,
   "id": "32cc29d2-1b60-4ef8-88da-b5ea7cdcca5d",
   "metadata": {},
   "outputs": [
    {
     "data": {
      "text/plain": [
       "VersionedItem(symbol='sym', library='stage_tokens_demo', data=n/a, version=1, metadata=None, host='LMDB(path=/data/team/data/arctic_native/examples/arctcdb_staged_data_with_tokens/tmp/stage_tokens_demo)', timestamp=1757155536735859381)"
      ]
     },
     "execution_count": 16,
     "metadata": {},
     "output_type": "execute_result"
    }
   ],
   "source": [
    "lib.finalize_staged_data(sym, stage_results=[stage_result_df1, stage_result_df3])"
   ]
  },
  {
   "cell_type": "code",
   "execution_count": 17,
   "id": "3f538e90-39a7-4611-bd12-350329f58b26",
   "metadata": {},
   "outputs": [
    {
     "data": {
      "text/html": [
       "<div>\n",
       "<style scoped>\n",
       "    .dataframe tbody tr th:only-of-type {\n",
       "        vertical-align: middle;\n",
       "    }\n",
       "\n",
       "    .dataframe tbody tr th {\n",
       "        vertical-align: top;\n",
       "    }\n",
       "\n",
       "    .dataframe thead th {\n",
       "        text-align: right;\n",
       "    }\n",
       "</style>\n",
       "<table border=\"1\" class=\"dataframe\">\n",
       "  <thead>\n",
       "    <tr style=\"text-align: right;\">\n",
       "      <th></th>\n",
       "      <th>col_0</th>\n",
       "      <th>col_1</th>\n",
       "      <th>col_2</th>\n",
       "    </tr>\n",
       "  </thead>\n",
       "  <tbody>\n",
       "    <tr>\n",
       "      <th>2025-01-01</th>\n",
       "      <td>1</td>\n",
       "      <td>2</td>\n",
       "      <td>3</td>\n",
       "    </tr>\n",
       "    <tr>\n",
       "      <th>2025-01-03</th>\n",
       "      <td>1</td>\n",
       "      <td>2</td>\n",
       "      <td>3</td>\n",
       "    </tr>\n",
       "  </tbody>\n",
       "</table>\n",
       "</div>"
      ],
      "text/plain": [
       "            col_0  col_1  col_2\n",
       "2025-01-01      1      2      3\n",
       "2025-01-03      1      2      3"
      ]
     },
     "execution_count": 17,
     "metadata": {},
     "output_type": "execute_result"
    }
   ],
   "source": [
    "lib.read(sym).data"
   ]
  },
  {
   "cell_type": "markdown",
   "id": "0449ed78-5d4d-4bb7-82e7-ddeee2d6630f",
   "metadata": {},
   "source": [
    "#### df2 is still in the staged index, while df1 and df3 are not"
   ]
  },
  {
   "cell_type": "code",
   "execution_count": 18,
   "id": "fef9d363-1561-427b-bfcd-26fdd4db7b8e",
   "metadata": {},
   "outputs": [
    {
     "data": {
      "text/plain": [
       "VersionedItem(symbol='sym', library='stage_tokens_demo', data=n/a, version=2, metadata=None, host='LMDB(path=/data/team/data/arctic_native/examples/arctcdb_staged_data_with_tokens/tmp/stage_tokens_demo)', timestamp=1757155536921636632)"
      ]
     },
     "execution_count": 18,
     "metadata": {},
     "output_type": "execute_result"
    }
   ],
   "source": [
    "\n",
    "lib.finalize_staged_data(sym, stage_results=[stage_result_df2])"
   ]
  },
  {
   "cell_type": "code",
   "execution_count": 19,
   "id": "b1a08457-9ab9-4496-8be5-24665a23d1c8",
   "metadata": {},
   "outputs": [
    {
     "data": {
      "text/html": [
       "<div>\n",
       "<style scoped>\n",
       "    .dataframe tbody tr th:only-of-type {\n",
       "        vertical-align: middle;\n",
       "    }\n",
       "\n",
       "    .dataframe tbody tr th {\n",
       "        vertical-align: top;\n",
       "    }\n",
       "\n",
       "    .dataframe thead th {\n",
       "        text-align: right;\n",
       "    }\n",
       "</style>\n",
       "<table border=\"1\" class=\"dataframe\">\n",
       "  <thead>\n",
       "    <tr style=\"text-align: right;\">\n",
       "      <th></th>\n",
       "      <th>col_0</th>\n",
       "      <th>col_1</th>\n",
       "      <th>col_2</th>\n",
       "    </tr>\n",
       "  </thead>\n",
       "  <tbody>\n",
       "    <tr>\n",
       "      <th>2025-01-02</th>\n",
       "      <td>1</td>\n",
       "      <td>2</td>\n",
       "      <td>3</td>\n",
       "    </tr>\n",
       "  </tbody>\n",
       "</table>\n",
       "</div>"
      ],
      "text/plain": [
       "            col_0  col_1  col_2\n",
       "2025-01-02      1      2      3"
      ]
     },
     "execution_count": 19,
     "metadata": {},
     "output_type": "execute_result"
    }
   ],
   "source": [
    "lib.read(sym).data"
   ]
  },
  {
   "cell_type": "markdown",
   "id": "f71f7382-c06f-4bb8-a836-adb3efd93d1d",
   "metadata": {},
   "source": [
    "#### Now there is no more staged data"
   ]
  },
  {
   "cell_type": "code",
   "execution_count": 20,
   "id": "b6b1d4b5-03e4-4192-ae56-f0837768f217",
   "metadata": {},
   "outputs": [
    {
     "data": {
      "text/plain": [
       "[]"
      ]
     },
     "execution_count": 20,
     "metadata": {},
     "output_type": "execute_result"
    }
   ],
   "source": [
    "lib.get_staged_symbols()"
   ]
  },
  {
   "cell_type": "code",
   "execution_count": 21,
   "id": "b3b4d242-4e7c-4fbb-b4fc-9ae802c31e9e",
   "metadata": {},
   "outputs": [],
   "source": [
    "clear_lib()"
   ]
  },
  {
   "cell_type": "markdown",
   "id": "aaa48a37-4a15-4e8f-b628-c995a72cca88",
   "metadata": {},
   "source": [
    "## Why do we need this?"
   ]
  },
  {
   "cell_type": "markdown",
   "id": "3f2664c2-3e0f-4ca2-ba0e-34a8ecfb07cd",
   "metadata": {},
   "source": [
    "### Reason 1: Unpredictable data in an event of a crash etc."
   ]
  },
  {
   "cell_type": "markdown",
   "id": "1f744c98-aaf7-4ce0-8a0f-c628ad6f885d",
   "metadata": {},
   "source": [
    "Writes to storage of a single stage() are sometimes more than 1 (if the data is big enough). This means that if the process doesn't finish for some reason (like crash, preemption, etc) it is still possible that it had written some staged data to storage."
   ]
  },
  {
   "cell_type": "code",
   "execution_count": 22,
   "id": "7527174c-c3a6-49d9-b330-05ba72f5bb51",
   "metadata": {},
   "outputs": [
    {
     "data": {
      "text/html": [
       "<div>\n",
       "<style scoped>\n",
       "    .dataframe tbody tr th:only-of-type {\n",
       "        vertical-align: middle;\n",
       "    }\n",
       "\n",
       "    .dataframe tbody tr th {\n",
       "        vertical-align: top;\n",
       "    }\n",
       "\n",
       "    .dataframe thead th {\n",
       "        text-align: right;\n",
       "    }\n",
       "</style>\n",
       "<table border=\"1\" class=\"dataframe\">\n",
       "  <thead>\n",
       "    <tr style=\"text-align: right;\">\n",
       "      <th></th>\n",
       "      <th>col_0</th>\n",
       "      <th>col_1</th>\n",
       "      <th>col_2</th>\n",
       "    </tr>\n",
       "  </thead>\n",
       "  <tbody>\n",
       "    <tr>\n",
       "      <th>2025-01-01</th>\n",
       "      <td>1</td>\n",
       "      <td>11</td>\n",
       "      <td>21</td>\n",
       "    </tr>\n",
       "    <tr>\n",
       "      <th>2025-01-02</th>\n",
       "      <td>2</td>\n",
       "      <td>12</td>\n",
       "      <td>22</td>\n",
       "    </tr>\n",
       "    <tr>\n",
       "      <th>2025-01-03</th>\n",
       "      <td>3</td>\n",
       "      <td>13</td>\n",
       "      <td>23</td>\n",
       "    </tr>\n",
       "    <tr>\n",
       "      <th>2025-01-04</th>\n",
       "      <td>4</td>\n",
       "      <td>14</td>\n",
       "      <td>24</td>\n",
       "    </tr>\n",
       "    <tr>\n",
       "      <th>2025-01-05</th>\n",
       "      <td>5</td>\n",
       "      <td>15</td>\n",
       "      <td>25</td>\n",
       "    </tr>\n",
       "    <tr>\n",
       "      <th>2025-01-06</th>\n",
       "      <td>6</td>\n",
       "      <td>16</td>\n",
       "      <td>26</td>\n",
       "    </tr>\n",
       "    <tr>\n",
       "      <th>2025-01-07</th>\n",
       "      <td>7</td>\n",
       "      <td>17</td>\n",
       "      <td>27</td>\n",
       "    </tr>\n",
       "    <tr>\n",
       "      <th>2025-01-08</th>\n",
       "      <td>8</td>\n",
       "      <td>18</td>\n",
       "      <td>28</td>\n",
       "    </tr>\n",
       "    <tr>\n",
       "      <th>2025-01-09</th>\n",
       "      <td>9</td>\n",
       "      <td>19</td>\n",
       "      <td>29</td>\n",
       "    </tr>\n",
       "    <tr>\n",
       "      <th>2025-01-10</th>\n",
       "      <td>10</td>\n",
       "      <td>20</td>\n",
       "      <td>30</td>\n",
       "    </tr>\n",
       "  </tbody>\n",
       "</table>\n",
       "</div>"
      ],
      "text/plain": [
       "            col_0  col_1  col_2\n",
       "2025-01-01      1     11     21\n",
       "2025-01-02      2     12     22\n",
       "2025-01-03      3     13     23\n",
       "2025-01-04      4     14     24\n",
       "2025-01-05      5     15     25\n",
       "2025-01-06      6     16     26\n",
       "2025-01-07      7     17     27\n",
       "2025-01-08      8     18     28\n",
       "2025-01-09      9     19     29\n",
       "2025-01-10     10     20     30"
      ]
     },
     "execution_count": 22,
     "metadata": {},
     "output_type": "execute_result"
    }
   ],
   "source": [
    "df = make_df(rows=10, cols=3, start_date=\"2025-01-01\")\n",
    "df"
   ]
  },
  {
   "cell_type": "markdown",
   "id": "8f5f6dc0-ad89-4df1-8e73-bc5b363b0f4e",
   "metadata": {},
   "source": [
    "simulated failure modes"
   ]
  },
  {
   "cell_type": "code",
   "execution_count": 23,
   "id": "19b5a400-40f3-4237-84e9-0a3a87a0b55b",
   "metadata": {},
   "outputs": [],
   "source": [
    "def succeeds(q):\n",
    "    q.put(lib.stage(sym, df))\n",
    "\n",
    "def crashes_before_stage(*args):\n",
    "    raise RuntimeError()\n",
    "\n",
    "def crashes_after_stage(*args):\n",
    "    lib.stage(sym, df)\n",
    "    raise RuntimeError()"
   ]
  },
  {
   "cell_type": "code",
   "execution_count": 24,
   "id": "3ab93729-bdcf-496f-9c5a-a95828895ecd",
   "metadata": {},
   "outputs": [],
   "source": [
    "def start_stage_worker(failure_mode):\n",
    "    q = Queue()\n",
    "    worker = Process(target=failure_mode, args=(q,))\n",
    "    worker.start()\n",
    "    worker.join()\n",
    "    if worker.exitcode == 0:\n",
    "        return q.get()"
   ]
  },
  {
   "cell_type": "code",
   "execution_count": 25,
   "id": "7285a41e-916d-41a1-b51b-2a6ea1b09c7d",
   "metadata": {},
   "outputs": [
    {
     "name": "stderr",
     "output_type": "stream",
     "text": [
      "Process Process-1:\n",
      "Traceback (most recent call last):\n",
      "  File \"/pegasus-311-1-venv/lib/python3.11/multiprocessing/process.py\", line 314, in _bootstrap\n",
      "    self.run()\n",
      "  File \"/pegasus-311-1-venv/lib/python3.11/multiprocessing/process.py\", line 108, in run\n",
      "    self._target(*self._args, **self._kwargs)\n",
      "  File \"/tmp/ipykernel_12191/2200260244.py\", line 9, in crashes_after_stage\n",
      "    raise RuntimeError()\n",
      "RuntimeError\n"
     ]
    }
   ],
   "source": [
    "start_stage_worker(failure_mode=crashes_after_stage)"
   ]
  },
  {
   "cell_type": "markdown",
   "id": "e09d1e03-648b-4bb3-852d-a635926e68e3",
   "metadata": {},
   "source": [
    "#### Now that the process has crashed do you restart it to compact again? Doing so may result in duplicated data"
   ]
  },
  {
   "cell_type": "code",
   "execution_count": 26,
   "id": "e43c6098-56fa-44a4-9214-168c41f93cf1",
   "metadata": {},
   "outputs": [
    {
     "data": {
      "text/plain": [
       "<arcticdb_ext.version_store.StageResult at 0x74eee006c8f0>"
      ]
     },
     "execution_count": 26,
     "metadata": {},
     "output_type": "execute_result"
    }
   ],
   "source": [
    "start_stage_worker(failure_mode=succeeds)"
   ]
  },
  {
   "cell_type": "code",
   "execution_count": 27,
   "id": "09e0f6ea-fef6-4cfe-92ed-3e2deeba51b8",
   "metadata": {},
   "outputs": [
    {
     "name": "stdout",
     "output_type": "stream",
     "text": [
      "Error: Unsorted data\n"
     ]
    }
   ],
   "source": [
    "try:\n",
    "    lib.finalize_staged_data(sym)\n",
    "except UnsortedDataException:\n",
    "    print(\"Error: Unsorted data\")"
   ]
  },
  {
   "cell_type": "code",
   "execution_count": 28,
   "id": "fe02d0bd-ae41-4dc3-b6ed-6f7d0bb03ce2",
   "metadata": {},
   "outputs": [],
   "source": [
    "clear_lib()"
   ]
  },
  {
   "cell_type": "markdown",
   "id": "506e68ee-6278-4dd2-906e-be34eaa45521",
   "metadata": {},
   "source": [
    "Previously to fix this kind of problem you had to clear out all staged segments in storage and stage them again."
   ]
  },
  {
   "cell_type": "markdown",
   "id": "455c7116-204c-4b87-a3f7-d099f1b9097c",
   "metadata": {},
   "source": [
    "#### Solution now - compact only successfully completed processes. Now you could rerun a failed job, no matter how it failed, without an issue by passing the correct stage token to finalize."
   ]
  },
  {
   "cell_type": "code",
   "execution_count": 29,
   "id": "441cc9e0-3244-44f2-a207-2d6675cc1b1b",
   "metadata": {},
   "outputs": [
    {
     "name": "stderr",
     "output_type": "stream",
     "text": [
      "Process Process-3:\n",
      "Traceback (most recent call last):\n",
      "  File \"/pegasus-311-1-venv/lib/python3.11/multiprocessing/process.py\", line 314, in _bootstrap\n",
      "    self.run()\n",
      "  File \"/pegasus-311-1-venv/lib/python3.11/multiprocessing/process.py\", line 108, in run\n",
      "    self._target(*self._args, **self._kwargs)\n",
      "  File \"/tmp/ipykernel_12191/2200260244.py\", line 9, in crashes_after_stage\n",
      "    raise RuntimeError()\n",
      "RuntimeError\n"
     ]
    }
   ],
   "source": [
    "start_stage_worker(failure_mode=crashes_after_stage)"
   ]
  },
  {
   "cell_type": "code",
   "execution_count": 30,
   "id": "93806cc0-4a9d-49fa-8df5-1b14c83f58fb",
   "metadata": {},
   "outputs": [
    {
     "name": "stderr",
     "output_type": "stream",
     "text": [
      "Process Process-4:\n",
      "Traceback (most recent call last):\n",
      "  File \"/pegasus-311-1-venv/lib/python3.11/multiprocessing/process.py\", line 314, in _bootstrap\n",
      "    self.run()\n",
      "  File \"/pegasus-311-1-venv/lib/python3.11/multiprocessing/process.py\", line 108, in run\n",
      "    self._target(*self._args, **self._kwargs)\n",
      "  File \"/tmp/ipykernel_12191/2200260244.py\", line 5, in crashes_before_stage\n",
      "    raise RuntimeError()\n",
      "RuntimeError\n"
     ]
    }
   ],
   "source": [
    "start_stage_worker(failure_mode=crashes_before_stage)"
   ]
  },
  {
   "cell_type": "code",
   "execution_count": 31,
   "id": "243bd3b5-de0a-4d40-8c54-a3223b75a13b",
   "metadata": {},
   "outputs": [],
   "source": [
    "stage_result = start_stage_worker(failure_mode=succeeds)"
   ]
  },
  {
   "cell_type": "code",
   "execution_count": 32,
   "id": "9eed17f4-56c3-4536-b7e5-36d148f0a9a9",
   "metadata": {},
   "outputs": [
    {
     "data": {
      "text/plain": [
       "VersionedItem(symbol='sym', library='stage_tokens_demo', data=n/a, version=0, metadata=None, host='LMDB(path=/data/team/data/arctic_native/examples/arctcdb_staged_data_with_tokens/tmp/stage_tokens_demo)', timestamp=1757155538120611508)"
      ]
     },
     "execution_count": 32,
     "metadata": {},
     "output_type": "execute_result"
    }
   ],
   "source": [
    "lib.finalize_staged_data(sym, stage_results=[stage_result])"
   ]
  },
  {
   "cell_type": "code",
   "execution_count": 33,
   "id": "b802adb5-edfe-4eda-9751-6b63ae528921",
   "metadata": {},
   "outputs": [
    {
     "data": {
      "text/html": [
       "<div>\n",
       "<style scoped>\n",
       "    .dataframe tbody tr th:only-of-type {\n",
       "        vertical-align: middle;\n",
       "    }\n",
       "\n",
       "    .dataframe tbody tr th {\n",
       "        vertical-align: top;\n",
       "    }\n",
       "\n",
       "    .dataframe thead th {\n",
       "        text-align: right;\n",
       "    }\n",
       "</style>\n",
       "<table border=\"1\" class=\"dataframe\">\n",
       "  <thead>\n",
       "    <tr style=\"text-align: right;\">\n",
       "      <th></th>\n",
       "      <th>col_0</th>\n",
       "      <th>col_1</th>\n",
       "      <th>col_2</th>\n",
       "    </tr>\n",
       "  </thead>\n",
       "  <tbody>\n",
       "    <tr>\n",
       "      <th>2025-01-01</th>\n",
       "      <td>1</td>\n",
       "      <td>11</td>\n",
       "      <td>21</td>\n",
       "    </tr>\n",
       "    <tr>\n",
       "      <th>2025-01-02</th>\n",
       "      <td>2</td>\n",
       "      <td>12</td>\n",
       "      <td>22</td>\n",
       "    </tr>\n",
       "    <tr>\n",
       "      <th>2025-01-03</th>\n",
       "      <td>3</td>\n",
       "      <td>13</td>\n",
       "      <td>23</td>\n",
       "    </tr>\n",
       "    <tr>\n",
       "      <th>2025-01-04</th>\n",
       "      <td>4</td>\n",
       "      <td>14</td>\n",
       "      <td>24</td>\n",
       "    </tr>\n",
       "    <tr>\n",
       "      <th>2025-01-05</th>\n",
       "      <td>5</td>\n",
       "      <td>15</td>\n",
       "      <td>25</td>\n",
       "    </tr>\n",
       "    <tr>\n",
       "      <th>2025-01-06</th>\n",
       "      <td>6</td>\n",
       "      <td>16</td>\n",
       "      <td>26</td>\n",
       "    </tr>\n",
       "    <tr>\n",
       "      <th>2025-01-07</th>\n",
       "      <td>7</td>\n",
       "      <td>17</td>\n",
       "      <td>27</td>\n",
       "    </tr>\n",
       "    <tr>\n",
       "      <th>2025-01-08</th>\n",
       "      <td>8</td>\n",
       "      <td>18</td>\n",
       "      <td>28</td>\n",
       "    </tr>\n",
       "    <tr>\n",
       "      <th>2025-01-09</th>\n",
       "      <td>9</td>\n",
       "      <td>19</td>\n",
       "      <td>29</td>\n",
       "    </tr>\n",
       "    <tr>\n",
       "      <th>2025-01-10</th>\n",
       "      <td>10</td>\n",
       "      <td>20</td>\n",
       "      <td>30</td>\n",
       "    </tr>\n",
       "  </tbody>\n",
       "</table>\n",
       "</div>"
      ],
      "text/plain": [
       "            col_0  col_1  col_2\n",
       "2025-01-01      1     11     21\n",
       "2025-01-02      2     12     22\n",
       "2025-01-03      3     13     23\n",
       "2025-01-04      4     14     24\n",
       "2025-01-05      5     15     25\n",
       "2025-01-06      6     16     26\n",
       "2025-01-07      7     17     27\n",
       "2025-01-08      8     18     28\n",
       "2025-01-09      9     19     29\n",
       "2025-01-10     10     20     30"
      ]
     },
     "execution_count": 33,
     "metadata": {},
     "output_type": "execute_result"
    }
   ],
   "source": [
    "lib.read(sym).data"
   ]
  },
  {
   "cell_type": "markdown",
   "id": "ea6e62a1-dc69-4dba-9ae0-910888d4537f",
   "metadata": {},
   "source": [
    "This was a simplified example of a common workflow that is to stage data using a pool of Spark workers. However Spark can (and frequently does) preempt a running job, interrupting it on the worker and replacing it with a different queued job and later restarting it (this is to provide some fairness in scheduling across the cluster). For this reason, Spark tasks should be idempotent. The new API makes them so as the StageResult is only returned if the task is completed succesfully. If any fails, it won't produce a StageResult and thus it won't be finalized."
   ]
  },
  {
   "cell_type": "markdown",
   "id": "50a43d2b",
   "metadata": {},
   "source": [
    "Another usage pattern is data from a vendor that is sharded to multiple symbols in Arctic, so a single spark worker will stage data for multiple symbols"
   ]
  },
  {
   "cell_type": "markdown",
   "id": "28e22ace-1a54-4e7e-8fc9-29ba4bef86b6",
   "metadata": {},
   "source": [
    "This leaves the possibility to have orphaned data in storage that is unreachable and not associated with any StageResult. That data can be later removed with `delete_staged_data(sym)` "
   ]
  },
  {
   "cell_type": "code",
   "execution_count": 34,
   "id": "b305bf86-d496-4841-a5f1-dd42a844c910",
   "metadata": {},
   "outputs": [
    {
     "data": {
      "text/plain": [
       "['sym']"
      ]
     },
     "execution_count": 34,
     "metadata": {},
     "output_type": "execute_result"
    }
   ],
   "source": [
    "lib.get_staged_symbols()"
   ]
  },
  {
   "cell_type": "code",
   "execution_count": 35,
   "id": "384eb203-46be-4965-83d1-492fbfb14a4c",
   "metadata": {},
   "outputs": [
    {
     "data": {
      "text/plain": [
       "[]"
      ]
     },
     "execution_count": 35,
     "metadata": {},
     "output_type": "execute_result"
    }
   ],
   "source": [
    "lib.delete_staged_data(sym)\n",
    "lib.get_staged_symbols()"
   ]
  },
  {
   "cell_type": "code",
   "execution_count": 36,
   "id": "b64584cd-91e8-4e65-bc38-300387c3d223",
   "metadata": {},
   "outputs": [],
   "source": [
    "clear_lib()"
   ]
  },
  {
   "cell_type": "markdown",
   "id": "bc97d18b-d8da-4893-8d9e-d00058f69c80",
   "metadata": {},
   "source": [
    "### Reason 2: Staging while finalizing"
   ]
  },
  {
   "cell_type": "markdown",
   "id": "7a3bc7ff-239b-463d-850a-57bb60e98251",
   "metadata": {},
   "source": [
    "Currently users must completely stop staging data while finalize_staged_data is invoked. Now they can stage a batch of data, call finalize_staged_data to write it, and while the finalization is running continue to stage the next batch of data."
   ]
  },
  {
   "cell_type": "code",
   "execution_count": 37,
   "id": "b88831fd-d9ec-4bac-a726-a5350ba9add1",
   "metadata": {},
   "outputs": [],
   "source": [
    "def create_worker_for_date(date, rows):\n",
    "        lib = get_lib()\n",
    "        df = make_df(rows=rows, cols=3, start_date=date)\n",
    "        stage_result = lib.stage(sym,df)\n",
    "\n",
    "def create_compact_worker(stage_results=None):\n",
    "        lib = get_lib()\n",
    "        lib.finalize_staged_data(sym, stage_results=stage_results)"
   ]
  },
  {
   "cell_type": "markdown",
   "id": "33477529-327f-40f9-840d-5f721afcbb70",
   "metadata": {},
   "source": [
    "##### Currently finalizing while a stage is going on is not allowed because the result is unexpected"
   ]
  },
  {
   "cell_type": "code",
   "execution_count": 38,
   "id": "48ae3c72-cf00-4c29-a432-15bf01f1b22f",
   "metadata": {},
   "outputs": [
    {
     "data": {
      "text/html": [
       "<div>\n",
       "<style scoped>\n",
       "    .dataframe tbody tr th:only-of-type {\n",
       "        vertical-align: middle;\n",
       "    }\n",
       "\n",
       "    .dataframe tbody tr th {\n",
       "        vertical-align: top;\n",
       "    }\n",
       "\n",
       "    .dataframe thead th {\n",
       "        text-align: right;\n",
       "    }\n",
       "</style>\n",
       "<table border=\"1\" class=\"dataframe\">\n",
       "  <thead>\n",
       "    <tr style=\"text-align: right;\">\n",
       "      <th></th>\n",
       "      <th>col_0</th>\n",
       "      <th>col_1</th>\n",
       "      <th>col_2</th>\n",
       "    </tr>\n",
       "  </thead>\n",
       "  <tbody>\n",
       "    <tr>\n",
       "      <th>2025-01-01</th>\n",
       "      <td>1</td>\n",
       "      <td>301</td>\n",
       "      <td>601</td>\n",
       "    </tr>\n",
       "    <tr>\n",
       "      <th>2025-01-02</th>\n",
       "      <td>2</td>\n",
       "      <td>302</td>\n",
       "      <td>602</td>\n",
       "    </tr>\n",
       "    <tr>\n",
       "      <th>2025-01-03</th>\n",
       "      <td>3</td>\n",
       "      <td>303</td>\n",
       "      <td>603</td>\n",
       "    </tr>\n",
       "    <tr>\n",
       "      <th>2025-01-04</th>\n",
       "      <td>4</td>\n",
       "      <td>304</td>\n",
       "      <td>604</td>\n",
       "    </tr>\n",
       "    <tr>\n",
       "      <th>2025-01-05</th>\n",
       "      <td>5</td>\n",
       "      <td>305</td>\n",
       "      <td>605</td>\n",
       "    </tr>\n",
       "    <tr>\n",
       "      <th>...</th>\n",
       "      <td>...</td>\n",
       "      <td>...</td>\n",
       "      <td>...</td>\n",
       "    </tr>\n",
       "    <tr>\n",
       "      <th>2025-10-25</th>\n",
       "      <td>298</td>\n",
       "      <td>598</td>\n",
       "      <td>898</td>\n",
       "    </tr>\n",
       "    <tr>\n",
       "      <th>2025-10-26</th>\n",
       "      <td>299</td>\n",
       "      <td>599</td>\n",
       "      <td>899</td>\n",
       "    </tr>\n",
       "    <tr>\n",
       "      <th>2025-10-27</th>\n",
       "      <td>300</td>\n",
       "      <td>600</td>\n",
       "      <td>900</td>\n",
       "    </tr>\n",
       "    <tr>\n",
       "      <th>2028-01-01</th>\n",
       "      <td>1</td>\n",
       "      <td>301</td>\n",
       "      <td>601</td>\n",
       "    </tr>\n",
       "    <tr>\n",
       "      <th>2028-01-02</th>\n",
       "      <td>2</td>\n",
       "      <td>302</td>\n",
       "      <td>602</td>\n",
       "    </tr>\n",
       "  </tbody>\n",
       "</table>\n",
       "<p>302 rows × 3 columns</p>\n",
       "</div>"
      ],
      "text/plain": [
       "            col_0  col_1  col_2\n",
       "2025-01-01      1    301    601\n",
       "2025-01-02      2    302    602\n",
       "2025-01-03      3    303    603\n",
       "2025-01-04      4    304    604\n",
       "2025-01-05      5    305    605\n",
       "...           ...    ...    ...\n",
       "2025-10-25    298    598    898\n",
       "2025-10-26    299    599    899\n",
       "2025-10-27    300    600    900\n",
       "2028-01-01      1    301    601\n",
       "2028-01-02      2    302    602\n",
       "\n",
       "[302 rows x 3 columns]"
      ]
     },
     "execution_count": 38,
     "metadata": {},
     "output_type": "execute_result"
    }
   ],
   "source": [
    "lib.stage(sym, make_df(300, 3, \"2025-01-01\"))\n",
    "stage_worker = Process(target=create_worker_for_date, args=(\"2028-01-01\", 300))\n",
    "compact_worker = Process(target=create_compact_worker)\n",
    "\n",
    "stage_worker.start()\n",
    "compact_worker.start()\n",
    "\n",
    "stage_worker.join()\n",
    "compact_worker.join()\n",
    "\n",
    "lib.read(sym).data"
   ]
  },
  {
   "cell_type": "code",
   "execution_count": 39,
   "id": "d7b15cdd-4b77-4a65-9fdf-73fa71714d40",
   "metadata": {},
   "outputs": [],
   "source": [
    "clear_lib()"
   ]
  },
  {
   "cell_type": "markdown",
   "id": "14d5fcab-148a-468e-8acf-e61729500dbd",
   "metadata": {},
   "source": [
    "##### This can now be solved with the tokens"
   ]
  },
  {
   "cell_type": "code",
   "execution_count": 40,
   "id": "97e026c2-bf14-4fa2-80b8-9ada623a8654",
   "metadata": {},
   "outputs": [
    {
     "data": {
      "text/html": [
       "<div>\n",
       "<style scoped>\n",
       "    .dataframe tbody tr th:only-of-type {\n",
       "        vertical-align: middle;\n",
       "    }\n",
       "\n",
       "    .dataframe tbody tr th {\n",
       "        vertical-align: top;\n",
       "    }\n",
       "\n",
       "    .dataframe thead th {\n",
       "        text-align: right;\n",
       "    }\n",
       "</style>\n",
       "<table border=\"1\" class=\"dataframe\">\n",
       "  <thead>\n",
       "    <tr style=\"text-align: right;\">\n",
       "      <th></th>\n",
       "      <th>col_0</th>\n",
       "      <th>col_1</th>\n",
       "      <th>col_2</th>\n",
       "    </tr>\n",
       "  </thead>\n",
       "  <tbody>\n",
       "    <tr>\n",
       "      <th>2025-01-01</th>\n",
       "      <td>1</td>\n",
       "      <td>301</td>\n",
       "      <td>601</td>\n",
       "    </tr>\n",
       "    <tr>\n",
       "      <th>2025-01-02</th>\n",
       "      <td>2</td>\n",
       "      <td>302</td>\n",
       "      <td>602</td>\n",
       "    </tr>\n",
       "    <tr>\n",
       "      <th>2025-01-03</th>\n",
       "      <td>3</td>\n",
       "      <td>303</td>\n",
       "      <td>603</td>\n",
       "    </tr>\n",
       "    <tr>\n",
       "      <th>2025-01-04</th>\n",
       "      <td>4</td>\n",
       "      <td>304</td>\n",
       "      <td>604</td>\n",
       "    </tr>\n",
       "    <tr>\n",
       "      <th>2025-01-05</th>\n",
       "      <td>5</td>\n",
       "      <td>305</td>\n",
       "      <td>605</td>\n",
       "    </tr>\n",
       "    <tr>\n",
       "      <th>...</th>\n",
       "      <td>...</td>\n",
       "      <td>...</td>\n",
       "      <td>...</td>\n",
       "    </tr>\n",
       "    <tr>\n",
       "      <th>2025-10-23</th>\n",
       "      <td>296</td>\n",
       "      <td>596</td>\n",
       "      <td>896</td>\n",
       "    </tr>\n",
       "    <tr>\n",
       "      <th>2025-10-24</th>\n",
       "      <td>297</td>\n",
       "      <td>597</td>\n",
       "      <td>897</td>\n",
       "    </tr>\n",
       "    <tr>\n",
       "      <th>2025-10-25</th>\n",
       "      <td>298</td>\n",
       "      <td>598</td>\n",
       "      <td>898</td>\n",
       "    </tr>\n",
       "    <tr>\n",
       "      <th>2025-10-26</th>\n",
       "      <td>299</td>\n",
       "      <td>599</td>\n",
       "      <td>899</td>\n",
       "    </tr>\n",
       "    <tr>\n",
       "      <th>2025-10-27</th>\n",
       "      <td>300</td>\n",
       "      <td>600</td>\n",
       "      <td>900</td>\n",
       "    </tr>\n",
       "  </tbody>\n",
       "</table>\n",
       "<p>300 rows × 3 columns</p>\n",
       "</div>"
      ],
      "text/plain": [
       "            col_0  col_1  col_2\n",
       "2025-01-01      1    301    601\n",
       "2025-01-02      2    302    602\n",
       "2025-01-03      3    303    603\n",
       "2025-01-04      4    304    604\n",
       "2025-01-05      5    305    605\n",
       "...           ...    ...    ...\n",
       "2025-10-23    296    596    896\n",
       "2025-10-24    297    597    897\n",
       "2025-10-25    298    598    898\n",
       "2025-10-26    299    599    899\n",
       "2025-10-27    300    600    900\n",
       "\n",
       "[300 rows x 3 columns]"
      ]
     },
     "execution_count": 40,
     "metadata": {},
     "output_type": "execute_result"
    }
   ],
   "source": [
    "stage_result = lib.stage(sym, make_df(300, 3, \"2025-01-01\"))\n",
    "stage_worker = Process(target=create_worker_for_date, args=(\"2028-01-01\", 300))\n",
    "compact_worker = Process(target=create_compact_worker, args=([stage_result],)) # Same as above, but here we pass in stage_result into finalize\n",
    "\n",
    "stage_worker.start()\n",
    "compact_worker.start()\n",
    "\n",
    "stage_worker.join()\n",
    "compact_worker.join()\n",
    "\n",
    "lib.read(sym).data"
   ]
  },
  {
   "cell_type": "markdown",
   "id": "07d1a460-5282-49df-9c5c-5d0191cde450",
   "metadata": {},
   "source": [
    "### Reason 3: Performance"
   ]
  },
  {
   "cell_type": "markdown",
   "id": "18620ce9-6d6e-472e-bc55-b067448b6f5f",
   "metadata": {},
   "source": [
    "There is a performance improvement with the new API. By providing the staged tokens, it is no longer needed to list all keys for staged data as they are provided in the StageResult structure."
   ]
  }
 ],
 "metadata": {
  "kernelspec": {
   "display_name": "1) AHL Lab 311-1 | Recommended",
   "language": "python",
   "name": "manlab_311_1"
  },
  "language_info": {
   "codemirror_mode": {
    "name": "ipython",
    "version": 3
   },
   "file_extension": ".py",
   "mimetype": "text/x-python",
   "name": "python",
   "nbconvert_exporter": "python",
   "pygments_lexer": "ipython3",
   "version": "3.11.11"
  }
 },
 "nbformat": 4,
 "nbformat_minor": 5
}
